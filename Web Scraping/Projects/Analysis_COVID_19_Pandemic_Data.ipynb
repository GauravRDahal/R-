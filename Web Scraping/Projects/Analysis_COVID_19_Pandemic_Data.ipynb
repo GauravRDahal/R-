{
  "nbformat": 4,
  "nbformat_minor": 0,
  "metadata": {
    "colab": {
      "provenance": []
    },
    "kernelspec": {
      "name": "ir",
      "display_name": "R"
    },
    "language_info": {
      "name": "R"
    }
  },
  "cells": [
    {
      "cell_type": "markdown",
      "source": [
        "# **Analysis of Global COVID-19 Pandemic Data**\n",
        "\n",
        "This project is part of Introduction to R Programming for Data Science(https://www.coursera.org/learn/introducton-r-programming-data-science/)"
      ],
      "metadata": {
        "id": "rvUueq25XjSl"
      }
    },
    {
      "cell_type": "code",
      "source": [
        "install.packages(\"curl\")"
      ],
      "metadata": {
        "colab": {
          "base_uri": "https://localhost:8080/"
        },
        "id": "JfsBqsN4XnEk",
        "outputId": "aa1e7bc9-dcf5-47d3-babe-956c8e69096a"
      },
      "execution_count": 1,
      "outputs": [
        {
          "output_type": "stream",
          "name": "stderr",
          "text": [
            "Installing package into ‘/usr/local/lib/R/site-library’\n",
            "(as ‘lib’ is unspecified)\n",
            "\n"
          ]
        }
      ]
    },
    {
      "cell_type": "code",
      "source": [
        "library(curl)"
      ],
      "metadata": {
        "colab": {
          "base_uri": "https://localhost:8080/"
        },
        "id": "XNWQuxbhXnFi",
        "outputId": "feefa6ba-4a55-4559-b288-b4cf8ba764b6"
      },
      "execution_count": 2,
      "outputs": [
        {
          "output_type": "stream",
          "name": "stderr",
          "text": [
            "Using libcurl 7.81.0 with OpenSSL/3.0.2\n",
            "\n"
          ]
        }
      ]
    },
    {
      "cell_type": "code",
      "source": [
        "install.packages(\"httr\")"
      ],
      "metadata": {
        "colab": {
          "base_uri": "https://localhost:8080/"
        },
        "id": "74ekv2fMXnKT",
        "outputId": "9abf20ab-4a59-4523-b33a-5b6e15712481"
      },
      "execution_count": 3,
      "outputs": [
        {
          "output_type": "stream",
          "name": "stderr",
          "text": [
            "Installing package into ‘/usr/local/lib/R/site-library’\n",
            "(as ‘lib’ is unspecified)\n",
            "\n"
          ]
        }
      ]
    },
    {
      "cell_type": "code",
      "source": [
        "library(httr)"
      ],
      "metadata": {
        "colab": {
          "base_uri": "https://localhost:8080/"
        },
        "id": "uo5KK1rTXnLh",
        "outputId": "96a08a66-23f7-4999-db04-a1783f3a367a"
      },
      "execution_count": 4,
      "outputs": [
        {
          "output_type": "stream",
          "name": "stderr",
          "text": [
            "\n",
            "Attaching package: ‘httr’\n",
            "\n",
            "\n",
            "The following object is masked from ‘package:curl’:\n",
            "\n",
            "    handle_reset\n",
            "\n",
            "\n"
          ]
        }
      ]
    },
    {
      "cell_type": "code",
      "source": [
        "install.packages(\"rvest\")"
      ],
      "metadata": {
        "colab": {
          "base_uri": "https://localhost:8080/"
        },
        "id": "cX2HPikNXnPx",
        "outputId": "11ac22cd-1059-4775-dfe4-2f919f4a03df"
      },
      "execution_count": 6,
      "outputs": [
        {
          "output_type": "stream",
          "name": "stderr",
          "text": [
            "Installing package into ‘/usr/local/lib/R/site-library’\n",
            "(as ‘lib’ is unspecified)\n",
            "\n",
            "Installing package into ‘/usr/local/lib/R/site-library’\n",
            "(as ‘lib’ is unspecified)\n",
            "\n"
          ]
        }
      ]
    },
    {
      "cell_type": "code",
      "source": [
        "library(rvest)"
      ],
      "metadata": {
        "id": "lnrCamRAXnRo"
      },
      "execution_count": 7,
      "outputs": []
    },
    {
      "cell_type": "markdown",
      "source": [
        "# Get a COVID-19 pandemic Wiki page using HTTP request\n",
        "\n",
        "Call the get_wiki_covid19_page function to get a http response with the target html page"
      ],
      "metadata": {
        "id": "4XaV-X-9YMIa"
      }
    },
    {
      "cell_type": "code",
      "source": [
        "# Call the get_wiki_covid19_page function and print the response\n",
        "covid19_url <- \"https://en.wikipedia.org/w/index.php?title=Template:COVID-19_testing_by_country\"\n",
        "response <- GET(covid19_url)\n",
        "response"
      ],
      "metadata": {
        "colab": {
          "base_uri": "https://localhost:8080/",
          "height": 295
        },
        "id": "ak0KDrX1XnVA",
        "outputId": "f5003fb0-c8ba-43b2-a2f5-c812d41136f1"
      },
      "execution_count": 13,
      "outputs": [
        {
          "output_type": "display_data",
          "data": {
            "text/plain": [
              "Response [https://en.wikipedia.org/w/index.php?title=Template:COVID-19_testing_by_country]\n",
              "  Date: 2024-07-18 05:47\n",
              "  Status: 200\n",
              "  Content-Type: text/html; charset=UTF-8\n",
              "  Size: 451 kB\n",
              "<!DOCTYPE html>\n",
              "<html class=\"client-nojs vector-feature-language-in-header-enabled vector-fea...\n",
              "<head>\n",
              "<meta charset=\"UTF-8\">\n",
              "<title>Template:COVID-19 testing by country - Wikipedia</title>\n",
              "<script>(function(){var className=\"client-js vector-feature-language-in-heade...\n",
              "\"\",\"\"],\"wgDefaultDateFormat\":\"dmy\",\"wgMonthNames\":[\"\",\"January\",\"February\",\"M...\n",
              "\"CS1 uses Russian-language script (ru)\",\"CS1 Russian-language sources (ru)\",\"...\n",
              ",\"CS1 Lithuanian-language sources (lt)\",\"CS1 Malagasy-language sources (mg)\",...\n",
              "\"wgRelevantArticleId\":63303421,\"wgIsProbablyEditable\":false,\"wgRelevantPageIs...\n",
              "..."
            ]
          },
          "metadata": {}
        }
      ]
    },
    {
      "cell_type": "markdown",
      "source": [
        "\n",
        "# TASK 2: Extract COVID-19 testing data table from the wiki HTML page\n",
        "\n",
        "\n",
        "On the COVID-19 testing wiki page, you should see a data table <table> node contains COVID-19 testing data by country on the page:"
      ],
      "metadata": {
        "id": "pjR787ITYbOX"
      }
    },
    {
      "cell_type": "markdown",
      "source": [
        "The goal of task 2 is to extract above data table and convert it into a data frame\n",
        "\n",
        "Now use the read_html function in rvest library to get the root html node from response"
      ],
      "metadata": {
        "id": "Kf9BJz-vYyqI"
      }
    },
    {
      "cell_type": "code",
      "source": [
        "# Get the root html node from the http response in task 1\n",
        "wiki_node <- read_html( \"https://en.wikipedia.org/w/index.php?title=Template:COVID-19_testing_by_country\")\n",
        "wiki_node"
      ],
      "metadata": {
        "colab": {
          "base_uri": "https://localhost:8080/",
          "height": 138
        },
        "id": "4IEEVp7SXnWs",
        "outputId": "25d66c9d-8e60-4bf9-c7ac-0090e7a4cda2"
      },
      "execution_count": 35,
      "outputs": [
        {
          "output_type": "display_data",
          "data": {
            "text/plain": [
              "{html_document}\n",
              "<html class=\"client-nojs vector-feature-language-in-header-enabled vector-feature-language-in-main-page-header-disabled vector-feature-sticky-header-disabled vector-feature-page-tools-pinned-disabled vector-feature-toc-pinned-clientpref-1 vector-feature-main-menu-pinned-disabled vector-feature-limited-width-clientpref-1 vector-feature-limited-width-content-enabled vector-feature-custom-font-size-clientpref-1 vector-feature-appearance-enabled vector-feature-appearance-pinned-clientpref-1 vector-feature-night-mode-enabled skin-theme-clientpref-day vector-toc-available\" lang=\"en\" dir=\"ltr\">\n",
              "[1] <head>\\n<meta http-equiv=\"Content-Type\" content=\"text/html; charset=UTF-8 ...\n",
              "[2] <body class=\"skin--responsive skin-vector skin-vector-search-vue mediawik ..."
            ]
          },
          "metadata": {}
        }
      ]
    },
    {
      "cell_type": "code",
      "source": [
        "# Get the table node from the root html node\n",
        "covid19_table_node <- html_nodes(wiki_node, \"table\")\n",
        "covid19_table_node"
      ],
      "metadata": {
        "colab": {
          "base_uri": "https://localhost:8080/",
          "height": 104
        },
        "id": "NfI4ncp-Y2m1",
        "outputId": "434616f9-7df4-4bbc-e361-f64bffc57264"
      },
      "execution_count": 38,
      "outputs": [
        {
          "output_type": "display_data",
          "data": {
            "text/plain": [
              "{xml_nodeset (4)}\n",
              "[1] <table class=\"box-Update plainlinks ombox ombox-content ambox-Update\" rol ...\n",
              "[2] <table class=\"wikitable plainrowheaders sortable collapsible autocollapse ...\n",
              "[3] <table class=\"plainlinks ombox mbox-small ombox-notice\" role=\"presentatio ...\n",
              "[4] <table class=\"wikitable mw-templatedata-doc-params\">\\n<caption><p class=\" ..."
            ]
          },
          "metadata": {}
        }
      ]
    },
    {
      "cell_type": "code",
      "source": [
        "# Read the table node and convert it into a data frame, and print the data frame for review\n",
        "covid19_data_frame <- as.data.frame(html_table(table_node[2]))\n",
        "head(covid19_data_frame)"
      ],
      "metadata": {
        "colab": {
          "base_uri": "https://localhost:8080/",
          "height": 286
        },
        "id": "nw7-DYkKY2nr",
        "outputId": "9c628f62-c445-4c52-e2f5-40361574fe85"
      },
      "execution_count": 39,
      "outputs": [
        {
          "output_type": "display_data",
          "data": {
            "text/html": [
              "<table class=\"dataframe\">\n",
              "<caption>A data.frame: 6 × 9</caption>\n",
              "<thead>\n",
              "\t<tr><th></th><th scope=col>Country.or.region</th><th scope=col>Date.a.</th><th scope=col>Tested</th><th scope=col>Units.b.</th><th scope=col>Confirmed.cases.</th><th scope=col>Confirmed..tested..</th><th scope=col>Tested..population..</th><th scope=col>Confirmed..population..</th><th scope=col>Ref.</th></tr>\n",
              "\t<tr><th></th><th scope=col>&lt;chr&gt;</th><th scope=col>&lt;chr&gt;</th><th scope=col>&lt;chr&gt;</th><th scope=col>&lt;chr&gt;</th><th scope=col>&lt;chr&gt;</th><th scope=col>&lt;chr&gt;</th><th scope=col>&lt;chr&gt;</th><th scope=col>&lt;chr&gt;</th><th scope=col>&lt;chr&gt;</th></tr>\n",
              "</thead>\n",
              "<tbody>\n",
              "\t<tr><th scope=row>1</th><td>Afghanistan        </td><td>17 Dec 2020</td><td>154,767</td><td>samples</td><td>49,621</td><td>32.1</td><td>0.40</td><td>0.13 </td><td>[1]   </td></tr>\n",
              "\t<tr><th scope=row>2</th><td>Albania            </td><td>18 Feb 2021</td><td>428,654</td><td>samples</td><td>96,838</td><td>22.6</td><td>15.0</td><td>3.4  </td><td>[2]   </td></tr>\n",
              "\t<tr><th scope=row>3</th><td>Algeria            </td><td>2 Nov 2020 </td><td>230,553</td><td>samples</td><td>58,574</td><td>25.4</td><td>0.53</td><td>0.13 </td><td>[3][4]</td></tr>\n",
              "\t<tr><th scope=row>4</th><td>Andorra            </td><td>23 Feb 2022</td><td>300,307</td><td>samples</td><td>37,958</td><td>12.6</td><td>387 </td><td>49.0 </td><td>[5]   </td></tr>\n",
              "\t<tr><th scope=row>5</th><td>Angola             </td><td>2 Feb 2021 </td><td>399,228</td><td>samples</td><td>20,981</td><td>5.3 </td><td>1.3 </td><td>0.067</td><td>[6]   </td></tr>\n",
              "\t<tr><th scope=row>6</th><td>Antigua and Barbuda</td><td>6 Mar 2021 </td><td>15,268 </td><td>samples</td><td>832   </td><td>5.4 </td><td>15.9</td><td>0.86 </td><td>[7]   </td></tr>\n",
              "</tbody>\n",
              "</table>\n"
            ],
            "text/markdown": "\nA data.frame: 6 × 9\n\n| <!--/--> | Country.or.region &lt;chr&gt; | Date.a. &lt;chr&gt; | Tested &lt;chr&gt; | Units.b. &lt;chr&gt; | Confirmed.cases. &lt;chr&gt; | Confirmed..tested.. &lt;chr&gt; | Tested..population.. &lt;chr&gt; | Confirmed..population.. &lt;chr&gt; | Ref. &lt;chr&gt; |\n|---|---|---|---|---|---|---|---|---|---|\n| 1 | Afghanistan         | 17 Dec 2020 | 154,767 | samples | 49,621 | 32.1 | 0.40 | 0.13  | [1]    |\n| 2 | Albania             | 18 Feb 2021 | 428,654 | samples | 96,838 | 22.6 | 15.0 | 3.4   | [2]    |\n| 3 | Algeria             | 2 Nov 2020  | 230,553 | samples | 58,574 | 25.4 | 0.53 | 0.13  | [3][4] |\n| 4 | Andorra             | 23 Feb 2022 | 300,307 | samples | 37,958 | 12.6 | 387  | 49.0  | [5]    |\n| 5 | Angola              | 2 Feb 2021  | 399,228 | samples | 20,981 | 5.3  | 1.3  | 0.067 | [6]    |\n| 6 | Antigua and Barbuda | 6 Mar 2021  | 15,268  | samples | 832    | 5.4  | 15.9 | 0.86  | [7]    |\n\n",
            "text/latex": "A data.frame: 6 × 9\n\\begin{tabular}{r|lllllllll}\n  & Country.or.region & Date.a. & Tested & Units.b. & Confirmed.cases. & Confirmed..tested.. & Tested..population.. & Confirmed..population.. & Ref.\\\\\n  & <chr> & <chr> & <chr> & <chr> & <chr> & <chr> & <chr> & <chr> & <chr>\\\\\n\\hline\n\t1 & Afghanistan         & 17 Dec 2020 & 154,767 & samples & 49,621 & 32.1 & 0.40 & 0.13  & {[}1{]}   \\\\\n\t2 & Albania             & 18 Feb 2021 & 428,654 & samples & 96,838 & 22.6 & 15.0 & 3.4   & {[}2{]}   \\\\\n\t3 & Algeria             & 2 Nov 2020  & 230,553 & samples & 58,574 & 25.4 & 0.53 & 0.13  & {[}3{]}{[}4{]}\\\\\n\t4 & Andorra             & 23 Feb 2022 & 300,307 & samples & 37,958 & 12.6 & 387  & 49.0  & {[}5{]}   \\\\\n\t5 & Angola              & 2 Feb 2021  & 399,228 & samples & 20,981 & 5.3  & 1.3  & 0.067 & {[}6{]}   \\\\\n\t6 & Antigua and Barbuda & 6 Mar 2021  & 15,268  & samples & 832    & 5.4  & 15.9 & 0.86  & {[}7{]}   \\\\\n\\end{tabular}\n",
            "text/plain": [
              "  Country.or.region   Date.a.     Tested  Units.b. Confirmed.cases.\n",
              "1 Afghanistan         17 Dec 2020 154,767 samples  49,621          \n",
              "2 Albania             18 Feb 2021 428,654 samples  96,838          \n",
              "3 Algeria             2 Nov 2020  230,553 samples  58,574          \n",
              "4 Andorra             23 Feb 2022 300,307 samples  37,958          \n",
              "5 Angola              2 Feb 2021  399,228 samples  20,981          \n",
              "6 Antigua and Barbuda 6 Mar 2021  15,268  samples  832             \n",
              "  Confirmed..tested.. Tested..population.. Confirmed..population.. Ref.  \n",
              "1 32.1                0.40                 0.13                    [1]   \n",
              "2 22.6                15.0                 3.4                     [2]   \n",
              "3 25.4                0.53                 0.13                    [3][4]\n",
              "4 12.6                387                  49.0                    [5]   \n",
              "5 5.3                 1.3                  0.067                   [6]   \n",
              "6 5.4                 15.9                 0.86                    [7]   "
            ]
          },
          "metadata": {}
        }
      ]
    },
    {
      "cell_type": "markdown",
      "source": [
        "### TASK 3: Pre-process and export the extracted data frame\n",
        "\n",
        "Pre-process the extracted data frame from the previous step, and export it as a csv file"
      ],
      "metadata": {
        "id": "Rym1SnF3bihF"
      }
    },
    {
      "cell_type": "code",
      "source": [
        "# Print the summary of the data frame\n",
        "summary(covid19_data_frame)"
      ],
      "metadata": {
        "colab": {
          "base_uri": "https://localhost:8080/",
          "height": 225
        },
        "id": "QMzBcbZjZlWa",
        "outputId": "363ac191-7c0c-4c71-f4bf-44cf9151d779"
      },
      "execution_count": 40,
      "outputs": [
        {
          "output_type": "display_data",
          "data": {
            "text/plain": [
              " Country.or.region    Date.a.             Tested            Units.b.        \n",
              " Length:173         Length:173         Length:173         Length:173        \n",
              " Class :character   Class :character   Class :character   Class :character  \n",
              " Mode  :character   Mode  :character   Mode  :character   Mode  :character  \n",
              " Confirmed.cases.   Confirmed..tested.. Tested..population..\n",
              " Length:173         Length:173          Length:173          \n",
              " Class :character   Class :character    Class :character    \n",
              " Mode  :character   Mode  :character    Mode  :character    \n",
              " Confirmed..population..     Ref.          \n",
              " Length:173              Length:173        \n",
              " Class :character        Class :character  \n",
              " Mode  :character        Mode  :character  "
            ]
          },
          "metadata": {}
        }
      ]
    },
    {
      "cell_type": "code",
      "source": [
        "preprocess_covid_data_frame <- function(data_frame) {\n",
        "\n",
        "    shape <- dim(data_frame)\n",
        "\n",
        "    # Remove the World row\n",
        "     data_frame <- data_frame[!(data_frame$`Country.or.region`==\"World\"),]\n",
        "    # Remove the last row\n",
        "    data_frame <- data_frame[1:172, ]\n",
        "\n",
        "    # We dont need the Units and Ref columns, so can be removed\n",
        "    data_frame[\"Ref.\"] <- NULL\n",
        "    data_frame[\"Units.b.\"] <- NULL\n",
        "\n",
        "     # Renaming the columns\n",
        "    names(data_frame) <- c(\"country\", \"date\", \"tested\", \"confirmed\", \"confirmed.tested.ratio\", \"tested.population.ratio\", \"confirmed.population.ratio\")\n",
        "\n",
        "    # Convert column data types\n",
        "    # Convert column data types\n",
        "   data_frame$country <- as.factor(data_frame$country)\n",
        "    data_frame$date <- as.factor(data_frame$date)\n",
        "    data_frame$tested <- as.numeric(gsub(\",\",\"\",data_frame$tested))\n",
        "    data_frame$confirmed <- as.numeric(gsub(\",\",\"\",data_frame$confirmed))\n",
        "    data_frame$'confirmed.tested.ratio' <- as.numeric(gsub(\",\",\"\",data_frame$`confirmed.tested.ratio`))\n",
        "    data_frame$'tested.population.ratio' <- as.numeric(gsub(\",\",\"\",data_frame$`tested.population.ratio`))\n",
        "    data_frame$'confirmed.population.ratio' <- as.numeric(gsub(\",\",\"\",data_frame$`confirmed.population.ratio`))\n",
        "\n",
        "    return(data_frame)\n",
        "}"
      ],
      "metadata": {
        "id": "sT9VVGUJc4Iu"
      },
      "execution_count": 42,
      "outputs": []
    },
    {
      "cell_type": "code",
      "source": [
        "# call `preprocess_covid_data_frame` function and assign it to a new data frame\n",
        "wiki_covid19_data_frame <- preprocess_covid_data_frame(covid19_data_frame)\n",
        "wiki_covid19_data_frame"
      ],
      "metadata": {
        "colab": {
          "base_uri": "https://localhost:8080/",
          "height": 1000
        },
        "id": "Wju4PsYwY2sX",
        "outputId": "e18dd570-250b-462d-c851-6661533f0fed"
      },
      "execution_count": 43,
      "outputs": [
        {
          "output_type": "display_data",
          "data": {
            "text/html": [
              "<table class=\"dataframe\">\n",
              "<caption>A data.frame: 172 × 7</caption>\n",
              "<thead>\n",
              "\t<tr><th></th><th scope=col>country</th><th scope=col>date</th><th scope=col>tested</th><th scope=col>confirmed</th><th scope=col>confirmed.tested.ratio</th><th scope=col>tested.population.ratio</th><th scope=col>confirmed.population.ratio</th></tr>\n",
              "\t<tr><th></th><th scope=col>&lt;fct&gt;</th><th scope=col>&lt;fct&gt;</th><th scope=col>&lt;dbl&gt;</th><th scope=col>&lt;dbl&gt;</th><th scope=col>&lt;dbl&gt;</th><th scope=col>&lt;dbl&gt;</th><th scope=col>&lt;dbl&gt;</th></tr>\n",
              "</thead>\n",
              "<tbody>\n",
              "\t<tr><th scope=row>1</th><td>Afghanistan           </td><td>17 Dec 2020</td><td>   154767</td><td>   49621</td><td>32.10</td><td>   0.40</td><td> 0.1300</td></tr>\n",
              "\t<tr><th scope=row>2</th><td>Albania               </td><td>18 Feb 2021</td><td>   428654</td><td>   96838</td><td>22.60</td><td>  15.00</td><td> 3.4000</td></tr>\n",
              "\t<tr><th scope=row>3</th><td>Algeria               </td><td>2 Nov 2020 </td><td>   230553</td><td>   58574</td><td>25.40</td><td>   0.53</td><td> 0.1300</td></tr>\n",
              "\t<tr><th scope=row>4</th><td>Andorra               </td><td>23 Feb 2022</td><td>   300307</td><td>   37958</td><td>12.60</td><td> 387.00</td><td>49.0000</td></tr>\n",
              "\t<tr><th scope=row>5</th><td>Angola                </td><td>2 Feb 2021 </td><td>   399228</td><td>   20981</td><td> 5.30</td><td>   1.30</td><td> 0.0670</td></tr>\n",
              "\t<tr><th scope=row>6</th><td>Antigua and Barbuda   </td><td>6 Mar 2021 </td><td>    15268</td><td>     832</td><td> 5.40</td><td>  15.90</td><td> 0.8600</td></tr>\n",
              "\t<tr><th scope=row>7</th><td>Argentina             </td><td>16 Apr 2022</td><td> 35716069</td><td> 9060495</td><td>25.40</td><td>  78.30</td><td>20.0000</td></tr>\n",
              "\t<tr><th scope=row>8</th><td>Armenia               </td><td>29 May 2022</td><td>  3099602</td><td>  422963</td><td>13.60</td><td> 105.00</td><td>14.3000</td></tr>\n",
              "\t<tr><th scope=row>9</th><td>Australia             </td><td>9 Sep 2022 </td><td> 78548492</td><td>10112229</td><td>12.90</td><td> 313.00</td><td>40.3000</td></tr>\n",
              "\t<tr><th scope=row>10</th><td>Austria               </td><td>1 Feb 2023 </td><td>205817752</td><td> 5789991</td><td> 2.80</td><td>2312.00</td><td>65.0000</td></tr>\n",
              "\t<tr><th scope=row>11</th><td>Azerbaijan            </td><td>11 May 2022</td><td>  6838458</td><td>  792638</td><td>11.60</td><td>  69.10</td><td> 8.0000</td></tr>\n",
              "\t<tr><th scope=row>12</th><td>Bahamas               </td><td>28 Nov 2022</td><td>   259366</td><td>   37483</td><td>14.50</td><td>  67.30</td><td> 9.7000</td></tr>\n",
              "\t<tr><th scope=row>13</th><td>Bahrain               </td><td>3 Dec 2022 </td><td> 10578766</td><td>  696614</td><td> 6.60</td><td> 674.00</td><td>44.4000</td></tr>\n",
              "\t<tr><th scope=row>14</th><td>Bangladesh            </td><td>24 Jul 2021</td><td>  7417714</td><td> 1151644</td><td>15.50</td><td>   4.50</td><td> 0.7000</td></tr>\n",
              "\t<tr><th scope=row>15</th><td>Barbados              </td><td>14 Oct 2022</td><td>   770100</td><td>  103014</td><td>13.40</td><td> 268.00</td><td>35.9000</td></tr>\n",
              "\t<tr><th scope=row>16</th><td>Belarus               </td><td>9 May 2022 </td><td> 13217569</td><td>  982809</td><td> 7.40</td><td> 139.00</td><td>10.4000</td></tr>\n",
              "\t<tr><th scope=row>17</th><td>Belgium               </td><td>24 Jan 2023</td><td> 36548544</td><td> 4691499</td><td>12.80</td><td> 317.00</td><td>40.7000</td></tr>\n",
              "\t<tr><th scope=row>18</th><td>Belize                </td><td>8 Jun 2022 </td><td>   572900</td><td>   60694</td><td>10.60</td><td> 140.00</td><td>14.9000</td></tr>\n",
              "\t<tr><th scope=row>19</th><td>Benin                 </td><td>4 May 2021 </td><td>   595112</td><td>    7884</td><td> 1.30</td><td>   5.10</td><td> 0.0670</td></tr>\n",
              "\t<tr><th scope=row>20</th><td>Bhutan                </td><td>28 Feb 2022</td><td>  1736168</td><td>   12702</td><td> 0.73</td><td> 234.00</td><td> 1.7100</td></tr>\n",
              "\t<tr><th scope=row>21</th><td>Bolivia               </td><td>5 Jun 2022 </td><td>  4358669</td><td>  910228</td><td>20.90</td><td>  38.10</td><td> 8.0000</td></tr>\n",
              "\t<tr><th scope=row>22</th><td>Bosnia and Herzegovina</td><td>27 Sep 2022</td><td>  1872934</td><td>  399887</td><td>21.40</td><td>  54.70</td><td>11.7000</td></tr>\n",
              "\t<tr><th scope=row>23</th><td>Botswana              </td><td>11 Jan 2022</td><td>  2026898</td><td>  232432</td><td>11.50</td><td>  89.90</td><td>10.3000</td></tr>\n",
              "\t<tr><th scope=row>24</th><td>Brazil                </td><td>19 Feb 2021</td><td> 23561497</td><td>10081676</td><td>42.80</td><td>  11.20</td><td> 4.8000</td></tr>\n",
              "\t<tr><th scope=row>25</th><td>Brunei                </td><td>2 Aug 2021 </td><td>   153804</td><td>     338</td><td> 0.22</td><td>  33.50</td><td> 0.0740</td></tr>\n",
              "\t<tr><th scope=row>26</th><td>Bulgaria              </td><td>2 Feb 2023 </td><td> 10993239</td><td> 1295524</td><td>11.80</td><td> 158.00</td><td>18.6000</td></tr>\n",
              "\t<tr><th scope=row>27</th><td>Burkina Faso          </td><td>4 Mar 2021 </td><td>   158777</td><td>   12123</td><td> 7.60</td><td>   0.76</td><td> 0.0580</td></tr>\n",
              "\t<tr><th scope=row>28</th><td>Burundi               </td><td>5 Jan 2021 </td><td>    90019</td><td>     884</td><td> 0.98</td><td>   0.76</td><td> 0.0074</td></tr>\n",
              "\t<tr><th scope=row>29</th><td>Cambodia              </td><td>1 Aug 2021 </td><td>  1812706</td><td>   77914</td><td> 4.30</td><td>  11.20</td><td> 0.4800</td></tr>\n",
              "\t<tr><th scope=row>30</th><td>Cameroon              </td><td>18 Feb 2021</td><td>   942685</td><td>   32681</td><td> 3.50</td><td>   3.60</td><td> 0.1200</td></tr>\n",
              "\t<tr><th scope=row>⋮</th><td>⋮</td><td>⋮</td><td>⋮</td><td>⋮</td><td>⋮</td><td>⋮</td><td>⋮</td></tr>\n",
              "\t<tr><th scope=row>143</th><td>Serbia              </td><td>2 Feb 2023 </td><td> 12185475</td><td> 2473599</td><td>20.30</td><td> 175.0000</td><td>35.50000</td></tr>\n",
              "\t<tr><th scope=row>144</th><td>Singapore           </td><td>3 Aug 2021 </td><td> 16206203</td><td>   65315</td><td> 0.40</td><td> 284.0000</td><td> 1.10000</td></tr>\n",
              "\t<tr><th scope=row>145</th><td>Slovakia            </td><td>2 Feb 2023 </td><td>  7391882</td><td> 1861034</td><td>25.20</td><td> 135.0000</td><td>34.10000</td></tr>\n",
              "\t<tr><th scope=row>146</th><td>Slovenia            </td><td>2 Feb 2023 </td><td>  2826117</td><td> 1322282</td><td>46.80</td><td> 135.0000</td><td>63.10000</td></tr>\n",
              "\t<tr><th scope=row>147</th><td>South Africa        </td><td>24 May 2021</td><td> 11378282</td><td> 1637848</td><td>14.40</td><td>  19.2000</td><td> 2.80000</td></tr>\n",
              "\t<tr><th scope=row>148</th><td>South Korea         </td><td>1 Mar 2021 </td><td>  6592010</td><td>   90029</td><td> 1.40</td><td>  12.7000</td><td> 0.17000</td></tr>\n",
              "\t<tr><th scope=row>149</th><td>South Sudan         </td><td>26 May 2021</td><td>   164472</td><td>   10688</td><td> 6.50</td><td>   1.3000</td><td> 0.08400</td></tr>\n",
              "\t<tr><th scope=row>150</th><td>Spain               </td><td>1 Jul 2021 </td><td> 54128524</td><td> 3821305</td><td> 7.10</td><td> 116.0000</td><td> 8.20000</td></tr>\n",
              "\t<tr><th scope=row>151</th><td>Sri Lanka           </td><td>30 Mar 2021</td><td>  2384745</td><td>   93128</td><td> 3.90</td><td>  10.9000</td><td> 0.43000</td></tr>\n",
              "\t<tr><th scope=row>152</th><td>Sudan               </td><td>7 Jan 2021 </td><td>   158804</td><td>   23316</td><td>14.70</td><td>   0.3600</td><td> 0.05300</td></tr>\n",
              "\t<tr><th scope=row>153</th><td>Sweden              </td><td>24 May 2021</td><td>  9996795</td><td> 1074751</td><td>10.80</td><td>  96.8000</td><td>10.40000</td></tr>\n",
              "\t<tr><th scope=row>154</th><td>Switzerland[l]      </td><td>7 Nov 2022 </td><td> 23283909</td><td> 4276836</td><td>18.40</td><td> 270.0000</td><td>49.70000</td></tr>\n",
              "\t<tr><th scope=row>155</th><td>Taiwan[m]           </td><td>3 Feb 2023 </td><td> 30275725</td><td> 8622129</td><td>28.48</td><td> 128.3000</td><td>36.52800</td></tr>\n",
              "\t<tr><th scope=row>156</th><td>Tanzania            </td><td>18 Nov 2020</td><td>     3880</td><td>     509</td><td>13.10</td><td>   0.0065</td><td> 0.00085</td></tr>\n",
              "\t<tr><th scope=row>157</th><td>Thailand            </td><td>4 Mar 2021 </td><td>  1579597</td><td>   26162</td><td> 1.70</td><td>   2.3000</td><td> 0.03800</td></tr>\n",
              "\t<tr><th scope=row>158</th><td>Togo                </td><td>6 Jan 2023 </td><td>   807269</td><td>   39358</td><td> 4.90</td><td>   9.4000</td><td> 0.46000</td></tr>\n",
              "\t<tr><th scope=row>159</th><td>Trinidad and Tobago </td><td>3 Jan 2022 </td><td>   512730</td><td>   92997</td><td>18.10</td><td>  37.6000</td><td> 6.80000</td></tr>\n",
              "\t<tr><th scope=row>160</th><td>Tunisia             </td><td>23 Aug 2021</td><td>  2893625</td><td>  703732</td><td>24.30</td><td>  24.5000</td><td> 6.00000</td></tr>\n",
              "\t<tr><th scope=row>161</th><td>Turkey              </td><td>2 Jul 2021 </td><td> 61236294</td><td> 5435831</td><td> 8.90</td><td>  73.6000</td><td> 6.50000</td></tr>\n",
              "\t<tr><th scope=row>162</th><td>Uganda              </td><td>11 Feb 2021</td><td>   852444</td><td>   39979</td><td> 4.70</td><td>   1.9000</td><td> 0.08700</td></tr>\n",
              "\t<tr><th scope=row>163</th><td>Ukraine             </td><td>24 Nov 2021</td><td> 15648456</td><td> 3367461</td><td>21.50</td><td>  37.2000</td><td> 8.00000</td></tr>\n",
              "\t<tr><th scope=row>164</th><td>United Arab Emirates</td><td>1 Feb 2023 </td><td>198685717</td><td> 1049537</td><td> 0.53</td><td>2070.0000</td><td>10.90000</td></tr>\n",
              "\t<tr><th scope=row>165</th><td>United Kingdom      </td><td>19 May 2022</td><td>522526476</td><td>22232377</td><td> 4.30</td><td> 774.0000</td><td>32.90000</td></tr>\n",
              "\t<tr><th scope=row>166</th><td>United States       </td><td>29 Jul 2022</td><td>929349291</td><td>90749469</td><td> 9.80</td><td> 281.0000</td><td>27.40000</td></tr>\n",
              "\t<tr><th scope=row>167</th><td>Uruguay             </td><td>16 Apr 2022</td><td>  6089116</td><td>  895592</td><td>14.70</td><td> 175.0000</td><td>25.80000</td></tr>\n",
              "\t<tr><th scope=row>168</th><td>Uzbekistan          </td><td>7 Sep 2020 </td><td>  2630000</td><td>   43975</td><td> 1.70</td><td>   7.7000</td><td> 0.13000</td></tr>\n",
              "\t<tr><th scope=row>169</th><td>Venezuela           </td><td>30 Mar 2021</td><td>  3179074</td><td>  159149</td><td> 5.00</td><td>  11.0000</td><td> 0.55000</td></tr>\n",
              "\t<tr><th scope=row>170</th><td>Vietnam             </td><td>28 Aug 2022</td><td> 45772571</td><td>11403302</td><td>24.90</td><td>  46.4000</td><td>11.60000</td></tr>\n",
              "\t<tr><th scope=row>171</th><td>Zambia              </td><td>10 Mar 2022</td><td>  3301860</td><td>  314850</td><td> 9.50</td><td>  19.0000</td><td> 1.80000</td></tr>\n",
              "\t<tr><th scope=row>172</th><td>Zimbabwe            </td><td>15 Oct 2022</td><td>  2529087</td><td>  257893</td><td>10.20</td><td>  17.0000</td><td> 1.70000</td></tr>\n",
              "</tbody>\n",
              "</table>\n"
            ],
            "text/markdown": "\nA data.frame: 172 × 7\n\n| <!--/--> | country &lt;fct&gt; | date &lt;fct&gt; | tested &lt;dbl&gt; | confirmed &lt;dbl&gt; | confirmed.tested.ratio &lt;dbl&gt; | tested.population.ratio &lt;dbl&gt; | confirmed.population.ratio &lt;dbl&gt; |\n|---|---|---|---|---|---|---|---|\n| 1 | Afghanistan            | 17 Dec 2020 |    154767 |    49621 | 32.10 |    0.40 |  0.1300 |\n| 2 | Albania                | 18 Feb 2021 |    428654 |    96838 | 22.60 |   15.00 |  3.4000 |\n| 3 | Algeria                | 2 Nov 2020  |    230553 |    58574 | 25.40 |    0.53 |  0.1300 |\n| 4 | Andorra                | 23 Feb 2022 |    300307 |    37958 | 12.60 |  387.00 | 49.0000 |\n| 5 | Angola                 | 2 Feb 2021  |    399228 |    20981 |  5.30 |    1.30 |  0.0670 |\n| 6 | Antigua and Barbuda    | 6 Mar 2021  |     15268 |      832 |  5.40 |   15.90 |  0.8600 |\n| 7 | Argentina              | 16 Apr 2022 |  35716069 |  9060495 | 25.40 |   78.30 | 20.0000 |\n| 8 | Armenia                | 29 May 2022 |   3099602 |   422963 | 13.60 |  105.00 | 14.3000 |\n| 9 | Australia              | 9 Sep 2022  |  78548492 | 10112229 | 12.90 |  313.00 | 40.3000 |\n| 10 | Austria                | 1 Feb 2023  | 205817752 |  5789991 |  2.80 | 2312.00 | 65.0000 |\n| 11 | Azerbaijan             | 11 May 2022 |   6838458 |   792638 | 11.60 |   69.10 |  8.0000 |\n| 12 | Bahamas                | 28 Nov 2022 |    259366 |    37483 | 14.50 |   67.30 |  9.7000 |\n| 13 | Bahrain                | 3 Dec 2022  |  10578766 |   696614 |  6.60 |  674.00 | 44.4000 |\n| 14 | Bangladesh             | 24 Jul 2021 |   7417714 |  1151644 | 15.50 |    4.50 |  0.7000 |\n| 15 | Barbados               | 14 Oct 2022 |    770100 |   103014 | 13.40 |  268.00 | 35.9000 |\n| 16 | Belarus                | 9 May 2022  |  13217569 |   982809 |  7.40 |  139.00 | 10.4000 |\n| 17 | Belgium                | 24 Jan 2023 |  36548544 |  4691499 | 12.80 |  317.00 | 40.7000 |\n| 18 | Belize                 | 8 Jun 2022  |    572900 |    60694 | 10.60 |  140.00 | 14.9000 |\n| 19 | Benin                  | 4 May 2021  |    595112 |     7884 |  1.30 |    5.10 |  0.0670 |\n| 20 | Bhutan                 | 28 Feb 2022 |   1736168 |    12702 |  0.73 |  234.00 |  1.7100 |\n| 21 | Bolivia                | 5 Jun 2022  |   4358669 |   910228 | 20.90 |   38.10 |  8.0000 |\n| 22 | Bosnia and Herzegovina | 27 Sep 2022 |   1872934 |   399887 | 21.40 |   54.70 | 11.7000 |\n| 23 | Botswana               | 11 Jan 2022 |   2026898 |   232432 | 11.50 |   89.90 | 10.3000 |\n| 24 | Brazil                 | 19 Feb 2021 |  23561497 | 10081676 | 42.80 |   11.20 |  4.8000 |\n| 25 | Brunei                 | 2 Aug 2021  |    153804 |      338 |  0.22 |   33.50 |  0.0740 |\n| 26 | Bulgaria               | 2 Feb 2023  |  10993239 |  1295524 | 11.80 |  158.00 | 18.6000 |\n| 27 | Burkina Faso           | 4 Mar 2021  |    158777 |    12123 |  7.60 |    0.76 |  0.0580 |\n| 28 | Burundi                | 5 Jan 2021  |     90019 |      884 |  0.98 |    0.76 |  0.0074 |\n| 29 | Cambodia               | 1 Aug 2021  |   1812706 |    77914 |  4.30 |   11.20 |  0.4800 |\n| 30 | Cameroon               | 18 Feb 2021 |    942685 |    32681 |  3.50 |    3.60 |  0.1200 |\n| ⋮ | ⋮ | ⋮ | ⋮ | ⋮ | ⋮ | ⋮ | ⋮ |\n| 143 | Serbia               | 2 Feb 2023  |  12185475 |  2473599 | 20.30 |  175.0000 | 35.50000 |\n| 144 | Singapore            | 3 Aug 2021  |  16206203 |    65315 |  0.40 |  284.0000 |  1.10000 |\n| 145 | Slovakia             | 2 Feb 2023  |   7391882 |  1861034 | 25.20 |  135.0000 | 34.10000 |\n| 146 | Slovenia             | 2 Feb 2023  |   2826117 |  1322282 | 46.80 |  135.0000 | 63.10000 |\n| 147 | South Africa         | 24 May 2021 |  11378282 |  1637848 | 14.40 |   19.2000 |  2.80000 |\n| 148 | South Korea          | 1 Mar 2021  |   6592010 |    90029 |  1.40 |   12.7000 |  0.17000 |\n| 149 | South Sudan          | 26 May 2021 |    164472 |    10688 |  6.50 |    1.3000 |  0.08400 |\n| 150 | Spain                | 1 Jul 2021  |  54128524 |  3821305 |  7.10 |  116.0000 |  8.20000 |\n| 151 | Sri Lanka            | 30 Mar 2021 |   2384745 |    93128 |  3.90 |   10.9000 |  0.43000 |\n| 152 | Sudan                | 7 Jan 2021  |    158804 |    23316 | 14.70 |    0.3600 |  0.05300 |\n| 153 | Sweden               | 24 May 2021 |   9996795 |  1074751 | 10.80 |   96.8000 | 10.40000 |\n| 154 | Switzerland[l]       | 7 Nov 2022  |  23283909 |  4276836 | 18.40 |  270.0000 | 49.70000 |\n| 155 | Taiwan[m]            | 3 Feb 2023  |  30275725 |  8622129 | 28.48 |  128.3000 | 36.52800 |\n| 156 | Tanzania             | 18 Nov 2020 |      3880 |      509 | 13.10 |    0.0065 |  0.00085 |\n| 157 | Thailand             | 4 Mar 2021  |   1579597 |    26162 |  1.70 |    2.3000 |  0.03800 |\n| 158 | Togo                 | 6 Jan 2023  |    807269 |    39358 |  4.90 |    9.4000 |  0.46000 |\n| 159 | Trinidad and Tobago  | 3 Jan 2022  |    512730 |    92997 | 18.10 |   37.6000 |  6.80000 |\n| 160 | Tunisia              | 23 Aug 2021 |   2893625 |   703732 | 24.30 |   24.5000 |  6.00000 |\n| 161 | Turkey               | 2 Jul 2021  |  61236294 |  5435831 |  8.90 |   73.6000 |  6.50000 |\n| 162 | Uganda               | 11 Feb 2021 |    852444 |    39979 |  4.70 |    1.9000 |  0.08700 |\n| 163 | Ukraine              | 24 Nov 2021 |  15648456 |  3367461 | 21.50 |   37.2000 |  8.00000 |\n| 164 | United Arab Emirates | 1 Feb 2023  | 198685717 |  1049537 |  0.53 | 2070.0000 | 10.90000 |\n| 165 | United Kingdom       | 19 May 2022 | 522526476 | 22232377 |  4.30 |  774.0000 | 32.90000 |\n| 166 | United States        | 29 Jul 2022 | 929349291 | 90749469 |  9.80 |  281.0000 | 27.40000 |\n| 167 | Uruguay              | 16 Apr 2022 |   6089116 |   895592 | 14.70 |  175.0000 | 25.80000 |\n| 168 | Uzbekistan           | 7 Sep 2020  |   2630000 |    43975 |  1.70 |    7.7000 |  0.13000 |\n| 169 | Venezuela            | 30 Mar 2021 |   3179074 |   159149 |  5.00 |   11.0000 |  0.55000 |\n| 170 | Vietnam              | 28 Aug 2022 |  45772571 | 11403302 | 24.90 |   46.4000 | 11.60000 |\n| 171 | Zambia               | 10 Mar 2022 |   3301860 |   314850 |  9.50 |   19.0000 |  1.80000 |\n| 172 | Zimbabwe             | 15 Oct 2022 |   2529087 |   257893 | 10.20 |   17.0000 |  1.70000 |\n\n",
            "text/latex": "A data.frame: 172 × 7\n\\begin{tabular}{r|lllllll}\n  & country & date & tested & confirmed & confirmed.tested.ratio & tested.population.ratio & confirmed.population.ratio\\\\\n  & <fct> & <fct> & <dbl> & <dbl> & <dbl> & <dbl> & <dbl>\\\\\n\\hline\n\t1 & Afghanistan            & 17 Dec 2020 &    154767 &    49621 & 32.10 &    0.40 &  0.1300\\\\\n\t2 & Albania                & 18 Feb 2021 &    428654 &    96838 & 22.60 &   15.00 &  3.4000\\\\\n\t3 & Algeria                & 2 Nov 2020  &    230553 &    58574 & 25.40 &    0.53 &  0.1300\\\\\n\t4 & Andorra                & 23 Feb 2022 &    300307 &    37958 & 12.60 &  387.00 & 49.0000\\\\\n\t5 & Angola                 & 2 Feb 2021  &    399228 &    20981 &  5.30 &    1.30 &  0.0670\\\\\n\t6 & Antigua and Barbuda    & 6 Mar 2021  &     15268 &      832 &  5.40 &   15.90 &  0.8600\\\\\n\t7 & Argentina              & 16 Apr 2022 &  35716069 &  9060495 & 25.40 &   78.30 & 20.0000\\\\\n\t8 & Armenia                & 29 May 2022 &   3099602 &   422963 & 13.60 &  105.00 & 14.3000\\\\\n\t9 & Australia              & 9 Sep 2022  &  78548492 & 10112229 & 12.90 &  313.00 & 40.3000\\\\\n\t10 & Austria                & 1 Feb 2023  & 205817752 &  5789991 &  2.80 & 2312.00 & 65.0000\\\\\n\t11 & Azerbaijan             & 11 May 2022 &   6838458 &   792638 & 11.60 &   69.10 &  8.0000\\\\\n\t12 & Bahamas                & 28 Nov 2022 &    259366 &    37483 & 14.50 &   67.30 &  9.7000\\\\\n\t13 & Bahrain                & 3 Dec 2022  &  10578766 &   696614 &  6.60 &  674.00 & 44.4000\\\\\n\t14 & Bangladesh             & 24 Jul 2021 &   7417714 &  1151644 & 15.50 &    4.50 &  0.7000\\\\\n\t15 & Barbados               & 14 Oct 2022 &    770100 &   103014 & 13.40 &  268.00 & 35.9000\\\\\n\t16 & Belarus                & 9 May 2022  &  13217569 &   982809 &  7.40 &  139.00 & 10.4000\\\\\n\t17 & Belgium                & 24 Jan 2023 &  36548544 &  4691499 & 12.80 &  317.00 & 40.7000\\\\\n\t18 & Belize                 & 8 Jun 2022  &    572900 &    60694 & 10.60 &  140.00 & 14.9000\\\\\n\t19 & Benin                  & 4 May 2021  &    595112 &     7884 &  1.30 &    5.10 &  0.0670\\\\\n\t20 & Bhutan                 & 28 Feb 2022 &   1736168 &    12702 &  0.73 &  234.00 &  1.7100\\\\\n\t21 & Bolivia                & 5 Jun 2022  &   4358669 &   910228 & 20.90 &   38.10 &  8.0000\\\\\n\t22 & Bosnia and Herzegovina & 27 Sep 2022 &   1872934 &   399887 & 21.40 &   54.70 & 11.7000\\\\\n\t23 & Botswana               & 11 Jan 2022 &   2026898 &   232432 & 11.50 &   89.90 & 10.3000\\\\\n\t24 & Brazil                 & 19 Feb 2021 &  23561497 & 10081676 & 42.80 &   11.20 &  4.8000\\\\\n\t25 & Brunei                 & 2 Aug 2021  &    153804 &      338 &  0.22 &   33.50 &  0.0740\\\\\n\t26 & Bulgaria               & 2 Feb 2023  &  10993239 &  1295524 & 11.80 &  158.00 & 18.6000\\\\\n\t27 & Burkina Faso           & 4 Mar 2021  &    158777 &    12123 &  7.60 &    0.76 &  0.0580\\\\\n\t28 & Burundi                & 5 Jan 2021  &     90019 &      884 &  0.98 &    0.76 &  0.0074\\\\\n\t29 & Cambodia               & 1 Aug 2021  &   1812706 &    77914 &  4.30 &   11.20 &  0.4800\\\\\n\t30 & Cameroon               & 18 Feb 2021 &    942685 &    32681 &  3.50 &    3.60 &  0.1200\\\\\n\t⋮ & ⋮ & ⋮ & ⋮ & ⋮ & ⋮ & ⋮ & ⋮\\\\\n\t143 & Serbia               & 2 Feb 2023  &  12185475 &  2473599 & 20.30 &  175.0000 & 35.50000\\\\\n\t144 & Singapore            & 3 Aug 2021  &  16206203 &    65315 &  0.40 &  284.0000 &  1.10000\\\\\n\t145 & Slovakia             & 2 Feb 2023  &   7391882 &  1861034 & 25.20 &  135.0000 & 34.10000\\\\\n\t146 & Slovenia             & 2 Feb 2023  &   2826117 &  1322282 & 46.80 &  135.0000 & 63.10000\\\\\n\t147 & South Africa         & 24 May 2021 &  11378282 &  1637848 & 14.40 &   19.2000 &  2.80000\\\\\n\t148 & South Korea          & 1 Mar 2021  &   6592010 &    90029 &  1.40 &   12.7000 &  0.17000\\\\\n\t149 & South Sudan          & 26 May 2021 &    164472 &    10688 &  6.50 &    1.3000 &  0.08400\\\\\n\t150 & Spain                & 1 Jul 2021  &  54128524 &  3821305 &  7.10 &  116.0000 &  8.20000\\\\\n\t151 & Sri Lanka            & 30 Mar 2021 &   2384745 &    93128 &  3.90 &   10.9000 &  0.43000\\\\\n\t152 & Sudan                & 7 Jan 2021  &    158804 &    23316 & 14.70 &    0.3600 &  0.05300\\\\\n\t153 & Sweden               & 24 May 2021 &   9996795 &  1074751 & 10.80 &   96.8000 & 10.40000\\\\\n\t154 & Switzerland{[}l{]}       & 7 Nov 2022  &  23283909 &  4276836 & 18.40 &  270.0000 & 49.70000\\\\\n\t155 & Taiwan{[}m{]}            & 3 Feb 2023  &  30275725 &  8622129 & 28.48 &  128.3000 & 36.52800\\\\\n\t156 & Tanzania             & 18 Nov 2020 &      3880 &      509 & 13.10 &    0.0065 &  0.00085\\\\\n\t157 & Thailand             & 4 Mar 2021  &   1579597 &    26162 &  1.70 &    2.3000 &  0.03800\\\\\n\t158 & Togo                 & 6 Jan 2023  &    807269 &    39358 &  4.90 &    9.4000 &  0.46000\\\\\n\t159 & Trinidad and Tobago  & 3 Jan 2022  &    512730 &    92997 & 18.10 &   37.6000 &  6.80000\\\\\n\t160 & Tunisia              & 23 Aug 2021 &   2893625 &   703732 & 24.30 &   24.5000 &  6.00000\\\\\n\t161 & Turkey               & 2 Jul 2021  &  61236294 &  5435831 &  8.90 &   73.6000 &  6.50000\\\\\n\t162 & Uganda               & 11 Feb 2021 &    852444 &    39979 &  4.70 &    1.9000 &  0.08700\\\\\n\t163 & Ukraine              & 24 Nov 2021 &  15648456 &  3367461 & 21.50 &   37.2000 &  8.00000\\\\\n\t164 & United Arab Emirates & 1 Feb 2023  & 198685717 &  1049537 &  0.53 & 2070.0000 & 10.90000\\\\\n\t165 & United Kingdom       & 19 May 2022 & 522526476 & 22232377 &  4.30 &  774.0000 & 32.90000\\\\\n\t166 & United States        & 29 Jul 2022 & 929349291 & 90749469 &  9.80 &  281.0000 & 27.40000\\\\\n\t167 & Uruguay              & 16 Apr 2022 &   6089116 &   895592 & 14.70 &  175.0000 & 25.80000\\\\\n\t168 & Uzbekistan           & 7 Sep 2020  &   2630000 &    43975 &  1.70 &    7.7000 &  0.13000\\\\\n\t169 & Venezuela            & 30 Mar 2021 &   3179074 &   159149 &  5.00 &   11.0000 &  0.55000\\\\\n\t170 & Vietnam              & 28 Aug 2022 &  45772571 & 11403302 & 24.90 &   46.4000 & 11.60000\\\\\n\t171 & Zambia               & 10 Mar 2022 &   3301860 &   314850 &  9.50 &   19.0000 &  1.80000\\\\\n\t172 & Zimbabwe             & 15 Oct 2022 &   2529087 &   257893 & 10.20 &   17.0000 &  1.70000\\\\\n\\end{tabular}\n",
            "text/plain": [
              "    country                date        tested    confirmed\n",
              "1   Afghanistan            17 Dec 2020    154767    49621 \n",
              "2   Albania                18 Feb 2021    428654    96838 \n",
              "3   Algeria                2 Nov 2020     230553    58574 \n",
              "4   Andorra                23 Feb 2022    300307    37958 \n",
              "5   Angola                 2 Feb 2021     399228    20981 \n",
              "6   Antigua and Barbuda    6 Mar 2021      15268      832 \n",
              "7   Argentina              16 Apr 2022  35716069  9060495 \n",
              "8   Armenia                29 May 2022   3099602   422963 \n",
              "9   Australia              9 Sep 2022   78548492 10112229 \n",
              "10  Austria                1 Feb 2023  205817752  5789991 \n",
              "11  Azerbaijan             11 May 2022   6838458   792638 \n",
              "12  Bahamas                28 Nov 2022    259366    37483 \n",
              "13  Bahrain                3 Dec 2022   10578766   696614 \n",
              "14  Bangladesh             24 Jul 2021   7417714  1151644 \n",
              "15  Barbados               14 Oct 2022    770100   103014 \n",
              "16  Belarus                9 May 2022   13217569   982809 \n",
              "17  Belgium                24 Jan 2023  36548544  4691499 \n",
              "18  Belize                 8 Jun 2022     572900    60694 \n",
              "19  Benin                  4 May 2021     595112     7884 \n",
              "20  Bhutan                 28 Feb 2022   1736168    12702 \n",
              "21  Bolivia                5 Jun 2022    4358669   910228 \n",
              "22  Bosnia and Herzegovina 27 Sep 2022   1872934   399887 \n",
              "23  Botswana               11 Jan 2022   2026898   232432 \n",
              "24  Brazil                 19 Feb 2021  23561497 10081676 \n",
              "25  Brunei                 2 Aug 2021     153804      338 \n",
              "26  Bulgaria               2 Feb 2023   10993239  1295524 \n",
              "27  Burkina Faso           4 Mar 2021     158777    12123 \n",
              "28  Burundi                5 Jan 2021      90019      884 \n",
              "29  Cambodia               1 Aug 2021    1812706    77914 \n",
              "30  Cameroon               18 Feb 2021    942685    32681 \n",
              "⋮   ⋮                      ⋮           ⋮         ⋮        \n",
              "143 Serbia                 2 Feb 2023   12185475  2473599 \n",
              "144 Singapore              3 Aug 2021   16206203    65315 \n",
              "145 Slovakia               2 Feb 2023    7391882  1861034 \n",
              "146 Slovenia               2 Feb 2023    2826117  1322282 \n",
              "147 South Africa           24 May 2021  11378282  1637848 \n",
              "148 South Korea            1 Mar 2021    6592010    90029 \n",
              "149 South Sudan            26 May 2021    164472    10688 \n",
              "150 Spain                  1 Jul 2021   54128524  3821305 \n",
              "151 Sri Lanka              30 Mar 2021   2384745    93128 \n",
              "152 Sudan                  7 Jan 2021     158804    23316 \n",
              "153 Sweden                 24 May 2021   9996795  1074751 \n",
              "154 Switzerland[l]         7 Nov 2022   23283909  4276836 \n",
              "155 Taiwan[m]              3 Feb 2023   30275725  8622129 \n",
              "156 Tanzania               18 Nov 2020      3880      509 \n",
              "157 Thailand               4 Mar 2021    1579597    26162 \n",
              "158 Togo                   6 Jan 2023     807269    39358 \n",
              "159 Trinidad and Tobago    3 Jan 2022     512730    92997 \n",
              "160 Tunisia                23 Aug 2021   2893625   703732 \n",
              "161 Turkey                 2 Jul 2021   61236294  5435831 \n",
              "162 Uganda                 11 Feb 2021    852444    39979 \n",
              "163 Ukraine                24 Nov 2021  15648456  3367461 \n",
              "164 United Arab Emirates   1 Feb 2023  198685717  1049537 \n",
              "165 United Kingdom         19 May 2022 522526476 22232377 \n",
              "166 United States          29 Jul 2022 929349291 90749469 \n",
              "167 Uruguay                16 Apr 2022   6089116   895592 \n",
              "168 Uzbekistan             7 Sep 2020    2630000    43975 \n",
              "169 Venezuela              30 Mar 2021   3179074   159149 \n",
              "170 Vietnam                28 Aug 2022  45772571 11403302 \n",
              "171 Zambia                 10 Mar 2022   3301860   314850 \n",
              "172 Zimbabwe               15 Oct 2022   2529087   257893 \n",
              "    confirmed.tested.ratio tested.population.ratio confirmed.population.ratio\n",
              "1   32.10                     0.40                  0.1300                   \n",
              "2   22.60                    15.00                  3.4000                   \n",
              "3   25.40                     0.53                  0.1300                   \n",
              "4   12.60                   387.00                 49.0000                   \n",
              "5    5.30                     1.30                  0.0670                   \n",
              "6    5.40                    15.90                  0.8600                   \n",
              "7   25.40                    78.30                 20.0000                   \n",
              "8   13.60                   105.00                 14.3000                   \n",
              "9   12.90                   313.00                 40.3000                   \n",
              "10   2.80                  2312.00                 65.0000                   \n",
              "11  11.60                    69.10                  8.0000                   \n",
              "12  14.50                    67.30                  9.7000                   \n",
              "13   6.60                   674.00                 44.4000                   \n",
              "14  15.50                     4.50                  0.7000                   \n",
              "15  13.40                   268.00                 35.9000                   \n",
              "16   7.40                   139.00                 10.4000                   \n",
              "17  12.80                   317.00                 40.7000                   \n",
              "18  10.60                   140.00                 14.9000                   \n",
              "19   1.30                     5.10                  0.0670                   \n",
              "20   0.73                   234.00                  1.7100                   \n",
              "21  20.90                    38.10                  8.0000                   \n",
              "22  21.40                    54.70                 11.7000                   \n",
              "23  11.50                    89.90                 10.3000                   \n",
              "24  42.80                    11.20                  4.8000                   \n",
              "25   0.22                    33.50                  0.0740                   \n",
              "26  11.80                   158.00                 18.6000                   \n",
              "27   7.60                     0.76                  0.0580                   \n",
              "28   0.98                     0.76                  0.0074                   \n",
              "29   4.30                    11.20                  0.4800                   \n",
              "30   3.50                     3.60                  0.1200                   \n",
              "⋮   ⋮                      ⋮                       ⋮                         \n",
              "143 20.30                   175.0000               35.50000                  \n",
              "144  0.40                   284.0000                1.10000                  \n",
              "145 25.20                   135.0000               34.10000                  \n",
              "146 46.80                   135.0000               63.10000                  \n",
              "147 14.40                    19.2000                2.80000                  \n",
              "148  1.40                    12.7000                0.17000                  \n",
              "149  6.50                     1.3000                0.08400                  \n",
              "150  7.10                   116.0000                8.20000                  \n",
              "151  3.90                    10.9000                0.43000                  \n",
              "152 14.70                     0.3600                0.05300                  \n",
              "153 10.80                    96.8000               10.40000                  \n",
              "154 18.40                   270.0000               49.70000                  \n",
              "155 28.48                   128.3000               36.52800                  \n",
              "156 13.10                     0.0065                0.00085                  \n",
              "157  1.70                     2.3000                0.03800                  \n",
              "158  4.90                     9.4000                0.46000                  \n",
              "159 18.10                    37.6000                6.80000                  \n",
              "160 24.30                    24.5000                6.00000                  \n",
              "161  8.90                    73.6000                6.50000                  \n",
              "162  4.70                     1.9000                0.08700                  \n",
              "163 21.50                    37.2000                8.00000                  \n",
              "164  0.53                  2070.0000               10.90000                  \n",
              "165  4.30                   774.0000               32.90000                  \n",
              "166  9.80                   281.0000               27.40000                  \n",
              "167 14.70                   175.0000               25.80000                  \n",
              "168  1.70                     7.7000                0.13000                  \n",
              "169  5.00                    11.0000                0.55000                  \n",
              "170 24.90                    46.4000               11.60000                  \n",
              "171  9.50                    19.0000                1.80000                  \n",
              "172 10.20                    17.0000                1.70000                  "
            ]
          },
          "metadata": {}
        }
      ]
    },
    {
      "cell_type": "code",
      "source": [
        "# Print the summary of the processed data frame again\n",
        "summary(wiki_covid19_data_frame)"
      ],
      "metadata": {
        "colab": {
          "base_uri": "https://localhost:8080/",
          "height": 434
        },
        "id": "92BiIJmwY2tr",
        "outputId": "70425fd5-30a6-43c0-999b-556c262a3b7f"
      },
      "execution_count": 44,
      "outputs": [
        {
          "output_type": "display_data",
          "data": {
            "text/plain": [
              "                country             date         tested         \n",
              " Afghanistan        :  1   2 Feb 2023 :  6   Min.   :     3880  \n",
              " Albania            :  1   1 Feb 2023 :  4   1st Qu.:   512037  \n",
              " Algeria            :  1   31 Jan 2023:  4   Median :  3029859  \n",
              " Andorra            :  1   1 Mar 2021 :  3   Mean   : 31377219  \n",
              " Angola             :  1   23 Jul 2021:  3   3rd Qu.: 12386725  \n",
              " Antigua and Barbuda:  1   29 Jan 2023:  3   Max.   :929349291  \n",
              " (Other)            :166   (Other)    :149                      \n",
              "   confirmed        confirmed.tested.ratio tested.population.ratio\n",
              " Min.   :       0   Min.   : 0.00          Min.   :   0.006       \n",
              " 1st Qu.:   37839   1st Qu.: 5.00          1st Qu.:   9.475       \n",
              " Median :  281196   Median :10.05          Median :  46.950       \n",
              " Mean   : 2508340   Mean   :11.25          Mean   : 175.504       \n",
              " 3rd Qu.: 1278105   3rd Qu.:15.25          3rd Qu.: 156.500       \n",
              " Max.   :90749469   Max.   :46.80          Max.   :3223.000       \n",
              "                                                                  \n",
              " confirmed.population.ratio\n",
              " Min.   : 0.000            \n",
              " 1st Qu.: 0.425            \n",
              " Median : 6.100            \n",
              " Mean   :12.769            \n",
              " 3rd Qu.:16.250            \n",
              " Max.   :74.400            \n",
              "                           "
            ]
          },
          "metadata": {}
        }
      ]
    },
    {
      "cell_type": "code",
      "source": [
        "# Export the data frame to a csv file\n",
        "write.csv(wiki_covid19_data_frame, file = \"covid.csv\", row.names = FALSE)"
      ],
      "metadata": {
        "id": "X_tMdsKJY2xT"
      },
      "execution_count": 45,
      "outputs": []
    },
    {
      "cell_type": "code",
      "source": [
        "# Get working directory\n",
        "wd <- getwd()\n",
        "# Get exported\n",
        "file_path <- paste(wd, sep=\"\", \"/covid.csv\")\n",
        "# File path\n",
        "print(file_path)\n",
        "file.exists(file_path)"
      ],
      "metadata": {
        "colab": {
          "base_uri": "https://localhost:8080/",
          "height": 52
        },
        "id": "C_uGPiY6dfys",
        "outputId": "482fb937-b1b7-40b7-bd2f-6f70e24447aa"
      },
      "execution_count": 46,
      "outputs": [
        {
          "output_type": "stream",
          "name": "stdout",
          "text": [
            "[1] \"/content/covid.csv\"\n"
          ]
        },
        {
          "output_type": "display_data",
          "data": {
            "text/html": [
              "TRUE"
            ],
            "text/markdown": "TRUE",
            "text/latex": "TRUE",
            "text/plain": [
              "[1] TRUE"
            ]
          },
          "metadata": {}
        }
      ]
    },
    {
      "cell_type": "markdown",
      "source": [
        "### TASK 4: Get a subset of the extracted data frame\n",
        "\n",
        "Get the 5th to 10th rows from the data frame with only country and confirmed columns selected"
      ],
      "metadata": {
        "id": "nc4wjPJfdyZ2"
      }
    },
    {
      "cell_type": "code",
      "source": [
        "# Read covid_data_frame_csv from the csv file\n",
        "covid_data <- read.csv(\"covid.csv\", header=TRUE, sep=\",\")"
      ],
      "metadata": {
        "id": "3Im1yJG1dfz2"
      },
      "execution_count": 52,
      "outputs": []
    },
    {
      "cell_type": "code",
      "source": [
        "# Get the 5th to 10th rows, with two \"country\" \"confirmed\" columns\n",
        "covid_data[ 5:10, c( \"country\", \"confirmed\") ]"
      ],
      "metadata": {
        "colab": {
          "base_uri": "https://localhost:8080/",
          "height": 286
        },
        "id": "reeowKdcdf4u",
        "outputId": "ba46392c-81a1-44dc-dba3-4fd91186c629"
      },
      "execution_count": 53,
      "outputs": [
        {
          "output_type": "display_data",
          "data": {
            "text/html": [
              "<table class=\"dataframe\">\n",
              "<caption>A data.frame: 6 × 2</caption>\n",
              "<thead>\n",
              "\t<tr><th></th><th scope=col>country</th><th scope=col>confirmed</th></tr>\n",
              "\t<tr><th></th><th scope=col>&lt;chr&gt;</th><th scope=col>&lt;int&gt;</th></tr>\n",
              "</thead>\n",
              "<tbody>\n",
              "\t<tr><th scope=row>5</th><td>Angola             </td><td>   20981</td></tr>\n",
              "\t<tr><th scope=row>6</th><td>Antigua and Barbuda</td><td>     832</td></tr>\n",
              "\t<tr><th scope=row>7</th><td>Argentina          </td><td> 9060495</td></tr>\n",
              "\t<tr><th scope=row>8</th><td>Armenia            </td><td>  422963</td></tr>\n",
              "\t<tr><th scope=row>9</th><td>Australia          </td><td>10112229</td></tr>\n",
              "\t<tr><th scope=row>10</th><td>Austria            </td><td> 5789991</td></tr>\n",
              "</tbody>\n",
              "</table>\n"
            ],
            "text/markdown": "\nA data.frame: 6 × 2\n\n| <!--/--> | country &lt;chr&gt; | confirmed &lt;int&gt; |\n|---|---|---|\n| 5 | Angola              |    20981 |\n| 6 | Antigua and Barbuda |      832 |\n| 7 | Argentina           |  9060495 |\n| 8 | Armenia             |   422963 |\n| 9 | Australia           | 10112229 |\n| 10 | Austria             |  5789991 |\n\n",
            "text/latex": "A data.frame: 6 × 2\n\\begin{tabular}{r|ll}\n  & country & confirmed\\\\\n  & <chr> & <int>\\\\\n\\hline\n\t5 & Angola              &    20981\\\\\n\t6 & Antigua and Barbuda &      832\\\\\n\t7 & Argentina           &  9060495\\\\\n\t8 & Armenia             &   422963\\\\\n\t9 & Australia           & 10112229\\\\\n\t10 & Austria             &  5789991\\\\\n\\end{tabular}\n",
            "text/plain": [
              "   country             confirmed\n",
              "5  Angola                 20981 \n",
              "6  Antigua and Barbuda      832 \n",
              "7  Argentina            9060495 \n",
              "8  Armenia               422963 \n",
              "9  Australia           10112229 \n",
              "10 Austria              5789991 "
            ]
          },
          "metadata": {}
        }
      ]
    },
    {
      "cell_type": "markdown",
      "source": [
        "###  TASK 5: Calculate worldwide COVID testing positive ratio\n",
        "\n",
        "Get the total confirmed and tested cases worldwide, and try to figure the overall positive ratio using `confirmed cases / tested cases`"
      ],
      "metadata": {
        "id": "NMqtTJIgd_XV"
      }
    },
    {
      "cell_type": "code",
      "source": [
        "# Get the total confirmed cases worldwide\n",
        "tot_confirmed <- sum(covid_data[,'confirmed'])\n",
        "tot_confirmed\n",
        "# Get the total tested cases worldwide\n",
        "tot_tested <- sum(covid_data[,'tested'])\n",
        "tot_tested\n",
        "# Get the positive ratio (confirmed / tested)\n",
        "positive_ratio <- tot_confirmed/tot_tested\n",
        "round(positive_ratio,2)"
      ],
      "metadata": {
        "colab": {
          "base_uri": "https://localhost:8080/",
          "height": 69
        },
        "id": "gv-ubj6meJT9",
        "outputId": "62c48f26-a997-49b8-bca8-e05fefc4d719"
      },
      "execution_count": 54,
      "outputs": [
        {
          "output_type": "display_data",
          "data": {
            "text/html": [
              "431434555"
            ],
            "text/markdown": "431434555",
            "text/latex": "431434555",
            "text/plain": [
              "[1] 431434555"
            ]
          },
          "metadata": {}
        },
        {
          "output_type": "display_data",
          "data": {
            "text/html": [
              "5396881644"
            ],
            "text/markdown": "5396881644",
            "text/latex": "5396881644",
            "text/plain": [
              "[1] 5396881644"
            ]
          },
          "metadata": {}
        },
        {
          "output_type": "display_data",
          "data": {
            "text/html": [
              "0.08"
            ],
            "text/markdown": "0.08",
            "text/latex": "0.08",
            "text/plain": [
              "[1] 0.08"
            ]
          },
          "metadata": {}
        }
      ]
    },
    {
      "cell_type": "markdown",
      "source": [
        "### TASK 6: Get a country list which reported their testing data\n",
        "\n",
        "Get a catalog or sorted list of countries who have reported their COVID-19 testing data."
      ],
      "metadata": {
        "id": "eaJUbRvyezH9"
      }
    },
    {
      "cell_type": "code",
      "source": [
        "# Get the `country` column\n",
        "covid_data[,'country']\n",
        "# Check its class (should be Factor)\n",
        "class(covid_data$country)\n",
        "# Convert the country column into character so that you can easily sort them\n",
        "covid_data$country <- as.character(covid_data$country)\n",
        "class(covid_data$country)\n",
        "# Sort the countries AtoZ\n",
        "sort(covid_data$country)\n",
        "# Sort the countries ZtoA\n",
        "ztoa_country <- sort(covid_data$country, decreasing=TRUE)\n",
        "# Print the sorted ZtoA list\n",
        "print(ztoa_country)"
      ],
      "metadata": {
        "colab": {
          "base_uri": "https://localhost:8080/",
          "height": 1000
        },
        "id": "xCEdhapAeJVK",
        "outputId": "7132ef13-4ec1-4eab-d8bf-094d877b6cab"
      },
      "execution_count": 55,
      "outputs": [
        {
          "output_type": "display_data",
          "data": {
            "text/html": [
              "<style>\n",
              ".list-inline {list-style: none; margin:0; padding: 0}\n",
              ".list-inline>li {display: inline-block}\n",
              ".list-inline>li:not(:last-child)::after {content: \"\\00b7\"; padding: 0 .5ex}\n",
              "</style>\n",
              "<ol class=list-inline><li>'Afghanistan'</li><li>'Albania'</li><li>'Algeria'</li><li>'Andorra'</li><li>'Angola'</li><li>'Antigua and Barbuda'</li><li>'Argentina'</li><li>'Armenia'</li><li>'Australia'</li><li>'Austria'</li><li>'Azerbaijan'</li><li>'Bahamas'</li><li>'Bahrain'</li><li>'Bangladesh'</li><li>'Barbados'</li><li>'Belarus'</li><li>'Belgium'</li><li>'Belize'</li><li>'Benin'</li><li>'Bhutan'</li><li>'Bolivia'</li><li>'Bosnia and Herzegovina'</li><li>'Botswana'</li><li>'Brazil'</li><li>'Brunei'</li><li>'Bulgaria'</li><li>'Burkina Faso'</li><li>'Burundi'</li><li>'Cambodia'</li><li>'Cameroon'</li><li>'Canada'</li><li>'Chad'</li><li>'Chile'</li><li>'China[c]'</li><li>'Colombia'</li><li>'Costa Rica'</li><li>'Croatia'</li><li>'Cuba'</li><li>'Cyprus[d]'</li><li>'Czechia'</li><li>'Denmark[e]'</li><li>'Djibouti'</li><li>'Dominica'</li><li>'Dominican Republic'</li><li>'DR Congo'</li><li>'Ecuador'</li><li>'Egypt'</li><li>'El Salvador'</li><li>'Equatorial Guinea'</li><li>'Estonia'</li><li>'Eswatini'</li><li>'Ethiopia'</li><li>'Faroe Islands'</li><li>'Fiji'</li><li>'Finland'</li><li>'France[f][g]'</li><li>'Gabon'</li><li>'Gambia'</li><li>'Georgia[h]'</li><li>'Germany'</li><li>'Ghana'</li><li>'Greece'</li><li>'Greenland'</li><li>'Grenada'</li><li>'Guatemala'</li><li>'Guinea'</li><li>'Guinea-Bissau'</li><li>'Guyana'</li><li>'Haiti'</li><li>'Honduras'</li><li>'Hungary'</li><li>'Iceland'</li><li>'India'</li><li>'Indonesia'</li><li>'Iran'</li><li>'Iraq'</li><li>'Ireland'</li><li>'Israel'</li><li>'Italy'</li><li>'Ivory Coast'</li><li>'Jamaica'</li><li>'Japan'</li><li>'Jordan'</li><li>'Kazakhstan'</li><li>'Kenya'</li><li>'Kosovo'</li><li>'Kuwait'</li><li>'Kyrgyzstan'</li><li>'Laos'</li><li>'Latvia'</li><li>'Lebanon'</li><li>'Lesotho'</li><li>'Liberia'</li><li>'Libya'</li><li>'Lithuania'</li><li>'Luxembourg[i]'</li><li>'Madagascar'</li><li>'Malawi'</li><li>'Malaysia'</li><li>'Maldives'</li><li>'Mali'</li><li>'Malta'</li><li>'Mauritania'</li><li>'Mauritius'</li><li>'Mexico'</li><li>'Moldova[j]'</li><li>'Mongolia'</li><li>'Montenegro'</li><li>'Morocco'</li><li>'Mozambique'</li><li>'Myanmar'</li><li>'Namibia'</li><li>'Nepal'</li><li>'Netherlands'</li><li>'New Caledonia'</li><li>'New Zealand'</li><li>'Niger'</li><li>'Nigeria'</li><li>'North Korea'</li><li>'North Macedonia'</li><li>'Northern Cyprus[k]'</li><li>'Norway'</li><li>'Oman'</li><li>'Pakistan'</li><li>'Palestine'</li><li>'Panama'</li><li>'Papua New Guinea'</li><li>'Paraguay'</li><li>'Peru'</li><li>'Philippines'</li><li>'Poland'</li><li>'Portugal'</li><li>'Qatar'</li><li>'Romania'</li><li>'Russia'</li><li>'Rwanda'</li><li>'Saint Kitts and Nevis'</li><li>'Saint Lucia'</li><li>'Saint Vincent'</li><li>'San Marino'</li><li>'Saudi Arabia'</li><li>'Senegal'</li><li>'Serbia'</li><li>'Singapore'</li><li>'Slovakia'</li><li>'Slovenia'</li><li>'South Africa'</li><li>'South Korea'</li><li>'South Sudan'</li><li>'Spain'</li><li>'Sri Lanka'</li><li>'Sudan'</li><li>'Sweden'</li><li>'Switzerland[l]'</li><li>'Taiwan[m]'</li><li>'Tanzania'</li><li>'Thailand'</li><li>'Togo'</li><li>'Trinidad and Tobago'</li><li>'Tunisia'</li><li>'Turkey'</li><li>'Uganda'</li><li>'Ukraine'</li><li>'United Arab Emirates'</li><li>'United Kingdom'</li><li>'United States'</li><li>'Uruguay'</li><li>'Uzbekistan'</li><li>'Venezuela'</li><li>'Vietnam'</li><li>'Zambia'</li><li>'Zimbabwe'</li></ol>\n"
            ],
            "text/markdown": "1. 'Afghanistan'\n2. 'Albania'\n3. 'Algeria'\n4. 'Andorra'\n5. 'Angola'\n6. 'Antigua and Barbuda'\n7. 'Argentina'\n8. 'Armenia'\n9. 'Australia'\n10. 'Austria'\n11. 'Azerbaijan'\n12. 'Bahamas'\n13. 'Bahrain'\n14. 'Bangladesh'\n15. 'Barbados'\n16. 'Belarus'\n17. 'Belgium'\n18. 'Belize'\n19. 'Benin'\n20. 'Bhutan'\n21. 'Bolivia'\n22. 'Bosnia and Herzegovina'\n23. 'Botswana'\n24. 'Brazil'\n25. 'Brunei'\n26. 'Bulgaria'\n27. 'Burkina Faso'\n28. 'Burundi'\n29. 'Cambodia'\n30. 'Cameroon'\n31. 'Canada'\n32. 'Chad'\n33. 'Chile'\n34. 'China[c]'\n35. 'Colombia'\n36. 'Costa Rica'\n37. 'Croatia'\n38. 'Cuba'\n39. 'Cyprus[d]'\n40. 'Czechia'\n41. 'Denmark[e]'\n42. 'Djibouti'\n43. 'Dominica'\n44. 'Dominican Republic'\n45. 'DR Congo'\n46. 'Ecuador'\n47. 'Egypt'\n48. 'El Salvador'\n49. 'Equatorial Guinea'\n50. 'Estonia'\n51. 'Eswatini'\n52. 'Ethiopia'\n53. 'Faroe Islands'\n54. 'Fiji'\n55. 'Finland'\n56. 'France[f][g]'\n57. 'Gabon'\n58. 'Gambia'\n59. 'Georgia[h]'\n60. 'Germany'\n61. 'Ghana'\n62. 'Greece'\n63. 'Greenland'\n64. 'Grenada'\n65. 'Guatemala'\n66. 'Guinea'\n67. 'Guinea-Bissau'\n68. 'Guyana'\n69. 'Haiti'\n70. 'Honduras'\n71. 'Hungary'\n72. 'Iceland'\n73. 'India'\n74. 'Indonesia'\n75. 'Iran'\n76. 'Iraq'\n77. 'Ireland'\n78. 'Israel'\n79. 'Italy'\n80. 'Ivory Coast'\n81. 'Jamaica'\n82. 'Japan'\n83. 'Jordan'\n84. 'Kazakhstan'\n85. 'Kenya'\n86. 'Kosovo'\n87. 'Kuwait'\n88. 'Kyrgyzstan'\n89. 'Laos'\n90. 'Latvia'\n91. 'Lebanon'\n92. 'Lesotho'\n93. 'Liberia'\n94. 'Libya'\n95. 'Lithuania'\n96. 'Luxembourg[i]'\n97. 'Madagascar'\n98. 'Malawi'\n99. 'Malaysia'\n100. 'Maldives'\n101. 'Mali'\n102. 'Malta'\n103. 'Mauritania'\n104. 'Mauritius'\n105. 'Mexico'\n106. 'Moldova[j]'\n107. 'Mongolia'\n108. 'Montenegro'\n109. 'Morocco'\n110. 'Mozambique'\n111. 'Myanmar'\n112. 'Namibia'\n113. 'Nepal'\n114. 'Netherlands'\n115. 'New Caledonia'\n116. 'New Zealand'\n117. 'Niger'\n118. 'Nigeria'\n119. 'North Korea'\n120. 'North Macedonia'\n121. 'Northern Cyprus[k]'\n122. 'Norway'\n123. 'Oman'\n124. 'Pakistan'\n125. 'Palestine'\n126. 'Panama'\n127. 'Papua New Guinea'\n128. 'Paraguay'\n129. 'Peru'\n130. 'Philippines'\n131. 'Poland'\n132. 'Portugal'\n133. 'Qatar'\n134. 'Romania'\n135. 'Russia'\n136. 'Rwanda'\n137. 'Saint Kitts and Nevis'\n138. 'Saint Lucia'\n139. 'Saint Vincent'\n140. 'San Marino'\n141. 'Saudi Arabia'\n142. 'Senegal'\n143. 'Serbia'\n144. 'Singapore'\n145. 'Slovakia'\n146. 'Slovenia'\n147. 'South Africa'\n148. 'South Korea'\n149. 'South Sudan'\n150. 'Spain'\n151. 'Sri Lanka'\n152. 'Sudan'\n153. 'Sweden'\n154. 'Switzerland[l]'\n155. 'Taiwan[m]'\n156. 'Tanzania'\n157. 'Thailand'\n158. 'Togo'\n159. 'Trinidad and Tobago'\n160. 'Tunisia'\n161. 'Turkey'\n162. 'Uganda'\n163. 'Ukraine'\n164. 'United Arab Emirates'\n165. 'United Kingdom'\n166. 'United States'\n167. 'Uruguay'\n168. 'Uzbekistan'\n169. 'Venezuela'\n170. 'Vietnam'\n171. 'Zambia'\n172. 'Zimbabwe'\n\n\n",
            "text/latex": "\\begin{enumerate*}\n\\item 'Afghanistan'\n\\item 'Albania'\n\\item 'Algeria'\n\\item 'Andorra'\n\\item 'Angola'\n\\item 'Antigua and Barbuda'\n\\item 'Argentina'\n\\item 'Armenia'\n\\item 'Australia'\n\\item 'Austria'\n\\item 'Azerbaijan'\n\\item 'Bahamas'\n\\item 'Bahrain'\n\\item 'Bangladesh'\n\\item 'Barbados'\n\\item 'Belarus'\n\\item 'Belgium'\n\\item 'Belize'\n\\item 'Benin'\n\\item 'Bhutan'\n\\item 'Bolivia'\n\\item 'Bosnia and Herzegovina'\n\\item 'Botswana'\n\\item 'Brazil'\n\\item 'Brunei'\n\\item 'Bulgaria'\n\\item 'Burkina Faso'\n\\item 'Burundi'\n\\item 'Cambodia'\n\\item 'Cameroon'\n\\item 'Canada'\n\\item 'Chad'\n\\item 'Chile'\n\\item 'China{[}c{]}'\n\\item 'Colombia'\n\\item 'Costa Rica'\n\\item 'Croatia'\n\\item 'Cuba'\n\\item 'Cyprus{[}d{]}'\n\\item 'Czechia'\n\\item 'Denmark{[}e{]}'\n\\item 'Djibouti'\n\\item 'Dominica'\n\\item 'Dominican Republic'\n\\item 'DR Congo'\n\\item 'Ecuador'\n\\item 'Egypt'\n\\item 'El Salvador'\n\\item 'Equatorial Guinea'\n\\item 'Estonia'\n\\item 'Eswatini'\n\\item 'Ethiopia'\n\\item 'Faroe Islands'\n\\item 'Fiji'\n\\item 'Finland'\n\\item 'France{[}f{]}{[}g{]}'\n\\item 'Gabon'\n\\item 'Gambia'\n\\item 'Georgia{[}h{]}'\n\\item 'Germany'\n\\item 'Ghana'\n\\item 'Greece'\n\\item 'Greenland'\n\\item 'Grenada'\n\\item 'Guatemala'\n\\item 'Guinea'\n\\item 'Guinea-Bissau'\n\\item 'Guyana'\n\\item 'Haiti'\n\\item 'Honduras'\n\\item 'Hungary'\n\\item 'Iceland'\n\\item 'India'\n\\item 'Indonesia'\n\\item 'Iran'\n\\item 'Iraq'\n\\item 'Ireland'\n\\item 'Israel'\n\\item 'Italy'\n\\item 'Ivory Coast'\n\\item 'Jamaica'\n\\item 'Japan'\n\\item 'Jordan'\n\\item 'Kazakhstan'\n\\item 'Kenya'\n\\item 'Kosovo'\n\\item 'Kuwait'\n\\item 'Kyrgyzstan'\n\\item 'Laos'\n\\item 'Latvia'\n\\item 'Lebanon'\n\\item 'Lesotho'\n\\item 'Liberia'\n\\item 'Libya'\n\\item 'Lithuania'\n\\item 'Luxembourg{[}i{]}'\n\\item 'Madagascar'\n\\item 'Malawi'\n\\item 'Malaysia'\n\\item 'Maldives'\n\\item 'Mali'\n\\item 'Malta'\n\\item 'Mauritania'\n\\item 'Mauritius'\n\\item 'Mexico'\n\\item 'Moldova{[}j{]}'\n\\item 'Mongolia'\n\\item 'Montenegro'\n\\item 'Morocco'\n\\item 'Mozambique'\n\\item 'Myanmar'\n\\item 'Namibia'\n\\item 'Nepal'\n\\item 'Netherlands'\n\\item 'New Caledonia'\n\\item 'New Zealand'\n\\item 'Niger'\n\\item 'Nigeria'\n\\item 'North Korea'\n\\item 'North Macedonia'\n\\item 'Northern Cyprus{[}k{]}'\n\\item 'Norway'\n\\item 'Oman'\n\\item 'Pakistan'\n\\item 'Palestine'\n\\item 'Panama'\n\\item 'Papua New Guinea'\n\\item 'Paraguay'\n\\item 'Peru'\n\\item 'Philippines'\n\\item 'Poland'\n\\item 'Portugal'\n\\item 'Qatar'\n\\item 'Romania'\n\\item 'Russia'\n\\item 'Rwanda'\n\\item 'Saint Kitts and Nevis'\n\\item 'Saint Lucia'\n\\item 'Saint Vincent'\n\\item 'San Marino'\n\\item 'Saudi Arabia'\n\\item 'Senegal'\n\\item 'Serbia'\n\\item 'Singapore'\n\\item 'Slovakia'\n\\item 'Slovenia'\n\\item 'South Africa'\n\\item 'South Korea'\n\\item 'South Sudan'\n\\item 'Spain'\n\\item 'Sri Lanka'\n\\item 'Sudan'\n\\item 'Sweden'\n\\item 'Switzerland{[}l{]}'\n\\item 'Taiwan{[}m{]}'\n\\item 'Tanzania'\n\\item 'Thailand'\n\\item 'Togo'\n\\item 'Trinidad and Tobago'\n\\item 'Tunisia'\n\\item 'Turkey'\n\\item 'Uganda'\n\\item 'Ukraine'\n\\item 'United Arab Emirates'\n\\item 'United Kingdom'\n\\item 'United States'\n\\item 'Uruguay'\n\\item 'Uzbekistan'\n\\item 'Venezuela'\n\\item 'Vietnam'\n\\item 'Zambia'\n\\item 'Zimbabwe'\n\\end{enumerate*}\n",
            "text/plain": [
              "  [1] \"Afghanistan\"            \"Albania\"                \"Algeria\"               \n",
              "  [4] \"Andorra\"                \"Angola\"                 \"Antigua and Barbuda\"   \n",
              "  [7] \"Argentina\"              \"Armenia\"                \"Australia\"             \n",
              " [10] \"Austria\"                \"Azerbaijan\"             \"Bahamas\"               \n",
              " [13] \"Bahrain\"                \"Bangladesh\"             \"Barbados\"              \n",
              " [16] \"Belarus\"                \"Belgium\"                \"Belize\"                \n",
              " [19] \"Benin\"                  \"Bhutan\"                 \"Bolivia\"               \n",
              " [22] \"Bosnia and Herzegovina\" \"Botswana\"               \"Brazil\"                \n",
              " [25] \"Brunei\"                 \"Bulgaria\"               \"Burkina Faso\"          \n",
              " [28] \"Burundi\"                \"Cambodia\"               \"Cameroon\"              \n",
              " [31] \"Canada\"                 \"Chad\"                   \"Chile\"                 \n",
              " [34] \"China[c]\"               \"Colombia\"               \"Costa Rica\"            \n",
              " [37] \"Croatia\"                \"Cuba\"                   \"Cyprus[d]\"             \n",
              " [40] \"Czechia\"                \"Denmark[e]\"             \"Djibouti\"              \n",
              " [43] \"Dominica\"               \"Dominican Republic\"     \"DR Congo\"              \n",
              " [46] \"Ecuador\"                \"Egypt\"                  \"El Salvador\"           \n",
              " [49] \"Equatorial Guinea\"      \"Estonia\"                \"Eswatini\"              \n",
              " [52] \"Ethiopia\"               \"Faroe Islands\"          \"Fiji\"                  \n",
              " [55] \"Finland\"                \"France[f][g]\"           \"Gabon\"                 \n",
              " [58] \"Gambia\"                 \"Georgia[h]\"             \"Germany\"               \n",
              " [61] \"Ghana\"                  \"Greece\"                 \"Greenland\"             \n",
              " [64] \"Grenada\"                \"Guatemala\"              \"Guinea\"                \n",
              " [67] \"Guinea-Bissau\"          \"Guyana\"                 \"Haiti\"                 \n",
              " [70] \"Honduras\"               \"Hungary\"                \"Iceland\"               \n",
              " [73] \"India\"                  \"Indonesia\"              \"Iran\"                  \n",
              " [76] \"Iraq\"                   \"Ireland\"                \"Israel\"                \n",
              " [79] \"Italy\"                  \"Ivory Coast\"            \"Jamaica\"               \n",
              " [82] \"Japan\"                  \"Jordan\"                 \"Kazakhstan\"            \n",
              " [85] \"Kenya\"                  \"Kosovo\"                 \"Kuwait\"                \n",
              " [88] \"Kyrgyzstan\"             \"Laos\"                   \"Latvia\"                \n",
              " [91] \"Lebanon\"                \"Lesotho\"                \"Liberia\"               \n",
              " [94] \"Libya\"                  \"Lithuania\"              \"Luxembourg[i]\"         \n",
              " [97] \"Madagascar\"             \"Malawi\"                 \"Malaysia\"              \n",
              "[100] \"Maldives\"               \"Mali\"                   \"Malta\"                 \n",
              "[103] \"Mauritania\"             \"Mauritius\"              \"Mexico\"                \n",
              "[106] \"Moldova[j]\"             \"Mongolia\"               \"Montenegro\"            \n",
              "[109] \"Morocco\"                \"Mozambique\"             \"Myanmar\"               \n",
              "[112] \"Namibia\"                \"Nepal\"                  \"Netherlands\"           \n",
              "[115] \"New Caledonia\"          \"New Zealand\"            \"Niger\"                 \n",
              "[118] \"Nigeria\"                \"North Korea\"            \"North Macedonia\"       \n",
              "[121] \"Northern Cyprus[k]\"     \"Norway\"                 \"Oman\"                  \n",
              "[124] \"Pakistan\"               \"Palestine\"              \"Panama\"                \n",
              "[127] \"Papua New Guinea\"       \"Paraguay\"               \"Peru\"                  \n",
              "[130] \"Philippines\"            \"Poland\"                 \"Portugal\"              \n",
              "[133] \"Qatar\"                  \"Romania\"                \"Russia\"                \n",
              "[136] \"Rwanda\"                 \"Saint Kitts and Nevis\"  \"Saint Lucia\"           \n",
              "[139] \"Saint Vincent\"          \"San Marino\"             \"Saudi Arabia\"          \n",
              "[142] \"Senegal\"                \"Serbia\"                 \"Singapore\"             \n",
              "[145] \"Slovakia\"               \"Slovenia\"               \"South Africa\"          \n",
              "[148] \"South Korea\"            \"South Sudan\"            \"Spain\"                 \n",
              "[151] \"Sri Lanka\"              \"Sudan\"                  \"Sweden\"                \n",
              "[154] \"Switzerland[l]\"         \"Taiwan[m]\"              \"Tanzania\"              \n",
              "[157] \"Thailand\"               \"Togo\"                   \"Trinidad and Tobago\"   \n",
              "[160] \"Tunisia\"                \"Turkey\"                 \"Uganda\"                \n",
              "[163] \"Ukraine\"                \"United Arab Emirates\"   \"United Kingdom\"        \n",
              "[166] \"United States\"          \"Uruguay\"                \"Uzbekistan\"            \n",
              "[169] \"Venezuela\"              \"Vietnam\"                \"Zambia\"                \n",
              "[172] \"Zimbabwe\"              "
            ]
          },
          "metadata": {}
        },
        {
          "output_type": "display_data",
          "data": {
            "text/html": [
              "'character'"
            ],
            "text/markdown": "'character'",
            "text/latex": "'character'",
            "text/plain": [
              "[1] \"character\""
            ]
          },
          "metadata": {}
        },
        {
          "output_type": "display_data",
          "data": {
            "text/html": [
              "'character'"
            ],
            "text/markdown": "'character'",
            "text/latex": "'character'",
            "text/plain": [
              "[1] \"character\""
            ]
          },
          "metadata": {}
        },
        {
          "output_type": "display_data",
          "data": {
            "text/html": [
              "<style>\n",
              ".list-inline {list-style: none; margin:0; padding: 0}\n",
              ".list-inline>li {display: inline-block}\n",
              ".list-inline>li:not(:last-child)::after {content: \"\\00b7\"; padding: 0 .5ex}\n",
              "</style>\n",
              "<ol class=list-inline><li>'Afghanistan'</li><li>'Albania'</li><li>'Algeria'</li><li>'Andorra'</li><li>'Angola'</li><li>'Antigua and Barbuda'</li><li>'Argentina'</li><li>'Armenia'</li><li>'Australia'</li><li>'Austria'</li><li>'Azerbaijan'</li><li>'Bahamas'</li><li>'Bahrain'</li><li>'Bangladesh'</li><li>'Barbados'</li><li>'Belarus'</li><li>'Belgium'</li><li>'Belize'</li><li>'Benin'</li><li>'Bhutan'</li><li>'Bolivia'</li><li>'Bosnia and Herzegovina'</li><li>'Botswana'</li><li>'Brazil'</li><li>'Brunei'</li><li>'Bulgaria'</li><li>'Burkina Faso'</li><li>'Burundi'</li><li>'Cambodia'</li><li>'Cameroon'</li><li>'Canada'</li><li>'Chad'</li><li>'Chile'</li><li>'China[c]'</li><li>'Colombia'</li><li>'Costa Rica'</li><li>'Croatia'</li><li>'Cuba'</li><li>'Cyprus[d]'</li><li>'Czechia'</li><li>'Denmark[e]'</li><li>'Djibouti'</li><li>'Dominica'</li><li>'Dominican Republic'</li><li>'DR Congo'</li><li>'Ecuador'</li><li>'Egypt'</li><li>'El Salvador'</li><li>'Equatorial Guinea'</li><li>'Estonia'</li><li>'Eswatini'</li><li>'Ethiopia'</li><li>'Faroe Islands'</li><li>'Fiji'</li><li>'Finland'</li><li>'France[f][g]'</li><li>'Gabon'</li><li>'Gambia'</li><li>'Georgia[h]'</li><li>'Germany'</li><li>'Ghana'</li><li>'Greece'</li><li>'Greenland'</li><li>'Grenada'</li><li>'Guatemala'</li><li>'Guinea'</li><li>'Guinea-Bissau'</li><li>'Guyana'</li><li>'Haiti'</li><li>'Honduras'</li><li>'Hungary'</li><li>'Iceland'</li><li>'India'</li><li>'Indonesia'</li><li>'Iran'</li><li>'Iraq'</li><li>'Ireland'</li><li>'Israel'</li><li>'Italy'</li><li>'Ivory Coast'</li><li>'Jamaica'</li><li>'Japan'</li><li>'Jordan'</li><li>'Kazakhstan'</li><li>'Kenya'</li><li>'Kosovo'</li><li>'Kuwait'</li><li>'Kyrgyzstan'</li><li>'Laos'</li><li>'Latvia'</li><li>'Lebanon'</li><li>'Lesotho'</li><li>'Liberia'</li><li>'Libya'</li><li>'Lithuania'</li><li>'Luxembourg[i]'</li><li>'Madagascar'</li><li>'Malawi'</li><li>'Malaysia'</li><li>'Maldives'</li><li>'Mali'</li><li>'Malta'</li><li>'Mauritania'</li><li>'Mauritius'</li><li>'Mexico'</li><li>'Moldova[j]'</li><li>'Mongolia'</li><li>'Montenegro'</li><li>'Morocco'</li><li>'Mozambique'</li><li>'Myanmar'</li><li>'Namibia'</li><li>'Nepal'</li><li>'Netherlands'</li><li>'New Caledonia'</li><li>'New Zealand'</li><li>'Niger'</li><li>'Nigeria'</li><li>'North Korea'</li><li>'North Macedonia'</li><li>'Northern Cyprus[k]'</li><li>'Norway'</li><li>'Oman'</li><li>'Pakistan'</li><li>'Palestine'</li><li>'Panama'</li><li>'Papua New Guinea'</li><li>'Paraguay'</li><li>'Peru'</li><li>'Philippines'</li><li>'Poland'</li><li>'Portugal'</li><li>'Qatar'</li><li>'Romania'</li><li>'Russia'</li><li>'Rwanda'</li><li>'Saint Kitts and Nevis'</li><li>'Saint Lucia'</li><li>'Saint Vincent'</li><li>'San Marino'</li><li>'Saudi Arabia'</li><li>'Senegal'</li><li>'Serbia'</li><li>'Singapore'</li><li>'Slovakia'</li><li>'Slovenia'</li><li>'South Africa'</li><li>'South Korea'</li><li>'South Sudan'</li><li>'Spain'</li><li>'Sri Lanka'</li><li>'Sudan'</li><li>'Sweden'</li><li>'Switzerland[l]'</li><li>'Taiwan[m]'</li><li>'Tanzania'</li><li>'Thailand'</li><li>'Togo'</li><li>'Trinidad and Tobago'</li><li>'Tunisia'</li><li>'Turkey'</li><li>'Uganda'</li><li>'Ukraine'</li><li>'United Arab Emirates'</li><li>'United Kingdom'</li><li>'United States'</li><li>'Uruguay'</li><li>'Uzbekistan'</li><li>'Venezuela'</li><li>'Vietnam'</li><li>'Zambia'</li><li>'Zimbabwe'</li></ol>\n"
            ],
            "text/markdown": "1. 'Afghanistan'\n2. 'Albania'\n3. 'Algeria'\n4. 'Andorra'\n5. 'Angola'\n6. 'Antigua and Barbuda'\n7. 'Argentina'\n8. 'Armenia'\n9. 'Australia'\n10. 'Austria'\n11. 'Azerbaijan'\n12. 'Bahamas'\n13. 'Bahrain'\n14. 'Bangladesh'\n15. 'Barbados'\n16. 'Belarus'\n17. 'Belgium'\n18. 'Belize'\n19. 'Benin'\n20. 'Bhutan'\n21. 'Bolivia'\n22. 'Bosnia and Herzegovina'\n23. 'Botswana'\n24. 'Brazil'\n25. 'Brunei'\n26. 'Bulgaria'\n27. 'Burkina Faso'\n28. 'Burundi'\n29. 'Cambodia'\n30. 'Cameroon'\n31. 'Canada'\n32. 'Chad'\n33. 'Chile'\n34. 'China[c]'\n35. 'Colombia'\n36. 'Costa Rica'\n37. 'Croatia'\n38. 'Cuba'\n39. 'Cyprus[d]'\n40. 'Czechia'\n41. 'Denmark[e]'\n42. 'Djibouti'\n43. 'Dominica'\n44. 'Dominican Republic'\n45. 'DR Congo'\n46. 'Ecuador'\n47. 'Egypt'\n48. 'El Salvador'\n49. 'Equatorial Guinea'\n50. 'Estonia'\n51. 'Eswatini'\n52. 'Ethiopia'\n53. 'Faroe Islands'\n54. 'Fiji'\n55. 'Finland'\n56. 'France[f][g]'\n57. 'Gabon'\n58. 'Gambia'\n59. 'Georgia[h]'\n60. 'Germany'\n61. 'Ghana'\n62. 'Greece'\n63. 'Greenland'\n64. 'Grenada'\n65. 'Guatemala'\n66. 'Guinea'\n67. 'Guinea-Bissau'\n68. 'Guyana'\n69. 'Haiti'\n70. 'Honduras'\n71. 'Hungary'\n72. 'Iceland'\n73. 'India'\n74. 'Indonesia'\n75. 'Iran'\n76. 'Iraq'\n77. 'Ireland'\n78. 'Israel'\n79. 'Italy'\n80. 'Ivory Coast'\n81. 'Jamaica'\n82. 'Japan'\n83. 'Jordan'\n84. 'Kazakhstan'\n85. 'Kenya'\n86. 'Kosovo'\n87. 'Kuwait'\n88. 'Kyrgyzstan'\n89. 'Laos'\n90. 'Latvia'\n91. 'Lebanon'\n92. 'Lesotho'\n93. 'Liberia'\n94. 'Libya'\n95. 'Lithuania'\n96. 'Luxembourg[i]'\n97. 'Madagascar'\n98. 'Malawi'\n99. 'Malaysia'\n100. 'Maldives'\n101. 'Mali'\n102. 'Malta'\n103. 'Mauritania'\n104. 'Mauritius'\n105. 'Mexico'\n106. 'Moldova[j]'\n107. 'Mongolia'\n108. 'Montenegro'\n109. 'Morocco'\n110. 'Mozambique'\n111. 'Myanmar'\n112. 'Namibia'\n113. 'Nepal'\n114. 'Netherlands'\n115. 'New Caledonia'\n116. 'New Zealand'\n117. 'Niger'\n118. 'Nigeria'\n119. 'North Korea'\n120. 'North Macedonia'\n121. 'Northern Cyprus[k]'\n122. 'Norway'\n123. 'Oman'\n124. 'Pakistan'\n125. 'Palestine'\n126. 'Panama'\n127. 'Papua New Guinea'\n128. 'Paraguay'\n129. 'Peru'\n130. 'Philippines'\n131. 'Poland'\n132. 'Portugal'\n133. 'Qatar'\n134. 'Romania'\n135. 'Russia'\n136. 'Rwanda'\n137. 'Saint Kitts and Nevis'\n138. 'Saint Lucia'\n139. 'Saint Vincent'\n140. 'San Marino'\n141. 'Saudi Arabia'\n142. 'Senegal'\n143. 'Serbia'\n144. 'Singapore'\n145. 'Slovakia'\n146. 'Slovenia'\n147. 'South Africa'\n148. 'South Korea'\n149. 'South Sudan'\n150. 'Spain'\n151. 'Sri Lanka'\n152. 'Sudan'\n153. 'Sweden'\n154. 'Switzerland[l]'\n155. 'Taiwan[m]'\n156. 'Tanzania'\n157. 'Thailand'\n158. 'Togo'\n159. 'Trinidad and Tobago'\n160. 'Tunisia'\n161. 'Turkey'\n162. 'Uganda'\n163. 'Ukraine'\n164. 'United Arab Emirates'\n165. 'United Kingdom'\n166. 'United States'\n167. 'Uruguay'\n168. 'Uzbekistan'\n169. 'Venezuela'\n170. 'Vietnam'\n171. 'Zambia'\n172. 'Zimbabwe'\n\n\n",
            "text/latex": "\\begin{enumerate*}\n\\item 'Afghanistan'\n\\item 'Albania'\n\\item 'Algeria'\n\\item 'Andorra'\n\\item 'Angola'\n\\item 'Antigua and Barbuda'\n\\item 'Argentina'\n\\item 'Armenia'\n\\item 'Australia'\n\\item 'Austria'\n\\item 'Azerbaijan'\n\\item 'Bahamas'\n\\item 'Bahrain'\n\\item 'Bangladesh'\n\\item 'Barbados'\n\\item 'Belarus'\n\\item 'Belgium'\n\\item 'Belize'\n\\item 'Benin'\n\\item 'Bhutan'\n\\item 'Bolivia'\n\\item 'Bosnia and Herzegovina'\n\\item 'Botswana'\n\\item 'Brazil'\n\\item 'Brunei'\n\\item 'Bulgaria'\n\\item 'Burkina Faso'\n\\item 'Burundi'\n\\item 'Cambodia'\n\\item 'Cameroon'\n\\item 'Canada'\n\\item 'Chad'\n\\item 'Chile'\n\\item 'China{[}c{]}'\n\\item 'Colombia'\n\\item 'Costa Rica'\n\\item 'Croatia'\n\\item 'Cuba'\n\\item 'Cyprus{[}d{]}'\n\\item 'Czechia'\n\\item 'Denmark{[}e{]}'\n\\item 'Djibouti'\n\\item 'Dominica'\n\\item 'Dominican Republic'\n\\item 'DR Congo'\n\\item 'Ecuador'\n\\item 'Egypt'\n\\item 'El Salvador'\n\\item 'Equatorial Guinea'\n\\item 'Estonia'\n\\item 'Eswatini'\n\\item 'Ethiopia'\n\\item 'Faroe Islands'\n\\item 'Fiji'\n\\item 'Finland'\n\\item 'France{[}f{]}{[}g{]}'\n\\item 'Gabon'\n\\item 'Gambia'\n\\item 'Georgia{[}h{]}'\n\\item 'Germany'\n\\item 'Ghana'\n\\item 'Greece'\n\\item 'Greenland'\n\\item 'Grenada'\n\\item 'Guatemala'\n\\item 'Guinea'\n\\item 'Guinea-Bissau'\n\\item 'Guyana'\n\\item 'Haiti'\n\\item 'Honduras'\n\\item 'Hungary'\n\\item 'Iceland'\n\\item 'India'\n\\item 'Indonesia'\n\\item 'Iran'\n\\item 'Iraq'\n\\item 'Ireland'\n\\item 'Israel'\n\\item 'Italy'\n\\item 'Ivory Coast'\n\\item 'Jamaica'\n\\item 'Japan'\n\\item 'Jordan'\n\\item 'Kazakhstan'\n\\item 'Kenya'\n\\item 'Kosovo'\n\\item 'Kuwait'\n\\item 'Kyrgyzstan'\n\\item 'Laos'\n\\item 'Latvia'\n\\item 'Lebanon'\n\\item 'Lesotho'\n\\item 'Liberia'\n\\item 'Libya'\n\\item 'Lithuania'\n\\item 'Luxembourg{[}i{]}'\n\\item 'Madagascar'\n\\item 'Malawi'\n\\item 'Malaysia'\n\\item 'Maldives'\n\\item 'Mali'\n\\item 'Malta'\n\\item 'Mauritania'\n\\item 'Mauritius'\n\\item 'Mexico'\n\\item 'Moldova{[}j{]}'\n\\item 'Mongolia'\n\\item 'Montenegro'\n\\item 'Morocco'\n\\item 'Mozambique'\n\\item 'Myanmar'\n\\item 'Namibia'\n\\item 'Nepal'\n\\item 'Netherlands'\n\\item 'New Caledonia'\n\\item 'New Zealand'\n\\item 'Niger'\n\\item 'Nigeria'\n\\item 'North Korea'\n\\item 'North Macedonia'\n\\item 'Northern Cyprus{[}k{]}'\n\\item 'Norway'\n\\item 'Oman'\n\\item 'Pakistan'\n\\item 'Palestine'\n\\item 'Panama'\n\\item 'Papua New Guinea'\n\\item 'Paraguay'\n\\item 'Peru'\n\\item 'Philippines'\n\\item 'Poland'\n\\item 'Portugal'\n\\item 'Qatar'\n\\item 'Romania'\n\\item 'Russia'\n\\item 'Rwanda'\n\\item 'Saint Kitts and Nevis'\n\\item 'Saint Lucia'\n\\item 'Saint Vincent'\n\\item 'San Marino'\n\\item 'Saudi Arabia'\n\\item 'Senegal'\n\\item 'Serbia'\n\\item 'Singapore'\n\\item 'Slovakia'\n\\item 'Slovenia'\n\\item 'South Africa'\n\\item 'South Korea'\n\\item 'South Sudan'\n\\item 'Spain'\n\\item 'Sri Lanka'\n\\item 'Sudan'\n\\item 'Sweden'\n\\item 'Switzerland{[}l{]}'\n\\item 'Taiwan{[}m{]}'\n\\item 'Tanzania'\n\\item 'Thailand'\n\\item 'Togo'\n\\item 'Trinidad and Tobago'\n\\item 'Tunisia'\n\\item 'Turkey'\n\\item 'Uganda'\n\\item 'Ukraine'\n\\item 'United Arab Emirates'\n\\item 'United Kingdom'\n\\item 'United States'\n\\item 'Uruguay'\n\\item 'Uzbekistan'\n\\item 'Venezuela'\n\\item 'Vietnam'\n\\item 'Zambia'\n\\item 'Zimbabwe'\n\\end{enumerate*}\n",
            "text/plain": [
              "  [1] \"Afghanistan\"            \"Albania\"                \"Algeria\"               \n",
              "  [4] \"Andorra\"                \"Angola\"                 \"Antigua and Barbuda\"   \n",
              "  [7] \"Argentina\"              \"Armenia\"                \"Australia\"             \n",
              " [10] \"Austria\"                \"Azerbaijan\"             \"Bahamas\"               \n",
              " [13] \"Bahrain\"                \"Bangladesh\"             \"Barbados\"              \n",
              " [16] \"Belarus\"                \"Belgium\"                \"Belize\"                \n",
              " [19] \"Benin\"                  \"Bhutan\"                 \"Bolivia\"               \n",
              " [22] \"Bosnia and Herzegovina\" \"Botswana\"               \"Brazil\"                \n",
              " [25] \"Brunei\"                 \"Bulgaria\"               \"Burkina Faso\"          \n",
              " [28] \"Burundi\"                \"Cambodia\"               \"Cameroon\"              \n",
              " [31] \"Canada\"                 \"Chad\"                   \"Chile\"                 \n",
              " [34] \"China[c]\"               \"Colombia\"               \"Costa Rica\"            \n",
              " [37] \"Croatia\"                \"Cuba\"                   \"Cyprus[d]\"             \n",
              " [40] \"Czechia\"                \"Denmark[e]\"             \"Djibouti\"              \n",
              " [43] \"Dominica\"               \"Dominican Republic\"     \"DR Congo\"              \n",
              " [46] \"Ecuador\"                \"Egypt\"                  \"El Salvador\"           \n",
              " [49] \"Equatorial Guinea\"      \"Estonia\"                \"Eswatini\"              \n",
              " [52] \"Ethiopia\"               \"Faroe Islands\"          \"Fiji\"                  \n",
              " [55] \"Finland\"                \"France[f][g]\"           \"Gabon\"                 \n",
              " [58] \"Gambia\"                 \"Georgia[h]\"             \"Germany\"               \n",
              " [61] \"Ghana\"                  \"Greece\"                 \"Greenland\"             \n",
              " [64] \"Grenada\"                \"Guatemala\"              \"Guinea\"                \n",
              " [67] \"Guinea-Bissau\"          \"Guyana\"                 \"Haiti\"                 \n",
              " [70] \"Honduras\"               \"Hungary\"                \"Iceland\"               \n",
              " [73] \"India\"                  \"Indonesia\"              \"Iran\"                  \n",
              " [76] \"Iraq\"                   \"Ireland\"                \"Israel\"                \n",
              " [79] \"Italy\"                  \"Ivory Coast\"            \"Jamaica\"               \n",
              " [82] \"Japan\"                  \"Jordan\"                 \"Kazakhstan\"            \n",
              " [85] \"Kenya\"                  \"Kosovo\"                 \"Kuwait\"                \n",
              " [88] \"Kyrgyzstan\"             \"Laos\"                   \"Latvia\"                \n",
              " [91] \"Lebanon\"                \"Lesotho\"                \"Liberia\"               \n",
              " [94] \"Libya\"                  \"Lithuania\"              \"Luxembourg[i]\"         \n",
              " [97] \"Madagascar\"             \"Malawi\"                 \"Malaysia\"              \n",
              "[100] \"Maldives\"               \"Mali\"                   \"Malta\"                 \n",
              "[103] \"Mauritania\"             \"Mauritius\"              \"Mexico\"                \n",
              "[106] \"Moldova[j]\"             \"Mongolia\"               \"Montenegro\"            \n",
              "[109] \"Morocco\"                \"Mozambique\"             \"Myanmar\"               \n",
              "[112] \"Namibia\"                \"Nepal\"                  \"Netherlands\"           \n",
              "[115] \"New Caledonia\"          \"New Zealand\"            \"Niger\"                 \n",
              "[118] \"Nigeria\"                \"North Korea\"            \"North Macedonia\"       \n",
              "[121] \"Northern Cyprus[k]\"     \"Norway\"                 \"Oman\"                  \n",
              "[124] \"Pakistan\"               \"Palestine\"              \"Panama\"                \n",
              "[127] \"Papua New Guinea\"       \"Paraguay\"               \"Peru\"                  \n",
              "[130] \"Philippines\"            \"Poland\"                 \"Portugal\"              \n",
              "[133] \"Qatar\"                  \"Romania\"                \"Russia\"                \n",
              "[136] \"Rwanda\"                 \"Saint Kitts and Nevis\"  \"Saint Lucia\"           \n",
              "[139] \"Saint Vincent\"          \"San Marino\"             \"Saudi Arabia\"          \n",
              "[142] \"Senegal\"                \"Serbia\"                 \"Singapore\"             \n",
              "[145] \"Slovakia\"               \"Slovenia\"               \"South Africa\"          \n",
              "[148] \"South Korea\"            \"South Sudan\"            \"Spain\"                 \n",
              "[151] \"Sri Lanka\"              \"Sudan\"                  \"Sweden\"                \n",
              "[154] \"Switzerland[l]\"         \"Taiwan[m]\"              \"Tanzania\"              \n",
              "[157] \"Thailand\"               \"Togo\"                   \"Trinidad and Tobago\"   \n",
              "[160] \"Tunisia\"                \"Turkey\"                 \"Uganda\"                \n",
              "[163] \"Ukraine\"                \"United Arab Emirates\"   \"United Kingdom\"        \n",
              "[166] \"United States\"          \"Uruguay\"                \"Uzbekistan\"            \n",
              "[169] \"Venezuela\"              \"Vietnam\"                \"Zambia\"                \n",
              "[172] \"Zimbabwe\"              "
            ]
          },
          "metadata": {}
        },
        {
          "output_type": "stream",
          "name": "stdout",
          "text": [
            "  [1] \"Zimbabwe\"               \"Zambia\"                 \"Vietnam\"               \n",
            "  [4] \"Venezuela\"              \"Uzbekistan\"             \"Uruguay\"               \n",
            "  [7] \"United States\"          \"United Kingdom\"         \"United Arab Emirates\"  \n",
            " [10] \"Ukraine\"                \"Uganda\"                 \"Turkey\"                \n",
            " [13] \"Tunisia\"                \"Trinidad and Tobago\"    \"Togo\"                  \n",
            " [16] \"Thailand\"               \"Tanzania\"               \"Taiwan[m]\"             \n",
            " [19] \"Switzerland[l]\"         \"Sweden\"                 \"Sudan\"                 \n",
            " [22] \"Sri Lanka\"              \"Spain\"                  \"South Sudan\"           \n",
            " [25] \"South Korea\"            \"South Africa\"           \"Slovenia\"              \n",
            " [28] \"Slovakia\"               \"Singapore\"              \"Serbia\"                \n",
            " [31] \"Senegal\"                \"Saudi Arabia\"           \"San Marino\"            \n",
            " [34] \"Saint Vincent\"          \"Saint Lucia\"            \"Saint Kitts and Nevis\" \n",
            " [37] \"Rwanda\"                 \"Russia\"                 \"Romania\"               \n",
            " [40] \"Qatar\"                  \"Portugal\"               \"Poland\"                \n",
            " [43] \"Philippines\"            \"Peru\"                   \"Paraguay\"              \n",
            " [46] \"Papua New Guinea\"       \"Panama\"                 \"Palestine\"             \n",
            " [49] \"Pakistan\"               \"Oman\"                   \"Norway\"                \n",
            " [52] \"Northern Cyprus[k]\"     \"North Macedonia\"        \"North Korea\"           \n",
            " [55] \"Nigeria\"                \"Niger\"                  \"New Zealand\"           \n",
            " [58] \"New Caledonia\"          \"Netherlands\"            \"Nepal\"                 \n",
            " [61] \"Namibia\"                \"Myanmar\"                \"Mozambique\"            \n",
            " [64] \"Morocco\"                \"Montenegro\"             \"Mongolia\"              \n",
            " [67] \"Moldova[j]\"             \"Mexico\"                 \"Mauritius\"             \n",
            " [70] \"Mauritania\"             \"Malta\"                  \"Mali\"                  \n",
            " [73] \"Maldives\"               \"Malaysia\"               \"Malawi\"                \n",
            " [76] \"Madagascar\"             \"Luxembourg[i]\"          \"Lithuania\"             \n",
            " [79] \"Libya\"                  \"Liberia\"                \"Lesotho\"               \n",
            " [82] \"Lebanon\"                \"Latvia\"                 \"Laos\"                  \n",
            " [85] \"Kyrgyzstan\"             \"Kuwait\"                 \"Kosovo\"                \n",
            " [88] \"Kenya\"                  \"Kazakhstan\"             \"Jordan\"                \n",
            " [91] \"Japan\"                  \"Jamaica\"                \"Ivory Coast\"           \n",
            " [94] \"Italy\"                  \"Israel\"                 \"Ireland\"               \n",
            " [97] \"Iraq\"                   \"Iran\"                   \"Indonesia\"             \n",
            "[100] \"India\"                  \"Iceland\"                \"Hungary\"               \n",
            "[103] \"Honduras\"               \"Haiti\"                  \"Guyana\"                \n",
            "[106] \"Guinea-Bissau\"          \"Guinea\"                 \"Guatemala\"             \n",
            "[109] \"Grenada\"                \"Greenland\"              \"Greece\"                \n",
            "[112] \"Ghana\"                  \"Germany\"                \"Georgia[h]\"            \n",
            "[115] \"Gambia\"                 \"Gabon\"                  \"France[f][g]\"          \n",
            "[118] \"Finland\"                \"Fiji\"                   \"Faroe Islands\"         \n",
            "[121] \"Ethiopia\"               \"Eswatini\"               \"Estonia\"               \n",
            "[124] \"Equatorial Guinea\"      \"El Salvador\"            \"Egypt\"                 \n",
            "[127] \"Ecuador\"                \"DR Congo\"               \"Dominican Republic\"    \n",
            "[130] \"Dominica\"               \"Djibouti\"               \"Denmark[e]\"            \n",
            "[133] \"Czechia\"                \"Cyprus[d]\"              \"Cuba\"                  \n",
            "[136] \"Croatia\"                \"Costa Rica\"             \"Colombia\"              \n",
            "[139] \"China[c]\"               \"Chile\"                  \"Chad\"                  \n",
            "[142] \"Canada\"                 \"Cameroon\"               \"Cambodia\"              \n",
            "[145] \"Burundi\"                \"Burkina Faso\"           \"Bulgaria\"              \n",
            "[148] \"Brunei\"                 \"Brazil\"                 \"Botswana\"              \n",
            "[151] \"Bosnia and Herzegovina\" \"Bolivia\"                \"Bhutan\"                \n",
            "[154] \"Benin\"                  \"Belize\"                 \"Belgium\"               \n",
            "[157] \"Belarus\"                \"Barbados\"               \"Bangladesh\"            \n",
            "[160] \"Bahrain\"                \"Bahamas\"                \"Azerbaijan\"            \n",
            "[163] \"Austria\"                \"Australia\"              \"Armenia\"               \n",
            "[166] \"Argentina\"              \"Antigua and Barbuda\"    \"Angola\"                \n",
            "[169] \"Andorra\"                \"Algeria\"                \"Albania\"               \n",
            "[172] \"Afghanistan\"           \n"
          ]
        }
      ]
    },
    {
      "cell_type": "markdown",
      "source": [
        "### TASK 7: Identify countries names with a specific pattern\n",
        "\n",
        "Using a regular expression to find any countires start with United"
      ],
      "metadata": {
        "id": "n1Z0LR2rfFH0"
      }
    },
    {
      "cell_type": "code",
      "source": [
        "# Use a regular expression `United.+` to find matches\n",
        "country_matches <- regexpr('United.+', covid_data$country)\n",
        "\n",
        "# Print the matched country names\n",
        "regmatches(covid_data$country, country_matches)"
      ],
      "metadata": {
        "colab": {
          "base_uri": "https://localhost:8080/",
          "height": 34
        },
        "id": "8bNBAxHkY2yi",
        "outputId": "79db058e-9dfa-442e-ca23-02b107c34752"
      },
      "execution_count": 57,
      "outputs": [
        {
          "output_type": "display_data",
          "data": {
            "text/html": [
              "<style>\n",
              ".list-inline {list-style: none; margin:0; padding: 0}\n",
              ".list-inline>li {display: inline-block}\n",
              ".list-inline>li:not(:last-child)::after {content: \"\\00b7\"; padding: 0 .5ex}\n",
              "</style>\n",
              "<ol class=list-inline><li>'United Arab Emirates'</li><li>'United Kingdom'</li><li>'United States'</li></ol>\n"
            ],
            "text/markdown": "1. 'United Arab Emirates'\n2. 'United Kingdom'\n3. 'United States'\n\n\n",
            "text/latex": "\\begin{enumerate*}\n\\item 'United Arab Emirates'\n\\item 'United Kingdom'\n\\item 'United States'\n\\end{enumerate*}\n",
            "text/plain": [
              "[1] \"United Arab Emirates\" \"United Kingdom\"       \"United States\"       "
            ]
          },
          "metadata": {}
        }
      ]
    },
    {
      "cell_type": "markdown",
      "source": [
        "### TASK 8: Pick two countries you are interested, and then review their testing data\n",
        "\n",
        "Compare the COVID-19 test data between two countires, you will need to select two rows from the dataframe, and select country, confirmed, confirmed-population-ratio columns"
      ],
      "metadata": {
        "id": "TzWLPomJfPcO"
      }
    },
    {
      "cell_type": "code",
      "source": [
        "# Select a subset (should be only one row) of data frame based on a selected country name and columns\n",
        "india <- covid_data[covid_data$country=='India',c('country','tested','confirmed','confirmed.population.ratio')]\n",
        "india\n",
        "# Select a subset (should be only one row) of data frame based on a selected country name and columns\n",
        "usa <- covid_data[covid_data$country=='United States',c('country','tested','confirmed','confirmed.population.ratio')]\n",
        "usa"
      ],
      "metadata": {
        "colab": {
          "base_uri": "https://localhost:8080/",
          "height": 241
        },
        "id": "4PrCNLhQfUwE",
        "outputId": "a0acfe86-0710-471f-cbc2-4a564357d8cc"
      },
      "execution_count": 58,
      "outputs": [
        {
          "output_type": "display_data",
          "data": {
            "text/html": [
              "<table class=\"dataframe\">\n",
              "<caption>A data.frame: 1 × 4</caption>\n",
              "<thead>\n",
              "\t<tr><th></th><th scope=col>country</th><th scope=col>tested</th><th scope=col>confirmed</th><th scope=col>confirmed.population.ratio</th></tr>\n",
              "\t<tr><th></th><th scope=col>&lt;chr&gt;</th><th scope=col>&lt;dbl&gt;</th><th scope=col>&lt;int&gt;</th><th scope=col>&lt;dbl&gt;</th></tr>\n",
              "</thead>\n",
              "<tbody>\n",
              "\t<tr><th scope=row>73</th><td>India</td><td>866177937</td><td>43585554</td><td>31.7</td></tr>\n",
              "</tbody>\n",
              "</table>\n"
            ],
            "text/markdown": "\nA data.frame: 1 × 4\n\n| <!--/--> | country &lt;chr&gt; | tested &lt;dbl&gt; | confirmed &lt;int&gt; | confirmed.population.ratio &lt;dbl&gt; |\n|---|---|---|---|---|\n| 73 | India | 866177937 | 43585554 | 31.7 |\n\n",
            "text/latex": "A data.frame: 1 × 4\n\\begin{tabular}{r|llll}\n  & country & tested & confirmed & confirmed.population.ratio\\\\\n  & <chr> & <dbl> & <int> & <dbl>\\\\\n\\hline\n\t73 & India & 866177937 & 43585554 & 31.7\\\\\n\\end{tabular}\n",
            "text/plain": [
              "   country tested    confirmed confirmed.population.ratio\n",
              "73 India   866177937 43585554  31.7                      "
            ]
          },
          "metadata": {}
        },
        {
          "output_type": "display_data",
          "data": {
            "text/html": [
              "<table class=\"dataframe\">\n",
              "<caption>A data.frame: 1 × 4</caption>\n",
              "<thead>\n",
              "\t<tr><th></th><th scope=col>country</th><th scope=col>tested</th><th scope=col>confirmed</th><th scope=col>confirmed.population.ratio</th></tr>\n",
              "\t<tr><th></th><th scope=col>&lt;chr&gt;</th><th scope=col>&lt;dbl&gt;</th><th scope=col>&lt;int&gt;</th><th scope=col>&lt;dbl&gt;</th></tr>\n",
              "</thead>\n",
              "<tbody>\n",
              "\t<tr><th scope=row>166</th><td>United States</td><td>929349291</td><td>90749469</td><td>27.4</td></tr>\n",
              "</tbody>\n",
              "</table>\n"
            ],
            "text/markdown": "\nA data.frame: 1 × 4\n\n| <!--/--> | country &lt;chr&gt; | tested &lt;dbl&gt; | confirmed &lt;int&gt; | confirmed.population.ratio &lt;dbl&gt; |\n|---|---|---|---|---|\n| 166 | United States | 929349291 | 90749469 | 27.4 |\n\n",
            "text/latex": "A data.frame: 1 × 4\n\\begin{tabular}{r|llll}\n  & country & tested & confirmed & confirmed.population.ratio\\\\\n  & <chr> & <dbl> & <int> & <dbl>\\\\\n\\hline\n\t166 & United States & 929349291 & 90749469 & 27.4\\\\\n\\end{tabular}\n",
            "text/plain": [
              "    country       tested    confirmed confirmed.population.ratio\n",
              "166 United States 929349291 90749469  27.4                      "
            ]
          },
          "metadata": {}
        }
      ]
    },
    {
      "cell_type": "code",
      "source": [
        "#difference in testing\n",
        "india$tested > usa$tested\n",
        "#difference in confirmed\n",
        "india$confirmed > usa$confirmed"
      ],
      "metadata": {
        "colab": {
          "base_uri": "https://localhost:8080/",
          "height": 52
        },
        "id": "37Bbf5x_fU8n",
        "outputId": "fbe70dc5-e6e8-4b42-e03b-1382b3c521dd"
      },
      "execution_count": 59,
      "outputs": [
        {
          "output_type": "display_data",
          "data": {
            "text/html": [
              "FALSE"
            ],
            "text/markdown": "FALSE",
            "text/latex": "FALSE",
            "text/plain": [
              "[1] FALSE"
            ]
          },
          "metadata": {}
        },
        {
          "output_type": "display_data",
          "data": {
            "text/html": [
              "FALSE"
            ],
            "text/markdown": "FALSE",
            "text/latex": "FALSE",
            "text/plain": [
              "[1] FALSE"
            ]
          },
          "metadata": {}
        }
      ]
    },
    {
      "cell_type": "markdown",
      "source": [
        "### TASK 9: Compare which one of the selected countries has a larger ratio of confirmed cases to population\n",
        "\n",
        "Let's  find out which country you have selected before has larger ratio of confirmed cases to population, which may indicate that country has higher COVID-19 infection risk"
      ],
      "metadata": {
        "id": "7TNvMOPyfeph"
      }
    },
    {
      "cell_type": "code",
      "source": [
        "# Use if-else statement\n",
        "if (usa$confirmed.population.ratio > india$confirmed.population.ratio) {\n",
        "   print('USA higher covid-19 infection risk')\n",
        "} else {\n",
        "   print('India has higher covid-19 infection risk')\n",
        "}"
      ],
      "metadata": {
        "colab": {
          "base_uri": "https://localhost:8080/"
        },
        "id": "aGC08MNPfU-f",
        "outputId": "14be9501-b1f4-4066-b27e-2b4a5f12bb4a"
      },
      "execution_count": 60,
      "outputs": [
        {
          "output_type": "stream",
          "name": "stdout",
          "text": [
            "[1] \"India has higher covid-19 infection risk\"\n"
          ]
        }
      ]
    },
    {
      "cell_type": "markdown",
      "source": [
        "### TASK 10: Find countries with confirmed to population ratio rate less than a threshold\n",
        "\n",
        "Let's find out which countries have the confirmed to population ratio less than 1%, it may indicate the risk of those countries are relatively low"
      ],
      "metadata": {
        "id": "nm_P2l37fpy2"
      }
    },
    {
      "cell_type": "code",
      "source": [
        "# Get a subset of any countries with `confirmed.population.ratio` less than the threshold\n",
        "new_df <- covid_data[(covid_data$`confirmed.population.ratio` < 1), ]\n",
        "new_df"
      ],
      "metadata": {
        "colab": {
          "base_uri": "https://localhost:8080/",
          "height": 1000
        },
        "id": "TQD-DH9gfmUm",
        "outputId": "93814294-ef52-488a-a8b1-6b7e5ccc80b6"
      },
      "execution_count": 62,
      "outputs": [
        {
          "output_type": "display_data",
          "data": {
            "text/html": [
              "<table class=\"dataframe\">\n",
              "<caption>A data.frame: 53 × 7</caption>\n",
              "<thead>\n",
              "\t<tr><th></th><th scope=col>country</th><th scope=col>date</th><th scope=col>tested</th><th scope=col>confirmed</th><th scope=col>confirmed.tested.ratio</th><th scope=col>tested.population.ratio</th><th scope=col>confirmed.population.ratio</th></tr>\n",
              "\t<tr><th></th><th scope=col>&lt;chr&gt;</th><th scope=col>&lt;chr&gt;</th><th scope=col>&lt;dbl&gt;</th><th scope=col>&lt;int&gt;</th><th scope=col>&lt;dbl&gt;</th><th scope=col>&lt;dbl&gt;</th><th scope=col>&lt;dbl&gt;</th></tr>\n",
              "</thead>\n",
              "<tbody>\n",
              "\t<tr><th scope=row>1</th><td>Afghanistan        </td><td>17 Dec 2020</td><td>   154767</td><td>  49621</td><td>32.100</td><td> 0.4000</td><td>0.13000</td></tr>\n",
              "\t<tr><th scope=row>3</th><td>Algeria            </td><td>2 Nov 2020 </td><td>   230553</td><td>  58574</td><td>25.400</td><td> 0.5300</td><td>0.13000</td></tr>\n",
              "\t<tr><th scope=row>5</th><td>Angola             </td><td>2 Feb 2021 </td><td>   399228</td><td>  20981</td><td> 5.300</td><td> 1.3000</td><td>0.06700</td></tr>\n",
              "\t<tr><th scope=row>6</th><td>Antigua and Barbuda</td><td>6 Mar 2021 </td><td>    15268</td><td>    832</td><td> 5.400</td><td>15.9000</td><td>0.86000</td></tr>\n",
              "\t<tr><th scope=row>14</th><td>Bangladesh         </td><td>24 Jul 2021</td><td>  7417714</td><td>1151644</td><td>15.500</td><td> 4.5000</td><td>0.70000</td></tr>\n",
              "\t<tr><th scope=row>19</th><td>Benin              </td><td>4 May 2021 </td><td>   595112</td><td>   7884</td><td> 1.300</td><td> 5.1000</td><td>0.06700</td></tr>\n",
              "\t<tr><th scope=row>25</th><td>Brunei             </td><td>2 Aug 2021 </td><td>   153804</td><td>    338</td><td> 0.220</td><td>33.5000</td><td>0.07400</td></tr>\n",
              "\t<tr><th scope=row>27</th><td>Burkina Faso       </td><td>4 Mar 2021 </td><td>   158777</td><td>  12123</td><td> 7.600</td><td> 0.7600</td><td>0.05800</td></tr>\n",
              "\t<tr><th scope=row>28</th><td>Burundi            </td><td>5 Jan 2021 </td><td>    90019</td><td>    884</td><td> 0.980</td><td> 0.7600</td><td>0.00740</td></tr>\n",
              "\t<tr><th scope=row>29</th><td>Cambodia           </td><td>1 Aug 2021 </td><td>  1812706</td><td>  77914</td><td> 4.300</td><td>11.2000</td><td>0.48000</td></tr>\n",
              "\t<tr><th scope=row>30</th><td>Cameroon           </td><td>18 Feb 2021</td><td>   942685</td><td>  32681</td><td> 3.500</td><td> 3.6000</td><td>0.12000</td></tr>\n",
              "\t<tr><th scope=row>32</th><td>Chad               </td><td>2 Mar 2021 </td><td>    99027</td><td>   4020</td><td> 4.100</td><td> 0.7200</td><td>0.02900</td></tr>\n",
              "\t<tr><th scope=row>34</th><td>China[c]           </td><td>31 Jul 2020</td><td>160000000</td><td>  87655</td><td> 0.055</td><td>11.1000</td><td>0.00610</td></tr>\n",
              "\t<tr><th scope=row>45</th><td>DR Congo           </td><td>28 Feb 2021</td><td>   124838</td><td>  25961</td><td>20.800</td><td> 0.1400</td><td>0.02900</td></tr>\n",
              "\t<tr><th scope=row>47</th><td>Egypt              </td><td>23 Jul 2021</td><td>  3137519</td><td> 283947</td><td> 9.100</td><td> 3.1000</td><td>0.28000</td></tr>\n",
              "\t<tr><th scope=row>52</th><td>Ethiopia           </td><td>24 Jun 2021</td><td>  2981185</td><td> 278446</td><td> 9.300</td><td> 2.6000</td><td>0.24000</td></tr>\n",
              "\t<tr><th scope=row>57</th><td>Gabon              </td><td>23 Jul 2021</td><td>   958807</td><td>  25325</td><td> 2.600</td><td> 3.1000</td><td>0.08200</td></tr>\n",
              "\t<tr><th scope=row>58</th><td>Gambia             </td><td>15 Feb 2021</td><td>    43217</td><td>   4469</td><td>10.300</td><td> 2.0000</td><td>0.21000</td></tr>\n",
              "\t<tr><th scope=row>61</th><td>Ghana              </td><td>3 Jul 2021 </td><td>  1305749</td><td>  96708</td><td> 7.400</td><td> 4.2000</td><td>0.31000</td></tr>\n",
              "\t<tr><th scope=row>64</th><td>Grenada            </td><td>11 May 2021</td><td>    28684</td><td>    161</td><td> 0.560</td><td>25.7000</td><td>0.14000</td></tr>\n",
              "\t<tr><th scope=row>66</th><td>Guinea             </td><td>21 Jul 2021</td><td>   494898</td><td>  24878</td><td> 5.000</td><td> 3.8000</td><td>0.19000</td></tr>\n",
              "\t<tr><th scope=row>67</th><td>Guinea-Bissau      </td><td>7 Jul 2022 </td><td>   145231</td><td>   8400</td><td> 5.800</td><td> 7.7000</td><td>0.45000</td></tr>\n",
              "\t<tr><th scope=row>69</th><td>Haiti              </td><td>26 Nov 2022</td><td>   223475</td><td>  33874</td><td>15.200</td><td> 2.0000</td><td>0.30000</td></tr>\n",
              "\t<tr><th scope=row>80</th><td>Ivory Coast        </td><td>3 Mar 2021 </td><td>   429177</td><td>  33285</td><td> 7.800</td><td> 1.6000</td><td>0.13000</td></tr>\n",
              "\t<tr><th scope=row>82</th><td>Japan              </td><td>1 Mar 2021 </td><td>  8487288</td><td> 432773</td><td> 5.100</td><td> 6.7000</td><td>0.34000</td></tr>\n",
              "\t<tr><th scope=row>85</th><td>Kenya              </td><td>5 Mar 2021 </td><td>  1322806</td><td> 107729</td><td> 8.100</td><td> 2.8000</td><td>0.23000</td></tr>\n",
              "\t<tr><th scope=row>89</th><td>Laos               </td><td>1 Mar 2021 </td><td>   114030</td><td>     45</td><td> 0.039</td><td> 1.6000</td><td>0.00063</td></tr>\n",
              "\t<tr><th scope=row>93</th><td>Liberia            </td><td>17 Jul 2021</td><td>   128246</td><td>   5396</td><td> 4.200</td><td> 2.5000</td><td>0.11000</td></tr>\n",
              "\t<tr><th scope=row>97</th><td>Madagascar         </td><td>19 Feb 2021</td><td>   119608</td><td>  19831</td><td>16.600</td><td> 0.4600</td><td>0.07600</td></tr>\n",
              "\t<tr><th scope=row>98</th><td>Malawi             </td><td>29 Nov 2022</td><td>   624784</td><td>  88086</td><td>14.100</td><td> 3.3000</td><td>0.46000</td></tr>\n",
              "\t<tr><th scope=row>101</th><td>Mali               </td><td>7 Jul 2021 </td><td>   322504</td><td>  14449</td><td> 4.500</td><td> 1.6000</td><td>0.07100</td></tr>\n",
              "\t<tr><th scope=row>103</th><td>Mauritania         </td><td>16 Apr 2021</td><td>   268093</td><td>  18103</td><td> 6.800</td><td> 6.1000</td><td>0.41000</td></tr>\n",
              "\t<tr><th scope=row>104</th><td>Mauritius          </td><td>22 Nov 2020</td><td>   289552</td><td>    494</td><td> 0.170</td><td>22.9000</td><td>0.03900</td></tr>\n",
              "\t<tr><th scope=row>110</th><td>Mozambique         </td><td>22 Jul 2021</td><td>   688570</td><td> 105866</td><td>15.400</td><td> 2.2000</td><td>0.34000</td></tr>\n",
              "\t<tr><th scope=row>111</th><td>Myanmar            </td><td>16 Sep 2021</td><td>  4047680</td><td> 440741</td><td>10.900</td><td> 7.4000</td><td>0.81000</td></tr>\n",
              "\t<tr><th scope=row>115</th><td>New Caledonia      </td><td>3 Sep 2021 </td><td>    41962</td><td>    136</td><td> 0.320</td><td>15.7000</td><td>0.05000</td></tr>\n",
              "\t<tr><th scope=row>117</th><td>Niger              </td><td>22 Feb 2021</td><td>    79321</td><td>   4740</td><td> 6.000</td><td> 0.3500</td><td>0.02100</td></tr>\n",
              "\t<tr><th scope=row>118</th><td>Nigeria            </td><td>28 Feb 2021</td><td>  1544008</td><td> 155657</td><td>10.100</td><td> 0.7500</td><td>0.07600</td></tr>\n",
              "\t<tr><th scope=row>119</th><td>North Korea        </td><td>25 Nov 2020</td><td>    16914</td><td>      0</td><td> 0.000</td><td> 0.0660</td><td>0.00000</td></tr>\n",
              "\t<tr><th scope=row>124</th><td>Pakistan           </td><td>5 Mar 2021 </td><td>  9173593</td><td> 588728</td><td> 6.400</td><td> 4.2000</td><td>0.27000</td></tr>\n",
              "\t<tr><th scope=row>127</th><td>Papua New Guinea   </td><td>17 Feb 2021</td><td>    47490</td><td>    961</td><td> 2.000</td><td> 0.5300</td><td>0.01100</td></tr>\n",
              "\t<tr><th scope=row>136</th><td>Rwanda             </td><td>6 Oct 2021 </td><td>  2885812</td><td>  98209</td><td> 3.400</td><td>22.3000</td><td>0.76000</td></tr>\n",
              "\t<tr><th scope=row>142</th><td>Senegal            </td><td>12 Jul 2021</td><td>   624502</td><td>  46509</td><td> 7.400</td><td> 3.9000</td><td>0.29000</td></tr>\n",
              "\t<tr><th scope=row>148</th><td>South Korea        </td><td>1 Mar 2021 </td><td>  6592010</td><td>  90029</td><td> 1.400</td><td>12.7000</td><td>0.17000</td></tr>\n",
              "\t<tr><th scope=row>149</th><td>South Sudan        </td><td>26 May 2021</td><td>   164472</td><td>  10688</td><td> 6.500</td><td> 1.3000</td><td>0.08400</td></tr>\n",
              "\t<tr><th scope=row>151</th><td>Sri Lanka          </td><td>30 Mar 2021</td><td>  2384745</td><td>  93128</td><td> 3.900</td><td>10.9000</td><td>0.43000</td></tr>\n",
              "\t<tr><th scope=row>152</th><td>Sudan              </td><td>7 Jan 2021 </td><td>   158804</td><td>  23316</td><td>14.700</td><td> 0.3600</td><td>0.05300</td></tr>\n",
              "\t<tr><th scope=row>156</th><td>Tanzania           </td><td>18 Nov 2020</td><td>     3880</td><td>    509</td><td>13.100</td><td> 0.0065</td><td>0.00085</td></tr>\n",
              "\t<tr><th scope=row>157</th><td>Thailand           </td><td>4 Mar 2021 </td><td>  1579597</td><td>  26162</td><td> 1.700</td><td> 2.3000</td><td>0.03800</td></tr>\n",
              "\t<tr><th scope=row>158</th><td>Togo               </td><td>6 Jan 2023 </td><td>   807269</td><td>  39358</td><td> 4.900</td><td> 9.4000</td><td>0.46000</td></tr>\n",
              "\t<tr><th scope=row>162</th><td>Uganda             </td><td>11 Feb 2021</td><td>   852444</td><td>  39979</td><td> 4.700</td><td> 1.9000</td><td>0.08700</td></tr>\n",
              "\t<tr><th scope=row>168</th><td>Uzbekistan         </td><td>7 Sep 2020 </td><td>  2630000</td><td>  43975</td><td> 1.700</td><td> 7.7000</td><td>0.13000</td></tr>\n",
              "\t<tr><th scope=row>169</th><td>Venezuela          </td><td>30 Mar 2021</td><td>  3179074</td><td> 159149</td><td> 5.000</td><td>11.0000</td><td>0.55000</td></tr>\n",
              "</tbody>\n",
              "</table>\n"
            ],
            "text/markdown": "\nA data.frame: 53 × 7\n\n| <!--/--> | country &lt;chr&gt; | date &lt;chr&gt; | tested &lt;dbl&gt; | confirmed &lt;int&gt; | confirmed.tested.ratio &lt;dbl&gt; | tested.population.ratio &lt;dbl&gt; | confirmed.population.ratio &lt;dbl&gt; |\n|---|---|---|---|---|---|---|---|\n| 1 | Afghanistan         | 17 Dec 2020 |    154767 |   49621 | 32.100 |  0.4000 | 0.13000 |\n| 3 | Algeria             | 2 Nov 2020  |    230553 |   58574 | 25.400 |  0.5300 | 0.13000 |\n| 5 | Angola              | 2 Feb 2021  |    399228 |   20981 |  5.300 |  1.3000 | 0.06700 |\n| 6 | Antigua and Barbuda | 6 Mar 2021  |     15268 |     832 |  5.400 | 15.9000 | 0.86000 |\n| 14 | Bangladesh          | 24 Jul 2021 |   7417714 | 1151644 | 15.500 |  4.5000 | 0.70000 |\n| 19 | Benin               | 4 May 2021  |    595112 |    7884 |  1.300 |  5.1000 | 0.06700 |\n| 25 | Brunei              | 2 Aug 2021  |    153804 |     338 |  0.220 | 33.5000 | 0.07400 |\n| 27 | Burkina Faso        | 4 Mar 2021  |    158777 |   12123 |  7.600 |  0.7600 | 0.05800 |\n| 28 | Burundi             | 5 Jan 2021  |     90019 |     884 |  0.980 |  0.7600 | 0.00740 |\n| 29 | Cambodia            | 1 Aug 2021  |   1812706 |   77914 |  4.300 | 11.2000 | 0.48000 |\n| 30 | Cameroon            | 18 Feb 2021 |    942685 |   32681 |  3.500 |  3.6000 | 0.12000 |\n| 32 | Chad                | 2 Mar 2021  |     99027 |    4020 |  4.100 |  0.7200 | 0.02900 |\n| 34 | China[c]            | 31 Jul 2020 | 160000000 |   87655 |  0.055 | 11.1000 | 0.00610 |\n| 45 | DR Congo            | 28 Feb 2021 |    124838 |   25961 | 20.800 |  0.1400 | 0.02900 |\n| 47 | Egypt               | 23 Jul 2021 |   3137519 |  283947 |  9.100 |  3.1000 | 0.28000 |\n| 52 | Ethiopia            | 24 Jun 2021 |   2981185 |  278446 |  9.300 |  2.6000 | 0.24000 |\n| 57 | Gabon               | 23 Jul 2021 |    958807 |   25325 |  2.600 |  3.1000 | 0.08200 |\n| 58 | Gambia              | 15 Feb 2021 |     43217 |    4469 | 10.300 |  2.0000 | 0.21000 |\n| 61 | Ghana               | 3 Jul 2021  |   1305749 |   96708 |  7.400 |  4.2000 | 0.31000 |\n| 64 | Grenada             | 11 May 2021 |     28684 |     161 |  0.560 | 25.7000 | 0.14000 |\n| 66 | Guinea              | 21 Jul 2021 |    494898 |   24878 |  5.000 |  3.8000 | 0.19000 |\n| 67 | Guinea-Bissau       | 7 Jul 2022  |    145231 |    8400 |  5.800 |  7.7000 | 0.45000 |\n| 69 | Haiti               | 26 Nov 2022 |    223475 |   33874 | 15.200 |  2.0000 | 0.30000 |\n| 80 | Ivory Coast         | 3 Mar 2021  |    429177 |   33285 |  7.800 |  1.6000 | 0.13000 |\n| 82 | Japan               | 1 Mar 2021  |   8487288 |  432773 |  5.100 |  6.7000 | 0.34000 |\n| 85 | Kenya               | 5 Mar 2021  |   1322806 |  107729 |  8.100 |  2.8000 | 0.23000 |\n| 89 | Laos                | 1 Mar 2021  |    114030 |      45 |  0.039 |  1.6000 | 0.00063 |\n| 93 | Liberia             | 17 Jul 2021 |    128246 |    5396 |  4.200 |  2.5000 | 0.11000 |\n| 97 | Madagascar          | 19 Feb 2021 |    119608 |   19831 | 16.600 |  0.4600 | 0.07600 |\n| 98 | Malawi              | 29 Nov 2022 |    624784 |   88086 | 14.100 |  3.3000 | 0.46000 |\n| 101 | Mali                | 7 Jul 2021  |    322504 |   14449 |  4.500 |  1.6000 | 0.07100 |\n| 103 | Mauritania          | 16 Apr 2021 |    268093 |   18103 |  6.800 |  6.1000 | 0.41000 |\n| 104 | Mauritius           | 22 Nov 2020 |    289552 |     494 |  0.170 | 22.9000 | 0.03900 |\n| 110 | Mozambique          | 22 Jul 2021 |    688570 |  105866 | 15.400 |  2.2000 | 0.34000 |\n| 111 | Myanmar             | 16 Sep 2021 |   4047680 |  440741 | 10.900 |  7.4000 | 0.81000 |\n| 115 | New Caledonia       | 3 Sep 2021  |     41962 |     136 |  0.320 | 15.7000 | 0.05000 |\n| 117 | Niger               | 22 Feb 2021 |     79321 |    4740 |  6.000 |  0.3500 | 0.02100 |\n| 118 | Nigeria             | 28 Feb 2021 |   1544008 |  155657 | 10.100 |  0.7500 | 0.07600 |\n| 119 | North Korea         | 25 Nov 2020 |     16914 |       0 |  0.000 |  0.0660 | 0.00000 |\n| 124 | Pakistan            | 5 Mar 2021  |   9173593 |  588728 |  6.400 |  4.2000 | 0.27000 |\n| 127 | Papua New Guinea    | 17 Feb 2021 |     47490 |     961 |  2.000 |  0.5300 | 0.01100 |\n| 136 | Rwanda              | 6 Oct 2021  |   2885812 |   98209 |  3.400 | 22.3000 | 0.76000 |\n| 142 | Senegal             | 12 Jul 2021 |    624502 |   46509 |  7.400 |  3.9000 | 0.29000 |\n| 148 | South Korea         | 1 Mar 2021  |   6592010 |   90029 |  1.400 | 12.7000 | 0.17000 |\n| 149 | South Sudan         | 26 May 2021 |    164472 |   10688 |  6.500 |  1.3000 | 0.08400 |\n| 151 | Sri Lanka           | 30 Mar 2021 |   2384745 |   93128 |  3.900 | 10.9000 | 0.43000 |\n| 152 | Sudan               | 7 Jan 2021  |    158804 |   23316 | 14.700 |  0.3600 | 0.05300 |\n| 156 | Tanzania            | 18 Nov 2020 |      3880 |     509 | 13.100 |  0.0065 | 0.00085 |\n| 157 | Thailand            | 4 Mar 2021  |   1579597 |   26162 |  1.700 |  2.3000 | 0.03800 |\n| 158 | Togo                | 6 Jan 2023  |    807269 |   39358 |  4.900 |  9.4000 | 0.46000 |\n| 162 | Uganda              | 11 Feb 2021 |    852444 |   39979 |  4.700 |  1.9000 | 0.08700 |\n| 168 | Uzbekistan          | 7 Sep 2020  |   2630000 |   43975 |  1.700 |  7.7000 | 0.13000 |\n| 169 | Venezuela           | 30 Mar 2021 |   3179074 |  159149 |  5.000 | 11.0000 | 0.55000 |\n\n",
            "text/latex": "A data.frame: 53 × 7\n\\begin{tabular}{r|lllllll}\n  & country & date & tested & confirmed & confirmed.tested.ratio & tested.population.ratio & confirmed.population.ratio\\\\\n  & <chr> & <chr> & <dbl> & <int> & <dbl> & <dbl> & <dbl>\\\\\n\\hline\n\t1 & Afghanistan         & 17 Dec 2020 &    154767 &   49621 & 32.100 &  0.4000 & 0.13000\\\\\n\t3 & Algeria             & 2 Nov 2020  &    230553 &   58574 & 25.400 &  0.5300 & 0.13000\\\\\n\t5 & Angola              & 2 Feb 2021  &    399228 &   20981 &  5.300 &  1.3000 & 0.06700\\\\\n\t6 & Antigua and Barbuda & 6 Mar 2021  &     15268 &     832 &  5.400 & 15.9000 & 0.86000\\\\\n\t14 & Bangladesh          & 24 Jul 2021 &   7417714 & 1151644 & 15.500 &  4.5000 & 0.70000\\\\\n\t19 & Benin               & 4 May 2021  &    595112 &    7884 &  1.300 &  5.1000 & 0.06700\\\\\n\t25 & Brunei              & 2 Aug 2021  &    153804 &     338 &  0.220 & 33.5000 & 0.07400\\\\\n\t27 & Burkina Faso        & 4 Mar 2021  &    158777 &   12123 &  7.600 &  0.7600 & 0.05800\\\\\n\t28 & Burundi             & 5 Jan 2021  &     90019 &     884 &  0.980 &  0.7600 & 0.00740\\\\\n\t29 & Cambodia            & 1 Aug 2021  &   1812706 &   77914 &  4.300 & 11.2000 & 0.48000\\\\\n\t30 & Cameroon            & 18 Feb 2021 &    942685 &   32681 &  3.500 &  3.6000 & 0.12000\\\\\n\t32 & Chad                & 2 Mar 2021  &     99027 &    4020 &  4.100 &  0.7200 & 0.02900\\\\\n\t34 & China{[}c{]}            & 31 Jul 2020 & 160000000 &   87655 &  0.055 & 11.1000 & 0.00610\\\\\n\t45 & DR Congo            & 28 Feb 2021 &    124838 &   25961 & 20.800 &  0.1400 & 0.02900\\\\\n\t47 & Egypt               & 23 Jul 2021 &   3137519 &  283947 &  9.100 &  3.1000 & 0.28000\\\\\n\t52 & Ethiopia            & 24 Jun 2021 &   2981185 &  278446 &  9.300 &  2.6000 & 0.24000\\\\\n\t57 & Gabon               & 23 Jul 2021 &    958807 &   25325 &  2.600 &  3.1000 & 0.08200\\\\\n\t58 & Gambia              & 15 Feb 2021 &     43217 &    4469 & 10.300 &  2.0000 & 0.21000\\\\\n\t61 & Ghana               & 3 Jul 2021  &   1305749 &   96708 &  7.400 &  4.2000 & 0.31000\\\\\n\t64 & Grenada             & 11 May 2021 &     28684 &     161 &  0.560 & 25.7000 & 0.14000\\\\\n\t66 & Guinea              & 21 Jul 2021 &    494898 &   24878 &  5.000 &  3.8000 & 0.19000\\\\\n\t67 & Guinea-Bissau       & 7 Jul 2022  &    145231 &    8400 &  5.800 &  7.7000 & 0.45000\\\\\n\t69 & Haiti               & 26 Nov 2022 &    223475 &   33874 & 15.200 &  2.0000 & 0.30000\\\\\n\t80 & Ivory Coast         & 3 Mar 2021  &    429177 &   33285 &  7.800 &  1.6000 & 0.13000\\\\\n\t82 & Japan               & 1 Mar 2021  &   8487288 &  432773 &  5.100 &  6.7000 & 0.34000\\\\\n\t85 & Kenya               & 5 Mar 2021  &   1322806 &  107729 &  8.100 &  2.8000 & 0.23000\\\\\n\t89 & Laos                & 1 Mar 2021  &    114030 &      45 &  0.039 &  1.6000 & 0.00063\\\\\n\t93 & Liberia             & 17 Jul 2021 &    128246 &    5396 &  4.200 &  2.5000 & 0.11000\\\\\n\t97 & Madagascar          & 19 Feb 2021 &    119608 &   19831 & 16.600 &  0.4600 & 0.07600\\\\\n\t98 & Malawi              & 29 Nov 2022 &    624784 &   88086 & 14.100 &  3.3000 & 0.46000\\\\\n\t101 & Mali                & 7 Jul 2021  &    322504 &   14449 &  4.500 &  1.6000 & 0.07100\\\\\n\t103 & Mauritania          & 16 Apr 2021 &    268093 &   18103 &  6.800 &  6.1000 & 0.41000\\\\\n\t104 & Mauritius           & 22 Nov 2020 &    289552 &     494 &  0.170 & 22.9000 & 0.03900\\\\\n\t110 & Mozambique          & 22 Jul 2021 &    688570 &  105866 & 15.400 &  2.2000 & 0.34000\\\\\n\t111 & Myanmar             & 16 Sep 2021 &   4047680 &  440741 & 10.900 &  7.4000 & 0.81000\\\\\n\t115 & New Caledonia       & 3 Sep 2021  &     41962 &     136 &  0.320 & 15.7000 & 0.05000\\\\\n\t117 & Niger               & 22 Feb 2021 &     79321 &    4740 &  6.000 &  0.3500 & 0.02100\\\\\n\t118 & Nigeria             & 28 Feb 2021 &   1544008 &  155657 & 10.100 &  0.7500 & 0.07600\\\\\n\t119 & North Korea         & 25 Nov 2020 &     16914 &       0 &  0.000 &  0.0660 & 0.00000\\\\\n\t124 & Pakistan            & 5 Mar 2021  &   9173593 &  588728 &  6.400 &  4.2000 & 0.27000\\\\\n\t127 & Papua New Guinea    & 17 Feb 2021 &     47490 &     961 &  2.000 &  0.5300 & 0.01100\\\\\n\t136 & Rwanda              & 6 Oct 2021  &   2885812 &   98209 &  3.400 & 22.3000 & 0.76000\\\\\n\t142 & Senegal             & 12 Jul 2021 &    624502 &   46509 &  7.400 &  3.9000 & 0.29000\\\\\n\t148 & South Korea         & 1 Mar 2021  &   6592010 &   90029 &  1.400 & 12.7000 & 0.17000\\\\\n\t149 & South Sudan         & 26 May 2021 &    164472 &   10688 &  6.500 &  1.3000 & 0.08400\\\\\n\t151 & Sri Lanka           & 30 Mar 2021 &   2384745 &   93128 &  3.900 & 10.9000 & 0.43000\\\\\n\t152 & Sudan               & 7 Jan 2021  &    158804 &   23316 & 14.700 &  0.3600 & 0.05300\\\\\n\t156 & Tanzania            & 18 Nov 2020 &      3880 &     509 & 13.100 &  0.0065 & 0.00085\\\\\n\t157 & Thailand            & 4 Mar 2021  &   1579597 &   26162 &  1.700 &  2.3000 & 0.03800\\\\\n\t158 & Togo                & 6 Jan 2023  &    807269 &   39358 &  4.900 &  9.4000 & 0.46000\\\\\n\t162 & Uganda              & 11 Feb 2021 &    852444 &   39979 &  4.700 &  1.9000 & 0.08700\\\\\n\t168 & Uzbekistan          & 7 Sep 2020  &   2630000 &   43975 &  1.700 &  7.7000 & 0.13000\\\\\n\t169 & Venezuela           & 30 Mar 2021 &   3179074 &  159149 &  5.000 & 11.0000 & 0.55000\\\\\n\\end{tabular}\n",
            "text/plain": [
              "    country             date        tested    confirmed confirmed.tested.ratio\n",
              "1   Afghanistan         17 Dec 2020    154767   49621   32.100                \n",
              "3   Algeria             2 Nov 2020     230553   58574   25.400                \n",
              "5   Angola              2 Feb 2021     399228   20981    5.300                \n",
              "6   Antigua and Barbuda 6 Mar 2021      15268     832    5.400                \n",
              "14  Bangladesh          24 Jul 2021   7417714 1151644   15.500                \n",
              "19  Benin               4 May 2021     595112    7884    1.300                \n",
              "25  Brunei              2 Aug 2021     153804     338    0.220                \n",
              "27  Burkina Faso        4 Mar 2021     158777   12123    7.600                \n",
              "28  Burundi             5 Jan 2021      90019     884    0.980                \n",
              "29  Cambodia            1 Aug 2021    1812706   77914    4.300                \n",
              "30  Cameroon            18 Feb 2021    942685   32681    3.500                \n",
              "32  Chad                2 Mar 2021      99027    4020    4.100                \n",
              "34  China[c]            31 Jul 2020 160000000   87655    0.055                \n",
              "45  DR Congo            28 Feb 2021    124838   25961   20.800                \n",
              "47  Egypt               23 Jul 2021   3137519  283947    9.100                \n",
              "52  Ethiopia            24 Jun 2021   2981185  278446    9.300                \n",
              "57  Gabon               23 Jul 2021    958807   25325    2.600                \n",
              "58  Gambia              15 Feb 2021     43217    4469   10.300                \n",
              "61  Ghana               3 Jul 2021    1305749   96708    7.400                \n",
              "64  Grenada             11 May 2021     28684     161    0.560                \n",
              "66  Guinea              21 Jul 2021    494898   24878    5.000                \n",
              "67  Guinea-Bissau       7 Jul 2022     145231    8400    5.800                \n",
              "69  Haiti               26 Nov 2022    223475   33874   15.200                \n",
              "80  Ivory Coast         3 Mar 2021     429177   33285    7.800                \n",
              "82  Japan               1 Mar 2021    8487288  432773    5.100                \n",
              "85  Kenya               5 Mar 2021    1322806  107729    8.100                \n",
              "89  Laos                1 Mar 2021     114030      45    0.039                \n",
              "93  Liberia             17 Jul 2021    128246    5396    4.200                \n",
              "97  Madagascar          19 Feb 2021    119608   19831   16.600                \n",
              "98  Malawi              29 Nov 2022    624784   88086   14.100                \n",
              "101 Mali                7 Jul 2021     322504   14449    4.500                \n",
              "103 Mauritania          16 Apr 2021    268093   18103    6.800                \n",
              "104 Mauritius           22 Nov 2020    289552     494    0.170                \n",
              "110 Mozambique          22 Jul 2021    688570  105866   15.400                \n",
              "111 Myanmar             16 Sep 2021   4047680  440741   10.900                \n",
              "115 New Caledonia       3 Sep 2021      41962     136    0.320                \n",
              "117 Niger               22 Feb 2021     79321    4740    6.000                \n",
              "118 Nigeria             28 Feb 2021   1544008  155657   10.100                \n",
              "119 North Korea         25 Nov 2020     16914       0    0.000                \n",
              "124 Pakistan            5 Mar 2021    9173593  588728    6.400                \n",
              "127 Papua New Guinea    17 Feb 2021     47490     961    2.000                \n",
              "136 Rwanda              6 Oct 2021    2885812   98209    3.400                \n",
              "142 Senegal             12 Jul 2021    624502   46509    7.400                \n",
              "148 South Korea         1 Mar 2021    6592010   90029    1.400                \n",
              "149 South Sudan         26 May 2021    164472   10688    6.500                \n",
              "151 Sri Lanka           30 Mar 2021   2384745   93128    3.900                \n",
              "152 Sudan               7 Jan 2021     158804   23316   14.700                \n",
              "156 Tanzania            18 Nov 2020      3880     509   13.100                \n",
              "157 Thailand            4 Mar 2021    1579597   26162    1.700                \n",
              "158 Togo                6 Jan 2023     807269   39358    4.900                \n",
              "162 Uganda              11 Feb 2021    852444   39979    4.700                \n",
              "168 Uzbekistan          7 Sep 2020    2630000   43975    1.700                \n",
              "169 Venezuela           30 Mar 2021   3179074  159149    5.000                \n",
              "    tested.population.ratio confirmed.population.ratio\n",
              "1    0.4000                 0.13000                   \n",
              "3    0.5300                 0.13000                   \n",
              "5    1.3000                 0.06700                   \n",
              "6   15.9000                 0.86000                   \n",
              "14   4.5000                 0.70000                   \n",
              "19   5.1000                 0.06700                   \n",
              "25  33.5000                 0.07400                   \n",
              "27   0.7600                 0.05800                   \n",
              "28   0.7600                 0.00740                   \n",
              "29  11.2000                 0.48000                   \n",
              "30   3.6000                 0.12000                   \n",
              "32   0.7200                 0.02900                   \n",
              "34  11.1000                 0.00610                   \n",
              "45   0.1400                 0.02900                   \n",
              "47   3.1000                 0.28000                   \n",
              "52   2.6000                 0.24000                   \n",
              "57   3.1000                 0.08200                   \n",
              "58   2.0000                 0.21000                   \n",
              "61   4.2000                 0.31000                   \n",
              "64  25.7000                 0.14000                   \n",
              "66   3.8000                 0.19000                   \n",
              "67   7.7000                 0.45000                   \n",
              "69   2.0000                 0.30000                   \n",
              "80   1.6000                 0.13000                   \n",
              "82   6.7000                 0.34000                   \n",
              "85   2.8000                 0.23000                   \n",
              "89   1.6000                 0.00063                   \n",
              "93   2.5000                 0.11000                   \n",
              "97   0.4600                 0.07600                   \n",
              "98   3.3000                 0.46000                   \n",
              "101  1.6000                 0.07100                   \n",
              "103  6.1000                 0.41000                   \n",
              "104 22.9000                 0.03900                   \n",
              "110  2.2000                 0.34000                   \n",
              "111  7.4000                 0.81000                   \n",
              "115 15.7000                 0.05000                   \n",
              "117  0.3500                 0.02100                   \n",
              "118  0.7500                 0.07600                   \n",
              "119  0.0660                 0.00000                   \n",
              "124  4.2000                 0.27000                   \n",
              "127  0.5300                 0.01100                   \n",
              "136 22.3000                 0.76000                   \n",
              "142  3.9000                 0.29000                   \n",
              "148 12.7000                 0.17000                   \n",
              "149  1.3000                 0.08400                   \n",
              "151 10.9000                 0.43000                   \n",
              "152  0.3600                 0.05300                   \n",
              "156  0.0065                 0.00085                   \n",
              "157  2.3000                 0.03800                   \n",
              "158  9.4000                 0.46000                   \n",
              "162  1.9000                 0.08700                   \n",
              "168  7.7000                 0.13000                   \n",
              "169 11.0000                 0.55000                   "
            ]
          },
          "metadata": {}
        }
      ]
    }
  ]
}