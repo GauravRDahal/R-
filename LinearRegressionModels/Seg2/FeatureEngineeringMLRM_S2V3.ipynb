{
  "nbformat": 4,
  "nbformat_minor": 0,
  "metadata": {
    "colab": {
      "provenance": []
    },
    "kernelspec": {
      "name": "ir",
      "display_name": "R"
    },
    "language_info": {
      "name": "R"
    }
  },
  "cells": [
    {
      "cell_type": "markdown",
      "source": [
        "## **Feature Engineering in the context of multiple linear regression:**\n",
        "\n",
        "Here we will learn about generating new features that captures the essense of the relationship between the predictors and the response in a more meaningful way."
      ],
      "metadata": {
        "id": "Vw5bjaFQM4fd"
      }
    },
    {
      "cell_type": "code",
      "source": [
        "install.packages(c(\"ggplot2\", \"dplyr\"))\n",
        "library(ggplot2)\n",
        "library(dplyr)"
      ],
      "metadata": {
        "colab": {
          "base_uri": "https://localhost:8080/"
        },
        "id": "_O-6UPJfM43s",
        "outputId": "a477ac07-31af-4310-92ce-a435088fcd9d"
      },
      "execution_count": 1,
      "outputs": [
        {
          "output_type": "stream",
          "name": "stderr",
          "text": [
            "Installing packages into ‘/usr/local/lib/R/site-library’\n",
            "(as ‘lib’ is unspecified)\n",
            "\n",
            "\n",
            "Attaching package: ‘dplyr’\n",
            "\n",
            "\n",
            "The following objects are masked from ‘package:stats’:\n",
            "\n",
            "    filter, lag\n",
            "\n",
            "\n",
            "The following objects are masked from ‘package:base’:\n",
            "\n",
            "    intersect, setdiff, setequal, union\n",
            "\n",
            "\n"
          ]
        }
      ]
    },
    {
      "cell_type": "code",
      "source": [
        "#loading California housing data\n",
        "file = \"/content/SaratogaHouses.csv\"\n",
        "hData = read.csv(file, header = TRUE, stringsAsFactors = TRUE)\n",
        "str(hData)"
      ],
      "metadata": {
        "colab": {
          "base_uri": "https://localhost:8080/"
        },
        "id": "WmnI-2urM45A",
        "outputId": "1a803e8a-944d-4131-ca78-3b7d67206020"
      },
      "execution_count": 2,
      "outputs": [
        {
          "output_type": "stream",
          "name": "stdout",
          "text": [
            "'data.frame':\t1728 obs. of  16 variables:\n",
            " $ price          : int  132500 181115 109000 155000 86060 120000 153000 170000 90000 122900 ...\n",
            " $ lotSize        : num  0.09 0.92 0.19 0.41 0.11 0.68 0.4 1.21 0.83 1.94 ...\n",
            " $ age            : int  42 0 133 13 0 31 33 23 36 4 ...\n",
            " $ landValue      : int  50000 22300 7300 18700 15000 14000 23300 14600 22200 21200 ...\n",
            " $ livingArea     : int  906 1953 1944 1944 840 1152 2752 1662 1632 1416 ...\n",
            " $ pctCollege     : int  35 51 51 51 51 22 51 35 51 44 ...\n",
            " $ bedrooms       : int  2 3 4 3 2 4 4 4 3 3 ...\n",
            " $ fireplaces     : int  1 0 1 1 0 1 1 1 0 0 ...\n",
            " $ bathrooms      : num  1 2.5 1 1.5 1 1 1.5 1.5 1.5 1.5 ...\n",
            " $ rooms          : int  5 6 8 5 3 8 8 9 8 6 ...\n",
            " $ heating        : Factor w/ 3 levels \"electric\",\"hot air\",..: 1 3 3 2 2 2 3 2 1 2 ...\n",
            " $ fuel           : Factor w/ 3 levels \"electric\",\"gas\",..: 1 2 2 2 2 2 3 3 1 2 ...\n",
            " $ sewer          : Factor w/ 3 levels \"none\",\"public/commercial\",..: 3 3 2 3 2 3 3 3 3 1 ...\n",
            " $ waterfront     : Factor w/ 2 levels \"No\",\"Yes\": 1 1 1 1 1 1 1 1 1 1 ...\n",
            " $ newConstruction: Factor w/ 2 levels \"No\",\"Yes\": 1 1 1 1 2 1 1 1 1 1 ...\n",
            " $ centralAir     : Factor w/ 2 levels \"No\",\"Yes\": 1 1 1 1 2 1 1 1 1 1 ...\n"
          ]
        }
      ]
    },
    {
      "cell_type": "markdown",
      "source": [
        "In the above dataset, we are considering price as the response and the livingArea and age (both continuous) as the predictors."
      ],
      "metadata": {
        "id": "3QapgLmOOgfw"
      }
    },
    {
      "cell_type": "code",
      "source": [
        "# Building a linear regression model for price as a function of continuous predictors livingArea and age\n",
        "model = lm(data = hData, price ~ livingArea + age)\n",
        "summary(model)"
      ],
      "metadata": {
        "colab": {
          "base_uri": "https://localhost:8080/",
          "height": 347
        },
        "id": "WlY5IUS1OHs3",
        "outputId": "d5256d95-c883-47ab-fcb3-1914dea1bf6e"
      },
      "execution_count": 3,
      "outputs": [
        {
          "output_type": "display_data",
          "data": {
            "text/plain": [
              "\n",
              "Call:\n",
              "lm(formula = price ~ livingArea + age, data = hData)\n",
              "\n",
              "Residuals:\n",
              "    Min      1Q  Median      3Q     Max \n",
              "-267300  -40485   -8491   27303  557613 \n",
              "\n",
              "Coefficients:\n",
              "             Estimate Std. Error t value Pr(>|t|)    \n",
              "(Intercept) 22951.791   5536.960   4.145 3.56e-05 ***\n",
              "livingArea    111.277      2.713  41.019  < 2e-16 ***\n",
              "age          -224.751     57.576  -3.904 9.84e-05 ***\n",
              "---\n",
              "Signif. codes:  0 ‘***’ 0.001 ‘**’ 0.01 ‘*’ 0.05 ‘.’ 0.1 ‘ ’ 1\n",
              "\n",
              "Residual standard error: 68820 on 1725 degrees of freedom\n",
              "Multiple R-squared:  0.5118,\tAdjusted R-squared:  0.5112 \n",
              "F-statistic: 904.2 on 2 and 1725 DF,  p-value: < 2.2e-16\n"
            ]
          },
          "metadata": {}
        }
      ]
    },
    {
      "cell_type": "markdown",
      "source": [
        "# **Centering**"
      ],
      "metadata": {
        "id": "syjDAFEYeoeG"
      }
    },
    {
      "cell_type": "markdown",
      "source": [
        "We can observe a small issue in the above result. The intercept we get is not interpretable. For eg: if both the livingArea and age were 0, we will still have a non-zero intercept that is being predicted as the price of the house. This does not make sense.\n",
        "\n",
        "Therefore, we will be centering the predictors with which our MLRM predicts:\n",
        "\n",
        "![1.PNG](data:image/png;base64,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)\n",
        "\n",
        "We do not have livingArea as our feature anymore but we will create a new feature by subtracting the mean/average of the livingArea from all the livingAreas which is called 'the mean-centered livingArea'.\n",
        "\n",
        "Similarly, we will also subtract the mean/average of age from all the ages to get a new feature called 'the mean centered age'.\n",
        "\n",
        "- If our mean `mean-centered livingArea` is 0, then we can see that the livingArea of all the houses in our dataset is exactly equal to the average.\n",
        "\n",
        "- If our `mean centered age` is 0, then the age of all houses in our dataset is exactly equal to the average age.\n",
        "\n",
        "This way our intercept(B0hat) can have a better meaning i.e., the B0hat is the average value of the price around the average value of livingArea and the average value of age.\n",
        "\n",
        "So, if you are looking at a house whose livingArea is close to the average livingArea and age close to the average age than the predicted price of the house is actually close to B0hat."
      ],
      "metadata": {
        "id": "5fGPon-3PNiS"
      }
    },
    {
      "cell_type": "code",
      "source": [
        "# adding new columns for mean-centered features to our dataset\n",
        "hData$livingAreaMC = hData$livingArea - mean(hData$livingArea)\n",
        "hData$ageMC = hData$age - mean(hData$age)\n",
        "str(hData)"
      ],
      "metadata": {
        "colab": {
          "base_uri": "https://localhost:8080/"
        },
        "id": "dz9NsHIWOHuR",
        "outputId": "af049f4b-0933-435e-8a5a-5fe8781e3eda"
      },
      "execution_count": 4,
      "outputs": [
        {
          "output_type": "stream",
          "name": "stdout",
          "text": [
            "'data.frame':\t1728 obs. of  18 variables:\n",
            " $ price          : int  132500 181115 109000 155000 86060 120000 153000 170000 90000 122900 ...\n",
            " $ lotSize        : num  0.09 0.92 0.19 0.41 0.11 0.68 0.4 1.21 0.83 1.94 ...\n",
            " $ age            : int  42 0 133 13 0 31 33 23 36 4 ...\n",
            " $ landValue      : int  50000 22300 7300 18700 15000 14000 23300 14600 22200 21200 ...\n",
            " $ livingArea     : int  906 1953 1944 1944 840 1152 2752 1662 1632 1416 ...\n",
            " $ pctCollege     : int  35 51 51 51 51 22 51 35 51 44 ...\n",
            " $ bedrooms       : int  2 3 4 3 2 4 4 4 3 3 ...\n",
            " $ fireplaces     : int  1 0 1 1 0 1 1 1 0 0 ...\n",
            " $ bathrooms      : num  1 2.5 1 1.5 1 1 1.5 1.5 1.5 1.5 ...\n",
            " $ rooms          : int  5 6 8 5 3 8 8 9 8 6 ...\n",
            " $ heating        : Factor w/ 3 levels \"electric\",\"hot air\",..: 1 3 3 2 2 2 3 2 1 2 ...\n",
            " $ fuel           : Factor w/ 3 levels \"electric\",\"gas\",..: 1 2 2 2 2 2 3 3 1 2 ...\n",
            " $ sewer          : Factor w/ 3 levels \"none\",\"public/commercial\",..: 3 3 2 3 2 3 3 3 3 1 ...\n",
            " $ waterfront     : Factor w/ 2 levels \"No\",\"Yes\": 1 1 1 1 1 1 1 1 1 1 ...\n",
            " $ newConstruction: Factor w/ 2 levels \"No\",\"Yes\": 1 1 1 1 2 1 1 1 1 1 ...\n",
            " $ centralAir     : Factor w/ 2 levels \"No\",\"Yes\": 1 1 1 1 2 1 1 1 1 1 ...\n",
            " $ livingAreaMC   : num  -849 198 189 189 -915 ...\n",
            " $ ageMC          : num  14.1 -27.9 105.1 -14.9 -27.9 ...\n"
          ]
        }
      ]
    },
    {
      "cell_type": "code",
      "source": [
        "# Building a linear regression model for price as a function of mean-centered continuous predictors livingArea and age\n",
        "model = lm(data = hData, price ~ livingAreaMC + ageMC)\n",
        "summary(model)"
      ],
      "metadata": {
        "colab": {
          "base_uri": "https://localhost:8080/",
          "height": 347
        },
        "id": "XngBwzAjOHx-",
        "outputId": "caa59c74-878e-4dd1-bfc1-7068a2f0e8b2"
      },
      "execution_count": 5,
      "outputs": [
        {
          "output_type": "display_data",
          "data": {
            "text/plain": [
              "\n",
              "Call:\n",
              "lm(formula = price ~ livingAreaMC + ageMC, data = hData)\n",
              "\n",
              "Residuals:\n",
              "    Min      1Q  Median      3Q     Max \n",
              "-267300  -40485   -8491   27303  557613 \n",
              "\n",
              "Coefficients:\n",
              "               Estimate Std. Error t value Pr(>|t|)    \n",
              "(Intercept)  211966.705   1655.583 128.031  < 2e-16 ***\n",
              "livingAreaMC    111.277      2.713  41.019  < 2e-16 ***\n",
              "ageMC          -224.751     57.576  -3.904 9.84e-05 ***\n",
              "---\n",
              "Signif. codes:  0 ‘***’ 0.001 ‘**’ 0.01 ‘*’ 0.05 ‘.’ 0.1 ‘ ’ 1\n",
              "\n",
              "Residual standard error: 68820 on 1725 degrees of freedom\n",
              "Multiple R-squared:  0.5118,\tAdjusted R-squared:  0.5112 \n",
              "F-statistic: 904.2 on 2 and 1725 DF,  p-value: < 2.2e-16\n"
            ]
          },
          "metadata": {}
        }
      ]
    },
    {
      "cell_type": "markdown",
      "source": [
        "Now, let's predict the house price for 0 input value. It will be the value of the intercept(B0hat) i.e., $211966.705."
      ],
      "metadata": {
        "id": "B0cfuMASbE7W"
      }
    },
    {
      "cell_type": "code",
      "source": [
        "# Predicting house price for zero input value of predictors\n",
        "hData_test = data.frame(livingAreaMC = c(0), ageMC = c(0))\n",
        "predict(model, hData_test)"
      ],
      "metadata": {
        "colab": {
          "base_uri": "https://localhost:8080/",
          "height": 34
        },
        "id": "64pqBIHoOHzm",
        "outputId": "bc71999d-6b7d-4451-ff24-07d385ebff86"
      },
      "execution_count": 6,
      "outputs": [
        {
          "output_type": "display_data",
          "data": {
            "text/html": [
              "<strong>1:</strong> 211966.705439815"
            ],
            "text/markdown": "**1:** 211966.705439815",
            "text/latex": "\\textbf{1:} 211966.705439815",
            "text/plain": [
              "       1 \n",
              "211966.7 "
            ]
          },
          "metadata": {}
        }
      ]
    },
    {
      "cell_type": "code",
      "source": [
        "# Average livingArea and age\n",
        "mean(hData$livingArea)\n",
        "mean(hData$age)"
      ],
      "metadata": {
        "colab": {
          "base_uri": "https://localhost:8080/",
          "height": 52
        },
        "id": "eCsiTwSwOH5V",
        "outputId": "68d65ffd-aa6b-45a2-d528-7ff6461c08ed"
      },
      "execution_count": 9,
      "outputs": [
        {
          "output_type": "display_data",
          "data": {
            "text/html": [
              "1754.97569444444"
            ],
            "text/markdown": "1754.97569444444",
            "text/latex": "1754.97569444444",
            "text/plain": [
              "[1] 1754.976"
            ]
          },
          "metadata": {}
        },
        {
          "output_type": "display_data",
          "data": {
            "text/html": [
              "27.916087962963"
            ],
            "text/markdown": "27.916087962963",
            "text/latex": "27.916087962963",
            "text/plain": [
              "[1] 27.91609"
            ]
          },
          "metadata": {}
        }
      ]
    },
    {
      "cell_type": "markdown",
      "source": [
        "Here, we can see that the price of the house is around $211966.7 whose living area is close to 1754.97 square units and whose age is around 27.9 years.\n",
        "\n",
        "### Important Note:\n",
        "`Mean-centering only works for continuos predictors and does not apply to categorical predictors as there is no notion of mean/central value for a categorical variables.`\n",
        "\n",
        "------\n",
        "\n",
        "**Zero-Intercept model: **\n",
        "\n",
        "If we also mean-center the resposne variablein addition to mean-centering the predictors than we will get a model where the intercept will be 0. This type of model is called `Zero-intercept model`."
      ],
      "metadata": {
        "id": "dw8sTNRScMb3"
      }
    },
    {
      "cell_type": "markdown",
      "source": [
        "# **Standardization**\n",
        "\n",
        "Here, we will subtract the sample and divide by sample standard deviation ofthe predictors if there are different scales (units) present in them."
      ],
      "metadata": {
        "id": "bXWj5S4ZfYTS"
      }
    },
    {
      "cell_type": "code",
      "source": [
        "head(hData[c(\"livingArea\", \"lotSize\")])"
      ],
      "metadata": {
        "colab": {
          "base_uri": "https://localhost:8080/",
          "height": 286
        },
        "id": "_w2DpbxsOH_U",
        "outputId": "7499ba8c-7111-4322-aea4-8397c866a58c"
      },
      "execution_count": 18,
      "outputs": [
        {
          "output_type": "display_data",
          "data": {
            "text/html": [
              "<table class=\"dataframe\">\n",
              "<caption>A data.frame: 6 × 2</caption>\n",
              "<thead>\n",
              "\t<tr><th></th><th scope=col>livingArea</th><th scope=col>lotSize</th></tr>\n",
              "\t<tr><th></th><th scope=col>&lt;int&gt;</th><th scope=col>&lt;dbl&gt;</th></tr>\n",
              "</thead>\n",
              "<tbody>\n",
              "\t<tr><th scope=row>1</th><td> 906</td><td>0.09</td></tr>\n",
              "\t<tr><th scope=row>2</th><td>1953</td><td>0.92</td></tr>\n",
              "\t<tr><th scope=row>3</th><td>1944</td><td>0.19</td></tr>\n",
              "\t<tr><th scope=row>4</th><td>1944</td><td>0.41</td></tr>\n",
              "\t<tr><th scope=row>5</th><td> 840</td><td>0.11</td></tr>\n",
              "\t<tr><th scope=row>6</th><td>1152</td><td>0.68</td></tr>\n",
              "</tbody>\n",
              "</table>\n"
            ],
            "text/markdown": "\nA data.frame: 6 × 2\n\n| <!--/--> | livingArea &lt;int&gt; | lotSize &lt;dbl&gt; |\n|---|---|---|\n| 1 |  906 | 0.09 |\n| 2 | 1953 | 0.92 |\n| 3 | 1944 | 0.19 |\n| 4 | 1944 | 0.41 |\n| 5 |  840 | 0.11 |\n| 6 | 1152 | 0.68 |\n\n",
            "text/latex": "A data.frame: 6 × 2\n\\begin{tabular}{r|ll}\n  & livingArea & lotSize\\\\\n  & <int> & <dbl>\\\\\n\\hline\n\t1 &  906 & 0.09\\\\\n\t2 & 1953 & 0.92\\\\\n\t3 & 1944 & 0.19\\\\\n\t4 & 1944 & 0.41\\\\\n\t5 &  840 & 0.11\\\\\n\t6 & 1152 & 0.68\\\\\n\\end{tabular}\n",
            "text/plain": [
              "  livingArea lotSize\n",
              "1  906       0.09   \n",
              "2 1953       0.92   \n",
              "3 1944       0.19   \n",
              "4 1944       0.41   \n",
              "5  840       0.11   \n",
              "6 1152       0.68   "
            ]
          },
          "metadata": {}
        }
      ]
    },
    {
      "cell_type": "markdown",
      "source": [
        "We can see that there is a ddifference in scale between these two predictors."
      ],
      "metadata": {
        "id": "OCvcoPfJgO9O"
      }
    },
    {
      "cell_type": "code",
      "source": [
        "# Build a linear regression model for price as\n",
        "# a function of continuous predictors livingArea and lotSize\n",
        "# as it is without feature engineering\n",
        "model = lm(data = hData, price ~ livingArea + lotSize)\n",
        "summary(model)"
      ],
      "metadata": {
        "colab": {
          "base_uri": "https://localhost:8080/",
          "height": 347
        },
        "id": "TtzU4VNpOIBo",
        "outputId": "b631c1d1-d121-4b57-bc7d-2b3e91742a92"
      },
      "execution_count": 19,
      "outputs": [
        {
          "output_type": "display_data",
          "data": {
            "text/plain": [
              "\n",
              "Call:\n",
              "lm(formula = price ~ livingArea + lotSize, data = hData)\n",
              "\n",
              "Residuals:\n",
              "    Min      1Q  Median      3Q     Max \n",
              "-278635  -39454   -7716   28449  554117 \n",
              "\n",
              "Coefficients:\n",
              "             Estimate Std. Error t value Pr(>|t|)    \n",
              "(Intercept) 12366.413   5002.835   2.472   0.0135 *  \n",
              "livingArea    112.005      2.715  41.259   <2e-16 ***\n",
              "lotSize      6064.513   2408.751   2.518   0.0119 *  \n",
              "---\n",
              "Signif. codes:  0 ‘***’ 0.001 ‘**’ 0.01 ‘*’ 0.05 ‘.’ 0.1 ‘ ’ 1\n",
              "\n",
              "Residual standard error: 69000 on 1725 degrees of freedom\n",
              "Multiple R-squared:  0.5093,\tAdjusted R-squared:  0.5087 \n",
              "F-statistic: 895.2 on 2 and 1725 DF,  p-value: < 2.2e-16\n"
            ]
          },
          "metadata": {}
        }
      ]
    },
    {
      "cell_type": "markdown",
      "source": [
        "We can see that the estimate B1hat corresponding to livingArea is a lot smaller than the estimate B2hat corresponding to lotSize. The reason for this difference is that the living area is measure in squared feet and the lot size is measured in some unit that makes it appear smaller.\n",
        "\n",
        "Therefore, to resolve this issue of differences in scale"
      ],
      "metadata": {
        "id": "dG_9Z55igwur"
      }
    },
    {
      "cell_type": "code",
      "source": [
        "# scaling the features using scale()\n",
        "hData$livingAreaSD = scale(hData$livingArea)\n",
        "hData$lotSizeSD = scale(hData$lotSize)\n",
        "str(hData)"
      ],
      "metadata": {
        "colab": {
          "base_uri": "https://localhost:8080/"
        },
        "id": "GER0FWhAgXjU",
        "outputId": "1454a0f5-1d41-4869-e34b-f7ba99f62024"
      },
      "execution_count": 20,
      "outputs": [
        {
          "output_type": "stream",
          "name": "stdout",
          "text": [
            "'data.frame':\t1728 obs. of  20 variables:\n",
            " $ price          : int  132500 181115 109000 155000 86060 120000 153000 170000 90000 122900 ...\n",
            " $ lotSize        : num  0.09 0.92 0.19 0.41 0.11 0.68 0.4 1.21 0.83 1.94 ...\n",
            " $ age            : int  42 0 133 13 0 31 33 23 36 4 ...\n",
            " $ landValue      : int  50000 22300 7300 18700 15000 14000 23300 14600 22200 21200 ...\n",
            " $ livingArea     : int  906 1953 1944 1944 840 1152 2752 1662 1632 1416 ...\n",
            " $ pctCollege     : int  35 51 51 51 51 22 51 35 51 44 ...\n",
            " $ bedrooms       : int  2 3 4 3 2 4 4 4 3 3 ...\n",
            " $ fireplaces     : int  1 0 1 1 0 1 1 1 0 0 ...\n",
            " $ bathrooms      : num  1 2.5 1 1.5 1 1 1.5 1.5 1.5 1.5 ...\n",
            " $ rooms          : int  5 6 8 5 3 8 8 9 8 6 ...\n",
            " $ heating        : Factor w/ 3 levels \"electric\",\"hot air\",..: 1 3 3 2 2 2 3 2 1 2 ...\n",
            " $ fuel           : Factor w/ 3 levels \"electric\",\"gas\",..: 1 2 2 2 2 2 3 3 1 2 ...\n",
            " $ sewer          : Factor w/ 3 levels \"none\",\"public/commercial\",..: 3 3 2 3 2 3 3 3 3 1 ...\n",
            " $ waterfront     : Factor w/ 2 levels \"No\",\"Yes\": 1 1 1 1 1 1 1 1 1 1 ...\n",
            " $ newConstruction: Factor w/ 2 levels \"No\",\"Yes\": 1 1 1 1 2 1 1 1 1 1 ...\n",
            " $ centralAir     : Factor w/ 2 levels \"No\",\"Yes\": 1 1 1 1 2 1 1 1 1 1 ...\n",
            " $ livingAreaMC   : num  -849 198 189 189 -915 ...\n",
            " $ ageMC          : num  14.1 -27.9 105.1 -14.9 -27.9 ...\n",
            " $ livingAreaSD   : num [1:1728, 1] -1.369 0.319 0.305 0.305 -1.476 ...\n",
            "  ..- attr(*, \"scaled:center\")= num 1755\n",
            "  ..- attr(*, \"scaled:scale\")= num 620\n",
            " $ lotSizeSD      : num [1:1728, 1] -0.587 0.601 -0.444 -0.129 -0.559 ...\n",
            "  ..- attr(*, \"scaled:center\")= num 0.5\n",
            "  ..- attr(*, \"scaled:scale\")= num 0.699\n"
          ]
        }
      ]
    },
    {
      "cell_type": "code",
      "source": [
        "head(hData[c('livingAreaSD','lotSizeSD')])"
      ],
      "metadata": {
        "colab": {
          "base_uri": "https://localhost:8080/",
          "height": 286
        },
        "id": "7X7VhUd6gXmO",
        "outputId": "482cf9f7-f376-45bb-898c-adc685ac3ef9"
      },
      "execution_count": 21,
      "outputs": [
        {
          "output_type": "display_data",
          "data": {
            "text/html": [
              "<table class=\"dataframe\">\n",
              "<caption>A data.frame: 6 × 2</caption>\n",
              "<thead>\n",
              "\t<tr><th></th><th scope=col>livingAreaSD</th><th scope=col>lotSizeSD</th></tr>\n",
              "\t<tr><th></th><th scope=col>&lt;dbl[,1]&gt;</th><th scope=col>&lt;dbl[,1]&gt;</th></tr>\n",
              "</thead>\n",
              "<tbody>\n",
              "\t<tr><th scope=row>1</th><td>-1.3694580</td><td>-0.5871274</td></tr>\n",
              "\t<tr><th scope=row>2</th><td> 0.3194272</td><td> 0.6008272</td></tr>\n",
              "\t<tr><th scope=row>3</th><td> 0.3049096</td><td>-0.4440004</td></tr>\n",
              "\t<tr><th scope=row>4</th><td> 0.3049096</td><td>-0.1291208</td></tr>\n",
              "\t<tr><th scope=row>5</th><td>-1.4759207</td><td>-0.5585020</td></tr>\n",
              "\t<tr><th scope=row>6</th><td>-0.9726425</td><td> 0.2573223</td></tr>\n",
              "</tbody>\n",
              "</table>\n"
            ],
            "text/markdown": "\nA data.frame: 6 × 2\n\n| <!--/--> | livingAreaSD &lt;dbl[,1]&gt; | lotSizeSD &lt;dbl[,1]&gt; |\n|---|---|---|\n| 1 | -1.3694580 | -0.5871274 |\n| 2 |  0.3194272 |  0.6008272 |\n| 3 |  0.3049096 | -0.4440004 |\n| 4 |  0.3049096 | -0.1291208 |\n| 5 | -1.4759207 | -0.5585020 |\n| 6 | -0.9726425 |  0.2573223 |\n\n",
            "text/latex": "A data.frame: 6 × 2\n\\begin{tabular}{r|ll}\n  & livingAreaSD & lotSizeSD\\\\\n  & <dbl{[},1{]}> & <dbl{[},1{]}>\\\\\n\\hline\n\t1 & -1.3694580 & -0.5871274\\\\\n\t2 &  0.3194272 &  0.6008272\\\\\n\t3 &  0.3049096 & -0.4440004\\\\\n\t4 &  0.3049096 & -0.1291208\\\\\n\t5 & -1.4759207 & -0.5585020\\\\\n\t6 & -0.9726425 &  0.2573223\\\\\n\\end{tabular}\n",
            "text/plain": [
              "  livingAreaSD lotSizeSD \n",
              "1 -1.3694580   -0.5871274\n",
              "2  0.3194272    0.6008272\n",
              "3  0.3049096   -0.4440004\n",
              "4  0.3049096   -0.1291208\n",
              "5 -1.4759207   -0.5585020\n",
              "6 -0.9726425    0.2573223"
            ]
          },
          "metadata": {}
        }
      ]
    },
    {
      "cell_type": "code",
      "source": [
        "# Build a linear regression model for price as a function of standardized continuous predictors livingArea and age\n",
        "model = lm(data = hData, price ~ livingAreaSD + lotSizeSD)\n",
        "summary(model)"
      ],
      "metadata": {
        "colab": {
          "base_uri": "https://localhost:8080/",
          "height": 347
        },
        "id": "K4kfnq12gXpr",
        "outputId": "1a395e31-e554-4778-db12-ac09971b6932"
      },
      "execution_count": 22,
      "outputs": [
        {
          "output_type": "display_data",
          "data": {
            "text/plain": [
              "\n",
              "Call:\n",
              "lm(formula = price ~ livingAreaSD + lotSizeSD, data = hData)\n",
              "\n",
              "Residuals:\n",
              "    Min      1Q  Median      3Q     Max \n",
              "-278635  -39454   -7716   28449  554117 \n",
              "\n",
              "Coefficients:\n",
              "             Estimate Std. Error t value Pr(>|t|)    \n",
              "(Intercept)    211967       1660 127.704   <2e-16 ***\n",
              "livingAreaSD    69436       1683  41.259   <2e-16 ***\n",
              "lotSizeSD        4237       1683   2.518   0.0119 *  \n",
              "---\n",
              "Signif. codes:  0 ‘***’ 0.001 ‘**’ 0.01 ‘*’ 0.05 ‘.’ 0.1 ‘ ’ 1\n",
              "\n",
              "Residual standard error: 69000 on 1725 degrees of freedom\n",
              "Multiple R-squared:  0.5093,\tAdjusted R-squared:  0.5087 \n",
              "F-statistic: 895.2 on 2 and 1725 DF,  p-value: < 2.2e-16\n"
            ]
          },
          "metadata": {}
        }
      ]
    },
    {
      "cell_type": "markdown",
      "source": [
        "Here, we can see that the coefficient estimate of the livingArea is bigger was compared to our previous result which was done without standarizing the features.\n",
        "\n",
        "The interpretation of the coefficient estimates have to be made with respect to the scaled predictor values. For example:\n",
        "- We have our B1hat value as 69436 which is the approximate change in the house price for a 1 unit increase not in livingArea but in standardized livingArea value.\n",
        "\n",
        "(If we are to increease 1 unit that it means that we are moving 1 standard deviation unit away from its mean of the living area.)\n",
        "\n",
        "That'll be equal to 69436 where 1 unit increasse is not measures as 1 square feet unit."
      ],
      "metadata": {
        "id": "z4W7pGfrtYRC"
      }
    },
    {
      "cell_type": "markdown",
      "source": [
        "# Logarithic Transformation\n",
        "\n",
        "Sometimes we do not want our response variable to be predicted negatively. For eg, we do not want out response variable i.e., house price to come out as negative."
      ],
      "metadata": {
        "id": "ERKcuM41vnmV"
      }
    },
    {
      "cell_type": "code",
      "source": [
        "# creating a new column 'logprice'\n",
        "hData$logprice = log(hData$price)\n",
        "head(hData[c('price', 'logprice')])"
      ],
      "metadata": {
        "colab": {
          "base_uri": "https://localhost:8080/",
          "height": 286
        },
        "id": "J48GF2c5OIDR",
        "outputId": "9cddcbd4-d731-4b55-f76b-3b45ab4dec4a"
      },
      "execution_count": 25,
      "outputs": [
        {
          "output_type": "display_data",
          "data": {
            "text/html": [
              "<table class=\"dataframe\">\n",
              "<caption>A data.frame: 6 × 2</caption>\n",
              "<thead>\n",
              "\t<tr><th></th><th scope=col>price</th><th scope=col>logprice</th></tr>\n",
              "\t<tr><th></th><th scope=col>&lt;int&gt;</th><th scope=col>&lt;dbl&gt;</th></tr>\n",
              "</thead>\n",
              "<tbody>\n",
              "\t<tr><th scope=row>1</th><td>132500</td><td>11.79434</td></tr>\n",
              "\t<tr><th scope=row>2</th><td>181115</td><td>12.10689</td></tr>\n",
              "\t<tr><th scope=row>3</th><td>109000</td><td>11.59910</td></tr>\n",
              "\t<tr><th scope=row>4</th><td>155000</td><td>11.95118</td></tr>\n",
              "\t<tr><th scope=row>5</th><td> 86060</td><td>11.36280</td></tr>\n",
              "\t<tr><th scope=row>6</th><td>120000</td><td>11.69525</td></tr>\n",
              "</tbody>\n",
              "</table>\n"
            ],
            "text/markdown": "\nA data.frame: 6 × 2\n\n| <!--/--> | price &lt;int&gt; | logprice &lt;dbl&gt; |\n|---|---|---|\n| 1 | 132500 | 11.79434 |\n| 2 | 181115 | 12.10689 |\n| 3 | 109000 | 11.59910 |\n| 4 | 155000 | 11.95118 |\n| 5 |  86060 | 11.36280 |\n| 6 | 120000 | 11.69525 |\n\n",
            "text/latex": "A data.frame: 6 × 2\n\\begin{tabular}{r|ll}\n  & price & logprice\\\\\n  & <int> & <dbl>\\\\\n\\hline\n\t1 & 132500 & 11.79434\\\\\n\t2 & 181115 & 12.10689\\\\\n\t3 & 109000 & 11.59910\\\\\n\t4 & 155000 & 11.95118\\\\\n\t5 &  86060 & 11.36280\\\\\n\t6 & 120000 & 11.69525\\\\\n\\end{tabular}\n",
            "text/plain": [
              "  price  logprice\n",
              "1 132500 11.79434\n",
              "2 181115 12.10689\n",
              "3 109000 11.59910\n",
              "4 155000 11.95118\n",
              "5  86060 11.36280\n",
              "6 120000 11.69525"
            ]
          },
          "metadata": {}
        }
      ]
    },
    {
      "cell_type": "code",
      "source": [
        "# Building a linear regression model for log(price) as a function of continuous predictors livingArea and age\n",
        "model = lm(data = hData, logprice ~ livingArea + age)\n",
        "summary(model)"
      ],
      "metadata": {
        "colab": {
          "base_uri": "https://localhost:8080/",
          "height": 347
        },
        "id": "CG6ocxy8ItVf",
        "outputId": "734a9b88-176f-46ba-8444-3b2f375d6da3"
      },
      "execution_count": 27,
      "outputs": [
        {
          "output_type": "display_data",
          "data": {
            "text/plain": [
              "\n",
              "Call:\n",
              "lm(formula = logprice ~ livingArea + age, data = hData)\n",
              "\n",
              "Residuals:\n",
              "    Min      1Q  Median      3Q     Max \n",
              "-3.6583 -0.1734  0.0039  0.1736  1.7450 \n",
              "\n",
              "Coefficients:\n",
              "              Estimate Std. Error t value Pr(>|t|)    \n",
              "(Intercept)  1.135e+01  2.624e-02 432.588  < 2e-16 ***\n",
              "livingArea   4.896e-04  1.285e-05  38.085  < 2e-16 ***\n",
              "age         -1.524e-03  2.728e-04  -5.586 2.69e-08 ***\n",
              "---\n",
              "Signif. codes:  0 ‘***’ 0.001 ‘**’ 0.01 ‘*’ 0.05 ‘.’ 0.1 ‘ ’ 1\n",
              "\n",
              "Residual standard error: 0.3261 on 1725 degrees of freedom\n",
              "Multiple R-squared:  0.4819,\tAdjusted R-squared:  0.4813 \n",
              "F-statistic: 802.3 on 2 and 1725 DF,  p-value: < 2.2e-16\n"
            ]
          },
          "metadata": {}
        }
      ]
    },
    {
      "cell_type": "markdown",
      "source": [
        "Here, we can see the coefficient estimate of livingArea (Bhat1) is approx. 4.896e-04.\n",
        "- This means that if i were to increase the living area by 1 unit, then the proportional change in the house price is B1hat.\n",
        "\n",
        "* proportional = (new - old )/old"
      ],
      "metadata": {
        "id": "nmw-MZrJI5Ur"
      }
    }
  ]
}