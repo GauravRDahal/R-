{
  "nbformat": 4,
  "nbformat_minor": 0,
  "metadata": {
    "colab": {
      "provenance": []
    },
    "kernelspec": {
      "name": "ir",
      "display_name": "R"
    },
    "language_info": {
      "name": "R"
    }
  },
  "cells": [
    {
      "cell_type": "markdown",
      "source": [
        "In **bootstrap**, we resample from the data which is already sampled from the population.\n",
        "\n",
        "We use the resampled data to calculate OLS estimates, associated standard errors, confidence intervals etc.\n",
        "- Here, we use bootstrapped datasets not only to estimate what the population parameter could be but also we can calculate how much the variability associated is with respect to these `multiple bootstrapped datasets`, as opposed to the `lm()` way of doing it with one dataset.\n",
        "- The variability in the OLS coefficient estimates can now be actually visualized based on which Bootstrap dataset we used to calculate them.\n",
        "\n",
        "## When do we need to Bootstrap?\n",
        "Bootstrap is need in situations when:\n",
        "1. Data collected is small w.r.t. sample size but still you assume that they are representative of the entire population\n",
        "2. (Core necessity) assumptions we made in the population model might have been violated.\n",
        "For example: We might assume that the random errors are independent which might not be true.\n",
        "3. Need sampling distributions for much more complex estimation procedures, where no closed form expressions exist.\n",
        "\n",
        "# Bootstrap Algorithm for Linear Regression"
      ],
      "metadata": {
        "id": "bO9rAgXZ77fn"
      }
    },
    {
      "cell_type": "markdown",
      "source": [
        "From a dataset with `n` samples, we draw `n` samples with replcament.\n",
        "\n",
        "### **Example Using heteroskedastic Data** (Heteroskedasticity means non-constant variance)\n",
        "- Let's consider a dataset drawn from the population model Y = X + E,\n",
        "\n",
        "where,\n",
        "![1.PNG](data:image/png;base64,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)"
      ],
      "metadata": {
        "id": "BOg0Oku6XXfm"
      }
    },
    {
      "cell_type": "markdown",
      "source": [
        "Here, the variance depends on the predictor value (Bigger the predictor value bigger the variance and vice versa).\n",
        "\n",
        "`Therefore, the assumptions for MLRM to draw statistical inferences and for performing hyprthesis tests for the corfficient estimates are` **violated** (constant variance is no more valid).\n",
        "\n",
        "So, in this case we will use bootstrap approach to investigate the effect on the standard error of the coefficients reported by the lm()."
      ],
      "metadata": {
        "id": "rhHqzNONY8Uh"
      }
    },
    {
      "cell_type": "code",
      "source": [
        "install.packages(c(\"dplyr\", \"boot\", \"ggplot2\"))\n",
        "library(dplyr)\n",
        "library(boot) # for bootstrapping\n",
        "library(ggplot2)"
      ],
      "metadata": {
        "colab": {
          "base_uri": "https://localhost:8080/"
        },
        "id": "lfO-ve307732",
        "outputId": "f73ad49e-d938-45b0-bbdd-f76628ea27f8"
      },
      "execution_count": null,
      "outputs": [
        {
          "output_type": "stream",
          "name": "stderr",
          "text": [
            "Installing packages into ‘/usr/local/lib/R/site-library’\n",
            "(as ‘lib’ is unspecified)\n",
            "\n",
            "\n",
            "Attaching package: ‘dplyr’\n",
            "\n",
            "\n",
            "The following objects are masked from ‘package:stats’:\n",
            "\n",
            "    filter, lag\n",
            "\n",
            "\n",
            "The following objects are masked from ‘package:base’:\n",
            "\n",
            "    intersect, setdiff, setequal, union\n",
            "\n",
            "\n"
          ]
        }
      ]
    },
    {
      "cell_type": "code",
      "source": [
        "# Generating sample data\n",
        "n = 100 # dataset size\n",
        "X = rnorm(n) # normally distributed around 0 and 1\n",
        "Y = X + rnorm(n, mean = 0, sd = X^2)\n",
        "df = data.frame(X,Y)\n",
        "head(df)"
      ],
      "metadata": {
        "colab": {
          "base_uri": "https://localhost:8080/",
          "height": 286
        },
        "id": "V2G_1PCS778W",
        "outputId": "67d4d646-9916-4f3c-cbcf-cb378441ee44"
      },
      "execution_count": null,
      "outputs": [
        {
          "output_type": "display_data",
          "data": {
            "text/html": [
              "<table class=\"dataframe\">\n",
              "<caption>A data.frame: 6 × 2</caption>\n",
              "<thead>\n",
              "\t<tr><th></th><th scope=col>X</th><th scope=col>Y</th></tr>\n",
              "\t<tr><th></th><th scope=col>&lt;dbl&gt;</th><th scope=col>&lt;dbl&gt;</th></tr>\n",
              "</thead>\n",
              "<tbody>\n",
              "\t<tr><th scope=row>1</th><td> 0.6395863</td><td> 0.4767234</td></tr>\n",
              "\t<tr><th scope=row>2</th><td> 0.7282872</td><td> 0.1960054</td></tr>\n",
              "\t<tr><th scope=row>3</th><td> 2.1494027</td><td> 3.8573238</td></tr>\n",
              "\t<tr><th scope=row>4</th><td> 0.5159282</td><td> 1.0643335</td></tr>\n",
              "\t<tr><th scope=row>5</th><td> 0.9954447</td><td> 2.4294810</td></tr>\n",
              "\t<tr><th scope=row>6</th><td>-1.6263626</td><td>-0.3523766</td></tr>\n",
              "</tbody>\n",
              "</table>\n"
            ],
            "text/markdown": "\nA data.frame: 6 × 2\n\n| <!--/--> | X &lt;dbl&gt; | Y &lt;dbl&gt; |\n|---|---|---|\n| 1 |  0.6395863 |  0.4767234 |\n| 2 |  0.7282872 |  0.1960054 |\n| 3 |  2.1494027 |  3.8573238 |\n| 4 |  0.5159282 |  1.0643335 |\n| 5 |  0.9954447 |  2.4294810 |\n| 6 | -1.6263626 | -0.3523766 |\n\n",
            "text/latex": "A data.frame: 6 × 2\n\\begin{tabular}{r|ll}\n  & X & Y\\\\\n  & <dbl> & <dbl>\\\\\n\\hline\n\t1 &  0.6395863 &  0.4767234\\\\\n\t2 &  0.7282872 &  0.1960054\\\\\n\t3 &  2.1494027 &  3.8573238\\\\\n\t4 &  0.5159282 &  1.0643335\\\\\n\t5 &  0.9954447 &  2.4294810\\\\\n\t6 & -1.6263626 & -0.3523766\\\\\n\\end{tabular}\n",
            "text/plain": [
              "  X          Y         \n",
              "1  0.6395863  0.4767234\n",
              "2  0.7282872  0.1960054\n",
              "3  2.1494027  3.8573238\n",
              "4  0.5159282  1.0643335\n",
              "5  0.9954447  2.4294810\n",
              "6 -1.6263626 -0.3523766"
            ]
          },
          "metadata": {}
        }
      ]
    },
    {
      "cell_type": "code",
      "source": [
        "hist(X)"
      ],
      "metadata": {
        "colab": {
          "base_uri": "https://localhost:8080/",
          "height": 437
        },
        "id": "depQI2Nc7794",
        "outputId": "b4892880-e56f-49fd-e373-59a32e690b43"
      },
      "execution_count": null,
      "outputs": [
        {
          "output_type": "display_data",
          "data": {
            "text/plain": [
              "Plot with title “Histogram of X”"
            ],
            "image/png": "[encoded data removed]"
          },
          "metadata": {
            "image/png": {
              "width": 420,
              "height": 420
            }
          }
        }
      ]
    },
    {
      "cell_type": "code",
      "source": [
        "hist(Y)"
      ],
      "metadata": {
        "colab": {
          "base_uri": "https://localhost:8080/",
          "height": 437
        },
        "id": "qok26VUj78Bn",
        "outputId": "dfbc0799-2888-486e-8452-65c713e6b0b3"
      },
      "execution_count": null,
      "outputs": [
        {
          "output_type": "display_data",
          "data": {
            "text/plain": [
              "Plot with title “Histogram of Y”"
            ],
            "image/png": "[encoded data removed]"
          },
          "metadata": {
            "image/png": {
              "width": 420,
              "height": 420
            }
          }
        }
      ]
    },
    {
      "cell_type": "code",
      "source": [
        "# Building a linear model for Y as a function of X\n",
        "model = lm(data = df, Y ~ X)\n",
        "summary(model)"
      ],
      "metadata": {
        "colab": {
          "base_uri": "https://localhost:8080/",
          "height": 329
        },
        "id": "h5-3V5aO78DI",
        "outputId": "6a71166d-e21f-4014-ba5e-e58436947a75"
      },
      "execution_count": null,
      "outputs": [
        {
          "output_type": "display_data",
          "data": {
            "text/plain": [
              "\n",
              "Call:\n",
              "lm(formula = Y ~ X, data = df)\n",
              "\n",
              "Residuals:\n",
              "    Min      1Q  Median      3Q     Max \n",
              "-7.6467 -0.2327  0.1469  0.4754 10.8779 \n",
              "\n",
              "Coefficients:\n",
              "            Estimate Std. Error t value Pr(>|t|)    \n",
              "(Intercept)  -0.1609     0.1910  -0.842    0.402    \n",
              "X             0.7814     0.1658   4.713 8.07e-06 ***\n",
              "---\n",
              "Signif. codes:  0 ‘***’ 0.001 ‘**’ 0.01 ‘*’ 0.05 ‘.’ 0.1 ‘ ’ 1\n",
              "\n",
              "Residual standard error: 1.908 on 98 degrees of freedom\n",
              "Multiple R-squared:  0.1848,\tAdjusted R-squared:  0.1765 \n",
              "F-statistic: 22.21 on 1 and 98 DF,  p-value: 8.074e-06\n"
            ]
          },
          "metadata": {}
        }
      ]
    },
    {
      "cell_type": "code",
      "source": [
        "coef(model)"
      ],
      "metadata": {
        "colab": {
          "base_uri": "https://localhost:8080/",
          "height": 34
        },
        "id": "nWS47u5o76kr",
        "outputId": "bea76d93-8a23-429b-94bb-3f61e3359875"
      },
      "execution_count": null,
      "outputs": [
        {
          "output_type": "display_data",
          "data": {
            "text/html": [
              "<style>\n",
              ".dl-inline {width: auto; margin:0; padding: 0}\n",
              ".dl-inline>dt, .dl-inline>dd {float: none; width: auto; display: inline-block}\n",
              ".dl-inline>dt::after {content: \":\\0020\"; padding-right: .5ex}\n",
              ".dl-inline>dt:not(:first-of-type) {padding-left: .5ex}\n",
              "</style><dl class=dl-inline><dt>(Intercept)</dt><dd>-0.160903409321009</dd><dt>X</dt><dd>0.781435196214428</dd></dl>\n"
            ],
            "text/markdown": "(Intercept)\n:   -0.160903409321009X\n:   0.781435196214428\n\n",
            "text/latex": "\\begin{description*}\n\\item[(Intercept)] -0.160903409321009\n\\item[X] 0.781435196214428\n\\end{description*}\n",
            "text/plain": [
              "(Intercept)           X \n",
              " -0.1609034   0.7814352 "
            ]
          },
          "metadata": {}
        }
      ]
    },
    {
      "cell_type": "markdown",
      "source": [
        "As we see that out standard error is quiet high so we cannot trust the intercept estimate (B0hat) whihc is also evident by larger p-value.\n",
        "\n",
        "# **Bootstrap Approach**\n"
      ],
      "metadata": {
        "id": "SmVK_yADeOTy"
      }
    },
    {
      "cell_type": "code",
      "source": [
        "# Function to perform linear regression and return\n",
        "# coefficient estimates\n",
        "funcLinReg = function(data, ind) {      # only for certain indices/row\n",
        "  model = lm(data = data[ind,] , Y ~ X)\n",
        "  return(coef(model))\n",
        "  # coefs = summary(model)$coefficients\n",
        "  # return(coefs[, 'std. Error'])\n",
        "}"
      ],
      "metadata": {
        "id": "Clj-Dqu2fSLB"
      },
      "execution_count": null,
      "outputs": []
    },
    {
      "cell_type": "code",
      "source": [
        "# Function to perform bootstrapping\n",
        "model.boot = boot(df, funcLinReg, 50000)\n",
        "# whatever quantity we are returning here gets stored in variable 't'\n",
        "model.boot$t"
      ],
      "metadata": {
        "colab": {
          "base_uri": "https://localhost:8080/",
          "height": 1000
        },
        "id": "1oG9RzQygaWq",
        "outputId": "6d4ca1e9-076a-4485-907c-92e9fbbb7c39"
      },
      "execution_count": null,
      "outputs": [
        {
          "output_type": "display_data",
          "data": {
            "text/html": [
              "<table class=\"dataframe\">\n",
              "<caption>A matrix: 50000 × 2 of type dbl</caption>\n",
              "<tbody>\n",
              "\t<tr><td> 0.330744042</td><td>0.2312682</td></tr>\n",
              "\t<tr><td>-0.047184505</td><td>0.7215820</td></tr>\n",
              "\t<tr><td> 0.221252734</td><td>0.5442424</td></tr>\n",
              "\t<tr><td>-0.044412959</td><td>0.7112008</td></tr>\n",
              "\t<tr><td>-0.261898345</td><td>0.4037902</td></tr>\n",
              "\t<tr><td>-0.066084937</td><td>1.0873270</td></tr>\n",
              "\t<tr><td> 0.044540525</td><td>0.4444331</td></tr>\n",
              "\t<tr><td>-0.299649631</td><td>0.9608607</td></tr>\n",
              "\t<tr><td>-0.284267034</td><td>1.0142572</td></tr>\n",
              "\t<tr><td>-0.042665355</td><td>0.5513729</td></tr>\n",
              "\t<tr><td>-0.379000153</td><td>1.0066098</td></tr>\n",
              "\t<tr><td>-0.004033711</td><td>0.7758484</td></tr>\n",
              "\t<tr><td>-0.425185661</td><td>0.7460910</td></tr>\n",
              "\t<tr><td>-0.424152311</td><td>0.6778642</td></tr>\n",
              "\t<tr><td> 0.054749977</td><td>0.5244581</td></tr>\n",
              "\t<tr><td>-0.268520985</td><td>0.8497749</td></tr>\n",
              "\t<tr><td>-0.044425635</td><td>0.7328913</td></tr>\n",
              "\t<tr><td>-0.220307501</td><td>1.3933223</td></tr>\n",
              "\t<tr><td>-0.270430871</td><td>0.9217146</td></tr>\n",
              "\t<tr><td>-0.053855214</td><td>0.9951919</td></tr>\n",
              "\t<tr><td> 0.061464672</td><td>1.1333399</td></tr>\n",
              "\t<tr><td> 0.248802053</td><td>0.5128024</td></tr>\n",
              "\t<tr><td>-0.322233437</td><td>0.7155967</td></tr>\n",
              "\t<tr><td> 0.022708630</td><td>0.5807614</td></tr>\n",
              "\t<tr><td>-0.360523672</td><td>0.8470598</td></tr>\n",
              "\t<tr><td> 0.227853509</td><td>0.2189220</td></tr>\n",
              "\t<tr><td>-0.133592009</td><td>0.6911638</td></tr>\n",
              "\t<tr><td> 0.022673440</td><td>0.4498621</td></tr>\n",
              "\t<tr><td>-0.207869897</td><td>0.7666692</td></tr>\n",
              "\t<tr><td>-0.212441680</td><td>0.8975130</td></tr>\n",
              "\t<tr><td>⋮</td><td>⋮</td></tr>\n",
              "\t<tr><td> 0.0036116449</td><td>0.1452090</td></tr>\n",
              "\t<tr><td>-0.2518441216</td><td>0.8069966</td></tr>\n",
              "\t<tr><td>-0.1889874507</td><td>0.5808447</td></tr>\n",
              "\t<tr><td>-0.3415980613</td><td>0.8652596</td></tr>\n",
              "\t<tr><td>-0.2586841114</td><td>0.4816112</td></tr>\n",
              "\t<tr><td> 0.0054298991</td><td>0.1971004</td></tr>\n",
              "\t<tr><td>-0.1908246437</td><td>0.9198619</td></tr>\n",
              "\t<tr><td>-0.2883758236</td><td>0.6127863</td></tr>\n",
              "\t<tr><td>-0.0087624414</td><td>0.5850224</td></tr>\n",
              "\t<tr><td>-0.0517120388</td><td>0.7383301</td></tr>\n",
              "\t<tr><td>-0.0667392405</td><td>0.4101642</td></tr>\n",
              "\t<tr><td>-0.1629725826</td><td>1.2318747</td></tr>\n",
              "\t<tr><td> 0.2976882811</td><td>0.3262793</td></tr>\n",
              "\t<tr><td>-0.3080066231</td><td>1.5720019</td></tr>\n",
              "\t<tr><td>-0.1279196204</td><td>0.6231668</td></tr>\n",
              "\t<tr><td>-0.2877077126</td><td>1.1136691</td></tr>\n",
              "\t<tr><td>-0.1777379947</td><td>0.5833084</td></tr>\n",
              "\t<tr><td>-0.1635716923</td><td>1.0028222</td></tr>\n",
              "\t<tr><td>-0.4737548046</td><td>1.1099882</td></tr>\n",
              "\t<tr><td>-0.3771746633</td><td>0.8070861</td></tr>\n",
              "\t<tr><td>-0.1757192119</td><td>0.4564633</td></tr>\n",
              "\t<tr><td>-0.1179387855</td><td>0.8699457</td></tr>\n",
              "\t<tr><td>-0.4315940969</td><td>0.8620009</td></tr>\n",
              "\t<tr><td>-0.3996989667</td><td>0.8262098</td></tr>\n",
              "\t<tr><td> 0.0002394709</td><td>0.8014488</td></tr>\n",
              "\t<tr><td>-0.1262778498</td><td>0.8537115</td></tr>\n",
              "\t<tr><td>-0.0697004853</td><td>0.9160601</td></tr>\n",
              "\t<tr><td>-0.3682148078</td><td>0.7579381</td></tr>\n",
              "\t<tr><td> 0.0594521892</td><td>0.2029757</td></tr>\n",
              "\t<tr><td>-0.1359784305</td><td>0.9404621</td></tr>\n",
              "</tbody>\n",
              "</table>\n"
            ],
            "text/markdown": "\nA matrix: 50000 × 2 of type dbl\n\n|  0.330744042 | 0.2312682 |\n| -0.047184505 | 0.7215820 |\n|  0.221252734 | 0.5442424 |\n| -0.044412959 | 0.7112008 |\n| -0.261898345 | 0.4037902 |\n| -0.066084937 | 1.0873270 |\n|  0.044540525 | 0.4444331 |\n| -0.299649631 | 0.9608607 |\n| -0.284267034 | 1.0142572 |\n| -0.042665355 | 0.5513729 |\n| -0.379000153 | 1.0066098 |\n| -0.004033711 | 0.7758484 |\n| -0.425185661 | 0.7460910 |\n| -0.424152311 | 0.6778642 |\n|  0.054749977 | 0.5244581 |\n| -0.268520985 | 0.8497749 |\n| -0.044425635 | 0.7328913 |\n| -0.220307501 | 1.3933223 |\n| -0.270430871 | 0.9217146 |\n| -0.053855214 | 0.9951919 |\n|  0.061464672 | 1.1333399 |\n|  0.248802053 | 0.5128024 |\n| -0.322233437 | 0.7155967 |\n|  0.022708630 | 0.5807614 |\n| -0.360523672 | 0.8470598 |\n|  0.227853509 | 0.2189220 |\n| -0.133592009 | 0.6911638 |\n|  0.022673440 | 0.4498621 |\n| -0.207869897 | 0.7666692 |\n| -0.212441680 | 0.8975130 |\n| ⋮ | ⋮ |\n|  0.0036116449 | 0.1452090 |\n| -0.2518441216 | 0.8069966 |\n| -0.1889874507 | 0.5808447 |\n| -0.3415980613 | 0.8652596 |\n| -0.2586841114 | 0.4816112 |\n|  0.0054298991 | 0.1971004 |\n| -0.1908246437 | 0.9198619 |\n| -0.2883758236 | 0.6127863 |\n| -0.0087624414 | 0.5850224 |\n| -0.0517120388 | 0.7383301 |\n| -0.0667392405 | 0.4101642 |\n| -0.1629725826 | 1.2318747 |\n|  0.2976882811 | 0.3262793 |\n| -0.3080066231 | 1.5720019 |\n| -0.1279196204 | 0.6231668 |\n| -0.2877077126 | 1.1136691 |\n| -0.1777379947 | 0.5833084 |\n| -0.1635716923 | 1.0028222 |\n| -0.4737548046 | 1.1099882 |\n| -0.3771746633 | 0.8070861 |\n| -0.1757192119 | 0.4564633 |\n| -0.1179387855 | 0.8699457 |\n| -0.4315940969 | 0.8620009 |\n| -0.3996989667 | 0.8262098 |\n|  0.0002394709 | 0.8014488 |\n| -0.1262778498 | 0.8537115 |\n| -0.0697004853 | 0.9160601 |\n| -0.3682148078 | 0.7579381 |\n|  0.0594521892 | 0.2029757 |\n| -0.1359784305 | 0.9404621 |\n\n",
            "text/latex": "A matrix: 50000 × 2 of type dbl\n\\begin{tabular}{ll}\n\t  0.330744042 & 0.2312682\\\\\n\t -0.047184505 & 0.7215820\\\\\n\t  0.221252734 & 0.5442424\\\\\n\t -0.044412959 & 0.7112008\\\\\n\t -0.261898345 & 0.4037902\\\\\n\t -0.066084937 & 1.0873270\\\\\n\t  0.044540525 & 0.4444331\\\\\n\t -0.299649631 & 0.9608607\\\\\n\t -0.284267034 & 1.0142572\\\\\n\t -0.042665355 & 0.5513729\\\\\n\t -0.379000153 & 1.0066098\\\\\n\t -0.004033711 & 0.7758484\\\\\n\t -0.425185661 & 0.7460910\\\\\n\t -0.424152311 & 0.6778642\\\\\n\t  0.054749977 & 0.5244581\\\\\n\t -0.268520985 & 0.8497749\\\\\n\t -0.044425635 & 0.7328913\\\\\n\t -0.220307501 & 1.3933223\\\\\n\t -0.270430871 & 0.9217146\\\\\n\t -0.053855214 & 0.9951919\\\\\n\t  0.061464672 & 1.1333399\\\\\n\t  0.248802053 & 0.5128024\\\\\n\t -0.322233437 & 0.7155967\\\\\n\t  0.022708630 & 0.5807614\\\\\n\t -0.360523672 & 0.8470598\\\\\n\t  0.227853509 & 0.2189220\\\\\n\t -0.133592009 & 0.6911638\\\\\n\t  0.022673440 & 0.4498621\\\\\n\t -0.207869897 & 0.7666692\\\\\n\t -0.212441680 & 0.8975130\\\\\n\t ⋮ & ⋮\\\\\n\t  0.0036116449 & 0.1452090\\\\\n\t -0.2518441216 & 0.8069966\\\\\n\t -0.1889874507 & 0.5808447\\\\\n\t -0.3415980613 & 0.8652596\\\\\n\t -0.2586841114 & 0.4816112\\\\\n\t  0.0054298991 & 0.1971004\\\\\n\t -0.1908246437 & 0.9198619\\\\\n\t -0.2883758236 & 0.6127863\\\\\n\t -0.0087624414 & 0.5850224\\\\\n\t -0.0517120388 & 0.7383301\\\\\n\t -0.0667392405 & 0.4101642\\\\\n\t -0.1629725826 & 1.2318747\\\\\n\t  0.2976882811 & 0.3262793\\\\\n\t -0.3080066231 & 1.5720019\\\\\n\t -0.1279196204 & 0.6231668\\\\\n\t -0.2877077126 & 1.1136691\\\\\n\t -0.1777379947 & 0.5833084\\\\\n\t -0.1635716923 & 1.0028222\\\\\n\t -0.4737548046 & 1.1099882\\\\\n\t -0.3771746633 & 0.8070861\\\\\n\t -0.1757192119 & 0.4564633\\\\\n\t -0.1179387855 & 0.8699457\\\\\n\t -0.4315940969 & 0.8620009\\\\\n\t -0.3996989667 & 0.8262098\\\\\n\t  0.0002394709 & 0.8014488\\\\\n\t -0.1262778498 & 0.8537115\\\\\n\t -0.0697004853 & 0.9160601\\\\\n\t -0.3682148078 & 0.7579381\\\\\n\t  0.0594521892 & 0.2029757\\\\\n\t -0.1359784305 & 0.9404621\\\\\n\\end{tabular}\n",
            "text/plain": [
              "      [,1]          [,2]     \n",
              " [1,]  0.330744042  0.2312682\n",
              " [2,] -0.047184505  0.7215820\n",
              " [3,]  0.221252734  0.5442424\n",
              " [4,] -0.044412959  0.7112008\n",
              " [5,] -0.261898345  0.4037902\n",
              " [6,] -0.066084937  1.0873270\n",
              " [7,]  0.044540525  0.4444331\n",
              " [8,] -0.299649631  0.9608607\n",
              " [9,] -0.284267034  1.0142572\n",
              "[10,] -0.042665355  0.5513729\n",
              "[11,] -0.379000153  1.0066098\n",
              "[12,] -0.004033711  0.7758484\n",
              "[13,] -0.425185661  0.7460910\n",
              "[14,] -0.424152311  0.6778642\n",
              "[15,]  0.054749977  0.5244581\n",
              "[16,] -0.268520985  0.8497749\n",
              "[17,] -0.044425635  0.7328913\n",
              "[18,] -0.220307501  1.3933223\n",
              "[19,] -0.270430871  0.9217146\n",
              "[20,] -0.053855214  0.9951919\n",
              "[21,]  0.061464672  1.1333399\n",
              "[22,]  0.248802053  0.5128024\n",
              "[23,] -0.322233437  0.7155967\n",
              "[24,]  0.022708630  0.5807614\n",
              "[25,] -0.360523672  0.8470598\n",
              "[26,]  0.227853509  0.2189220\n",
              "[27,] -0.133592009  0.6911638\n",
              "[28,]  0.022673440  0.4498621\n",
              "[29,] -0.207869897  0.7666692\n",
              "[30,] -0.212441680  0.8975130\n",
              "[31,] ⋮             ⋮        \n",
              "[32,]  0.0036116449 0.1452090\n",
              "[33,] -0.2518441216 0.8069966\n",
              "[34,] -0.1889874507 0.5808447\n",
              "[35,] -0.3415980613 0.8652596\n",
              "[36,] -0.2586841114 0.4816112\n",
              "[37,]  0.0054298991 0.1971004\n",
              "[38,] -0.1908246437 0.9198619\n",
              "[39,] -0.2883758236 0.6127863\n",
              "[40,] -0.0087624414 0.5850224\n",
              "[41,] -0.0517120388 0.7383301\n",
              "[42,] -0.0667392405 0.4101642\n",
              "[43,] -0.1629725826 1.2318747\n",
              "[44,]  0.2976882811 0.3262793\n",
              "[45,] -0.3080066231 1.5720019\n",
              "[46,] -0.1279196204 0.6231668\n",
              "[47,] -0.2877077126 1.1136691\n",
              "[48,] -0.1777379947 0.5833084\n",
              "[49,] -0.1635716923 1.0028222\n",
              "[50,] -0.4737548046 1.1099882\n",
              "[51,] -0.3771746633 0.8070861\n",
              "[52,] -0.1757192119 0.4564633\n",
              "[53,] -0.1179387855 0.8699457\n",
              "[54,] -0.4315940969 0.8620009\n",
              "[55,] -0.3996989667 0.8262098\n",
              "[56,]  0.0002394709 0.8014488\n",
              "[57,] -0.1262778498 0.8537115\n",
              "[58,] -0.0697004853 0.9160601\n",
              "[59,] -0.3682148078 0.7579381\n",
              "[60,]  0.0594521892 0.2029757\n",
              "[61,] -0.1359784305 0.9404621"
            ]
          },
          "metadata": {}
        }
      ]
    },
    {
      "cell_type": "markdown",
      "source": [
        "Here, we can see that we need a lot of computational power for bootstrapping, but it will reveal a lot of underlying information about the dataset.\n",
        "\n",
        "The bootstrapped model will have all the results just like the lm(), but here we are going to have 50,000 such estimates.\n",
        "\n"
      ],
      "metadata": {
        "id": "pMrrqOa-hKFs"
      }
    },
    {
      "cell_type": "code",
      "source": [
        "model.boot$t"
      ],
      "metadata": {
        "colab": {
          "base_uri": "https://localhost:8080/",
          "height": 1000
        },
        "id": "tjvk07otgaYM",
        "outputId": "5aba6349-d446-4aa9-c019-aad732cdfedc"
      },
      "execution_count": null,
      "outputs": [
        {
          "output_type": "display_data",
          "data": {
            "text/html": [
              "<table class=\"dataframe\">\n",
              "<caption>A matrix: 50000 × 2 of type dbl</caption>\n",
              "<tbody>\n",
              "\t<tr><td> 0.330744042</td><td>0.2312682</td></tr>\n",
              "\t<tr><td>-0.047184505</td><td>0.7215820</td></tr>\n",
              "\t<tr><td> 0.221252734</td><td>0.5442424</td></tr>\n",
              "\t<tr><td>-0.044412959</td><td>0.7112008</td></tr>\n",
              "\t<tr><td>-0.261898345</td><td>0.4037902</td></tr>\n",
              "\t<tr><td>-0.066084937</td><td>1.0873270</td></tr>\n",
              "\t<tr><td> 0.044540525</td><td>0.4444331</td></tr>\n",
              "\t<tr><td>-0.299649631</td><td>0.9608607</td></tr>\n",
              "\t<tr><td>-0.284267034</td><td>1.0142572</td></tr>\n",
              "\t<tr><td>-0.042665355</td><td>0.5513729</td></tr>\n",
              "\t<tr><td>-0.379000153</td><td>1.0066098</td></tr>\n",
              "\t<tr><td>-0.004033711</td><td>0.7758484</td></tr>\n",
              "\t<tr><td>-0.425185661</td><td>0.7460910</td></tr>\n",
              "\t<tr><td>-0.424152311</td><td>0.6778642</td></tr>\n",
              "\t<tr><td> 0.054749977</td><td>0.5244581</td></tr>\n",
              "\t<tr><td>-0.268520985</td><td>0.8497749</td></tr>\n",
              "\t<tr><td>-0.044425635</td><td>0.7328913</td></tr>\n",
              "\t<tr><td>-0.220307501</td><td>1.3933223</td></tr>\n",
              "\t<tr><td>-0.270430871</td><td>0.9217146</td></tr>\n",
              "\t<tr><td>-0.053855214</td><td>0.9951919</td></tr>\n",
              "\t<tr><td> 0.061464672</td><td>1.1333399</td></tr>\n",
              "\t<tr><td> 0.248802053</td><td>0.5128024</td></tr>\n",
              "\t<tr><td>-0.322233437</td><td>0.7155967</td></tr>\n",
              "\t<tr><td> 0.022708630</td><td>0.5807614</td></tr>\n",
              "\t<tr><td>-0.360523672</td><td>0.8470598</td></tr>\n",
              "\t<tr><td> 0.227853509</td><td>0.2189220</td></tr>\n",
              "\t<tr><td>-0.133592009</td><td>0.6911638</td></tr>\n",
              "\t<tr><td> 0.022673440</td><td>0.4498621</td></tr>\n",
              "\t<tr><td>-0.207869897</td><td>0.7666692</td></tr>\n",
              "\t<tr><td>-0.212441680</td><td>0.8975130</td></tr>\n",
              "\t<tr><td>⋮</td><td>⋮</td></tr>\n",
              "\t<tr><td> 0.0036116449</td><td>0.1452090</td></tr>\n",
              "\t<tr><td>-0.2518441216</td><td>0.8069966</td></tr>\n",
              "\t<tr><td>-0.1889874507</td><td>0.5808447</td></tr>\n",
              "\t<tr><td>-0.3415980613</td><td>0.8652596</td></tr>\n",
              "\t<tr><td>-0.2586841114</td><td>0.4816112</td></tr>\n",
              "\t<tr><td> 0.0054298991</td><td>0.1971004</td></tr>\n",
              "\t<tr><td>-0.1908246437</td><td>0.9198619</td></tr>\n",
              "\t<tr><td>-0.2883758236</td><td>0.6127863</td></tr>\n",
              "\t<tr><td>-0.0087624414</td><td>0.5850224</td></tr>\n",
              "\t<tr><td>-0.0517120388</td><td>0.7383301</td></tr>\n",
              "\t<tr><td>-0.0667392405</td><td>0.4101642</td></tr>\n",
              "\t<tr><td>-0.1629725826</td><td>1.2318747</td></tr>\n",
              "\t<tr><td> 0.2976882811</td><td>0.3262793</td></tr>\n",
              "\t<tr><td>-0.3080066231</td><td>1.5720019</td></tr>\n",
              "\t<tr><td>-0.1279196204</td><td>0.6231668</td></tr>\n",
              "\t<tr><td>-0.2877077126</td><td>1.1136691</td></tr>\n",
              "\t<tr><td>-0.1777379947</td><td>0.5833084</td></tr>\n",
              "\t<tr><td>-0.1635716923</td><td>1.0028222</td></tr>\n",
              "\t<tr><td>-0.4737548046</td><td>1.1099882</td></tr>\n",
              "\t<tr><td>-0.3771746633</td><td>0.8070861</td></tr>\n",
              "\t<tr><td>-0.1757192119</td><td>0.4564633</td></tr>\n",
              "\t<tr><td>-0.1179387855</td><td>0.8699457</td></tr>\n",
              "\t<tr><td>-0.4315940969</td><td>0.8620009</td></tr>\n",
              "\t<tr><td>-0.3996989667</td><td>0.8262098</td></tr>\n",
              "\t<tr><td> 0.0002394709</td><td>0.8014488</td></tr>\n",
              "\t<tr><td>-0.1262778498</td><td>0.8537115</td></tr>\n",
              "\t<tr><td>-0.0697004853</td><td>0.9160601</td></tr>\n",
              "\t<tr><td>-0.3682148078</td><td>0.7579381</td></tr>\n",
              "\t<tr><td> 0.0594521892</td><td>0.2029757</td></tr>\n",
              "\t<tr><td>-0.1359784305</td><td>0.9404621</td></tr>\n",
              "</tbody>\n",
              "</table>\n"
            ],
            "text/markdown": "\nA matrix: 50000 × 2 of type dbl\n\n|  0.330744042 | 0.2312682 |\n| -0.047184505 | 0.7215820 |\n|  0.221252734 | 0.5442424 |\n| -0.044412959 | 0.7112008 |\n| -0.261898345 | 0.4037902 |\n| -0.066084937 | 1.0873270 |\n|  0.044540525 | 0.4444331 |\n| -0.299649631 | 0.9608607 |\n| -0.284267034 | 1.0142572 |\n| -0.042665355 | 0.5513729 |\n| -0.379000153 | 1.0066098 |\n| -0.004033711 | 0.7758484 |\n| -0.425185661 | 0.7460910 |\n| -0.424152311 | 0.6778642 |\n|  0.054749977 | 0.5244581 |\n| -0.268520985 | 0.8497749 |\n| -0.044425635 | 0.7328913 |\n| -0.220307501 | 1.3933223 |\n| -0.270430871 | 0.9217146 |\n| -0.053855214 | 0.9951919 |\n|  0.061464672 | 1.1333399 |\n|  0.248802053 | 0.5128024 |\n| -0.322233437 | 0.7155967 |\n|  0.022708630 | 0.5807614 |\n| -0.360523672 | 0.8470598 |\n|  0.227853509 | 0.2189220 |\n| -0.133592009 | 0.6911638 |\n|  0.022673440 | 0.4498621 |\n| -0.207869897 | 0.7666692 |\n| -0.212441680 | 0.8975130 |\n| ⋮ | ⋮ |\n|  0.0036116449 | 0.1452090 |\n| -0.2518441216 | 0.8069966 |\n| -0.1889874507 | 0.5808447 |\n| -0.3415980613 | 0.8652596 |\n| -0.2586841114 | 0.4816112 |\n|  0.0054298991 | 0.1971004 |\n| -0.1908246437 | 0.9198619 |\n| -0.2883758236 | 0.6127863 |\n| -0.0087624414 | 0.5850224 |\n| -0.0517120388 | 0.7383301 |\n| -0.0667392405 | 0.4101642 |\n| -0.1629725826 | 1.2318747 |\n|  0.2976882811 | 0.3262793 |\n| -0.3080066231 | 1.5720019 |\n| -0.1279196204 | 0.6231668 |\n| -0.2877077126 | 1.1136691 |\n| -0.1777379947 | 0.5833084 |\n| -0.1635716923 | 1.0028222 |\n| -0.4737548046 | 1.1099882 |\n| -0.3771746633 | 0.8070861 |\n| -0.1757192119 | 0.4564633 |\n| -0.1179387855 | 0.8699457 |\n| -0.4315940969 | 0.8620009 |\n| -0.3996989667 | 0.8262098 |\n|  0.0002394709 | 0.8014488 |\n| -0.1262778498 | 0.8537115 |\n| -0.0697004853 | 0.9160601 |\n| -0.3682148078 | 0.7579381 |\n|  0.0594521892 | 0.2029757 |\n| -0.1359784305 | 0.9404621 |\n\n",
            "text/latex": "A matrix: 50000 × 2 of type dbl\n\\begin{tabular}{ll}\n\t  0.330744042 & 0.2312682\\\\\n\t -0.047184505 & 0.7215820\\\\\n\t  0.221252734 & 0.5442424\\\\\n\t -0.044412959 & 0.7112008\\\\\n\t -0.261898345 & 0.4037902\\\\\n\t -0.066084937 & 1.0873270\\\\\n\t  0.044540525 & 0.4444331\\\\\n\t -0.299649631 & 0.9608607\\\\\n\t -0.284267034 & 1.0142572\\\\\n\t -0.042665355 & 0.5513729\\\\\n\t -0.379000153 & 1.0066098\\\\\n\t -0.004033711 & 0.7758484\\\\\n\t -0.425185661 & 0.7460910\\\\\n\t -0.424152311 & 0.6778642\\\\\n\t  0.054749977 & 0.5244581\\\\\n\t -0.268520985 & 0.8497749\\\\\n\t -0.044425635 & 0.7328913\\\\\n\t -0.220307501 & 1.3933223\\\\\n\t -0.270430871 & 0.9217146\\\\\n\t -0.053855214 & 0.9951919\\\\\n\t  0.061464672 & 1.1333399\\\\\n\t  0.248802053 & 0.5128024\\\\\n\t -0.322233437 & 0.7155967\\\\\n\t  0.022708630 & 0.5807614\\\\\n\t -0.360523672 & 0.8470598\\\\\n\t  0.227853509 & 0.2189220\\\\\n\t -0.133592009 & 0.6911638\\\\\n\t  0.022673440 & 0.4498621\\\\\n\t -0.207869897 & 0.7666692\\\\\n\t -0.212441680 & 0.8975130\\\\\n\t ⋮ & ⋮\\\\\n\t  0.0036116449 & 0.1452090\\\\\n\t -0.2518441216 & 0.8069966\\\\\n\t -0.1889874507 & 0.5808447\\\\\n\t -0.3415980613 & 0.8652596\\\\\n\t -0.2586841114 & 0.4816112\\\\\n\t  0.0054298991 & 0.1971004\\\\\n\t -0.1908246437 & 0.9198619\\\\\n\t -0.2883758236 & 0.6127863\\\\\n\t -0.0087624414 & 0.5850224\\\\\n\t -0.0517120388 & 0.7383301\\\\\n\t -0.0667392405 & 0.4101642\\\\\n\t -0.1629725826 & 1.2318747\\\\\n\t  0.2976882811 & 0.3262793\\\\\n\t -0.3080066231 & 1.5720019\\\\\n\t -0.1279196204 & 0.6231668\\\\\n\t -0.2877077126 & 1.1136691\\\\\n\t -0.1777379947 & 0.5833084\\\\\n\t -0.1635716923 & 1.0028222\\\\\n\t -0.4737548046 & 1.1099882\\\\\n\t -0.3771746633 & 0.8070861\\\\\n\t -0.1757192119 & 0.4564633\\\\\n\t -0.1179387855 & 0.8699457\\\\\n\t -0.4315940969 & 0.8620009\\\\\n\t -0.3996989667 & 0.8262098\\\\\n\t  0.0002394709 & 0.8014488\\\\\n\t -0.1262778498 & 0.8537115\\\\\n\t -0.0697004853 & 0.9160601\\\\\n\t -0.3682148078 & 0.7579381\\\\\n\t  0.0594521892 & 0.2029757\\\\\n\t -0.1359784305 & 0.9404621\\\\\n\\end{tabular}\n",
            "text/plain": [
              "      [,1]          [,2]     \n",
              " [1,]  0.330744042  0.2312682\n",
              " [2,] -0.047184505  0.7215820\n",
              " [3,]  0.221252734  0.5442424\n",
              " [4,] -0.044412959  0.7112008\n",
              " [5,] -0.261898345  0.4037902\n",
              " [6,] -0.066084937  1.0873270\n",
              " [7,]  0.044540525  0.4444331\n",
              " [8,] -0.299649631  0.9608607\n",
              " [9,] -0.284267034  1.0142572\n",
              "[10,] -0.042665355  0.5513729\n",
              "[11,] -0.379000153  1.0066098\n",
              "[12,] -0.004033711  0.7758484\n",
              "[13,] -0.425185661  0.7460910\n",
              "[14,] -0.424152311  0.6778642\n",
              "[15,]  0.054749977  0.5244581\n",
              "[16,] -0.268520985  0.8497749\n",
              "[17,] -0.044425635  0.7328913\n",
              "[18,] -0.220307501  1.3933223\n",
              "[19,] -0.270430871  0.9217146\n",
              "[20,] -0.053855214  0.9951919\n",
              "[21,]  0.061464672  1.1333399\n",
              "[22,]  0.248802053  0.5128024\n",
              "[23,] -0.322233437  0.7155967\n",
              "[24,]  0.022708630  0.5807614\n",
              "[25,] -0.360523672  0.8470598\n",
              "[26,]  0.227853509  0.2189220\n",
              "[27,] -0.133592009  0.6911638\n",
              "[28,]  0.022673440  0.4498621\n",
              "[29,] -0.207869897  0.7666692\n",
              "[30,] -0.212441680  0.8975130\n",
              "[31,] ⋮             ⋮        \n",
              "[32,]  0.0036116449 0.1452090\n",
              "[33,] -0.2518441216 0.8069966\n",
              "[34,] -0.1889874507 0.5808447\n",
              "[35,] -0.3415980613 0.8652596\n",
              "[36,] -0.2586841114 0.4816112\n",
              "[37,]  0.0054298991 0.1971004\n",
              "[38,] -0.1908246437 0.9198619\n",
              "[39,] -0.2883758236 0.6127863\n",
              "[40,] -0.0087624414 0.5850224\n",
              "[41,] -0.0517120388 0.7383301\n",
              "[42,] -0.0667392405 0.4101642\n",
              "[43,] -0.1629725826 1.2318747\n",
              "[44,]  0.2976882811 0.3262793\n",
              "[45,] -0.3080066231 1.5720019\n",
              "[46,] -0.1279196204 0.6231668\n",
              "[47,] -0.2877077126 1.1136691\n",
              "[48,] -0.1777379947 0.5833084\n",
              "[49,] -0.1635716923 1.0028222\n",
              "[50,] -0.4737548046 1.1099882\n",
              "[51,] -0.3771746633 0.8070861\n",
              "[52,] -0.1757192119 0.4564633\n",
              "[53,] -0.1179387855 0.8699457\n",
              "[54,] -0.4315940969 0.8620009\n",
              "[55,] -0.3996989667 0.8262098\n",
              "[56,]  0.0002394709 0.8014488\n",
              "[57,] -0.1262778498 0.8537115\n",
              "[58,] -0.0697004853 0.9160601\n",
              "[59,] -0.3682148078 0.7579381\n",
              "[60,]  0.0594521892 0.2029757\n",
              "[61,] -0.1359784305 0.9404621"
            ]
          },
          "metadata": {}
        }
      ]
    },
    {
      "cell_type": "markdown",
      "source": [
        "Here, we see the coefficient estimates of all the Bootstrapped models each comprising of 100 samples.\n",
        "\n",
        "Let's get the avaerage `Bootstrapped` estimate of `B0hat` and `B1hat`"
      ],
      "metadata": {
        "id": "d0ZiNrVDiXv2"
      }
    },
    {
      "cell_type": "code",
      "source": [
        "# Bootstrapped estimate\n",
        "colMeans(model.boot$t)"
      ],
      "metadata": {
        "colab": {
          "base_uri": "https://localhost:8080/",
          "height": 34
        },
        "id": "mgSmBIyYisyX",
        "outputId": "41718b92-bc99-4c77-d5e6-0f39f1fe3800"
      },
      "execution_count": null,
      "outputs": [
        {
          "output_type": "display_data",
          "data": {
            "text/html": [
              "<style>\n",
              ".list-inline {list-style: none; margin:0; padding: 0}\n",
              ".list-inline>li {display: inline-block}\n",
              ".list-inline>li:not(:last-child)::after {content: \"\\00b7\"; padding: 0 .5ex}\n",
              "</style>\n",
              "<ol class=list-inline><li>-0.158163029489274</li><li>0.78705779726844</li></ol>\n"
            ],
            "text/markdown": "1. -0.158163029489274\n2. 0.78705779726844\n\n\n",
            "text/latex": "\\begin{enumerate*}\n\\item -0.158163029489274\n\\item 0.78705779726844\n\\end{enumerate*}\n",
            "text/plain": [
              "[1] -0.1581630  0.7870578"
            ]
          },
          "metadata": {}
        }
      ]
    },
    {
      "cell_type": "code",
      "source": [
        "# from our previous lm()\n",
        "coef(model)"
      ],
      "metadata": {
        "colab": {
          "base_uri": "https://localhost:8080/",
          "height": 34
        },
        "id": "bADcLleTjW9d",
        "outputId": "a7d6534b-7609-4863-f5c4-d9ca2c988435"
      },
      "execution_count": null,
      "outputs": [
        {
          "output_type": "display_data",
          "data": {
            "text/html": [
              "<style>\n",
              ".dl-inline {width: auto; margin:0; padding: 0}\n",
              ".dl-inline>dt, .dl-inline>dd {float: none; width: auto; display: inline-block}\n",
              ".dl-inline>dt::after {content: \":\\0020\"; padding-right: .5ex}\n",
              ".dl-inline>dt:not(:first-of-type) {padding-left: .5ex}\n",
              "</style><dl class=dl-inline><dt>(Intercept)</dt><dd>-0.160903409321009</dd><dt>X</dt><dd>0.781435196214428</dd></dl>\n"
            ],
            "text/markdown": "(Intercept)\n:   -0.160903409321009X\n:   0.781435196214428\n\n",
            "text/latex": "\\begin{description*}\n\\item[(Intercept)] -0.160903409321009\n\\item[X] 0.781435196214428\n\\end{description*}\n",
            "text/plain": [
              "(Intercept)           X \n",
              " -0.1609034   0.7814352 "
            ]
          },
          "metadata": {}
        }
      ]
    },
    {
      "cell_type": "markdown",
      "source": [
        "Here, we can see that it is similar to our previous lm() where we had only one dataset.\n",
        "\n",
        "Therefore, the bootstrap model, under the assumption that the dataset we have is represenattive of the original population generally will do better than using just one dataset.\n",
        "\n",
        "Also, Bootstrap performs better than the standard lm() and a single dataset when we have non-constant variance and other assumptions violated."
      ],
      "metadata": {
        "id": "NuN3o_QpjMKF"
      }
    },
    {
      "cell_type": "markdown",
      "source": [],
      "metadata": {
        "id": "lcWEvKuLH9_P"
      }
    },
    {
      "cell_type": "markdown",
      "source": [
        "## Bootstrap Application:\n",
        "- Bootstrap can be used to measure variability in model estimates for modeling strategies such as ridge and lsso regression.\n",
        "- Bootstrap can be used to estimate test error in a prediction setting instead of corss validation.\n",
        "\n",
        "## Limitations:\n",
        "- The number of bootstrap samples should be large to dilute the effect of resampling in the estimated distribution, which is dictated by available computational power. (Effect of randomness should be diluted)\n",
        "- The dataset used for drawing bootstrap samples should be representative of the original population model."
      ],
      "metadata": {
        "id": "WUZffB_okQ7B"
      }
    }
  ]
}