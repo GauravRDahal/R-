{
  "nbformat": 4,
  "nbformat_minor": 0,
  "metadata": {
    "colab": {
      "provenance": []
    },
    "kernelspec": {
      "name": "ir",
      "display_name": "R"
    },
    "language_info": {
      "name": "R"
    }
  },
  "cells": [
    {
      "cell_type": "code",
      "execution_count": null,
      "metadata": {
        "id": "ZDstXBnw-lc7"
      },
      "outputs": [],
      "source": []
    },
    {
      "cell_type": "markdown",
      "source": [],
      "metadata": {
        "id": "a_Saxpd5-sY-"
      }
    },
    {
      "cell_type": "code",
      "source": [
        "install.packages(c(\"ggplot2\", \"dplyr\"))\n",
        "library(ggplot2)\n",
        "library(dplyr)"
      ],
      "metadata": {
        "colab": {
          "base_uri": "https://localhost:8080/"
        },
        "id": "Pjf2mZiu-s0t",
        "outputId": "cacc71ab-0fb8-4456-a04f-c7a097d33f76"
      },
      "execution_count": 2,
      "outputs": [
        {
          "output_type": "stream",
          "name": "stderr",
          "text": [
            "Installing packages into ‘/usr/local/lib/R/site-library’\n",
            "(as ‘lib’ is unspecified)\n",
            "\n",
            "\n",
            "Attaching package: ‘dplyr’\n",
            "\n",
            "\n",
            "The following objects are masked from ‘package:stats’:\n",
            "\n",
            "    filter, lag\n",
            "\n",
            "\n",
            "The following objects are masked from ‘package:base’:\n",
            "\n",
            "    intersect, setdiff, setequal, union\n",
            "\n",
            "\n"
          ]
        }
      ]
    },
    {
      "cell_type": "markdown",
      "source": [
        "Let's use a inbuilt dataset in R \"airquality\"."
      ],
      "metadata": {
        "id": "vFQcGpZq-9m_"
      }
    },
    {
      "cell_type": "code",
      "source": [
        "dFAirQuality = data.frame(airquality)\n",
        "str(dFAirQuality)"
      ],
      "metadata": {
        "colab": {
          "base_uri": "https://localhost:8080/"
        },
        "id": "C5cTrOIp-s2O",
        "outputId": "5a2643e9-db35-4dc9-c900-902c69115ce7"
      },
      "execution_count": 3,
      "outputs": [
        {
          "output_type": "stream",
          "name": "stdout",
          "text": [
            "'data.frame':\t153 obs. of  6 variables:\n",
            " $ Ozone  : int  41 36 12 18 NA 28 23 19 8 NA ...\n",
            " $ Solar.R: int  190 118 149 313 NA NA 299 99 19 194 ...\n",
            " $ Wind   : num  7.4 8 12.6 11.5 14.3 14.9 8.6 13.8 20.1 8.6 ...\n",
            " $ Temp   : int  67 72 74 62 56 66 65 59 61 69 ...\n",
            " $ Month  : int  5 5 5 5 5 5 5 5 5 5 ...\n",
            " $ Day    : int  1 2 3 4 5 6 7 8 9 10 ...\n"
          ]
        }
      ]
    },
    {
      "cell_type": "markdown",
      "source": [
        "Let's build a LinearRegression Model"
      ],
      "metadata": {
        "id": "tCtjivyw_d3l"
      }
    },
    {
      "cell_type": "code",
      "source": [
        "model = lm(data = dFAirQuality, Ozone ~ Solar.R + Wind + Temp)\n",
        "summary(model)"
      ],
      "metadata": {
        "colab": {
          "base_uri": "https://localhost:8080/",
          "height": 381
        },
        "id": "B08TOZXZ-s7A",
        "outputId": "e0669f6f-3ca2-4d42-c478-f2db3b871eaf"
      },
      "execution_count": 4,
      "outputs": [
        {
          "output_type": "display_data",
          "data": {
            "text/plain": [
              "\n",
              "Call:\n",
              "lm(formula = Ozone ~ Solar.R + Wind + Temp, data = dFAirQuality)\n",
              "\n",
              "Residuals:\n",
              "    Min      1Q  Median      3Q     Max \n",
              "-40.485 -14.219  -3.551  10.097  95.619 \n",
              "\n",
              "Coefficients:\n",
              "             Estimate Std. Error t value Pr(>|t|)    \n",
              "(Intercept) -64.34208   23.05472  -2.791  0.00623 ** \n",
              "Solar.R       0.05982    0.02319   2.580  0.01124 *  \n",
              "Wind         -3.33359    0.65441  -5.094 1.52e-06 ***\n",
              "Temp          1.65209    0.25353   6.516 2.42e-09 ***\n",
              "---\n",
              "Signif. codes:  0 ‘***’ 0.001 ‘**’ 0.01 ‘*’ 0.05 ‘.’ 0.1 ‘ ’ 1\n",
              "\n",
              "Residual standard error: 21.18 on 107 degrees of freedom\n",
              "  (42 observations deleted due to missingness)\n",
              "Multiple R-squared:  0.6059,\tAdjusted R-squared:  0.5948 \n",
              "F-statistic: 54.83 on 3 and 107 DF,  p-value: < 2.2e-16\n"
            ]
          },
          "metadata": {}
        }
      ]
    },
    {
      "cell_type": "markdown",
      "source": [
        "Here, we can see that the F-statistic is 54.83."
      ],
      "metadata": {
        "id": "8oNdoC_s_--P"
      }
    },
    {
      "cell_type": "code",
      "source": [
        "# Let's use all the predictors\n",
        "model2 = lm(data = dFAirQuality, Ozone ~ .)\n",
        "summary(model2)"
      ],
      "metadata": {
        "colab": {
          "base_uri": "https://localhost:8080/",
          "height": 416
        },
        "id": "7zI-mQFhAK6a",
        "outputId": "d76ff753-48a4-43ae-8a66-669ead0c4c66"
      },
      "execution_count": 6,
      "outputs": [
        {
          "output_type": "display_data",
          "data": {
            "text/plain": [
              "\n",
              "Call:\n",
              "lm(formula = Ozone ~ ., data = dFAirQuality)\n",
              "\n",
              "Residuals:\n",
              "    Min      1Q  Median      3Q     Max \n",
              "-37.014 -12.284  -3.302   8.454  95.348 \n",
              "\n",
              "Coefficients:\n",
              "             Estimate Std. Error t value Pr(>|t|)    \n",
              "(Intercept) -64.11632   23.48249  -2.730  0.00742 ** \n",
              "Solar.R       0.05027    0.02342   2.147  0.03411 *  \n",
              "Wind         -3.31844    0.64451  -5.149 1.23e-06 ***\n",
              "Temp          1.89579    0.27389   6.922 3.66e-10 ***\n",
              "Month        -3.03996    1.51346  -2.009  0.04714 *  \n",
              "Day           0.27388    0.22967   1.192  0.23576    \n",
              "---\n",
              "Signif. codes:  0 ‘***’ 0.001 ‘**’ 0.01 ‘*’ 0.05 ‘.’ 0.1 ‘ ’ 1\n",
              "\n",
              "Residual standard error: 20.86 on 105 degrees of freedom\n",
              "  (42 observations deleted due to missingness)\n",
              "Multiple R-squared:  0.6249,\tAdjusted R-squared:  0.6071 \n",
              "F-statistic: 34.99 on 5 and 105 DF,  p-value: < 2.2e-16\n"
            ]
          },
          "metadata": {}
        }
      ]
    },
    {
      "cell_type": "markdown",
      "source": [
        "Here, we see our F-statistic is 34.99\n",
        "- This means that, if our model only included the `intercept term (B0)` and all other `betas (B1, B2,..., Bn) = 0,` which would be the assumption of the `Null-hypothesis`, if we were to calculate the F-statistc, it would be 34.99\n",
        "\n",
        "We can see that the calue of F-statistic is 34.99 and the corresponding p-value is very low/practically 0 whih means we reject the null hypothesis that the intercept only model works here."
      ],
      "metadata": {
        "id": "gOVRX-wpAUe-"
      }
    },
    {
      "cell_type": "code",
      "source": [
        "summary(model)"
      ],
      "metadata": {
        "colab": {
          "base_uri": "https://localhost:8080/",
          "height": 381
        },
        "id": "BvJEYyFnCgpM",
        "outputId": "54059a70-3fcf-4a45-e8d1-be5a54bdef5d"
      },
      "execution_count": 7,
      "outputs": [
        {
          "output_type": "display_data",
          "data": {
            "text/plain": [
              "\n",
              "Call:\n",
              "lm(formula = Ozone ~ Solar.R + Wind + Temp, data = dFAirQuality)\n",
              "\n",
              "Residuals:\n",
              "    Min      1Q  Median      3Q     Max \n",
              "-40.485 -14.219  -3.551  10.097  95.619 \n",
              "\n",
              "Coefficients:\n",
              "             Estimate Std. Error t value Pr(>|t|)    \n",
              "(Intercept) -64.34208   23.05472  -2.791  0.00623 ** \n",
              "Solar.R       0.05982    0.02319   2.580  0.01124 *  \n",
              "Wind         -3.33359    0.65441  -5.094 1.52e-06 ***\n",
              "Temp          1.65209    0.25353   6.516 2.42e-09 ***\n",
              "---\n",
              "Signif. codes:  0 ‘***’ 0.001 ‘**’ 0.01 ‘*’ 0.05 ‘.’ 0.1 ‘ ’ 1\n",
              "\n",
              "Residual standard error: 21.18 on 107 degrees of freedom\n",
              "  (42 observations deleted due to missingness)\n",
              "Multiple R-squared:  0.6059,\tAdjusted R-squared:  0.5948 \n",
              "F-statistic: 54.83 on 3 and 107 DF,  p-value: < 2.2e-16\n"
            ]
          },
          "metadata": {}
        }
      ]
    },
    {
      "cell_type": "markdown",
      "source": [
        "Therefore, F-statistic helps us understand the linear effect of the predictors on the response, particularly when the number of predictors are too big.\n",
        "- For example: Among 100 predcitors, 5 may have the p-value less than our threshold value by chance. if we were to go by T-test and indicidually choose or reject them, we would be making a mistake.\n",
        "\n",
        "In case of F-test, we saw that we can subset predictord and observe what the F-value would be if we were to exclude those predictors and come up with an informed decision about wether those predictors put together have a linear relationship with the resposne or not."
      ],
      "metadata": {
        "id": "ZLbtUAJaCkek"
      }
    }
  ]
}