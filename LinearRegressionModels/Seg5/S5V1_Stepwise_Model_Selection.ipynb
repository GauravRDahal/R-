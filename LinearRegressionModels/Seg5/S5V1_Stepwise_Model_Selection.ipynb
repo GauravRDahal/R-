{
  "nbformat": 4,
  "nbformat_minor": 0,
  "metadata": {
    "colab": {
      "provenance": []
    },
    "kernelspec": {
      "name": "ir",
      "display_name": "R"
    },
    "language_info": {
      "name": "R"
    }
  },
  "cells": [
    {
      "cell_type": "markdown",
      "source": [
        "# **Stepwise Model Selection**\n",
        "\n",
        "Models can be compared based on preformance metrics such as:\n",
        "- adjusted R-squared statistic,\n",
        "- prediction error using cross validation,\n",
        "- model scores such as AIC, BIC (smaller the better)\n",
        "\n",
        "In general, we would like to have models that:\n",
        "- are simple (few predictors/covariates)\n",
        "- generalize well on unseen test data\n",
        "- are interpretable\n",
        "\n",
        "### How do we select a model among many available models that have these attributes?\n",
        "\n",
        "One possible way to select the model is using the `\"Forward Stepwise Selection\".`\n",
        "\n",
        "## Forward Stepwise Selection\n",
        "1. Start with an intercept only model excluding any of the other predictor.\n",
        "\n",
        "`Yhat = B0hat`\n",
        "2. **Add** the single predictor that leads to the greatest reduction in the chosen model score (AIC / BIC).\n",
        "3. Repeate step-2 until there is no improvement in the model score.\n",
        "\n",
        "Here, we are adding the predictors sequentially and at each step checking what is the best predictor at that stage which is determined by using the notion of performance matrics (model score). We choose the predictor that results in the greatest reduction in the model scores. And we repeat the process until we see no improvement in the model score.\n",
        "\n",
        "- Computational complexity is Quadratic in the number of predictors.\n",
        "\n",
        "It is probablly not the best way to determine what the ideal model is."
      ],
      "metadata": {
        "id": "zeZMIOG6R3sT"
      }
    },
    {
      "cell_type": "markdown",
      "source": [
        "## Backward Stepwise Selection:\n",
        "\n",
        "1. We start with a model that includes all predictors.\n",
        "2. **DELETE** the single predictor that leads to the greatest reduction in the chosen model score.\n",
        "3. Repeat step-2 until there is no improvement in the model score.\n",
        "\n",
        "- Computational complexity is again Quadratic in the numebr of predictors.\n",
        "\n",
        "Backward stepwise cannot be used when the number of samples are less than or equal to tye number of predictors as the design matrix will have linearly dependent columns.\n",
        "\n",
        "((((\n",
        "  \n",
        "- Matrix which has more columns than rows is gurantted to have its columns to be linearly dependent, so that the columns will not be linearly independent anymore.\n",
        "- (X_transpose X)inverse is no more invertible so the OLSE cannot be calculated.\n",
        "\n",
        "))))\n",
        "\n",
        "\n",
        "\n"
      ],
      "metadata": {
        "id": "maCXZcFzVtGZ"
      }
    },
    {
      "cell_type": "markdown",
      "source": [
        "### Let's look at this using the bodyfat dataset inside the mplot package"
      ],
      "metadata": {
        "id": "j5iw9xmEazpk"
      }
    },
    {
      "cell_type": "code",
      "source": [
        "install.packages(c(\"ggplot2\", \"dplyr\", \"mplot\", \"reshape\", \"leaps\"))\n",
        "library(ggplot2)\n",
        "library(dplyr)\n",
        "library(mplot)\n",
        "library(reshape) # to melt the dataframe\n",
        "library(leaps)"
      ],
      "metadata": {
        "colab": {
          "base_uri": "https://localhost:8080/"
        },
        "id": "lNObaDWyR4C5",
        "outputId": "0b7a81f6-5a2a-4a48-cfa4-bc213b4a5c00"
      },
      "execution_count": null,
      "outputs": [
        {
          "output_type": "stream",
          "name": "stderr",
          "text": [
            "Installing packages into ‘/usr/local/lib/R/site-library’\n",
            "(as ‘lib’ is unspecified)\n",
            "\n",
            "also installing the dependencies ‘iterators’, ‘grpreg’, ‘pls’, ‘rngtools’, ‘shape’, ‘RcppEigen’, ‘foreach’, ‘bestglm’, ‘doParallel’, ‘doRNG’, ‘plyr’, ‘shinydashboard’, ‘glmnet’, ‘googleVis’, ‘reshape2’\n",
            "\n",
            "\n",
            "\n",
            "Attaching package: ‘dplyr’\n",
            "\n",
            "\n",
            "The following objects are masked from ‘package:stats’:\n",
            "\n",
            "    filter, lag\n",
            "\n",
            "\n",
            "The following objects are masked from ‘package:base’:\n",
            "\n",
            "    intersect, setdiff, setequal, union\n",
            "\n",
            "\n",
            "\n",
            "Attaching package: ‘reshape’\n",
            "\n",
            "\n",
            "The following object is masked from ‘package:dplyr’:\n",
            "\n",
            "    rename\n",
            "\n",
            "\n"
          ]
        }
      ]
    },
    {
      "cell_type": "code",
      "source": [
        "# Loading bodyfat data\n",
        "data('bofyfat', package = 'mplot')\n",
        "bfData = bodyfat %>% select(-c('Id')) #removing Id column\n",
        "str(bfData)"
      ],
      "metadata": {
        "colab": {
          "base_uri": "https://localhost:8080/"
        },
        "id": "71UV6FuyR9Zb",
        "outputId": "458b6ef2-cbea-4305-9191-ad5fc2bf6c6c"
      },
      "execution_count": null,
      "outputs": [
        {
          "output_type": "stream",
          "name": "stderr",
          "text": [
            "Warning message in data(\"bofyfat\", package = \"mplot\"):\n",
            "“data set ‘bofyfat’ not found”\n"
          ]
        },
        {
          "output_type": "stream",
          "name": "stdout",
          "text": [
            "'data.frame':\t128 obs. of  14 variables:\n",
            " $ Bodyfat: num  6.3 11.3 14.2 14.8 8 11.5 15.4 15.1 17.3 22.1 ...\n",
            " $ Age    : int  54 50 24 55 51 54 58 34 28 35 ...\n",
            " $ Weight : num  70.4 73.7 70.8 76.9 62.3 ...\n",
            " $ Height : num  69.2 66.5 70.8 68.2 67.8 ...\n",
            " $ Neck   : num  37.5 38.7 35.7 37.2 36.5 37.4 38 36 35.6 40.5 ...\n",
            " $ Chest  : num  89.3 99.4 92.7 101.7 89.7 ...\n",
            " $ Abdo   : num  78.4 86.7 81.9 91.1 82 87.6 88.1 83.4 83.5 96.4 ...\n",
            " $ Hip    : num  96.1 96.2 95.3 97.1 89.1 ...\n",
            " $ Thigh  : num  56 62.1 56.4 56.6 49.3 59.7 57.1 52.4 57.3 69 ...\n",
            " $ Knee   : num  37.4 39.3 36.5 38.5 33.7 40.2 38.9 35.6 37.8 39 ...\n",
            " $ Ankle  : num  22.4 23.3 22 22.6 21.4 23.4 23.6 20.4 21.7 23.1 ...\n",
            " $ Bic    : num  32.6 30.6 33.5 33.4 29.6 27.9 30.9 28.3 32.2 36.1 ...\n",
            " $ Fore   : num  28.1 27.8 28.3 29.3 26 27 29.6 26.2 27.7 30.5 ...\n",
            " $ Wrist  : num  18.1 18.2 17.3 18.8 16.9 17.8 18 16.5 17.7 18.2 ...\n"
          ]
        }
      ]
    },
    {
      "cell_type": "code",
      "source": [
        "# Features in bfData\n",
        "colnames(bfData)"
      ],
      "metadata": {
        "colab": {
          "base_uri": "https://localhost:8080/",
          "height": 52
        },
        "id": "wESbiEjaR4EH",
        "outputId": "497a4fce-7b1c-4e31-8830-c0e0b1d561d2"
      },
      "execution_count": null,
      "outputs": [
        {
          "output_type": "display_data",
          "data": {
            "text/html": [
              "<style>\n",
              ".list-inline {list-style: none; margin:0; padding: 0}\n",
              ".list-inline>li {display: inline-block}\n",
              ".list-inline>li:not(:last-child)::after {content: \"\\00b7\"; padding: 0 .5ex}\n",
              "</style>\n",
              "<ol class=list-inline><li>'Bodyfat'</li><li>'Age'</li><li>'Weight'</li><li>'Height'</li><li>'Neck'</li><li>'Chest'</li><li>'Abdo'</li><li>'Hip'</li><li>'Thigh'</li><li>'Knee'</li><li>'Ankle'</li><li>'Bic'</li><li>'Fore'</li><li>'Wrist'</li></ol>\n"
            ],
            "text/markdown": "1. 'Bodyfat'\n2. 'Age'\n3. 'Weight'\n4. 'Height'\n5. 'Neck'\n6. 'Chest'\n7. 'Abdo'\n8. 'Hip'\n9. 'Thigh'\n10. 'Knee'\n11. 'Ankle'\n12. 'Bic'\n13. 'Fore'\n14. 'Wrist'\n\n\n",
            "text/latex": "\\begin{enumerate*}\n\\item 'Bodyfat'\n\\item 'Age'\n\\item 'Weight'\n\\item 'Height'\n\\item 'Neck'\n\\item 'Chest'\n\\item 'Abdo'\n\\item 'Hip'\n\\item 'Thigh'\n\\item 'Knee'\n\\item 'Ankle'\n\\item 'Bic'\n\\item 'Fore'\n\\item 'Wrist'\n\\end{enumerate*}\n",
            "text/plain": [
              " [1] \"Bodyfat\" \"Age\"     \"Weight\"  \"Height\"  \"Neck\"    \"Chest\"   \"Abdo\"   \n",
              " [8] \"Hip\"     \"Thigh\"   \"Knee\"    \"Ankle\"   \"Bic\"     \"Fore\"    \"Wrist\"  "
            ]
          },
          "metadata": {}
        }
      ]
    },
    {
      "cell_type": "markdown",
      "source": [
        "## EDA"
      ],
      "metadata": {
        "id": "rtTpDByVdCAQ"
      }
    },
    {
      "cell_type": "code",
      "source": [
        "# making a boxplot excluding the ID column\n",
        "ggplot(data = melt(bfData), aes(x = factor(variable), y = value)) +\n",
        "  geom_boxplot() +\n",
        "    facet_wrap(~variable, scale = 'free')"
      ],
      "metadata": {
        "colab": {
          "base_uri": "https://localhost:8080/",
          "height": 472
        },
        "id": "FC54CiZ_R4JB",
        "outputId": "46c25ab7-074f-405b-dbb5-613cb26e2546"
      },
      "execution_count": null,
      "outputs": [
        {
          "output_type": "stream",
          "name": "stderr",
          "text": [
            "Using  as id variables\n",
            "\n"
          ]
        },
        {
          "output_type": "display_data",
          "data": {
            "text/plain": [
              "plot without title"
            ],
            "image/png": "[encoded data removed]"
          },
          "metadata": {
            "image/png": {
              "width": 420,
              "height": 420
            }
          }
        }
      ]
    },
    {
      "cell_type": "markdown",
      "source": [
        "Here, we can see boxplots that tell us what kind of distribution each one of these variables have. This explanatory plots helps us understand how the feature in the dataset look like.\n",
        "\n",
        "# Building A Linear Regression Model"
      ],
      "metadata": {
        "id": "zTLL2PQ-d-IV"
      }
    },
    {
      "cell_type": "code",
      "source": [
        "# As abdominal circumference is a good indicator of bocy fat\n",
        "model = lm(data = bfData, Bodyfat ~ Abdo)\n",
        "summary(model)"
      ],
      "metadata": {
        "colab": {
          "base_uri": "https://localhost:8080/",
          "height": 329
        },
        "id": "0FQmHyRGR4KN",
        "outputId": "7e14f56b-8a2f-4ff9-8747-30dea9a94dac"
      },
      "execution_count": null,
      "outputs": [
        {
          "output_type": "display_data",
          "data": {
            "text/plain": [
              "\n",
              "Call:\n",
              "lm(formula = Bodyfat ~ Abdo, data = bfData)\n",
              "\n",
              "Residuals:\n",
              "     Min       1Q   Median       3Q      Max \n",
              "-10.3542  -2.9928   0.2191   2.4967  10.0106 \n",
              "\n",
              "Coefficients:\n",
              "             Estimate Std. Error t value Pr(>|t|)    \n",
              "(Intercept) -43.19058    3.63431  -11.88   <2e-16 ***\n",
              "Abdo          0.67411    0.03907   17.26   <2e-16 ***\n",
              "---\n",
              "Signif. codes:  0 ‘***’ 0.001 ‘**’ 0.01 ‘*’ 0.05 ‘.’ 0.1 ‘ ’ 1\n",
              "\n",
              "Residual standard error: 4.249 on 126 degrees of freedom\n",
              "Multiple R-squared:  0.7027,\tAdjusted R-squared:  0.7003 \n",
              "F-statistic: 297.8 on 1 and 126 DF,  p-value: < 2.2e-16\n"
            ]
          },
          "metadata": {}
        }
      ]
    },
    {
      "cell_type": "markdown",
      "source": [
        "We can see that the p-value is small which is a good sign with adjusted r-squared value being 0.70 meaning that 70% of variance in the dataset can be explained using the linear model as the abdominal circumference as the only predictor.\n",
        "\n",
        "------\n",
        "\n",
        "Lets create a model that includes all the features"
      ],
      "metadata": {
        "id": "6BGwg-gtfLao"
      }
    },
    {
      "cell_type": "code",
      "source": [
        "model2 = lm(data = bfData, Bodyfat ~ .)\n",
        "summary(model2)"
      ],
      "metadata": {
        "colab": {
          "base_uri": "https://localhost:8080/",
          "height": 538
        },
        "id": "x0frtodgR4On",
        "outputId": "549996bf-3140-4c1a-fc24-d3d3d3a85d47"
      },
      "execution_count": null,
      "outputs": [
        {
          "output_type": "display_data",
          "data": {
            "text/plain": [
              "\n",
              "Call:\n",
              "lm(formula = Bodyfat ~ ., data = bfData)\n",
              "\n",
              "Residuals:\n",
              "    Min      1Q  Median      3Q     Max \n",
              "-9.3767 -2.5514 -0.1723  2.6391  9.1393 \n",
              "\n",
              "Coefficients:\n",
              "              Estimate Std. Error t value Pr(>|t|)    \n",
              "(Intercept) -52.553646  40.062856  -1.312   0.1922    \n",
              "Age           0.009288   0.043470   0.214   0.8312    \n",
              "Weight       -0.271016   0.243569  -1.113   0.2682    \n",
              "Height        0.258388   0.320810   0.805   0.4223    \n",
              "Neck         -0.592669   0.322125  -1.840   0.0684 .  \n",
              "Chest         0.090883   0.164738   0.552   0.5822    \n",
              "Abdo          0.995184   0.123072   8.086 7.29e-13 ***\n",
              "Hip          -0.141981   0.204533  -0.694   0.4890    \n",
              "Thigh         0.101272   0.200714   0.505   0.6148    \n",
              "Knee         -0.096682   0.325889  -0.297   0.7673    \n",
              "Ankle        -0.048017   0.507695  -0.095   0.9248    \n",
              "Bic           0.075332   0.244105   0.309   0.7582    \n",
              "Fore          0.412107   0.272144   1.514   0.1327    \n",
              "Wrist        -0.263067   0.745145  -0.353   0.7247    \n",
              "---\n",
              "Signif. codes:  0 ‘***’ 0.001 ‘**’ 0.01 ‘*’ 0.05 ‘.’ 0.1 ‘ ’ 1\n",
              "\n",
              "Residual standard error: 4.081 on 114 degrees of freedom\n",
              "Multiple R-squared:  0.7519,\tAdjusted R-squared:  0.7236 \n",
              "F-statistic: 26.57 on 13 and 114 DF,  p-value: < 2.2e-16\n"
            ]
          },
          "metadata": {}
        }
      ]
    },
    {
      "cell_type": "markdown",
      "source": [
        "We can see that the adjusted r-squared has only slightly improved from 70% to 72%. But most importantly we can see that many of the variables has the p-value bigger than any threshold we may use.\n",
        "\n",
        "Therefore, we can see that id does not always have to be all the predictors in order to build the model. We have to have a methodical way of selecting the predictors in suach a way that the final model will be an optimal one.\n",
        "\n",
        "## **How can we achieve this?**\n",
        "\n",
        "### 1. Subset-Based Model Selection"
      ],
      "metadata": {
        "id": "HbBQSVcWgFMq"
      }
    },
    {
      "cell_type": "code",
      "source": [
        "# Subset-based model selection using adjusted-R2 statistic (leaps package)\n",
        "# lets create a matrix of predictors and a vector of response\n",
        "X = as.matrix(bfData %>% select(-c(Bodyfat))) # matrix of covariates\n",
        "y = as.matrix(bfData %>% select('Bodyfat')) # vector of response values"
      ],
      "metadata": {
        "id": "QZWnZ6ZYR4P8"
      },
      "execution_count": null,
      "outputs": []
    },
    {
      "cell_type": "code",
      "source": [
        "# building a model using adjusted-R2 statistic (leaps package)\n",
        "# names are names of predictors\n",
        "model.leaps = leaps(X, y, names = names(bfData %>% select(-c('Bodyfat'))), method = 'adjr2')"
      ],
      "metadata": {
        "id": "g5wLWV-Uh8Qi"
      },
      "execution_count": null,
      "outputs": []
    },
    {
      "cell_type": "markdown",
      "source": [
        "This process is going to look into the matrix of covariates and it is going to select the subsets of covariates and then evaluate the adjusted R-squared value of the model built using those subsets of covariates.\n",
        "\n",
        "From the list we can choose a model that has the best adjusted R-squared value."
      ],
      "metadata": {
        "id": "neP69pAji5e1"
      }
    },
    {
      "cell_type": "code",
      "source": [
        "model.leaps$which"
      ],
      "metadata": {
        "colab": {
          "base_uri": "https://localhost:8080/",
          "height": 1000
        },
        "id": "pNEok3cijTGe",
        "outputId": "4736fd7f-436f-40c6-d45e-0a6621fde33f"
      },
      "execution_count": null,
      "outputs": [
        {
          "output_type": "display_data",
          "data": {
            "text/html": [
              "<table class=\"dataframe\">\n",
              "<caption>A matrix: 121 × 13 of type lgl</caption>\n",
              "<thead>\n",
              "\t<tr><th></th><th scope=col>Age</th><th scope=col>Weight</th><th scope=col>Height</th><th scope=col>Neck</th><th scope=col>Chest</th><th scope=col>Abdo</th><th scope=col>Hip</th><th scope=col>Thigh</th><th scope=col>Knee</th><th scope=col>Ankle</th><th scope=col>Bic</th><th scope=col>Fore</th><th scope=col>Wrist</th></tr>\n",
              "</thead>\n",
              "<tbody>\n",
              "\t<tr><th scope=row>1</th><td>FALSE</td><td>FALSE</td><td>FALSE</td><td>FALSE</td><td>FALSE</td><td> TRUE</td><td>FALSE</td><td>FALSE</td><td>FALSE</td><td>FALSE</td><td>FALSE</td><td>FALSE</td><td>FALSE</td></tr>\n",
              "\t<tr><th scope=row>1</th><td>FALSE</td><td>FALSE</td><td>FALSE</td><td>FALSE</td><td> TRUE</td><td>FALSE</td><td>FALSE</td><td>FALSE</td><td>FALSE</td><td>FALSE</td><td>FALSE</td><td>FALSE</td><td>FALSE</td></tr>\n",
              "\t<tr><th scope=row>1</th><td>FALSE</td><td> TRUE</td><td>FALSE</td><td>FALSE</td><td>FALSE</td><td>FALSE</td><td>FALSE</td><td>FALSE</td><td>FALSE</td><td>FALSE</td><td>FALSE</td><td>FALSE</td><td>FALSE</td></tr>\n",
              "\t<tr><th scope=row>1</th><td>FALSE</td><td>FALSE</td><td>FALSE</td><td>FALSE</td><td>FALSE</td><td>FALSE</td><td> TRUE</td><td>FALSE</td><td>FALSE</td><td>FALSE</td><td>FALSE</td><td>FALSE</td><td>FALSE</td></tr>\n",
              "\t<tr><th scope=row>1</th><td>FALSE</td><td>FALSE</td><td>FALSE</td><td>FALSE</td><td>FALSE</td><td>FALSE</td><td>FALSE</td><td> TRUE</td><td>FALSE</td><td>FALSE</td><td>FALSE</td><td>FALSE</td><td>FALSE</td></tr>\n",
              "\t<tr><th scope=row>1</th><td>FALSE</td><td>FALSE</td><td>FALSE</td><td>FALSE</td><td>FALSE</td><td>FALSE</td><td>FALSE</td><td>FALSE</td><td>FALSE</td><td>FALSE</td><td> TRUE</td><td>FALSE</td><td>FALSE</td></tr>\n",
              "\t<tr><th scope=row>1</th><td>FALSE</td><td>FALSE</td><td>FALSE</td><td>FALSE</td><td>FALSE</td><td>FALSE</td><td>FALSE</td><td>FALSE</td><td> TRUE</td><td>FALSE</td><td>FALSE</td><td>FALSE</td><td>FALSE</td></tr>\n",
              "\t<tr><th scope=row>1</th><td>FALSE</td><td>FALSE</td><td>FALSE</td><td> TRUE</td><td>FALSE</td><td>FALSE</td><td>FALSE</td><td>FALSE</td><td>FALSE</td><td>FALSE</td><td>FALSE</td><td>FALSE</td><td>FALSE</td></tr>\n",
              "\t<tr><th scope=row>1</th><td>FALSE</td><td>FALSE</td><td>FALSE</td><td>FALSE</td><td>FALSE</td><td>FALSE</td><td>FALSE</td><td>FALSE</td><td>FALSE</td><td>FALSE</td><td>FALSE</td><td>FALSE</td><td> TRUE</td></tr>\n",
              "\t<tr><th scope=row>1</th><td>FALSE</td><td>FALSE</td><td>FALSE</td><td>FALSE</td><td>FALSE</td><td>FALSE</td><td>FALSE</td><td>FALSE</td><td>FALSE</td><td> TRUE</td><td>FALSE</td><td>FALSE</td><td>FALSE</td></tr>\n",
              "\t<tr><th scope=row>2</th><td>FALSE</td><td> TRUE</td><td>FALSE</td><td>FALSE</td><td>FALSE</td><td> TRUE</td><td>FALSE</td><td>FALSE</td><td>FALSE</td><td>FALSE</td><td>FALSE</td><td>FALSE</td><td>FALSE</td></tr>\n",
              "\t<tr><th scope=row>2</th><td>FALSE</td><td>FALSE</td><td>FALSE</td><td> TRUE</td><td>FALSE</td><td> TRUE</td><td>FALSE</td><td>FALSE</td><td>FALSE</td><td>FALSE</td><td>FALSE</td><td>FALSE</td><td>FALSE</td></tr>\n",
              "\t<tr><th scope=row>2</th><td>FALSE</td><td>FALSE</td><td>FALSE</td><td>FALSE</td><td>FALSE</td><td> TRUE</td><td> TRUE</td><td>FALSE</td><td>FALSE</td><td>FALSE</td><td>FALSE</td><td>FALSE</td><td>FALSE</td></tr>\n",
              "\t<tr><th scope=row>2</th><td>FALSE</td><td>FALSE</td><td>FALSE</td><td>FALSE</td><td>FALSE</td><td> TRUE</td><td>FALSE</td><td>FALSE</td><td>FALSE</td><td>FALSE</td><td>FALSE</td><td>FALSE</td><td> TRUE</td></tr>\n",
              "\t<tr><th scope=row>2</th><td>FALSE</td><td>FALSE</td><td>FALSE</td><td>FALSE</td><td>FALSE</td><td> TRUE</td><td>FALSE</td><td>FALSE</td><td>FALSE</td><td> TRUE</td><td>FALSE</td><td>FALSE</td><td>FALSE</td></tr>\n",
              "\t<tr><th scope=row>2</th><td>FALSE</td><td>FALSE</td><td>FALSE</td><td>FALSE</td><td>FALSE</td><td> TRUE</td><td>FALSE</td><td>FALSE</td><td> TRUE</td><td>FALSE</td><td>FALSE</td><td>FALSE</td><td>FALSE</td></tr>\n",
              "\t<tr><th scope=row>2</th><td>FALSE</td><td>FALSE</td><td>FALSE</td><td>FALSE</td><td>FALSE</td><td> TRUE</td><td>FALSE</td><td> TRUE</td><td>FALSE</td><td>FALSE</td><td>FALSE</td><td>FALSE</td><td>FALSE</td></tr>\n",
              "\t<tr><th scope=row>2</th><td>FALSE</td><td>FALSE</td><td> TRUE</td><td>FALSE</td><td>FALSE</td><td> TRUE</td><td>FALSE</td><td>FALSE</td><td>FALSE</td><td>FALSE</td><td>FALSE</td><td>FALSE</td><td>FALSE</td></tr>\n",
              "\t<tr><th scope=row>2</th><td>FALSE</td><td>FALSE</td><td>FALSE</td><td>FALSE</td><td>FALSE</td><td> TRUE</td><td>FALSE</td><td>FALSE</td><td>FALSE</td><td>FALSE</td><td> TRUE</td><td>FALSE</td><td>FALSE</td></tr>\n",
              "\t<tr><th scope=row>2</th><td>FALSE</td><td>FALSE</td><td>FALSE</td><td>FALSE</td><td> TRUE</td><td> TRUE</td><td>FALSE</td><td>FALSE</td><td>FALSE</td><td>FALSE</td><td>FALSE</td><td>FALSE</td><td>FALSE</td></tr>\n",
              "\t<tr><th scope=row>3</th><td>FALSE</td><td>FALSE</td><td>FALSE</td><td> TRUE</td><td>FALSE</td><td> TRUE</td><td> TRUE</td><td>FALSE</td><td>FALSE</td><td>FALSE</td><td>FALSE</td><td>FALSE</td><td>FALSE</td></tr>\n",
              "\t<tr><th scope=row>3</th><td>FALSE</td><td> TRUE</td><td>FALSE</td><td> TRUE</td><td>FALSE</td><td> TRUE</td><td>FALSE</td><td>FALSE</td><td>FALSE</td><td>FALSE</td><td>FALSE</td><td>FALSE</td><td>FALSE</td></tr>\n",
              "\t<tr><th scope=row>3</th><td>FALSE</td><td> TRUE</td><td>FALSE</td><td>FALSE</td><td>FALSE</td><td> TRUE</td><td>FALSE</td><td>FALSE</td><td>FALSE</td><td>FALSE</td><td>FALSE</td><td>FALSE</td><td> TRUE</td></tr>\n",
              "\t<tr><th scope=row>3</th><td>FALSE</td><td> TRUE</td><td>FALSE</td><td>FALSE</td><td>FALSE</td><td> TRUE</td><td>FALSE</td><td>FALSE</td><td>FALSE</td><td>FALSE</td><td>FALSE</td><td> TRUE</td><td>FALSE</td></tr>\n",
              "\t<tr><th scope=row>3</th><td>FALSE</td><td>FALSE</td><td>FALSE</td><td>FALSE</td><td>FALSE</td><td> TRUE</td><td> TRUE</td><td>FALSE</td><td>FALSE</td><td>FALSE</td><td>FALSE</td><td>FALSE</td><td> TRUE</td></tr>\n",
              "\t<tr><th scope=row>3</th><td>FALSE</td><td>FALSE</td><td>FALSE</td><td> TRUE</td><td>FALSE</td><td> TRUE</td><td>FALSE</td><td>FALSE</td><td>FALSE</td><td> TRUE</td><td>FALSE</td><td>FALSE</td><td>FALSE</td></tr>\n",
              "\t<tr><th scope=row>3</th><td>FALSE</td><td>FALSE</td><td>FALSE</td><td> TRUE</td><td>FALSE</td><td> TRUE</td><td>FALSE</td><td>FALSE</td><td> TRUE</td><td>FALSE</td><td>FALSE</td><td>FALSE</td><td>FALSE</td></tr>\n",
              "\t<tr><th scope=row>3</th><td>FALSE</td><td> TRUE</td><td>FALSE</td><td>FALSE</td><td>FALSE</td><td> TRUE</td><td> TRUE</td><td>FALSE</td><td>FALSE</td><td>FALSE</td><td>FALSE</td><td>FALSE</td><td>FALSE</td></tr>\n",
              "\t<tr><th scope=row>3</th><td>FALSE</td><td> TRUE</td><td> TRUE</td><td>FALSE</td><td>FALSE</td><td> TRUE</td><td>FALSE</td><td>FALSE</td><td>FALSE</td><td>FALSE</td><td>FALSE</td><td>FALSE</td><td>FALSE</td></tr>\n",
              "\t<tr><th scope=row>3</th><td>FALSE</td><td> TRUE</td><td>FALSE</td><td>FALSE</td><td>FALSE</td><td> TRUE</td><td>FALSE</td><td>FALSE</td><td>FALSE</td><td> TRUE</td><td>FALSE</td><td>FALSE</td><td>FALSE</td></tr>\n",
              "\t<tr><th scope=row>⋮</th><td>⋮</td><td>⋮</td><td>⋮</td><td>⋮</td><td>⋮</td><td>⋮</td><td>⋮</td><td>⋮</td><td>⋮</td><td>⋮</td><td>⋮</td><td>⋮</td><td>⋮</td></tr>\n",
              "\t<tr><th scope=row>10</th><td>FALSE</td><td> TRUE</td><td> TRUE</td><td>TRUE</td><td> TRUE</td><td>TRUE</td><td> TRUE</td><td> TRUE</td><td> TRUE</td><td>FALSE</td><td>FALSE</td><td>TRUE</td><td> TRUE</td></tr>\n",
              "\t<tr><th scope=row>10</th><td>FALSE</td><td> TRUE</td><td> TRUE</td><td>TRUE</td><td> TRUE</td><td>TRUE</td><td> TRUE</td><td> TRUE</td><td> TRUE</td><td>FALSE</td><td> TRUE</td><td>TRUE</td><td>FALSE</td></tr>\n",
              "\t<tr><th scope=row>10</th><td>FALSE</td><td> TRUE</td><td> TRUE</td><td>TRUE</td><td> TRUE</td><td>TRUE</td><td> TRUE</td><td> TRUE</td><td>FALSE</td><td> TRUE</td><td>FALSE</td><td>TRUE</td><td> TRUE</td></tr>\n",
              "\t<tr><th scope=row>10</th><td>FALSE</td><td> TRUE</td><td> TRUE</td><td>TRUE</td><td> TRUE</td><td>TRUE</td><td> TRUE</td><td> TRUE</td><td>FALSE</td><td> TRUE</td><td> TRUE</td><td>TRUE</td><td>FALSE</td></tr>\n",
              "\t<tr><th scope=row>10</th><td>FALSE</td><td> TRUE</td><td> TRUE</td><td>TRUE</td><td> TRUE</td><td>TRUE</td><td> TRUE</td><td> TRUE</td><td> TRUE</td><td> TRUE</td><td>FALSE</td><td>TRUE</td><td>FALSE</td></tr>\n",
              "\t<tr><th scope=row>10</th><td> TRUE</td><td> TRUE</td><td> TRUE</td><td>TRUE</td><td> TRUE</td><td>TRUE</td><td> TRUE</td><td> TRUE</td><td>FALSE</td><td>FALSE</td><td>FALSE</td><td>TRUE</td><td> TRUE</td></tr>\n",
              "\t<tr><th scope=row>10</th><td>FALSE</td><td> TRUE</td><td> TRUE</td><td>TRUE</td><td> TRUE</td><td>TRUE</td><td> TRUE</td><td>FALSE</td><td> TRUE</td><td>FALSE</td><td> TRUE</td><td>TRUE</td><td> TRUE</td></tr>\n",
              "\t<tr><th scope=row>10</th><td>FALSE</td><td> TRUE</td><td> TRUE</td><td>TRUE</td><td> TRUE</td><td>TRUE</td><td> TRUE</td><td>FALSE</td><td>FALSE</td><td> TRUE</td><td> TRUE</td><td>TRUE</td><td> TRUE</td></tr>\n",
              "\t<tr><th scope=row>10</th><td> TRUE</td><td> TRUE</td><td> TRUE</td><td>TRUE</td><td> TRUE</td><td>TRUE</td><td> TRUE</td><td> TRUE</td><td> TRUE</td><td>FALSE</td><td>FALSE</td><td>TRUE</td><td>FALSE</td></tr>\n",
              "\t<tr><th scope=row>11</th><td>FALSE</td><td> TRUE</td><td> TRUE</td><td>TRUE</td><td> TRUE</td><td>TRUE</td><td> TRUE</td><td> TRUE</td><td> TRUE</td><td>FALSE</td><td> TRUE</td><td>TRUE</td><td> TRUE</td></tr>\n",
              "\t<tr><th scope=row>11</th><td>FALSE</td><td> TRUE</td><td> TRUE</td><td>TRUE</td><td> TRUE</td><td>TRUE</td><td> TRUE</td><td> TRUE</td><td>FALSE</td><td> TRUE</td><td> TRUE</td><td>TRUE</td><td> TRUE</td></tr>\n",
              "\t<tr><th scope=row>11</th><td> TRUE</td><td> TRUE</td><td> TRUE</td><td>TRUE</td><td> TRUE</td><td>TRUE</td><td> TRUE</td><td> TRUE</td><td> TRUE</td><td>FALSE</td><td>FALSE</td><td>TRUE</td><td> TRUE</td></tr>\n",
              "\t<tr><th scope=row>11</th><td> TRUE</td><td> TRUE</td><td> TRUE</td><td>TRUE</td><td> TRUE</td><td>TRUE</td><td> TRUE</td><td> TRUE</td><td>FALSE</td><td>FALSE</td><td> TRUE</td><td>TRUE</td><td> TRUE</td></tr>\n",
              "\t<tr><th scope=row>11</th><td>FALSE</td><td> TRUE</td><td> TRUE</td><td>TRUE</td><td> TRUE</td><td>TRUE</td><td> TRUE</td><td> TRUE</td><td> TRUE</td><td> TRUE</td><td> TRUE</td><td>TRUE</td><td>FALSE</td></tr>\n",
              "\t<tr><th scope=row>11</th><td>FALSE</td><td> TRUE</td><td> TRUE</td><td>TRUE</td><td> TRUE</td><td>TRUE</td><td> TRUE</td><td> TRUE</td><td> TRUE</td><td> TRUE</td><td>FALSE</td><td>TRUE</td><td> TRUE</td></tr>\n",
              "\t<tr><th scope=row>11</th><td> TRUE</td><td> TRUE</td><td> TRUE</td><td>TRUE</td><td> TRUE</td><td>TRUE</td><td> TRUE</td><td> TRUE</td><td> TRUE</td><td>FALSE</td><td> TRUE</td><td>TRUE</td><td>FALSE</td></tr>\n",
              "\t<tr><th scope=row>11</th><td> TRUE</td><td> TRUE</td><td> TRUE</td><td>TRUE</td><td> TRUE</td><td>TRUE</td><td> TRUE</td><td> TRUE</td><td>FALSE</td><td> TRUE</td><td>FALSE</td><td>TRUE</td><td> TRUE</td></tr>\n",
              "\t<tr><th scope=row>11</th><td> TRUE</td><td> TRUE</td><td> TRUE</td><td>TRUE</td><td> TRUE</td><td>TRUE</td><td> TRUE</td><td> TRUE</td><td>FALSE</td><td> TRUE</td><td> TRUE</td><td>TRUE</td><td>FALSE</td></tr>\n",
              "\t<tr><th scope=row>11</th><td> TRUE</td><td> TRUE</td><td> TRUE</td><td>TRUE</td><td> TRUE</td><td>TRUE</td><td> TRUE</td><td> TRUE</td><td> TRUE</td><td> TRUE</td><td>FALSE</td><td>TRUE</td><td>FALSE</td></tr>\n",
              "\t<tr><th scope=row>12</th><td> TRUE</td><td> TRUE</td><td> TRUE</td><td>TRUE</td><td> TRUE</td><td>TRUE</td><td> TRUE</td><td> TRUE</td><td> TRUE</td><td>FALSE</td><td> TRUE</td><td>TRUE</td><td> TRUE</td></tr>\n",
              "\t<tr><th scope=row>12</th><td>FALSE</td><td> TRUE</td><td> TRUE</td><td>TRUE</td><td> TRUE</td><td>TRUE</td><td> TRUE</td><td> TRUE</td><td> TRUE</td><td> TRUE</td><td> TRUE</td><td>TRUE</td><td> TRUE</td></tr>\n",
              "\t<tr><th scope=row>12</th><td> TRUE</td><td> TRUE</td><td> TRUE</td><td>TRUE</td><td> TRUE</td><td>TRUE</td><td> TRUE</td><td> TRUE</td><td>FALSE</td><td> TRUE</td><td> TRUE</td><td>TRUE</td><td> TRUE</td></tr>\n",
              "\t<tr><th scope=row>12</th><td> TRUE</td><td> TRUE</td><td> TRUE</td><td>TRUE</td><td> TRUE</td><td>TRUE</td><td> TRUE</td><td> TRUE</td><td> TRUE</td><td> TRUE</td><td>FALSE</td><td>TRUE</td><td> TRUE</td></tr>\n",
              "\t<tr><th scope=row>12</th><td> TRUE</td><td> TRUE</td><td> TRUE</td><td>TRUE</td><td> TRUE</td><td>TRUE</td><td> TRUE</td><td> TRUE</td><td> TRUE</td><td> TRUE</td><td> TRUE</td><td>TRUE</td><td>FALSE</td></tr>\n",
              "\t<tr><th scope=row>12</th><td> TRUE</td><td> TRUE</td><td> TRUE</td><td>TRUE</td><td> TRUE</td><td>TRUE</td><td> TRUE</td><td>FALSE</td><td> TRUE</td><td> TRUE</td><td> TRUE</td><td>TRUE</td><td> TRUE</td></tr>\n",
              "\t<tr><th scope=row>12</th><td> TRUE</td><td> TRUE</td><td> TRUE</td><td>TRUE</td><td>FALSE</td><td>TRUE</td><td> TRUE</td><td> TRUE</td><td> TRUE</td><td> TRUE</td><td> TRUE</td><td>TRUE</td><td> TRUE</td></tr>\n",
              "\t<tr><th scope=row>12</th><td> TRUE</td><td> TRUE</td><td> TRUE</td><td>TRUE</td><td> TRUE</td><td>TRUE</td><td>FALSE</td><td> TRUE</td><td> TRUE</td><td> TRUE</td><td> TRUE</td><td>TRUE</td><td> TRUE</td></tr>\n",
              "\t<tr><th scope=row>12</th><td> TRUE</td><td> TRUE</td><td>FALSE</td><td>TRUE</td><td> TRUE</td><td>TRUE</td><td> TRUE</td><td> TRUE</td><td> TRUE</td><td> TRUE</td><td> TRUE</td><td>TRUE</td><td> TRUE</td></tr>\n",
              "\t<tr><th scope=row>12</th><td> TRUE</td><td>FALSE</td><td> TRUE</td><td>TRUE</td><td> TRUE</td><td>TRUE</td><td> TRUE</td><td> TRUE</td><td> TRUE</td><td> TRUE</td><td> TRUE</td><td>TRUE</td><td> TRUE</td></tr>\n",
              "\t<tr><th scope=row>13</th><td> TRUE</td><td> TRUE</td><td> TRUE</td><td>TRUE</td><td> TRUE</td><td>TRUE</td><td> TRUE</td><td> TRUE</td><td> TRUE</td><td> TRUE</td><td> TRUE</td><td>TRUE</td><td> TRUE</td></tr>\n",
              "</tbody>\n",
              "</table>\n"
            ],
            "text/markdown": "\nA matrix: 121 × 13 of type lgl\n\n| <!--/--> | Age | Weight | Height | Neck | Chest | Abdo | Hip | Thigh | Knee | Ankle | Bic | Fore | Wrist |\n|---|---|---|---|---|---|---|---|---|---|---|---|---|---|\n| 1 | FALSE | FALSE | FALSE | FALSE | FALSE |  TRUE | FALSE | FALSE | FALSE | FALSE | FALSE | FALSE | FALSE |\n| 1 | FALSE | FALSE | FALSE | FALSE |  TRUE | FALSE | FALSE | FALSE | FALSE | FALSE | FALSE | FALSE | FALSE |\n| 1 | FALSE |  TRUE | FALSE | FALSE | FALSE | FALSE | FALSE | FALSE | FALSE | FALSE | FALSE | FALSE | FALSE |\n| 1 | FALSE | FALSE | FALSE | FALSE | FALSE | FALSE |  TRUE | FALSE | FALSE | FALSE | FALSE | FALSE | FALSE |\n| 1 | FALSE | FALSE | FALSE | FALSE | FALSE | FALSE | FALSE |  TRUE | FALSE | FALSE | FALSE | FALSE | FALSE |\n| 1 | FALSE | FALSE | FALSE | FALSE | FALSE | FALSE | FALSE | FALSE | FALSE | FALSE |  TRUE | FALSE | FALSE |\n| 1 | FALSE | FALSE | FALSE | FALSE | FALSE | FALSE | FALSE | FALSE |  TRUE | FALSE | FALSE | FALSE | FALSE |\n| 1 | FALSE | FALSE | FALSE |  TRUE | FALSE | FALSE | FALSE | FALSE | FALSE | FALSE | FALSE | FALSE | FALSE |\n| 1 | FALSE | FALSE | FALSE | FALSE | FALSE | FALSE | FALSE | FALSE | FALSE | FALSE | FALSE | FALSE |  TRUE |\n| 1 | FALSE | FALSE | FALSE | FALSE | FALSE | FALSE | FALSE | FALSE | FALSE |  TRUE | FALSE | FALSE | FALSE |\n| 2 | FALSE |  TRUE | FALSE | FALSE | FALSE |  TRUE | FALSE | FALSE | FALSE | FALSE | FALSE | FALSE | FALSE |\n| 2 | FALSE | FALSE | FALSE |  TRUE | FALSE |  TRUE | FALSE | FALSE | FALSE | FALSE | FALSE | FALSE | FALSE |\n| 2 | FALSE | FALSE | FALSE | FALSE | FALSE |  TRUE |  TRUE | FALSE | FALSE | FALSE | FALSE | FALSE | FALSE |\n| 2 | FALSE | FALSE | FALSE | FALSE | FALSE |  TRUE | FALSE | FALSE | FALSE | FALSE | FALSE | FALSE |  TRUE |\n| 2 | FALSE | FALSE | FALSE | FALSE | FALSE |  TRUE | FALSE | FALSE | FALSE |  TRUE | FALSE | FALSE | FALSE |\n| 2 | FALSE | FALSE | FALSE | FALSE | FALSE |  TRUE | FALSE | FALSE |  TRUE | FALSE | FALSE | FALSE | FALSE |\n| 2 | FALSE | FALSE | FALSE | FALSE | FALSE |  TRUE | FALSE |  TRUE | FALSE | FALSE | FALSE | FALSE | FALSE |\n| 2 | FALSE | FALSE |  TRUE | FALSE | FALSE |  TRUE | FALSE | FALSE | FALSE | FALSE | FALSE | FALSE | FALSE |\n| 2 | FALSE | FALSE | FALSE | FALSE | FALSE |  TRUE | FALSE | FALSE | FALSE | FALSE |  TRUE | FALSE | FALSE |\n| 2 | FALSE | FALSE | FALSE | FALSE |  TRUE |  TRUE | FALSE | FALSE | FALSE | FALSE | FALSE | FALSE | FALSE |\n| 3 | FALSE | FALSE | FALSE |  TRUE | FALSE |  TRUE |  TRUE | FALSE | FALSE | FALSE | FALSE | FALSE | FALSE |\n| 3 | FALSE |  TRUE | FALSE |  TRUE | FALSE |  TRUE | FALSE | FALSE | FALSE | FALSE | FALSE | FALSE | FALSE |\n| 3 | FALSE |  TRUE | FALSE | FALSE | FALSE |  TRUE | FALSE | FALSE | FALSE | FALSE | FALSE | FALSE |  TRUE |\n| 3 | FALSE |  TRUE | FALSE | FALSE | FALSE |  TRUE | FALSE | FALSE | FALSE | FALSE | FALSE |  TRUE | FALSE |\n| 3 | FALSE | FALSE | FALSE | FALSE | FALSE |  TRUE |  TRUE | FALSE | FALSE | FALSE | FALSE | FALSE |  TRUE |\n| 3 | FALSE | FALSE | FALSE |  TRUE | FALSE |  TRUE | FALSE | FALSE | FALSE |  TRUE | FALSE | FALSE | FALSE |\n| 3 | FALSE | FALSE | FALSE |  TRUE | FALSE |  TRUE | FALSE | FALSE |  TRUE | FALSE | FALSE | FALSE | FALSE |\n| 3 | FALSE |  TRUE | FALSE | FALSE | FALSE |  TRUE |  TRUE | FALSE | FALSE | FALSE | FALSE | FALSE | FALSE |\n| 3 | FALSE |  TRUE |  TRUE | FALSE | FALSE |  TRUE | FALSE | FALSE | FALSE | FALSE | FALSE | FALSE | FALSE |\n| 3 | FALSE |  TRUE | FALSE | FALSE | FALSE |  TRUE | FALSE | FALSE | FALSE |  TRUE | FALSE | FALSE | FALSE |\n| ⋮ | ⋮ | ⋮ | ⋮ | ⋮ | ⋮ | ⋮ | ⋮ | ⋮ | ⋮ | ⋮ | ⋮ | ⋮ | ⋮ |\n| 10 | FALSE |  TRUE |  TRUE | TRUE |  TRUE | TRUE |  TRUE |  TRUE |  TRUE | FALSE | FALSE | TRUE |  TRUE |\n| 10 | FALSE |  TRUE |  TRUE | TRUE |  TRUE | TRUE |  TRUE |  TRUE |  TRUE | FALSE |  TRUE | TRUE | FALSE |\n| 10 | FALSE |  TRUE |  TRUE | TRUE |  TRUE | TRUE |  TRUE |  TRUE | FALSE |  TRUE | FALSE | TRUE |  TRUE |\n| 10 | FALSE |  TRUE |  TRUE | TRUE |  TRUE | TRUE |  TRUE |  TRUE | FALSE |  TRUE |  TRUE | TRUE | FALSE |\n| 10 | FALSE |  TRUE |  TRUE | TRUE |  TRUE | TRUE |  TRUE |  TRUE |  TRUE |  TRUE | FALSE | TRUE | FALSE |\n| 10 |  TRUE |  TRUE |  TRUE | TRUE |  TRUE | TRUE |  TRUE |  TRUE | FALSE | FALSE | FALSE | TRUE |  TRUE |\n| 10 | FALSE |  TRUE |  TRUE | TRUE |  TRUE | TRUE |  TRUE | FALSE |  TRUE | FALSE |  TRUE | TRUE |  TRUE |\n| 10 | FALSE |  TRUE |  TRUE | TRUE |  TRUE | TRUE |  TRUE | FALSE | FALSE |  TRUE |  TRUE | TRUE |  TRUE |\n| 10 |  TRUE |  TRUE |  TRUE | TRUE |  TRUE | TRUE |  TRUE |  TRUE |  TRUE | FALSE | FALSE | TRUE | FALSE |\n| 11 | FALSE |  TRUE |  TRUE | TRUE |  TRUE | TRUE |  TRUE |  TRUE |  TRUE | FALSE |  TRUE | TRUE |  TRUE |\n| 11 | FALSE |  TRUE |  TRUE | TRUE |  TRUE | TRUE |  TRUE |  TRUE | FALSE |  TRUE |  TRUE | TRUE |  TRUE |\n| 11 |  TRUE |  TRUE |  TRUE | TRUE |  TRUE | TRUE |  TRUE |  TRUE |  TRUE | FALSE | FALSE | TRUE |  TRUE |\n| 11 |  TRUE |  TRUE |  TRUE | TRUE |  TRUE | TRUE |  TRUE |  TRUE | FALSE | FALSE |  TRUE | TRUE |  TRUE |\n| 11 | FALSE |  TRUE |  TRUE | TRUE |  TRUE | TRUE |  TRUE |  TRUE |  TRUE |  TRUE |  TRUE | TRUE | FALSE |\n| 11 | FALSE |  TRUE |  TRUE | TRUE |  TRUE | TRUE |  TRUE |  TRUE |  TRUE |  TRUE | FALSE | TRUE |  TRUE |\n| 11 |  TRUE |  TRUE |  TRUE | TRUE |  TRUE | TRUE |  TRUE |  TRUE |  TRUE | FALSE |  TRUE | TRUE | FALSE |\n| 11 |  TRUE |  TRUE |  TRUE | TRUE |  TRUE | TRUE |  TRUE |  TRUE | FALSE |  TRUE | FALSE | TRUE |  TRUE |\n| 11 |  TRUE |  TRUE |  TRUE | TRUE |  TRUE | TRUE |  TRUE |  TRUE | FALSE |  TRUE |  TRUE | TRUE | FALSE |\n| 11 |  TRUE |  TRUE |  TRUE | TRUE |  TRUE | TRUE |  TRUE |  TRUE |  TRUE |  TRUE | FALSE | TRUE | FALSE |\n| 12 |  TRUE |  TRUE |  TRUE | TRUE |  TRUE | TRUE |  TRUE |  TRUE |  TRUE | FALSE |  TRUE | TRUE |  TRUE |\n| 12 | FALSE |  TRUE |  TRUE | TRUE |  TRUE | TRUE |  TRUE |  TRUE |  TRUE |  TRUE |  TRUE | TRUE |  TRUE |\n| 12 |  TRUE |  TRUE |  TRUE | TRUE |  TRUE | TRUE |  TRUE |  TRUE | FALSE |  TRUE |  TRUE | TRUE |  TRUE |\n| 12 |  TRUE |  TRUE |  TRUE | TRUE |  TRUE | TRUE |  TRUE |  TRUE |  TRUE |  TRUE | FALSE | TRUE |  TRUE |\n| 12 |  TRUE |  TRUE |  TRUE | TRUE |  TRUE | TRUE |  TRUE |  TRUE |  TRUE |  TRUE |  TRUE | TRUE | FALSE |\n| 12 |  TRUE |  TRUE |  TRUE | TRUE |  TRUE | TRUE |  TRUE | FALSE |  TRUE |  TRUE |  TRUE | TRUE |  TRUE |\n| 12 |  TRUE |  TRUE |  TRUE | TRUE | FALSE | TRUE |  TRUE |  TRUE |  TRUE |  TRUE |  TRUE | TRUE |  TRUE |\n| 12 |  TRUE |  TRUE |  TRUE | TRUE |  TRUE | TRUE | FALSE |  TRUE |  TRUE |  TRUE |  TRUE | TRUE |  TRUE |\n| 12 |  TRUE |  TRUE | FALSE | TRUE |  TRUE | TRUE |  TRUE |  TRUE |  TRUE |  TRUE |  TRUE | TRUE |  TRUE |\n| 12 |  TRUE | FALSE |  TRUE | TRUE |  TRUE | TRUE |  TRUE |  TRUE |  TRUE |  TRUE |  TRUE | TRUE |  TRUE |\n| 13 |  TRUE |  TRUE |  TRUE | TRUE |  TRUE | TRUE |  TRUE |  TRUE |  TRUE |  TRUE |  TRUE | TRUE |  TRUE |\n\n",
            "text/latex": "A matrix: 121 × 13 of type lgl\n\\begin{tabular}{r|lllllllllllll}\n  & Age & Weight & Height & Neck & Chest & Abdo & Hip & Thigh & Knee & Ankle & Bic & Fore & Wrist\\\\\n\\hline\n\t1 & FALSE & FALSE & FALSE & FALSE & FALSE &  TRUE & FALSE & FALSE & FALSE & FALSE & FALSE & FALSE & FALSE\\\\\n\t1 & FALSE & FALSE & FALSE & FALSE &  TRUE & FALSE & FALSE & FALSE & FALSE & FALSE & FALSE & FALSE & FALSE\\\\\n\t1 & FALSE &  TRUE & FALSE & FALSE & FALSE & FALSE & FALSE & FALSE & FALSE & FALSE & FALSE & FALSE & FALSE\\\\\n\t1 & FALSE & FALSE & FALSE & FALSE & FALSE & FALSE &  TRUE & FALSE & FALSE & FALSE & FALSE & FALSE & FALSE\\\\\n\t1 & FALSE & FALSE & FALSE & FALSE & FALSE & FALSE & FALSE &  TRUE & FALSE & FALSE & FALSE & FALSE & FALSE\\\\\n\t1 & FALSE & FALSE & FALSE & FALSE & FALSE & FALSE & FALSE & FALSE & FALSE & FALSE &  TRUE & FALSE & FALSE\\\\\n\t1 & FALSE & FALSE & FALSE & FALSE & FALSE & FALSE & FALSE & FALSE &  TRUE & FALSE & FALSE & FALSE & FALSE\\\\\n\t1 & FALSE & FALSE & FALSE &  TRUE & FALSE & FALSE & FALSE & FALSE & FALSE & FALSE & FALSE & FALSE & FALSE\\\\\n\t1 & FALSE & FALSE & FALSE & FALSE & FALSE & FALSE & FALSE & FALSE & FALSE & FALSE & FALSE & FALSE &  TRUE\\\\\n\t1 & FALSE & FALSE & FALSE & FALSE & FALSE & FALSE & FALSE & FALSE & FALSE &  TRUE & FALSE & FALSE & FALSE\\\\\n\t2 & FALSE &  TRUE & FALSE & FALSE & FALSE &  TRUE & FALSE & FALSE & FALSE & FALSE & FALSE & FALSE & FALSE\\\\\n\t2 & FALSE & FALSE & FALSE &  TRUE & FALSE &  TRUE & FALSE & FALSE & FALSE & FALSE & FALSE & FALSE & FALSE\\\\\n\t2 & FALSE & FALSE & FALSE & FALSE & FALSE &  TRUE &  TRUE & FALSE & FALSE & FALSE & FALSE & FALSE & FALSE\\\\\n\t2 & FALSE & FALSE & FALSE & FALSE & FALSE &  TRUE & FALSE & FALSE & FALSE & FALSE & FALSE & FALSE &  TRUE\\\\\n\t2 & FALSE & FALSE & FALSE & FALSE & FALSE &  TRUE & FALSE & FALSE & FALSE &  TRUE & FALSE & FALSE & FALSE\\\\\n\t2 & FALSE & FALSE & FALSE & FALSE & FALSE &  TRUE & FALSE & FALSE &  TRUE & FALSE & FALSE & FALSE & FALSE\\\\\n\t2 & FALSE & FALSE & FALSE & FALSE & FALSE &  TRUE & FALSE &  TRUE & FALSE & FALSE & FALSE & FALSE & FALSE\\\\\n\t2 & FALSE & FALSE &  TRUE & FALSE & FALSE &  TRUE & FALSE & FALSE & FALSE & FALSE & FALSE & FALSE & FALSE\\\\\n\t2 & FALSE & FALSE & FALSE & FALSE & FALSE &  TRUE & FALSE & FALSE & FALSE & FALSE &  TRUE & FALSE & FALSE\\\\\n\t2 & FALSE & FALSE & FALSE & FALSE &  TRUE &  TRUE & FALSE & FALSE & FALSE & FALSE & FALSE & FALSE & FALSE\\\\\n\t3 & FALSE & FALSE & FALSE &  TRUE & FALSE &  TRUE &  TRUE & FALSE & FALSE & FALSE & FALSE & FALSE & FALSE\\\\\n\t3 & FALSE &  TRUE & FALSE &  TRUE & FALSE &  TRUE & FALSE & FALSE & FALSE & FALSE & FALSE & FALSE & FALSE\\\\\n\t3 & FALSE &  TRUE & FALSE & FALSE & FALSE &  TRUE & FALSE & FALSE & FALSE & FALSE & FALSE & FALSE &  TRUE\\\\\n\t3 & FALSE &  TRUE & FALSE & FALSE & FALSE &  TRUE & FALSE & FALSE & FALSE & FALSE & FALSE &  TRUE & FALSE\\\\\n\t3 & FALSE & FALSE & FALSE & FALSE & FALSE &  TRUE &  TRUE & FALSE & FALSE & FALSE & FALSE & FALSE &  TRUE\\\\\n\t3 & FALSE & FALSE & FALSE &  TRUE & FALSE &  TRUE & FALSE & FALSE & FALSE &  TRUE & FALSE & FALSE & FALSE\\\\\n\t3 & FALSE & FALSE & FALSE &  TRUE & FALSE &  TRUE & FALSE & FALSE &  TRUE & FALSE & FALSE & FALSE & FALSE\\\\\n\t3 & FALSE &  TRUE & FALSE & FALSE & FALSE &  TRUE &  TRUE & FALSE & FALSE & FALSE & FALSE & FALSE & FALSE\\\\\n\t3 & FALSE &  TRUE &  TRUE & FALSE & FALSE &  TRUE & FALSE & FALSE & FALSE & FALSE & FALSE & FALSE & FALSE\\\\\n\t3 & FALSE &  TRUE & FALSE & FALSE & FALSE &  TRUE & FALSE & FALSE & FALSE &  TRUE & FALSE & FALSE & FALSE\\\\\n\t⋮ & ⋮ & ⋮ & ⋮ & ⋮ & ⋮ & ⋮ & ⋮ & ⋮ & ⋮ & ⋮ & ⋮ & ⋮ & ⋮\\\\\n\t10 & FALSE &  TRUE &  TRUE & TRUE &  TRUE & TRUE &  TRUE &  TRUE &  TRUE & FALSE & FALSE & TRUE &  TRUE\\\\\n\t10 & FALSE &  TRUE &  TRUE & TRUE &  TRUE & TRUE &  TRUE &  TRUE &  TRUE & FALSE &  TRUE & TRUE & FALSE\\\\\n\t10 & FALSE &  TRUE &  TRUE & TRUE &  TRUE & TRUE &  TRUE &  TRUE & FALSE &  TRUE & FALSE & TRUE &  TRUE\\\\\n\t10 & FALSE &  TRUE &  TRUE & TRUE &  TRUE & TRUE &  TRUE &  TRUE & FALSE &  TRUE &  TRUE & TRUE & FALSE\\\\\n\t10 & FALSE &  TRUE &  TRUE & TRUE &  TRUE & TRUE &  TRUE &  TRUE &  TRUE &  TRUE & FALSE & TRUE & FALSE\\\\\n\t10 &  TRUE &  TRUE &  TRUE & TRUE &  TRUE & TRUE &  TRUE &  TRUE & FALSE & FALSE & FALSE & TRUE &  TRUE\\\\\n\t10 & FALSE &  TRUE &  TRUE & TRUE &  TRUE & TRUE &  TRUE & FALSE &  TRUE & FALSE &  TRUE & TRUE &  TRUE\\\\\n\t10 & FALSE &  TRUE &  TRUE & TRUE &  TRUE & TRUE &  TRUE & FALSE & FALSE &  TRUE &  TRUE & TRUE &  TRUE\\\\\n\t10 &  TRUE &  TRUE &  TRUE & TRUE &  TRUE & TRUE &  TRUE &  TRUE &  TRUE & FALSE & FALSE & TRUE & FALSE\\\\\n\t11 & FALSE &  TRUE &  TRUE & TRUE &  TRUE & TRUE &  TRUE &  TRUE &  TRUE & FALSE &  TRUE & TRUE &  TRUE\\\\\n\t11 & FALSE &  TRUE &  TRUE & TRUE &  TRUE & TRUE &  TRUE &  TRUE & FALSE &  TRUE &  TRUE & TRUE &  TRUE\\\\\n\t11 &  TRUE &  TRUE &  TRUE & TRUE &  TRUE & TRUE &  TRUE &  TRUE &  TRUE & FALSE & FALSE & TRUE &  TRUE\\\\\n\t11 &  TRUE &  TRUE &  TRUE & TRUE &  TRUE & TRUE &  TRUE &  TRUE & FALSE & FALSE &  TRUE & TRUE &  TRUE\\\\\n\t11 & FALSE &  TRUE &  TRUE & TRUE &  TRUE & TRUE &  TRUE &  TRUE &  TRUE &  TRUE &  TRUE & TRUE & FALSE\\\\\n\t11 & FALSE &  TRUE &  TRUE & TRUE &  TRUE & TRUE &  TRUE &  TRUE &  TRUE &  TRUE & FALSE & TRUE &  TRUE\\\\\n\t11 &  TRUE &  TRUE &  TRUE & TRUE &  TRUE & TRUE &  TRUE &  TRUE &  TRUE & FALSE &  TRUE & TRUE & FALSE\\\\\n\t11 &  TRUE &  TRUE &  TRUE & TRUE &  TRUE & TRUE &  TRUE &  TRUE & FALSE &  TRUE & FALSE & TRUE &  TRUE\\\\\n\t11 &  TRUE &  TRUE &  TRUE & TRUE &  TRUE & TRUE &  TRUE &  TRUE & FALSE &  TRUE &  TRUE & TRUE & FALSE\\\\\n\t11 &  TRUE &  TRUE &  TRUE & TRUE &  TRUE & TRUE &  TRUE &  TRUE &  TRUE &  TRUE & FALSE & TRUE & FALSE\\\\\n\t12 &  TRUE &  TRUE &  TRUE & TRUE &  TRUE & TRUE &  TRUE &  TRUE &  TRUE & FALSE &  TRUE & TRUE &  TRUE\\\\\n\t12 & FALSE &  TRUE &  TRUE & TRUE &  TRUE & TRUE &  TRUE &  TRUE &  TRUE &  TRUE &  TRUE & TRUE &  TRUE\\\\\n\t12 &  TRUE &  TRUE &  TRUE & TRUE &  TRUE & TRUE &  TRUE &  TRUE & FALSE &  TRUE &  TRUE & TRUE &  TRUE\\\\\n\t12 &  TRUE &  TRUE &  TRUE & TRUE &  TRUE & TRUE &  TRUE &  TRUE &  TRUE &  TRUE & FALSE & TRUE &  TRUE\\\\\n\t12 &  TRUE &  TRUE &  TRUE & TRUE &  TRUE & TRUE &  TRUE &  TRUE &  TRUE &  TRUE &  TRUE & TRUE & FALSE\\\\\n\t12 &  TRUE &  TRUE &  TRUE & TRUE &  TRUE & TRUE &  TRUE & FALSE &  TRUE &  TRUE &  TRUE & TRUE &  TRUE\\\\\n\t12 &  TRUE &  TRUE &  TRUE & TRUE & FALSE & TRUE &  TRUE &  TRUE &  TRUE &  TRUE &  TRUE & TRUE &  TRUE\\\\\n\t12 &  TRUE &  TRUE &  TRUE & TRUE &  TRUE & TRUE & FALSE &  TRUE &  TRUE &  TRUE &  TRUE & TRUE &  TRUE\\\\\n\t12 &  TRUE &  TRUE & FALSE & TRUE &  TRUE & TRUE &  TRUE &  TRUE &  TRUE &  TRUE &  TRUE & TRUE &  TRUE\\\\\n\t12 &  TRUE & FALSE &  TRUE & TRUE &  TRUE & TRUE &  TRUE &  TRUE &  TRUE &  TRUE &  TRUE & TRUE &  TRUE\\\\\n\t13 &  TRUE &  TRUE &  TRUE & TRUE &  TRUE & TRUE &  TRUE &  TRUE &  TRUE &  TRUE &  TRUE & TRUE &  TRUE\\\\\n\\end{tabular}\n",
            "text/plain": [
              "   Age   Weight Height Neck  Chest Abdo  Hip   Thigh Knee  Ankle Bic   Fore \n",
              "1  FALSE FALSE  FALSE  FALSE FALSE  TRUE FALSE FALSE FALSE FALSE FALSE FALSE\n",
              "1  FALSE FALSE  FALSE  FALSE  TRUE FALSE FALSE FALSE FALSE FALSE FALSE FALSE\n",
              "1  FALSE  TRUE  FALSE  FALSE FALSE FALSE FALSE FALSE FALSE FALSE FALSE FALSE\n",
              "1  FALSE FALSE  FALSE  FALSE FALSE FALSE  TRUE FALSE FALSE FALSE FALSE FALSE\n",
              "1  FALSE FALSE  FALSE  FALSE FALSE FALSE FALSE  TRUE FALSE FALSE FALSE FALSE\n",
              "1  FALSE FALSE  FALSE  FALSE FALSE FALSE FALSE FALSE FALSE FALSE  TRUE FALSE\n",
              "1  FALSE FALSE  FALSE  FALSE FALSE FALSE FALSE FALSE  TRUE FALSE FALSE FALSE\n",
              "1  FALSE FALSE  FALSE   TRUE FALSE FALSE FALSE FALSE FALSE FALSE FALSE FALSE\n",
              "1  FALSE FALSE  FALSE  FALSE FALSE FALSE FALSE FALSE FALSE FALSE FALSE FALSE\n",
              "1  FALSE FALSE  FALSE  FALSE FALSE FALSE FALSE FALSE FALSE  TRUE FALSE FALSE\n",
              "2  FALSE  TRUE  FALSE  FALSE FALSE  TRUE FALSE FALSE FALSE FALSE FALSE FALSE\n",
              "2  FALSE FALSE  FALSE   TRUE FALSE  TRUE FALSE FALSE FALSE FALSE FALSE FALSE\n",
              "2  FALSE FALSE  FALSE  FALSE FALSE  TRUE  TRUE FALSE FALSE FALSE FALSE FALSE\n",
              "2  FALSE FALSE  FALSE  FALSE FALSE  TRUE FALSE FALSE FALSE FALSE FALSE FALSE\n",
              "2  FALSE FALSE  FALSE  FALSE FALSE  TRUE FALSE FALSE FALSE  TRUE FALSE FALSE\n",
              "2  FALSE FALSE  FALSE  FALSE FALSE  TRUE FALSE FALSE  TRUE FALSE FALSE FALSE\n",
              "2  FALSE FALSE  FALSE  FALSE FALSE  TRUE FALSE  TRUE FALSE FALSE FALSE FALSE\n",
              "2  FALSE FALSE   TRUE  FALSE FALSE  TRUE FALSE FALSE FALSE FALSE FALSE FALSE\n",
              "2  FALSE FALSE  FALSE  FALSE FALSE  TRUE FALSE FALSE FALSE FALSE  TRUE FALSE\n",
              "2  FALSE FALSE  FALSE  FALSE  TRUE  TRUE FALSE FALSE FALSE FALSE FALSE FALSE\n",
              "3  FALSE FALSE  FALSE   TRUE FALSE  TRUE  TRUE FALSE FALSE FALSE FALSE FALSE\n",
              "3  FALSE  TRUE  FALSE   TRUE FALSE  TRUE FALSE FALSE FALSE FALSE FALSE FALSE\n",
              "3  FALSE  TRUE  FALSE  FALSE FALSE  TRUE FALSE FALSE FALSE FALSE FALSE FALSE\n",
              "3  FALSE  TRUE  FALSE  FALSE FALSE  TRUE FALSE FALSE FALSE FALSE FALSE  TRUE\n",
              "3  FALSE FALSE  FALSE  FALSE FALSE  TRUE  TRUE FALSE FALSE FALSE FALSE FALSE\n",
              "3  FALSE FALSE  FALSE   TRUE FALSE  TRUE FALSE FALSE FALSE  TRUE FALSE FALSE\n",
              "3  FALSE FALSE  FALSE   TRUE FALSE  TRUE FALSE FALSE  TRUE FALSE FALSE FALSE\n",
              "3  FALSE  TRUE  FALSE  FALSE FALSE  TRUE  TRUE FALSE FALSE FALSE FALSE FALSE\n",
              "3  FALSE  TRUE   TRUE  FALSE FALSE  TRUE FALSE FALSE FALSE FALSE FALSE FALSE\n",
              "3  FALSE  TRUE  FALSE  FALSE FALSE  TRUE FALSE FALSE FALSE  TRUE FALSE FALSE\n",
              "⋮  ⋮     ⋮      ⋮      ⋮     ⋮     ⋮     ⋮     ⋮     ⋮     ⋮     ⋮     ⋮    \n",
              "10 FALSE  TRUE   TRUE  TRUE   TRUE TRUE   TRUE  TRUE  TRUE FALSE FALSE TRUE \n",
              "10 FALSE  TRUE   TRUE  TRUE   TRUE TRUE   TRUE  TRUE  TRUE FALSE  TRUE TRUE \n",
              "10 FALSE  TRUE   TRUE  TRUE   TRUE TRUE   TRUE  TRUE FALSE  TRUE FALSE TRUE \n",
              "10 FALSE  TRUE   TRUE  TRUE   TRUE TRUE   TRUE  TRUE FALSE  TRUE  TRUE TRUE \n",
              "10 FALSE  TRUE   TRUE  TRUE   TRUE TRUE   TRUE  TRUE  TRUE  TRUE FALSE TRUE \n",
              "10  TRUE  TRUE   TRUE  TRUE   TRUE TRUE   TRUE  TRUE FALSE FALSE FALSE TRUE \n",
              "10 FALSE  TRUE   TRUE  TRUE   TRUE TRUE   TRUE FALSE  TRUE FALSE  TRUE TRUE \n",
              "10 FALSE  TRUE   TRUE  TRUE   TRUE TRUE   TRUE FALSE FALSE  TRUE  TRUE TRUE \n",
              "10  TRUE  TRUE   TRUE  TRUE   TRUE TRUE   TRUE  TRUE  TRUE FALSE FALSE TRUE \n",
              "11 FALSE  TRUE   TRUE  TRUE   TRUE TRUE   TRUE  TRUE  TRUE FALSE  TRUE TRUE \n",
              "11 FALSE  TRUE   TRUE  TRUE   TRUE TRUE   TRUE  TRUE FALSE  TRUE  TRUE TRUE \n",
              "11  TRUE  TRUE   TRUE  TRUE   TRUE TRUE   TRUE  TRUE  TRUE FALSE FALSE TRUE \n",
              "11  TRUE  TRUE   TRUE  TRUE   TRUE TRUE   TRUE  TRUE FALSE FALSE  TRUE TRUE \n",
              "11 FALSE  TRUE   TRUE  TRUE   TRUE TRUE   TRUE  TRUE  TRUE  TRUE  TRUE TRUE \n",
              "11 FALSE  TRUE   TRUE  TRUE   TRUE TRUE   TRUE  TRUE  TRUE  TRUE FALSE TRUE \n",
              "11  TRUE  TRUE   TRUE  TRUE   TRUE TRUE   TRUE  TRUE  TRUE FALSE  TRUE TRUE \n",
              "11  TRUE  TRUE   TRUE  TRUE   TRUE TRUE   TRUE  TRUE FALSE  TRUE FALSE TRUE \n",
              "11  TRUE  TRUE   TRUE  TRUE   TRUE TRUE   TRUE  TRUE FALSE  TRUE  TRUE TRUE \n",
              "11  TRUE  TRUE   TRUE  TRUE   TRUE TRUE   TRUE  TRUE  TRUE  TRUE FALSE TRUE \n",
              "12  TRUE  TRUE   TRUE  TRUE   TRUE TRUE   TRUE  TRUE  TRUE FALSE  TRUE TRUE \n",
              "12 FALSE  TRUE   TRUE  TRUE   TRUE TRUE   TRUE  TRUE  TRUE  TRUE  TRUE TRUE \n",
              "12  TRUE  TRUE   TRUE  TRUE   TRUE TRUE   TRUE  TRUE FALSE  TRUE  TRUE TRUE \n",
              "12  TRUE  TRUE   TRUE  TRUE   TRUE TRUE   TRUE  TRUE  TRUE  TRUE FALSE TRUE \n",
              "12  TRUE  TRUE   TRUE  TRUE   TRUE TRUE   TRUE  TRUE  TRUE  TRUE  TRUE TRUE \n",
              "12  TRUE  TRUE   TRUE  TRUE   TRUE TRUE   TRUE FALSE  TRUE  TRUE  TRUE TRUE \n",
              "12  TRUE  TRUE   TRUE  TRUE  FALSE TRUE   TRUE  TRUE  TRUE  TRUE  TRUE TRUE \n",
              "12  TRUE  TRUE   TRUE  TRUE   TRUE TRUE  FALSE  TRUE  TRUE  TRUE  TRUE TRUE \n",
              "12  TRUE  TRUE  FALSE  TRUE   TRUE TRUE   TRUE  TRUE  TRUE  TRUE  TRUE TRUE \n",
              "12  TRUE FALSE   TRUE  TRUE   TRUE TRUE   TRUE  TRUE  TRUE  TRUE  TRUE TRUE \n",
              "13  TRUE  TRUE   TRUE  TRUE   TRUE TRUE   TRUE  TRUE  TRUE  TRUE  TRUE TRUE \n",
              "   Wrist\n",
              "1  FALSE\n",
              "1  FALSE\n",
              "1  FALSE\n",
              "1  FALSE\n",
              "1  FALSE\n",
              "1  FALSE\n",
              "1  FALSE\n",
              "1  FALSE\n",
              "1   TRUE\n",
              "1  FALSE\n",
              "2  FALSE\n",
              "2  FALSE\n",
              "2  FALSE\n",
              "2   TRUE\n",
              "2  FALSE\n",
              "2  FALSE\n",
              "2  FALSE\n",
              "2  FALSE\n",
              "2  FALSE\n",
              "2  FALSE\n",
              "3  FALSE\n",
              "3  FALSE\n",
              "3   TRUE\n",
              "3  FALSE\n",
              "3   TRUE\n",
              "3  FALSE\n",
              "3  FALSE\n",
              "3  FALSE\n",
              "3  FALSE\n",
              "3  FALSE\n",
              "⋮  ⋮    \n",
              "10  TRUE\n",
              "10 FALSE\n",
              "10  TRUE\n",
              "10 FALSE\n",
              "10 FALSE\n",
              "10  TRUE\n",
              "10  TRUE\n",
              "10  TRUE\n",
              "10 FALSE\n",
              "11  TRUE\n",
              "11  TRUE\n",
              "11  TRUE\n",
              "11  TRUE\n",
              "11 FALSE\n",
              "11  TRUE\n",
              "11 FALSE\n",
              "11  TRUE\n",
              "11 FALSE\n",
              "11 FALSE\n",
              "12  TRUE\n",
              "12  TRUE\n",
              "12  TRUE\n",
              "12  TRUE\n",
              "12 FALSE\n",
              "12  TRUE\n",
              "12  TRUE\n",
              "12  TRUE\n",
              "12  TRUE\n",
              "12  TRUE\n",
              "13  TRUE"
            ]
          },
          "metadata": {}
        }
      ]
    },
    {
      "cell_type": "markdown",
      "source": [
        "The first model has only one predictor. It uses Abdo. The second model uses Chese as the predictor variable and so on.\n",
        "\n",
        "So the model is building all these subsets and evaluating the adjusted R-squared."
      ],
      "metadata": {
        "id": "pOa-wP1-kIOu"
      }
    },
    {
      "cell_type": "code",
      "source": [
        "model.leaps$adjr2"
      ],
      "metadata": {
        "colab": {
          "base_uri": "https://localhost:8080/",
          "height": 555
        },
        "id": "ACkJ8f16jTVC",
        "outputId": "19b34d04-8c8b-46cb-c22f-e41fb6a88ee3"
      },
      "execution_count": null,
      "outputs": [
        {
          "output_type": "display_data",
          "data": {
            "text/html": [
              "<style>\n",
              ".list-inline {list-style: none; margin:0; padding: 0}\n",
              ".list-inline>li {display: inline-block}\n",
              ".list-inline>li:not(:last-child)::after {content: \"\\00b7\"; padding: 0 .5ex}\n",
              "</style>\n",
              "<ol class=list-inline><li>0.700310253006608</li><li>0.540938477458351</li><li>0.433152447754517</li><li>0.388742425784025</li><li>0.267303376277467</li><li>0.235564897314017</li><li>0.231711675269844</li><li>0.209799502121303</li><li>0.169940307919945</li><li>0.122351214791594</li><li>0.728316619879485</li><li>0.723404221145449</li><li>0.721848554441062</li><li>0.71572052332253</li><li>0.713809068861376</li><li>0.712976415488554</li><li>0.710459845387956</li><li>0.706469881037217</li><li>0.705006303398263</li><li>0.701535563030062</li><li>0.735567544055558</li><li>0.733429493052629</li><li>0.730605962453178</li><li>0.729023433338222</li><li>0.728714493640472</li><li>0.728579238308404</li><li>0.728287168939205</li><li>0.727561229402641</li><li>0.72743490961716</li><li>0.726605407227451</li><li>0.738319554087453</li><li>0.737280711916425</li><li>0.734759324551173</li><li>0.734513708471018</li><li>0.734463176535459</li><li>0.734420118469558</li><li>0.734392766412254</li><li>0.733755239961389</li><li>0.733714482065297</li><li>0.733485935473433</li><li>0.738458859000732</li><li>0.737407882360978</li><li>0.737312558791489</li><li>0.737188372937151</li><li>0.73714872798586</li><li>0.736790292878327</li><li>0.736471045814916</li><li>0.736436903462744</li><li>0.736377705054487</li><li>0.736314364452931</li><li>0.737308550906163</li><li>0.737017540899872</li><li>0.737006912580236</li><li>0.73687460597952</li><li>0.736596816990586</li><li>0.736486731382761</li><li>0.736462437083208</li><li>0.736429645000305</li><li>0.736352658484333</li><li>0.736074429524315</li><li>0.735509788538643</li><li>0.735492279962473</li><li>0.735430824009388</li><li>0.735426143775596</li><li>0.735375222733209</li><li>0.735333240198317</li><li>0.735294461436716</li><li>0.735285425943801</li><li>0.735276616295436</li><li>0.735256289324908</li><li>0.734178552595616</li><li>0.733922881823311</li><li>0.733879111328761</li><li>0.733791010054196</li><li>0.733690826075741</li><li>0.733607063906153</li><li>0.733554502140872</li><li>0.73352246320845</li><li>0.733514686396473</li><li>0.733511393171971</li><li>0.732318629652026</li><li>0.7322609933166</li><li>0.73224418645626</li><li>0.732234030600969</li><li>0.732219759373987</li><li>0.731931935579583</li><li>0.731788162932747</li><li>0.731783515083548</li><li>0.731768107612252</li><li>0.731734180905142</li><li>0.73031806805057</li><li>0.730233641974402</li><li>0.730232471781178</li><li>0.730193506442409</li><li>0.730158702138716</li><li>0.730133568383373</li><li>0.730065816961791</li><li>0.730028279437655</li><li>0.729980732558224</li><li>0.729975295480408</li><li>0.728183304811775</li><li>0.728080137398754</li><li>0.72803216583055</li><li>0.728028526242699</li><li>0.728008517841775</li><li>0.727992710862</li><li>0.727925572019501</li><li>0.727902384829255</li><li>0.727832765723182</li><li>0.727827457341174</li><li>0.725940876652108</li><li>0.725852639035552</li><li>0.725750806696893</li><li>0.725733446128524</li><li>0.725662768578506</li><li>0.725350404120551</li><li>0.72523076125155</li><li>0.724804036175297</li><li>0.724402985508549</li><li>0.722986251941865</li><li>0.723558540131492</li></ol>\n"
            ],
            "text/markdown": "1. 0.700310253006608\n2. 0.540938477458351\n3. 0.433152447754517\n4. 0.388742425784025\n5. 0.267303376277467\n6. 0.235564897314017\n7. 0.231711675269844\n8. 0.209799502121303\n9. 0.169940307919945\n10. 0.122351214791594\n11. 0.728316619879485\n12. 0.723404221145449\n13. 0.721848554441062\n14. 0.71572052332253\n15. 0.713809068861376\n16. 0.712976415488554\n17. 0.710459845387956\n18. 0.706469881037217\n19. 0.705006303398263\n20. 0.701535563030062\n21. 0.735567544055558\n22. 0.733429493052629\n23. 0.730605962453178\n24. 0.729023433338222\n25. 0.728714493640472\n26. 0.728579238308404\n27. 0.728287168939205\n28. 0.727561229402641\n29. 0.72743490961716\n30. 0.726605407227451\n31. 0.738319554087453\n32. 0.737280711916425\n33. 0.734759324551173\n34. 0.734513708471018\n35. 0.734463176535459\n36. 0.734420118469558\n37. 0.734392766412254\n38. 0.733755239961389\n39. 0.733714482065297\n40. 0.733485935473433\n41. 0.738458859000732\n42. 0.737407882360978\n43. 0.737312558791489\n44. 0.737188372937151\n45. 0.73714872798586\n46. 0.736790292878327\n47. 0.736471045814916\n48. 0.736436903462744\n49. 0.736377705054487\n50. 0.736314364452931\n51. 0.737308550906163\n52. 0.737017540899872\n53. 0.737006912580236\n54. 0.73687460597952\n55. 0.736596816990586\n56. 0.736486731382761\n57. 0.736462437083208\n58. 0.736429645000305\n59. 0.736352658484333\n60. 0.736074429524315\n61. 0.735509788538643\n62. 0.735492279962473\n63. 0.735430824009388\n64. 0.735426143775596\n65. 0.735375222733209\n66. 0.735333240198317\n67. 0.735294461436716\n68. 0.735285425943801\n69. 0.735276616295436\n70. 0.735256289324908\n71. 0.734178552595616\n72. 0.733922881823311\n73. 0.733879111328761\n74. 0.733791010054196\n75. 0.733690826075741\n76. 0.733607063906153\n77. 0.733554502140872\n78. 0.73352246320845\n79. 0.733514686396473\n80. 0.733511393171971\n81. 0.732318629652026\n82. 0.7322609933166\n83. 0.73224418645626\n84. 0.732234030600969\n85. 0.732219759373987\n86. 0.731931935579583\n87. 0.731788162932747\n88. 0.731783515083548\n89. 0.731768107612252\n90. 0.731734180905142\n91. 0.73031806805057\n92. 0.730233641974402\n93. 0.730232471781178\n94. 0.730193506442409\n95. 0.730158702138716\n96. 0.730133568383373\n97. 0.730065816961791\n98. 0.730028279437655\n99. 0.729980732558224\n100. 0.729975295480408\n101. 0.728183304811775\n102. 0.728080137398754\n103. 0.72803216583055\n104. 0.728028526242699\n105. 0.728008517841775\n106. 0.727992710862\n107. 0.727925572019501\n108. 0.727902384829255\n109. 0.727832765723182\n110. 0.727827457341174\n111. 0.725940876652108\n112. 0.725852639035552\n113. 0.725750806696893\n114. 0.725733446128524\n115. 0.725662768578506\n116. 0.725350404120551\n117. 0.72523076125155\n118. 0.724804036175297\n119. 0.724402985508549\n120. 0.722986251941865\n121. 0.723558540131492\n\n\n",
            "text/latex": "\\begin{enumerate*}\n\\item 0.700310253006608\n\\item 0.540938477458351\n\\item 0.433152447754517\n\\item 0.388742425784025\n\\item 0.267303376277467\n\\item 0.235564897314017\n\\item 0.231711675269844\n\\item 0.209799502121303\n\\item 0.169940307919945\n\\item 0.122351214791594\n\\item 0.728316619879485\n\\item 0.723404221145449\n\\item 0.721848554441062\n\\item 0.71572052332253\n\\item 0.713809068861376\n\\item 0.712976415488554\n\\item 0.710459845387956\n\\item 0.706469881037217\n\\item 0.705006303398263\n\\item 0.701535563030062\n\\item 0.735567544055558\n\\item 0.733429493052629\n\\item 0.730605962453178\n\\item 0.729023433338222\n\\item 0.728714493640472\n\\item 0.728579238308404\n\\item 0.728287168939205\n\\item 0.727561229402641\n\\item 0.72743490961716\n\\item 0.726605407227451\n\\item 0.738319554087453\n\\item 0.737280711916425\n\\item 0.734759324551173\n\\item 0.734513708471018\n\\item 0.734463176535459\n\\item 0.734420118469558\n\\item 0.734392766412254\n\\item 0.733755239961389\n\\item 0.733714482065297\n\\item 0.733485935473433\n\\item 0.738458859000732\n\\item 0.737407882360978\n\\item 0.737312558791489\n\\item 0.737188372937151\n\\item 0.73714872798586\n\\item 0.736790292878327\n\\item 0.736471045814916\n\\item 0.736436903462744\n\\item 0.736377705054487\n\\item 0.736314364452931\n\\item 0.737308550906163\n\\item 0.737017540899872\n\\item 0.737006912580236\n\\item 0.73687460597952\n\\item 0.736596816990586\n\\item 0.736486731382761\n\\item 0.736462437083208\n\\item 0.736429645000305\n\\item 0.736352658484333\n\\item 0.736074429524315\n\\item 0.735509788538643\n\\item 0.735492279962473\n\\item 0.735430824009388\n\\item 0.735426143775596\n\\item 0.735375222733209\n\\item 0.735333240198317\n\\item 0.735294461436716\n\\item 0.735285425943801\n\\item 0.735276616295436\n\\item 0.735256289324908\n\\item 0.734178552595616\n\\item 0.733922881823311\n\\item 0.733879111328761\n\\item 0.733791010054196\n\\item 0.733690826075741\n\\item 0.733607063906153\n\\item 0.733554502140872\n\\item 0.73352246320845\n\\item 0.733514686396473\n\\item 0.733511393171971\n\\item 0.732318629652026\n\\item 0.7322609933166\n\\item 0.73224418645626\n\\item 0.732234030600969\n\\item 0.732219759373987\n\\item 0.731931935579583\n\\item 0.731788162932747\n\\item 0.731783515083548\n\\item 0.731768107612252\n\\item 0.731734180905142\n\\item 0.73031806805057\n\\item 0.730233641974402\n\\item 0.730232471781178\n\\item 0.730193506442409\n\\item 0.730158702138716\n\\item 0.730133568383373\n\\item 0.730065816961791\n\\item 0.730028279437655\n\\item 0.729980732558224\n\\item 0.729975295480408\n\\item 0.728183304811775\n\\item 0.728080137398754\n\\item 0.72803216583055\n\\item 0.728028526242699\n\\item 0.728008517841775\n\\item 0.727992710862\n\\item 0.727925572019501\n\\item 0.727902384829255\n\\item 0.727832765723182\n\\item 0.727827457341174\n\\item 0.725940876652108\n\\item 0.725852639035552\n\\item 0.725750806696893\n\\item 0.725733446128524\n\\item 0.725662768578506\n\\item 0.725350404120551\n\\item 0.72523076125155\n\\item 0.724804036175297\n\\item 0.724402985508549\n\\item 0.722986251941865\n\\item 0.723558540131492\n\\end{enumerate*}\n",
            "text/plain": [
              "  [1] 0.7003103 0.5409385 0.4331524 0.3887424 0.2673034 0.2355649 0.2317117\n",
              "  [8] 0.2097995 0.1699403 0.1223512 0.7283166 0.7234042 0.7218486 0.7157205\n",
              " [15] 0.7138091 0.7129764 0.7104598 0.7064699 0.7050063 0.7015356 0.7355675\n",
              " [22] 0.7334295 0.7306060 0.7290234 0.7287145 0.7285792 0.7282872 0.7275612\n",
              " [29] 0.7274349 0.7266054 0.7383196 0.7372807 0.7347593 0.7345137 0.7344632\n",
              " [36] 0.7344201 0.7343928 0.7337552 0.7337145 0.7334859 0.7384589 0.7374079\n",
              " [43] 0.7373126 0.7371884 0.7371487 0.7367903 0.7364710 0.7364369 0.7363777\n",
              " [50] 0.7363144 0.7373086 0.7370175 0.7370069 0.7368746 0.7365968 0.7364867\n",
              " [57] 0.7364624 0.7364296 0.7363527 0.7360744 0.7355098 0.7354923 0.7354308\n",
              " [64] 0.7354261 0.7353752 0.7353332 0.7352945 0.7352854 0.7352766 0.7352563\n",
              " [71] 0.7341786 0.7339229 0.7338791 0.7337910 0.7336908 0.7336071 0.7335545\n",
              " [78] 0.7335225 0.7335147 0.7335114 0.7323186 0.7322610 0.7322442 0.7322340\n",
              " [85] 0.7322198 0.7319319 0.7317882 0.7317835 0.7317681 0.7317342 0.7303181\n",
              " [92] 0.7302336 0.7302325 0.7301935 0.7301587 0.7301336 0.7300658 0.7300283\n",
              " [99] 0.7299807 0.7299753 0.7281833 0.7280801 0.7280322 0.7280285 0.7280085\n",
              "[106] 0.7279927 0.7279256 0.7279024 0.7278328 0.7278275 0.7259409 0.7258526\n",
              "[113] 0.7257508 0.7257334 0.7256628 0.7253504 0.7252308 0.7248040 0.7244030\n",
              "[120] 0.7229863 0.7235585"
            ]
          },
          "metadata": {}
        }
      ]
    },
    {
      "cell_type": "markdown",
      "source": [
        "# **Forward Stepwise Regression**\n",
        "\n",
        "### Forward stepwise selection using BIC"
      ],
      "metadata": {
        "id": "AY_jKPn_lE89"
      }
    },
    {
      "cell_type": "code",
      "source": [
        "# Forward stepwise selection using BIC\n",
        "# Intercept-only model\n",
        "model.lower = lm(data = bfData, Bodyfat ~ 1)\n",
        "# Full model\n",
        "model.upper = lm(data = bfData, Bodyfat ~ .)\n",
        "model.step = step(model.lower, scope = list(lower = model.lower, upper = model.upper), direction = 'forward', k = log(128))\n",
        "# k is the multiple of the number of degrees of freedom used for the penalty term which is log(n) for BIC and 2 for AIC\n",
        "summary(model.step)\n",
        "round(summary(model.step)$coef, 3)"
      ],
      "metadata": {
        "colab": {
          "base_uri": "https://localhost:8080/",
          "height": 1000
        },
        "id": "vp7UaBc1jT8M",
        "outputId": "d88ccdd4-0252-4213-fb0b-4eab492de3fa"
      },
      "execution_count": null,
      "outputs": [
        {
          "output_type": "stream",
          "name": "stdout",
          "text": [
            "Start:  AIC=528.45\n",
            "Bodyfat ~ 1\n",
            "\n",
            "         Df Sum of Sq    RSS    AIC\n",
            "+ Abdo    1    5376.2 2274.9 378.05\n",
            "+ Chest   1    4166.5 3484.7 432.63\n",
            "+ Weight  1    3348.3 4302.9 459.63\n",
            "+ Hip     1    3011.2 4640.0 469.28\n",
            "+ Thigh   1    2089.3 5561.8 492.48\n",
            "+ Bic     1    1848.4 5802.8 497.90\n",
            "+ Knee    1    1819.1 5832.0 498.55\n",
            "+ Neck    1    1652.8 5998.3 502.15\n",
            "+ Wrist   1    1350.2 6300.9 508.45\n",
            "+ Ankle   1     989.0 6662.2 515.58\n",
            "+ Fore    1     886.5 6764.7 517.54\n",
            "+ Age     1     495.1 7156.1 524.74\n",
            "<none>                7651.2 528.45\n",
            "+ Height  1     175.3 7475.8 530.33\n",
            "\n",
            "Step:  AIC=378.05\n",
            "Bodyfat ~ Abdo\n",
            "\n",
            "         Df Sum of Sq    RSS    AIC\n",
            "+ Weight  1   228.962 2046.0 369.32\n",
            "+ Neck    1   191.968 2082.9 371.61\n",
            "+ Hip     1   180.253 2094.7 372.33\n",
            "+ Wrist   1   134.105 2140.8 375.12\n",
            "+ Ankle   1   119.710 2155.2 375.98\n",
            "+ Knee    1   113.440 2161.5 376.35\n",
            "+ Thigh   1    94.488 2180.4 377.47\n",
            "<none>                2274.9 378.05\n",
            "+ Height  1    64.441 2210.5 379.22\n",
            "+ Bic     1    53.419 2221.5 379.86\n",
            "+ Chest   1    27.282 2247.6 381.35\n",
            "+ Age     1    20.550 2254.4 381.74\n",
            "+ Fore    1    15.172 2259.8 382.04\n",
            "\n",
            "Step:  AIC=369.32\n",
            "Bodyfat ~ Abdo + Weight\n",
            "\n",
            "         Df Sum of Sq    RSS    AIC\n",
            "<none>                2046.0 369.32\n",
            "+ Neck    1    54.563 1991.4 370.71\n",
            "+ Wrist   1    33.470 2012.5 372.06\n",
            "+ Fore    1    21.648 2024.3 372.81\n",
            "+ Hip     1    10.725 2035.2 373.50\n",
            "+ Height  1     9.781 2036.2 373.56\n",
            "+ Ankle   1     3.584 2042.4 373.95\n",
            "+ Chest   1     2.967 2043.0 373.99\n",
            "+ Age     1     2.596 2043.4 374.01\n",
            "+ Bic     1     2.257 2043.7 374.03\n",
            "+ Knee    1     1.891 2044.1 374.05\n",
            "+ Thigh   1     0.161 2045.8 374.16\n"
          ]
        },
        {
          "output_type": "display_data",
          "data": {
            "text/plain": [
              "\n",
              "Call:\n",
              "lm(formula = Bodyfat ~ Abdo + Weight, data = bfData)\n",
              "\n",
              "Residuals:\n",
              "    Min      1Q  Median      3Q     Max \n",
              "-9.1441 -2.5621 -0.0781  2.9580  9.0413 \n",
              "\n",
              "Coefficients:\n",
              "             Estimate Std. Error t value Pr(>|t|)    \n",
              "(Intercept) -47.99121    3.69071  -13.00  < 2e-16 ***\n",
              "Abdo          0.93880    0.07995   11.74  < 2e-16 ***\n",
              "Weight       -0.24257    0.06486   -3.74 0.000279 ***\n",
              "---\n",
              "Signif. codes:  0 ‘***’ 0.001 ‘**’ 0.01 ‘*’ 0.05 ‘.’ 0.1 ‘ ’ 1\n",
              "\n",
              "Residual standard error: 4.046 on 125 degrees of freedom\n",
              "Multiple R-squared:  0.7326,\tAdjusted R-squared:  0.7283 \n",
              "F-statistic: 171.2 on 2 and 125 DF,  p-value: < 2.2e-16\n"
            ]
          },
          "metadata": {}
        },
        {
          "output_type": "display_data",
          "data": {
            "text/html": [
              "<table class=\"dataframe\">\n",
              "<caption>A matrix: 3 × 4 of type dbl</caption>\n",
              "<thead>\n",
              "\t<tr><th></th><th scope=col>Estimate</th><th scope=col>Std. Error</th><th scope=col>t value</th><th scope=col>Pr(&gt;|t|)</th></tr>\n",
              "</thead>\n",
              "<tbody>\n",
              "\t<tr><th scope=row>(Intercept)</th><td>-47.991</td><td>3.691</td><td>-13.003</td><td>0</td></tr>\n",
              "\t<tr><th scope=row>Abdo</th><td>  0.939</td><td>0.080</td><td> 11.743</td><td>0</td></tr>\n",
              "\t<tr><th scope=row>Weight</th><td> -0.243</td><td>0.065</td><td> -3.740</td><td>0</td></tr>\n",
              "</tbody>\n",
              "</table>\n"
            ],
            "text/markdown": "\nA matrix: 3 × 4 of type dbl\n\n| <!--/--> | Estimate | Std. Error | t value | Pr(&gt;|t|) |\n|---|---|---|---|---|\n| (Intercept) | -47.991 | 3.691 | -13.003 | 0 |\n| Abdo |   0.939 | 0.080 |  11.743 | 0 |\n| Weight |  -0.243 | 0.065 |  -3.740 | 0 |\n\n",
            "text/latex": "A matrix: 3 × 4 of type dbl\n\\begin{tabular}{r|llll}\n  & Estimate & Std. Error & t value & Pr(>\\textbar{}t\\textbar{})\\\\\n\\hline\n\t(Intercept) & -47.991 & 3.691 & -13.003 & 0\\\\\n\tAbdo &   0.939 & 0.080 &  11.743 & 0\\\\\n\tWeight &  -0.243 & 0.065 &  -3.740 & 0\\\\\n\\end{tabular}\n",
            "text/plain": [
              "            Estimate Std. Error t value Pr(>|t|)\n",
              "(Intercept) -47.991  3.691      -13.003 0       \n",
              "Abdo          0.939  0.080       11.743 0       \n",
              "Weight       -0.243  0.065       -3.740 0       "
            ]
          },
          "metadata": {}
        }
      ]
    },
    {
      "cell_type": "markdown",
      "source": [
        "Here, we get the best model. It shows that abdomen circumference and weight are the only important predictors for predicting the far percentange with adjusted r-squared value being 72.8% approximately.\n",
        "\n",
        "### Forward stepwise selection using AIC"
      ],
      "metadata": {
        "id": "t5iv9a-vm193"
      }
    },
    {
      "cell_type": "code",
      "source": [
        "# Forward stepwise selection using AIC\n",
        "# Intercept-only model\n",
        "model.lower = lm(data = bfData, Bodyfat ~ 1)\n",
        "# Full model\n",
        "model.upper = lm(data = bfData, Bodyfat ~ .)\n",
        "model.step = step(model.lower, scope = list(lower = model.lower, upper = model.upper), direction = 'forward', k = 2)\n",
        "# k is the multiple of the number of degrees of freedom used for the penalty which is log(n) for BIC and 2 for AIC\n",
        "summary(model.step)\n",
        "round(summary(model.step)$coef, 3)"
      ],
      "metadata": {
        "colab": {
          "base_uri": "https://localhost:8080/",
          "height": 1000
        },
        "id": "Cwly_qbclcyy",
        "outputId": "e4d306d3-40f3-4412-f0ba-0a276c9dcd6c"
      },
      "execution_count": null,
      "outputs": [
        {
          "output_type": "stream",
          "name": "stdout",
          "text": [
            "Start:  AIC=525.59\n",
            "Bodyfat ~ 1\n",
            "\n",
            "         Df Sum of Sq    RSS    AIC\n",
            "+ Abdo    1    5376.2 2274.9 372.34\n",
            "+ Chest   1    4166.5 3484.7 426.93\n",
            "+ Weight  1    3348.3 4302.9 453.92\n",
            "+ Hip     1    3011.2 4640.0 463.58\n",
            "+ Thigh   1    2089.3 5561.8 486.77\n",
            "+ Bic     1    1848.4 5802.8 492.20\n",
            "+ Knee    1    1819.1 5832.0 492.84\n",
            "+ Neck    1    1652.8 5998.3 496.44\n",
            "+ Wrist   1    1350.2 6300.9 502.74\n",
            "+ Ankle   1     989.0 6662.2 509.88\n",
            "+ Fore    1     886.5 6764.7 511.83\n",
            "+ Age     1     495.1 7156.1 519.03\n",
            "+ Height  1     175.3 7475.8 524.63\n",
            "<none>                7651.2 525.59\n",
            "\n",
            "Step:  AIC=372.34\n",
            "Bodyfat ~ Abdo\n",
            "\n",
            "         Df Sum of Sq    RSS    AIC\n",
            "+ Weight  1   228.962 2046.0 360.76\n",
            "+ Neck    1   191.968 2082.9 363.06\n",
            "+ Hip     1   180.253 2094.7 363.78\n",
            "+ Wrist   1   134.105 2140.8 366.56\n",
            "+ Ankle   1   119.710 2155.2 367.42\n",
            "+ Knee    1   113.440 2161.5 367.79\n",
            "+ Thigh   1    94.488 2180.4 368.91\n",
            "+ Height  1    64.441 2210.5 370.66\n",
            "+ Bic     1    53.419 2221.5 371.30\n",
            "<none>                2274.9 372.34\n",
            "+ Chest   1    27.282 2247.6 372.80\n",
            "+ Age     1    20.550 2254.4 373.18\n",
            "+ Fore    1    15.172 2259.8 373.49\n",
            "\n",
            "Step:  AIC=360.76\n",
            "Bodyfat ~ Abdo + Weight\n",
            "\n",
            "         Df Sum of Sq    RSS    AIC\n",
            "+ Neck    1    54.563 1991.4 359.30\n",
            "+ Wrist   1    33.470 2012.5 360.65\n",
            "<none>                2046.0 360.76\n",
            "+ Fore    1    21.648 2024.3 361.40\n",
            "+ Hip     1    10.725 2035.2 362.09\n",
            "+ Height  1     9.781 2036.2 362.15\n",
            "+ Ankle   1     3.584 2042.4 362.54\n",
            "+ Chest   1     2.967 2043.0 362.58\n",
            "+ Age     1     2.596 2043.4 362.60\n",
            "+ Bic     1     2.257 2043.7 362.62\n",
            "+ Knee    1     1.891 2044.1 362.65\n",
            "+ Thigh   1     0.161 2045.8 362.75\n",
            "\n",
            "Step:  AIC=359.3\n",
            "Bodyfat ~ Abdo + Weight + Neck\n",
            "\n",
            "         Df Sum of Sq    RSS    AIC\n",
            "+ Fore    1    52.296 1939.1 357.90\n",
            "<none>                1991.4 359.30\n",
            "+ Hip     1    24.094 1967.3 359.75\n",
            "+ Bic     1     9.256 1982.1 360.71\n",
            "+ Chest   1     7.046 1984.3 360.85\n",
            "+ Wrist   1     6.772 1984.6 360.87\n",
            "+ Ankle   1     5.096 1986.3 360.98\n",
            "+ Knee    1     3.707 1987.7 361.07\n",
            "+ Height  1     2.231 1989.2 361.16\n",
            "+ Thigh   1     0.423 1991.0 361.28\n",
            "+ Age     1     0.010 1991.4 361.30\n",
            "\n",
            "Step:  AIC=357.9\n",
            "Bodyfat ~ Abdo + Weight + Neck + Fore\n",
            "\n",
            "         Df Sum of Sq    RSS    AIC\n",
            "<none>                1939.1 357.90\n",
            "+ Hip     1   16.7889 1922.3 358.78\n",
            "+ Height  1    9.0643 1930.0 359.30\n",
            "+ Wrist   1    8.3637 1930.7 359.34\n",
            "+ Ankle   1    7.4509 1931.7 359.40\n",
            "+ Chest   1    4.5251 1934.6 359.60\n",
            "+ Knee    1    1.4926 1937.6 359.80\n",
            "+ Thigh   1    1.0270 1938.1 359.83\n",
            "+ Bic     1    0.3077 1938.8 359.88\n",
            "+ Age     1    0.2046 1938.9 359.88\n"
          ]
        },
        {
          "output_type": "display_data",
          "data": {
            "text/plain": [
              "\n",
              "Call:\n",
              "lm(formula = Bodyfat ~ Abdo + Weight + Neck + Fore, data = bfData)\n",
              "\n",
              "Residuals:\n",
              "    Min      1Q  Median      3Q     Max \n",
              "-9.1637 -2.8476  0.0877  2.7522  8.3342 \n",
              "\n",
              "Coefficients:\n",
              "             Estimate Std. Error t value Pr(>|t|)    \n",
              "(Intercept) -41.88325    8.30967  -5.040 1.62e-06 ***\n",
              "Abdo          0.98046    0.08146  12.036  < 2e-16 ***\n",
              "Weight       -0.22932    0.07868  -2.915  0.00423 ** \n",
              "Neck         -0.61856    0.26606  -2.325  0.02172 *  \n",
              "Fore          0.43409    0.23834   1.821  0.07099 .  \n",
              "---\n",
              "Signif. codes:  0 ‘***’ 0.001 ‘**’ 0.01 ‘*’ 0.05 ‘.’ 0.1 ‘ ’ 1\n",
              "\n",
              "Residual standard error: 3.971 on 123 degrees of freedom\n",
              "Multiple R-squared:  0.7466,\tAdjusted R-squared:  0.7383 \n",
              "F-statistic: 90.58 on 4 and 123 DF,  p-value: < 2.2e-16\n"
            ]
          },
          "metadata": {}
        },
        {
          "output_type": "display_data",
          "data": {
            "text/html": [
              "<table class=\"dataframe\">\n",
              "<caption>A matrix: 5 × 4 of type dbl</caption>\n",
              "<thead>\n",
              "\t<tr><th></th><th scope=col>Estimate</th><th scope=col>Std. Error</th><th scope=col>t value</th><th scope=col>Pr(&gt;|t|)</th></tr>\n",
              "</thead>\n",
              "<tbody>\n",
              "\t<tr><th scope=row>(Intercept)</th><td>-41.883</td><td>8.310</td><td>-5.040</td><td>0.000</td></tr>\n",
              "\t<tr><th scope=row>Abdo</th><td>  0.980</td><td>0.081</td><td>12.036</td><td>0.000</td></tr>\n",
              "\t<tr><th scope=row>Weight</th><td> -0.229</td><td>0.079</td><td>-2.915</td><td>0.004</td></tr>\n",
              "\t<tr><th scope=row>Neck</th><td> -0.619</td><td>0.266</td><td>-2.325</td><td>0.022</td></tr>\n",
              "\t<tr><th scope=row>Fore</th><td>  0.434</td><td>0.238</td><td> 1.821</td><td>0.071</td></tr>\n",
              "</tbody>\n",
              "</table>\n"
            ],
            "text/markdown": "\nA matrix: 5 × 4 of type dbl\n\n| <!--/--> | Estimate | Std. Error | t value | Pr(&gt;|t|) |\n|---|---|---|---|---|\n| (Intercept) | -41.883 | 8.310 | -5.040 | 0.000 |\n| Abdo |   0.980 | 0.081 | 12.036 | 0.000 |\n| Weight |  -0.229 | 0.079 | -2.915 | 0.004 |\n| Neck |  -0.619 | 0.266 | -2.325 | 0.022 |\n| Fore |   0.434 | 0.238 |  1.821 | 0.071 |\n\n",
            "text/latex": "A matrix: 5 × 4 of type dbl\n\\begin{tabular}{r|llll}\n  & Estimate & Std. Error & t value & Pr(>\\textbar{}t\\textbar{})\\\\\n\\hline\n\t(Intercept) & -41.883 & 8.310 & -5.040 & 0.000\\\\\n\tAbdo &   0.980 & 0.081 & 12.036 & 0.000\\\\\n\tWeight &  -0.229 & 0.079 & -2.915 & 0.004\\\\\n\tNeck &  -0.619 & 0.266 & -2.325 & 0.022\\\\\n\tFore &   0.434 & 0.238 &  1.821 & 0.071\\\\\n\\end{tabular}\n",
            "text/plain": [
              "            Estimate Std. Error t value Pr(>|t|)\n",
              "(Intercept) -41.883  8.310      -5.040  0.000   \n",
              "Abdo          0.980  0.081      12.036  0.000   \n",
              "Weight       -0.229  0.079      -2.915  0.004   \n",
              "Neck         -0.619  0.266      -2.325  0.022   \n",
              "Fore          0.434  0.238       1.821  0.071   "
            ]
          },
          "metadata": {}
        }
      ]
    },
    {
      "cell_type": "markdown",
      "source": [
        "We can see that this approach gives us 4 predictors with slightly better adjusted r-squared value at 73.83% approximately.\n",
        "\n",
        "---\n",
        "\n",
        "Now if we have to decide which model to choose the model based on adjusted r-squared we mat choose this model but there are other things to consider too. We also have to look at the interpretability of the model and also the complexity of the model.\n",
        "\n",
        "So, putting into prespective,\n",
        "- we can see that this model is uisng predictors like forehead circumference, neck circumference that probably are not very interpretable.\n",
        "- Its also complex because it's using additional predictors.\n",
        "\n",
        "Therefore, in this scenario, choosing the earlier model with just 2 covariates is the best decision.\n",
        "\n",
        "-----\n",
        "\n",
        "# Backward Stepwise Selection"
      ],
      "metadata": {
        "id": "5lF8I7lRob2R"
      }
    },
    {
      "cell_type": "code",
      "source": [
        "# Backward stepwise selection using BIC\n",
        "# Intercept-only model\n",
        "model.lower = lm(data = bfData, Bodyfat ~ 1)\n",
        "# Full model\n",
        "model.upper = lm(data = bfData, Bodyfat ~ .)\n",
        "model.step = step(model.upper, scope = list(lower = model.lower, upper = model.upper), direction = 'backward', k = log(128))\n",
        "summary(model.step)\n",
        "round(summary(model.step)$coef, 3)"
      ],
      "metadata": {
        "colab": {
          "base_uri": "https://localhost:8080/",
          "height": 1000
        },
        "id": "U21ZTsxuqIzX",
        "outputId": "018812b4-b2d4-4bff-8180-b4e5ff920240"
      },
      "execution_count": null,
      "outputs": [
        {
          "output_type": "stream",
          "name": "stdout",
          "text": [
            "Start:  AIC=413.12\n",
            "Bodyfat ~ Age + Weight + Height + Neck + Chest + Abdo + Hip + \n",
            "    Thigh + Knee + Ankle + Bic + Fore + Wrist\n",
            "\n",
            "         Df Sum of Sq    RSS    AIC\n",
            "- Ankle   1      0.15 1898.7 408.28\n",
            "- Age     1      0.76 1899.3 408.32\n",
            "- Knee    1      1.47 1900.1 408.37\n",
            "- Bic     1      1.59 1900.2 408.38\n",
            "- Wrist   1      2.08 1900.7 408.41\n",
            "- Thigh   1      4.24 1902.8 408.56\n",
            "- Chest   1      5.07 1903.7 408.61\n",
            "- Hip     1      8.03 1906.6 408.81\n",
            "- Height  1     10.80 1909.4 409.00\n",
            "- Weight  1     20.62 1919.2 409.65\n",
            "- Fore    1     38.19 1936.8 410.82\n",
            "- Neck    1     56.38 1955.0 412.02\n",
            "<none>                1898.6 413.12\n",
            "- Abdo    1   1088.97 2987.6 466.30\n",
            "\n",
            "Step:  AIC=408.28\n",
            "Bodyfat ~ Age + Weight + Height + Neck + Chest + Abdo + Hip + \n",
            "    Thigh + Knee + Bic + Fore + Wrist\n",
            "\n",
            "         Df Sum of Sq    RSS    AIC\n",
            "- Age     1      0.84 1899.6 403.49\n",
            "- Bic     1      1.90 1900.6 403.56\n",
            "- Knee    1      1.92 1900.7 403.56\n",
            "- Wrist   1      2.64 1901.4 403.61\n",
            "- Thigh   1      4.15 1902.9 403.71\n",
            "- Chest   1      5.55 1904.3 403.80\n",
            "- Hip     1      7.93 1906.7 403.96\n",
            "- Height  1     11.90 1910.6 404.23\n",
            "- Weight  1     23.59 1922.3 405.01\n",
            "- Fore    1     38.15 1936.9 405.98\n",
            "- Neck    1     57.25 1956.0 407.23\n",
            "<none>                1898.7 408.28\n",
            "- Abdo    1   1125.31 3024.1 463.00\n",
            "\n",
            "Step:  AIC=403.49\n",
            "Bodyfat ~ Weight + Height + Neck + Chest + Abdo + Hip + Thigh + \n",
            "    Knee + Bic + Fore + Wrist\n",
            "\n",
            "         Df Sum of Sq    RSS    AIC\n",
            "- Knee    1      1.33 1900.9 398.72\n",
            "- Bic     1      1.92 1901.5 398.76\n",
            "- Wrist   1      1.93 1901.5 398.76\n",
            "- Thigh   1      3.37 1903.0 398.86\n",
            "- Chest   1      6.39 1906.0 399.06\n",
            "- Hip     1      8.14 1907.7 399.18\n",
            "- Height  1     12.16 1911.7 399.45\n",
            "- Weight  1     27.13 1926.7 400.45\n",
            "- Fore    1     37.85 1937.4 401.16\n",
            "- Neck    1     56.57 1956.1 402.39\n",
            "<none>                1899.6 403.49\n",
            "- Abdo    1   1346.09 3245.7 467.20\n",
            "\n",
            "Step:  AIC=398.72\n",
            "Bodyfat ~ Weight + Height + Neck + Chest + Abdo + Hip + Thigh + \n",
            "    Bic + Fore + Wrist\n",
            "\n",
            "         Df Sum of Sq    RSS    AIC\n",
            "- Bic     1      2.03 1902.9 394.01\n",
            "- Thigh   1      2.63 1903.5 394.05\n",
            "- Wrist   1      2.73 1903.6 394.06\n",
            "- Chest   1      7.05 1908.0 394.35\n",
            "- Hip     1      7.62 1908.5 394.38\n",
            "- Height  1     11.23 1912.1 394.63\n",
            "- Weight  1     30.51 1931.4 395.91\n",
            "- Fore    1     39.05 1940.0 396.47\n",
            "- Neck    1     55.47 1956.4 397.55\n",
            "<none>                1900.9 398.72\n",
            "- Abdo    1   1345.48 3246.4 462.38\n",
            "\n",
            "Step:  AIC=394.01\n",
            "Bodyfat ~ Weight + Height + Neck + Chest + Abdo + Hip + Thigh + \n",
            "    Fore + Wrist\n",
            "\n",
            "         Df Sum of Sq    RSS    AIC\n",
            "- Wrist   1      2.79 1905.7 389.34\n",
            "- Thigh   1      4.63 1907.6 389.47\n",
            "- Hip     1      7.50 1910.4 389.66\n",
            "- Chest   1      7.55 1910.5 389.66\n",
            "- Height  1     10.21 1913.1 389.84\n",
            "- Weight  1     29.27 1932.2 391.11\n",
            "- Fore    1     50.40 1953.3 392.50\n",
            "- Neck    1     54.04 1957.0 392.74\n",
            "<none>                1902.9 394.01\n",
            "- Abdo    1   1353.15 3256.1 457.91\n",
            "\n",
            "Step:  AIC=389.34\n",
            "Bodyfat ~ Weight + Height + Neck + Chest + Abdo + Hip + Thigh + \n",
            "    Fore\n",
            "\n",
            "         Df Sum of Sq    RSS    AIC\n",
            "- Thigh   1      7.00 1912.7 384.96\n",
            "- Hip     1      8.01 1913.7 385.03\n",
            "- Chest   1      9.29 1915.0 385.11\n",
            "- Height  1     13.86 1919.6 385.42\n",
            "- Weight  1     36.34 1942.1 386.91\n",
            "- Fore    1     50.12 1955.8 387.81\n",
            "<none>                1905.7 389.34\n",
            "- Neck    1     79.05 1984.8 389.69\n",
            "- Abdo    1   1372.77 3278.5 453.93\n",
            "\n",
            "Step:  AIC=384.96\n",
            "Bodyfat ~ Weight + Height + Neck + Chest + Abdo + Hip + Fore\n",
            "\n",
            "         Df Sum of Sq    RSS    AIC\n",
            "- Hip     1      4.42 1917.1 380.40\n",
            "- Chest   1      5.38 1918.1 380.47\n",
            "- Height  1      8.62 1921.3 380.68\n",
            "- Weight  1     29.49 1942.2 382.07\n",
            "- Fore    1     51.53 1964.3 383.51\n",
            "<none>                1912.7 384.96\n",
            "- Neck    1     80.80 1993.5 385.40\n",
            "- Abdo    1   1372.41 3285.1 449.34\n",
            "\n",
            "Step:  AIC=380.4\n",
            "Bodyfat ~ Weight + Height + Neck + Chest + Abdo + Fore\n",
            "\n",
            "         Df Sum of Sq    RSS    AIC\n",
            "- Chest   1     12.90 1930.0 376.41\n",
            "- Height  1     17.44 1934.6 376.71\n",
            "- Fore    1     59.51 1976.6 379.46\n",
            "<none>                1917.1 380.40\n",
            "- Neck    1     76.42 1993.6 380.55\n",
            "- Weight  1    117.40 2034.5 383.16\n",
            "- Abdo    1   1370.48 3287.6 444.59\n",
            "\n",
            "Step:  AIC=376.41\n",
            "Bodyfat ~ Weight + Height + Neck + Abdo + Fore\n",
            "\n",
            "         Df Sum of Sq    RSS    AIC\n",
            "- Height  1      9.06 1939.1 372.16\n",
            "- Fore    1     59.13 1989.2 375.42\n",
            "- Neck    1     74.35 2004.4 376.40\n",
            "<none>                1930.0 376.41\n",
            "- Weight  1    107.93 2038.0 378.52\n",
            "- Abdo    1   1679.52 3609.6 451.69\n",
            "\n",
            "Step:  AIC=372.16\n",
            "Bodyfat ~ Weight + Neck + Abdo + Fore\n",
            "\n",
            "         Df Sum of Sq    RSS    AIC\n",
            "- Fore    1     52.30 1991.4 370.71\n",
            "<none>                1939.1 372.16\n",
            "- Neck    1     85.21 2024.3 372.81\n",
            "- Weight  1    133.93 2073.0 375.85\n",
            "- Abdo    1   2283.87 4223.0 466.93\n",
            "\n",
            "Step:  AIC=370.71\n",
            "Bodyfat ~ Weight + Neck + Abdo\n",
            "\n",
            "         Df Sum of Sq    RSS    AIC\n",
            "- Neck    1     54.56 2046.0 369.32\n",
            "<none>                1991.4 370.71\n",
            "- Weight  1     91.56 2083.0 371.61\n",
            "- Abdo    1   2265.38 4256.8 463.10\n",
            "\n",
            "Step:  AIC=369.32\n",
            "Bodyfat ~ Weight + Abdo\n",
            "\n",
            "         Df Sum of Sq    RSS    AIC\n",
            "<none>                2046.0 369.32\n",
            "- Weight  1    228.96 2274.9 378.05\n",
            "- Abdo    1   2256.93 4302.9 459.63\n"
          ]
        },
        {
          "output_type": "display_data",
          "data": {
            "text/plain": [
              "\n",
              "Call:\n",
              "lm(formula = Bodyfat ~ Weight + Abdo, data = bfData)\n",
              "\n",
              "Residuals:\n",
              "    Min      1Q  Median      3Q     Max \n",
              "-9.1441 -2.5621 -0.0781  2.9580  9.0413 \n",
              "\n",
              "Coefficients:\n",
              "             Estimate Std. Error t value Pr(>|t|)    \n",
              "(Intercept) -47.99121    3.69071  -13.00  < 2e-16 ***\n",
              "Weight       -0.24257    0.06486   -3.74 0.000279 ***\n",
              "Abdo          0.93880    0.07995   11.74  < 2e-16 ***\n",
              "---\n",
              "Signif. codes:  0 ‘***’ 0.001 ‘**’ 0.01 ‘*’ 0.05 ‘.’ 0.1 ‘ ’ 1\n",
              "\n",
              "Residual standard error: 4.046 on 125 degrees of freedom\n",
              "Multiple R-squared:  0.7326,\tAdjusted R-squared:  0.7283 \n",
              "F-statistic: 171.2 on 2 and 125 DF,  p-value: < 2.2e-16\n"
            ]
          },
          "metadata": {}
        },
        {
          "output_type": "display_data",
          "data": {
            "text/html": [
              "<table class=\"dataframe\">\n",
              "<caption>A matrix: 3 × 4 of type dbl</caption>\n",
              "<thead>\n",
              "\t<tr><th></th><th scope=col>Estimate</th><th scope=col>Std. Error</th><th scope=col>t value</th><th scope=col>Pr(&gt;|t|)</th></tr>\n",
              "</thead>\n",
              "<tbody>\n",
              "\t<tr><th scope=row>(Intercept)</th><td>-47.991</td><td>3.691</td><td>-13.003</td><td>0</td></tr>\n",
              "\t<tr><th scope=row>Weight</th><td> -0.243</td><td>0.065</td><td> -3.740</td><td>0</td></tr>\n",
              "\t<tr><th scope=row>Abdo</th><td>  0.939</td><td>0.080</td><td> 11.743</td><td>0</td></tr>\n",
              "</tbody>\n",
              "</table>\n"
            ],
            "text/markdown": "\nA matrix: 3 × 4 of type dbl\n\n| <!--/--> | Estimate | Std. Error | t value | Pr(&gt;|t|) |\n|---|---|---|---|---|\n| (Intercept) | -47.991 | 3.691 | -13.003 | 0 |\n| Weight |  -0.243 | 0.065 |  -3.740 | 0 |\n| Abdo |   0.939 | 0.080 |  11.743 | 0 |\n\n",
            "text/latex": "A matrix: 3 × 4 of type dbl\n\\begin{tabular}{r|llll}\n  & Estimate & Std. Error & t value & Pr(>\\textbar{}t\\textbar{})\\\\\n\\hline\n\t(Intercept) & -47.991 & 3.691 & -13.003 & 0\\\\\n\tWeight &  -0.243 & 0.065 &  -3.740 & 0\\\\\n\tAbdo &   0.939 & 0.080 &  11.743 & 0\\\\\n\\end{tabular}\n",
            "text/plain": [
              "            Estimate Std. Error t value Pr(>|t|)\n",
              "(Intercept) -47.991  3.691      -13.003 0       \n",
              "Weight       -0.243  0.065       -3.740 0       \n",
              "Abdo          0.939  0.080       11.743 0       "
            ]
          },
          "metadata": {}
        }
      ]
    },
    {
      "cell_type": "markdown",
      "source": [
        "We get the same as the Forward stepwise selection."
      ],
      "metadata": {
        "id": "nbcyF6qIqjVO"
      }
    },
    {
      "cell_type": "code",
      "source": [
        "# Backward stepwise selection using AIC\n",
        "# Intercept-only model\n",
        "model.lower = lm(data = bfData, Bodyfat ~ 1)\n",
        "# Full model\n",
        "model.upper = lm(data = bfData, Bodyfat ~ .)\n",
        "model.step = step(model.upper, scope = list(lower = model.lower, upper = model.upper), direction = 'backward', k = 2)\n",
        "summary(model.step)\n",
        "round(summary(model.step)$coef, 3)"
      ],
      "metadata": {
        "colab": {
          "base_uri": "https://localhost:8080/",
          "height": 1000
        },
        "id": "CKTXz1pgqor_",
        "outputId": "1eee76b4-a11e-4d95-b269-7ea492511e8d"
      },
      "execution_count": null,
      "outputs": [
        {
          "output_type": "stream",
          "name": "stdout",
          "text": [
            "Start:  AIC=373.2\n",
            "Bodyfat ~ Age + Weight + Height + Neck + Chest + Abdo + Hip + \n",
            "    Thigh + Knee + Ankle + Bic + Fore + Wrist\n",
            "\n",
            "         Df Sum of Sq    RSS    AIC\n",
            "- Ankle   1      0.15 1898.7 371.21\n",
            "- Age     1      0.76 1899.3 371.25\n",
            "- Knee    1      1.47 1900.1 371.29\n",
            "- Bic     1      1.59 1900.2 371.30\n",
            "- Wrist   1      2.08 1900.7 371.34\n",
            "- Thigh   1      4.24 1902.8 371.48\n",
            "- Chest   1      5.07 1903.7 371.54\n",
            "- Hip     1      8.03 1906.6 371.74\n",
            "- Height  1     10.80 1909.4 371.92\n",
            "- Weight  1     20.62 1919.2 372.58\n",
            "<none>                1898.6 373.20\n",
            "- Fore    1     38.19 1936.8 373.74\n",
            "- Neck    1     56.38 1955.0 374.94\n",
            "- Abdo    1   1088.97 2987.6 429.22\n",
            "\n",
            "Step:  AIC=371.21\n",
            "Bodyfat ~ Age + Weight + Height + Neck + Chest + Abdo + Hip + \n",
            "    Thigh + Knee + Bic + Fore + Wrist\n",
            "\n",
            "         Df Sum of Sq    RSS    AIC\n",
            "- Age     1      0.84 1899.6 369.26\n",
            "- Bic     1      1.90 1900.6 369.33\n",
            "- Knee    1      1.92 1900.7 369.33\n",
            "- Wrist   1      2.64 1901.4 369.38\n",
            "- Thigh   1      4.15 1902.9 369.48\n",
            "- Chest   1      5.55 1904.3 369.58\n",
            "- Hip     1      7.93 1906.7 369.74\n",
            "- Height  1     11.90 1910.6 370.01\n",
            "- Weight  1     23.59 1922.3 370.79\n",
            "<none>                1898.7 371.21\n",
            "- Fore    1     38.15 1936.9 371.75\n",
            "- Neck    1     57.25 1956.0 373.01\n",
            "- Abdo    1   1125.31 3024.1 428.78\n",
            "\n",
            "Step:  AIC=369.26\n",
            "Bodyfat ~ Weight + Height + Neck + Chest + Abdo + Hip + Thigh + \n",
            "    Knee + Bic + Fore + Wrist\n",
            "\n",
            "         Df Sum of Sq    RSS    AIC\n",
            "- Knee    1      1.33 1900.9 367.35\n",
            "- Bic     1      1.92 1901.5 367.39\n",
            "- Wrist   1      1.93 1901.5 367.39\n",
            "- Thigh   1      3.37 1903.0 367.49\n",
            "- Chest   1      6.39 1906.0 367.69\n",
            "- Hip     1      8.14 1907.7 367.81\n",
            "- Height  1     12.16 1911.7 368.08\n",
            "- Weight  1     27.13 1926.7 369.08\n",
            "<none>                1899.6 369.26\n",
            "- Fore    1     37.85 1937.4 369.79\n",
            "- Neck    1     56.57 1956.1 371.02\n",
            "- Abdo    1   1346.09 3245.7 435.83\n",
            "\n",
            "Step:  AIC=367.35\n",
            "Bodyfat ~ Weight + Height + Neck + Chest + Abdo + Hip + Thigh + \n",
            "    Bic + Fore + Wrist\n",
            "\n",
            "         Df Sum of Sq    RSS    AIC\n",
            "- Bic     1      2.03 1902.9 365.49\n",
            "- Thigh   1      2.63 1903.5 365.53\n",
            "- Wrist   1      2.73 1903.6 365.53\n",
            "- Chest   1      7.05 1908.0 365.82\n",
            "- Hip     1      7.62 1908.5 365.86\n",
            "- Height  1     11.23 1912.1 366.11\n",
            "<none>                1900.9 367.35\n",
            "- Weight  1     30.51 1931.4 367.39\n",
            "- Fore    1     39.05 1940.0 367.95\n",
            "- Neck    1     55.47 1956.4 369.03\n",
            "- Abdo    1   1345.48 3246.4 433.86\n",
            "\n",
            "Step:  AIC=365.49\n",
            "Bodyfat ~ Weight + Height + Neck + Chest + Abdo + Hip + Thigh + \n",
            "    Fore + Wrist\n",
            "\n",
            "         Df Sum of Sq    RSS    AIC\n",
            "- Wrist   1      2.79 1905.7 363.68\n",
            "- Thigh   1      4.63 1907.6 363.80\n",
            "- Hip     1      7.50 1910.4 363.99\n",
            "- Chest   1      7.55 1910.5 363.99\n",
            "- Height  1     10.21 1913.1 364.17\n",
            "- Weight  1     29.27 1932.2 365.44\n",
            "<none>                1902.9 365.49\n",
            "- Fore    1     50.40 1953.3 366.83\n",
            "- Neck    1     54.04 1957.0 367.07\n",
            "- Abdo    1   1353.15 3256.1 432.24\n",
            "\n",
            "Step:  AIC=363.68\n",
            "Bodyfat ~ Weight + Height + Neck + Chest + Abdo + Hip + Thigh + \n",
            "    Fore\n",
            "\n",
            "         Df Sum of Sq    RSS    AIC\n",
            "- Thigh   1      7.00 1912.7 362.14\n",
            "- Hip     1      8.01 1913.7 362.21\n",
            "- Chest   1      9.29 1915.0 362.30\n",
            "- Height  1     13.86 1919.6 362.60\n",
            "<none>                1905.7 363.68\n",
            "- Weight  1     36.34 1942.1 364.09\n",
            "- Fore    1     50.12 1955.8 365.00\n",
            "- Neck    1     79.05 1984.8 366.88\n",
            "- Abdo    1   1372.77 3278.5 431.12\n",
            "\n",
            "Step:  AIC=362.14\n",
            "Bodyfat ~ Weight + Height + Neck + Chest + Abdo + Hip + Fore\n",
            "\n",
            "         Df Sum of Sq    RSS    AIC\n",
            "- Hip     1      4.42 1917.1 360.44\n",
            "- Chest   1      5.38 1918.1 360.50\n",
            "- Height  1      8.62 1921.3 360.72\n",
            "- Weight  1     29.49 1942.2 362.10\n",
            "<none>                1912.7 362.14\n",
            "- Fore    1     51.53 1964.3 363.55\n",
            "- Neck    1     80.80 1993.5 365.44\n",
            "- Abdo    1   1372.41 3285.1 429.38\n",
            "\n",
            "Step:  AIC=360.44\n",
            "Bodyfat ~ Weight + Height + Neck + Chest + Abdo + Fore\n",
            "\n",
            "         Df Sum of Sq    RSS    AIC\n",
            "- Chest   1     12.90 1930.0 359.30\n",
            "- Height  1     17.44 1934.6 359.60\n",
            "<none>                1917.1 360.44\n",
            "- Fore    1     59.51 1976.6 362.35\n",
            "- Neck    1     76.42 1993.6 363.44\n",
            "- Weight  1    117.40 2034.5 366.05\n",
            "- Abdo    1   1370.48 3287.6 427.47\n",
            "\n",
            "Step:  AIC=359.3\n",
            "Bodyfat ~ Weight + Height + Neck + Abdo + Fore\n",
            "\n",
            "         Df Sum of Sq    RSS    AIC\n",
            "- Height  1      9.06 1939.1 357.90\n",
            "<none>                1930.0 359.30\n",
            "- Fore    1     59.13 1989.2 361.16\n",
            "- Neck    1     74.35 2004.4 362.14\n",
            "- Weight  1    107.93 2038.0 364.26\n",
            "- Abdo    1   1679.52 3609.6 437.43\n",
            "\n",
            "Step:  AIC=357.9\n",
            "Bodyfat ~ Weight + Neck + Abdo + Fore\n",
            "\n",
            "         Df Sum of Sq    RSS    AIC\n",
            "<none>                1939.1 357.90\n",
            "- Fore    1     52.30 1991.4 359.30\n",
            "- Neck    1     85.21 2024.3 361.40\n",
            "- Weight  1    133.93 2073.0 364.45\n",
            "- Abdo    1   2283.87 4223.0 455.52\n"
          ]
        },
        {
          "output_type": "display_data",
          "data": {
            "text/plain": [
              "\n",
              "Call:\n",
              "lm(formula = Bodyfat ~ Weight + Neck + Abdo + Fore, data = bfData)\n",
              "\n",
              "Residuals:\n",
              "    Min      1Q  Median      3Q     Max \n",
              "-9.1637 -2.8476  0.0877  2.7522  8.3342 \n",
              "\n",
              "Coefficients:\n",
              "             Estimate Std. Error t value Pr(>|t|)    \n",
              "(Intercept) -41.88325    8.30967  -5.040 1.62e-06 ***\n",
              "Weight       -0.22932    0.07868  -2.915  0.00423 ** \n",
              "Neck         -0.61856    0.26606  -2.325  0.02172 *  \n",
              "Abdo          0.98046    0.08146  12.036  < 2e-16 ***\n",
              "Fore          0.43409    0.23834   1.821  0.07099 .  \n",
              "---\n",
              "Signif. codes:  0 ‘***’ 0.001 ‘**’ 0.01 ‘*’ 0.05 ‘.’ 0.1 ‘ ’ 1\n",
              "\n",
              "Residual standard error: 3.971 on 123 degrees of freedom\n",
              "Multiple R-squared:  0.7466,\tAdjusted R-squared:  0.7383 \n",
              "F-statistic: 90.58 on 4 and 123 DF,  p-value: < 2.2e-16\n"
            ]
          },
          "metadata": {}
        },
        {
          "output_type": "display_data",
          "data": {
            "text/html": [
              "<table class=\"dataframe\">\n",
              "<caption>A matrix: 5 × 4 of type dbl</caption>\n",
              "<thead>\n",
              "\t<tr><th></th><th scope=col>Estimate</th><th scope=col>Std. Error</th><th scope=col>t value</th><th scope=col>Pr(&gt;|t|)</th></tr>\n",
              "</thead>\n",
              "<tbody>\n",
              "\t<tr><th scope=row>(Intercept)</th><td>-41.883</td><td>8.310</td><td>-5.040</td><td>0.000</td></tr>\n",
              "\t<tr><th scope=row>Weight</th><td> -0.229</td><td>0.079</td><td>-2.915</td><td>0.004</td></tr>\n",
              "\t<tr><th scope=row>Neck</th><td> -0.619</td><td>0.266</td><td>-2.325</td><td>0.022</td></tr>\n",
              "\t<tr><th scope=row>Abdo</th><td>  0.980</td><td>0.081</td><td>12.036</td><td>0.000</td></tr>\n",
              "\t<tr><th scope=row>Fore</th><td>  0.434</td><td>0.238</td><td> 1.821</td><td>0.071</td></tr>\n",
              "</tbody>\n",
              "</table>\n"
            ],
            "text/markdown": "\nA matrix: 5 × 4 of type dbl\n\n| <!--/--> | Estimate | Std. Error | t value | Pr(&gt;|t|) |\n|---|---|---|---|---|\n| (Intercept) | -41.883 | 8.310 | -5.040 | 0.000 |\n| Weight |  -0.229 | 0.079 | -2.915 | 0.004 |\n| Neck |  -0.619 | 0.266 | -2.325 | 0.022 |\n| Abdo |   0.980 | 0.081 | 12.036 | 0.000 |\n| Fore |   0.434 | 0.238 |  1.821 | 0.071 |\n\n",
            "text/latex": "A matrix: 5 × 4 of type dbl\n\\begin{tabular}{r|llll}\n  & Estimate & Std. Error & t value & Pr(>\\textbar{}t\\textbar{})\\\\\n\\hline\n\t(Intercept) & -41.883 & 8.310 & -5.040 & 0.000\\\\\n\tWeight &  -0.229 & 0.079 & -2.915 & 0.004\\\\\n\tNeck &  -0.619 & 0.266 & -2.325 & 0.022\\\\\n\tAbdo &   0.980 & 0.081 & 12.036 & 0.000\\\\\n\tFore &   0.434 & 0.238 &  1.821 & 0.071\\\\\n\\end{tabular}\n",
            "text/plain": [
              "            Estimate Std. Error t value Pr(>|t|)\n",
              "(Intercept) -41.883  8.310      -5.040  0.000   \n",
              "Weight       -0.229  0.079      -2.915  0.004   \n",
              "Neck         -0.619  0.266      -2.325  0.022   \n",
              "Abdo          0.980  0.081      12.036  0.000   \n",
              "Fore          0.434  0.238       1.821  0.071   "
            ]
          },
          "metadata": {}
        }
      ]
    },
    {
      "cell_type": "markdown",
      "source": [
        "We again get the same model."
      ],
      "metadata": {
        "id": "-hJf66cqquzk"
      }
    },
    {
      "cell_type": "markdown",
      "source": [
        "There are some **issues **with stepwise selection approaches. They are:\n",
        "1. The same data is used throughout in both forward and backward stepwise selection approaches.\n",
        "(Typically, this will result in an underestimate of the true prediction error of the model on unseen data.)\n",
        "- **One way to avoid this issue:** The train-test-validation split of the dataset or cross-validation cna be used to address this."
      ],
      "metadata": {
        "id": "r1tH6z0yq2Vb"
      }
    }
  ]
}