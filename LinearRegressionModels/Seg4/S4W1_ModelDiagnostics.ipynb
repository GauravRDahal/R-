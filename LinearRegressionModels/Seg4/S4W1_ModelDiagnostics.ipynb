{
  "nbformat": 4,
  "nbformat_minor": 0,
  "metadata": {
    "colab": {
      "provenance": []
    },
    "kernelspec": {
      "name": "ir",
      "display_name": "R"
    },
    "language_info": {
      "name": "R"
    }
  },
  "cells": [
    {
      "cell_type": "code",
      "execution_count": 3,
      "metadata": {
        "colab": {
          "base_uri": "https://localhost:8080/"
        },
        "id": "68S4gzz1vBKt",
        "outputId": "d9f42dee-e2b7-4d87-dd52-81d6c14be627"
      },
      "outputs": [
        {
          "output_type": "stream",
          "name": "stderr",
          "text": [
            "Installing packages into ‘/usr/local/lib/R/site-library’\n",
            "(as ‘lib’ is unspecified)\n",
            "\n"
          ]
        }
      ],
      "source": [
        "install.packages(c(\"ggplot2\", \"dplyr\", \"HSAUR\", \"ggcorrplot\"))\n",
        "# Load essential libraries\n",
        "library(ggplot2)\n",
        "library(dplyr)\n",
        "library(HSAUR) # Lots of inbuilt to play around\n",
        "library(ggcorrplot)"
      ]
    },
    {
      "cell_type": "code",
      "source": [
        "data(heptathlon)\n",
        "str(heptathlon)"
      ],
      "metadata": {
        "colab": {
          "base_uri": "https://localhost:8080/"
        },
        "id": "0IUI0CRUvFL3",
        "outputId": "ce2c0808-d7bf-4ed0-9604-b93e01f2b334"
      },
      "execution_count": 5,
      "outputs": [
        {
          "output_type": "stream",
          "name": "stdout",
          "text": [
            "'data.frame':\t25 obs. of  8 variables:\n",
            " $ hurdles : num  12.7 12.8 13.2 13.6 13.5 ...\n",
            " $ highjump: num  1.86 1.8 1.83 1.8 1.74 1.83 1.8 1.8 1.83 1.77 ...\n",
            " $ shot    : num  15.8 16.2 14.2 15.2 14.8 ...\n",
            " $ run200m : num  22.6 23.6 23.1 23.9 23.9 ...\n",
            " $ longjump: num  7.27 6.71 6.68 6.25 6.32 6.33 6.37 6.47 6.11 6.28 ...\n",
            " $ javelin : num  45.7 42.6 44.5 42.8 47.5 ...\n",
            " $ run800m : num  129 126 124 132 128 ...\n",
            " $ score   : int  7291 6897 6858 6540 6540 6411 6351 6297 6252 6252 ...\n"
          ]
        }
      ]
    },
    {
      "cell_type": "markdown",
      "source": [
        "# Data Wrangling"
      ],
      "metadata": {
        "id": "Cafeh-Qi1nhU"
      }
    },
    {
      "cell_type": "code",
      "source": [
        "heptathlon %>% mutate(sprint = ifelse(run200m <= 25 & run800m <= 129, 'fast', 'slow'))"
      ],
      "metadata": {
        "colab": {
          "base_uri": "https://localhost:8080/",
          "height": 882
        },
        "id": "jtickZSBvFRN",
        "outputId": "3f963f53-4fe2-4d39-c6cf-0df9e4090131"
      },
      "execution_count": 6,
      "outputs": [
        {
          "output_type": "display_data",
          "data": {
            "text/html": [
              "<table class=\"dataframe\">\n",
              "<caption>A data.frame: 25 × 9</caption>\n",
              "<thead>\n",
              "\t<tr><th></th><th scope=col>hurdles</th><th scope=col>highjump</th><th scope=col>shot</th><th scope=col>run200m</th><th scope=col>longjump</th><th scope=col>javelin</th><th scope=col>run800m</th><th scope=col>score</th><th scope=col>sprint</th></tr>\n",
              "\t<tr><th></th><th scope=col>&lt;dbl&gt;</th><th scope=col>&lt;dbl&gt;</th><th scope=col>&lt;dbl&gt;</th><th scope=col>&lt;dbl&gt;</th><th scope=col>&lt;dbl&gt;</th><th scope=col>&lt;dbl&gt;</th><th scope=col>&lt;dbl&gt;</th><th scope=col>&lt;int&gt;</th><th scope=col>&lt;chr&gt;</th></tr>\n",
              "</thead>\n",
              "<tbody>\n",
              "\t<tr><th scope=row>Joyner-Kersee (USA)</th><td>12.69</td><td>1.86</td><td>15.80</td><td>22.56</td><td>7.27</td><td>45.66</td><td>128.51</td><td>7291</td><td>fast</td></tr>\n",
              "\t<tr><th scope=row>John (GDR)</th><td>12.85</td><td>1.80</td><td>16.23</td><td>23.65</td><td>6.71</td><td>42.56</td><td>126.12</td><td>6897</td><td>fast</td></tr>\n",
              "\t<tr><th scope=row>Behmer (GDR)</th><td>13.20</td><td>1.83</td><td>14.20</td><td>23.10</td><td>6.68</td><td>44.54</td><td>124.20</td><td>6858</td><td>fast</td></tr>\n",
              "\t<tr><th scope=row>Sablovskaite (URS)</th><td>13.61</td><td>1.80</td><td>15.23</td><td>23.92</td><td>6.25</td><td>42.78</td><td>132.24</td><td>6540</td><td>slow</td></tr>\n",
              "\t<tr><th scope=row>Choubenkova (URS)</th><td>13.51</td><td>1.74</td><td>14.76</td><td>23.93</td><td>6.32</td><td>47.46</td><td>127.90</td><td>6540</td><td>fast</td></tr>\n",
              "\t<tr><th scope=row>Schulz (GDR)</th><td>13.75</td><td>1.83</td><td>13.50</td><td>24.65</td><td>6.33</td><td>42.82</td><td>125.79</td><td>6411</td><td>fast</td></tr>\n",
              "\t<tr><th scope=row>Fleming (AUS)</th><td>13.38</td><td>1.80</td><td>12.88</td><td>23.59</td><td>6.37</td><td>40.28</td><td>132.54</td><td>6351</td><td>slow</td></tr>\n",
              "\t<tr><th scope=row>Greiner (USA)</th><td>13.55</td><td>1.80</td><td>14.13</td><td>24.48</td><td>6.47</td><td>38.00</td><td>133.65</td><td>6297</td><td>slow</td></tr>\n",
              "\t<tr><th scope=row>Lajbnerova (CZE)</th><td>13.63</td><td>1.83</td><td>14.28</td><td>24.86</td><td>6.11</td><td>42.20</td><td>136.05</td><td>6252</td><td>slow</td></tr>\n",
              "\t<tr><th scope=row>Bouraga (URS)</th><td>13.25</td><td>1.77</td><td>12.62</td><td>23.59</td><td>6.28</td><td>39.06</td><td>134.74</td><td>6252</td><td>slow</td></tr>\n",
              "\t<tr><th scope=row>Wijnsma (HOL)</th><td>13.75</td><td>1.86</td><td>13.01</td><td>25.03</td><td>6.34</td><td>37.86</td><td>131.49</td><td>6205</td><td>slow</td></tr>\n",
              "\t<tr><th scope=row>Dimitrova (BUL)</th><td>13.24</td><td>1.80</td><td>12.88</td><td>23.59</td><td>6.37</td><td>40.28</td><td>132.54</td><td>6171</td><td>slow</td></tr>\n",
              "\t<tr><th scope=row>Scheider (SWI)</th><td>13.85</td><td>1.86</td><td>11.58</td><td>24.87</td><td>6.05</td><td>47.50</td><td>134.93</td><td>6137</td><td>slow</td></tr>\n",
              "\t<tr><th scope=row>Braun (FRG)</th><td>13.71</td><td>1.83</td><td>13.16</td><td>24.78</td><td>6.12</td><td>44.58</td><td>142.82</td><td>6109</td><td>slow</td></tr>\n",
              "\t<tr><th scope=row>Ruotsalainen (FIN)</th><td>13.79</td><td>1.80</td><td>12.32</td><td>24.61</td><td>6.08</td><td>45.44</td><td>137.06</td><td>6101</td><td>slow</td></tr>\n",
              "\t<tr><th scope=row>Yuping (CHN)</th><td>13.93</td><td>1.86</td><td>14.21</td><td>25.00</td><td>6.40</td><td>38.60</td><td>146.67</td><td>6087</td><td>slow</td></tr>\n",
              "\t<tr><th scope=row>Hagger (GB)</th><td>13.47</td><td>1.80</td><td>12.75</td><td>25.47</td><td>6.34</td><td>35.76</td><td>138.48</td><td>5975</td><td>slow</td></tr>\n",
              "\t<tr><th scope=row>Brown (USA)</th><td>14.07</td><td>1.83</td><td>12.69</td><td>24.83</td><td>6.13</td><td>44.34</td><td>146.43</td><td>5972</td><td>slow</td></tr>\n",
              "\t<tr><th scope=row>Mulliner (GB)</th><td>14.39</td><td>1.71</td><td>12.68</td><td>24.92</td><td>6.10</td><td>37.76</td><td>138.02</td><td>5746</td><td>slow</td></tr>\n",
              "\t<tr><th scope=row>Hautenauve (BEL)</th><td>14.04</td><td>1.77</td><td>11.81</td><td>25.61</td><td>5.99</td><td>35.68</td><td>133.90</td><td>5734</td><td>slow</td></tr>\n",
              "\t<tr><th scope=row>Kytola (FIN)</th><td>14.31</td><td>1.77</td><td>11.66</td><td>25.69</td><td>5.75</td><td>39.48</td><td>133.35</td><td>5686</td><td>slow</td></tr>\n",
              "\t<tr><th scope=row>Geremias (BRA)</th><td>14.23</td><td>1.71</td><td>12.95</td><td>25.50</td><td>5.50</td><td>39.64</td><td>144.02</td><td>5508</td><td>slow</td></tr>\n",
              "\t<tr><th scope=row>Hui-Ing (TAI)</th><td>14.85</td><td>1.68</td><td>10.00</td><td>25.23</td><td>5.47</td><td>39.14</td><td>137.30</td><td>5290</td><td>slow</td></tr>\n",
              "\t<tr><th scope=row>Jeong-Mi (KOR)</th><td>14.53</td><td>1.71</td><td>10.83</td><td>26.61</td><td>5.50</td><td>39.26</td><td>139.17</td><td>5289</td><td>slow</td></tr>\n",
              "\t<tr><th scope=row>Launa (PNG)</th><td>16.42</td><td>1.50</td><td>11.78</td><td>26.16</td><td>4.88</td><td>46.38</td><td>163.43</td><td>4566</td><td>slow</td></tr>\n",
              "</tbody>\n",
              "</table>\n"
            ],
            "text/markdown": "\nA data.frame: 25 × 9\n\n| <!--/--> | hurdles &lt;dbl&gt; | highjump &lt;dbl&gt; | shot &lt;dbl&gt; | run200m &lt;dbl&gt; | longjump &lt;dbl&gt; | javelin &lt;dbl&gt; | run800m &lt;dbl&gt; | score &lt;int&gt; | sprint &lt;chr&gt; |\n|---|---|---|---|---|---|---|---|---|---|\n| Joyner-Kersee (USA) | 12.69 | 1.86 | 15.80 | 22.56 | 7.27 | 45.66 | 128.51 | 7291 | fast |\n| John (GDR) | 12.85 | 1.80 | 16.23 | 23.65 | 6.71 | 42.56 | 126.12 | 6897 | fast |\n| Behmer (GDR) | 13.20 | 1.83 | 14.20 | 23.10 | 6.68 | 44.54 | 124.20 | 6858 | fast |\n| Sablovskaite (URS) | 13.61 | 1.80 | 15.23 | 23.92 | 6.25 | 42.78 | 132.24 | 6540 | slow |\n| Choubenkova (URS) | 13.51 | 1.74 | 14.76 | 23.93 | 6.32 | 47.46 | 127.90 | 6540 | fast |\n| Schulz (GDR) | 13.75 | 1.83 | 13.50 | 24.65 | 6.33 | 42.82 | 125.79 | 6411 | fast |\n| Fleming (AUS) | 13.38 | 1.80 | 12.88 | 23.59 | 6.37 | 40.28 | 132.54 | 6351 | slow |\n| Greiner (USA) | 13.55 | 1.80 | 14.13 | 24.48 | 6.47 | 38.00 | 133.65 | 6297 | slow |\n| Lajbnerova (CZE) | 13.63 | 1.83 | 14.28 | 24.86 | 6.11 | 42.20 | 136.05 | 6252 | slow |\n| Bouraga (URS) | 13.25 | 1.77 | 12.62 | 23.59 | 6.28 | 39.06 | 134.74 | 6252 | slow |\n| Wijnsma (HOL) | 13.75 | 1.86 | 13.01 | 25.03 | 6.34 | 37.86 | 131.49 | 6205 | slow |\n| Dimitrova (BUL) | 13.24 | 1.80 | 12.88 | 23.59 | 6.37 | 40.28 | 132.54 | 6171 | slow |\n| Scheider (SWI) | 13.85 | 1.86 | 11.58 | 24.87 | 6.05 | 47.50 | 134.93 | 6137 | slow |\n| Braun (FRG) | 13.71 | 1.83 | 13.16 | 24.78 | 6.12 | 44.58 | 142.82 | 6109 | slow |\n| Ruotsalainen (FIN) | 13.79 | 1.80 | 12.32 | 24.61 | 6.08 | 45.44 | 137.06 | 6101 | slow |\n| Yuping (CHN) | 13.93 | 1.86 | 14.21 | 25.00 | 6.40 | 38.60 | 146.67 | 6087 | slow |\n| Hagger (GB) | 13.47 | 1.80 | 12.75 | 25.47 | 6.34 | 35.76 | 138.48 | 5975 | slow |\n| Brown (USA) | 14.07 | 1.83 | 12.69 | 24.83 | 6.13 | 44.34 | 146.43 | 5972 | slow |\n| Mulliner (GB) | 14.39 | 1.71 | 12.68 | 24.92 | 6.10 | 37.76 | 138.02 | 5746 | slow |\n| Hautenauve (BEL) | 14.04 | 1.77 | 11.81 | 25.61 | 5.99 | 35.68 | 133.90 | 5734 | slow |\n| Kytola (FIN) | 14.31 | 1.77 | 11.66 | 25.69 | 5.75 | 39.48 | 133.35 | 5686 | slow |\n| Geremias (BRA) | 14.23 | 1.71 | 12.95 | 25.50 | 5.50 | 39.64 | 144.02 | 5508 | slow |\n| Hui-Ing (TAI) | 14.85 | 1.68 | 10.00 | 25.23 | 5.47 | 39.14 | 137.30 | 5290 | slow |\n| Jeong-Mi (KOR) | 14.53 | 1.71 | 10.83 | 26.61 | 5.50 | 39.26 | 139.17 | 5289 | slow |\n| Launa (PNG) | 16.42 | 1.50 | 11.78 | 26.16 | 4.88 | 46.38 | 163.43 | 4566 | slow |\n\n",
            "text/latex": "A data.frame: 25 × 9\n\\begin{tabular}{r|lllllllll}\n  & hurdles & highjump & shot & run200m & longjump & javelin & run800m & score & sprint\\\\\n  & <dbl> & <dbl> & <dbl> & <dbl> & <dbl> & <dbl> & <dbl> & <int> & <chr>\\\\\n\\hline\n\tJoyner-Kersee (USA) & 12.69 & 1.86 & 15.80 & 22.56 & 7.27 & 45.66 & 128.51 & 7291 & fast\\\\\n\tJohn (GDR) & 12.85 & 1.80 & 16.23 & 23.65 & 6.71 & 42.56 & 126.12 & 6897 & fast\\\\\n\tBehmer (GDR) & 13.20 & 1.83 & 14.20 & 23.10 & 6.68 & 44.54 & 124.20 & 6858 & fast\\\\\n\tSablovskaite (URS) & 13.61 & 1.80 & 15.23 & 23.92 & 6.25 & 42.78 & 132.24 & 6540 & slow\\\\\n\tChoubenkova (URS) & 13.51 & 1.74 & 14.76 & 23.93 & 6.32 & 47.46 & 127.90 & 6540 & fast\\\\\n\tSchulz (GDR) & 13.75 & 1.83 & 13.50 & 24.65 & 6.33 & 42.82 & 125.79 & 6411 & fast\\\\\n\tFleming (AUS) & 13.38 & 1.80 & 12.88 & 23.59 & 6.37 & 40.28 & 132.54 & 6351 & slow\\\\\n\tGreiner (USA) & 13.55 & 1.80 & 14.13 & 24.48 & 6.47 & 38.00 & 133.65 & 6297 & slow\\\\\n\tLajbnerova (CZE) & 13.63 & 1.83 & 14.28 & 24.86 & 6.11 & 42.20 & 136.05 & 6252 & slow\\\\\n\tBouraga (URS) & 13.25 & 1.77 & 12.62 & 23.59 & 6.28 & 39.06 & 134.74 & 6252 & slow\\\\\n\tWijnsma (HOL) & 13.75 & 1.86 & 13.01 & 25.03 & 6.34 & 37.86 & 131.49 & 6205 & slow\\\\\n\tDimitrova (BUL) & 13.24 & 1.80 & 12.88 & 23.59 & 6.37 & 40.28 & 132.54 & 6171 & slow\\\\\n\tScheider (SWI) & 13.85 & 1.86 & 11.58 & 24.87 & 6.05 & 47.50 & 134.93 & 6137 & slow\\\\\n\tBraun (FRG) & 13.71 & 1.83 & 13.16 & 24.78 & 6.12 & 44.58 & 142.82 & 6109 & slow\\\\\n\tRuotsalainen (FIN) & 13.79 & 1.80 & 12.32 & 24.61 & 6.08 & 45.44 & 137.06 & 6101 & slow\\\\\n\tYuping (CHN) & 13.93 & 1.86 & 14.21 & 25.00 & 6.40 & 38.60 & 146.67 & 6087 & slow\\\\\n\tHagger (GB) & 13.47 & 1.80 & 12.75 & 25.47 & 6.34 & 35.76 & 138.48 & 5975 & slow\\\\\n\tBrown (USA) & 14.07 & 1.83 & 12.69 & 24.83 & 6.13 & 44.34 & 146.43 & 5972 & slow\\\\\n\tMulliner (GB) & 14.39 & 1.71 & 12.68 & 24.92 & 6.10 & 37.76 & 138.02 & 5746 & slow\\\\\n\tHautenauve (BEL) & 14.04 & 1.77 & 11.81 & 25.61 & 5.99 & 35.68 & 133.90 & 5734 & slow\\\\\n\tKytola (FIN) & 14.31 & 1.77 & 11.66 & 25.69 & 5.75 & 39.48 & 133.35 & 5686 & slow\\\\\n\tGeremias (BRA) & 14.23 & 1.71 & 12.95 & 25.50 & 5.50 & 39.64 & 144.02 & 5508 & slow\\\\\n\tHui-Ing (TAI) & 14.85 & 1.68 & 10.00 & 25.23 & 5.47 & 39.14 & 137.30 & 5290 & slow\\\\\n\tJeong-Mi (KOR) & 14.53 & 1.71 & 10.83 & 26.61 & 5.50 & 39.26 & 139.17 & 5289 & slow\\\\\n\tLauna (PNG) & 16.42 & 1.50 & 11.78 & 26.16 & 4.88 & 46.38 & 163.43 & 4566 & slow\\\\\n\\end{tabular}\n",
            "text/plain": [
              "                    hurdles highjump shot  run200m longjump javelin run800m\n",
              "Joyner-Kersee (USA) 12.69   1.86     15.80 22.56   7.27     45.66   128.51 \n",
              "John (GDR)          12.85   1.80     16.23 23.65   6.71     42.56   126.12 \n",
              "Behmer (GDR)        13.20   1.83     14.20 23.10   6.68     44.54   124.20 \n",
              "Sablovskaite (URS)  13.61   1.80     15.23 23.92   6.25     42.78   132.24 \n",
              "Choubenkova (URS)   13.51   1.74     14.76 23.93   6.32     47.46   127.90 \n",
              "Schulz (GDR)        13.75   1.83     13.50 24.65   6.33     42.82   125.79 \n",
              "Fleming (AUS)       13.38   1.80     12.88 23.59   6.37     40.28   132.54 \n",
              "Greiner (USA)       13.55   1.80     14.13 24.48   6.47     38.00   133.65 \n",
              "Lajbnerova (CZE)    13.63   1.83     14.28 24.86   6.11     42.20   136.05 \n",
              "Bouraga (URS)       13.25   1.77     12.62 23.59   6.28     39.06   134.74 \n",
              "Wijnsma (HOL)       13.75   1.86     13.01 25.03   6.34     37.86   131.49 \n",
              "Dimitrova (BUL)     13.24   1.80     12.88 23.59   6.37     40.28   132.54 \n",
              "Scheider (SWI)      13.85   1.86     11.58 24.87   6.05     47.50   134.93 \n",
              "Braun (FRG)         13.71   1.83     13.16 24.78   6.12     44.58   142.82 \n",
              "Ruotsalainen (FIN)  13.79   1.80     12.32 24.61   6.08     45.44   137.06 \n",
              "Yuping (CHN)        13.93   1.86     14.21 25.00   6.40     38.60   146.67 \n",
              "Hagger (GB)         13.47   1.80     12.75 25.47   6.34     35.76   138.48 \n",
              "Brown (USA)         14.07   1.83     12.69 24.83   6.13     44.34   146.43 \n",
              "Mulliner (GB)       14.39   1.71     12.68 24.92   6.10     37.76   138.02 \n",
              "Hautenauve (BEL)    14.04   1.77     11.81 25.61   5.99     35.68   133.90 \n",
              "Kytola (FIN)        14.31   1.77     11.66 25.69   5.75     39.48   133.35 \n",
              "Geremias (BRA)      14.23   1.71     12.95 25.50   5.50     39.64   144.02 \n",
              "Hui-Ing (TAI)       14.85   1.68     10.00 25.23   5.47     39.14   137.30 \n",
              "Jeong-Mi (KOR)      14.53   1.71     10.83 26.61   5.50     39.26   139.17 \n",
              "Launa (PNG)         16.42   1.50     11.78 26.16   4.88     46.38   163.43 \n",
              "                    score sprint\n",
              "Joyner-Kersee (USA) 7291  fast  \n",
              "John (GDR)          6897  fast  \n",
              "Behmer (GDR)        6858  fast  \n",
              "Sablovskaite (URS)  6540  slow  \n",
              "Choubenkova (URS)   6540  fast  \n",
              "Schulz (GDR)        6411  fast  \n",
              "Fleming (AUS)       6351  slow  \n",
              "Greiner (USA)       6297  slow  \n",
              "Lajbnerova (CZE)    6252  slow  \n",
              "Bouraga (URS)       6252  slow  \n",
              "Wijnsma (HOL)       6205  slow  \n",
              "Dimitrova (BUL)     6171  slow  \n",
              "Scheider (SWI)      6137  slow  \n",
              "Braun (FRG)         6109  slow  \n",
              "Ruotsalainen (FIN)  6101  slow  \n",
              "Yuping (CHN)        6087  slow  \n",
              "Hagger (GB)         5975  slow  \n",
              "Brown (USA)         5972  slow  \n",
              "Mulliner (GB)       5746  slow  \n",
              "Hautenauve (BEL)    5734  slow  \n",
              "Kytola (FIN)        5686  slow  \n",
              "Geremias (BRA)      5508  slow  \n",
              "Hui-Ing (TAI)       5290  slow  \n",
              "Jeong-Mi (KOR)      5289  slow  \n",
              "Launa (PNG)         4566  slow  "
            ]
          },
          "metadata": {}
        }
      ]
    },
    {
      "cell_type": "code",
      "source": [
        "# p(run200m <= 24) appox. equal to 25%\n",
        "quantile(heptathlon$run200m, 0.25)"
      ],
      "metadata": {
        "colab": {
          "base_uri": "https://localhost:8080/",
          "height": 34
        },
        "id": "CDAATI3ovFWC",
        "outputId": "843b81bd-6f9d-4901-b9b1-8bf9f76dead3"
      },
      "execution_count": 7,
      "outputs": [
        {
          "output_type": "display_data",
          "data": {
            "text/html": [
              "<strong>25%:</strong> 23.92"
            ],
            "text/markdown": "**25%:** 23.92",
            "text/latex": "\\textbf{25\\textbackslash{}\\%:} 23.92",
            "text/plain": [
              "  25% \n",
              "23.92 "
            ]
          },
          "metadata": {}
        }
      ]
    },
    {
      "cell_type": "code",
      "source": [
        "quantile(heptathlon$run800m, 0.25)"
      ],
      "metadata": {
        "colab": {
          "base_uri": "https://localhost:8080/",
          "height": 34
        },
        "id": "yagJ6AOo0shb",
        "outputId": "450f9173-2ffa-4675-88af-0cf48e8559e9"
      },
      "execution_count": 8,
      "outputs": [
        {
          "output_type": "display_data",
          "data": {
            "text/html": [
              "<strong>25%:</strong> 132.24"
            ],
            "text/markdown": "**25%:** 132.24",
            "text/latex": "\\textbf{25\\textbackslash{}\\%:} 132.24",
            "text/plain": [
              "   25% \n",
              "132.24 "
            ]
          },
          "metadata": {}
        }
      ]
    },
    {
      "cell_type": "code",
      "source": [
        "mean(heptathlon$run800m)"
      ],
      "metadata": {
        "colab": {
          "base_uri": "https://localhost:8080/",
          "height": 34
        },
        "id": "thAmb7Cm0sj8",
        "outputId": "56d479e8-49eb-4a30-a5eb-e702c5174916"
      },
      "execution_count": 9,
      "outputs": [
        {
          "output_type": "display_data",
          "data": {
            "text/html": [
              "136.054"
            ],
            "text/markdown": "136.054",
            "text/latex": "136.054",
            "text/plain": [
              "[1] 136.054"
            ]
          },
          "metadata": {}
        }
      ]
    },
    {
      "cell_type": "code",
      "source": [
        "heptathlon %>% mutate(sprint = ifelse(run200m <= 25 & run800m <= 134, 'fast', 'slow'))"
      ],
      "metadata": {
        "colab": {
          "base_uri": "https://localhost:8080/",
          "height": 882
        },
        "id": "qOZ7c_N_1Tmq",
        "outputId": "5a4cf2ec-84b5-4c81-a897-3a216716e060"
      },
      "execution_count": 10,
      "outputs": [
        {
          "output_type": "display_data",
          "data": {
            "text/html": [
              "<table class=\"dataframe\">\n",
              "<caption>A data.frame: 25 × 9</caption>\n",
              "<thead>\n",
              "\t<tr><th></th><th scope=col>hurdles</th><th scope=col>highjump</th><th scope=col>shot</th><th scope=col>run200m</th><th scope=col>longjump</th><th scope=col>javelin</th><th scope=col>run800m</th><th scope=col>score</th><th scope=col>sprint</th></tr>\n",
              "\t<tr><th></th><th scope=col>&lt;dbl&gt;</th><th scope=col>&lt;dbl&gt;</th><th scope=col>&lt;dbl&gt;</th><th scope=col>&lt;dbl&gt;</th><th scope=col>&lt;dbl&gt;</th><th scope=col>&lt;dbl&gt;</th><th scope=col>&lt;dbl&gt;</th><th scope=col>&lt;int&gt;</th><th scope=col>&lt;chr&gt;</th></tr>\n",
              "</thead>\n",
              "<tbody>\n",
              "\t<tr><th scope=row>Joyner-Kersee (USA)</th><td>12.69</td><td>1.86</td><td>15.80</td><td>22.56</td><td>7.27</td><td>45.66</td><td>128.51</td><td>7291</td><td>fast</td></tr>\n",
              "\t<tr><th scope=row>John (GDR)</th><td>12.85</td><td>1.80</td><td>16.23</td><td>23.65</td><td>6.71</td><td>42.56</td><td>126.12</td><td>6897</td><td>fast</td></tr>\n",
              "\t<tr><th scope=row>Behmer (GDR)</th><td>13.20</td><td>1.83</td><td>14.20</td><td>23.10</td><td>6.68</td><td>44.54</td><td>124.20</td><td>6858</td><td>fast</td></tr>\n",
              "\t<tr><th scope=row>Sablovskaite (URS)</th><td>13.61</td><td>1.80</td><td>15.23</td><td>23.92</td><td>6.25</td><td>42.78</td><td>132.24</td><td>6540</td><td>fast</td></tr>\n",
              "\t<tr><th scope=row>Choubenkova (URS)</th><td>13.51</td><td>1.74</td><td>14.76</td><td>23.93</td><td>6.32</td><td>47.46</td><td>127.90</td><td>6540</td><td>fast</td></tr>\n",
              "\t<tr><th scope=row>Schulz (GDR)</th><td>13.75</td><td>1.83</td><td>13.50</td><td>24.65</td><td>6.33</td><td>42.82</td><td>125.79</td><td>6411</td><td>fast</td></tr>\n",
              "\t<tr><th scope=row>Fleming (AUS)</th><td>13.38</td><td>1.80</td><td>12.88</td><td>23.59</td><td>6.37</td><td>40.28</td><td>132.54</td><td>6351</td><td>fast</td></tr>\n",
              "\t<tr><th scope=row>Greiner (USA)</th><td>13.55</td><td>1.80</td><td>14.13</td><td>24.48</td><td>6.47</td><td>38.00</td><td>133.65</td><td>6297</td><td>fast</td></tr>\n",
              "\t<tr><th scope=row>Lajbnerova (CZE)</th><td>13.63</td><td>1.83</td><td>14.28</td><td>24.86</td><td>6.11</td><td>42.20</td><td>136.05</td><td>6252</td><td>slow</td></tr>\n",
              "\t<tr><th scope=row>Bouraga (URS)</th><td>13.25</td><td>1.77</td><td>12.62</td><td>23.59</td><td>6.28</td><td>39.06</td><td>134.74</td><td>6252</td><td>slow</td></tr>\n",
              "\t<tr><th scope=row>Wijnsma (HOL)</th><td>13.75</td><td>1.86</td><td>13.01</td><td>25.03</td><td>6.34</td><td>37.86</td><td>131.49</td><td>6205</td><td>slow</td></tr>\n",
              "\t<tr><th scope=row>Dimitrova (BUL)</th><td>13.24</td><td>1.80</td><td>12.88</td><td>23.59</td><td>6.37</td><td>40.28</td><td>132.54</td><td>6171</td><td>fast</td></tr>\n",
              "\t<tr><th scope=row>Scheider (SWI)</th><td>13.85</td><td>1.86</td><td>11.58</td><td>24.87</td><td>6.05</td><td>47.50</td><td>134.93</td><td>6137</td><td>slow</td></tr>\n",
              "\t<tr><th scope=row>Braun (FRG)</th><td>13.71</td><td>1.83</td><td>13.16</td><td>24.78</td><td>6.12</td><td>44.58</td><td>142.82</td><td>6109</td><td>slow</td></tr>\n",
              "\t<tr><th scope=row>Ruotsalainen (FIN)</th><td>13.79</td><td>1.80</td><td>12.32</td><td>24.61</td><td>6.08</td><td>45.44</td><td>137.06</td><td>6101</td><td>slow</td></tr>\n",
              "\t<tr><th scope=row>Yuping (CHN)</th><td>13.93</td><td>1.86</td><td>14.21</td><td>25.00</td><td>6.40</td><td>38.60</td><td>146.67</td><td>6087</td><td>slow</td></tr>\n",
              "\t<tr><th scope=row>Hagger (GB)</th><td>13.47</td><td>1.80</td><td>12.75</td><td>25.47</td><td>6.34</td><td>35.76</td><td>138.48</td><td>5975</td><td>slow</td></tr>\n",
              "\t<tr><th scope=row>Brown (USA)</th><td>14.07</td><td>1.83</td><td>12.69</td><td>24.83</td><td>6.13</td><td>44.34</td><td>146.43</td><td>5972</td><td>slow</td></tr>\n",
              "\t<tr><th scope=row>Mulliner (GB)</th><td>14.39</td><td>1.71</td><td>12.68</td><td>24.92</td><td>6.10</td><td>37.76</td><td>138.02</td><td>5746</td><td>slow</td></tr>\n",
              "\t<tr><th scope=row>Hautenauve (BEL)</th><td>14.04</td><td>1.77</td><td>11.81</td><td>25.61</td><td>5.99</td><td>35.68</td><td>133.90</td><td>5734</td><td>slow</td></tr>\n",
              "\t<tr><th scope=row>Kytola (FIN)</th><td>14.31</td><td>1.77</td><td>11.66</td><td>25.69</td><td>5.75</td><td>39.48</td><td>133.35</td><td>5686</td><td>slow</td></tr>\n",
              "\t<tr><th scope=row>Geremias (BRA)</th><td>14.23</td><td>1.71</td><td>12.95</td><td>25.50</td><td>5.50</td><td>39.64</td><td>144.02</td><td>5508</td><td>slow</td></tr>\n",
              "\t<tr><th scope=row>Hui-Ing (TAI)</th><td>14.85</td><td>1.68</td><td>10.00</td><td>25.23</td><td>5.47</td><td>39.14</td><td>137.30</td><td>5290</td><td>slow</td></tr>\n",
              "\t<tr><th scope=row>Jeong-Mi (KOR)</th><td>14.53</td><td>1.71</td><td>10.83</td><td>26.61</td><td>5.50</td><td>39.26</td><td>139.17</td><td>5289</td><td>slow</td></tr>\n",
              "\t<tr><th scope=row>Launa (PNG)</th><td>16.42</td><td>1.50</td><td>11.78</td><td>26.16</td><td>4.88</td><td>46.38</td><td>163.43</td><td>4566</td><td>slow</td></tr>\n",
              "</tbody>\n",
              "</table>\n"
            ],
            "text/markdown": "\nA data.frame: 25 × 9\n\n| <!--/--> | hurdles &lt;dbl&gt; | highjump &lt;dbl&gt; | shot &lt;dbl&gt; | run200m &lt;dbl&gt; | longjump &lt;dbl&gt; | javelin &lt;dbl&gt; | run800m &lt;dbl&gt; | score &lt;int&gt; | sprint &lt;chr&gt; |\n|---|---|---|---|---|---|---|---|---|---|\n| Joyner-Kersee (USA) | 12.69 | 1.86 | 15.80 | 22.56 | 7.27 | 45.66 | 128.51 | 7291 | fast |\n| John (GDR) | 12.85 | 1.80 | 16.23 | 23.65 | 6.71 | 42.56 | 126.12 | 6897 | fast |\n| Behmer (GDR) | 13.20 | 1.83 | 14.20 | 23.10 | 6.68 | 44.54 | 124.20 | 6858 | fast |\n| Sablovskaite (URS) | 13.61 | 1.80 | 15.23 | 23.92 | 6.25 | 42.78 | 132.24 | 6540 | fast |\n| Choubenkova (URS) | 13.51 | 1.74 | 14.76 | 23.93 | 6.32 | 47.46 | 127.90 | 6540 | fast |\n| Schulz (GDR) | 13.75 | 1.83 | 13.50 | 24.65 | 6.33 | 42.82 | 125.79 | 6411 | fast |\n| Fleming (AUS) | 13.38 | 1.80 | 12.88 | 23.59 | 6.37 | 40.28 | 132.54 | 6351 | fast |\n| Greiner (USA) | 13.55 | 1.80 | 14.13 | 24.48 | 6.47 | 38.00 | 133.65 | 6297 | fast |\n| Lajbnerova (CZE) | 13.63 | 1.83 | 14.28 | 24.86 | 6.11 | 42.20 | 136.05 | 6252 | slow |\n| Bouraga (URS) | 13.25 | 1.77 | 12.62 | 23.59 | 6.28 | 39.06 | 134.74 | 6252 | slow |\n| Wijnsma (HOL) | 13.75 | 1.86 | 13.01 | 25.03 | 6.34 | 37.86 | 131.49 | 6205 | slow |\n| Dimitrova (BUL) | 13.24 | 1.80 | 12.88 | 23.59 | 6.37 | 40.28 | 132.54 | 6171 | fast |\n| Scheider (SWI) | 13.85 | 1.86 | 11.58 | 24.87 | 6.05 | 47.50 | 134.93 | 6137 | slow |\n| Braun (FRG) | 13.71 | 1.83 | 13.16 | 24.78 | 6.12 | 44.58 | 142.82 | 6109 | slow |\n| Ruotsalainen (FIN) | 13.79 | 1.80 | 12.32 | 24.61 | 6.08 | 45.44 | 137.06 | 6101 | slow |\n| Yuping (CHN) | 13.93 | 1.86 | 14.21 | 25.00 | 6.40 | 38.60 | 146.67 | 6087 | slow |\n| Hagger (GB) | 13.47 | 1.80 | 12.75 | 25.47 | 6.34 | 35.76 | 138.48 | 5975 | slow |\n| Brown (USA) | 14.07 | 1.83 | 12.69 | 24.83 | 6.13 | 44.34 | 146.43 | 5972 | slow |\n| Mulliner (GB) | 14.39 | 1.71 | 12.68 | 24.92 | 6.10 | 37.76 | 138.02 | 5746 | slow |\n| Hautenauve (BEL) | 14.04 | 1.77 | 11.81 | 25.61 | 5.99 | 35.68 | 133.90 | 5734 | slow |\n| Kytola (FIN) | 14.31 | 1.77 | 11.66 | 25.69 | 5.75 | 39.48 | 133.35 | 5686 | slow |\n| Geremias (BRA) | 14.23 | 1.71 | 12.95 | 25.50 | 5.50 | 39.64 | 144.02 | 5508 | slow |\n| Hui-Ing (TAI) | 14.85 | 1.68 | 10.00 | 25.23 | 5.47 | 39.14 | 137.30 | 5290 | slow |\n| Jeong-Mi (KOR) | 14.53 | 1.71 | 10.83 | 26.61 | 5.50 | 39.26 | 139.17 | 5289 | slow |\n| Launa (PNG) | 16.42 | 1.50 | 11.78 | 26.16 | 4.88 | 46.38 | 163.43 | 4566 | slow |\n\n",
            "text/latex": "A data.frame: 25 × 9\n\\begin{tabular}{r|lllllllll}\n  & hurdles & highjump & shot & run200m & longjump & javelin & run800m & score & sprint\\\\\n  & <dbl> & <dbl> & <dbl> & <dbl> & <dbl> & <dbl> & <dbl> & <int> & <chr>\\\\\n\\hline\n\tJoyner-Kersee (USA) & 12.69 & 1.86 & 15.80 & 22.56 & 7.27 & 45.66 & 128.51 & 7291 & fast\\\\\n\tJohn (GDR) & 12.85 & 1.80 & 16.23 & 23.65 & 6.71 & 42.56 & 126.12 & 6897 & fast\\\\\n\tBehmer (GDR) & 13.20 & 1.83 & 14.20 & 23.10 & 6.68 & 44.54 & 124.20 & 6858 & fast\\\\\n\tSablovskaite (URS) & 13.61 & 1.80 & 15.23 & 23.92 & 6.25 & 42.78 & 132.24 & 6540 & fast\\\\\n\tChoubenkova (URS) & 13.51 & 1.74 & 14.76 & 23.93 & 6.32 & 47.46 & 127.90 & 6540 & fast\\\\\n\tSchulz (GDR) & 13.75 & 1.83 & 13.50 & 24.65 & 6.33 & 42.82 & 125.79 & 6411 & fast\\\\\n\tFleming (AUS) & 13.38 & 1.80 & 12.88 & 23.59 & 6.37 & 40.28 & 132.54 & 6351 & fast\\\\\n\tGreiner (USA) & 13.55 & 1.80 & 14.13 & 24.48 & 6.47 & 38.00 & 133.65 & 6297 & fast\\\\\n\tLajbnerova (CZE) & 13.63 & 1.83 & 14.28 & 24.86 & 6.11 & 42.20 & 136.05 & 6252 & slow\\\\\n\tBouraga (URS) & 13.25 & 1.77 & 12.62 & 23.59 & 6.28 & 39.06 & 134.74 & 6252 & slow\\\\\n\tWijnsma (HOL) & 13.75 & 1.86 & 13.01 & 25.03 & 6.34 & 37.86 & 131.49 & 6205 & slow\\\\\n\tDimitrova (BUL) & 13.24 & 1.80 & 12.88 & 23.59 & 6.37 & 40.28 & 132.54 & 6171 & fast\\\\\n\tScheider (SWI) & 13.85 & 1.86 & 11.58 & 24.87 & 6.05 & 47.50 & 134.93 & 6137 & slow\\\\\n\tBraun (FRG) & 13.71 & 1.83 & 13.16 & 24.78 & 6.12 & 44.58 & 142.82 & 6109 & slow\\\\\n\tRuotsalainen (FIN) & 13.79 & 1.80 & 12.32 & 24.61 & 6.08 & 45.44 & 137.06 & 6101 & slow\\\\\n\tYuping (CHN) & 13.93 & 1.86 & 14.21 & 25.00 & 6.40 & 38.60 & 146.67 & 6087 & slow\\\\\n\tHagger (GB) & 13.47 & 1.80 & 12.75 & 25.47 & 6.34 & 35.76 & 138.48 & 5975 & slow\\\\\n\tBrown (USA) & 14.07 & 1.83 & 12.69 & 24.83 & 6.13 & 44.34 & 146.43 & 5972 & slow\\\\\n\tMulliner (GB) & 14.39 & 1.71 & 12.68 & 24.92 & 6.10 & 37.76 & 138.02 & 5746 & slow\\\\\n\tHautenauve (BEL) & 14.04 & 1.77 & 11.81 & 25.61 & 5.99 & 35.68 & 133.90 & 5734 & slow\\\\\n\tKytola (FIN) & 14.31 & 1.77 & 11.66 & 25.69 & 5.75 & 39.48 & 133.35 & 5686 & slow\\\\\n\tGeremias (BRA) & 14.23 & 1.71 & 12.95 & 25.50 & 5.50 & 39.64 & 144.02 & 5508 & slow\\\\\n\tHui-Ing (TAI) & 14.85 & 1.68 & 10.00 & 25.23 & 5.47 & 39.14 & 137.30 & 5290 & slow\\\\\n\tJeong-Mi (KOR) & 14.53 & 1.71 & 10.83 & 26.61 & 5.50 & 39.26 & 139.17 & 5289 & slow\\\\\n\tLauna (PNG) & 16.42 & 1.50 & 11.78 & 26.16 & 4.88 & 46.38 & 163.43 & 4566 & slow\\\\\n\\end{tabular}\n",
            "text/plain": [
              "                    hurdles highjump shot  run200m longjump javelin run800m\n",
              "Joyner-Kersee (USA) 12.69   1.86     15.80 22.56   7.27     45.66   128.51 \n",
              "John (GDR)          12.85   1.80     16.23 23.65   6.71     42.56   126.12 \n",
              "Behmer (GDR)        13.20   1.83     14.20 23.10   6.68     44.54   124.20 \n",
              "Sablovskaite (URS)  13.61   1.80     15.23 23.92   6.25     42.78   132.24 \n",
              "Choubenkova (URS)   13.51   1.74     14.76 23.93   6.32     47.46   127.90 \n",
              "Schulz (GDR)        13.75   1.83     13.50 24.65   6.33     42.82   125.79 \n",
              "Fleming (AUS)       13.38   1.80     12.88 23.59   6.37     40.28   132.54 \n",
              "Greiner (USA)       13.55   1.80     14.13 24.48   6.47     38.00   133.65 \n",
              "Lajbnerova (CZE)    13.63   1.83     14.28 24.86   6.11     42.20   136.05 \n",
              "Bouraga (URS)       13.25   1.77     12.62 23.59   6.28     39.06   134.74 \n",
              "Wijnsma (HOL)       13.75   1.86     13.01 25.03   6.34     37.86   131.49 \n",
              "Dimitrova (BUL)     13.24   1.80     12.88 23.59   6.37     40.28   132.54 \n",
              "Scheider (SWI)      13.85   1.86     11.58 24.87   6.05     47.50   134.93 \n",
              "Braun (FRG)         13.71   1.83     13.16 24.78   6.12     44.58   142.82 \n",
              "Ruotsalainen (FIN)  13.79   1.80     12.32 24.61   6.08     45.44   137.06 \n",
              "Yuping (CHN)        13.93   1.86     14.21 25.00   6.40     38.60   146.67 \n",
              "Hagger (GB)         13.47   1.80     12.75 25.47   6.34     35.76   138.48 \n",
              "Brown (USA)         14.07   1.83     12.69 24.83   6.13     44.34   146.43 \n",
              "Mulliner (GB)       14.39   1.71     12.68 24.92   6.10     37.76   138.02 \n",
              "Hautenauve (BEL)    14.04   1.77     11.81 25.61   5.99     35.68   133.90 \n",
              "Kytola (FIN)        14.31   1.77     11.66 25.69   5.75     39.48   133.35 \n",
              "Geremias (BRA)      14.23   1.71     12.95 25.50   5.50     39.64   144.02 \n",
              "Hui-Ing (TAI)       14.85   1.68     10.00 25.23   5.47     39.14   137.30 \n",
              "Jeong-Mi (KOR)      14.53   1.71     10.83 26.61   5.50     39.26   139.17 \n",
              "Launa (PNG)         16.42   1.50     11.78 26.16   4.88     46.38   163.43 \n",
              "                    score sprint\n",
              "Joyner-Kersee (USA) 7291  fast  \n",
              "John (GDR)          6897  fast  \n",
              "Behmer (GDR)        6858  fast  \n",
              "Sablovskaite (URS)  6540  fast  \n",
              "Choubenkova (URS)   6540  fast  \n",
              "Schulz (GDR)        6411  fast  \n",
              "Fleming (AUS)       6351  fast  \n",
              "Greiner (USA)       6297  fast  \n",
              "Lajbnerova (CZE)    6252  slow  \n",
              "Bouraga (URS)       6252  slow  \n",
              "Wijnsma (HOL)       6205  slow  \n",
              "Dimitrova (BUL)     6171  fast  \n",
              "Scheider (SWI)      6137  slow  \n",
              "Braun (FRG)         6109  slow  \n",
              "Ruotsalainen (FIN)  6101  slow  \n",
              "Yuping (CHN)        6087  slow  \n",
              "Hagger (GB)         5975  slow  \n",
              "Brown (USA)         5972  slow  \n",
              "Mulliner (GB)       5746  slow  \n",
              "Hautenauve (BEL)    5734  slow  \n",
              "Kytola (FIN)        5686  slow  \n",
              "Geremias (BRA)      5508  slow  \n",
              "Hui-Ing (TAI)       5290  slow  \n",
              "Jeong-Mi (KOR)      5289  slow  \n",
              "Launa (PNG)         4566  slow  "
            ]
          },
          "metadata": {}
        }
      ]
    },
    {
      "cell_type": "code",
      "source": [
        "heptathlon  = heptathlon %>% mutate(sprint = ifelse(run200m <= 25 & run800m <= 134, 'fast', 'slow'))\n",
        "head(heptathlon)"
      ],
      "metadata": {
        "colab": {
          "base_uri": "https://localhost:8080/",
          "height": 286
        },
        "id": "5ws3R8Z90smd",
        "outputId": "56e2f59e-fe1f-4e2c-ace5-b5fb9e547a9b"
      },
      "execution_count": 12,
      "outputs": [
        {
          "output_type": "display_data",
          "data": {
            "text/html": [
              "<table class=\"dataframe\">\n",
              "<caption>A data.frame: 6 × 9</caption>\n",
              "<thead>\n",
              "\t<tr><th></th><th scope=col>hurdles</th><th scope=col>highjump</th><th scope=col>shot</th><th scope=col>run200m</th><th scope=col>longjump</th><th scope=col>javelin</th><th scope=col>run800m</th><th scope=col>score</th><th scope=col>sprint</th></tr>\n",
              "\t<tr><th></th><th scope=col>&lt;dbl&gt;</th><th scope=col>&lt;dbl&gt;</th><th scope=col>&lt;dbl&gt;</th><th scope=col>&lt;dbl&gt;</th><th scope=col>&lt;dbl&gt;</th><th scope=col>&lt;dbl&gt;</th><th scope=col>&lt;dbl&gt;</th><th scope=col>&lt;int&gt;</th><th scope=col>&lt;chr&gt;</th></tr>\n",
              "</thead>\n",
              "<tbody>\n",
              "\t<tr><th scope=row>Joyner-Kersee (USA)</th><td>12.69</td><td>1.86</td><td>15.80</td><td>22.56</td><td>7.27</td><td>45.66</td><td>128.51</td><td>7291</td><td>fast</td></tr>\n",
              "\t<tr><th scope=row>John (GDR)</th><td>12.85</td><td>1.80</td><td>16.23</td><td>23.65</td><td>6.71</td><td>42.56</td><td>126.12</td><td>6897</td><td>fast</td></tr>\n",
              "\t<tr><th scope=row>Behmer (GDR)</th><td>13.20</td><td>1.83</td><td>14.20</td><td>23.10</td><td>6.68</td><td>44.54</td><td>124.20</td><td>6858</td><td>fast</td></tr>\n",
              "\t<tr><th scope=row>Sablovskaite (URS)</th><td>13.61</td><td>1.80</td><td>15.23</td><td>23.92</td><td>6.25</td><td>42.78</td><td>132.24</td><td>6540</td><td>fast</td></tr>\n",
              "\t<tr><th scope=row>Choubenkova (URS)</th><td>13.51</td><td>1.74</td><td>14.76</td><td>23.93</td><td>6.32</td><td>47.46</td><td>127.90</td><td>6540</td><td>fast</td></tr>\n",
              "\t<tr><th scope=row>Schulz (GDR)</th><td>13.75</td><td>1.83</td><td>13.50</td><td>24.65</td><td>6.33</td><td>42.82</td><td>125.79</td><td>6411</td><td>fast</td></tr>\n",
              "</tbody>\n",
              "</table>\n"
            ],
            "text/markdown": "\nA data.frame: 6 × 9\n\n| <!--/--> | hurdles &lt;dbl&gt; | highjump &lt;dbl&gt; | shot &lt;dbl&gt; | run200m &lt;dbl&gt; | longjump &lt;dbl&gt; | javelin &lt;dbl&gt; | run800m &lt;dbl&gt; | score &lt;int&gt; | sprint &lt;chr&gt; |\n|---|---|---|---|---|---|---|---|---|---|\n| Joyner-Kersee (USA) | 12.69 | 1.86 | 15.80 | 22.56 | 7.27 | 45.66 | 128.51 | 7291 | fast |\n| John (GDR) | 12.85 | 1.80 | 16.23 | 23.65 | 6.71 | 42.56 | 126.12 | 6897 | fast |\n| Behmer (GDR) | 13.20 | 1.83 | 14.20 | 23.10 | 6.68 | 44.54 | 124.20 | 6858 | fast |\n| Sablovskaite (URS) | 13.61 | 1.80 | 15.23 | 23.92 | 6.25 | 42.78 | 132.24 | 6540 | fast |\n| Choubenkova (URS) | 13.51 | 1.74 | 14.76 | 23.93 | 6.32 | 47.46 | 127.90 | 6540 | fast |\n| Schulz (GDR) | 13.75 | 1.83 | 13.50 | 24.65 | 6.33 | 42.82 | 125.79 | 6411 | fast |\n\n",
            "text/latex": "A data.frame: 6 × 9\n\\begin{tabular}{r|lllllllll}\n  & hurdles & highjump & shot & run200m & longjump & javelin & run800m & score & sprint\\\\\n  & <dbl> & <dbl> & <dbl> & <dbl> & <dbl> & <dbl> & <dbl> & <int> & <chr>\\\\\n\\hline\n\tJoyner-Kersee (USA) & 12.69 & 1.86 & 15.80 & 22.56 & 7.27 & 45.66 & 128.51 & 7291 & fast\\\\\n\tJohn (GDR) & 12.85 & 1.80 & 16.23 & 23.65 & 6.71 & 42.56 & 126.12 & 6897 & fast\\\\\n\tBehmer (GDR) & 13.20 & 1.83 & 14.20 & 23.10 & 6.68 & 44.54 & 124.20 & 6858 & fast\\\\\n\tSablovskaite (URS) & 13.61 & 1.80 & 15.23 & 23.92 & 6.25 & 42.78 & 132.24 & 6540 & fast\\\\\n\tChoubenkova (URS) & 13.51 & 1.74 & 14.76 & 23.93 & 6.32 & 47.46 & 127.90 & 6540 & fast\\\\\n\tSchulz (GDR) & 13.75 & 1.83 & 13.50 & 24.65 & 6.33 & 42.82 & 125.79 & 6411 & fast\\\\\n\\end{tabular}\n",
            "text/plain": [
              "                    hurdles highjump shot  run200m longjump javelin run800m\n",
              "Joyner-Kersee (USA) 12.69   1.86     15.80 22.56   7.27     45.66   128.51 \n",
              "John (GDR)          12.85   1.80     16.23 23.65   6.71     42.56   126.12 \n",
              "Behmer (GDR)        13.20   1.83     14.20 23.10   6.68     44.54   124.20 \n",
              "Sablovskaite (URS)  13.61   1.80     15.23 23.92   6.25     42.78   132.24 \n",
              "Choubenkova (URS)   13.51   1.74     14.76 23.93   6.32     47.46   127.90 \n",
              "Schulz (GDR)        13.75   1.83     13.50 24.65   6.33     42.82   125.79 \n",
              "                    score sprint\n",
              "Joyner-Kersee (USA) 7291  fast  \n",
              "John (GDR)          6897  fast  \n",
              "Behmer (GDR)        6858  fast  \n",
              "Sablovskaite (URS)  6540  fast  \n",
              "Choubenkova (URS)   6540  fast  \n",
              "Schulz (GDR)        6411  fast  "
            ]
          },
          "metadata": {}
        }
      ]
    },
    {
      "cell_type": "code",
      "source": [
        "str(heptathlon)"
      ],
      "metadata": {
        "colab": {
          "base_uri": "https://localhost:8080/"
        },
        "id": "h6s8D6e80so3",
        "outputId": "0b34a878-5342-4c85-ce07-5ba53e283fb7"
      },
      "execution_count": 13,
      "outputs": [
        {
          "output_type": "stream",
          "name": "stdout",
          "text": [
            "'data.frame':\t25 obs. of  9 variables:\n",
            " $ hurdles : num  12.7 12.8 13.2 13.6 13.5 ...\n",
            " $ highjump: num  1.86 1.8 1.83 1.8 1.74 1.83 1.8 1.8 1.83 1.77 ...\n",
            " $ shot    : num  15.8 16.2 14.2 15.2 14.8 ...\n",
            " $ run200m : num  22.6 23.6 23.1 23.9 23.9 ...\n",
            " $ longjump: num  7.27 6.71 6.68 6.25 6.32 6.33 6.37 6.47 6.11 6.28 ...\n",
            " $ javelin : num  45.7 42.6 44.5 42.8 47.5 ...\n",
            " $ run800m : num  129 126 124 132 128 ...\n",
            " $ score   : int  7291 6897 6858 6540 6540 6411 6351 6297 6252 6252 ...\n",
            " $ sprint  : chr  \"fast\" \"fast\" \"fast\" \"fast\" ...\n"
          ]
        }
      ]
    },
    {
      "cell_type": "code",
      "source": [
        "# Changing sprint column to factor type\n",
        "heptathlon['sprint'] = lapply(heptathlon['sprint'], factor)\n",
        "str(heptathlon)"
      ],
      "metadata": {
        "colab": {
          "base_uri": "https://localhost:8080/"
        },
        "id": "k1h1Saju0srZ",
        "outputId": "75aa5784-b274-4c2c-f17b-5ef4e53bc460"
      },
      "execution_count": 14,
      "outputs": [
        {
          "output_type": "stream",
          "name": "stdout",
          "text": [
            "'data.frame':\t25 obs. of  9 variables:\n",
            " $ hurdles : num  12.7 12.8 13.2 13.6 13.5 ...\n",
            " $ highjump: num  1.86 1.8 1.83 1.8 1.74 1.83 1.8 1.8 1.83 1.77 ...\n",
            " $ shot    : num  15.8 16.2 14.2 15.2 14.8 ...\n",
            " $ run200m : num  22.6 23.6 23.1 23.9 23.9 ...\n",
            " $ longjump: num  7.27 6.71 6.68 6.25 6.32 6.33 6.37 6.47 6.11 6.28 ...\n",
            " $ javelin : num  45.7 42.6 44.5 42.8 47.5 ...\n",
            " $ run800m : num  129 126 124 132 128 ...\n",
            " $ score   : int  7291 6897 6858 6540 6540 6411 6351 6297 6252 6252 ...\n",
            " $ sprint  : Factor w/ 2 levels \"fast\",\"slow\": 1 1 1 1 1 1 1 1 2 2 ...\n"
          ]
        }
      ]
    },
    {
      "cell_type": "code",
      "source": [
        "contrasts(heptathlon$sprint)"
      ],
      "metadata": {
        "colab": {
          "base_uri": "https://localhost:8080/",
          "height": 147
        },
        "id": "QccGEauU0suv",
        "outputId": "1b2313e0-ebb5-4d13-e1fd-a364969a20c7"
      },
      "execution_count": 15,
      "outputs": [
        {
          "output_type": "display_data",
          "data": {
            "text/html": [
              "<table class=\"dataframe\">\n",
              "<caption>A matrix: 2 × 1 of type dbl</caption>\n",
              "<thead>\n",
              "\t<tr><th></th><th scope=col>slow</th></tr>\n",
              "</thead>\n",
              "<tbody>\n",
              "\t<tr><th scope=row>fast</th><td>0</td></tr>\n",
              "\t<tr><th scope=row>slow</th><td>1</td></tr>\n",
              "</tbody>\n",
              "</table>\n"
            ],
            "text/markdown": "\nA matrix: 2 × 1 of type dbl\n\n| <!--/--> | slow |\n|---|---|\n| fast | 0 |\n| slow | 1 |\n\n",
            "text/latex": "A matrix: 2 × 1 of type dbl\n\\begin{tabular}{r|l}\n  & slow\\\\\n\\hline\n\tfast & 0\\\\\n\tslow & 1\\\\\n\\end{tabular}\n",
            "text/plain": [
              "     slow\n",
              "fast 0   \n",
              "slow 1   "
            ]
          },
          "metadata": {}
        }
      ]
    },
    {
      "cell_type": "markdown",
      "source": [
        "## Dealing with categorical variables in R for analysis purposes:\n",
        "- This is called an dummy encoding with 2 levels\n",
        "- name of the feature is sprint\n",
        "- R introduces dummy variables 1 less than the nuber of levels in this case `2 - 1 = 1 dummy variable` will be introduced.\n",
        "-`fast` is the reference level according to the alphabetical order\n",
        "-'`sprintslow` is the 1st non-refernce level or only dummy variable in this case."
      ],
      "metadata": {
        "id": "63VJrwuY2wmH"
      }
    },
    {
      "cell_type": "markdown",
      "source": [
        "# Exploratory Plot"
      ],
      "metadata": {
        "id": "ZLjjFPad41S6"
      }
    },
    {
      "cell_type": "code",
      "source": [
        "categorical_cols = c('sprint')\n",
        "continous_cols = setdiff(colnames(heptathlon), categorical_cols)"
      ],
      "metadata": {
        "id": "cUYmmzsq5FSD"
      },
      "execution_count": 17,
      "outputs": []
    },
    {
      "cell_type": "code",
      "source": [
        "# Setting ggplot theme for plotting\n",
        "My_Theme = theme(axis.text.x = element_text(size = 9),\n",
        "   axis.text.y = element_text(size = 9),\n",
        "   axis.title.x = element_text(size = 11),\n",
        "   axis.title.y = element_text(size = 11),\n",
        "   plot.title = element_text(size = 12, hjust = 0.5, face = \"bold\"))"
      ],
      "metadata": {
        "id": "llwLbnfY2xfx"
      },
      "execution_count": 16,
      "outputs": []
    },
    {
      "cell_type": "code",
      "source": [
        "# Making a scatter plot between *run200m* (x-axis) and *longjump* (y-axis) now with the data points color-coded using *sprint*. What do you observe from this plot?\n",
        "p2 = ggplot(data = heptathlon) +\n",
        "  geom_point(aes(x = run200m, y = longjump, color = sprint)) +\n",
        "  labs(x = '200m Run Time (seconds)', y = 'Longjump Distance (metres)')+\n",
        "  My_Theme\n",
        "p2"
      ],
      "metadata": {
        "colab": {
          "base_uri": "https://localhost:8080/",
          "height": 437
        },
        "id": "1h74NW4w2xiY",
        "outputId": "a6efd6fa-6072-4e76-f04d-c5fd18e4a69d"
      },
      "execution_count": 18,
      "outputs": [
        {
          "output_type": "display_data",
          "data": {
            "text/plain": [
              "plot without title"
            ],
            "image/png": "[encoded data removed]"
          },
          "metadata": {
            "image/png": {
              "width": 420,
              "height": 420
            }
          }
        }
      ]
    },
    {
      "cell_type": "markdown",
      "source": [
        "Here, we can see that one who can jump faster can also jump longer.\n",
        "\n",
        "The two features are inversly proportional to one another. They are linearlly correlated in a linear sense."
      ],
      "metadata": {
        "id": "6xzsGJ_E6ygv"
      }
    },
    {
      "cell_type": "code",
      "source": [
        "round(cor(heptathlon %>% select(-c(score, sprint))), 2)"
      ],
      "metadata": {
        "colab": {
          "base_uri": "https://localhost:8080/",
          "height": 286
        },
        "id": "MnMcNb4K7tcv",
        "outputId": "899add8c-2e52-430a-dcff-1750ff0ffe37"
      },
      "execution_count": 19,
      "outputs": [
        {
          "output_type": "display_data",
          "data": {
            "text/html": [
              "<table class=\"dataframe\">\n",
              "<caption>A matrix: 7 × 7 of type dbl</caption>\n",
              "<thead>\n",
              "\t<tr><th></th><th scope=col>hurdles</th><th scope=col>highjump</th><th scope=col>shot</th><th scope=col>run200m</th><th scope=col>longjump</th><th scope=col>javelin</th><th scope=col>run800m</th></tr>\n",
              "</thead>\n",
              "<tbody>\n",
              "\t<tr><th scope=row>hurdles</th><td> 1.00</td><td>-0.81</td><td>-0.65</td><td> 0.77</td><td>-0.91</td><td>-0.01</td><td> 0.78</td></tr>\n",
              "\t<tr><th scope=row>highjump</th><td>-0.81</td><td> 1.00</td><td> 0.44</td><td>-0.49</td><td> 0.78</td><td> 0.00</td><td>-0.59</td></tr>\n",
              "\t<tr><th scope=row>shot</th><td>-0.65</td><td> 0.44</td><td> 1.00</td><td>-0.68</td><td> 0.74</td><td> 0.27</td><td>-0.42</td></tr>\n",
              "\t<tr><th scope=row>run200m</th><td> 0.77</td><td>-0.49</td><td>-0.68</td><td> 1.00</td><td>-0.82</td><td>-0.33</td><td> 0.62</td></tr>\n",
              "\t<tr><th scope=row>longjump</th><td>-0.91</td><td> 0.78</td><td> 0.74</td><td>-0.82</td><td> 1.00</td><td> 0.07</td><td>-0.70</td></tr>\n",
              "\t<tr><th scope=row>javelin</th><td>-0.01</td><td> 0.00</td><td> 0.27</td><td>-0.33</td><td> 0.07</td><td> 1.00</td><td> 0.02</td></tr>\n",
              "\t<tr><th scope=row>run800m</th><td> 0.78</td><td>-0.59</td><td>-0.42</td><td> 0.62</td><td>-0.70</td><td> 0.02</td><td> 1.00</td></tr>\n",
              "</tbody>\n",
              "</table>\n"
            ],
            "text/markdown": "\nA matrix: 7 × 7 of type dbl\n\n| <!--/--> | hurdles | highjump | shot | run200m | longjump | javelin | run800m |\n|---|---|---|---|---|---|---|---|\n| hurdles |  1.00 | -0.81 | -0.65 |  0.77 | -0.91 | -0.01 |  0.78 |\n| highjump | -0.81 |  1.00 |  0.44 | -0.49 |  0.78 |  0.00 | -0.59 |\n| shot | -0.65 |  0.44 |  1.00 | -0.68 |  0.74 |  0.27 | -0.42 |\n| run200m |  0.77 | -0.49 | -0.68 |  1.00 | -0.82 | -0.33 |  0.62 |\n| longjump | -0.91 |  0.78 |  0.74 | -0.82 |  1.00 |  0.07 | -0.70 |\n| javelin | -0.01 |  0.00 |  0.27 | -0.33 |  0.07 |  1.00 |  0.02 |\n| run800m |  0.78 | -0.59 | -0.42 |  0.62 | -0.70 |  0.02 |  1.00 |\n\n",
            "text/latex": "A matrix: 7 × 7 of type dbl\n\\begin{tabular}{r|lllllll}\n  & hurdles & highjump & shot & run200m & longjump & javelin & run800m\\\\\n\\hline\n\thurdles &  1.00 & -0.81 & -0.65 &  0.77 & -0.91 & -0.01 &  0.78\\\\\n\thighjump & -0.81 &  1.00 &  0.44 & -0.49 &  0.78 &  0.00 & -0.59\\\\\n\tshot & -0.65 &  0.44 &  1.00 & -0.68 &  0.74 &  0.27 & -0.42\\\\\n\trun200m &  0.77 & -0.49 & -0.68 &  1.00 & -0.82 & -0.33 &  0.62\\\\\n\tlongjump & -0.91 &  0.78 &  0.74 & -0.82 &  1.00 &  0.07 & -0.70\\\\\n\tjavelin & -0.01 &  0.00 &  0.27 & -0.33 &  0.07 &  1.00 &  0.02\\\\\n\trun800m &  0.78 & -0.59 & -0.42 &  0.62 & -0.70 &  0.02 &  1.00\\\\\n\\end{tabular}\n",
            "text/plain": [
              "         hurdles highjump shot  run200m longjump javelin run800m\n",
              "hurdles   1.00   -0.81    -0.65  0.77   -0.91    -0.01    0.78  \n",
              "highjump -0.81    1.00     0.44 -0.49    0.78     0.00   -0.59  \n",
              "shot     -0.65    0.44     1.00 -0.68    0.74     0.27   -0.42  \n",
              "run200m   0.77   -0.49    -0.68  1.00   -0.82    -0.33    0.62  \n",
              "longjump -0.91    0.78     0.74 -0.82    1.00     0.07   -0.70  \n",
              "javelin  -0.01    0.00     0.27 -0.33    0.07     1.00    0.02  \n",
              "run800m   0.78   -0.59    -0.42  0.62   -0.70     0.02    1.00  "
            ]
          },
          "metadata": {}
        }
      ]
    },
    {
      "cell_type": "code",
      "source": [
        "cormet = round(cor(heptathlon %>% select(-c(score, sprint))), 2)"
      ],
      "metadata": {
        "id": "tbdTrpRZ2xlA"
      },
      "execution_count": 20,
      "outputs": []
    },
    {
      "cell_type": "markdown",
      "source": [
        "## Pair-Wise correlation (Pearson's correlation) between the continuous covariates / predictors.\n",
        "\n",
        "- calculating correlation involves `mean-centering` which is not possible for categorical features so sprint is excluded.\n",
        "\n",
        "How do you calculate the pearson's corelation coefficients?"
      ],
      "metadata": {
        "id": "_LMmqOIV79gG"
      }
    },
    {
      "cell_type": "code",
      "source": [
        "hurdles_scaled = (heptathlon$hurdles - mean(heptathlon$hurdles)) / sd(heptathlon$hurdles)\n",
        "hurdles_scaled"
      ],
      "metadata": {
        "colab": {
          "base_uri": "https://localhost:8080/",
          "height": 69
        },
        "id": "JsrffQp22xno",
        "outputId": "90b53fdf-5e71-49af-98b3-e424517b3e29"
      },
      "execution_count": 22,
      "outputs": [
        {
          "output_type": "display_data",
          "data": {
            "text/html": [
              "<style>\n",
              ".list-inline {list-style: none; margin:0; padding: 0}\n",
              ".list-inline>li {display: inline-block}\n",
              ".list-inline>li:not(:last-child)::after {content: \"\\00b7\"; padding: 0 .5ex}\n",
              "</style>\n",
              "<ol class=list-inline><li>-1.56112592765057</li><li>-1.34392579858615</li><li>-0.868800516257711</li><li>-0.312225185530115</li><li>-0.447975266195382</li><li>-0.12217507259874</li><li>-0.624450371060228</li><li>-0.393675233929274</li><li>-0.28507516939706</li><li>-0.800925475925076</li><li>-0.12217507259874</li><li>-0.814500483991602</li><li>0.0135750080665264</li><li>-0.176475104864846</li><li>-0.0678750403326345</li><li>0.12217507259874</li><li>-0.502275298461487</li><li>0.312225185530115</li><li>0.74662544365897</li><li>0.271500161330533</li><li>0.638025379126756</li><li>0.529425314594543</li><li>1.3710758147192</li><li>0.936675556590343</li><li>3.50235208116389</li></ol>\n"
            ],
            "text/markdown": "1. -1.56112592765057\n2. -1.34392579858615\n3. -0.868800516257711\n4. -0.312225185530115\n5. -0.447975266195382\n6. -0.12217507259874\n7. -0.624450371060228\n8. -0.393675233929274\n9. -0.28507516939706\n10. -0.800925475925076\n11. -0.12217507259874\n12. -0.814500483991602\n13. 0.0135750080665264\n14. -0.176475104864846\n15. -0.0678750403326345\n16. 0.12217507259874\n17. -0.502275298461487\n18. 0.312225185530115\n19. 0.74662544365897\n20. 0.271500161330533\n21. 0.638025379126756\n22. 0.529425314594543\n23. 1.3710758147192\n24. 0.936675556590343\n25. 3.50235208116389\n\n\n",
            "text/latex": "\\begin{enumerate*}\n\\item -1.56112592765057\n\\item -1.34392579858615\n\\item -0.868800516257711\n\\item -0.312225185530115\n\\item -0.447975266195382\n\\item -0.12217507259874\n\\item -0.624450371060228\n\\item -0.393675233929274\n\\item -0.28507516939706\n\\item -0.800925475925076\n\\item -0.12217507259874\n\\item -0.814500483991602\n\\item 0.0135750080665264\n\\item -0.176475104864846\n\\item -0.0678750403326345\n\\item 0.12217507259874\n\\item -0.502275298461487\n\\item 0.312225185530115\n\\item 0.74662544365897\n\\item 0.271500161330533\n\\item 0.638025379126756\n\\item 0.529425314594543\n\\item 1.3710758147192\n\\item 0.936675556590343\n\\item 3.50235208116389\n\\end{enumerate*}\n",
            "text/plain": [
              " [1] -1.56112593 -1.34392580 -0.86880052 -0.31222519 -0.44797527 -0.12217507\n",
              " [7] -0.62445037 -0.39367523 -0.28507517 -0.80092548 -0.12217507 -0.81450048\n",
              "[13]  0.01357501 -0.17647510 -0.06787504  0.12217507 -0.50227530  0.31222519\n",
              "[19]  0.74662544  0.27150016  0.63802538  0.52942531  1.37107581  0.93667556\n",
              "[25]  3.50235208"
            ]
          },
          "metadata": {}
        }
      ]
    },
    {
      "cell_type": "code",
      "source": [
        "hist(hurdles_scaled)"
      ],
      "metadata": {
        "colab": {
          "base_uri": "https://localhost:8080/",
          "height": 437
        },
        "id": "rKkV0yVM2xqd",
        "outputId": "c1536f7d-59d0-4e52-cfc2-589a321e3031"
      },
      "execution_count": 23,
      "outputs": [
        {
          "output_type": "display_data",
          "data": {
            "text/plain": [
              "Plot with title “Histogram of hurdles_scaled”"
            ],
            "image/png": "[encoded data removed]"
          },
          "metadata": {
            "image/png": {
              "width": 420,
              "height": 420
            }
          }
        }
      ]
    },
    {
      "cell_type": "code",
      "source": [
        "run200m_scaled = (heptathlon$run200m - mean(heptathlon$run200m)) / sd(heptathlon$run200m)\n",
        "run200m_scaled"
      ],
      "metadata": {
        "colab": {
          "base_uri": "https://localhost:8080/",
          "height": 69
        },
        "id": "tN1q8VN22xtI",
        "outputId": "9c0f86be-95e0-48f9-a439-d14fad245141"
      },
      "execution_count": 29,
      "outputs": [
        {
          "output_type": "display_data",
          "data": {
            "text/html": [
              "<style>\n",
              ".list-inline {list-style: none; margin:0; padding: 0}\n",
              ".list-inline>li {display: inline-block}\n",
              ".list-inline>li:not(:last-child)::after {content: \"\\00b7\"; padding: 0 .5ex}\n",
              "</style>\n",
              "<ol class=list-inline><li>-2.15479827525518</li><li>-1.03057363423079</li><li>-1.59784294850915</li><li>-0.752095970857778</li><li>-0.741781983325446</li><li>0.00082511900258478</li><li>-1.09245755942479</li><li>-0.174512669047088</li><li>0.217418857181595</li><li>-1.09245755942479</li><li>0.392756645231271</li><li>-1.09245755942479</li><li>0.22773284471393</li><li>0.134906956922927</li><li>-0.0404308311267495</li><li>0.361814682634269</li><li>0.846572096653955</li><li>0.186476894584593</li><li>0.2793027823756</li><li>0.990967922106629</li><li>1.0734798223653</li><li>0.877514059250958</li><li>0.599036395877946</li><li>2.02236667534001</li><li>1.55823723638499</li></ol>\n"
            ],
            "text/markdown": "1. -2.15479827525518\n2. -1.03057363423079\n3. -1.59784294850915\n4. -0.752095970857778\n5. -0.741781983325446\n6. 0.00082511900258478\n7. -1.09245755942479\n8. -0.174512669047088\n9. 0.217418857181595\n10. -1.09245755942479\n11. 0.392756645231271\n12. -1.09245755942479\n13. 0.22773284471393\n14. 0.134906956922927\n15. -0.0404308311267495\n16. 0.361814682634269\n17. 0.846572096653955\n18. 0.186476894584593\n19. 0.2793027823756\n20. 0.990967922106629\n21. 1.0734798223653\n22. 0.877514059250958\n23. 0.599036395877946\n24. 2.02236667534001\n25. 1.55823723638499\n\n\n",
            "text/latex": "\\begin{enumerate*}\n\\item -2.15479827525518\n\\item -1.03057363423079\n\\item -1.59784294850915\n\\item -0.752095970857778\n\\item -0.741781983325446\n\\item 0.00082511900258478\n\\item -1.09245755942479\n\\item -0.174512669047088\n\\item 0.217418857181595\n\\item -1.09245755942479\n\\item 0.392756645231271\n\\item -1.09245755942479\n\\item 0.22773284471393\n\\item 0.134906956922927\n\\item -0.0404308311267495\n\\item 0.361814682634269\n\\item 0.846572096653955\n\\item 0.186476894584593\n\\item 0.2793027823756\n\\item 0.990967922106629\n\\item 1.0734798223653\n\\item 0.877514059250958\n\\item 0.599036395877946\n\\item 2.02236667534001\n\\item 1.55823723638499\n\\end{enumerate*}\n",
            "text/plain": [
              " [1] -2.154798275 -1.030573634 -1.597842949 -0.752095971 -0.741781983\n",
              " [6]  0.000825119 -1.092457559 -0.174512669  0.217418857 -1.092457559\n",
              "[11]  0.392756645 -1.092457559  0.227732845  0.134906957 -0.040430831\n",
              "[16]  0.361814683  0.846572097  0.186476895  0.279302782  0.990967922\n",
              "[21]  1.073479822  0.877514059  0.599036396  2.022366675  1.558237236"
            ]
          },
          "metadata": {}
        }
      ]
    },
    {
      "cell_type": "code",
      "source": [
        "sum(run200m_scaled * hurdles_scaled) / 24 # 24 because n -1"
      ],
      "metadata": {
        "colab": {
          "base_uri": "https://localhost:8080/",
          "height": 34
        },
        "id": "u_wQ09bE2xvv",
        "outputId": "35a6db50-067a-4bd8-a27d-e8697d34b09a"
      },
      "execution_count": 30,
      "outputs": [
        {
          "output_type": "display_data",
          "data": {
            "text/html": [
              "0.773720543490195"
            ],
            "text/markdown": "0.773720543490195",
            "text/latex": "0.773720543490195",
            "text/plain": [
              "[1] 0.7737205"
            ]
          },
          "metadata": {}
        }
      ]
    },
    {
      "cell_type": "markdown",
      "source": [
        "We need to scale the features.\n",
        "\n",
        "There is no meaning of mean for categorical variable so we cannot use them in calculating Pearson's correlation coefficient, in this case `sprint`."
      ],
      "metadata": {
        "id": "iNn6L8NM_r28"
      }
    },
    {
      "cell_type": "markdown",
      "source": [
        "# Building a model"
      ],
      "metadata": {
        "id": "gQaCX17mATbD"
      }
    },
    {
      "cell_type": "code",
      "source": [
        "# Fit a linear model for approximating *score* as a function of *sprint*. Print the model's summary. How accurate is the model? How do the slow athletes' scores compare to the fast ones?\n",
        "model1 = lm(data = heptathlon, score ~ sprint)\n",
        "summary(model1)"
      ],
      "metadata": {
        "colab": {
          "base_uri": "https://localhost:8080/",
          "height": 329
        },
        "id": "amJEz5gI2xzI",
        "outputId": "d1573721-75c2-4a07-9dcd-7948786e4787"
      },
      "execution_count": 31,
      "outputs": [
        {
          "output_type": "display_data",
          "data": {
            "text/plain": [
              "\n",
              "Call:\n",
              "lm(formula = score ~ sprint, data = heptathlon)\n",
              "\n",
              "Residuals:\n",
              "     Min       1Q   Median       3Q      Max \n",
              "-1240.81  -244.11   -55.11   301.89   695.89 \n",
              "\n",
              "Coefficients:\n",
              "            Estimate Std. Error t value Pr(>|t|)    \n",
              "(Intercept)   6595.1      142.0   46.43  < 2e-16 ***\n",
              "sprintslow    -788.3      177.6   -4.44 0.000188 ***\n",
              "---\n",
              "Signif. codes:  0 ‘***’ 0.001 ‘**’ 0.01 ‘*’ 0.05 ‘.’ 0.1 ‘ ’ 1\n",
              "\n",
              "Residual standard error: 426.1 on 23 degrees of freedom\n",
              "Multiple R-squared:  0.4615,\tAdjusted R-squared:  0.4381 \n",
              "F-statistic: 19.71 on 1 and 23 DF,  p-value: 0.0001881\n"
            ]
          },
          "metadata": {}
        }
      ]
    },
    {
      "cell_type": "markdown",
      "source": [
        "**How accuaret is this model?**\n",
        "\n",
        "This model has an Adjusted R-squared of 43%. We are able to explain 43% of the variance in the data.\n",
        "\n",
        "`Predicted_score = B0hat + B1hat * sprintslow`\n",
        "\n",
        "`Score_fast = 6595.1 - 788.3 * 0`\n",
        "\n",
        "**How do we interpret the values of B0hat and B1hat?**\n",
        "\n",
        "B0hat = 6595.1 =  avaerage response value (score) for the reference (slow) atheletes\n",
        "\n",
        "b1hat = -788.3 =  differenec in the average values (score) between the first non-reference level(slow atheletes) and the reference level(fast athletes)\n",
        "\n",
        "`Score_slow = Score_fast - 788.3`"
      ],
      "metadata": {
        "id": "T8XcRklzAr9N"
      }
    },
    {
      "cell_type": "code",
      "source": [
        "heptathlon %>% filter(sprint == 'fast')"
      ],
      "metadata": {
        "colab": {
          "base_uri": "https://localhost:8080/",
          "height": 380
        },
        "id": "E15Jy9pk_fEm",
        "outputId": "1110ce9d-30e5-4dd2-f208-5ea0c941fe7f"
      },
      "execution_count": 32,
      "outputs": [
        {
          "output_type": "display_data",
          "data": {
            "text/html": [
              "<table class=\"dataframe\">\n",
              "<caption>A data.frame: 9 × 9</caption>\n",
              "<thead>\n",
              "\t<tr><th></th><th scope=col>hurdles</th><th scope=col>highjump</th><th scope=col>shot</th><th scope=col>run200m</th><th scope=col>longjump</th><th scope=col>javelin</th><th scope=col>run800m</th><th scope=col>score</th><th scope=col>sprint</th></tr>\n",
              "\t<tr><th></th><th scope=col>&lt;dbl&gt;</th><th scope=col>&lt;dbl&gt;</th><th scope=col>&lt;dbl&gt;</th><th scope=col>&lt;dbl&gt;</th><th scope=col>&lt;dbl&gt;</th><th scope=col>&lt;dbl&gt;</th><th scope=col>&lt;dbl&gt;</th><th scope=col>&lt;int&gt;</th><th scope=col>&lt;fct&gt;</th></tr>\n",
              "</thead>\n",
              "<tbody>\n",
              "\t<tr><th scope=row>Joyner-Kersee (USA)</th><td>12.69</td><td>1.86</td><td>15.80</td><td>22.56</td><td>7.27</td><td>45.66</td><td>128.51</td><td>7291</td><td>fast</td></tr>\n",
              "\t<tr><th scope=row>John (GDR)</th><td>12.85</td><td>1.80</td><td>16.23</td><td>23.65</td><td>6.71</td><td>42.56</td><td>126.12</td><td>6897</td><td>fast</td></tr>\n",
              "\t<tr><th scope=row>Behmer (GDR)</th><td>13.20</td><td>1.83</td><td>14.20</td><td>23.10</td><td>6.68</td><td>44.54</td><td>124.20</td><td>6858</td><td>fast</td></tr>\n",
              "\t<tr><th scope=row>Sablovskaite (URS)</th><td>13.61</td><td>1.80</td><td>15.23</td><td>23.92</td><td>6.25</td><td>42.78</td><td>132.24</td><td>6540</td><td>fast</td></tr>\n",
              "\t<tr><th scope=row>Choubenkova (URS)</th><td>13.51</td><td>1.74</td><td>14.76</td><td>23.93</td><td>6.32</td><td>47.46</td><td>127.90</td><td>6540</td><td>fast</td></tr>\n",
              "\t<tr><th scope=row>Schulz (GDR)</th><td>13.75</td><td>1.83</td><td>13.50</td><td>24.65</td><td>6.33</td><td>42.82</td><td>125.79</td><td>6411</td><td>fast</td></tr>\n",
              "\t<tr><th scope=row>Fleming (AUS)</th><td>13.38</td><td>1.80</td><td>12.88</td><td>23.59</td><td>6.37</td><td>40.28</td><td>132.54</td><td>6351</td><td>fast</td></tr>\n",
              "\t<tr><th scope=row>Greiner (USA)</th><td>13.55</td><td>1.80</td><td>14.13</td><td>24.48</td><td>6.47</td><td>38.00</td><td>133.65</td><td>6297</td><td>fast</td></tr>\n",
              "\t<tr><th scope=row>Dimitrova (BUL)</th><td>13.24</td><td>1.80</td><td>12.88</td><td>23.59</td><td>6.37</td><td>40.28</td><td>132.54</td><td>6171</td><td>fast</td></tr>\n",
              "</tbody>\n",
              "</table>\n"
            ],
            "text/markdown": "\nA data.frame: 9 × 9\n\n| <!--/--> | hurdles &lt;dbl&gt; | highjump &lt;dbl&gt; | shot &lt;dbl&gt; | run200m &lt;dbl&gt; | longjump &lt;dbl&gt; | javelin &lt;dbl&gt; | run800m &lt;dbl&gt; | score &lt;int&gt; | sprint &lt;fct&gt; |\n|---|---|---|---|---|---|---|---|---|---|\n| Joyner-Kersee (USA) | 12.69 | 1.86 | 15.80 | 22.56 | 7.27 | 45.66 | 128.51 | 7291 | fast |\n| John (GDR) | 12.85 | 1.80 | 16.23 | 23.65 | 6.71 | 42.56 | 126.12 | 6897 | fast |\n| Behmer (GDR) | 13.20 | 1.83 | 14.20 | 23.10 | 6.68 | 44.54 | 124.20 | 6858 | fast |\n| Sablovskaite (URS) | 13.61 | 1.80 | 15.23 | 23.92 | 6.25 | 42.78 | 132.24 | 6540 | fast |\n| Choubenkova (URS) | 13.51 | 1.74 | 14.76 | 23.93 | 6.32 | 47.46 | 127.90 | 6540 | fast |\n| Schulz (GDR) | 13.75 | 1.83 | 13.50 | 24.65 | 6.33 | 42.82 | 125.79 | 6411 | fast |\n| Fleming (AUS) | 13.38 | 1.80 | 12.88 | 23.59 | 6.37 | 40.28 | 132.54 | 6351 | fast |\n| Greiner (USA) | 13.55 | 1.80 | 14.13 | 24.48 | 6.47 | 38.00 | 133.65 | 6297 | fast |\n| Dimitrova (BUL) | 13.24 | 1.80 | 12.88 | 23.59 | 6.37 | 40.28 | 132.54 | 6171 | fast |\n\n",
            "text/latex": "A data.frame: 9 × 9\n\\begin{tabular}{r|lllllllll}\n  & hurdles & highjump & shot & run200m & longjump & javelin & run800m & score & sprint\\\\\n  & <dbl> & <dbl> & <dbl> & <dbl> & <dbl> & <dbl> & <dbl> & <int> & <fct>\\\\\n\\hline\n\tJoyner-Kersee (USA) & 12.69 & 1.86 & 15.80 & 22.56 & 7.27 & 45.66 & 128.51 & 7291 & fast\\\\\n\tJohn (GDR) & 12.85 & 1.80 & 16.23 & 23.65 & 6.71 & 42.56 & 126.12 & 6897 & fast\\\\\n\tBehmer (GDR) & 13.20 & 1.83 & 14.20 & 23.10 & 6.68 & 44.54 & 124.20 & 6858 & fast\\\\\n\tSablovskaite (URS) & 13.61 & 1.80 & 15.23 & 23.92 & 6.25 & 42.78 & 132.24 & 6540 & fast\\\\\n\tChoubenkova (URS) & 13.51 & 1.74 & 14.76 & 23.93 & 6.32 & 47.46 & 127.90 & 6540 & fast\\\\\n\tSchulz (GDR) & 13.75 & 1.83 & 13.50 & 24.65 & 6.33 & 42.82 & 125.79 & 6411 & fast\\\\\n\tFleming (AUS) & 13.38 & 1.80 & 12.88 & 23.59 & 6.37 & 40.28 & 132.54 & 6351 & fast\\\\\n\tGreiner (USA) & 13.55 & 1.80 & 14.13 & 24.48 & 6.47 & 38.00 & 133.65 & 6297 & fast\\\\\n\tDimitrova (BUL) & 13.24 & 1.80 & 12.88 & 23.59 & 6.37 & 40.28 & 132.54 & 6171 & fast\\\\\n\\end{tabular}\n",
            "text/plain": [
              "                    hurdles highjump shot  run200m longjump javelin run800m\n",
              "Joyner-Kersee (USA) 12.69   1.86     15.80 22.56   7.27     45.66   128.51 \n",
              "John (GDR)          12.85   1.80     16.23 23.65   6.71     42.56   126.12 \n",
              "Behmer (GDR)        13.20   1.83     14.20 23.10   6.68     44.54   124.20 \n",
              "Sablovskaite (URS)  13.61   1.80     15.23 23.92   6.25     42.78   132.24 \n",
              "Choubenkova (URS)   13.51   1.74     14.76 23.93   6.32     47.46   127.90 \n",
              "Schulz (GDR)        13.75   1.83     13.50 24.65   6.33     42.82   125.79 \n",
              "Fleming (AUS)       13.38   1.80     12.88 23.59   6.37     40.28   132.54 \n",
              "Greiner (USA)       13.55   1.80     14.13 24.48   6.47     38.00   133.65 \n",
              "Dimitrova (BUL)     13.24   1.80     12.88 23.59   6.37     40.28   132.54 \n",
              "                    score sprint\n",
              "Joyner-Kersee (USA) 7291  fast  \n",
              "John (GDR)          6897  fast  \n",
              "Behmer (GDR)        6858  fast  \n",
              "Sablovskaite (URS)  6540  fast  \n",
              "Choubenkova (URS)   6540  fast  \n",
              "Schulz (GDR)        6411  fast  \n",
              "Fleming (AUS)       6351  fast  \n",
              "Greiner (USA)       6297  fast  \n",
              "Dimitrova (BUL)     6171  fast  "
            ]
          },
          "metadata": {}
        }
      ]
    },
    {
      "cell_type": "code",
      "source": [
        "a = heptathlon %>% filter(sprint == 'fast') %>% select(score)\n",
        "a"
      ],
      "metadata": {
        "colab": {
          "base_uri": "https://localhost:8080/",
          "height": 380
        },
        "id": "tvayCD_7_fHN",
        "outputId": "05f88ee9-1fd8-488a-9055-5cc968dde9da"
      },
      "execution_count": 35,
      "outputs": [
        {
          "output_type": "display_data",
          "data": {
            "text/html": [
              "<table class=\"dataframe\">\n",
              "<caption>A data.frame: 9 × 1</caption>\n",
              "<thead>\n",
              "\t<tr><th></th><th scope=col>score</th></tr>\n",
              "\t<tr><th></th><th scope=col>&lt;int&gt;</th></tr>\n",
              "</thead>\n",
              "<tbody>\n",
              "\t<tr><th scope=row>Joyner-Kersee (USA)</th><td>7291</td></tr>\n",
              "\t<tr><th scope=row>John (GDR)</th><td>6897</td></tr>\n",
              "\t<tr><th scope=row>Behmer (GDR)</th><td>6858</td></tr>\n",
              "\t<tr><th scope=row>Sablovskaite (URS)</th><td>6540</td></tr>\n",
              "\t<tr><th scope=row>Choubenkova (URS)</th><td>6540</td></tr>\n",
              "\t<tr><th scope=row>Schulz (GDR)</th><td>6411</td></tr>\n",
              "\t<tr><th scope=row>Fleming (AUS)</th><td>6351</td></tr>\n",
              "\t<tr><th scope=row>Greiner (USA)</th><td>6297</td></tr>\n",
              "\t<tr><th scope=row>Dimitrova (BUL)</th><td>6171</td></tr>\n",
              "</tbody>\n",
              "</table>\n"
            ],
            "text/markdown": "\nA data.frame: 9 × 1\n\n| <!--/--> | score &lt;int&gt; |\n|---|---|\n| Joyner-Kersee (USA) | 7291 |\n| John (GDR) | 6897 |\n| Behmer (GDR) | 6858 |\n| Sablovskaite (URS) | 6540 |\n| Choubenkova (URS) | 6540 |\n| Schulz (GDR) | 6411 |\n| Fleming (AUS) | 6351 |\n| Greiner (USA) | 6297 |\n| Dimitrova (BUL) | 6171 |\n\n",
            "text/latex": "A data.frame: 9 × 1\n\\begin{tabular}{r|l}\n  & score\\\\\n  & <int>\\\\\n\\hline\n\tJoyner-Kersee (USA) & 7291\\\\\n\tJohn (GDR) & 6897\\\\\n\tBehmer (GDR) & 6858\\\\\n\tSablovskaite (URS) & 6540\\\\\n\tChoubenkova (URS) & 6540\\\\\n\tSchulz (GDR) & 6411\\\\\n\tFleming (AUS) & 6351\\\\\n\tGreiner (USA) & 6297\\\\\n\tDimitrova (BUL) & 6171\\\\\n\\end{tabular}\n",
            "text/plain": [
              "                    score\n",
              "Joyner-Kersee (USA) 7291 \n",
              "John (GDR)          6897 \n",
              "Behmer (GDR)        6858 \n",
              "Sablovskaite (URS)  6540 \n",
              "Choubenkova (URS)   6540 \n",
              "Schulz (GDR)        6411 \n",
              "Fleming (AUS)       6351 \n",
              "Greiner (USA)       6297 \n",
              "Dimitrova (BUL)     6171 "
            ]
          },
          "metadata": {}
        }
      ]
    },
    {
      "cell_type": "code",
      "source": [
        "model2 = lm(data = heptathlon, score ~ shot + sprint)\n",
        "summary(model2)"
      ],
      "metadata": {
        "colab": {
          "base_uri": "https://localhost:8080/",
          "height": 347
        },
        "id": "qrUgW6xK_fJv",
        "outputId": "cf5d849b-97fa-48c0-e590-325d6b2967a9"
      },
      "execution_count": 34,
      "outputs": [
        {
          "output_type": "display_data",
          "data": {
            "text/plain": [
              "\n",
              "Call:\n",
              "lm(formula = score ~ shot + sprint, data = heptathlon)\n",
              "\n",
              "Residuals:\n",
              "     Min       1Q   Median       3Q      Max \n",
              "-1094.87  -140.19    51.08   120.99   523.54 \n",
              "\n",
              "Coefficients:\n",
              "            Estimate Std. Error t value Pr(>|t|)    \n",
              "(Intercept)   3181.2      885.6   3.592 0.001621 ** \n",
              "shot           237.1       61.0   3.886 0.000796 ***\n",
              "sprintslow    -312.9      185.8  -1.684 0.106261    \n",
              "---\n",
              "Signif. codes:  0 ‘***’ 0.001 ‘**’ 0.01 ‘*’ 0.05 ‘.’ 0.1 ‘ ’ 1\n",
              "\n",
              "Residual standard error: 335.5 on 22 degrees of freedom\n",
              "Multiple R-squared:  0.6807,\tAdjusted R-squared:  0.6517 \n",
              "F-statistic: 23.45 on 2 and 22 DF,  p-value: 3.518e-06\n"
            ]
          },
          "metadata": {}
        }
      ]
    },
    {
      "cell_type": "markdown",
      "source": [
        "`pred_score = B0hat + B1hat * shot + B2hat * sprintslow`\n",
        "\n"
      ],
      "metadata": {
        "id": "6SAS_xvzD4_q"
      }
    },
    {
      "cell_type": "markdown",
      "source": [
        "**Is there a linear relationship between score and shot?**\n",
        "\n",
        "This is dertermined using the predictor's p-value.\n",
        "\n",
        "### Population model:\n",
        "\n",
        "`score = B0 + B1 * Shot + B2 * sprintslow + E`\n",
        "\n",
        "**`H0`: There is no linear relation between the response (score) and predictor (shot) in population model.**\n",
        "\n",
        "It asks: Can B1 be 0 but just by chance showed up as 237.1 in our dataset?\n",
        "\n",
        "----\n",
        "\n",
        "**`H1`: There is a linear relationship between the response and the predictor.**\n",
        "\n",
        "B1 != 0\n",
        "\n",
        "\n",
        "------------\n",
        "------------\n",
        "\n",
        "- B1 is a fixed population parameter.\n",
        "\n",
        "- B1hat us an estimate from a specific dataset.\n",
        "\n",
        "estimator B1hat:\n",
        "- estimate from dataset 1\n",
        "- estimate from dataset 2\n",
        "  .\n",
        "  .\n",
        "  .\n",
        "- estinate from dataset n\n",
        "\n",
        "\n",
        "T-statistics that comes from the dataset\n",
        "\n",
        "`= (B1hat - E[B1hat]) / SE[B1hat]`\n",
        "\n",
        "------------\n",
        "------------\n",
        "\n",
        "Assuming H0 is True:\n",
        "\n",
        "T = (B1hat - 0) / SE [B1hat]"
      ],
      "metadata": {
        "id": "OaRyQ-BuEkh0"
      }
    },
    {
      "cell_type": "code",
      "source": [
        " t_value = 237.1 / 61\n",
        " t_value"
      ],
      "metadata": {
        "colab": {
          "base_uri": "https://localhost:8080/",
          "height": 34
        },
        "id": "UvnDWgbK_fMZ",
        "outputId": "1c552558-f80c-4848-ac6d-867bee8d8cc3"
      },
      "execution_count": 38,
      "outputs": [
        {
          "output_type": "display_data",
          "data": {
            "text/html": [
              "3.88688524590164"
            ],
            "text/markdown": "3.88688524590164",
            "text/latex": "3.88688524590164",
            "text/plain": [
              "[1] 3.886885"
            ]
          },
          "metadata": {}
        }
      ]
    },
    {
      "cell_type": "markdown",
      "source": [
        "**Can B1 be 0 but just by chance showed up as 237.1 in our dataset?**\n",
        "\n",
        "We calcualte a p-value (probability)\n",
        "\n",
        "`p(T > 3.888 | H0 si True)`\n",
        "\n",
        "`approx = 0.000796`\n",
        "\n",
        "It is a very small probabilty and tehrefore we reject the null-hypothesis and accept the H1. That, there is a linear relationship between `score` and `shot`.\n",
        "\n",
        "*A typical cutoff for p-value (False-Positive value (or) just by chance probability we are willing to accept) is 5% or 10%.*"
      ],
      "metadata": {
        "id": "1yM9sN-cJI1P"
      }
    }
  ]
}