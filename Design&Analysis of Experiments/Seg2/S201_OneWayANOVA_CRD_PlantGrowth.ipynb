{
  "nbformat": 4,
  "nbformat_minor": 0,
  "metadata": {
    "colab": {
      "provenance": []
    },
    "kernelspec": {
      "name": "ir",
      "display_name": "R"
    },
    "language_info": {
      "name": "R"
    }
  },
  "cells": [
    {
      "cell_type": "markdown",
      "source": [
        "We’ll use the built-in R data set named \"PlantGrowth\".\n",
        "\n",
        "It contains the weight of plants obtained under a control and two  different treatment conditions.\n",
        "\n",
        "## Objective:\n",
        "We want to see if the average weights of the plants in the 3 experimental circumstances vary significantly."
      ],
      "metadata": {
        "id": "xIY7K1LS5owb"
      }
    },
    {
      "cell_type": "code",
      "source": [
        "install.packages(c(\"dplyr\", \"ggplot2\", \"datasets\", \"ggpubr\"))\n",
        "library(dplyr)\n",
        "library(ggplot2)\n",
        "library(datasets)\n",
        "library(ggpubr)"
      ],
      "metadata": {
        "colab": {
          "base_uri": "https://localhost:8080/"
        },
        "id": "ljaiH6EV5TEG",
        "outputId": "4f769fc9-e3e1-4ab5-cdac-7d37297621fc"
      },
      "execution_count": 15,
      "outputs": [
        {
          "output_type": "stream",
          "name": "stderr",
          "text": [
            "Installing packages into ‘/usr/local/lib/R/site-library’\n",
            "(as ‘lib’ is unspecified)\n",
            "\n",
            "Warning message:\n",
            "“package ‘datasets’ is a base package, and should not be updated”\n",
            "also installing the dependencies ‘Deriv’, ‘microbenchmark’, ‘numDeriv’, ‘doBy’, ‘SparseM’, ‘MatrixModels’, ‘minqa’, ‘nloptr’, ‘RcppEigen’, ‘carData’, ‘abind’, ‘Formula’, ‘pbkrtest’, ‘quantreg’, ‘lme4’, ‘corrplot’, ‘car’, ‘ggrepel’, ‘ggsci’, ‘cowplot’, ‘ggsignif’, ‘gridExtra’, ‘polynom’, ‘rstatix’\n",
            "\n",
            "\n"
          ]
        }
      ]
    },
    {
      "cell_type": "code",
      "source": [
        "data = PlantGrowth"
      ],
      "metadata": {
        "id": "R-tkEXi25THO"
      },
      "execution_count": 9,
      "outputs": []
    },
    {
      "cell_type": "markdown",
      "source": [
        "# **EDA**\n",
        "\n",
        "To have an idea of what the data look like, we use the the function sample_n()[in dplyr package].\n",
        "\n",
        "- The sample_n() function randomly picks a few of the observations in the data frame to print out"
      ],
      "metadata": {
        "id": "YNMHTLd_95M2"
      }
    },
    {
      "cell_type": "code",
      "source": [
        "summary(data)"
      ],
      "metadata": {
        "colab": {
          "base_uri": "https://localhost:8080/",
          "height": 139
        },
        "id": "2fwfYkrj5TJ-",
        "outputId": "31757279-9a4d-4fc1-a8f6-d8fb4c958feb"
      },
      "execution_count": 4,
      "outputs": [
        {
          "output_type": "display_data",
          "data": {
            "text/plain": [
              "     weight       group   \n",
              " Min.   :3.590   ctrl:10  \n",
              " 1st Qu.:4.550   trt1:10  \n",
              " Median :5.155   trt2:10  \n",
              " Mean   :5.073            \n",
              " 3rd Qu.:5.530            \n",
              " Max.   :6.310            "
            ]
          },
          "metadata": {}
        }
      ]
    },
    {
      "cell_type": "code",
      "source": [
        "# showing a random sample\n",
        "set.seed(123)\n",
        "dplyr::sample_n(data, 10)"
      ],
      "metadata": {
        "colab": {
          "base_uri": "https://localhost:8080/",
          "height": 429
        },
        "id": "LvqXfCZ75TMl",
        "outputId": "e5ad4843-9415-401d-d46b-916bb6db73b4"
      },
      "execution_count": 8,
      "outputs": [
        {
          "output_type": "display_data",
          "data": {
            "text/html": [
              "<table class=\"dataframe\">\n",
              "<caption>A data.frame: 10 × 2</caption>\n",
              "<thead>\n",
              "\t<tr><th scope=col>weight</th><th scope=col>group</th></tr>\n",
              "\t<tr><th scope=col>&lt;dbl&gt;</th><th scope=col>&lt;fct&gt;</th></tr>\n",
              "</thead>\n",
              "<tbody>\n",
              "\t<tr><td>5.87</td><td>trt1</td></tr>\n",
              "\t<tr><td>4.32</td><td>trt1</td></tr>\n",
              "\t<tr><td>3.59</td><td>trt1</td></tr>\n",
              "\t<tr><td>5.18</td><td>ctrl</td></tr>\n",
              "\t<tr><td>5.14</td><td>ctrl</td></tr>\n",
              "\t<tr><td>4.89</td><td>trt1</td></tr>\n",
              "\t<tr><td>5.12</td><td>trt2</td></tr>\n",
              "\t<tr><td>4.81</td><td>trt1</td></tr>\n",
              "\t<tr><td>4.50</td><td>ctrl</td></tr>\n",
              "\t<tr><td>4.69</td><td>trt1</td></tr>\n",
              "</tbody>\n",
              "</table>\n"
            ],
            "text/markdown": "\nA data.frame: 10 × 2\n\n| weight &lt;dbl&gt; | group &lt;fct&gt; |\n|---|---|\n| 5.87 | trt1 |\n| 4.32 | trt1 |\n| 3.59 | trt1 |\n| 5.18 | ctrl |\n| 5.14 | ctrl |\n| 4.89 | trt1 |\n| 5.12 | trt2 |\n| 4.81 | trt1 |\n| 4.50 | ctrl |\n| 4.69 | trt1 |\n\n",
            "text/latex": "A data.frame: 10 × 2\n\\begin{tabular}{ll}\n weight & group\\\\\n <dbl> & <fct>\\\\\n\\hline\n\t 5.87 & trt1\\\\\n\t 4.32 & trt1\\\\\n\t 3.59 & trt1\\\\\n\t 5.18 & ctrl\\\\\n\t 5.14 & ctrl\\\\\n\t 4.89 & trt1\\\\\n\t 5.12 & trt2\\\\\n\t 4.81 & trt1\\\\\n\t 4.50 & ctrl\\\\\n\t 4.69 & trt1\\\\\n\\end{tabular}\n",
            "text/plain": [
              "   weight group\n",
              "1  5.87   trt1 \n",
              "2  4.32   trt1 \n",
              "3  3.59   trt1 \n",
              "4  5.18   ctrl \n",
              "5  5.14   ctrl \n",
              "6  4.89   trt1 \n",
              "7  5.12   trt2 \n",
              "8  4.81   trt1 \n",
              "9  4.50   ctrl \n",
              "10 4.69   trt1 "
            ]
          },
          "metadata": {}
        }
      ]
    },
    {
      "cell_type": "code",
      "source": [
        "str(data)"
      ],
      "metadata": {
        "colab": {
          "base_uri": "https://localhost:8080/"
        },
        "id": "Tr_MMe3i5TPF",
        "outputId": "7a357ed3-2d40-42f7-fbb8-47211c1f9184"
      },
      "execution_count": 10,
      "outputs": [
        {
          "output_type": "stream",
          "name": "stdout",
          "text": [
            "'data.frame':\t30 obs. of  2 variables:\n",
            " $ weight: num  4.17 5.58 5.18 6.11 4.5 4.61 5.17 4.53 5.33 5.14 ...\n",
            " $ group : Factor w/ 3 levels \"ctrl\",\"trt1\",..: 1 1 1 1 1 1 1 1 1 1 ...\n"
          ]
        }
      ]
    },
    {
      "cell_type": "code",
      "source": [
        "# Checking the levels\n",
        "levels(data$group)"
      ],
      "metadata": {
        "colab": {
          "base_uri": "https://localhost:8080/",
          "height": 34
        },
        "id": "Km7_6F0O5TRl",
        "outputId": "4fdac47a-f047-4574-d889-1dd343c3244b"
      },
      "execution_count": 13,
      "outputs": [
        {
          "output_type": "display_data",
          "data": {
            "text/html": [
              "<style>\n",
              ".list-inline {list-style: none; margin:0; padding: 0}\n",
              ".list-inline>li {display: inline-block}\n",
              ".list-inline>li:not(:last-child)::after {content: \"\\00b7\"; padding: 0 .5ex}\n",
              "</style>\n",
              "<ol class=list-inline><li>'ctrl'</li><li>'trt1'</li><li>'trt2'</li></ol>\n"
            ],
            "text/markdown": "1. 'ctrl'\n2. 'trt1'\n3. 'trt2'\n\n\n",
            "text/latex": "\\begin{enumerate*}\n\\item 'ctrl'\n\\item 'trt1'\n\\item 'trt2'\n\\end{enumerate*}\n",
            "text/plain": [
              "[1] \"ctrl\" \"trt1\" \"trt2\""
            ]
          },
          "metadata": {}
        }
      ]
    },
    {
      "cell_type": "code",
      "source": [
        "# If the levels are not in the correct order automatically,\n",
        "# we can reorder them as follows:\n",
        "\n",
        "data$group = ordered(data$group, levels = c(\"ctrl\", \"trt1\", \"trt2\"))"
      ],
      "metadata": {
        "id": "iBSMS6ic5TUG"
      },
      "execution_count": 12,
      "outputs": []
    },
    {
      "cell_type": "markdown",
      "source": [
        "### The dplyr package can be used to compute summary statistics by groups"
      ],
      "metadata": {
        "id": "a25Wzd05-4XA"
      }
    },
    {
      "cell_type": "code",
      "source": [
        "group_by(data, group) %>%\n",
        "summarise(\n",
        "  count = n(),\n",
        "  mean = mean(weight, na.rm = TRUE),\n",
        "  sd = sd(weight, na.rm = TRUE)\n",
        ")"
      ],
      "metadata": {
        "colab": {
          "base_uri": "https://localhost:8080/",
          "height": 192
        },
        "id": "Kfr_nqgb5TWf",
        "outputId": "b3d63696-f063-4818-f7bb-e1201969571f"
      },
      "execution_count": 14,
      "outputs": [
        {
          "output_type": "display_data",
          "data": {
            "text/html": [
              "<table class=\"dataframe\">\n",
              "<caption>A tibble: 3 × 4</caption>\n",
              "<thead>\n",
              "\t<tr><th scope=col>group</th><th scope=col>count</th><th scope=col>mean</th><th scope=col>sd</th></tr>\n",
              "\t<tr><th scope=col>&lt;ord&gt;</th><th scope=col>&lt;int&gt;</th><th scope=col>&lt;dbl&gt;</th><th scope=col>&lt;dbl&gt;</th></tr>\n",
              "</thead>\n",
              "<tbody>\n",
              "\t<tr><td>ctrl</td><td>10</td><td>5.032</td><td>0.5830914</td></tr>\n",
              "\t<tr><td>trt1</td><td>10</td><td>4.661</td><td>0.7936757</td></tr>\n",
              "\t<tr><td>trt2</td><td>10</td><td>5.526</td><td>0.4425733</td></tr>\n",
              "</tbody>\n",
              "</table>\n"
            ],
            "text/markdown": "\nA tibble: 3 × 4\n\n| group &lt;ord&gt; | count &lt;int&gt; | mean &lt;dbl&gt; | sd &lt;dbl&gt; |\n|---|---|---|---|\n| ctrl | 10 | 5.032 | 0.5830914 |\n| trt1 | 10 | 4.661 | 0.7936757 |\n| trt2 | 10 | 5.526 | 0.4425733 |\n\n",
            "text/latex": "A tibble: 3 × 4\n\\begin{tabular}{llll}\n group & count & mean & sd\\\\\n <ord> & <int> & <dbl> & <dbl>\\\\\n\\hline\n\t ctrl & 10 & 5.032 & 0.5830914\\\\\n\t trt1 & 10 & 4.661 & 0.7936757\\\\\n\t trt2 & 10 & 5.526 & 0.4425733\\\\\n\\end{tabular}\n",
            "text/plain": [
              "  group count mean  sd       \n",
              "1 ctrl  10    5.032 0.5830914\n",
              "2 trt1  10    4.661 0.7936757\n",
              "3 trt2  10    5.526 0.4425733"
            ]
          },
          "metadata": {}
        }
      ]
    },
    {
      "cell_type": "code",
      "source": [
        "#Visualizing our data using ggpubr R package\n",
        "ggboxplot(data, x = \"group\", y = \"weight\",\n",
        "          color = \"group\", palette = c(\"#00AFBB\", \"#E7B800\", \"#FC4E07\"),\n",
        "          order = c(\"ctrl\", \"trt1\", \"trt2\"),\n",
        "          ylab = \"Weight\", xlab = \"Treatment\")"
      ],
      "metadata": {
        "colab": {
          "base_uri": "https://localhost:8080/",
          "height": 437
        },
        "id": "V_-ewi3D_Etp",
        "outputId": "01e899c8-42c5-42dc-a347-29b6bbd198b0"
      },
      "execution_count": 16,
      "outputs": [
        {
          "output_type": "display_data",
          "data": {
            "text/plain": [
              "plot without title"
            ],
            "image/png": "[encoded data removed]"
          },
          "metadata": {
            "image/png": {
              "width": 420,
              "height": 420
            }
          }
        }
      ]
    },
    {
      "cell_type": "code",
      "source": [
        "#Adding an error bars: mean_se\n",
        "library(\"ggpubr\")\n",
        "ggline(data, x = \"group\", y = \"weight\",\n",
        "       add = c(\"mean_se\", \"jitter\"),\n",
        "       order = c(\"ctrl\", \"trt1\", \"trt2\"),\n",
        "       ylab = \"Weight\", xlab = \"Treatment\")"
      ],
      "metadata": {
        "colab": {
          "base_uri": "https://localhost:8080/",
          "height": 437
        },
        "id": "avNwr9jk_EwR",
        "outputId": "342bd75e-9f2f-4b6f-8f77-7f19f02835bb"
      },
      "execution_count": 17,
      "outputs": [
        {
          "output_type": "display_data",
          "data": {
            "text/plain": [
              "plot without title"
            ],
            "image/png": "[encoded data removed]"
          },
          "metadata": {
            "image/png": {
              "width": 420,
              "height": 420
            }
          }
        }
      ]
    },
    {
      "cell_type": "markdown",
      "source": [
        "We want to see if the average weights of the plants in the 3 experimental circumstances vary significantly.\n",
        "\n",
        "## **Setting up Null Hypothesis and Alternate Hypothesis**\n",
        "\n",
        "`H0 = mu0 = mu01 = mu02 `\n",
        "\n",
        "(There is no difference between the average weights of the plants in the three experimental groups)\n",
        "\n",
        "`H1 = Not all means are equal.`\n",
        "\n",
        "# **Performing an analysis of variance (ANOVA)**"
      ],
      "metadata": {
        "id": "taMEGyh__3PT"
      }
    },
    {
      "cell_type": "code",
      "source": [
        "res.aov = aov(weight ~ group, data = data)\n",
        "summary(res.aov)"
      ],
      "metadata": {
        "colab": {
          "base_uri": "https://localhost:8080/",
          "height": 104
        },
        "id": "KlU1XLAY_Eyx",
        "outputId": "12234485-5865-4d80-a126-a8c5fb7b3e82"
      },
      "execution_count": 18,
      "outputs": [
        {
          "output_type": "display_data",
          "data": {
            "text/plain": [
              "            Df Sum Sq Mean Sq F value Pr(>F)  \n",
              "group        2  3.766  1.8832   4.846 0.0159 *\n",
              "Residuals   27 10.492  0.3886                 \n",
              "---\n",
              "Signif. codes:  0 ‘***’ 0.001 ‘**’ 0.01 ‘*’ 0.05 ‘.’ 0.1 ‘ ’ 1"
            ]
          },
          "metadata": {}
        }
      ]
    },
    {
      "cell_type": "markdown",
      "source": [
        "Here, in the above model summary because the `p-value` is less than the significance level of `0.05`\n",
        "- We can conclude that **there are significant differences between the groups**\n",
        "\n",
        "------\n",
        "\n",
        "# **Multiple pairwise-comparison between the means of groups**\n",
        "\n",
        "In one-way ANOVA test, a significant p-value indicates that some of the group means are different, but we don’t know which pairs of groups are different.\n",
        "\n",
        "Therefore, it’s possible to perform multiple pairwise-comparison, to determine if the mean difference between specific pairs of group are statistically significant.\n",
        "\n",
        "# **Tukey multiple pairwise-comparisons**\n",
        "### The function TukeyHSD() takes the fitted ANOVA as an argument:\n"
      ],
      "metadata": {
        "id": "-YbFcu1sBQ2D"
      }
    },
    {
      "cell_type": "code",
      "source": [
        "TukeyHSD(res.aov)"
      ],
      "metadata": {
        "colab": {
          "base_uri": "https://localhost:8080/",
          "height": 191
        },
        "id": "qX4FUDrR_E2O",
        "outputId": "056f8c07-a27f-4057-d485-6f2629a02d66"
      },
      "execution_count": 19,
      "outputs": [
        {
          "output_type": "display_data",
          "data": {
            "text/plain": [
              "  Tukey multiple comparisons of means\n",
              "    95% family-wise confidence level\n",
              "\n",
              "Fit: aov(formula = weight ~ group, data = data)\n",
              "\n",
              "$group\n",
              "            diff        lwr       upr     p adj\n",
              "trt1-ctrl -0.371 -1.0622161 0.3202161 0.3908711\n",
              "trt2-ctrl  0.494 -0.1972161 1.1852161 0.1979960\n",
              "trt2-trt1  0.865  0.1737839 1.5562161 0.0120064\n"
            ]
          },
          "metadata": {}
        }
      ]
    },
    {
      "cell_type": "markdown",
      "source": [
        "Here, we get:\n",
        "- `diff`: difference between means of the two groups\n",
        "- `lwr, upr`: the lower and the upper end point of the confidence interval at 95% (default)\n",
        "- `p adj`: p-value after adjustment for the multiple comparisons.\n",
        "\n",
        "We can see that only the difference between `trt2` and `trt1` is significant,\n",
        "as shown by the output, with an adjusted p-value of 0.012.\n",
        "\n",
        "--------\n",
        "\n",
        "# **Checking ANOVA assumptions:** test validity?\n",
        "\n",
        "The ANOVA test assumes that,\n",
        "- the data are normally distributed\n",
        "- the variance across groups are homogeneous.\n",
        "\n",
        "We can check that with some diagnostic plots:\n",
        "\n",
        "Checking ANOVA assumptions:\n",
        "# 1. **Homogeneity of variances**"
      ],
      "metadata": {
        "id": "iWF63UmpCdEF"
      }
    },
    {
      "cell_type": "code",
      "source": [
        "plot(res.aov, 1)"
      ],
      "metadata": {
        "colab": {
          "base_uri": "https://localhost:8080/",
          "height": 437
        },
        "id": "XlhKkIl0CSh-",
        "outputId": "1fb421ad-d6df-4d36-f673-73f5bdf31656"
      },
      "execution_count": 20,
      "outputs": [
        {
          "output_type": "display_data",
          "data": {
            "text/plain": [
              "Plot with title “”"
            ],
            "image/png": "[encoded data removed]"
          },
          "metadata": {
            "image/png": {
              "width": 420,
              "height": 420
            }
          }
        }
      ]
    },
    {
      "cell_type": "markdown",
      "source": [
        "We can see that **there are no clear correlations between residuals and fitted values** (the mean of each group) in the plot below, which is good.\n",
        "\n",
        "As a result, we can assume that the variances are homogeneous.\n",
        "\n",
        "ANOVA (one-way) Outliers are discovered in R Points 17, 15, 4, which can have a significant impact on normality and homogeneity of variance\n",
        "\n",
        "#Statistical Test\n",
        "\n",
        "Levene’s test is recommended since it is less sensitive to deviations from normal distribution.\n",
        "\n",
        "The leveneTest() (car package) will be used:"
      ],
      "metadata": {
        "id": "JGg72FoKDdTM"
      }
    },
    {
      "cell_type": "code",
      "source": [
        "install.packages(\"car\")\n",
        "library(car)"
      ],
      "metadata": {
        "colab": {
          "base_uri": "https://localhost:8080/"
        },
        "id": "VbdIUlXjCSkd",
        "outputId": "04f1ad7e-bc1f-4b80-f69b-5048fdcc5295"
      },
      "execution_count": 22,
      "outputs": [
        {
          "output_type": "stream",
          "name": "stderr",
          "text": [
            "Installing package into ‘/usr/local/lib/R/site-library’\n",
            "(as ‘lib’ is unspecified)\n",
            "\n"
          ]
        }
      ]
    },
    {
      "cell_type": "code",
      "source": [
        "leveneTest(weight ~ group, data = data)"
      ],
      "metadata": {
        "colab": {
          "base_uri": "https://localhost:8080/",
          "height": 161
        },
        "id": "AH7CFrS4EPJF",
        "outputId": "ff218acc-b5bb-4015-c54c-2df1546cac7f"
      },
      "execution_count": 23,
      "outputs": [
        {
          "output_type": "display_data",
          "data": {
            "text/html": [
              "<table class=\"dataframe\">\n",
              "<caption>A anova: 2 × 3</caption>\n",
              "<thead>\n",
              "\t<tr><th></th><th scope=col>Df</th><th scope=col>F value</th><th scope=col>Pr(&gt;F)</th></tr>\n",
              "\t<tr><th></th><th scope=col>&lt;int&gt;</th><th scope=col>&lt;dbl&gt;</th><th scope=col>&lt;dbl&gt;</th></tr>\n",
              "</thead>\n",
              "<tbody>\n",
              "\t<tr><th scope=row>group</th><td> 2</td><td>1.119186</td><td>0.3412266</td></tr>\n",
              "\t<tr><th scope=row> </th><td>27</td><td>      NA</td><td>       NA</td></tr>\n",
              "</tbody>\n",
              "</table>\n"
            ],
            "text/markdown": "\nA anova: 2 × 3\n\n| <!--/--> | Df &lt;int&gt; | F value &lt;dbl&gt; | Pr(&gt;F) &lt;dbl&gt; |\n|---|---|---|---|\n| group |  2 | 1.119186 | 0.3412266 |\n| <!----> | 27 |       NA |        NA |\n\n",
            "text/latex": "A anova: 2 × 3\n\\begin{tabular}{r|lll}\n  & Df & F value & Pr(>F)\\\\\n  & <int> & <dbl> & <dbl>\\\\\n\\hline\n\tgroup &  2 & 1.119186 & 0.3412266\\\\\n\t  & 27 &       NA &        NA\\\\\n\\end{tabular}\n",
            "text/plain": [
              "      Df F value  Pr(>F)   \n",
              "group  2 1.119186 0.3412266\n",
              "      27       NA        NA"
            ]
          },
          "metadata": {}
        }
      ]
    },
    {
      "cell_type": "markdown",
      "source": [
        "Here, the `p-value `indicates that there is no indication that the variance across groups is statistically significant. Therefore, we can infer that the variations in the different treatment groups are homogeneous.\n",
        "\n",
        "(**Note:** But In a circumstance where the homogeneity of variance assumption is violated the `Welch one-way test` can be used.)\n",
        "\n",
        "----------\n",
        "\n",
        "#2: **Normality**"
      ],
      "metadata": {
        "id": "bdTk0gOXEQ6c"
      }
    },
    {
      "cell_type": "code",
      "source": [
        "plot(res.aov, 2)"
      ],
      "metadata": {
        "colab": {
          "base_uri": "https://localhost:8080/",
          "height": 437
        },
        "id": "iMkv3sVLEPSN",
        "outputId": "5a2790a4-4ce9-4bd5-8020-6928aa845c4c"
      },
      "execution_count": 24,
      "outputs": [
        {
          "output_type": "display_data",
          "data": {
            "text/plain": [
              "Plot with title “”"
            ],
            "image/png": "[encoded data removed]"
          },
          "metadata": {
            "image/png": {
              "width": 420,
              "height": 420
            }
          }
        }
      ]
    },
    {
      "cell_type": "markdown",
      "source": [
        "We can infer normality because all of the points lie roughly along this reference line.\n",
        "\n",
        "### Shapiro-Wilk normality test"
      ],
      "metadata": {
        "id": "FJbJgY11FL1e"
      }
    },
    {
      "cell_type": "code",
      "source": [
        "aov_residuals = residuals(object = res.aov)\n",
        "shapiro.test(x = aov_residuals)"
      ],
      "metadata": {
        "colab": {
          "base_uri": "https://localhost:8080/",
          "height": 104
        },
        "id": "U0_IJ9IaCSm-",
        "outputId": "4ccc8a3a-31b2-4c9e-de65-b5753e35feab"
      },
      "execution_count": 25,
      "outputs": [
        {
          "output_type": "display_data",
          "data": {
            "text/plain": [
              "\n",
              "\tShapiro-Wilk normality test\n",
              "\n",
              "data:  aov_residuals\n",
              "W = 0.96607, p-value = 0.4379\n"
            ]
          },
          "metadata": {}
        }
      ]
    },
    {
      "cell_type": "markdown",
      "source": [
        "The Shapiro-Wilk test on the ANOVA residual finds no evidence of normality violation.\n",
        "\n",
        "------\n",
        "\n",
        "#### **The `Kruskal-Wallis` rank-sum test is a non-parametric alternative to one-way ANOVA that can be employed when the ANOVA assumptions are not met.**"
      ],
      "metadata": {
        "id": "J4-j_ht1FkYs"
      }
    },
    {
      "cell_type": "code",
      "source": [
        "kruskal.test(weight ~ group, data = data)"
      ],
      "metadata": {
        "colab": {
          "base_uri": "https://localhost:8080/",
          "height": 104
        },
        "id": "GjhlaBmpCSpe",
        "outputId": "09011e1b-e900-4574-c04b-8402747b25db"
      },
      "execution_count": 27,
      "outputs": [
        {
          "output_type": "display_data",
          "data": {
            "text/plain": [
              "\n",
              "\tKruskal-Wallis rank sum test\n",
              "\n",
              "data:  weight by group\n",
              "Kruskal-Wallis chi-squared = 7.9882, df = 2, p-value = 0.01842\n"
            ]
          },
          "metadata": {}
        }
      ]
    },
    {
      "cell_type": "markdown",
      "source": [
        "As seen above, the `p-value` is less than the significance level of `0.05`\n",
        "- We can again conclude that **there are significant differences between the groups.**"
      ],
      "metadata": {
        "id": "QUTq-CwHGUQ3"
      }
    }
  ]
}