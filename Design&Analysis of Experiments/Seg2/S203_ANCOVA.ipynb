{
  "nbformat": 4,
  "nbformat_minor": 0,
  "metadata": {
    "colab": {
      "provenance": []
    },
    "kernelspec": {
      "name": "ir",
      "display_name": "R"
    },
    "language_info": {
      "name": "R"
    }
  },
  "cells": [
    {
      "cell_type": "markdown",
      "source": [
        "### Researchers investigated the effect of exercises in reducing the level of anxiety.\n",
        "\n",
        "Therefore, they conducted an experiment, where they measured the anxiety score of `3 groups of individuals` practicing physical exercises at different levels:(`grp1: low, grp2: moderate and grp3: high`).\n",
        "\n",
        "The anxiety score was measured` pre- and 6-months post-exercise training` programs. It is expected that any reduction in the anxiety by the exercises programs would also depend on the participant’s basal level of anxiety score.\n",
        "\n",
        "### **Objective**\n",
        "\n",
        "In this analysis, we use the \"`pretest anxiety score`\" as the covariate and are interested in possible differences between group with respect to the post-test anxiety scores.\n"
      ],
      "metadata": {
        "id": "fc9K1I3E7KQ-"
      }
    },
    {
      "cell_type": "code",
      "source": [
        "install.packages(c(\"tidyverse\", \"ggplot2\", \"ggpubr\", \"rstatix\", \"broom\", \"datarium\"))\n",
        "library(tidyverse)\n",
        "library(ggplot2)\n",
        "library(ggpubr)\n",
        "library(rstatix) #rstatix for easy pipe-friendly statistical analyses\n",
        "library(broom) #broom for printing a nice summary of statistical tests as data frames\n",
        "library(datarium) #datarium: contains required datasets"
      ],
      "metadata": {
        "colab": {
          "base_uri": "https://localhost:8080/"
        },
        "id": "DRaneZE9AGgw",
        "outputId": "8e621a9a-6e64-4284-9363-87dee4849cca"
      },
      "execution_count": null,
      "outputs": [
        {
          "output_type": "stream",
          "name": "stderr",
          "text": [
            "Installing packages into ‘/usr/local/lib/R/site-library’\n",
            "(as ‘lib’ is unspecified)\n",
            "\n",
            "also installing the dependencies ‘Deriv’, ‘microbenchmark’, ‘numDeriv’, ‘doBy’, ‘SparseM’, ‘MatrixModels’, ‘minqa’, ‘nloptr’, ‘RcppEigen’, ‘carData’, ‘abind’, ‘Formula’, ‘pbkrtest’, ‘quantreg’, ‘lme4’, ‘ggrepel’, ‘ggsci’, ‘cowplot’, ‘ggsignif’, ‘gridExtra’, ‘polynom’, ‘corrplot’, ‘car’\n",
            "\n",
            "\n",
            "── \u001b[1mAttaching core tidyverse packages\u001b[22m ──────────────────────── tidyverse 2.0.0 ──\n",
            "\u001b[32m✔\u001b[39m \u001b[34mdplyr    \u001b[39m 1.1.4     \u001b[32m✔\u001b[39m \u001b[34mreadr    \u001b[39m 2.1.5\n",
            "\u001b[32m✔\u001b[39m \u001b[34mforcats  \u001b[39m 1.0.0     \u001b[32m✔\u001b[39m \u001b[34mstringr  \u001b[39m 1.5.1\n",
            "\u001b[32m✔\u001b[39m \u001b[34mggplot2  \u001b[39m 3.5.1     \u001b[32m✔\u001b[39m \u001b[34mtibble   \u001b[39m 3.2.1\n",
            "\u001b[32m✔\u001b[39m \u001b[34mlubridate\u001b[39m 1.9.4     \u001b[32m✔\u001b[39m \u001b[34mtidyr    \u001b[39m 1.3.1\n",
            "\u001b[32m✔\u001b[39m \u001b[34mpurrr    \u001b[39m 1.0.2     \n",
            "── \u001b[1mConflicts\u001b[22m ────────────────────────────────────────── tidyverse_conflicts() ──\n",
            "\u001b[31m✖\u001b[39m \u001b[34mdplyr\u001b[39m::\u001b[32mfilter()\u001b[39m masks \u001b[34mstats\u001b[39m::filter()\n",
            "\u001b[31m✖\u001b[39m \u001b[34mdplyr\u001b[39m::\u001b[32mlag()\u001b[39m    masks \u001b[34mstats\u001b[39m::lag()\n",
            "\u001b[36mℹ\u001b[39m Use the conflicted package (\u001b[3m\u001b[34m<http://conflicted.r-lib.org/>\u001b[39m\u001b[23m) to force all conflicts to become errors\n",
            "\n",
            "Attaching package: ‘rstatix’\n",
            "\n",
            "\n",
            "The following object is masked from ‘package:stats’:\n",
            "\n",
            "    filter\n",
            "\n",
            "\n"
          ]
        }
      ]
    },
    {
      "cell_type": "code",
      "source": [
        "# Loading and preparing the data\n",
        "data(\"anxiety\", package = \"datarium\")\n",
        "data = anxiety %>% select(id, group, t1, t3) %>% rename(pretest = t1, posttest = t3)\n",
        "data[14, \"posttest\"] = 19"
      ],
      "metadata": {
        "id": "KQpTBhc47Kkp"
      },
      "execution_count": null,
      "outputs": []
    },
    {
      "cell_type": "code",
      "source": [
        "# Inspecting the data by showing one random row by groups\n",
        "set.seed(123)\n",
        "data %>% sample_n_by(group, size = 1)"
      ],
      "metadata": {
        "colab": {
          "base_uri": "https://localhost:8080/",
          "height": 192
        },
        "id": "Voj0ewSc7KpZ",
        "outputId": "4e28e6e9-b468-41bf-eff2-c558a148ac35"
      },
      "execution_count": null,
      "outputs": [
        {
          "output_type": "display_data",
          "data": {
            "text/html": [
              "<table class=\"dataframe\">\n",
              "<caption>A tibble: 3 × 4</caption>\n",
              "<thead>\n",
              "\t<tr><th scope=col>id</th><th scope=col>group</th><th scope=col>pretest</th><th scope=col>posttest</th></tr>\n",
              "\t<tr><th scope=col>&lt;fct&gt;</th><th scope=col>&lt;fct&gt;</th><th scope=col>&lt;dbl&gt;</th><th scope=col>&lt;dbl&gt;</th></tr>\n",
              "</thead>\n",
              "<tbody>\n",
              "\t<tr><td>15</td><td>grp1</td><td>19.8</td><td>19.4</td></tr>\n",
              "\t<tr><td>30</td><td>grp2</td><td>19.3</td><td>17.7</td></tr>\n",
              "\t<tr><td>33</td><td>grp3</td><td>15.5</td><td>11.0</td></tr>\n",
              "</tbody>\n",
              "</table>\n"
            ],
            "text/markdown": "\nA tibble: 3 × 4\n\n| id &lt;fct&gt; | group &lt;fct&gt; | pretest &lt;dbl&gt; | posttest &lt;dbl&gt; |\n|---|---|---|---|\n| 15 | grp1 | 19.8 | 19.4 |\n| 30 | grp2 | 19.3 | 17.7 |\n| 33 | grp3 | 15.5 | 11.0 |\n\n",
            "text/latex": "A tibble: 3 × 4\n\\begin{tabular}{llll}\n id & group & pretest & posttest\\\\\n <fct> & <fct> & <dbl> & <dbl>\\\\\n\\hline\n\t 15 & grp1 & 19.8 & 19.4\\\\\n\t 30 & grp2 & 19.3 & 17.7\\\\\n\t 33 & grp3 & 15.5 & 11.0\\\\\n\\end{tabular}\n",
            "text/plain": [
              "  id group pretest posttest\n",
              "1 15 grp1  19.8    19.4    \n",
              "2 30 grp2  19.3    17.7    \n",
              "3 33 grp3  15.5    11.0    "
            ]
          },
          "metadata": {}
        }
      ]
    },
    {
      "cell_type": "code",
      "source": [
        "str(data)"
      ],
      "metadata": {
        "colab": {
          "base_uri": "https://localhost:8080/"
        },
        "id": "YKrxicVY7KrI",
        "outputId": "48859842-3e45-4c05-8c35-8e754e51a871"
      },
      "execution_count": null,
      "outputs": [
        {
          "output_type": "stream",
          "name": "stdout",
          "text": [
            "tibble [45 × 4] (S3: tbl_df/tbl/data.frame)\n",
            " $ id      : Factor w/ 45 levels \"1\",\"2\",\"3\",\"4\",..: 1 2 3 4 5 6 7 8 9 10 ...\n",
            " $ group   : Factor w/ 3 levels \"grp1\",\"grp2\",..: 1 1 1 1 1 1 1 1 1 1 ...\n",
            " $ pretest : num [1:45] 14.1 14.5 15.7 16 16.5 16.9 17 17 17.3 17.3 ...\n",
            " $ posttest: num [1:45] 14.1 14.3 14.9 15.3 15.7 16.2 16.5 16.6 16.5 16.7 ...\n"
          ]
        }
      ]
    },
    {
      "cell_type": "markdown",
      "source": [
        "Checking the linearity between the covariate and the outcome variable at each level of the grouping variables using `library(ggpubr)`."
      ],
      "metadata": {
        "id": "o31JC-V1P_ee"
      }
    },
    {
      "cell_type": "code",
      "source": [
        "ggscatter(\n",
        "  data, x = \"pretest\", y = \"posttest\",\n",
        "  color = \"group\", add = \"reg.line\"\n",
        ")+\n",
        "  stat_regline_equation(\n",
        "    aes(label =  paste(..eq.label.., ..rr.label.., sep = \"~~~~\"), color = group)\n",
        "  )"
      ],
      "metadata": {
        "colab": {
          "base_uri": "https://localhost:8080/",
          "height": 437
        },
        "id": "WH_pQRdS7Ku9",
        "outputId": "805b831d-e5e8-4e92-8963-691246c141df"
      },
      "execution_count": null,
      "outputs": [
        {
          "output_type": "display_data",
          "data": {
            "text/plain": [
              "plot without title"
            ],
            "image/png": "[encoded data removed]"
          },
          "metadata": {
            "image/png": {
              "width": 420,
              "height": 420
            }
          }
        }
      ]
    },
    {
      "cell_type": "markdown",
      "source": [
        "From above plot we say see that there is a linear relationship between `pre-test` and `post-test` anxiety score for each training group, as assessed by visual inspection of a scatter plot.\n",
        "\n",
        "-----\n",
        "\n",
        "### **Homogeneity of regression slopes**:\n",
        "\n",
        "The slopes of the regression lines, formed by the covariate and the outcome variable, should be the same for each group.\n"
      ],
      "metadata": {
        "id": "yPOPkHdMQbHQ"
      }
    },
    {
      "cell_type": "code",
      "source": [
        "data %>% anova_test(posttest ~ group*pretest)"
      ],
      "metadata": {
        "colab": {
          "base_uri": "https://localhost:8080/",
          "height": 192
        },
        "id": "zfTSMDKA7KwT",
        "outputId": "6e0d388a-ab22-49ed-9ed9-a5ba2c8dc957"
      },
      "execution_count": null,
      "outputs": [
        {
          "output_type": "display_data",
          "data": {
            "text/html": [
              "<table class=\"dataframe\">\n",
              "<caption>A anova_test: 3 × 7</caption>\n",
              "<thead>\n",
              "\t<tr><th></th><th scope=col>Effect</th><th scope=col>DFn</th><th scope=col>DFd</th><th scope=col>F</th><th scope=col>p</th><th scope=col>p&lt;.05</th><th scope=col>ges</th></tr>\n",
              "\t<tr><th></th><th scope=col>&lt;chr&gt;</th><th scope=col>&lt;dbl&gt;</th><th scope=col>&lt;dbl&gt;</th><th scope=col>&lt;dbl&gt;</th><th scope=col>&lt;dbl&gt;</th><th scope=col>&lt;chr&gt;</th><th scope=col>&lt;dbl&gt;</th></tr>\n",
              "</thead>\n",
              "<tbody>\n",
              "\t<tr><th scope=row>1</th><td>group        </td><td>2</td><td>39</td><td>209.314</td><td>1.40e-21</td><td>*</td><td>0.915</td></tr>\n",
              "\t<tr><th scope=row>2</th><td>pretest      </td><td>1</td><td>39</td><td>572.828</td><td>6.36e-25</td><td>*</td><td>0.936</td></tr>\n",
              "\t<tr><th scope=row>3</th><td>group:pretest</td><td>2</td><td>39</td><td>  0.127</td><td>8.81e-01</td><td> </td><td>0.006</td></tr>\n",
              "</tbody>\n",
              "</table>\n"
            ],
            "text/markdown": "\nA anova_test: 3 × 7\n\n| <!--/--> | Effect &lt;chr&gt; | DFn &lt;dbl&gt; | DFd &lt;dbl&gt; | F &lt;dbl&gt; | p &lt;dbl&gt; | p&lt;.05 &lt;chr&gt; | ges &lt;dbl&gt; |\n|---|---|---|---|---|---|---|---|\n| 1 | group         | 2 | 39 | 209.314 | 1.40e-21 | * | 0.915 |\n| 2 | pretest       | 1 | 39 | 572.828 | 6.36e-25 | * | 0.936 |\n| 3 | group:pretest | 2 | 39 |   0.127 | 8.81e-01 | <!----> | 0.006 |\n\n",
            "text/latex": "A anova\\_test: 3 × 7\n\\begin{tabular}{r|lllllll}\n  & Effect & DFn & DFd & F & p & p<.05 & ges\\\\\n  & <chr> & <dbl> & <dbl> & <dbl> & <dbl> & <chr> & <dbl>\\\\\n\\hline\n\t1 & group         & 2 & 39 & 209.314 & 1.40e-21 & * & 0.915\\\\\n\t2 & pretest       & 1 & 39 & 572.828 & 6.36e-25 & * & 0.936\\\\\n\t3 & group:pretest & 2 & 39 &   0.127 & 8.81e-01 &   & 0.006\\\\\n\\end{tabular}\n",
            "text/plain": [
              "  Effect        DFn DFd F       p        p<.05 ges  \n",
              "1 group         2   39  209.314 1.40e-21 *     0.915\n",
              "2 pretest       1   39  572.828 6.36e-25 *     0.936\n",
              "3 group:pretest 2   39    0.127 8.81e-01       0.006"
            ]
          },
          "metadata": {}
        }
      ]
    },
    {
      "cell_type": "markdown",
      "source": [
        "As we can see, there is homogeneity of regression slopes as the interaction term was not statistically significant with `F(2, 39) = 0.13, p = 0.88`.\n",
        "\n",
        "## **Shapiro-Wilk test of normality**\n",
        "The outcome variable should be approximately normally distributed. This can be checked using the Shapiro-Wilk test of normality on the model residuals.\n"
      ],
      "metadata": {
        "id": "v8PNXqv5RF93"
      }
    },
    {
      "cell_type": "code",
      "source": [
        "# Fitting the model, the covariate goes first\n",
        "model = lm(posttest ~ pretest + group, data = data)"
      ],
      "metadata": {
        "id": "9yosp0gQ7K0w"
      },
      "execution_count": null,
      "outputs": []
    },
    {
      "cell_type": "code",
      "source": [
        "# Inspecting the model diagnostic metrics\n",
        "model.metrics = augment(model)\n",
        "head(model.metrics, 3)"
      ],
      "metadata": {
        "colab": {
          "base_uri": "https://localhost:8080/",
          "height": 192
        },
        "id": "CJlfUsCC7K2R",
        "outputId": "3f457c9f-9007-4099-d628-9d1329551ed6"
      },
      "execution_count": null,
      "outputs": [
        {
          "output_type": "display_data",
          "data": {
            "text/html": [
              "<table class=\"dataframe\">\n",
              "<caption>A tibble: 3 × 9</caption>\n",
              "<thead>\n",
              "\t<tr><th scope=col>posttest</th><th scope=col>pretest</th><th scope=col>group</th><th scope=col>.fitted</th><th scope=col>.resid</th><th scope=col>.hat</th><th scope=col>.sigma</th><th scope=col>.cooksd</th><th scope=col>.std.resid</th></tr>\n",
              "\t<tr><th scope=col>&lt;dbl&gt;</th><th scope=col>&lt;dbl&gt;</th><th scope=col>&lt;fct&gt;</th><th scope=col>&lt;dbl&gt;</th><th scope=col>&lt;dbl&gt;</th><th scope=col>&lt;dbl&gt;</th><th scope=col>&lt;dbl&gt;</th><th scope=col>&lt;dbl&gt;</th><th scope=col>&lt;dbl&gt;</th></tr>\n",
              "</thead>\n",
              "<tbody>\n",
              "\t<tr><td>14.1</td><td>14.1</td><td>grp1</td><td>13.55044</td><td> 0.5495570</td><td>0.15968984</td><td>0.4056291</td><td>0.10086429</td><td> 1.4570682</td></tr>\n",
              "\t<tr><td>14.3</td><td>14.5</td><td>grp1</td><td>13.96154</td><td> 0.3384556</td><td>0.13644146</td><td>0.4125577</td><td>0.03095139</td><td> 0.8852028</td></tr>\n",
              "\t<tr><td>14.9</td><td>15.7</td><td>grp1</td><td>15.19485</td><td>-0.2948486</td><td>0.08671886</td><td>0.4136912</td><td>0.01334801</td><td>-0.7498662</td></tr>\n",
              "</tbody>\n",
              "</table>\n"
            ],
            "text/markdown": "\nA tibble: 3 × 9\n\n| posttest &lt;dbl&gt; | pretest &lt;dbl&gt; | group &lt;fct&gt; | .fitted &lt;dbl&gt; | .resid &lt;dbl&gt; | .hat &lt;dbl&gt; | .sigma &lt;dbl&gt; | .cooksd &lt;dbl&gt; | .std.resid &lt;dbl&gt; |\n|---|---|---|---|---|---|---|---|---|\n| 14.1 | 14.1 | grp1 | 13.55044 |  0.5495570 | 0.15968984 | 0.4056291 | 0.10086429 |  1.4570682 |\n| 14.3 | 14.5 | grp1 | 13.96154 |  0.3384556 | 0.13644146 | 0.4125577 | 0.03095139 |  0.8852028 |\n| 14.9 | 15.7 | grp1 | 15.19485 | -0.2948486 | 0.08671886 | 0.4136912 | 0.01334801 | -0.7498662 |\n\n",
            "text/latex": "A tibble: 3 × 9\n\\begin{tabular}{lllllllll}\n posttest & pretest & group & .fitted & .resid & .hat & .sigma & .cooksd & .std.resid\\\\\n <dbl> & <dbl> & <fct> & <dbl> & <dbl> & <dbl> & <dbl> & <dbl> & <dbl>\\\\\n\\hline\n\t 14.1 & 14.1 & grp1 & 13.55044 &  0.5495570 & 0.15968984 & 0.4056291 & 0.10086429 &  1.4570682\\\\\n\t 14.3 & 14.5 & grp1 & 13.96154 &  0.3384556 & 0.13644146 & 0.4125577 & 0.03095139 &  0.8852028\\\\\n\t 14.9 & 15.7 & grp1 & 15.19485 & -0.2948486 & 0.08671886 & 0.4136912 & 0.01334801 & -0.7498662\\\\\n\\end{tabular}\n",
            "text/plain": [
              "  posttest pretest group .fitted  .resid     .hat       .sigma    .cooksd   \n",
              "1 14.1     14.1    grp1  13.55044  0.5495570 0.15968984 0.4056291 0.10086429\n",
              "2 14.3     14.5    grp1  13.96154  0.3384556 0.13644146 0.4125577 0.03095139\n",
              "3 14.9     15.7    grp1  15.19485 -0.2948486 0.08671886 0.4136912 0.01334801\n",
              "  .std.resid\n",
              "1  1.4570682\n",
              "2  0.8852028\n",
              "3 -0.7498662"
            ]
          },
          "metadata": {}
        }
      ]
    },
    {
      "cell_type": "code",
      "source": [
        "# Normality of residuals using shapiro wilk test\n",
        "shapiro_test(model.metrics$.resid)"
      ],
      "metadata": {
        "colab": {
          "base_uri": "https://localhost:8080/",
          "height": 129
        },
        "id": "JV7mLcZB7K6c",
        "outputId": "0bca80a9-bdbe-4c69-c939-f2a5e93076a2"
      },
      "execution_count": null,
      "outputs": [
        {
          "output_type": "display_data",
          "data": {
            "text/html": [
              "<table class=\"dataframe\">\n",
              "<caption>A tibble: 1 × 3</caption>\n",
              "<thead>\n",
              "\t<tr><th scope=col>variable</th><th scope=col>statistic</th><th scope=col>p.value</th></tr>\n",
              "\t<tr><th scope=col>&lt;chr&gt;</th><th scope=col>&lt;dbl&gt;</th><th scope=col>&lt;dbl&gt;</th></tr>\n",
              "</thead>\n",
              "<tbody>\n",
              "\t<tr><td>model.metrics$.resid</td><td>0.9753224</td><td>0.4440646</td></tr>\n",
              "</tbody>\n",
              "</table>\n"
            ],
            "text/markdown": "\nA tibble: 1 × 3\n\n| variable &lt;chr&gt; | statistic &lt;dbl&gt; | p.value &lt;dbl&gt; |\n|---|---|---|\n| model.metrics$.resid | 0.9753224 | 0.4440646 |\n\n",
            "text/latex": "A tibble: 1 × 3\n\\begin{tabular}{lll}\n variable & statistic & p.value\\\\\n <chr> & <dbl> & <dbl>\\\\\n\\hline\n\t model.metrics\\$.resid & 0.9753224 & 0.4440646\\\\\n\\end{tabular}\n",
            "text/plain": [
              "  variable             statistic p.value  \n",
              "W model.metrics$.resid 0.9753224 0.4440646"
            ]
          },
          "metadata": {}
        }
      ]
    },
    {
      "cell_type": "markdown",
      "source": [
        "The Shapiro Wilk test was not significant (`p > 0.05`), so we can assume normality of residuals.\n",
        "\n",
        "## **Homogeneity of variances**\n",
        "ANCOVA assumes that the variance of the residuals is equal for all groups. This can be checked using the Levene’s test:\n"
      ],
      "metadata": {
        "id": "wW7jhcSKSdHL"
      }
    },
    {
      "cell_type": "code",
      "source": [
        "model.metrics %>% levene_test(.resid ~ group)"
      ],
      "metadata": {
        "colab": {
          "base_uri": "https://localhost:8080/",
          "height": 129
        },
        "id": "AketZW4MS5v7",
        "outputId": "cae5b5b9-2b8d-492b-c0d3-ff50effb2c6c"
      },
      "execution_count": null,
      "outputs": [
        {
          "output_type": "display_data",
          "data": {
            "text/html": [
              "<table class=\"dataframe\">\n",
              "<caption>A tibble: 1 × 4</caption>\n",
              "<thead>\n",
              "\t<tr><th scope=col>df1</th><th scope=col>df2</th><th scope=col>statistic</th><th scope=col>p</th></tr>\n",
              "\t<tr><th scope=col>&lt;int&gt;</th><th scope=col>&lt;int&gt;</th><th scope=col>&lt;dbl&gt;</th><th scope=col>&lt;dbl&gt;</th></tr>\n",
              "</thead>\n",
              "<tbody>\n",
              "\t<tr><td>2</td><td>42</td><td>2.271753</td><td>0.1156629</td></tr>\n",
              "</tbody>\n",
              "</table>\n"
            ],
            "text/markdown": "\nA tibble: 1 × 4\n\n| df1 &lt;int&gt; | df2 &lt;int&gt; | statistic &lt;dbl&gt; | p &lt;dbl&gt; |\n|---|---|---|---|\n| 2 | 42 | 2.271753 | 0.1156629 |\n\n",
            "text/latex": "A tibble: 1 × 4\n\\begin{tabular}{llll}\n df1 & df2 & statistic & p\\\\\n <int> & <int> & <dbl> & <dbl>\\\\\n\\hline\n\t 2 & 42 & 2.271753 & 0.1156629\\\\\n\\end{tabular}\n",
            "text/plain": [
              "  df1 df2 statistic p        \n",
              "1 2   42  2.271753  0.1156629"
            ]
          },
          "metadata": {}
        }
      ]
    },
    {
      "cell_type": "markdown",
      "source": [
        "The Levene’s test was not significant (`p > 0.05`), so we can assume homogeneity in residual variances for all groups.\n"
      ],
      "metadata": {
        "id": "cd045xxrTBBz"
      }
    },
    {
      "cell_type": "code",
      "source": [
        "install.packages(\"car\")\n",
        "library(car)"
      ],
      "metadata": {
        "colab": {
          "base_uri": "https://localhost:8080/"
        },
        "id": "W_8JeJrbS5xL",
        "outputId": "37d409de-0f98-472f-9044-0ce00e21faa4"
      },
      "execution_count": null,
      "outputs": [
        {
          "output_type": "stream",
          "name": "stderr",
          "text": [
            "Installing package into ‘/usr/local/lib/R/site-library’\n",
            "(as ‘lib’ is unspecified)\n",
            "\n",
            "Loading required package: carData\n",
            "\n",
            "\n",
            "Attaching package: ‘car’\n",
            "\n",
            "\n",
            "The following object is masked from ‘package:dplyr’:\n",
            "\n",
            "    recode\n",
            "\n",
            "\n",
            "The following object is masked from ‘package:purrr’:\n",
            "\n",
            "    some\n",
            "\n",
            "\n"
          ]
        }
      ]
    },
    {
      "cell_type": "code",
      "source": [
        "res.aov = data %>% anova_test(posttest ~ pretest + group)\n",
        "get_anova_table(res.aov)"
      ],
      "metadata": {
        "colab": {
          "base_uri": "https://localhost:8080/",
          "height": 160
        },
        "id": "mfYfQ_eNTNsi",
        "outputId": "9dad8cb7-ba8c-4f7f-f9bd-88a9b0067f45"
      },
      "execution_count": null,
      "outputs": [
        {
          "output_type": "display_data",
          "data": {
            "text/html": [
              "<table class=\"dataframe\">\n",
              "<caption>A anova_test: 2 × 7</caption>\n",
              "<thead>\n",
              "\t<tr><th></th><th scope=col>Effect</th><th scope=col>DFn</th><th scope=col>DFd</th><th scope=col>F</th><th scope=col>p</th><th scope=col>p&lt;.05</th><th scope=col>ges</th></tr>\n",
              "\t<tr><th></th><th scope=col>&lt;chr&gt;</th><th scope=col>&lt;dbl&gt;</th><th scope=col>&lt;dbl&gt;</th><th scope=col>&lt;dbl&gt;</th><th scope=col>&lt;dbl&gt;</th><th scope=col>&lt;chr&gt;</th><th scope=col>&lt;dbl&gt;</th></tr>\n",
              "</thead>\n",
              "<tbody>\n",
              "\t<tr><th scope=row>1</th><td>pretest</td><td>1</td><td>41</td><td>598.321</td><td>4.48e-26</td><td>*</td><td>0.936</td></tr>\n",
              "\t<tr><th scope=row>2</th><td>group  </td><td>2</td><td>41</td><td>218.629</td><td>1.35e-22</td><td>*</td><td>0.914</td></tr>\n",
              "</tbody>\n",
              "</table>\n"
            ],
            "text/markdown": "\nA anova_test: 2 × 7\n\n| <!--/--> | Effect &lt;chr&gt; | DFn &lt;dbl&gt; | DFd &lt;dbl&gt; | F &lt;dbl&gt; | p &lt;dbl&gt; | p&lt;.05 &lt;chr&gt; | ges &lt;dbl&gt; |\n|---|---|---|---|---|---|---|---|\n| 1 | pretest | 1 | 41 | 598.321 | 4.48e-26 | * | 0.936 |\n| 2 | group   | 2 | 41 | 218.629 | 1.35e-22 | * | 0.914 |\n\n",
            "text/latex": "A anova\\_test: 2 × 7\n\\begin{tabular}{r|lllllll}\n  & Effect & DFn & DFd & F & p & p<.05 & ges\\\\\n  & <chr> & <dbl> & <dbl> & <dbl> & <dbl> & <chr> & <dbl>\\\\\n\\hline\n\t1 & pretest & 1 & 41 & 598.321 & 4.48e-26 & * & 0.936\\\\\n\t2 & group   & 2 & 41 & 218.629 & 1.35e-22 & * & 0.914\\\\\n\\end{tabular}\n",
            "text/plain": [
              "  Effect  DFn DFd F       p        p<.05 ges  \n",
              "1 pretest 1   41  598.321 4.48e-26 *     0.936\n",
              "2 group   2   41  218.629 1.35e-22 *     0.914"
            ]
          },
          "metadata": {}
        }
      ]
    },
    {
      "cell_type": "markdown",
      "source": [
        "After adjustment for pre-test anxiety score, there is a statistically significant difference in post-test anxiety score between the groups, F(2, 41) = 218.63, p < 0.0001.\n",
        "\n",
        "------\n",
        "\n",
        "# **Post-hoc test**\n",
        "Pairwise comparisons can be performed to identify which groups are different."
      ],
      "metadata": {
        "id": "opI8SdSHTXgN"
      }
    },
    {
      "cell_type": "code",
      "source": [
        "# Pairwise comparisons\n",
        "install.packages(\"emmeans\")\n",
        "library(emmeans)"
      ],
      "metadata": {
        "colab": {
          "base_uri": "https://localhost:8080/"
        },
        "id": "82v9mQ53TNt9",
        "outputId": "2a82639a-e046-41e7-a63f-eb85245dc2da"
      },
      "execution_count": null,
      "outputs": [
        {
          "output_type": "stream",
          "name": "stderr",
          "text": [
            "Installing package into ‘/usr/local/lib/R/site-library’\n",
            "(as ‘lib’ is unspecified)\n",
            "\n",
            "also installing the dependencies ‘estimability’, ‘mvtnorm’\n",
            "\n",
            "\n",
            "Welcome to emmeans.\n",
            "Caution: You lose important information if you filter this package's results.\n",
            "See '? untidy'\n",
            "\n"
          ]
        }
      ]
    },
    {
      "cell_type": "code",
      "source": [
        "pwc = data %>%\n",
        "  emmeans_test(\n",
        "    posttest ~ group, covariate = pretest,\n",
        "    p.adjust.method = \"bonferroni\"\n",
        "  )\n",
        "pwc"
      ],
      "metadata": {
        "colab": {
          "base_uri": "https://localhost:8080/",
          "height": 192
        },
        "id": "HVUyzvZpS51X",
        "outputId": "40275e95-5a49-4889-d734-cd89c51ca9e1"
      },
      "execution_count": null,
      "outputs": [
        {
          "output_type": "display_data",
          "data": {
            "text/html": [
              "<table class=\"dataframe\">\n",
              "<caption>A rstatix_test: 3 × 9</caption>\n",
              "<thead>\n",
              "\t<tr><th></th><th scope=col>term</th><th scope=col>.y.</th><th scope=col>group1</th><th scope=col>group2</th><th scope=col>df</th><th scope=col>statistic</th><th scope=col>p</th><th scope=col>p.adj</th><th scope=col>p.adj.signif</th></tr>\n",
              "\t<tr><th></th><th scope=col>&lt;chr&gt;</th><th scope=col>&lt;chr&gt;</th><th scope=col>&lt;chr&gt;</th><th scope=col>&lt;chr&gt;</th><th scope=col>&lt;dbl&gt;</th><th scope=col>&lt;dbl&gt;</th><th scope=col>&lt;dbl&gt;</th><th scope=col>&lt;dbl&gt;</th><th scope=col>&lt;chr&gt;</th></tr>\n",
              "</thead>\n",
              "<tbody>\n",
              "\t<tr><th scope=row>1</th><td>pretest*group</td><td>posttest</td><td>grp1</td><td>grp2</td><td>41</td><td> 4.235403</td><td>1.257090e-04</td><td>3.771269e-04</td><td>*** </td></tr>\n",
              "\t<tr><th scope=row>2</th><td>pretest*group</td><td>posttest</td><td>grp1</td><td>grp3</td><td>41</td><td>19.861727</td><td>1.192286e-22</td><td>3.576859e-22</td><td>****</td></tr>\n",
              "\t<tr><th scope=row>3</th><td>pretest*group</td><td>posttest</td><td>grp2</td><td>grp3</td><td>41</td><td>15.517184</td><td>9.207816e-19</td><td>2.762345e-18</td><td>****</td></tr>\n",
              "</tbody>\n",
              "</table>\n"
            ],
            "text/markdown": "\nA rstatix_test: 3 × 9\n\n| <!--/--> | term &lt;chr&gt; | .y. &lt;chr&gt; | group1 &lt;chr&gt; | group2 &lt;chr&gt; | df &lt;dbl&gt; | statistic &lt;dbl&gt; | p &lt;dbl&gt; | p.adj &lt;dbl&gt; | p.adj.signif &lt;chr&gt; |\n|---|---|---|---|---|---|---|---|---|---|\n| 1 | pretest*group | posttest | grp1 | grp2 | 41 |  4.235403 | 1.257090e-04 | 3.771269e-04 | ***  |\n| 2 | pretest*group | posttest | grp1 | grp3 | 41 | 19.861727 | 1.192286e-22 | 3.576859e-22 | **** |\n| 3 | pretest*group | posttest | grp2 | grp3 | 41 | 15.517184 | 9.207816e-19 | 2.762345e-18 | **** |\n\n",
            "text/latex": "A rstatix\\_test: 3 × 9\n\\begin{tabular}{r|lllllllll}\n  & term & .y. & group1 & group2 & df & statistic & p & p.adj & p.adj.signif\\\\\n  & <chr> & <chr> & <chr> & <chr> & <dbl> & <dbl> & <dbl> & <dbl> & <chr>\\\\\n\\hline\n\t1 & pretest*group & posttest & grp1 & grp2 & 41 &  4.235403 & 1.257090e-04 & 3.771269e-04 & *** \\\\\n\t2 & pretest*group & posttest & grp1 & grp3 & 41 & 19.861727 & 1.192286e-22 & 3.576859e-22 & ****\\\\\n\t3 & pretest*group & posttest & grp2 & grp3 & 41 & 15.517184 & 9.207816e-19 & 2.762345e-18 & ****\\\\\n\\end{tabular}\n",
            "text/plain": [
              "  term          .y.      group1 group2 df statistic p            p.adj       \n",
              "1 pretest*group posttest grp1   grp2   41  4.235403 1.257090e-04 3.771269e-04\n",
              "2 pretest*group posttest grp1   grp3   41 19.861727 1.192286e-22 3.576859e-22\n",
              "3 pretest*group posttest grp2   grp3   41 15.517184 9.207816e-19 2.762345e-18\n",
              "  p.adj.signif\n",
              "1 ***         \n",
              "2 ****        \n",
              "3 ****        "
            ]
          },
          "metadata": {}
        }
      ]
    },
    {
      "cell_type": "markdown",
      "source": [
        "Displaying the adjusted means of each group:"
      ],
      "metadata": {
        "id": "488prGJRUrg3"
      }
    },
    {
      "cell_type": "code",
      "source": [
        "# Also called as the estimated marginal means (emmeans)\n",
        "get_emmeans(pwc)"
      ],
      "metadata": {
        "colab": {
          "base_uri": "https://localhost:8080/",
          "height": 192
        },
        "id": "e7KmHgioS520",
        "outputId": "8b970b29-e4af-42c8-f674-8a8c5ef15c10"
      },
      "execution_count": null,
      "outputs": [
        {
          "output_type": "display_data",
          "data": {
            "text/html": [
              "<table class=\"dataframe\">\n",
              "<caption>A tibble: 3 × 8</caption>\n",
              "<thead>\n",
              "\t<tr><th scope=col>pretest</th><th scope=col>group</th><th scope=col>emmean</th><th scope=col>se</th><th scope=col>df</th><th scope=col>conf.low</th><th scope=col>conf.high</th><th scope=col>method</th></tr>\n",
              "\t<tr><th scope=col>&lt;dbl&gt;</th><th scope=col>&lt;fct&gt;</th><th scope=col>&lt;dbl&gt;</th><th scope=col>&lt;dbl&gt;</th><th scope=col>&lt;dbl&gt;</th><th scope=col>&lt;dbl&gt;</th><th scope=col>&lt;dbl&gt;</th><th scope=col>&lt;chr&gt;</th></tr>\n",
              "</thead>\n",
              "<tbody>\n",
              "\t<tr><td>16.91556</td><td>grp1</td><td>16.44414</td><td>0.1064779</td><td>41</td><td>16.22910</td><td>16.65918</td><td>Emmeans test</td></tr>\n",
              "\t<tr><td>16.91556</td><td>grp2</td><td>15.80302</td><td>0.1068340</td><td>41</td><td>15.58726</td><td>16.01877</td><td>Emmeans test</td></tr>\n",
              "\t<tr><td>16.91556</td><td>grp3</td><td>13.45951</td><td>0.1063143</td><td>41</td><td>13.24480</td><td>13.67421</td><td>Emmeans test</td></tr>\n",
              "</tbody>\n",
              "</table>\n"
            ],
            "text/markdown": "\nA tibble: 3 × 8\n\n| pretest &lt;dbl&gt; | group &lt;fct&gt; | emmean &lt;dbl&gt; | se &lt;dbl&gt; | df &lt;dbl&gt; | conf.low &lt;dbl&gt; | conf.high &lt;dbl&gt; | method &lt;chr&gt; |\n|---|---|---|---|---|---|---|---|\n| 16.91556 | grp1 | 16.44414 | 0.1064779 | 41 | 16.22910 | 16.65918 | Emmeans test |\n| 16.91556 | grp2 | 15.80302 | 0.1068340 | 41 | 15.58726 | 16.01877 | Emmeans test |\n| 16.91556 | grp3 | 13.45951 | 0.1063143 | 41 | 13.24480 | 13.67421 | Emmeans test |\n\n",
            "text/latex": "A tibble: 3 × 8\n\\begin{tabular}{llllllll}\n pretest & group & emmean & se & df & conf.low & conf.high & method\\\\\n <dbl> & <fct> & <dbl> & <dbl> & <dbl> & <dbl> & <dbl> & <chr>\\\\\n\\hline\n\t 16.91556 & grp1 & 16.44414 & 0.1064779 & 41 & 16.22910 & 16.65918 & Emmeans test\\\\\n\t 16.91556 & grp2 & 15.80302 & 0.1068340 & 41 & 15.58726 & 16.01877 & Emmeans test\\\\\n\t 16.91556 & grp3 & 13.45951 & 0.1063143 & 41 & 13.24480 & 13.67421 & Emmeans test\\\\\n\\end{tabular}\n",
            "text/plain": [
              "  pretest  group emmean   se        df conf.low conf.high method      \n",
              "1 16.91556 grp1  16.44414 0.1064779 41 16.22910 16.65918  Emmeans test\n",
              "2 16.91556 grp2  15.80302 0.1068340 41 15.58726 16.01877  Emmeans test\n",
              "3 16.91556 grp3  13.45951 0.1063143 41 13.24480 13.67421  Emmeans test"
            ]
          },
          "metadata": {}
        }
      ]
    },
    {
      "cell_type": "markdown",
      "source": [
        "The mean anxiety score was statistically significantly greater in grp1 (16.4 +/- 0.15) compared to the grp2 (15.8 +/- 0.12) and grp3 (13.5 +/- 0.11), p < 0.001\n"
      ],
      "metadata": {
        "id": "xKtGh3iTU-bI"
      }
    },
    {
      "cell_type": "markdown",
      "source": [
        "\n",
        "# **Report**\n",
        "\n",
        "1. After adjustment for pre-test anxiety score, there is a statistically significant difference in post-test anxiety score between the groups, F(2, 41) = 218.63, p < 0.0001\n",
        "\n",
        "2. Post hoc analysis was performed with a Bonferroni adjustment.\n",
        "- The mean anxiety score was statistically significantly greater in grp1 (16.4 +/- 0.15) compared to the grp2 (15.8 +/- 0.12) and grp3 (13.5 +/_ 0.11), p < 0.001.\n"
      ],
      "metadata": {
        "id": "Q3Y0slVkVShm"
      }
    }
  ]
}