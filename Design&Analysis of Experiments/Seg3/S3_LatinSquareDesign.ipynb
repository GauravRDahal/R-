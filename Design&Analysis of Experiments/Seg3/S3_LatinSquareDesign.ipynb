{
  "nbformat": 4,
  "nbformat_minor": 0,
  "metadata": {
    "colab": {
      "provenance": []
    },
    "kernelspec": {
      "name": "ir",
      "display_name": "R"
    },
    "language_info": {
      "name": "R"
    }
  },
  "cells": [
    {
      "cell_type": "markdown",
      "source": [
        "# **Latin Square Design**\n",
        "The Latin Square Design provides a systematic control for another source\n",
        "of variation, which is especially useful when there are two major sources of variation to consider.\n",
        "\n",
        "![1.PNG](data:image/png;base64,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)\n",
        "\n",
        "\n",
        "\n",
        "\n",
        "\n",
        "  "
      ],
      "metadata": {
        "id": "xZKVcTi7cfjX"
      }
    },
    {
      "cell_type": "markdown",
      "source": [
        "Figure 1 represents a `Latin Square Design`.\n",
        "\n",
        "The speciality of this design is that the red box appears only once in each row and in each column. There is no repetition of this red box in the same column or row. Similarly, the other red boxes exhibit the same behaviour.\n",
        "\n",
        "This arrangement is referred as a Latin Square Design. This is similar to a sudoku box. With the help of Latin Square, a person can analyse Latin Square Designs. The selection of Latin Square Designs is very important it depends upon the availability of the factors."
      ],
      "metadata": {
        "id": "v2dd179ehjxF"
      }
    },
    {
      "cell_type": "markdown",
      "source": [
        "#Suppose we want to analyse the productivity of 5 kind on fertilizers, 5 kind of tillages, and 5 kind of seeds\n",
        "The three factors are: `fertilizer (fertilizer 1:5), tillage (treatA:E), seed (A:E)`.\n",
        "\n",
        "The numbers are the productivity in cwt / year(centum weight or quintal)\n",
        "\n",
        "The data are organized in a latin square design, as follows:"
      ],
      "metadata": {
        "id": "LWm7J6xNheKi"
      }
    },
    {
      "cell_type": "code",
      "source": [
        "#               treatA  treatB  treatC  treatD  treatE\n",
        "#   fertilizer1  \"A42\"   \"C47\"   \"B55\"   \"D51\"   \"E44\"\n",
        "#   fertilizer2  \"E45\"   \"B54\"   \"C52\"   \"A44\"   \"D50\"\n",
        "#   fertilizer3  \"C41\"   \"A46\"   \"D57\"   \"E47\"   \"B48\"\n",
        "#   fertilizer4  \"B56\"   \"D52\"   \"E49\"   \"C50\"   \"A43\"\n",
        "#   fertilizer5  \"D47\"   \"E49\"   \"A45\"   \"B54\"   \"C46\""
      ],
      "metadata": {
        "id": "12y4iMM7dBqu"
      },
      "execution_count": null,
      "outputs": []
    },
    {
      "cell_type": "code",
      "source": [
        "#Now create a dataframe in R with these data:\n",
        "fertil <- c(rep(\"fertil1\",1), rep(\"fertil2\",1), rep(\"fertil3\",1), rep(\"fertil4\",1), rep(\"fertil5\",1))\n",
        "treat <- c(rep(\"treatA\",5), rep(\"treatB\",5), rep(\"treatC\",5), rep(\"treatD\",5), rep(\"treatE\",5))\n",
        "seed <- c(\"A\",\"E\",\"C\",\"B\",\"D\", \"C\",\"B\",\"A\",\"D\",\"E\", \"B\",\"C\",\"D\",\"E\",\"A\", \"D\",\"A\",\"E\",\"C\",\"B\", \"E\",\"D\",\"B\",\"A\",\"C\")\n",
        "freq <- c(42,45,41,56,47, 47,54,46,52,49, 55,52,57,49,45, 51,44,47,50,54, 44,50,48,43,46)"
      ],
      "metadata": {
        "id": "kQwx0X-vcIIn"
      },
      "execution_count": null,
      "outputs": []
    },
    {
      "cell_type": "code",
      "source": [
        "mydata <- data.frame(treat, fertil, seed, freq)\n",
        "mydata"
      ],
      "metadata": {
        "colab": {
          "base_uri": "https://localhost:8080/",
          "height": 882
        },
        "id": "dqcS_-6LcIPn",
        "outputId": "0b3a01b8-9e77-4b9c-e9ea-faa4cb9f1dbf"
      },
      "execution_count": null,
      "outputs": [
        {
          "output_type": "display_data",
          "data": {
            "text/html": [
              "<table class=\"dataframe\">\n",
              "<caption>A data.frame: 25 × 4</caption>\n",
              "<thead>\n",
              "\t<tr><th scope=col>treat</th><th scope=col>fertil</th><th scope=col>seed</th><th scope=col>freq</th></tr>\n",
              "\t<tr><th scope=col>&lt;chr&gt;</th><th scope=col>&lt;chr&gt;</th><th scope=col>&lt;chr&gt;</th><th scope=col>&lt;dbl&gt;</th></tr>\n",
              "</thead>\n",
              "<tbody>\n",
              "\t<tr><td>treatA</td><td>fertil1</td><td>A</td><td>42</td></tr>\n",
              "\t<tr><td>treatA</td><td>fertil2</td><td>E</td><td>45</td></tr>\n",
              "\t<tr><td>treatA</td><td>fertil3</td><td>C</td><td>41</td></tr>\n",
              "\t<tr><td>treatA</td><td>fertil4</td><td>B</td><td>56</td></tr>\n",
              "\t<tr><td>treatA</td><td>fertil5</td><td>D</td><td>47</td></tr>\n",
              "\t<tr><td>treatB</td><td>fertil1</td><td>C</td><td>47</td></tr>\n",
              "\t<tr><td>treatB</td><td>fertil2</td><td>B</td><td>54</td></tr>\n",
              "\t<tr><td>treatB</td><td>fertil3</td><td>A</td><td>46</td></tr>\n",
              "\t<tr><td>treatB</td><td>fertil4</td><td>D</td><td>52</td></tr>\n",
              "\t<tr><td>treatB</td><td>fertil5</td><td>E</td><td>49</td></tr>\n",
              "\t<tr><td>treatC</td><td>fertil1</td><td>B</td><td>55</td></tr>\n",
              "\t<tr><td>treatC</td><td>fertil2</td><td>C</td><td>52</td></tr>\n",
              "\t<tr><td>treatC</td><td>fertil3</td><td>D</td><td>57</td></tr>\n",
              "\t<tr><td>treatC</td><td>fertil4</td><td>E</td><td>49</td></tr>\n",
              "\t<tr><td>treatC</td><td>fertil5</td><td>A</td><td>45</td></tr>\n",
              "\t<tr><td>treatD</td><td>fertil1</td><td>D</td><td>51</td></tr>\n",
              "\t<tr><td>treatD</td><td>fertil2</td><td>A</td><td>44</td></tr>\n",
              "\t<tr><td>treatD</td><td>fertil3</td><td>E</td><td>47</td></tr>\n",
              "\t<tr><td>treatD</td><td>fertil4</td><td>C</td><td>50</td></tr>\n",
              "\t<tr><td>treatD</td><td>fertil5</td><td>B</td><td>54</td></tr>\n",
              "\t<tr><td>treatE</td><td>fertil1</td><td>E</td><td>44</td></tr>\n",
              "\t<tr><td>treatE</td><td>fertil2</td><td>D</td><td>50</td></tr>\n",
              "\t<tr><td>treatE</td><td>fertil3</td><td>B</td><td>48</td></tr>\n",
              "\t<tr><td>treatE</td><td>fertil4</td><td>A</td><td>43</td></tr>\n",
              "\t<tr><td>treatE</td><td>fertil5</td><td>C</td><td>46</td></tr>\n",
              "</tbody>\n",
              "</table>\n"
            ],
            "text/markdown": "\nA data.frame: 25 × 4\n\n| treat &lt;chr&gt; | fertil &lt;chr&gt; | seed &lt;chr&gt; | freq &lt;dbl&gt; |\n|---|---|---|---|\n| treatA | fertil1 | A | 42 |\n| treatA | fertil2 | E | 45 |\n| treatA | fertil3 | C | 41 |\n| treatA | fertil4 | B | 56 |\n| treatA | fertil5 | D | 47 |\n| treatB | fertil1 | C | 47 |\n| treatB | fertil2 | B | 54 |\n| treatB | fertil3 | A | 46 |\n| treatB | fertil4 | D | 52 |\n| treatB | fertil5 | E | 49 |\n| treatC | fertil1 | B | 55 |\n| treatC | fertil2 | C | 52 |\n| treatC | fertil3 | D | 57 |\n| treatC | fertil4 | E | 49 |\n| treatC | fertil5 | A | 45 |\n| treatD | fertil1 | D | 51 |\n| treatD | fertil2 | A | 44 |\n| treatD | fertil3 | E | 47 |\n| treatD | fertil4 | C | 50 |\n| treatD | fertil5 | B | 54 |\n| treatE | fertil1 | E | 44 |\n| treatE | fertil2 | D | 50 |\n| treatE | fertil3 | B | 48 |\n| treatE | fertil4 | A | 43 |\n| treatE | fertil5 | C | 46 |\n\n",
            "text/latex": "A data.frame: 25 × 4\n\\begin{tabular}{llll}\n treat & fertil & seed & freq\\\\\n <chr> & <chr> & <chr> & <dbl>\\\\\n\\hline\n\t treatA & fertil1 & A & 42\\\\\n\t treatA & fertil2 & E & 45\\\\\n\t treatA & fertil3 & C & 41\\\\\n\t treatA & fertil4 & B & 56\\\\\n\t treatA & fertil5 & D & 47\\\\\n\t treatB & fertil1 & C & 47\\\\\n\t treatB & fertil2 & B & 54\\\\\n\t treatB & fertil3 & A & 46\\\\\n\t treatB & fertil4 & D & 52\\\\\n\t treatB & fertil5 & E & 49\\\\\n\t treatC & fertil1 & B & 55\\\\\n\t treatC & fertil2 & C & 52\\\\\n\t treatC & fertil3 & D & 57\\\\\n\t treatC & fertil4 & E & 49\\\\\n\t treatC & fertil5 & A & 45\\\\\n\t treatD & fertil1 & D & 51\\\\\n\t treatD & fertil2 & A & 44\\\\\n\t treatD & fertil3 & E & 47\\\\\n\t treatD & fertil4 & C & 50\\\\\n\t treatD & fertil5 & B & 54\\\\\n\t treatE & fertil1 & E & 44\\\\\n\t treatE & fertil2 & D & 50\\\\\n\t treatE & fertil3 & B & 48\\\\\n\t treatE & fertil4 & A & 43\\\\\n\t treatE & fertil5 & C & 46\\\\\n\\end{tabular}\n",
            "text/plain": [
              "   treat  fertil  seed freq\n",
              "1  treatA fertil1 A    42  \n",
              "2  treatA fertil2 E    45  \n",
              "3  treatA fertil3 C    41  \n",
              "4  treatA fertil4 B    56  \n",
              "5  treatA fertil5 D    47  \n",
              "6  treatB fertil1 C    47  \n",
              "7  treatB fertil2 B    54  \n",
              "8  treatB fertil3 A    46  \n",
              "9  treatB fertil4 D    52  \n",
              "10 treatB fertil5 E    49  \n",
              "11 treatC fertil1 B    55  \n",
              "12 treatC fertil2 C    52  \n",
              "13 treatC fertil3 D    57  \n",
              "14 treatC fertil4 E    49  \n",
              "15 treatC fertil5 A    45  \n",
              "16 treatD fertil1 D    51  \n",
              "17 treatD fertil2 A    44  \n",
              "18 treatD fertil3 E    47  \n",
              "19 treatD fertil4 C    50  \n",
              "20 treatD fertil5 B    54  \n",
              "21 treatE fertil1 E    44  \n",
              "22 treatE fertil2 D    50  \n",
              "23 treatE fertil3 B    48  \n",
              "24 treatE fertil4 A    43  \n",
              "25 treatE fertil5 C    46  "
            ]
          },
          "metadata": {}
        }
      ]
    },
    {
      "cell_type": "markdown",
      "source": [
        "**We can re-create the original table, using the matrix function:**"
      ],
      "metadata": {
        "id": "Tjn0wY2UdjXE"
      }
    },
    {
      "cell_type": "code",
      "source": [
        "matrix(mydata$seed, 5,5)"
      ],
      "metadata": {
        "colab": {
          "base_uri": "https://localhost:8080/",
          "height": 208
        },
        "id": "G1TCMFgQdJTx",
        "outputId": "4d78587b-7faa-44ac-ac34-73d1b4f0b6dd"
      },
      "execution_count": null,
      "outputs": [
        {
          "output_type": "display_data",
          "data": {
            "text/html": [
              "<table class=\"dataframe\">\n",
              "<caption>A matrix: 5 × 5 of type chr</caption>\n",
              "<tbody>\n",
              "\t<tr><td>A</td><td>C</td><td>B</td><td>D</td><td>E</td></tr>\n",
              "\t<tr><td>E</td><td>B</td><td>C</td><td>A</td><td>D</td></tr>\n",
              "\t<tr><td>C</td><td>A</td><td>D</td><td>E</td><td>B</td></tr>\n",
              "\t<tr><td>B</td><td>D</td><td>E</td><td>C</td><td>A</td></tr>\n",
              "\t<tr><td>D</td><td>E</td><td>A</td><td>B</td><td>C</td></tr>\n",
              "</tbody>\n",
              "</table>\n"
            ],
            "text/markdown": "\nA matrix: 5 × 5 of type chr\n\n| A | C | B | D | E |\n| E | B | C | A | D |\n| C | A | D | E | B |\n| B | D | E | C | A |\n| D | E | A | B | C |\n\n",
            "text/latex": "A matrix: 5 × 5 of type chr\n\\begin{tabular}{lllll}\n\t A & C & B & D & E\\\\\n\t E & B & C & A & D\\\\\n\t C & A & D & E & B\\\\\n\t B & D & E & C & A\\\\\n\t D & E & A & B & C\\\\\n\\end{tabular}\n",
            "text/plain": [
              "     [,1] [,2] [,3] [,4] [,5]\n",
              "[1,] A    C    B    D    E   \n",
              "[2,] E    B    C    A    D   \n",
              "[3,] C    A    D    E    B   \n",
              "[4,] B    D    E    C    A   \n",
              "[5,] D    E    A    B    C   "
            ]
          },
          "metadata": {}
        }
      ]
    },
    {
      "cell_type": "code",
      "source": [
        "matrix(mydata$freq, 5,5)"
      ],
      "metadata": {
        "colab": {
          "base_uri": "https://localhost:8080/",
          "height": 208
        },
        "id": "fot2rev7dJU5",
        "outputId": "33095642-f18d-48e1-ad2f-c33b37f7e71d"
      },
      "execution_count": null,
      "outputs": [
        {
          "output_type": "display_data",
          "data": {
            "text/html": [
              "<table class=\"dataframe\">\n",
              "<caption>A matrix: 5 × 5 of type dbl</caption>\n",
              "<tbody>\n",
              "\t<tr><td>42</td><td>47</td><td>55</td><td>51</td><td>44</td></tr>\n",
              "\t<tr><td>45</td><td>54</td><td>52</td><td>44</td><td>50</td></tr>\n",
              "\t<tr><td>41</td><td>46</td><td>57</td><td>47</td><td>48</td></tr>\n",
              "\t<tr><td>56</td><td>52</td><td>49</td><td>50</td><td>43</td></tr>\n",
              "\t<tr><td>47</td><td>49</td><td>45</td><td>54</td><td>46</td></tr>\n",
              "</tbody>\n",
              "</table>\n"
            ],
            "text/markdown": "\nA matrix: 5 × 5 of type dbl\n\n| 42 | 47 | 55 | 51 | 44 |\n| 45 | 54 | 52 | 44 | 50 |\n| 41 | 46 | 57 | 47 | 48 |\n| 56 | 52 | 49 | 50 | 43 |\n| 47 | 49 | 45 | 54 | 46 |\n\n",
            "text/latex": "A matrix: 5 × 5 of type dbl\n\\begin{tabular}{lllll}\n\t 42 & 47 & 55 & 51 & 44\\\\\n\t 45 & 54 & 52 & 44 & 50\\\\\n\t 41 & 46 & 57 & 47 & 48\\\\\n\t 56 & 52 & 49 & 50 & 43\\\\\n\t 47 & 49 & 45 & 54 & 46\\\\\n\\end{tabular}\n",
            "text/plain": [
              "     [,1] [,2] [,3] [,4] [,5]\n",
              "[1,] 42   47   55   51   44  \n",
              "[2,] 45   54   52   44   50  \n",
              "[3,] 41   46   57   47   48  \n",
              "[4,] 56   52   49   50   43  \n",
              "[5,] 47   49   45   54   46  "
            ]
          },
          "metadata": {}
        }
      ]
    },
    {
      "cell_type": "markdown",
      "source": [
        "## **The ANOVA table**"
      ],
      "metadata": {
        "id": "uEUj9Mfpdsy6"
      }
    },
    {
      "cell_type": "code",
      "source": [
        "myfit <- lm(freq ~ fertil+treat+seed, mydata)\n",
        "anova(myfit)"
      ],
      "metadata": {
        "colab": {
          "base_uri": "https://localhost:8080/",
          "height": 223
        },
        "id": "tdPQgk-TdJY2",
        "outputId": "0f7658ff-1102-49b9-b9a3-56de2a279dab"
      },
      "execution_count": null,
      "outputs": [
        {
          "output_type": "display_data",
          "data": {
            "text/html": [
              "<table class=\"dataframe\">\n",
              "<caption>A anova: 4 × 5</caption>\n",
              "<thead>\n",
              "\t<tr><th></th><th scope=col>Df</th><th scope=col>Sum Sq</th><th scope=col>Mean Sq</th><th scope=col>F value</th><th scope=col>Pr(&gt;F)</th></tr>\n",
              "\t<tr><th></th><th scope=col>&lt;int&gt;</th><th scope=col>&lt;dbl&gt;</th><th scope=col>&lt;dbl&gt;</th><th scope=col>&lt;dbl&gt;</th><th scope=col>&lt;dbl&gt;</th></tr>\n",
              "</thead>\n",
              "<tbody>\n",
              "\t<tr><th scope=row>fertil</th><td> 4</td><td> 17.76</td><td> 4.440000</td><td> 0.7966507</td><td>0.549839444</td></tr>\n",
              "\t<tr><th scope=row>treat</th><td> 4</td><td>109.36</td><td>27.340000</td><td> 4.9055024</td><td>0.014105168</td></tr>\n",
              "\t<tr><th scope=row>seed</th><td> 4</td><td>286.16</td><td>71.540000</td><td>12.8361244</td><td>0.000271007</td></tr>\n",
              "\t<tr><th scope=row>Residuals</th><td>12</td><td> 66.88</td><td> 5.573333</td><td>        NA</td><td>         NA</td></tr>\n",
              "</tbody>\n",
              "</table>\n"
            ],
            "text/markdown": "\nA anova: 4 × 5\n\n| <!--/--> | Df &lt;int&gt; | Sum Sq &lt;dbl&gt; | Mean Sq &lt;dbl&gt; | F value &lt;dbl&gt; | Pr(&gt;F) &lt;dbl&gt; |\n|---|---|---|---|---|---|\n| fertil |  4 |  17.76 |  4.440000 |  0.7966507 | 0.549839444 |\n| treat |  4 | 109.36 | 27.340000 |  4.9055024 | 0.014105168 |\n| seed |  4 | 286.16 | 71.540000 | 12.8361244 | 0.000271007 |\n| Residuals | 12 |  66.88 |  5.573333 |         NA |          NA |\n\n",
            "text/latex": "A anova: 4 × 5\n\\begin{tabular}{r|lllll}\n  & Df & Sum Sq & Mean Sq & F value & Pr(>F)\\\\\n  & <int> & <dbl> & <dbl> & <dbl> & <dbl>\\\\\n\\hline\n\tfertil &  4 &  17.76 &  4.440000 &  0.7966507 & 0.549839444\\\\\n\ttreat &  4 & 109.36 & 27.340000 &  4.9055024 & 0.014105168\\\\\n\tseed &  4 & 286.16 & 71.540000 & 12.8361244 & 0.000271007\\\\\n\tResiduals & 12 &  66.88 &  5.573333 &         NA &          NA\\\\\n\\end{tabular}\n",
            "text/plain": [
              "          Df Sum Sq Mean Sq   F value    Pr(>F)     \n",
              "fertil     4  17.76  4.440000  0.7966507 0.549839444\n",
              "treat      4 109.36 27.340000  4.9055024 0.014105168\n",
              "seed       4 286.16 71.540000 12.8361244 0.000271007\n",
              "Residuals 12  66.88  5.573333         NA          NA"
            ]
          },
          "metadata": {}
        }
      ]
    },
    {
      "cell_type": "markdown",
      "source": [
        "Here, we can see that:\n",
        "- The difference between group considering the fertilizer is not significant (p-value > 0.1)\n",
        "- The difference between group considering the tillage is quite significant (p-value < 0.05)\n",
        "- The difference between group considering the seed is very significant (p-value < 0.001)\n"
      ],
      "metadata": {
        "id": "tgc3ZZkyd-qb"
      }
    },
    {
      "cell_type": "code",
      "source": [
        "install.packages(\"agricolae\")\n",
        "library(agricolae)"
      ],
      "metadata": {
        "colab": {
          "base_uri": "https://localhost:8080/"
        },
        "id": "l8lYXB74dJaH",
        "outputId": "fb04f183-2cb8-48a8-ec27-44acef4cfd3c"
      },
      "execution_count": null,
      "outputs": [
        {
          "output_type": "stream",
          "name": "stderr",
          "text": [
            "Installing package into ‘/usr/local/lib/R/site-library’\n",
            "(as ‘lib’ is unspecified)\n",
            "\n",
            "also installing the dependency ‘AlgDesign’\n",
            "\n",
            "\n"
          ]
        }
      ]
    },
    {
      "cell_type": "code",
      "source": [
        "LSD.test(y = myfit,\n",
        "         trt = \"seed\",\n",
        "         DFerror = myfit$df.residual,\n",
        "         MSerror = deviance(myfit)/myfit$df.residual,\n",
        "         alpha = 0.05,\n",
        "         group = TRUE,\n",
        "         console = TRUE)"
      ],
      "metadata": {
        "colab": {
          "base_uri": "https://localhost:8080/"
        },
        "id": "EMmEkb7FdJe4",
        "outputId": "2488bf3f-2047-4ae2-bbb6-ef5895dcf796"
      },
      "execution_count": 12,
      "outputs": [
        {
          "output_type": "stream",
          "name": "stdout",
          "text": [
            "\n",
            "Study: myfit ~ \"seed\"\n",
            "\n",
            "LSD t Test for freq \n",
            "\n",
            "Mean Square Error:  5.573333 \n",
            "\n",
            "seed,  means and individual ( 95 %) CI\n",
            "\n",
            "  freq      std r       se      LCL      UCL Min Max Q25 Q50 Q75\n",
            "A 44.0 1.581139 5 1.055778 41.69966 46.30034  42  46  43  44  45\n",
            "B 53.4 3.130495 5 1.055778 51.09966 55.70034  48  56  54  54  55\n",
            "C 47.2 4.207137 5 1.055778 44.89966 49.50034  41  52  46  47  50\n",
            "D 51.4 3.646917 5 1.055778 49.09966 53.70034  47  57  50  51  52\n",
            "E 46.8 2.280351 5 1.055778 44.49966 49.10034  44  49  45  47  49\n",
            "\n",
            "Alpha: 0.05 ; DF Error: 12\n",
            "Critical Value of t: 2.178813 \n",
            "\n",
            "least Significant Difference: 3.253175 \n",
            "\n",
            "Treatments with the same letter are not significantly different.\n",
            "\n",
            "  freq groups\n",
            "B 53.4      a\n",
            "D 51.4      a\n",
            "C 47.2      b\n",
            "E 46.8      b\n",
            "A 44.0      b\n"
          ]
        }
      ]
    },
    {
      "cell_type": "markdown",
      "source": [
        "The results shows that seed varieties B and D are statistically more productive than C,E and A"
      ],
      "metadata": {
        "id": "4tPSW7hKf2Qx"
      }
    }
  ]
}