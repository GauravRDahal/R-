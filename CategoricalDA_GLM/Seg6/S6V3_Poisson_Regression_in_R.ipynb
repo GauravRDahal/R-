{
  "nbformat": 4,
  "nbformat_minor": 0,
  "metadata": {
    "colab": {
      "provenance": []
    },
    "kernelspec": {
      "name": "ir",
      "display_name": "R"
    },
    "language_info": {
      "name": "R"
    }
  },
  "cells": [
    {
      "cell_type": "markdown",
      "source": [
        "# **Poisson Distribution**\n",
        "\n",
        "Poisson Distribution us used to find out the probability of rare evvents occuring withing a given time interval.\n",
        "\n",
        "## **Example 1**:\n",
        "To understand the poisson distribution, Consider the following example\n",
        "*If there are 12 cars crossing a bridge per minute on average:*\n",
        "- What is the probability of having seventeen or more cars crossing the bridge in any given minute?\n",
        "\n",
        "We can see that the problem relates to Poisson distribution becase here,\n",
        "- the study variable is a count variable\n",
        "- it is a rare event"
      ],
      "metadata": {
        "id": "wysL1rXFRJwc"
      }
    },
    {
      "cell_type": "markdown",
      "source": [
        "Here, we will use the function ppois(), where:\n",
        "- q = vector of quantiles\n",
        "- lambda is our parameter\n",
        "- lower tail = the probability of a random variable us less than the given value of x.\n",
        "(So as it says 17 or more cars.., we are looking for upper tail so we will set the lower tail as false.)"
      ],
      "metadata": {
        "id": "iOwh_HJ1Srzo"
      }
    },
    {
      "cell_type": "code",
      "source": [
        "# parameter = 12\n",
        "ppois(16, 12, lower.tail = FALSE)"
      ],
      "metadata": {
        "colab": {
          "base_uri": "https://localhost:8080/",
          "height": 34
        },
        "id": "4Kq4RcYRQ7eu",
        "outputId": "07ef08ec-ca8c-4098-ec25-7a1b321284b8"
      },
      "execution_count": null,
      "outputs": [
        {
          "output_type": "display_data",
          "data": {
            "text/html": [
              "0.101291007439838"
            ],
            "text/markdown": "0.101291007439838",
            "text/latex": "0.101291007439838",
            "text/plain": [
              "[1] 0.101291"
            ]
          },
          "metadata": {}
        }
      ]
    },
    {
      "cell_type": "markdown",
      "source": [
        "Therefore, the probability of having seventeen or more cars crossing the bridge in any given minute is 10.1%.\n",
        "\n",
        "---------------------------"
      ],
      "metadata": {
        "id": "-_lRRf29Z1BY"
      }
    },
    {
      "cell_type": "markdown",
      "source": [
        "## **Example 2**:\n",
        "\n",
        "Here, we can see how many wrap-broke on different type of wool with different tension during weaving."
      ],
      "metadata": {
        "id": "p-QivVDwa-4R"
      }
    },
    {
      "cell_type": "code",
      "source": [
        "\n"
      ],
      "metadata": {
        "colab": {
          "base_uri": "https://localhost:8080/"
        },
        "id": "ecGzbDNzQ7iC",
        "outputId": "dadf2344-2fa6-45aa-e4c3-05d5ed4352e7"
      },
      "execution_count": null,
      "outputs": [
        {
          "output_type": "stream",
          "name": "stderr",
          "text": [
            "Installing package into ‘/usr/local/lib/R/site-library’\n",
            "(as ‘lib’ is unspecified)\n",
            "\n",
            "Warning message:\n",
            "“package ‘datasets’ is a base package, and should not be updated”\n"
          ]
        }
      ]
    },
    {
      "cell_type": "code",
      "source": [
        "data = warpbreaks\n",
        "head(data)"
      ],
      "metadata": {
        "colab": {
          "base_uri": "https://localhost:8080/",
          "height": 286
        },
        "id": "PGJwJbuCQ7kV",
        "outputId": "eed7889e-a3ef-4aea-ce3f-d172457d5a93"
      },
      "execution_count": null,
      "outputs": [
        {
          "output_type": "display_data",
          "data": {
            "text/html": [
              "<table class=\"dataframe\">\n",
              "<caption>A data.frame: 6 × 3</caption>\n",
              "<thead>\n",
              "\t<tr><th></th><th scope=col>breaks</th><th scope=col>wool</th><th scope=col>tension</th></tr>\n",
              "\t<tr><th></th><th scope=col>&lt;dbl&gt;</th><th scope=col>&lt;fct&gt;</th><th scope=col>&lt;fct&gt;</th></tr>\n",
              "</thead>\n",
              "<tbody>\n",
              "\t<tr><th scope=row>1</th><td>26</td><td>A</td><td>L</td></tr>\n",
              "\t<tr><th scope=row>2</th><td>30</td><td>A</td><td>L</td></tr>\n",
              "\t<tr><th scope=row>3</th><td>54</td><td>A</td><td>L</td></tr>\n",
              "\t<tr><th scope=row>4</th><td>25</td><td>A</td><td>L</td></tr>\n",
              "\t<tr><th scope=row>5</th><td>70</td><td>A</td><td>L</td></tr>\n",
              "\t<tr><th scope=row>6</th><td>52</td><td>A</td><td>L</td></tr>\n",
              "</tbody>\n",
              "</table>\n"
            ],
            "text/markdown": "\nA data.frame: 6 × 3\n\n| <!--/--> | breaks &lt;dbl&gt; | wool &lt;fct&gt; | tension &lt;fct&gt; |\n|---|---|---|---|\n| 1 | 26 | A | L |\n| 2 | 30 | A | L |\n| 3 | 54 | A | L |\n| 4 | 25 | A | L |\n| 5 | 70 | A | L |\n| 6 | 52 | A | L |\n\n",
            "text/latex": "A data.frame: 6 × 3\n\\begin{tabular}{r|lll}\n  & breaks & wool & tension\\\\\n  & <dbl> & <fct> & <fct>\\\\\n\\hline\n\t1 & 26 & A & L\\\\\n\t2 & 30 & A & L\\\\\n\t3 & 54 & A & L\\\\\n\t4 & 25 & A & L\\\\\n\t5 & 70 & A & L\\\\\n\t6 & 52 & A & L\\\\\n\\end{tabular}\n",
            "text/plain": [
              "  breaks wool tension\n",
              "1 26     A    L      \n",
              "2 30     A    L      \n",
              "3 54     A    L      \n",
              "4 25     A    L      \n",
              "5 70     A    L      \n",
              "6 52     A    L      "
            ]
          },
          "metadata": {}
        }
      ]
    },
    {
      "cell_type": "code",
      "source": [
        "str(data)"
      ],
      "metadata": {
        "colab": {
          "base_uri": "https://localhost:8080/"
        },
        "id": "iGTmDdvkQ7sm",
        "outputId": "707717b9-d812-4f1c-a756-110195bc2526"
      },
      "execution_count": null,
      "outputs": [
        {
          "output_type": "stream",
          "name": "stdout",
          "text": [
            "'data.frame':\t54 obs. of  3 variables:\n",
            " $ breaks : num  26 30 54 25 70 52 51 26 67 18 ...\n",
            " $ wool   : Factor w/ 2 levels \"A\",\"B\": 1 1 1 1 1 1 1 1 1 1 ...\n",
            " $ tension: Factor w/ 3 levels \"L\",\"M\",\"H\": 1 1 1 1 1 1 1 1 1 2 ...\n"
          ]
        }
      ]
    },
    {
      "cell_type": "code",
      "source": [
        "hist(data$breaks)"
      ],
      "metadata": {
        "colab": {
          "base_uri": "https://localhost:8080/",
          "height": 437
        },
        "id": "YmOPW5DYQ7v7",
        "outputId": "222418e3-ead4-4c05-f553-add9f243fc4d"
      },
      "execution_count": null,
      "outputs": [
        {
          "output_type": "display_data",
          "data": {
            "text/plain": [
              "Plot with title “Histogram of data$breaks”"
            ],
            "image/png": "[encoded data removed]"
          },
          "metadata": {
            "image/png": {
              "width": 420,
              "height": 420
            }
          }
        }
      ]
    },
    {
      "cell_type": "markdown",
      "source": [
        "As we can see that the distribution of our variable of interest is skewed in nature.\n",
        "\n",
        "(This satisfies one of the assumption to use Poisson distribution.)\n",
        "\n",
        "----\n",
        "Let's check for another assumption which states that mean = variance = lamda:"
      ],
      "metadata": {
        "id": "BR_gnkCdhgp3"
      }
    },
    {
      "cell_type": "code",
      "source": [
        "# calcualting mean and variance\n",
        "mean(data$breaks)\n",
        "var(data$breaks)"
      ],
      "metadata": {
        "colab": {
          "base_uri": "https://localhost:8080/",
          "height": 52
        },
        "id": "nz1ZStW5RIW9",
        "outputId": "19ffd411-2a5d-4251-c0c7-768237159a15"
      },
      "execution_count": null,
      "outputs": [
        {
          "output_type": "display_data",
          "data": {
            "text/html": [
              "28.1481481481481"
            ],
            "text/markdown": "28.1481481481481",
            "text/latex": "28.1481481481481",
            "text/plain": [
              "[1] 28.14815"
            ]
          },
          "metadata": {}
        },
        {
          "output_type": "display_data",
          "data": {
            "text/html": [
              "174.204053109713"
            ],
            "text/markdown": "174.204053109713",
            "text/latex": "174.204053109713",
            "text/plain": [
              "[1] 174.2041"
            ]
          },
          "metadata": {}
        }
      ]
    },
    {
      "cell_type": "markdown",
      "source": [
        "Here, we can see different values.\n",
        "- Therefore, when the `Variance > mean` than it leads to `over-dispersion` in the model.\n",
        "(Even if we use the Poisson regression it will lead to the over-dispersion of the model.)"
      ],
      "metadata": {
        "id": "HVD4ETB3iZk0"
      }
    },
    {
      "cell_type": "code",
      "source": [
        "# modelling using Poisson regression\n",
        "poisson_result = glm(breaks ~ wool + tension, data, family = poisson(link = \"log\"))\n",
        "poisson_result"
      ],
      "metadata": {
        "colab": {
          "base_uri": "https://localhost:8080/",
          "height": 208
        },
        "id": "hcsaV444i8vE",
        "outputId": "d637af36-343f-45be-a082-990accb08c3a"
      },
      "execution_count": null,
      "outputs": [
        {
          "output_type": "display_data",
          "data": {
            "text/plain": [
              "\n",
              "Call:  glm(formula = breaks ~ wool + tension, family = poisson(link = \"log\"), \n",
              "    data = data)\n",
              "\n",
              "Coefficients:\n",
              "(Intercept)        woolB     tensionM     tensionH  \n",
              "     3.6920      -0.2060      -0.3213      -0.5185  \n",
              "\n",
              "Degrees of Freedom: 53 Total (i.e. Null);  50 Residual\n",
              "Null Deviance:\t    297.4 \n",
              "Residual Deviance: 210.4 \tAIC: 493.1"
            ]
          },
          "metadata": {}
        }
      ]
    },
    {
      "cell_type": "code",
      "source": [
        "# for better insight\n",
        "summary(poisson_result)"
      ],
      "metadata": {
        "colab": {
          "base_uri": "https://localhost:8080/",
          "height": 381
        },
        "id": "sSa03BGmi8wy",
        "outputId": "1aec2c12-67a1-42d9-e21e-936d5e6efc31"
      },
      "execution_count": null,
      "outputs": [
        {
          "output_type": "display_data",
          "data": {
            "text/plain": [
              "\n",
              "Call:\n",
              "glm(formula = breaks ~ wool + tension, family = poisson(link = \"log\"), \n",
              "    data = data)\n",
              "\n",
              "Coefficients:\n",
              "            Estimate Std. Error z value Pr(>|z|)    \n",
              "(Intercept)  3.69196    0.04541  81.302  < 2e-16 ***\n",
              "woolB       -0.20599    0.05157  -3.994 6.49e-05 ***\n",
              "tensionM    -0.32132    0.06027  -5.332 9.73e-08 ***\n",
              "tensionH    -0.51849    0.06396  -8.107 5.21e-16 ***\n",
              "---\n",
              "Signif. codes:  0 ‘***’ 0.001 ‘**’ 0.01 ‘*’ 0.05 ‘.’ 0.1 ‘ ’ 1\n",
              "\n",
              "(Dispersion parameter for poisson family taken to be 1)\n",
              "\n",
              "    Null deviance: 297.37  on 53  degrees of freedom\n",
              "Residual deviance: 210.39  on 50  degrees of freedom\n",
              "AIC: 493.06\n",
              "\n",
              "Number of Fisher Scoring iterations: 4\n"
            ]
          },
          "metadata": {}
        }
      ]
    },
    {
      "cell_type": "markdown",
      "source": [
        "As we know the Poisson model is a family of GLM, so the parameters are calculated using maximum likelihood estimation (MLE).\n",
        "\n",
        "We can also see that R is treating categorical variables as the dummy variables by assigning the reference levels.\n",
        "\n",
        "- As we look at the p-values are less than 0.05. Hence, both the explanatory variable (wool and tension) have significant effect on the breaks.\n",
        "\n",
        "(The stars also shows the significance of the p-value.)\n",
        "\n",
        "- We can also see that the over-dispersion exist as the residual deviance > degreed of freedom.\n",
        "\n",
        "(The estimates are correct but the standard error are unaccounted by the model.)\n",
        "\n",
        "- The Null deviance show that how well the response is predicted by the model."
      ],
      "metadata": {
        "id": "pl9-4lu6jxvH"
      }
    }
  ]
}