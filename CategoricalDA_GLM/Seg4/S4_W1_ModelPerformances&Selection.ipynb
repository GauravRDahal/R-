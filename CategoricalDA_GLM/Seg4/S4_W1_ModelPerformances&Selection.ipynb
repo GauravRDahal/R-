{
  "nbformat": 4,
  "nbformat_minor": 0,
  "metadata": {
    "colab": {
      "provenance": []
    },
    "kernelspec": {
      "name": "ir",
      "display_name": "R"
    },
    "language_info": {
      "name": "R"
    }
  },
  "cells": [
    {
      "cell_type": "markdown",
      "source": [],
      "metadata": {
        "id": "dQKwflx4K5Ny"
      }
    },
    {
      "cell_type": "code",
      "source": [
        "install.packages(c(\"glmtoolbox\", \"aod\", \"nnet\", \"reader\"))\n",
        "library(glmtoolbox)\n",
        "library(aod)\n",
        "library(nnet)\n",
        "library(reader)"
      ],
      "metadata": {
        "colab": {
          "base_uri": "https://localhost:8080/"
        },
        "id": "cSNXOXsiK5ia",
        "outputId": "292d1066-d22c-4b65-f2e5-21560b9d0b4a"
      },
      "execution_count": 1,
      "outputs": [
        {
          "output_type": "stream",
          "name": "stderr",
          "text": [
            "Installing packages into ‘/usr/local/lib/R/site-library’\n",
            "(as ‘lib’ is unspecified)\n",
            "\n",
            "also installing the dependencies ‘zigg’, ‘RcppParallel’, ‘RcppArmadillo’, ‘numDeriv’, ‘Rfast’, ‘Formula’, ‘statmod’, ‘SuppDists’, ‘NCmisc’\n",
            "\n",
            "\n",
            "Loading required package: NCmisc\n",
            "\n",
            "\n",
            "Attaching package: ‘reader’\n",
            "\n",
            "\n",
            "The following objects are masked from ‘package:NCmisc’:\n",
            "\n",
            "    cat.path, get.ext, rmv.ext\n",
            "\n",
            "\n"
          ]
        }
      ]
    },
    {
      "cell_type": "code",
      "source": [
        "data = read.csv(\"/content/Turnover.csv\")\n",
        "head(data)"
      ],
      "metadata": {
        "colab": {
          "base_uri": "https://localhost:8080/",
          "height": 286
        },
        "id": "Gd0Egaq5K5jl",
        "outputId": "78886554-c892-4773-f1dc-7b020e12e906"
      },
      "execution_count": 2,
      "outputs": [
        {
          "output_type": "display_data",
          "data": {
            "text/html": [
              "<table class=\"dataframe\">\n",
              "<caption>A data.frame: 6 × 6</caption>\n",
              "<thead>\n",
              "\t<tr><th></th><th scope=col>ID</th><th scope=col>Turnover</th><th scope=col>JS</th><th scope=col>OC</th><th scope=col>TI</th><th scope=col>NAff</th></tr>\n",
              "\t<tr><th></th><th scope=col>&lt;chr&gt;</th><th scope=col>&lt;int&gt;</th><th scope=col>&lt;dbl&gt;</th><th scope=col>&lt;dbl&gt;</th><th scope=col>&lt;dbl&gt;</th><th scope=col>&lt;dbl&gt;</th></tr>\n",
              "</thead>\n",
              "<tbody>\n",
              "\t<tr><th scope=row>1</th><td>EMP559</td><td>1</td><td>4.96</td><td>5.32</td><td>0.51</td><td>1.87</td></tr>\n",
              "\t<tr><th scope=row>2</th><td>EMP561</td><td>1</td><td>1.72</td><td>1.47</td><td>4.08</td><td>2.48</td></tr>\n",
              "\t<tr><th scope=row>3</th><td>EMP571</td><td>1</td><td>1.64</td><td>0.87</td><td>2.65</td><td>2.84</td></tr>\n",
              "\t<tr><th scope=row>4</th><td>EMP589</td><td>1</td><td>3.01</td><td>2.15</td><td>4.17</td><td>2.43</td></tr>\n",
              "\t<tr><th scope=row>5</th><td>EMP592</td><td>1</td><td>3.04</td><td>1.94</td><td>3.27</td><td>2.76</td></tr>\n",
              "\t<tr><th scope=row>6</th><td>EMP601</td><td>1</td><td>3.81</td><td>3.81</td><td>3.01</td><td>3.67</td></tr>\n",
              "</tbody>\n",
              "</table>\n"
            ],
            "text/markdown": "\nA data.frame: 6 × 6\n\n| <!--/--> | ID &lt;chr&gt; | Turnover &lt;int&gt; | JS &lt;dbl&gt; | OC &lt;dbl&gt; | TI &lt;dbl&gt; | NAff &lt;dbl&gt; |\n|---|---|---|---|---|---|---|\n| 1 | EMP559 | 1 | 4.96 | 5.32 | 0.51 | 1.87 |\n| 2 | EMP561 | 1 | 1.72 | 1.47 | 4.08 | 2.48 |\n| 3 | EMP571 | 1 | 1.64 | 0.87 | 2.65 | 2.84 |\n| 4 | EMP589 | 1 | 3.01 | 2.15 | 4.17 | 2.43 |\n| 5 | EMP592 | 1 | 3.04 | 1.94 | 3.27 | 2.76 |\n| 6 | EMP601 | 1 | 3.81 | 3.81 | 3.01 | 3.67 |\n\n",
            "text/latex": "A data.frame: 6 × 6\n\\begin{tabular}{r|llllll}\n  & ID & Turnover & JS & OC & TI & NAff\\\\\n  & <chr> & <int> & <dbl> & <dbl> & <dbl> & <dbl>\\\\\n\\hline\n\t1 & EMP559 & 1 & 4.96 & 5.32 & 0.51 & 1.87\\\\\n\t2 & EMP561 & 1 & 1.72 & 1.47 & 4.08 & 2.48\\\\\n\t3 & EMP571 & 1 & 1.64 & 0.87 & 2.65 & 2.84\\\\\n\t4 & EMP589 & 1 & 3.01 & 2.15 & 4.17 & 2.43\\\\\n\t5 & EMP592 & 1 & 3.04 & 1.94 & 3.27 & 2.76\\\\\n\t6 & EMP601 & 1 & 3.81 & 3.81 & 3.01 & 3.67\\\\\n\\end{tabular}\n",
            "text/plain": [
              "  ID     Turnover JS   OC   TI   NAff\n",
              "1 EMP559 1        4.96 5.32 0.51 1.87\n",
              "2 EMP561 1        1.72 1.47 4.08 2.48\n",
              "3 EMP571 1        1.64 0.87 2.65 2.84\n",
              "4 EMP589 1        3.01 2.15 4.17 2.43\n",
              "5 EMP592 1        3.04 1.94 3.27 2.76\n",
              "6 EMP601 1        3.81 3.81 3.01 3.67"
            ]
          },
          "metadata": {}
        }
      ]
    },
    {
      "cell_type": "markdown",
      "source": [
        "### Installing **ROCR** package for **ROC-curve**"
      ],
      "metadata": {
        "id": "MhK-s4g9LfhN"
      }
    },
    {
      "cell_type": "code",
      "source": [
        "install.packages(\"ROCR\")\n",
        "library(ROCR)"
      ],
      "metadata": {
        "colab": {
          "base_uri": "https://localhost:8080/"
        },
        "id": "r19QtAvEK5oR",
        "outputId": "59941a51-2889-4500-b551-7c42cb8608e9"
      },
      "execution_count": 3,
      "outputs": [
        {
          "output_type": "stream",
          "name": "stderr",
          "text": [
            "Installing package into ‘/usr/local/lib/R/site-library’\n",
            "(as ‘lib’ is unspecified)\n",
            "\n",
            "also installing the dependencies ‘bitops’, ‘gtools’, ‘caTools’, ‘gplots’\n",
            "\n",
            "\n"
          ]
        }
      ]
    },
    {
      "cell_type": "markdown",
      "source": [
        "## Simple Logistic Regression"
      ],
      "metadata": {
        "id": "ZFFr6GHIVfWv"
      }
    },
    {
      "cell_type": "code",
      "source": [
        "model = glm(Turnover ~ JS, data = data, family = 'binomial')\n",
        "model"
      ],
      "metadata": {
        "colab": {
          "base_uri": "https://localhost:8080/",
          "height": 216
        },
        "id": "6KCZfAxIK5qW",
        "outputId": "46c1e7a5-6715-4c04-c9a5-4024324a3fb2"
      },
      "execution_count": 4,
      "outputs": [
        {
          "output_type": "display_data",
          "data": {
            "text/plain": [
              "\n",
              "Call:  glm(formula = Turnover ~ JS, family = \"binomial\", data = data)\n",
              "\n",
              "Coefficients:\n",
              "(Intercept)           JS  \n",
              "     1.8554      -0.4378  \n",
              "\n",
              "Degrees of Freedom: 97 Total (i.e. Null);  96 Residual\n",
              "  (1 observation deleted due to missingness)\n",
              "Null Deviance:\t    131.7 \n",
              "Residual Deviance: 126.3 \tAIC: 130.3"
            ]
          },
          "metadata": {}
        }
      ]
    },
    {
      "cell_type": "markdown",
      "source": [
        "Predicting probabilities"
      ],
      "metadata": {
        "id": "2p-_OdHLV1ND"
      }
    },
    {
      "cell_type": "code",
      "source": [
        "predicted_probabilities = predict(model, type = 'response')\n",
        "predicted_probabilities"
      ],
      "metadata": {
        "colab": {
          "base_uri": "https://localhost:8080/",
          "height": 590
        },
        "id": "qqhtQ99zK5t8",
        "outputId": "db3352f2-7ed9-4e4b-cc1a-d0a3fdcb14df"
      },
      "execution_count": 5,
      "outputs": [
        {
          "output_type": "display_data",
          "data": {
            "text/html": [
              "<style>\n",
              ".dl-inline {width: auto; margin:0; padding: 0}\n",
              ".dl-inline>dt, .dl-inline>dd {float: none; width: auto; display: inline-block}\n",
              ".dl-inline>dt::after {content: \":\\0020\"; padding-right: .5ex}\n",
              ".dl-inline>dt:not(:first-of-type) {padding-left: .5ex}\n",
              "</style><dl class=dl-inline><dt>1</dt><dd>0.421656598500977</dd><dt>2</dt><dd>0.750707872714414</dd><dt>3</dt><dd>0.757204273877578</dd><dt>4</dt><dd>0.631270393428917</dd><dt>5</dt><dd>0.628208206952892</dd><dt>6</dt><dd>0.546727352971942</dd><dt>7</dt><dd>0.777513095273209</dd><dt>8</dt><dd>0.534769283825444</dd><dt>9</dt><dd>0.695634998254811</dd><dt>10</dt><dd>0.753157560956792</dd><dt>11</dt><dd>0.567248129639816</dd><dt>12</dt><dd>0.750707872714414</dd><dt>13</dt><dd>0.730532691274615</dd><dt>14</dt><dd>0.510746604834858</dd><dt>15</dt><dd>0.724457886752191</dd><dt>16</dt><dd>0.531500456042573</dd><dt>17</dt><dd>0.685344445492733</dd><dt>18</dt><dd>0.596000923266465</dd><dt>19</dt><dd>0.697485561600831</dd><dt>20</dt><dd>0.634322039938925</dd><dt>21</dt><dd>0.456140299681419</dd><dt>22</dt><dd>0.604404403987214</dd><dt>23</dt><dd>0.515121325776635</dd><dt>24</dt><dd>0.85254025976657</dd><dt>25</dt><dd>0.638374148332572</dd><dt>26</dt><dd>0.659315574005679</dd><dt>27</dt><dd>0.509652641125562</dd><dt>28</dt><dd>0.593891015104383</dd><dt>29</dt><dd>0.514027836547223</dd><dt>30</dt><dd>0.636350512818436</dd><dt>31</dt><dd>0.746589119809997</dd><dt>32</dt><dd>0.616893454542206</dd><dt>33</dt><dd>0.430219623584146</dd><dt>34</dt><dd>0.66519049848537</dd><dt>35</dt><dd>0.612746661994891</dd><dt>36</dt><dd>0.605450625791485</dd><dt>37</dt><dd>0.616893454542206</dd><dt>38</dt><dd>0.730532691274615</dd><dt>39</dt><dd>0.479022414209032</dd><dt>40</dt><dd>0.544556756525758</dd><dt>41</dt><dd>0.692847258466624</dd><dt>42</dt><dd>0.536946861777797</dd><dt>43</dt><dd>0.627185172242517</dd><dt>44</dt><dd>0.773703712156207</dd><dt>45</dt><dd>0.461575292101098</dd><dt>46</dt><dd>0.599159118396478</dd><dt>47</dt><dd>0.463751922678626</dd><dt>48</dt><dd>0.801499960680553</dd><dt>49</dt><dd>0.740747830408795</dd><dt>50</dt><dd>0.548896174110224</dd><dt>51</dt><dd>0.653391277415304</dd><dt>53</dt><dd>0.457226504845844</dd><dt>54</dt><dd>0.581161218771292</dd><dt>55</dt><dd>0.529319717151239</dd><dt>56</dt><dd>0.586479474480406</dd><dt>57</dt><dd>0.540210562421469</dd><dt>58</dt><dd>0.372448385529894</dd><dt>59</dt><dd>0.604404403987214</dd><dt>60</dt><dd>0.606495882110525</dd><dt>61</dt><dd>0.679652853929634</dd><dt>62</dt><dd>0.733965810550396</dd><dt>63</dt><dd>0.455054511546985</dd><dt>64</dt><dd>0.497615243404838</dd><dt>65</dt><dd>0.67004755223732</dd><dt>66</dt><dd>0.791568856213381</dd><dt>67</dt><dd>0.667137593792753</dd><dt>68</dt><dd>0.702083939470682</dd><dt>69</dt><dd>0.31620766179969</dd><dt>70</dt><dd>0.367346845670508</dd><dt>71</dt><dd>0.608583463664129</dd><dt>72</dt><dd>0.720067159025855</dd><dt>73</dt><dd>0.367346845670508</dd><dt>74</dt><dd>0.675828403092914</dd><dt>75</dt><dd>0.674868584937632</dd><dt>76</dt><dd>0.580095258568479</dd><dt>77</dt><dd>0.475745884596237</dd><dt>78</dt><dd>0.609625771671549</dd><dt>79</dt><dd>0.631270393428917</dd><dt>80</dt><dd>0.413140428775531</dd><dt>81</dt><dd>0.63938413330183</dd><dt>82</dt><dd>0.59705455289187</dd><dt>83</dt><dd>0.481207787887012</dd><dt>84</dt><dd>0.453969150600405</dd><dt>85</dt><dd>0.747416455003081</dd><dt>86</dt><dd>0.566173192560773</dd><dt>87</dt><dd>0.588601214885228</dd><dt>88</dt><dd>0.826646945119357</dd><dt>89</dt><dd>0.518400883128189</dd><dt>90</dt><dd>0.727071742793672</dd><dt>91</dt><dd>0.610667079739964</dd><dt>92</dt><dd>0.598107287580101</dd><dt>93</dt><dd>0.585417393868507</dd><dt>94</dt><dd>0.522771112587567</dd><dt>95</dt><dd>0.683453318542211</dd><dt>96</dt><dd>0.650411063582514</dd><dt>97</dt><dd>0.356228766585971</dd><dt>98</dt><dd>0.559710830665256</dd><dt>99</dt><dd>0.519493730668156</dd></dl>\n"
            ],
            "text/markdown": "1\n:   0.4216565985009772\n:   0.7507078727144143\n:   0.7572042738775784\n:   0.6312703934289175\n:   0.6282082069528926\n:   0.5467273529719427\n:   0.7775130952732098\n:   0.5347692838254449\n:   0.69563499825481110\n:   0.75315756095679211\n:   0.56724812963981612\n:   0.75070787271441413\n:   0.73053269127461514\n:   0.51074660483485815\n:   0.72445788675219116\n:   0.53150045604257317\n:   0.68534444549273318\n:   0.59600092326646519\n:   0.69748556160083120\n:   0.63432203993892521\n:   0.45614029968141922\n:   0.60440440398721423\n:   0.51512132577663524\n:   0.8525402597665725\n:   0.63837414833257226\n:   0.65931557400567927\n:   0.50965264112556228\n:   0.59389101510438329\n:   0.51402783654722330\n:   0.63635051281843631\n:   0.74658911980999732\n:   0.61689345454220633\n:   0.43021962358414634\n:   0.6651904984853735\n:   0.61274666199489136\n:   0.60545062579148537\n:   0.61689345454220638\n:   0.73053269127461539\n:   0.47902241420903240\n:   0.54455675652575841\n:   0.69284725846662442\n:   0.53694686177779743\n:   0.62718517224251744\n:   0.77370371215620745\n:   0.46157529210109846\n:   0.59915911839647847\n:   0.46375192267862648\n:   0.80149996068055349\n:   0.74074783040879550\n:   0.54889617411022451\n:   0.65339127741530453\n:   0.45722650484584454\n:   0.58116121877129255\n:   0.52931971715123956\n:   0.58647947448040657\n:   0.54021056242146958\n:   0.37244838552989459\n:   0.60440440398721460\n:   0.60649588211052561\n:   0.67965285392963462\n:   0.73396581055039663\n:   0.45505451154698564\n:   0.49761524340483865\n:   0.6700475522373266\n:   0.79156885621338167\n:   0.66713759379275368\n:   0.70208393947068269\n:   0.3162076617996970\n:   0.36734684567050871\n:   0.60858346366412972\n:   0.72006715902585573\n:   0.36734684567050874\n:   0.67582840309291475\n:   0.67486858493763276\n:   0.58009525856847977\n:   0.47574588459623778\n:   0.60962577167154979\n:   0.63127039342891780\n:   0.41314042877553181\n:   0.6393841333018382\n:   0.5970545528918783\n:   0.48120778788701284\n:   0.45396915060040585\n:   0.74741645500308186\n:   0.56617319256077387\n:   0.58860121488522888\n:   0.82664694511935789\n:   0.51840088312818990\n:   0.72707174279367291\n:   0.61066707973996492\n:   0.59810728758010193\n:   0.58541739386850794\n:   0.52277111258756795\n:   0.68345331854221196\n:   0.65041106358251497\n:   0.35622876658597198\n:   0.55971083066525699\n:   0.519493730668156\n\n",
            "text/latex": "\\begin{description*}\n\\item[1] 0.421656598500977\n\\item[2] 0.750707872714414\n\\item[3] 0.757204273877578\n\\item[4] 0.631270393428917\n\\item[5] 0.628208206952892\n\\item[6] 0.546727352971942\n\\item[7] 0.777513095273209\n\\item[8] 0.534769283825444\n\\item[9] 0.695634998254811\n\\item[10] 0.753157560956792\n\\item[11] 0.567248129639816\n\\item[12] 0.750707872714414\n\\item[13] 0.730532691274615\n\\item[14] 0.510746604834858\n\\item[15] 0.724457886752191\n\\item[16] 0.531500456042573\n\\item[17] 0.685344445492733\n\\item[18] 0.596000923266465\n\\item[19] 0.697485561600831\n\\item[20] 0.634322039938925\n\\item[21] 0.456140299681419\n\\item[22] 0.604404403987214\n\\item[23] 0.515121325776635\n\\item[24] 0.85254025976657\n\\item[25] 0.638374148332572\n\\item[26] 0.659315574005679\n\\item[27] 0.509652641125562\n\\item[28] 0.593891015104383\n\\item[29] 0.514027836547223\n\\item[30] 0.636350512818436\n\\item[31] 0.746589119809997\n\\item[32] 0.616893454542206\n\\item[33] 0.430219623584146\n\\item[34] 0.66519049848537\n\\item[35] 0.612746661994891\n\\item[36] 0.605450625791485\n\\item[37] 0.616893454542206\n\\item[38] 0.730532691274615\n\\item[39] 0.479022414209032\n\\item[40] 0.544556756525758\n\\item[41] 0.692847258466624\n\\item[42] 0.536946861777797\n\\item[43] 0.627185172242517\n\\item[44] 0.773703712156207\n\\item[45] 0.461575292101098\n\\item[46] 0.599159118396478\n\\item[47] 0.463751922678626\n\\item[48] 0.801499960680553\n\\item[49] 0.740747830408795\n\\item[50] 0.548896174110224\n\\item[51] 0.653391277415304\n\\item[53] 0.457226504845844\n\\item[54] 0.581161218771292\n\\item[55] 0.529319717151239\n\\item[56] 0.586479474480406\n\\item[57] 0.540210562421469\n\\item[58] 0.372448385529894\n\\item[59] 0.604404403987214\n\\item[60] 0.606495882110525\n\\item[61] 0.679652853929634\n\\item[62] 0.733965810550396\n\\item[63] 0.455054511546985\n\\item[64] 0.497615243404838\n\\item[65] 0.67004755223732\n\\item[66] 0.791568856213381\n\\item[67] 0.667137593792753\n\\item[68] 0.702083939470682\n\\item[69] 0.31620766179969\n\\item[70] 0.367346845670508\n\\item[71] 0.608583463664129\n\\item[72] 0.720067159025855\n\\item[73] 0.367346845670508\n\\item[74] 0.675828403092914\n\\item[75] 0.674868584937632\n\\item[76] 0.580095258568479\n\\item[77] 0.475745884596237\n\\item[78] 0.609625771671549\n\\item[79] 0.631270393428917\n\\item[80] 0.413140428775531\n\\item[81] 0.63938413330183\n\\item[82] 0.59705455289187\n\\item[83] 0.481207787887012\n\\item[84] 0.453969150600405\n\\item[85] 0.747416455003081\n\\item[86] 0.566173192560773\n\\item[87] 0.588601214885228\n\\item[88] 0.826646945119357\n\\item[89] 0.518400883128189\n\\item[90] 0.727071742793672\n\\item[91] 0.610667079739964\n\\item[92] 0.598107287580101\n\\item[93] 0.585417393868507\n\\item[94] 0.522771112587567\n\\item[95] 0.683453318542211\n\\item[96] 0.650411063582514\n\\item[97] 0.356228766585971\n\\item[98] 0.559710830665256\n\\item[99] 0.519493730668156\n\\end{description*}\n",
            "text/plain": [
              "        1         2         3         4         5         6         7         8 \n",
              "0.4216566 0.7507079 0.7572043 0.6312704 0.6282082 0.5467274 0.7775131 0.5347693 \n",
              "        9        10        11        12        13        14        15        16 \n",
              "0.6956350 0.7531576 0.5672481 0.7507079 0.7305327 0.5107466 0.7244579 0.5315005 \n",
              "       17        18        19        20        21        22        23        24 \n",
              "0.6853444 0.5960009 0.6974856 0.6343220 0.4561403 0.6044044 0.5151213 0.8525403 \n",
              "       25        26        27        28        29        30        31        32 \n",
              "0.6383741 0.6593156 0.5096526 0.5938910 0.5140278 0.6363505 0.7465891 0.6168935 \n",
              "       33        34        35        36        37        38        39        40 \n",
              "0.4302196 0.6651905 0.6127467 0.6054506 0.6168935 0.7305327 0.4790224 0.5445568 \n",
              "       41        42        43        44        45        46        47        48 \n",
              "0.6928473 0.5369469 0.6271852 0.7737037 0.4615753 0.5991591 0.4637519 0.8015000 \n",
              "       49        50        51        53        54        55        56        57 \n",
              "0.7407478 0.5488962 0.6533913 0.4572265 0.5811612 0.5293197 0.5864795 0.5402106 \n",
              "       58        59        60        61        62        63        64        65 \n",
              "0.3724484 0.6044044 0.6064959 0.6796529 0.7339658 0.4550545 0.4976152 0.6700476 \n",
              "       66        67        68        69        70        71        72        73 \n",
              "0.7915689 0.6671376 0.7020839 0.3162077 0.3673468 0.6085835 0.7200672 0.3673468 \n",
              "       74        75        76        77        78        79        80        81 \n",
              "0.6758284 0.6748686 0.5800953 0.4757459 0.6096258 0.6312704 0.4131404 0.6393841 \n",
              "       82        83        84        85        86        87        88        89 \n",
              "0.5970546 0.4812078 0.4539692 0.7474165 0.5661732 0.5886012 0.8266469 0.5184009 \n",
              "       90        91        92        93        94        95        96        97 \n",
              "0.7270717 0.6106671 0.5981073 0.5854174 0.5227711 0.6834533 0.6504111 0.3562288 \n",
              "       98        99 \n",
              "0.5597108 0.5194937 "
            ]
          },
          "metadata": {}
        }
      ]
    },
    {
      "cell_type": "markdown",
      "source": [
        "## Plotting **ROC** curve"
      ],
      "metadata": {
        "id": "eLOlTPNpXNcy"
      }
    },
    {
      "cell_type": "code",
      "source": [
        "install.packages(c(\"epiDisplay\", \"foreign\", \"survival\", \"MASS\", \"nnet\"))\n",
        "library(epiDisplay)\n",
        "library(foreign)\n",
        "library(survival)\n",
        "library(MASS)\n",
        "library(nnet)"
      ],
      "metadata": {
        "colab": {
          "base_uri": "https://localhost:8080/"
        },
        "id": "gZLyXoV3K5vK",
        "outputId": "36533908-1734-4bef-fd53-2f150afe1f08"
      },
      "execution_count": 6,
      "outputs": [
        {
          "output_type": "stream",
          "name": "stderr",
          "text": [
            "Installing packages into ‘/usr/local/lib/R/site-library’\n",
            "(as ‘lib’ is unspecified)\n",
            "\n",
            "Loading required package: foreign\n",
            "\n",
            "Loading required package: survival\n",
            "\n",
            "\n",
            "Attaching package: ‘survival’\n",
            "\n",
            "\n",
            "The following object is masked from ‘package:aod’:\n",
            "\n",
            "    rats\n",
            "\n",
            "\n",
            "Loading required package: MASS\n",
            "\n"
          ]
        }
      ]
    },
    {
      "cell_type": "code",
      "source": [
        "roc_curve = lroc(model, title = TRUE)"
      ],
      "metadata": {
        "colab": {
          "base_uri": "https://localhost:8080/",
          "height": 437
        },
        "id": "q875SEo0X6bv",
        "outputId": "28564d5e-d9a5-4241-d49d-238dfbeffcd8"
      },
      "execution_count": 7,
      "outputs": [
        {
          "output_type": "display_data",
          "data": {
            "text/plain": [
              "Plot with title “Turnover ~ JS”"
            ],
            "image/png": "[encoded data removed]"
          },
          "metadata": {
            "image/png": {
              "width": 420,
              "height": 420
            }
          }
        }
      ]
    },
    {
      "cell_type": "code",
      "source": [
        "roc_curve$auc"
      ],
      "metadata": {
        "colab": {
          "base_uri": "https://localhost:8080/",
          "height": 34
        },
        "id": "MU6AhjPzX6dd",
        "outputId": "e5df5e10-47ce-4fc1-93ec-c2b25145504e"
      },
      "execution_count": 8,
      "outputs": [
        {
          "output_type": "display_data",
          "data": {
            "text/html": [
              "0.647544545849631"
            ],
            "text/markdown": "0.647544545849631",
            "text/latex": "0.647544545849631",
            "text/plain": [
              "[1] 0.6475445"
            ]
          },
          "metadata": {}
        }
      ]
    },
    {
      "cell_type": "markdown",
      "source": [
        "## Simple logistic regression using **Logit** function"
      ],
      "metadata": {
        "id": "YGeiL_qBZ8h2"
      }
    },
    {
      "cell_type": "code",
      "source": [
        "install.packages(\"lessR\")\n",
        "library(lessR)"
      ],
      "metadata": {
        "colab": {
          "base_uri": "https://localhost:8080/"
        },
        "id": "eZqvxe0GaPQI",
        "outputId": "d59512d3-dd10-4949-d0ba-0a2aadbd917a"
      },
      "execution_count": 9,
      "outputs": [
        {
          "output_type": "stream",
          "name": "stderr",
          "text": [
            "Installing package into ‘/usr/local/lib/R/site-library’\n",
            "(as ‘lib’ is unspecified)\n",
            "\n",
            "also installing the dependencies ‘deldir’, ‘RcppEigen’, ‘png’, ‘jpeg’, ‘interp’, ‘DEoptimR’, ‘latticeExtra’, ‘robustbase’, ‘ellipse’, ‘leaps’, ‘openxlsx’, ‘xts’, ‘zoo’\n",
            "\n",
            "\n",
            "\n",
            "lessR 4.4.1                         feedback: gerbing@pdx.edu \n",
            "--------------------------------------------------------------\n",
            "> d <- Read(\"\")  Read data file, many formats available, e.g., Excel\n",
            "  d is default data frame, data= in analysis routines optional\n",
            "\n",
            "Many examples of reading, writing, and manipulating data, \n",
            "graphics, testing means and proportions, regression, factor analysis,\n",
            "customization, forecasting, and aggregation from pivot tables\n",
            "  Enter: browseVignettes(\"lessR\")\n",
            "\n",
            "View lessR updates, now including time series forecasting\n",
            "  Enter: news(package=\"lessR\")\n",
            "\n",
            "Interactive data analysis\n",
            "  Enter: interact()\n",
            "\n",
            "\n",
            "\n",
            "Attaching package: ‘lessR’\n",
            "\n",
            "\n",
            "The following object is masked from ‘package:base’:\n",
            "\n",
            "    sort_by\n",
            "\n",
            "\n"
          ]
        }
      ]
    },
    {
      "cell_type": "code",
      "source": [
        "model2 = Logit(Turnover ~ JS, data = data)\n",
        "model2"
      ],
      "metadata": {
        "colab": {
          "base_uri": "https://localhost:8080/",
          "height": 1000
        },
        "id": "lMqWvSmSaC_s",
        "outputId": "5a29c834-1a7e-420b-9f47-eb2f3b8aec3d"
      },
      "execution_count": 10,
      "outputs": [
        {
          "output_type": "stream",
          "name": "stdout",
          "text": [
            "\n",
            "Response Variable:   Turnover\n",
            "Predictor Variable 1:  JS\n",
            "\n",
            "Number of cases (rows) of data:  99 \n",
            "Number of cases retained for analysis:  98 \n",
            "\n",
            "\n",
            "   BASIC ANALYSIS \n",
            "\n",
            "-- Estimated Model of Turnover for the Logit of Reference Group Membership\n",
            "\n",
            "             Estimate    Std Err  z-value  p-value   Lower 95%   Upper 95%\n",
            "(Intercept)    1.8554     0.6883    2.695    0.007      0.5063      3.2044 \n",
            "         JS   -0.4378     0.1958   -2.236    0.025     -0.8216     -0.0540 \n",
            "\n",
            "\n",
            "-- Odds Ratios and Confidence Intervals\n",
            "\n",
            "             Odds Ratio   Lower 95%   Upper 95%\n",
            "(Intercept)      6.3939      1.6591     24.6415 \n",
            "         JS      0.6455      0.4397      0.9475 \n",
            "\n",
            "\n",
            "-- Model Fit\n",
            "\n",
            "    Null deviance: 131.746 on 97 degrees of freedom\n",
            "Residual deviance: 126.341 on 96 degrees of freedom\n",
            "\n",
            "AIC: 130.3413 \n",
            "\n",
            "Number of iterations to convergence: 4 \n",
            "\n",
            "\n",
            "   ANALYSIS OF RESIDUALS AND INFLUENCE \n",
            "Data, Fitted, Residual, Studentized Residual, Dffits, Cook's Distance\n",
            "   [sorted by Cook's Distance]\n",
            "   [res_rows = 20 out of 98 cases (rows) of data]\n",
            "--------------------------------------------------------------------\n",
            "     JS Turnover P(Y=1) residual rstudent  dffits   cooks\n",
            "69 6.00        1 0.3162   0.6838   1.5688  0.3725 0.08496\n",
            "7  1.38        0 0.7775  -0.7775  -1.7682 -0.2877 0.06241\n",
            "73 5.48        1 0.3673   0.6327   1.4476  0.2949 0.04889\n",
            "58 5.43        1 0.3724   0.6276   1.4363  0.2877 0.04618\n",
            "12 1.72        0 0.7507  -0.7507  -1.6920 -0.2486 0.04353\n",
            "31 1.77        0 0.7466  -0.7466  -1.6810 -0.2429 0.04117\n",
            "13 1.96        0 0.7305  -0.7305  -1.6393 -0.2219 0.03314\n",
            "1  4.96        1 0.4217   0.5783   1.3332  0.2239 0.02609\n",
            "33 4.88        1 0.4302   0.5698   1.3162  0.2138 0.02353\n",
            "84 4.66        1 0.4540   0.5460   1.2703  0.1875 0.01757\n",
            "63 4.65        1 0.4551   0.5449   1.2682  0.1863 0.01733\n",
            "61 2.52        0 0.6797  -0.6797  -1.5199 -0.1668 0.01693\n",
            "97 5.59        0 0.3562  -0.3562  -0.9554 -0.2021 0.01693\n",
            "70 5.48        0 0.3673  -0.3673  -0.9731 -0.1985 0.01648\n",
            "74 2.56        0 0.6758  -0.6758  -1.5115 -0.1635 0.01615\n",
            "75 2.57        0 0.6749  -0.6749  -1.5095 -0.1626 0.01596\n",
            "67 2.65        0 0.6671  -0.6671  -1.4929 -0.1563 0.01454\n",
            "80 5.04        0 0.4131  -0.4131  -1.0457 -0.1813 0.01431\n",
            "77 4.46        1 0.4757   0.5243   1.2296  0.1656 0.01336\n",
            "39 4.43        1 0.4790   0.5210   1.2235  0.1625 0.01282\n",
            "\n",
            "\n",
            "   PREDICTION \n",
            "\n",
            "Probability threshold for classification : 0.5\n",
            "\n",
            "\n",
            "Data, Fitted Values, Standard Errors\n",
            "   [sorted by fitted value]\n",
            "   [pred_all=TRUE to see all intervals displayed]\n",
            "--------------------------------------------------------------------\n",
            "     JS Turnover label fitted std.err\n",
            "69 6.00        1     0 0.3162  0.1215\n",
            "97 5.59        0     0 0.3562  0.1120\n",
            "70 5.48        0     0 0.3673  0.1090\n",
            "73 5.48        1     0 0.3673  0.1090\n",
            "\n",
            "... for the rows of data where fitted is close to 0.5 ...\n",
            "\n",
            "     JS Turnover label fitted std.err\n",
            "39 4.43        1     0 0.4790 0.07497\n",
            "83 4.41        0     0 0.4812 0.07431\n",
            "64 4.26        1     0 0.4976 0.06946\n",
            "27 4.15        0     1 0.5097 0.06609\n",
            "14 4.14        0     1 0.5107 0.06579\n",
            "\n",
            "... for the last 4 rows of sorted data ...\n",
            "\n",
            "     JS Turnover label fitted std.err\n",
            "66 1.19        1     1 0.7916 0.07790\n",
            "48 1.05        1     1 0.8015 0.07904\n",
            "88 0.67        1     1 0.8266 0.08096\n",
            "24 0.23        1     1 0.8525 0.08116\n",
            "--------------------------------------------------------------------\n",
            "\n",
            "\n",
            "----------------------------\n",
            "Specified confusion matrices\n",
            "----------------------------\n",
            "\n",
            "Probability threshold for predicting : 0.5\n",
            "Corresponding cutoff threshold for JS: 4.238\n",
            "\n",
            "                 Baseline         Predicted \n",
            "---------------------------------------------------\n",
            "                Total  %Tot        0      1  %Correct \n",
            "---------------------------------------------------\n",
            "           1       59  60.2       10     49     83.1 \n",
            "Turnover   0       39  39.8        8     31     20.5 \n",
            "---------------------------------------------------\n",
            "         Total     98                           58.2 \n",
            "\n",
            "Accuracy: 58.16 \n",
            "Sensitivity: 83.05 \n",
            "Precision: 61.25 \n",
            "\n"
          ]
        },
        {
          "output_type": "display_data",
          "data": {
            "text/plain": [
              "\n",
              "Call:  glm(formula = my_formula, family = \"binomial\", data = data)\n",
              "\n",
              "Coefficients:\n",
              "(Intercept)           JS  \n",
              "     1.8554      -0.4378  \n",
              "\n",
              "Degrees of Freedom: 97 Total (i.e. Null);  96 Residual\n",
              "Null Deviance:\t    131.7 \n",
              "Residual Deviance: 126.3 \tAIC: 130.3"
            ]
          },
          "metadata": {}
        }
      ]
    },
    {
      "cell_type": "markdown",
      "source": [
        "For 1 unit increase in `JS`, the log odd decreases by 0.438 times. So we can say that the people who have higher job satisfaction have less tendency to quit.\n",
        "\n",
        "\n",
        "- Odd ratio > 1 == +ve association\n",
        "- Odd ratio < 1 == -ve association\n",
        "- Odd ratio = 1 ==  no association\n",
        "\n",
        "------\n",
        "\n",
        "We an also say that, for `1 unit` increase in `JS`, the odds of quitting the job decreases by 0.6455 times.\n",
        "\n",
        "**`OR`**\n",
        "\n",
        "1- 0.6455 = 0.354 = **35.4%**\n",
        "\n",
        "- The chances of quitting decreases by 35.4%.\n",
        "\n",
        "\n"
      ],
      "metadata": {
        "id": "psYY0aGmvJGX"
      }
    },
    {
      "cell_type": "markdown",
      "source": [
        "## Cooks Distance\n",
        "\n",
        "To check if they are free from outliers we use `cooks distance`.\n",
        "- Any value greater than 0.04 will be considered as an `outlier`.\n",
        "\n",
        "# **Multiple Logistic Regression**"
      ],
      "metadata": {
        "id": "xXqDP54CxUAa"
      }
    },
    {
      "cell_type": "code",
      "source": [
        "model3 = Logit(Turnover ~ JS + TI + NAff, data = data)\n",
        "model3"
      ],
      "metadata": {
        "id": "aayraRzWaDBi",
        "colab": {
          "base_uri": "https://localhost:8080/",
          "height": 1000
        },
        "outputId": "9c69a8a6-4771-49f6-f94e-3b7c294ea0e9"
      },
      "execution_count": 13,
      "outputs": [
        {
          "output_type": "stream",
          "name": "stdout",
          "text": [
            "\n",
            "Response Variable:   Turnover\n",
            "Predictor Variable 1:  JS\n",
            "Predictor Variable 2:  TI\n",
            "Predictor Variable 3:  NAff\n",
            "\n",
            "Number of cases (rows) of data:  99 \n",
            "Number of cases retained for analysis:  95 \n",
            "\n",
            "\n",
            "   BASIC ANALYSIS \n",
            "\n",
            "-- Estimated Model of Turnover for the Logit of Reference Group Membership\n",
            "\n",
            "             Estimate    Std Err  z-value  p-value   Lower 95%   Upper 95%\n",
            "(Intercept)   -3.9286     1.8120   -2.168    0.030     -7.4800     -0.3772 \n",
            "         JS   -0.2332     0.2215   -1.053    0.293     -0.6674      0.2010 \n",
            "         TI    0.8967     0.3166    2.832    0.005      0.2761      1.5172 \n",
            "       NAff    1.1952     0.4996    2.392    0.017      0.2160      2.1743 \n",
            "\n",
            "\n",
            "-- Odds Ratios and Confidence Intervals\n",
            "\n",
            "             Odds Ratio   Lower 95%   Upper 95%\n",
            "(Intercept)      0.0197      0.0006      0.6858 \n",
            "         JS      0.7920      0.5130      1.2227 \n",
            "         TI      2.4514      1.3180      4.5593 \n",
            "       NAff      3.3041      1.2411      8.7963 \n",
            "\n",
            "\n",
            "-- Model Fit\n",
            "\n",
            "    Null deviance: 127.017 on 94 degrees of freedom\n",
            "Residual deviance: 105.229 on 91 degrees of freedom\n",
            "\n",
            "AIC: 113.2285 \n",
            "\n",
            "Number of iterations to convergence: 4 \n",
            "\n",
            "\n",
            "Collinearity\n",
            "\n",
            "     Tolerance       VIF\n",
            "JS       0.885     1.129\n",
            "TI       0.903     1.108\n",
            "NAff     0.973     1.028\n",
            "\n",
            "   ANALYSIS OF RESIDUALS AND INFLUENCE \n",
            "Data, Fitted, Residual, Studentized Residual, Dffits, Cook's Distance\n",
            "   [sorted by Cook's Distance]\n",
            "   [res_rows = 20 out of 95 cases (rows) of data]\n",
            "--------------------------------------------------------------------\n",
            "     JS   TI NAff Turnover  P(Y=1) residual rstudent  dffits   cooks\n",
            "14 4.14 4.33 3.07        0 0.93448  -0.9345  -2.4565 -0.4581 0.15185\n",
            "1  4.96 0.51 1.87        1 0.08371   0.9163   2.3396  0.4680 0.13427\n",
            "69 6.00 2.37 1.45        1 0.18699   0.8130   1.9301  0.5252 0.10092\n",
            "47 4.57 4.27 2.01        0 0.77499  -0.7750  -1.8127 -0.5016 0.08228\n",
            "96 2.82 4.25 2.05        0 0.84220  -0.8422  -1.9794 -0.3798 0.05870\n",
            "76 3.50 1.37 3.28        0 0.59961  -0.5996  -1.4140 -0.4473 0.04692\n",
            "33 4.88 1.81 1.76        1 0.20749   0.7925   1.8220  0.3639 0.04554\n",
            "32 3.15 3.48 2.84        0 0.86430  -0.8643  -2.0397 -0.3080 0.04250\n",
            "7  1.38 3.18 2.30        0 0.79411  -0.7941  -1.8204 -0.3391 0.03973\n",
            "64 4.26 2.10 1.73        1 0.27461   0.7254   1.6390  0.3009 0.02635\n",
            "70 5.48 2.78 2.27        0 0.49981  -0.4998  -1.2109 -0.3241 0.02182\n",
            "12 1.72 1.78 2.11        0 0.44724  -0.4472  -1.1203 -0.3091 0.01882\n",
            "31 1.77 1.16 2.24        0 0.34887  -0.3489  -0.9604 -0.3157 0.01803\n",
            "56 3.44 3.37 2.35        0 0.75019  -0.7502  -1.6856 -0.2364 0.01720\n",
            "58 5.43 2.43 3.01        1 0.64141   0.3586   0.9747  0.3071 0.01719\n",
            "71 3.23 2.18 2.84        0 0.66088  -0.6609  -1.4931 -0.2582 0.01719\n",
            "16 3.95 1.36 2.87        0 0.45014  -0.4501  -1.1216 -0.2899 0.01661\n",
            "77 4.46 1.80 2.81        1 0.50095   0.4991   1.2014  0.2785 0.01611\n",
            "79 3.01 3.01 1.53        1 0.47428   0.5257   1.2459  0.2729 0.01593\n",
            "67 2.65 3.27 1.94        0 0.66911  -0.6691  -1.5074 -0.2437 0.01552\n",
            "\n",
            "\n",
            "   PREDICTION \n",
            "\n",
            "Probability threshold for classification : 0.5\n",
            "\n",
            "\n",
            "Data, Fitted Values, Standard Errors\n",
            "   [sorted by fitted value]\n",
            "   [pred_all=TRUE to see all intervals displayed]\n",
            "--------------------------------------------------------------------\n",
            "     JS   TI NAff Turnover label  fitted std.err\n",
            "1  4.96 0.51 1.87        1     0 0.08371 0.05860\n",
            "97 5.59 1.62 1.60        0     0 0.13385 0.07684\n",
            "99 4.06 0.65 2.19        0     0 0.15774 0.08794\n",
            "69 6.00 2.37 1.45        1     0 0.18699 0.10944\n",
            "\n",
            "... for the rows of data where fitted is close to 0.5 ...\n",
            "\n",
            "     JS   TI NAff Turnover label fitted std.err\n",
            "79 3.01 3.01 1.53        1     0 0.4743 0.11354\n",
            "57 3.87 3.05 1.72        1     0 0.4899 0.09955\n",
            "70 5.48 2.78 2.27        0     0 0.4998 0.13673\n",
            "77 4.46 1.80 2.81        1     1 0.5009 0.11987\n",
            "8  3.92 1.70 2.80        1     1 0.5070 0.11250\n",
            "\n",
            "... for the last 4 rows of sorted data ...\n",
            "\n",
            "     JS   TI NAff Turnover label fitted std.err\n",
            "24 0.23 4.20 2.38        1     1 0.9327 0.04890\n",
            "14 4.14 4.33 3.07        0     1 0.9345 0.04905\n",
            "26 2.73 3.36 3.64        1     1 0.9426 0.04146\n",
            "95 2.48 4.74 3.18        1     1 0.9719 0.02322\n",
            "--------------------------------------------------------------------\n",
            "\n",
            "\n",
            "----------------------------\n",
            "Specified confusion matrices\n",
            "----------------------------\n",
            "\n",
            "Probability threshold for predicting : 0.5\n",
            "\n",
            "                 Baseline         Predicted \n",
            "---------------------------------------------------\n",
            "                Total  %Tot        0      1  %Correct \n",
            "---------------------------------------------------\n",
            "           1       58  61.1        6     52     89.7 \n",
            "Turnover   0       37  38.9       23     14     62.2 \n",
            "---------------------------------------------------\n",
            "         Total     95                           78.9 \n",
            "\n",
            "Accuracy: 78.95 \n",
            "Sensitivity: 89.66 \n",
            "Precision: 78.79 \n",
            "\n"
          ]
        },
        {
          "output_type": "display_data",
          "data": {
            "text/plain": [
              "\n",
              "Call:  glm(formula = my_formula, family = \"binomial\", data = data)\n",
              "\n",
              "Coefficients:\n",
              "(Intercept)           JS           TI         NAff  \n",
              "    -3.9286      -0.2332       0.8967       1.1952  \n",
              "\n",
              "Degrees of Freedom: 94 Total (i.e. Null);  91 Residual\n",
              "Null Deviance:\t    127 \n",
              "Residual Deviance: 105.2 \tAIC: 113.2"
            ]
          },
          "metadata": {}
        }
      ]
    },
    {
      "cell_type": "markdown",
      "source": [
        "For `1 unit` increase in `NAff`, when controlling for other variable predictor in the model, odds of quitting increases 3.3041 times.\n",
        "\n",
        "Also we can see that the AIC and all consisting deviance values have decreased and the performance matrices have increased which is a good indicator.\n",
        "\n",
        "--------------\n",
        "--------------"
      ],
      "metadata": {
        "id": "aj2hPdkR1Ewq"
      }
    },
    {
      "cell_type": "markdown",
      "source": [
        "# **Forward Selection**\n",
        "\n",
        "Forwatd selection is a type of stepwise regression which begins with an empty model and ass in variables one by one.\n",
        "- In each forward step, one variable that gives the single best improvement to the model is added.\n",
        "\n",
        "1. Null model: Start a model with no variables\n",
        "2. Model with 1 variable: Add the most significant variable.\n",
        "3. Keep adding the most significant variable until reaching the stopping rule or running out of variables.\n",
        "\n",
        "## **Criteria for selction**\n",
        "**How to determine the most significant variable at each step?**\n",
        "- It has the smallest `p-value`.\n",
        "-  It provides the highest increase in `R-squared`.\n",
        "- It provides the highest drop in mdoel's `RSS`.\n",
        "\n",
        "**How to choose a stopping rule?**\n",
        "- The stopping rule is satisfied when all remaining variables to consider have a `p-value` larger than some specified threshold, if added to the model.\n",
        "\n",
        "The threshold can be:\n",
        "- Fixed value (0.02, 0.05 or 0.10)\n",
        "- Determined by `AIC` or `BIC`"
      ],
      "metadata": {
        "id": "VmiAmOS53uBg"
      }
    },
    {
      "cell_type": "markdown",
      "source": [
        "# **Backward Selection**\n",
        "1. Full model: Saturated Model\n",
        "2. remove the least significant variable.\n",
        "\n"
      ],
      "metadata": {
        "id": "xh0Cx5WU7S7V"
      }
    }
  ]
}