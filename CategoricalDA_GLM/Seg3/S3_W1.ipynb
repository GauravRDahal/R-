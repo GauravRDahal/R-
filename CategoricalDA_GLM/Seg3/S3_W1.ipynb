{
  "nbformat": 4,
  "nbformat_minor": 0,
  "metadata": {
    "colab": {
      "provenance": []
    },
    "kernelspec": {
      "name": "ir",
      "display_name": "R"
    },
    "language_info": {
      "name": "R"
    }
  },
  "cells": [
    {
      "cell_type": "markdown",
      "source": [],
      "metadata": {
        "id": "KnGTdngS9llA"
      }
    },
    {
      "cell_type": "code",
      "source": [
        "install.packages(c(\"Stat2Data\"))\n",
        "library(Stat2Data)\n",
        "data(\"MedGPA\")\n",
        "head(MedGPA)"
      ],
      "metadata": {
        "colab": {
          "base_uri": "https://localhost:8080/",
          "height": 360
        },
        "id": "LD-epI1T9mKt",
        "outputId": "3503efb5-ebf7-4c1b-9bce-02f6591d1223"
      },
      "execution_count": null,
      "outputs": [
        {
          "output_type": "stream",
          "name": "stderr",
          "text": [
            "Installing package into ‘/usr/local/lib/R/site-library’\n",
            "(as ‘lib’ is unspecified)\n",
            "\n"
          ]
        },
        {
          "output_type": "display_data",
          "data": {
            "text/html": [
              "<table class=\"dataframe\">\n",
              "<caption>A data.frame: 6 × 11</caption>\n",
              "<thead>\n",
              "\t<tr><th></th><th scope=col>Accept</th><th scope=col>Acceptance</th><th scope=col>Sex</th><th scope=col>BCPM</th><th scope=col>GPA</th><th scope=col>VR</th><th scope=col>PS</th><th scope=col>WS</th><th scope=col>BS</th><th scope=col>MCAT</th><th scope=col>Apps</th></tr>\n",
              "\t<tr><th></th><th scope=col>&lt;fct&gt;</th><th scope=col>&lt;int&gt;</th><th scope=col>&lt;fct&gt;</th><th scope=col>&lt;dbl&gt;</th><th scope=col>&lt;dbl&gt;</th><th scope=col>&lt;int&gt;</th><th scope=col>&lt;int&gt;</th><th scope=col>&lt;int&gt;</th><th scope=col>&lt;int&gt;</th><th scope=col>&lt;int&gt;</th><th scope=col>&lt;int&gt;</th></tr>\n",
              "</thead>\n",
              "<tbody>\n",
              "\t<tr><th scope=row>1</th><td>D</td><td>0</td><td>F</td><td>3.59</td><td>3.62</td><td>11</td><td> 9</td><td>9</td><td> 9</td><td>38</td><td> 5</td></tr>\n",
              "\t<tr><th scope=row>2</th><td>A</td><td>1</td><td>M</td><td>3.75</td><td>3.84</td><td>12</td><td>13</td><td>8</td><td>12</td><td>45</td><td> 3</td></tr>\n",
              "\t<tr><th scope=row>3</th><td>A</td><td>1</td><td>F</td><td>3.24</td><td>3.23</td><td> 9</td><td>10</td><td>5</td><td> 9</td><td>33</td><td>19</td></tr>\n",
              "\t<tr><th scope=row>4</th><td>A</td><td>1</td><td>F</td><td>3.74</td><td>3.69</td><td>12</td><td>11</td><td>7</td><td>10</td><td>40</td><td> 5</td></tr>\n",
              "\t<tr><th scope=row>5</th><td>A</td><td>1</td><td>F</td><td>3.53</td><td>3.38</td><td> 9</td><td>11</td><td>4</td><td>11</td><td>35</td><td>11</td></tr>\n",
              "\t<tr><th scope=row>6</th><td>A</td><td>1</td><td>M</td><td>3.59</td><td>3.72</td><td>10</td><td> 9</td><td>7</td><td>10</td><td>36</td><td> 5</td></tr>\n",
              "</tbody>\n",
              "</table>\n"
            ],
            "text/markdown": "\nA data.frame: 6 × 11\n\n| <!--/--> | Accept &lt;fct&gt; | Acceptance &lt;int&gt; | Sex &lt;fct&gt; | BCPM &lt;dbl&gt; | GPA &lt;dbl&gt; | VR &lt;int&gt; | PS &lt;int&gt; | WS &lt;int&gt; | BS &lt;int&gt; | MCAT &lt;int&gt; | Apps &lt;int&gt; |\n|---|---|---|---|---|---|---|---|---|---|---|---|\n| 1 | D | 0 | F | 3.59 | 3.62 | 11 |  9 | 9 |  9 | 38 |  5 |\n| 2 | A | 1 | M | 3.75 | 3.84 | 12 | 13 | 8 | 12 | 45 |  3 |\n| 3 | A | 1 | F | 3.24 | 3.23 |  9 | 10 | 5 |  9 | 33 | 19 |\n| 4 | A | 1 | F | 3.74 | 3.69 | 12 | 11 | 7 | 10 | 40 |  5 |\n| 5 | A | 1 | F | 3.53 | 3.38 |  9 | 11 | 4 | 11 | 35 | 11 |\n| 6 | A | 1 | M | 3.59 | 3.72 | 10 |  9 | 7 | 10 | 36 |  5 |\n\n",
            "text/latex": "A data.frame: 6 × 11\n\\begin{tabular}{r|lllllllllll}\n  & Accept & Acceptance & Sex & BCPM & GPA & VR & PS & WS & BS & MCAT & Apps\\\\\n  & <fct> & <int> & <fct> & <dbl> & <dbl> & <int> & <int> & <int> & <int> & <int> & <int>\\\\\n\\hline\n\t1 & D & 0 & F & 3.59 & 3.62 & 11 &  9 & 9 &  9 & 38 &  5\\\\\n\t2 & A & 1 & M & 3.75 & 3.84 & 12 & 13 & 8 & 12 & 45 &  3\\\\\n\t3 & A & 1 & F & 3.24 & 3.23 &  9 & 10 & 5 &  9 & 33 & 19\\\\\n\t4 & A & 1 & F & 3.74 & 3.69 & 12 & 11 & 7 & 10 & 40 &  5\\\\\n\t5 & A & 1 & F & 3.53 & 3.38 &  9 & 11 & 4 & 11 & 35 & 11\\\\\n\t6 & A & 1 & M & 3.59 & 3.72 & 10 &  9 & 7 & 10 & 36 &  5\\\\\n\\end{tabular}\n",
            "text/plain": [
              "  Accept Acceptance Sex BCPM GPA  VR PS WS BS MCAT Apps\n",
              "1 D      0          F   3.59 3.62 11  9 9   9 38    5  \n",
              "2 A      1          M   3.75 3.84 12 13 8  12 45    3  \n",
              "3 A      1          F   3.24 3.23  9 10 5   9 33   19  \n",
              "4 A      1          F   3.74 3.69 12 11 7  10 40    5  \n",
              "5 A      1          F   3.53 3.38  9 11 4  11 35   11  \n",
              "6 A      1          M   3.59 3.72 10  9 7  10 36    5  "
            ]
          },
          "metadata": {}
        }
      ]
    },
    {
      "cell_type": "code",
      "source": [
        "names(MedGPA)"
      ],
      "metadata": {
        "colab": {
          "base_uri": "https://localhost:8080/",
          "height": 34
        },
        "id": "AATYzIo09mL-",
        "outputId": "4e846f4c-d104-49c7-c23c-eff00b80fc3d"
      },
      "execution_count": null,
      "outputs": [
        {
          "output_type": "display_data",
          "data": {
            "text/html": [
              "<style>\n",
              ".list-inline {list-style: none; margin:0; padding: 0}\n",
              ".list-inline>li {display: inline-block}\n",
              ".list-inline>li:not(:last-child)::after {content: \"\\00b7\"; padding: 0 .5ex}\n",
              "</style>\n",
              "<ol class=list-inline><li>'Accept'</li><li>'Acceptance'</li><li>'Sex'</li><li>'BCPM'</li><li>'GPA'</li><li>'VR'</li><li>'PS'</li><li>'WS'</li><li>'BS'</li><li>'MCAT'</li><li>'Apps'</li></ol>\n"
            ],
            "text/markdown": "1. 'Accept'\n2. 'Acceptance'\n3. 'Sex'\n4. 'BCPM'\n5. 'GPA'\n6. 'VR'\n7. 'PS'\n8. 'WS'\n9. 'BS'\n10. 'MCAT'\n11. 'Apps'\n\n\n",
            "text/latex": "\\begin{enumerate*}\n\\item 'Accept'\n\\item 'Acceptance'\n\\item 'Sex'\n\\item 'BCPM'\n\\item 'GPA'\n\\item 'VR'\n\\item 'PS'\n\\item 'WS'\n\\item 'BS'\n\\item 'MCAT'\n\\item 'Apps'\n\\end{enumerate*}\n",
            "text/plain": [
              " [1] \"Accept\"     \"Acceptance\" \"Sex\"        \"BCPM\"       \"GPA\"       \n",
              " [6] \"VR\"         \"PS\"         \"WS\"         \"BS\"         \"MCAT\"      \n",
              "[11] \"Apps\"      "
            ]
          },
          "metadata": {}
        }
      ]
    },
    {
      "cell_type": "code",
      "source": [
        "# modelling on acceptance(0/1) using GPA(Q)\n",
        "plot(Acceptance~GPA, data = MedGPA)"
      ],
      "metadata": {
        "colab": {
          "base_uri": "https://localhost:8080/",
          "height": 437
        },
        "id": "v6TpeFA59mQY",
        "outputId": "f6aadfbc-05d6-4e87-8af2-4684cd09f6a7"
      },
      "execution_count": null,
      "outputs": [
        {
          "output_type": "display_data",
          "data": {
            "text/plain": [
              "plot without title"
            ],
            "image/png": "[encoded data removed]"
          },
          "metadata": {
            "image/png": {
              "width": 420,
              "height": 420
            }
          }
        }
      ]
    },
    {
      "cell_type": "code",
      "source": [
        "# What happens when we use linear regression?\n",
        "plot(Acceptance~GPA, data = MedGPA)\n",
        "lml = lm(Acceptance~GPA, data = MedGPA)\n",
        "abline(lml)"
      ],
      "metadata": {
        "colab": {
          "base_uri": "https://localhost:8080/",
          "height": 437
        },
        "id": "oNGfhHiY9mRo",
        "outputId": "83a4bffa-b630-4ae9-a406-b4e73f7dda1f"
      },
      "execution_count": null,
      "outputs": [
        {
          "output_type": "display_data",
          "data": {
            "text/plain": [
              "plot without title"
            ],
            "image/png": "[encoded data removed]"
          },
          "metadata": {
            "image/png": {
              "width": 420,
              "height": 420
            }
          }
        }
      ]
    },
    {
      "cell_type": "code",
      "source": [
        "# logistic regression (binary response)\n",
        "glm(Acceptance~GPA, data = MedGPA, family = \"binomial\")"
      ],
      "metadata": {
        "colab": {
          "base_uri": "https://localhost:8080/",
          "height": 198
        },
        "id": "TpawFo0Z9mWG",
        "outputId": "683a48fe-723b-4864-be96-b113e7716a5c"
      },
      "execution_count": null,
      "outputs": [
        {
          "output_type": "display_data",
          "data": {
            "text/plain": [
              "\n",
              "Call:  glm(formula = Acceptance ~ GPA, family = \"binomial\", data = MedGPA)\n",
              "\n",
              "Coefficients:\n",
              "(Intercept)          GPA  \n",
              "    -19.207        5.454  \n",
              "\n",
              "Degrees of Freedom: 54 Total (i.e. Null);  53 Residual\n",
              "Null Deviance:\t    75.79 \n",
              "Residual Deviance: 56.84 \tAIC: 60.84"
            ]
          },
          "metadata": {}
        }
      ]
    },
    {
      "cell_type": "markdown",
      "source": [
        "Here, we can see that our model is:\n",
        "\n",
        "```\n",
        "logit (pi/1-pi) = -19.207 + 5.454 * GPA\n",
        "```\n",
        "\n",
        "\n",
        "We can say that as GPA goes up by 1 unit, the log(odd) will also increase by 5.454 units.\n",
        "\n"
      ],
      "metadata": {
        "id": "HUrbBxbfAykw"
      }
    },
    {
      "cell_type": "code",
      "source": [
        "GPA = 4\n",
        "-19.207 + 5.454 * GPA"
      ],
      "metadata": {
        "colab": {
          "base_uri": "https://localhost:8080/",
          "height": 34
        },
        "id": "6fWuTDs89mX7",
        "outputId": "fc9df633-79b1-4c91-a9a5-a46eb525c41a"
      },
      "execution_count": null,
      "outputs": [
        {
          "output_type": "display_data",
          "data": {
            "text/html": [
              "2.609"
            ],
            "text/markdown": "2.609",
            "text/latex": "2.609",
            "text/plain": [
              "[1] 2.609"
            ]
          },
          "metadata": {}
        }
      ]
    },
    {
      "cell_type": "markdown",
      "source": [
        "## Multiple Binary Logistic Regression\n",
        "![1.PNG](data:image/png;base64,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)\n",
        "\n",
        "\n",
        "**Predicting Acceptance using GPA, MCAT and Sex**"
      ],
      "metadata": {
        "id": "gH-Q7vq9CWvN"
      }
    },
    {
      "cell_type": "code",
      "source": [
        "model2 = glm(Acceptance ~ GPA + MCAT + Sex, data = MedGPA, family = \"binomial\")\n",
        "summary(model2)"
      ],
      "metadata": {
        "colab": {
          "base_uri": "https://localhost:8080/",
          "height": 397
        },
        "id": "P1wcVfhABPr8",
        "outputId": "30cfa2a3-78c1-4786-9159-333a2cba9a92"
      },
      "execution_count": null,
      "outputs": [
        {
          "output_type": "display_data",
          "data": {
            "text/plain": [
              "\n",
              "Call:\n",
              "glm(formula = Acceptance ~ GPA + MCAT + Sex, family = \"binomial\", \n",
              "    data = MedGPA)\n",
              "\n",
              "Coefficients:\n",
              "            Estimate Std. Error z value Pr(>|z|)    \n",
              "(Intercept) -23.9851     6.9685  -3.442 0.000578 ***\n",
              "GPA           5.1392     1.8508   2.777 0.005491 ** \n",
              "MCAT          0.1809     0.1080   1.675 0.093946 .  \n",
              "SexM         -1.2580     0.7303  -1.723 0.084965 .  \n",
              "---\n",
              "Signif. codes:  0 ‘***’ 0.001 ‘**’ 0.01 ‘*’ 0.05 ‘.’ 0.1 ‘ ’ 1\n",
              "\n",
              "(Dispersion parameter for binomial family taken to be 1)\n",
              "\n",
              "    Null deviance: 75.791  on 54  degrees of freedom\n",
              "Residual deviance: 50.786  on 51  degrees of freedom\n",
              "AIC: 58.786\n",
              "\n",
              "Number of Fisher Scoring iterations: 5\n"
            ]
          },
          "metadata": {}
        }
      ]
    },
    {
      "cell_type": "code",
      "source": [
        "# lets see our values of log(odds)\n",
        "coef(model2)"
      ],
      "metadata": {
        "colab": {
          "base_uri": "https://localhost:8080/",
          "height": 52
        },
        "id": "rMiZvcOUDqEc",
        "outputId": "a488698a-4396-4cea-b51f-c03b5fafe2c9"
      },
      "execution_count": null,
      "outputs": [
        {
          "output_type": "display_data",
          "data": {
            "text/html": [
              "<style>\n",
              ".dl-inline {width: auto; margin:0; padding: 0}\n",
              ".dl-inline>dt, .dl-inline>dd {float: none; width: auto; display: inline-block}\n",
              ".dl-inline>dt::after {content: \":\\0020\"; padding-right: .5ex}\n",
              ".dl-inline>dt:not(:first-of-type) {padding-left: .5ex}\n",
              "</style><dl class=dl-inline><dt>(Intercept)</dt><dd>-23.9851321071955</dd><dt>GPA</dt><dd>5.13923252924675</dd><dt>MCAT</dt><dd>0.180884193734039</dd><dt>SexM</dt><dd>-1.25798873520473</dd></dl>\n"
            ],
            "text/markdown": "(Intercept)\n:   -23.9851321071955GPA\n:   5.13923252924675MCAT\n:   0.180884193734039SexM\n:   -1.25798873520473\n\n",
            "text/latex": "\\begin{description*}\n\\item[(Intercept)] -23.9851321071955\n\\item[GPA] 5.13923252924675\n\\item[MCAT] 0.180884193734039\n\\item[SexM] -1.25798873520473\n\\end{description*}\n",
            "text/plain": [
              "(Intercept)         GPA        MCAT        SexM \n",
              "-23.9851321   5.1392325   0.1808842  -1.2579887 "
            ]
          },
          "metadata": {}
        }
      ]
    },
    {
      "cell_type": "code",
      "source": [
        "#odd ratio\n",
        "odd_ratio = exp(coef(model2))\n",
        "odd_ratio"
      ],
      "metadata": {
        "colab": {
          "base_uri": "https://localhost:8080/",
          "height": 52
        },
        "id": "RS04PCj_DqF1",
        "outputId": "caa8bbf0-e0bf-4f51-9e1e-40d97ff22582"
      },
      "execution_count": null,
      "outputs": [
        {
          "output_type": "display_data",
          "data": {
            "text/html": [
              "<style>\n",
              ".dl-inline {width: auto; margin:0; padding: 0}\n",
              ".dl-inline>dt, .dl-inline>dd {float: none; width: auto; display: inline-block}\n",
              ".dl-inline>dt::after {content: \":\\0020\"; padding-right: .5ex}\n",
              ".dl-inline>dt:not(:first-of-type) {padding-left: .5ex}\n",
              "</style><dl class=dl-inline><dt>(Intercept)</dt><dd>3.83168217035708e-11</dd><dt>GPA</dt><dd>170.584799225922</dd><dt>MCAT</dt><dd>1.19827640334193</dd><dt>SexM</dt><dd>0.28422510395879</dd></dl>\n"
            ],
            "text/markdown": "(Intercept)\n:   3.83168217035708e-11GPA\n:   170.584799225922MCAT\n:   1.19827640334193SexM\n:   0.28422510395879\n\n",
            "text/latex": "\\begin{description*}\n\\item[(Intercept)] 3.83168217035708e-11\n\\item[GPA] 170.584799225922\n\\item[MCAT] 1.19827640334193\n\\item[SexM] 0.28422510395879\n\\end{description*}\n",
            "text/plain": [
              " (Intercept)          GPA         MCAT         SexM \n",
              "3.831682e-11 1.705848e+02 1.198276e+00 2.842251e-01 "
            ]
          },
          "metadata": {}
        }
      ]
    }
  ]
}