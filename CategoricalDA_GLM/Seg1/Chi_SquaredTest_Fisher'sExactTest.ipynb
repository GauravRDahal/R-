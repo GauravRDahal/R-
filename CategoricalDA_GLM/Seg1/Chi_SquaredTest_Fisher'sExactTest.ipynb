{
  "nbformat": 4,
  "nbformat_minor": 0,
  "metadata": {
    "colab": {
      "provenance": [],
      "gpuType": "T4"
    },
    "kernelspec": {
      "name": "ir",
      "display_name": "R"
    },
    "language_info": {
      "name": "R"
    },
    "accelerator": "GPU"
  },
  "cells": [
    {
      "cell_type": "markdown",
      "source": [
        "\n",
        "# Making Numerical data Categorical #\n",
        "\n",
        "Categorical variables can come from numeric variables by aggregating values.\n",
        "\n",
        "For example:-\n",
        "The test marks could be placed into broad categories of 0-40, 40-60 and over 60. To do this using R one uses the cut() function and the table() function"
      ],
      "metadata": {
        "id": "OTwHiWH3cfWV"
      }
    },
    {
      "cell_type": "code",
      "source": [
        "marks= c(23, 45, 65, 21,59, 70, 56, 80,43,22)\n",
        "marks"
      ],
      "metadata": {
        "colab": {
          "base_uri": "https://localhost:8080/",
          "height": 34
        },
        "id": "SHXJTWwibQxf",
        "outputId": "b9a14d5e-5176-4e07-8c34-3e067299c344"
      },
      "execution_count": 14,
      "outputs": [
        {
          "output_type": "display_data",
          "data": {
            "text/html": [
              "<style>\n",
              ".list-inline {list-style: none; margin:0; padding: 0}\n",
              ".list-inline>li {display: inline-block}\n",
              ".list-inline>li:not(:last-child)::after {content: \"\\00b7\"; padding: 0 .5ex}\n",
              "</style>\n",
              "<ol class=list-inline><li>23</li><li>45</li><li>65</li><li>21</li><li>59</li><li>70</li><li>56</li><li>80</li><li>43</li><li>22</li></ol>\n"
            ],
            "text/markdown": "1. 23\n2. 45\n3. 65\n4. 21\n5. 59\n6. 70\n7. 56\n8. 80\n9. 43\n10. 22\n\n\n",
            "text/latex": "\\begin{enumerate*}\n\\item 23\n\\item 45\n\\item 65\n\\item 21\n\\item 59\n\\item 70\n\\item 56\n\\item 80\n\\item 43\n\\item 22\n\\end{enumerate*}\n",
            "text/plain": [
              " [1] 23 45 65 21 59 70 56 80 43 22"
            ]
          },
          "metadata": {}
        }
      ]
    },
    {
      "cell_type": "code",
      "source": [
        "cat = cut(marks, breaks = c(0, 40, 60, max(marks)))\n",
        "cat"
      ],
      "metadata": {
        "colab": {
          "base_uri": "https://localhost:8080/",
          "height": 52
        },
        "id": "Uv-MsdxebQzz",
        "outputId": "e4304cf4-2d46-4718-cbb6-84979b69c38d"
      },
      "execution_count": 15,
      "outputs": [
        {
          "output_type": "display_data",
          "data": {
            "text/html": [
              "<style>\n",
              ".list-inline {list-style: none; margin:0; padding: 0}\n",
              ".list-inline>li {display: inline-block}\n",
              ".list-inline>li:not(:last-child)::after {content: \"\\00b7\"; padding: 0 .5ex}\n",
              "</style>\n",
              "<ol class=list-inline><li>(0,40]</li><li>(40,60]</li><li>(60,80]</li><li>(0,40]</li><li>(40,60]</li><li>(60,80]</li><li>(40,60]</li><li>(60,80]</li><li>(40,60]</li><li>(0,40]</li></ol>\n",
              "\n",
              "<details>\n",
              "\t<summary style=display:list-item;cursor:pointer>\n",
              "\t\t<strong>Levels</strong>:\n",
              "\t</summary>\n",
              "\t<style>\n",
              "\t.list-inline {list-style: none; margin:0; padding: 0}\n",
              "\t.list-inline>li {display: inline-block}\n",
              "\t.list-inline>li:not(:last-child)::after {content: \"\\00b7\"; padding: 0 .5ex}\n",
              "\t</style>\n",
              "\t<ol class=list-inline><li>'(0,40]'</li><li>'(40,60]'</li><li>'(60,80]'</li></ol>\n",
              "</details>"
            ],
            "text/markdown": "1. (0,40]\n2. (40,60]\n3. (60,80]\n4. (0,40]\n5. (40,60]\n6. (60,80]\n7. (40,60]\n8. (60,80]\n9. (40,60]\n10. (0,40]\n\n\n\n**Levels**: 1. '(0,40]'\n2. '(40,60]'\n3. '(60,80]'\n\n\n",
            "text/latex": "\\begin{enumerate*}\n\\item (0,40{]}\n\\item (40,60{]}\n\\item (60,80{]}\n\\item (0,40{]}\n\\item (40,60{]}\n\\item (60,80{]}\n\\item (40,60{]}\n\\item (60,80{]}\n\\item (40,60{]}\n\\item (0,40{]}\n\\end{enumerate*}\n\n\\emph{Levels}: \\begin{enumerate*}\n\\item '(0,40{]}'\n\\item '(40,60{]}'\n\\item '(60,80{]}'\n\\end{enumerate*}\n",
            "text/plain": [
              " [1] (0,40]  (40,60] (60,80] (0,40]  (40,60] (60,80] (40,60] (60,80] (40,60]\n",
              "[10] (0,40] \n",
              "Levels: (0,40] (40,60] (60,80]"
            ]
          },
          "metadata": {}
        }
      ]
    },
    {
      "cell_type": "code",
      "source": [
        "levels(cat)"
      ],
      "metadata": {
        "colab": {
          "base_uri": "https://localhost:8080/",
          "height": 34
        },
        "id": "5SuH1-UKbQ2V",
        "outputId": "08ddbd65-7a8b-4398-87e5-28baad120eec"
      },
      "execution_count": 16,
      "outputs": [
        {
          "output_type": "display_data",
          "data": {
            "text/html": [
              "<style>\n",
              ".list-inline {list-style: none; margin:0; padding: 0}\n",
              ".list-inline>li {display: inline-block}\n",
              ".list-inline>li:not(:last-child)::after {content: \"\\00b7\"; padding: 0 .5ex}\n",
              "</style>\n",
              "<ol class=list-inline><li>'(0,40]'</li><li>'(40,60]'</li><li>'(60,80]'</li></ol>\n"
            ],
            "text/markdown": "1. '(0,40]'\n2. '(40,60]'\n3. '(60,80]'\n\n\n",
            "text/latex": "\\begin{enumerate*}\n\\item '(0,40{]}'\n\\item '(40,60{]}'\n\\item '(60,80{]}'\n\\end{enumerate*}\n",
            "text/plain": [
              "[1] \"(0,40]\"  \"(40,60]\" \"(60,80]\""
            ]
          },
          "metadata": {}
        }
      ]
    },
    {
      "cell_type": "code",
      "source": [
        "table(cat)"
      ],
      "metadata": {
        "colab": {
          "base_uri": "https://localhost:8080/",
          "height": 69
        },
        "id": "t6oL7ZxbbQ41",
        "outputId": "f025c380-fd9c-4198-dd57-618da16fd42a"
      },
      "execution_count": 17,
      "outputs": [
        {
          "output_type": "display_data",
          "data": {
            "text/plain": [
              "cat\n",
              " (0,40] (40,60] (60,80] \n",
              "      3       4       3 "
            ]
          },
          "metadata": {}
        }
      ]
    },
    {
      "cell_type": "markdown",
      "source": [
        "# Bivariate Data #\n",
        "\n",
        "Suppose a student survey is done to evaluate if students who smoke study less.\n",
        "\n",
        "- Amount of studying :- \"less than one hour\"- \"1\", \"5-10 year\" - \"2\", \"more than 10 years\" - \"3\"\n"
      ],
      "metadata": {
        "id": "akzHOfNzdLwE"
      }
    },
    {
      "cell_type": "code",
      "source": [
        "smokes = c(\"Y\",\"N\",\"N\",\"Y\",\"N\",\"Y\",\"Y\",\"Y\",\"N\",\"Y\")\n",
        "amount = c(1,2,2,3,3,1,2,1,3,2)\n",
        "table(smokes,amount)"
      ],
      "metadata": {
        "colab": {
          "base_uri": "https://localhost:8080/",
          "height": 86
        },
        "id": "qRmMTjCQbQ7r",
        "outputId": "60f3a6e9-74ce-495d-e065-f0829e7b0ff5"
      },
      "execution_count": 18,
      "outputs": [
        {
          "output_type": "display_data",
          "data": {
            "text/plain": [
              "      amount\n",
              "smokes 1 2 3\n",
              "     N 0 2 2\n",
              "     Y 3 2 1"
            ]
          },
          "metadata": {}
        }
      ]
    },
    {
      "cell_type": "code",
      "source": [
        "barplot(table(smokes,amount))"
      ],
      "metadata": {
        "colab": {
          "base_uri": "https://localhost:8080/",
          "height": 437
        },
        "id": "Do1hYSepdbx7",
        "outputId": "e9e153c9-6caa-476e-f51b-0822fff6114f"
      },
      "execution_count": 19,
      "outputs": [
        {
          "output_type": "display_data",
          "data": {
            "text/plain": [
              "plot without title"
            ],
            "image/png": "[encoded data removed]"
          },
          "metadata": {
            "image/png": {
              "width": 420,
              "height": 420
            }
          }
        }
      ]
    },
    {
      "cell_type": "code",
      "source": [
        "barplot(table(amount,smokes))"
      ],
      "metadata": {
        "colab": {
          "base_uri": "https://localhost:8080/",
          "height": 437
        },
        "id": "SiNmT80Ydb0q",
        "outputId": "fb1e11b5-822c-4c1b-8702-b62c1975b013"
      },
      "execution_count": 20,
      "outputs": [
        {
          "output_type": "display_data",
          "data": {
            "text/plain": [
              "plot without title"
            ],
            "image/png": "[encoded data removed]"
          },
          "metadata": {
            "image/png": {
              "width": 420,
              "height": 420
            }
          }
        }
      ]
    },
    {
      "cell_type": "markdown",
      "source": [],
      "metadata": {
        "id": "m-Ikdy0leD90"
      }
    },
    {
      "cell_type": "code",
      "source": [
        "install.packages(\"vcd\")\n",
        "install.packages(c(\"vcd\",\"grid\"))"
      ],
      "metadata": {
        "id": "icuxSaH1db3n"
      },
      "execution_count": null,
      "outputs": []
    },
    {
      "cell_type": "code",
      "source": [
        "library(vcd)\n",
        "library(grid)"
      ],
      "metadata": {
        "id": "wUIpKliTdb7O"
      },
      "execution_count": null,
      "outputs": []
    },
    {
      "cell_type": "code",
      "source": [
        " data(\"Arthritis\")\n",
        "head(Arthritis)"
      ],
      "metadata": {
        "colab": {
          "base_uri": "https://localhost:8080/",
          "height": 286
        },
        "id": "GKqmnvwqdcBJ",
        "outputId": "79eab592-a5da-4f25-8434-7af4e9dc5bb7"
      },
      "execution_count": 21,
      "outputs": [
        {
          "output_type": "display_data",
          "data": {
            "text/html": [
              "<table class=\"dataframe\">\n",
              "<caption>A data.frame: 6 × 5</caption>\n",
              "<thead>\n",
              "\t<tr><th></th><th scope=col>ID</th><th scope=col>Treatment</th><th scope=col>Sex</th><th scope=col>Age</th><th scope=col>Improved</th></tr>\n",
              "\t<tr><th></th><th scope=col>&lt;int&gt;</th><th scope=col>&lt;fct&gt;</th><th scope=col>&lt;fct&gt;</th><th scope=col>&lt;int&gt;</th><th scope=col>&lt;ord&gt;</th></tr>\n",
              "</thead>\n",
              "<tbody>\n",
              "\t<tr><th scope=row>1</th><td>57</td><td>Treated</td><td>Male</td><td>27</td><td>Some  </td></tr>\n",
              "\t<tr><th scope=row>2</th><td>46</td><td>Treated</td><td>Male</td><td>29</td><td>None  </td></tr>\n",
              "\t<tr><th scope=row>3</th><td>77</td><td>Treated</td><td>Male</td><td>30</td><td>None  </td></tr>\n",
              "\t<tr><th scope=row>4</th><td>17</td><td>Treated</td><td>Male</td><td>32</td><td>Marked</td></tr>\n",
              "\t<tr><th scope=row>5</th><td>36</td><td>Treated</td><td>Male</td><td>46</td><td>Marked</td></tr>\n",
              "\t<tr><th scope=row>6</th><td>23</td><td>Treated</td><td>Male</td><td>58</td><td>Marked</td></tr>\n",
              "</tbody>\n",
              "</table>\n"
            ],
            "text/markdown": "\nA data.frame: 6 × 5\n\n| <!--/--> | ID &lt;int&gt; | Treatment &lt;fct&gt; | Sex &lt;fct&gt; | Age &lt;int&gt; | Improved &lt;ord&gt; |\n|---|---|---|---|---|---|\n| 1 | 57 | Treated | Male | 27 | Some   |\n| 2 | 46 | Treated | Male | 29 | None   |\n| 3 | 77 | Treated | Male | 30 | None   |\n| 4 | 17 | Treated | Male | 32 | Marked |\n| 5 | 36 | Treated | Male | 46 | Marked |\n| 6 | 23 | Treated | Male | 58 | Marked |\n\n",
            "text/latex": "A data.frame: 6 × 5\n\\begin{tabular}{r|lllll}\n  & ID & Treatment & Sex & Age & Improved\\\\\n  & <int> & <fct> & <fct> & <int> & <ord>\\\\\n\\hline\n\t1 & 57 & Treated & Male & 27 & Some  \\\\\n\t2 & 46 & Treated & Male & 29 & None  \\\\\n\t3 & 77 & Treated & Male & 30 & None  \\\\\n\t4 & 17 & Treated & Male & 32 & Marked\\\\\n\t5 & 36 & Treated & Male & 46 & Marked\\\\\n\t6 & 23 & Treated & Male & 58 & Marked\\\\\n\\end{tabular}\n",
            "text/plain": [
              "  ID Treatment Sex  Age Improved\n",
              "1 57 Treated   Male 27  Some    \n",
              "2 46 Treated   Male 29  None    \n",
              "3 77 Treated   Male 30  None    \n",
              "4 17 Treated   Male 32  Marked  \n",
              "5 36 Treated   Male 46  Marked  \n",
              "6 23 Treated   Male 58  Marked  "
            ]
          },
          "metadata": {}
        }
      ]
    },
    {
      "cell_type": "markdown",
      "source": [
        "We can generate simple frequency counts using the table() function.\n",
        "\n",
        "Here’s an example:\n"
      ],
      "metadata": {
        "id": "9zu_Y4-VduVB"
      }
    },
    {
      "cell_type": "code",
      "source": [
        "mytable <- with(Arthritis, table(Improved))\n",
        " mytable"
      ],
      "metadata": {
        "colab": {
          "base_uri": "https://localhost:8080/",
          "height": 69
        },
        "id": "IXelu6V1dcEt",
        "outputId": "6f7e0dce-5b0f-4da4-bb5d-0a4039c2c100"
      },
      "execution_count": 22,
      "outputs": [
        {
          "output_type": "display_data",
          "data": {
            "text/plain": [
              "Improved\n",
              "  None   Some Marked \n",
              "    42     14     28 "
            ]
          },
          "metadata": {}
        }
      ]
    },
    {
      "cell_type": "markdown",
      "source": [
        "We can turn these frequencies into proportions with prop.table()\n"
      ],
      "metadata": {
        "id": "uN5OIJbHd6Mw"
      }
    },
    {
      "cell_type": "code",
      "source": [
        "prop.table(mytable)"
      ],
      "metadata": {
        "colab": {
          "base_uri": "https://localhost:8080/",
          "height": 69
        },
        "id": "VyYfPI0ndcOf",
        "outputId": "d3fc810c-1657-43cc-85cf-8a7a4c67db65"
      },
      "execution_count": 23,
      "outputs": [
        {
          "output_type": "display_data",
          "data": {
            "text/plain": [
              "Improved\n",
              "     None      Some    Marked \n",
              "0.5000000 0.1666667 0.3333333 "
            ]
          },
          "metadata": {}
        }
      ]
    },
    {
      "cell_type": "code",
      "source": [
        "#or into percentages, using prop.table()*100\n",
        "prop.table(mytable)*100"
      ],
      "metadata": {
        "colab": {
          "base_uri": "https://localhost:8080/",
          "height": 69
        },
        "id": "hJPgZYWwdcSA",
        "outputId": "c4d69209-6757-4409-b820-c1f70a194ae3"
      },
      "execution_count": 24,
      "outputs": [
        {
          "output_type": "display_data",
          "data": {
            "text/plain": [
              "Improved\n",
              "    None     Some   Marked \n",
              "50.00000 16.66667 33.33333 "
            ]
          },
          "metadata": {}
        }
      ]
    },
    {
      "cell_type": "markdown",
      "source": [
        "For two-way tables, the format for the table() function is"
      ],
      "metadata": {
        "id": "nfsPyCDBekdP"
      }
    },
    {
      "cell_type": "code",
      "source": [
        "# Treatment will be row and Improved will be column\n",
        "mytable <- xtabs(~ Treatment+Improved, data=Arthritis)\n",
        "mytable"
      ],
      "metadata": {
        "colab": {
          "base_uri": "https://localhost:8080/",
          "height": 86
        },
        "id": "i099GfKWbQ_L",
        "outputId": "04808484-0f5e-4cad-fa9c-642cfdc56148"
      },
      "execution_count": 26,
      "outputs": [
        {
          "output_type": "display_data",
          "data": {
            "text/plain": [
              "         Improved\n",
              "Treatment None Some Marked\n",
              "  Placebo   29    7      7\n",
              "  Treated   13    7     21"
            ]
          },
          "metadata": {}
        }
      ]
    },
    {
      "cell_type": "markdown",
      "source": [
        "We can generate marginal frequencies and proportions using the margin.table()"
      ],
      "metadata": {
        "id": "GeRJMmhaewsv"
      }
    },
    {
      "cell_type": "code",
      "source": [
        " margin.table(mytable, 1) # 1 represents row here"
      ],
      "metadata": {
        "colab": {
          "base_uri": "https://localhost:8080/",
          "height": 69
        },
        "id": "5DkC0Q7QesyA",
        "outputId": "985ca8dc-8f5f-434b-fd50-e86387a32483"
      },
      "execution_count": 27,
      "outputs": [
        {
          "output_type": "display_data",
          "data": {
            "text/plain": [
              "Treatment\n",
              "Placebo Treated \n",
              "     43      41 "
            ]
          },
          "metadata": {}
        }
      ]
    },
    {
      "cell_type": "code",
      "source": [
        " margin.table(mytable, 2) # 2 represent the column"
      ],
      "metadata": {
        "colab": {
          "base_uri": "https://localhost:8080/",
          "height": 69
        },
        "id": "ho_lB_92es1i",
        "outputId": "00b6e13d-b0a0-4aaf-8f47-e5ff0776767c"
      },
      "execution_count": 28,
      "outputs": [
        {
          "output_type": "display_data",
          "data": {
            "text/plain": [
              "Improved\n",
              "  None   Some Marked \n",
              "    42     14     28 "
            ]
          },
          "metadata": {}
        }
      ]
    },
    {
      "cell_type": "markdown",
      "source": [
        "We can use the addmargins() function to directly add marginal sums to our contingency tables."
      ],
      "metadata": {
        "id": "Umfwoa6EgVtR"
      }
    },
    {
      "cell_type": "code",
      "source": [
        "addmargins(mytable)"
      ],
      "metadata": {
        "colab": {
          "base_uri": "https://localhost:8080/",
          "height": 160
        },
        "id": "MLqPf-FtetEY",
        "outputId": "33150470-519a-4c91-9e58-646b102497a5"
      },
      "execution_count": 29,
      "outputs": [
        {
          "output_type": "display_data",
          "data": {
            "text/html": [
              "<table class=\"dataframe\">\n",
              "<caption>A table: 3 × 4 of type dbl</caption>\n",
              "<thead>\n",
              "\t<tr><th></th><th scope=col>None</th><th scope=col>Some</th><th scope=col>Marked</th><th scope=col>Sum</th></tr>\n",
              "</thead>\n",
              "<tbody>\n",
              "\t<tr><th scope=row>Placebo</th><td>29</td><td> 7</td><td> 7</td><td>43</td></tr>\n",
              "\t<tr><th scope=row>Treated</th><td>13</td><td> 7</td><td>21</td><td>41</td></tr>\n",
              "\t<tr><th scope=row>Sum</th><td>42</td><td>14</td><td>28</td><td>84</td></tr>\n",
              "</tbody>\n",
              "</table>\n"
            ],
            "text/markdown": "\nA table: 3 × 4 of type dbl\n\n| <!--/--> | None | Some | Marked | Sum |\n|---|---|---|---|---|\n| Placebo | 29 |  7 |  7 | 43 |\n| Treated | 13 |  7 | 21 | 41 |\n| Sum | 42 | 14 | 28 | 84 |\n\n",
            "text/latex": "A table: 3 × 4 of type dbl\n\\begin{tabular}{r|llll}\n  & None & Some & Marked & Sum\\\\\n\\hline\n\tPlacebo & 29 &  7 &  7 & 43\\\\\n\tTreated & 13 &  7 & 21 & 41\\\\\n\tSum & 42 & 14 & 28 & 84\\\\\n\\end{tabular}\n",
            "text/plain": [
              "         Improved\n",
              "Treatment None Some Marked Sum\n",
              "  Placebo 29    7    7     43 \n",
              "  Treated 13    7   21     41 \n",
              "  Sum     42   14   28     84 "
            ]
          },
          "metadata": {}
        }
      ]
    },
    {
      "cell_type": "markdown",
      "source": [
        "# **Chi Square Test** #\n",
        "\n",
        "Chi-square test is used to check the association between two variables.\n",
        "_________\n",
        "\n",
        "### **Test #1**\n",
        "\n",
        " Here, we are taking two variables, Treatment and Improved.\n",
        "\n",
        "` H0: Treatment and Improved are independent.`\n",
        "\n",
        "` H1: Treatment and Improved are not independent.`"
      ],
      "metadata": {
        "id": "fl6TjK32gtCM"
      }
    },
    {
      "cell_type": "code",
      "source": [
        "# First, creating a contingency table for these two variables\n",
        "mytable <- xtabs(~ Treatment+Improved, data=Arthritis)\n",
        "mytable"
      ],
      "metadata": {
        "colab": {
          "base_uri": "https://localhost:8080/",
          "height": 86
        },
        "id": "wH-VxtSVetHP",
        "outputId": "546e2435-0eb0-41c6-890d-8160d2b3711b"
      },
      "execution_count": 30,
      "outputs": [
        {
          "output_type": "display_data",
          "data": {
            "text/plain": [
              "         Improved\n",
              "Treatment None Some Marked\n",
              "  Placebo   29    7      7\n",
              "  Treated   13    7     21"
            ]
          },
          "metadata": {}
        }
      ]
    },
    {
      "cell_type": "code",
      "source": [
        "chisq.test(mytable)"
      ],
      "metadata": {
        "colab": {
          "base_uri": "https://localhost:8080/",
          "height": 104
        },
        "id": "bz3J4r9YetJ-",
        "outputId": "8a7215c8-336c-4b7b-f4b8-0d79b34b428b"
      },
      "execution_count": 31,
      "outputs": [
        {
          "output_type": "display_data",
          "data": {
            "text/plain": [
              "\n",
              "\tPearson's Chi-squared test\n",
              "\n",
              "data:  mytable\n",
              "X-squared = 13.055, df = 2, p-value = 0.001463\n"
            ]
          },
          "metadata": {}
        }
      ]
    },
    {
      "cell_type": "markdown",
      "source": [
        "Here, we can see, it is a Pearson's Chi-Squared test where we got:\n",
        "- X-squared: which is a Chi-Squared value\n",
        "- The degree of freedom (in this case 2)\n",
        "- p-value\n",
        "\n",
        "As we can see that the p-value < 0.05, we can reject the null hypothesis and accept the alternate hypothesis.\n",
        "\n",
        "**`Therefore, we conclude that there is association between the two variables i.e., Treatment and Improvement.`**"
      ],
      "metadata": {
        "id": "kN-zfFuAi_Xz"
      }
    },
    {
      "cell_type": "markdown",
      "source": [
        "## **Test #2**\n",
        "\n",
        " Here, we are taking two variables, Sex and Improvement to check if there is some association between the two.\n",
        "\n",
        " ` H0: Sex and Improved are independent.`\n",
        "\n",
        "` H1: Sex and Improved are not independent.`"
      ],
      "metadata": {
        "id": "f6fAkWAekKWh"
      }
    },
    {
      "cell_type": "code",
      "source": [
        "# First, creating a contingency table for these two variables\n",
        "mytable2 = xtabs(~Improved + Sex, data = Arthritis)\n",
        "mytable2"
      ],
      "metadata": {
        "colab": {
          "base_uri": "https://localhost:8080/",
          "height": 104
        },
        "id": "BxMTrbx7etNY",
        "outputId": "dbc1f2ac-54c7-4117-b993-fba6afe22467"
      },
      "execution_count": 32,
      "outputs": [
        {
          "output_type": "display_data",
          "data": {
            "text/plain": [
              "        Sex\n",
              "Improved Female Male\n",
              "  None       25   17\n",
              "  Some       12    2\n",
              "  Marked     22    6"
            ]
          },
          "metadata": {}
        }
      ]
    },
    {
      "cell_type": "code",
      "source": [
        "chisq.test(mytable2)"
      ],
      "metadata": {
        "colab": {
          "base_uri": "https://localhost:8080/",
          "height": 139
        },
        "id": "5yRpUG3Kk7oo",
        "outputId": "aaab0889-29dd-4eec-d110-95d2903eea45"
      },
      "execution_count": 33,
      "outputs": [
        {
          "output_type": "stream",
          "name": "stderr",
          "text": [
            "Warning message in chisq.test(mytable2):\n",
            "“Chi-squared approximation may be incorrect”\n"
          ]
        },
        {
          "output_type": "display_data",
          "data": {
            "text/plain": [
              "\n",
              "\tPearson's Chi-squared test\n",
              "\n",
              "data:  mytable2\n",
              "X-squared = 4.8407, df = 2, p-value = 0.08889\n"
            ]
          },
          "metadata": {}
        }
      ]
    },
    {
      "cell_type": "markdown",
      "source": [
        "As we can see that the p-value > 0.05, we fail to reject the null hypothesis and reject the alternate hypothesis.\n",
        "\n",
        "**`Therefore, we conclude that there is no association between the two variables i.e., Sex and Improved. They are independent from one another.`**\n",
        "\n",
        "----------\n",
        "\n",
        "### **Important**\n",
        "\n",
        "Here, we can also see the warning message: “Chi-squared approximation may be incorrect”\n",
        "\n",
        "As we know, the basic assumptions/conditions for Chi-Squared test are:\n",
        "\n",
        "\n",
        "1.   The sample observation should ne independent.\n",
        "2.   No, theoritical cell frequency should be less than 5."
      ],
      "metadata": {
        "id": "4B4BRlshlZqO"
      }
    },
    {
      "cell_type": "code",
      "source": [
        "mytable2"
      ],
      "metadata": {
        "colab": {
          "base_uri": "https://localhost:8080/",
          "height": 104
        },
        "id": "lJ6_ShuHk7q7",
        "outputId": "f7b1f993-60ab-4d02-b150-f912e4c79d83"
      },
      "execution_count": 34,
      "outputs": [
        {
          "output_type": "display_data",
          "data": {
            "text/plain": [
              "        Sex\n",
              "Improved Female Male\n",
              "  None       25   17\n",
              "  Some       12    2\n",
              "  Marked     22    6"
            ]
          },
          "metadata": {}
        }
      ]
    },
    {
      "cell_type": "markdown",
      "source": [
        "Here, we can see that out contingency table contains a cell with frequency 2 which violates the second assumption.\n",
        "\n",
        "-------\n",
        "\n",
        "Therefore, in this case we cahange our from `Chi-Squared test` to `Fisher's Exact Test`.\n",
        "\n",
        "## **Fisher's Exact Test**\n",
        "\n",
        "## **Test #3**\n",
        "\n",
        " Here, we are taking two variables, Sex and Improvement to check if there is some association between the two.\n",
        "\n",
        " ` H0: Sex and Improved are independent.`\n",
        "\n",
        "`H1: Sex and Improved are not independent.`"
      ],
      "metadata": {
        "id": "RsOUycJ_oFyw"
      }
    },
    {
      "cell_type": "code",
      "source": [
        "mytable2"
      ],
      "metadata": {
        "colab": {
          "base_uri": "https://localhost:8080/",
          "height": 104
        },
        "id": "hei6qvzbk7tQ",
        "outputId": "c3ea5c2a-787c-4aba-ebca-54c89747f3e2"
      },
      "execution_count": 35,
      "outputs": [
        {
          "output_type": "display_data",
          "data": {
            "text/plain": [
              "        Sex\n",
              "Improved Female Male\n",
              "  None       25   17\n",
              "  Some       12    2\n",
              "  Marked     22    6"
            ]
          },
          "metadata": {}
        }
      ]
    },
    {
      "cell_type": "code",
      "source": [
        "fisher.test(mytable2)"
      ],
      "metadata": {
        "colab": {
          "base_uri": "https://localhost:8080/",
          "height": 121
        },
        "id": "NDIzs5rHk7vv",
        "outputId": "88d549e4-ddef-4ddd-ffec-bb49e59dbfd6"
      },
      "execution_count": 36,
      "outputs": [
        {
          "output_type": "display_data",
          "data": {
            "text/plain": [
              "\n",
              "\tFisher's Exact Test for Count Data\n",
              "\n",
              "data:  mytable2\n",
              "p-value = 0.1094\n",
              "alternative hypothesis: two.sided\n"
            ]
          },
          "metadata": {}
        }
      ]
    },
    {
      "cell_type": "markdown",
      "source": [
        "Again, we can see that the p-value > 0.05, we accept the null hypothesis and reject the alternate hypothesis.\n",
        "\n",
        "**`Therefore, we conclude that there is no association between the two variables i.e., Sex and Improved. They are independent from one another.`**"
      ],
      "metadata": {
        "id": "cfnQ8XKypDOv"
      }
    }
  ]
}