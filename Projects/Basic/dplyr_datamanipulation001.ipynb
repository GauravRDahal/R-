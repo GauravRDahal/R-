{
  "nbformat": 4,
  "nbformat_minor": 0,
  "metadata": {
    "colab": {
      "provenance": []
    },
    "kernelspec": {
      "name": "ir",
      "display_name": "R"
    },
    "language_info": {
      "name": "R"
    }
  },
  "cells": [
    {
      "cell_type": "code",
      "execution_count": 6,
      "metadata": {
        "colab": {
          "base_uri": "https://localhost:8080/"
        },
        "id": "9jeUCYUajYsb",
        "outputId": "7e104dda-bd39-44a0-bc1f-8ccfe521f43a"
      },
      "outputs": [
        {
          "output_type": "stream",
          "name": "stderr",
          "text": [
            "Installing package into ‘/usr/local/lib/R/site-library’\n",
            "(as ‘lib’ is unspecified)\n",
            "\n"
          ]
        }
      ],
      "source": [
        "install.packages(\"tidyverse\")"
      ]
    },
    {
      "cell_type": "code",
      "source": [
        "library(tidyverse)"
      ],
      "metadata": {
        "colab": {
          "base_uri": "https://localhost:8080/"
        },
        "id": "f0A6iPkXjZOV",
        "outputId": "50a95813-9da8-4d5b-a1e3-bd6475170d57"
      },
      "execution_count": 7,
      "outputs": [
        {
          "output_type": "stream",
          "name": "stderr",
          "text": [
            "── \u001b[1mAttaching core tidyverse packages\u001b[22m ──────────────────────── tidyverse 2.0.0 ──\n",
            "\u001b[32m✔\u001b[39m \u001b[34mforcats  \u001b[39m 1.0.0     \u001b[32m✔\u001b[39m \u001b[34mreadr    \u001b[39m 2.1.5\n",
            "\u001b[32m✔\u001b[39m \u001b[34mggplot2  \u001b[39m 3.4.4     \u001b[32m✔\u001b[39m \u001b[34mstringr  \u001b[39m 1.5.1\n",
            "\u001b[32m✔\u001b[39m \u001b[34mlubridate\u001b[39m 1.9.3     \u001b[32m✔\u001b[39m \u001b[34mtibble   \u001b[39m 3.2.1\n",
            "\u001b[32m✔\u001b[39m \u001b[34mpurrr    \u001b[39m 1.0.2     \u001b[32m✔\u001b[39m \u001b[34mtidyr    \u001b[39m 1.3.1\n",
            "── \u001b[1mConflicts\u001b[22m ────────────────────────────────────────── tidyverse_conflicts() ──\n",
            "\u001b[31m✖\u001b[39m \u001b[34mpurrr\u001b[39m::\u001b[32m%||%()\u001b[39m   masks \u001b[34mbase\u001b[39m::%||%()\n",
            "\u001b[31m✖\u001b[39m \u001b[34mdplyr\u001b[39m::\u001b[32mfilter()\u001b[39m masks \u001b[34mstats\u001b[39m::filter()\n",
            "\u001b[31m✖\u001b[39m \u001b[34mdplyr\u001b[39m::\u001b[32mlag()\u001b[39m    masks \u001b[34mstats\u001b[39m::lag()\n",
            "\u001b[36mℹ\u001b[39m Use the conflicted package (\u001b[3m\u001b[34m<http://conflicted.r-lib.org/>\u001b[39m\u001b[23m) to force all conflicts to become errors\n"
          ]
        }
      ]
    },
    {
      "cell_type": "code",
      "source": [
        "#install.packages(\"dplyr\")"
      ],
      "metadata": {
        "colab": {
          "base_uri": "https://localhost:8080/"
        },
        "id": "vdI4EWFajZPz",
        "outputId": "99567fc6-1529-48a1-dcf3-7428c6d9930e"
      },
      "execution_count": 1,
      "outputs": [
        {
          "output_type": "stream",
          "name": "stderr",
          "text": [
            "Installing package into ‘/usr/local/lib/R/site-library’\n",
            "(as ‘lib’ is unspecified)\n",
            "\n"
          ]
        }
      ]
    },
    {
      "cell_type": "code",
      "source": [
        "library(dplyr)"
      ],
      "metadata": {
        "id": "AYr8N3x5jZUg"
      },
      "execution_count": 3,
      "outputs": []
    },
    {
      "cell_type": "code",
      "source": [
        "carData = read.csv(\"/content/mtcars.csv\")\n",
        "head(carData,5)"
      ],
      "metadata": {
        "colab": {
          "base_uri": "https://localhost:8080/",
          "height": 255
        },
        "id": "Q4ZzxWu8jZWK",
        "outputId": "f5822e13-6036-450d-df6e-1972945d3d77"
      },
      "execution_count": 5,
      "outputs": [
        {
          "output_type": "display_data",
          "data": {
            "text/html": [
              "<table class=\"dataframe\">\n",
              "<caption>A data.frame: 5 × 12</caption>\n",
              "<thead>\n",
              "\t<tr><th></th><th scope=col>model</th><th scope=col>mpg</th><th scope=col>cyl</th><th scope=col>disp</th><th scope=col>hp</th><th scope=col>drat</th><th scope=col>wt</th><th scope=col>qsec</th><th scope=col>vs</th><th scope=col>am</th><th scope=col>gear</th><th scope=col>carb</th></tr>\n",
              "\t<tr><th></th><th scope=col>&lt;chr&gt;</th><th scope=col>&lt;dbl&gt;</th><th scope=col>&lt;int&gt;</th><th scope=col>&lt;dbl&gt;</th><th scope=col>&lt;int&gt;</th><th scope=col>&lt;dbl&gt;</th><th scope=col>&lt;dbl&gt;</th><th scope=col>&lt;dbl&gt;</th><th scope=col>&lt;int&gt;</th><th scope=col>&lt;int&gt;</th><th scope=col>&lt;int&gt;</th><th scope=col>&lt;int&gt;</th></tr>\n",
              "</thead>\n",
              "<tbody>\n",
              "\t<tr><th scope=row>1</th><td>Mazda RX4        </td><td>21.0</td><td>6</td><td>160</td><td>110</td><td>3.90</td><td>2.620</td><td>16.46</td><td>0</td><td>1</td><td>4</td><td>4</td></tr>\n",
              "\t<tr><th scope=row>2</th><td>Mazda RX4 Wag    </td><td>21.0</td><td>6</td><td>160</td><td>110</td><td>3.90</td><td>2.875</td><td>17.02</td><td>0</td><td>1</td><td>4</td><td>4</td></tr>\n",
              "\t<tr><th scope=row>3</th><td>Datsun 710       </td><td>22.8</td><td>4</td><td>108</td><td> 93</td><td>3.85</td><td>2.320</td><td>18.61</td><td>1</td><td>1</td><td>4</td><td>1</td></tr>\n",
              "\t<tr><th scope=row>4</th><td>Hornet 4 Drive   </td><td>21.4</td><td>6</td><td>258</td><td>110</td><td>3.08</td><td>3.215</td><td>19.44</td><td>1</td><td>0</td><td>3</td><td>1</td></tr>\n",
              "\t<tr><th scope=row>5</th><td>Hornet Sportabout</td><td>18.7</td><td>8</td><td>360</td><td>175</td><td>3.15</td><td>3.440</td><td>17.02</td><td>0</td><td>0</td><td>3</td><td>2</td></tr>\n",
              "</tbody>\n",
              "</table>\n"
            ],
            "text/markdown": "\nA data.frame: 5 × 12\n\n| <!--/--> | model &lt;chr&gt; | mpg &lt;dbl&gt; | cyl &lt;int&gt; | disp &lt;dbl&gt; | hp &lt;int&gt; | drat &lt;dbl&gt; | wt &lt;dbl&gt; | qsec &lt;dbl&gt; | vs &lt;int&gt; | am &lt;int&gt; | gear &lt;int&gt; | carb &lt;int&gt; |\n|---|---|---|---|---|---|---|---|---|---|---|---|---|\n| 1 | Mazda RX4         | 21.0 | 6 | 160 | 110 | 3.90 | 2.620 | 16.46 | 0 | 1 | 4 | 4 |\n| 2 | Mazda RX4 Wag     | 21.0 | 6 | 160 | 110 | 3.90 | 2.875 | 17.02 | 0 | 1 | 4 | 4 |\n| 3 | Datsun 710        | 22.8 | 4 | 108 |  93 | 3.85 | 2.320 | 18.61 | 1 | 1 | 4 | 1 |\n| 4 | Hornet 4 Drive    | 21.4 | 6 | 258 | 110 | 3.08 | 3.215 | 19.44 | 1 | 0 | 3 | 1 |\n| 5 | Hornet Sportabout | 18.7 | 8 | 360 | 175 | 3.15 | 3.440 | 17.02 | 0 | 0 | 3 | 2 |\n\n",
            "text/latex": "A data.frame: 5 × 12\n\\begin{tabular}{r|llllllllllll}\n  & model & mpg & cyl & disp & hp & drat & wt & qsec & vs & am & gear & carb\\\\\n  & <chr> & <dbl> & <int> & <dbl> & <int> & <dbl> & <dbl> & <dbl> & <int> & <int> & <int> & <int>\\\\\n\\hline\n\t1 & Mazda RX4         & 21.0 & 6 & 160 & 110 & 3.90 & 2.620 & 16.46 & 0 & 1 & 4 & 4\\\\\n\t2 & Mazda RX4 Wag     & 21.0 & 6 & 160 & 110 & 3.90 & 2.875 & 17.02 & 0 & 1 & 4 & 4\\\\\n\t3 & Datsun 710        & 22.8 & 4 & 108 &  93 & 3.85 & 2.320 & 18.61 & 1 & 1 & 4 & 1\\\\\n\t4 & Hornet 4 Drive    & 21.4 & 6 & 258 & 110 & 3.08 & 3.215 & 19.44 & 1 & 0 & 3 & 1\\\\\n\t5 & Hornet Sportabout & 18.7 & 8 & 360 & 175 & 3.15 & 3.440 & 17.02 & 0 & 0 & 3 & 2\\\\\n\\end{tabular}\n",
            "text/plain": [
              "  model             mpg  cyl disp hp  drat wt    qsec  vs am gear carb\n",
              "1 Mazda RX4         21.0 6   160  110 3.90 2.620 16.46 0  1  4    4   \n",
              "2 Mazda RX4 Wag     21.0 6   160  110 3.90 2.875 17.02 0  1  4    4   \n",
              "3 Datsun 710        22.8 4   108   93 3.85 2.320 18.61 1  1  4    1   \n",
              "4 Hornet 4 Drive    21.4 6   258  110 3.08 3.215 19.44 1  0  3    1   \n",
              "5 Hornet Sportabout 18.7 8   360  175 3.15 3.440 17.02 0  0  3    2   "
            ]
          },
          "metadata": {}
        }
      ]
    },
    {
      "cell_type": "code",
      "source": [
        "str(carData)"
      ],
      "metadata": {
        "colab": {
          "base_uri": "https://localhost:8080/"
        },
        "id": "Gz8kZNhBjZaU",
        "outputId": "3e82fa7a-5e87-465d-eb76-d0cb910bf877"
      },
      "execution_count": 11,
      "outputs": [
        {
          "output_type": "stream",
          "name": "stdout",
          "text": [
            "'data.frame':\t32 obs. of  12 variables:\n",
            " $ model: chr  \"Mazda RX4\" \"Mazda RX4 Wag\" \"Datsun 710\" \"Hornet 4 Drive\" ...\n",
            " $ mpg  : num  21 21 22.8 21.4 18.7 18.1 14.3 24.4 22.8 19.2 ...\n",
            " $ cyl  : int  6 6 4 6 8 6 8 4 4 6 ...\n",
            " $ disp : num  160 160 108 258 360 ...\n",
            " $ hp   : int  110 110 93 110 175 105 245 62 95 123 ...\n",
            " $ drat : num  3.9 3.9 3.85 3.08 3.15 2.76 3.21 3.69 3.92 3.92 ...\n",
            " $ wt   : num  2.62 2.88 2.32 3.21 3.44 ...\n",
            " $ qsec : num  16.5 17 18.6 19.4 17 ...\n",
            " $ vs   : int  0 0 1 1 0 1 0 1 1 1 ...\n",
            " $ am   : int  1 1 1 0 0 0 0 0 0 0 ...\n",
            " $ gear : int  4 4 4 3 3 3 3 4 4 4 ...\n",
            " $ carb : int  4 4 1 1 2 1 4 2 2 4 ...\n"
          ]
        }
      ]
    },
    {
      "cell_type": "code",
      "source": [
        "# creating a vector of categorical columns\n",
        "categorical_cols = c(\"vs\",\"am\")\n",
        "\n",
        "# converting the columns to factor type\n",
        "carData[categorical_cols] = lapply(carData[categorical_cols], as.factor)\n",
        "\n",
        "#printing the structure of the resulting dataframe\n",
        "str(carData)"
      ],
      "metadata": {
        "colab": {
          "base_uri": "https://localhost:8080/"
        },
        "id": "nXbnGMa1jZcO",
        "outputId": "cbd12b70-fd43-4661-d9d3-3aa3941be22f"
      },
      "execution_count": 15,
      "outputs": [
        {
          "output_type": "stream",
          "name": "stdout",
          "text": [
            "'data.frame':\t32 obs. of  12 variables:\n",
            " $ model: chr  \"Mazda RX4\" \"Mazda RX4 Wag\" \"Datsun 710\" \"Hornet 4 Drive\" ...\n",
            " $ mpg  : num  21 21 22.8 21.4 18.7 18.1 14.3 24.4 22.8 19.2 ...\n",
            " $ cyl  : int  6 6 4 6 8 6 8 4 4 6 ...\n",
            " $ disp : num  160 160 108 258 360 ...\n",
            " $ hp   : int  110 110 93 110 175 105 245 62 95 123 ...\n",
            " $ drat : num  3.9 3.9 3.85 3.08 3.15 2.76 3.21 3.69 3.92 3.92 ...\n",
            " $ wt   : num  2.62 2.88 2.32 3.21 3.44 ...\n",
            " $ qsec : num  16.5 17 18.6 19.4 17 ...\n",
            " $ vs   : Factor w/ 2 levels \"0\",\"1\": 1 1 2 2 1 2 1 2 2 2 ...\n",
            " $ am   : Factor w/ 2 levels \"0\",\"1\": 2 2 2 1 1 1 1 1 1 1 ...\n",
            " $ gear : int  4 4 4 3 3 3 3 4 4 4 ...\n",
            " $ carb : int  4 4 1 1 2 1 4 2 2 4 ...\n"
          ]
        }
      ]
    },
    {
      "cell_type": "code",
      "source": [
        "# selecting only one feature\n",
        "select(carData, wt)"
      ],
      "metadata": {
        "colab": {
          "base_uri": "https://localhost:8080/",
          "height": 1000
        },
        "id": "cPwggAfnk4i7",
        "outputId": "c473b0fb-09be-4aa8-e6ae-b1dd9b14aff0"
      },
      "execution_count": 17,
      "outputs": [
        {
          "output_type": "display_data",
          "data": {
            "text/html": [
              "<table class=\"dataframe\">\n",
              "<caption>A data.frame: 32 × 1</caption>\n",
              "<thead>\n",
              "\t<tr><th scope=col>wt</th></tr>\n",
              "\t<tr><th scope=col>&lt;dbl&gt;</th></tr>\n",
              "</thead>\n",
              "<tbody>\n",
              "\t<tr><td>2.620</td></tr>\n",
              "\t<tr><td>2.875</td></tr>\n",
              "\t<tr><td>2.320</td></tr>\n",
              "\t<tr><td>3.215</td></tr>\n",
              "\t<tr><td>3.440</td></tr>\n",
              "\t<tr><td>3.460</td></tr>\n",
              "\t<tr><td>3.570</td></tr>\n",
              "\t<tr><td>3.190</td></tr>\n",
              "\t<tr><td>3.150</td></tr>\n",
              "\t<tr><td>3.440</td></tr>\n",
              "\t<tr><td>3.440</td></tr>\n",
              "\t<tr><td>4.070</td></tr>\n",
              "\t<tr><td>3.730</td></tr>\n",
              "\t<tr><td>3.780</td></tr>\n",
              "\t<tr><td>5.250</td></tr>\n",
              "\t<tr><td>5.424</td></tr>\n",
              "\t<tr><td>5.345</td></tr>\n",
              "\t<tr><td>2.200</td></tr>\n",
              "\t<tr><td>1.615</td></tr>\n",
              "\t<tr><td>1.835</td></tr>\n",
              "\t<tr><td>2.465</td></tr>\n",
              "\t<tr><td>3.520</td></tr>\n",
              "\t<tr><td>3.435</td></tr>\n",
              "\t<tr><td>3.840</td></tr>\n",
              "\t<tr><td>3.845</td></tr>\n",
              "\t<tr><td>1.935</td></tr>\n",
              "\t<tr><td>2.140</td></tr>\n",
              "\t<tr><td>1.513</td></tr>\n",
              "\t<tr><td>3.170</td></tr>\n",
              "\t<tr><td>2.770</td></tr>\n",
              "\t<tr><td>3.570</td></tr>\n",
              "\t<tr><td>2.780</td></tr>\n",
              "</tbody>\n",
              "</table>\n"
            ],
            "text/markdown": "\nA data.frame: 32 × 1\n\n| wt &lt;dbl&gt; |\n|---|\n| 2.620 |\n| 2.875 |\n| 2.320 |\n| 3.215 |\n| 3.440 |\n| 3.460 |\n| 3.570 |\n| 3.190 |\n| 3.150 |\n| 3.440 |\n| 3.440 |\n| 4.070 |\n| 3.730 |\n| 3.780 |\n| 5.250 |\n| 5.424 |\n| 5.345 |\n| 2.200 |\n| 1.615 |\n| 1.835 |\n| 2.465 |\n| 3.520 |\n| 3.435 |\n| 3.840 |\n| 3.845 |\n| 1.935 |\n| 2.140 |\n| 1.513 |\n| 3.170 |\n| 2.770 |\n| 3.570 |\n| 2.780 |\n\n",
            "text/latex": "A data.frame: 32 × 1\n\\begin{tabular}{l}\n wt\\\\\n <dbl>\\\\\n\\hline\n\t 2.620\\\\\n\t 2.875\\\\\n\t 2.320\\\\\n\t 3.215\\\\\n\t 3.440\\\\\n\t 3.460\\\\\n\t 3.570\\\\\n\t 3.190\\\\\n\t 3.150\\\\\n\t 3.440\\\\\n\t 3.440\\\\\n\t 4.070\\\\\n\t 3.730\\\\\n\t 3.780\\\\\n\t 5.250\\\\\n\t 5.424\\\\\n\t 5.345\\\\\n\t 2.200\\\\\n\t 1.615\\\\\n\t 1.835\\\\\n\t 2.465\\\\\n\t 3.520\\\\\n\t 3.435\\\\\n\t 3.840\\\\\n\t 3.845\\\\\n\t 1.935\\\\\n\t 2.140\\\\\n\t 1.513\\\\\n\t 3.170\\\\\n\t 2.770\\\\\n\t 3.570\\\\\n\t 2.780\\\\\n\\end{tabular}\n",
            "text/plain": [
              "   wt   \n",
              "1  2.620\n",
              "2  2.875\n",
              "3  2.320\n",
              "4  3.215\n",
              "5  3.440\n",
              "6  3.460\n",
              "7  3.570\n",
              "8  3.190\n",
              "9  3.150\n",
              "10 3.440\n",
              "11 3.440\n",
              "12 4.070\n",
              "13 3.730\n",
              "14 3.780\n",
              "15 5.250\n",
              "16 5.424\n",
              "17 5.345\n",
              "18 2.200\n",
              "19 1.615\n",
              "20 1.835\n",
              "21 2.465\n",
              "22 3.520\n",
              "23 3.435\n",
              "24 3.840\n",
              "25 3.845\n",
              "26 1.935\n",
              "27 2.140\n",
              "28 1.513\n",
              "29 3.170\n",
              "30 2.770\n",
              "31 3.570\n",
              "32 2.780"
            ]
          },
          "metadata": {}
        }
      ]
    },
    {
      "cell_type": "code",
      "source": [
        "# selecting everything except \"wt\" column\n",
        "select(carData, -wt)"
      ],
      "metadata": {
        "colab": {
          "base_uri": "https://localhost:8080/",
          "height": 1000
        },
        "id": "RzvY1pBYjZgW",
        "outputId": "ad87f19f-d509-4061-84ca-159d1142b688"
      },
      "execution_count": 18,
      "outputs": [
        {
          "output_type": "display_data",
          "data": {
            "text/html": [
              "<table class=\"dataframe\">\n",
              "<caption>A data.frame: 32 × 11</caption>\n",
              "<thead>\n",
              "\t<tr><th scope=col>model</th><th scope=col>mpg</th><th scope=col>cyl</th><th scope=col>disp</th><th scope=col>hp</th><th scope=col>drat</th><th scope=col>qsec</th><th scope=col>vs</th><th scope=col>am</th><th scope=col>gear</th><th scope=col>carb</th></tr>\n",
              "\t<tr><th scope=col>&lt;chr&gt;</th><th scope=col>&lt;dbl&gt;</th><th scope=col>&lt;int&gt;</th><th scope=col>&lt;dbl&gt;</th><th scope=col>&lt;int&gt;</th><th scope=col>&lt;dbl&gt;</th><th scope=col>&lt;dbl&gt;</th><th scope=col>&lt;fct&gt;</th><th scope=col>&lt;fct&gt;</th><th scope=col>&lt;int&gt;</th><th scope=col>&lt;int&gt;</th></tr>\n",
              "</thead>\n",
              "<tbody>\n",
              "\t<tr><td>Mazda RX4          </td><td>21.0</td><td>6</td><td>160.0</td><td>110</td><td>3.90</td><td>16.46</td><td>0</td><td>1</td><td>4</td><td>4</td></tr>\n",
              "\t<tr><td>Mazda RX4 Wag      </td><td>21.0</td><td>6</td><td>160.0</td><td>110</td><td>3.90</td><td>17.02</td><td>0</td><td>1</td><td>4</td><td>4</td></tr>\n",
              "\t<tr><td>Datsun 710         </td><td>22.8</td><td>4</td><td>108.0</td><td> 93</td><td>3.85</td><td>18.61</td><td>1</td><td>1</td><td>4</td><td>1</td></tr>\n",
              "\t<tr><td>Hornet 4 Drive     </td><td>21.4</td><td>6</td><td>258.0</td><td>110</td><td>3.08</td><td>19.44</td><td>1</td><td>0</td><td>3</td><td>1</td></tr>\n",
              "\t<tr><td>Hornet Sportabout  </td><td>18.7</td><td>8</td><td>360.0</td><td>175</td><td>3.15</td><td>17.02</td><td>0</td><td>0</td><td>3</td><td>2</td></tr>\n",
              "\t<tr><td>Valiant            </td><td>18.1</td><td>6</td><td>225.0</td><td>105</td><td>2.76</td><td>20.22</td><td>1</td><td>0</td><td>3</td><td>1</td></tr>\n",
              "\t<tr><td>Duster 360         </td><td>14.3</td><td>8</td><td>360.0</td><td>245</td><td>3.21</td><td>15.84</td><td>0</td><td>0</td><td>3</td><td>4</td></tr>\n",
              "\t<tr><td>Merc 240D          </td><td>24.4</td><td>4</td><td>146.7</td><td> 62</td><td>3.69</td><td>20.00</td><td>1</td><td>0</td><td>4</td><td>2</td></tr>\n",
              "\t<tr><td>Merc 230           </td><td>22.8</td><td>4</td><td>140.8</td><td> 95</td><td>3.92</td><td>22.90</td><td>1</td><td>0</td><td>4</td><td>2</td></tr>\n",
              "\t<tr><td>Merc 280           </td><td>19.2</td><td>6</td><td>167.6</td><td>123</td><td>3.92</td><td>18.30</td><td>1</td><td>0</td><td>4</td><td>4</td></tr>\n",
              "\t<tr><td>Merc 280C          </td><td>17.8</td><td>6</td><td>167.6</td><td>123</td><td>3.92</td><td>18.90</td><td>1</td><td>0</td><td>4</td><td>4</td></tr>\n",
              "\t<tr><td>Merc 450SE         </td><td>16.4</td><td>8</td><td>275.8</td><td>180</td><td>3.07</td><td>17.40</td><td>0</td><td>0</td><td>3</td><td>3</td></tr>\n",
              "\t<tr><td>Merc 450SL         </td><td>17.3</td><td>8</td><td>275.8</td><td>180</td><td>3.07</td><td>17.60</td><td>0</td><td>0</td><td>3</td><td>3</td></tr>\n",
              "\t<tr><td>Merc 450SLC        </td><td>15.2</td><td>8</td><td>275.8</td><td>180</td><td>3.07</td><td>18.00</td><td>0</td><td>0</td><td>3</td><td>3</td></tr>\n",
              "\t<tr><td>Cadillac Fleetwood </td><td>10.4</td><td>8</td><td>472.0</td><td>205</td><td>2.93</td><td>17.98</td><td>0</td><td>0</td><td>3</td><td>4</td></tr>\n",
              "\t<tr><td>Lincoln Continental</td><td>10.4</td><td>8</td><td>460.0</td><td>215</td><td>3.00</td><td>17.82</td><td>0</td><td>0</td><td>3</td><td>4</td></tr>\n",
              "\t<tr><td>Chrysler Imperial  </td><td>14.7</td><td>8</td><td>440.0</td><td>230</td><td>3.23</td><td>17.42</td><td>0</td><td>0</td><td>3</td><td>4</td></tr>\n",
              "\t<tr><td>Fiat 128           </td><td>32.4</td><td>4</td><td> 78.7</td><td> 66</td><td>4.08</td><td>19.47</td><td>1</td><td>1</td><td>4</td><td>1</td></tr>\n",
              "\t<tr><td>Honda Civic        </td><td>30.4</td><td>4</td><td> 75.7</td><td> 52</td><td>4.93</td><td>18.52</td><td>1</td><td>1</td><td>4</td><td>2</td></tr>\n",
              "\t<tr><td>Toyota Corolla     </td><td>33.9</td><td>4</td><td> 71.1</td><td> 65</td><td>4.22</td><td>19.90</td><td>1</td><td>1</td><td>4</td><td>1</td></tr>\n",
              "\t<tr><td>Toyota Corona      </td><td>21.5</td><td>4</td><td>120.1</td><td> 97</td><td>3.70</td><td>20.01</td><td>1</td><td>0</td><td>3</td><td>1</td></tr>\n",
              "\t<tr><td>Dodge Challenger   </td><td>15.5</td><td>8</td><td>318.0</td><td>150</td><td>2.76</td><td>16.87</td><td>0</td><td>0</td><td>3</td><td>2</td></tr>\n",
              "\t<tr><td>AMC Javelin        </td><td>15.2</td><td>8</td><td>304.0</td><td>150</td><td>3.15</td><td>17.30</td><td>0</td><td>0</td><td>3</td><td>2</td></tr>\n",
              "\t<tr><td>Camaro Z28         </td><td>13.3</td><td>8</td><td>350.0</td><td>245</td><td>3.73</td><td>15.41</td><td>0</td><td>0</td><td>3</td><td>4</td></tr>\n",
              "\t<tr><td>Pontiac Firebird   </td><td>19.2</td><td>8</td><td>400.0</td><td>175</td><td>3.08</td><td>17.05</td><td>0</td><td>0</td><td>3</td><td>2</td></tr>\n",
              "\t<tr><td>Fiat X1-9          </td><td>27.3</td><td>4</td><td> 79.0</td><td> 66</td><td>4.08</td><td>18.90</td><td>1</td><td>1</td><td>4</td><td>1</td></tr>\n",
              "\t<tr><td>Porsche 914-2      </td><td>26.0</td><td>4</td><td>120.3</td><td> 91</td><td>4.43</td><td>16.70</td><td>0</td><td>1</td><td>5</td><td>2</td></tr>\n",
              "\t<tr><td>Lotus Europa       </td><td>30.4</td><td>4</td><td> 95.1</td><td>113</td><td>3.77</td><td>16.90</td><td>1</td><td>1</td><td>5</td><td>2</td></tr>\n",
              "\t<tr><td>Ford Pantera L     </td><td>15.8</td><td>8</td><td>351.0</td><td>264</td><td>4.22</td><td>14.50</td><td>0</td><td>1</td><td>5</td><td>4</td></tr>\n",
              "\t<tr><td>Ferrari Dino       </td><td>19.7</td><td>6</td><td>145.0</td><td>175</td><td>3.62</td><td>15.50</td><td>0</td><td>1</td><td>5</td><td>6</td></tr>\n",
              "\t<tr><td>Maserati Bora      </td><td>15.0</td><td>8</td><td>301.0</td><td>335</td><td>3.54</td><td>14.60</td><td>0</td><td>1</td><td>5</td><td>8</td></tr>\n",
              "\t<tr><td>Volvo 142E         </td><td>21.4</td><td>4</td><td>121.0</td><td>109</td><td>4.11</td><td>18.60</td><td>1</td><td>1</td><td>4</td><td>2</td></tr>\n",
              "</tbody>\n",
              "</table>\n"
            ],
            "text/markdown": "\nA data.frame: 32 × 11\n\n| model &lt;chr&gt; | mpg &lt;dbl&gt; | cyl &lt;int&gt; | disp &lt;dbl&gt; | hp &lt;int&gt; | drat &lt;dbl&gt; | qsec &lt;dbl&gt; | vs &lt;fct&gt; | am &lt;fct&gt; | gear &lt;int&gt; | carb &lt;int&gt; |\n|---|---|---|---|---|---|---|---|---|---|---|\n| Mazda RX4           | 21.0 | 6 | 160.0 | 110 | 3.90 | 16.46 | 0 | 1 | 4 | 4 |\n| Mazda RX4 Wag       | 21.0 | 6 | 160.0 | 110 | 3.90 | 17.02 | 0 | 1 | 4 | 4 |\n| Datsun 710          | 22.8 | 4 | 108.0 |  93 | 3.85 | 18.61 | 1 | 1 | 4 | 1 |\n| Hornet 4 Drive      | 21.4 | 6 | 258.0 | 110 | 3.08 | 19.44 | 1 | 0 | 3 | 1 |\n| Hornet Sportabout   | 18.7 | 8 | 360.0 | 175 | 3.15 | 17.02 | 0 | 0 | 3 | 2 |\n| Valiant             | 18.1 | 6 | 225.0 | 105 | 2.76 | 20.22 | 1 | 0 | 3 | 1 |\n| Duster 360          | 14.3 | 8 | 360.0 | 245 | 3.21 | 15.84 | 0 | 0 | 3 | 4 |\n| Merc 240D           | 24.4 | 4 | 146.7 |  62 | 3.69 | 20.00 | 1 | 0 | 4 | 2 |\n| Merc 230            | 22.8 | 4 | 140.8 |  95 | 3.92 | 22.90 | 1 | 0 | 4 | 2 |\n| Merc 280            | 19.2 | 6 | 167.6 | 123 | 3.92 | 18.30 | 1 | 0 | 4 | 4 |\n| Merc 280C           | 17.8 | 6 | 167.6 | 123 | 3.92 | 18.90 | 1 | 0 | 4 | 4 |\n| Merc 450SE          | 16.4 | 8 | 275.8 | 180 | 3.07 | 17.40 | 0 | 0 | 3 | 3 |\n| Merc 450SL          | 17.3 | 8 | 275.8 | 180 | 3.07 | 17.60 | 0 | 0 | 3 | 3 |\n| Merc 450SLC         | 15.2 | 8 | 275.8 | 180 | 3.07 | 18.00 | 0 | 0 | 3 | 3 |\n| Cadillac Fleetwood  | 10.4 | 8 | 472.0 | 205 | 2.93 | 17.98 | 0 | 0 | 3 | 4 |\n| Lincoln Continental | 10.4 | 8 | 460.0 | 215 | 3.00 | 17.82 | 0 | 0 | 3 | 4 |\n| Chrysler Imperial   | 14.7 | 8 | 440.0 | 230 | 3.23 | 17.42 | 0 | 0 | 3 | 4 |\n| Fiat 128            | 32.4 | 4 |  78.7 |  66 | 4.08 | 19.47 | 1 | 1 | 4 | 1 |\n| Honda Civic         | 30.4 | 4 |  75.7 |  52 | 4.93 | 18.52 | 1 | 1 | 4 | 2 |\n| Toyota Corolla      | 33.9 | 4 |  71.1 |  65 | 4.22 | 19.90 | 1 | 1 | 4 | 1 |\n| Toyota Corona       | 21.5 | 4 | 120.1 |  97 | 3.70 | 20.01 | 1 | 0 | 3 | 1 |\n| Dodge Challenger    | 15.5 | 8 | 318.0 | 150 | 2.76 | 16.87 | 0 | 0 | 3 | 2 |\n| AMC Javelin         | 15.2 | 8 | 304.0 | 150 | 3.15 | 17.30 | 0 | 0 | 3 | 2 |\n| Camaro Z28          | 13.3 | 8 | 350.0 | 245 | 3.73 | 15.41 | 0 | 0 | 3 | 4 |\n| Pontiac Firebird    | 19.2 | 8 | 400.0 | 175 | 3.08 | 17.05 | 0 | 0 | 3 | 2 |\n| Fiat X1-9           | 27.3 | 4 |  79.0 |  66 | 4.08 | 18.90 | 1 | 1 | 4 | 1 |\n| Porsche 914-2       | 26.0 | 4 | 120.3 |  91 | 4.43 | 16.70 | 0 | 1 | 5 | 2 |\n| Lotus Europa        | 30.4 | 4 |  95.1 | 113 | 3.77 | 16.90 | 1 | 1 | 5 | 2 |\n| Ford Pantera L      | 15.8 | 8 | 351.0 | 264 | 4.22 | 14.50 | 0 | 1 | 5 | 4 |\n| Ferrari Dino        | 19.7 | 6 | 145.0 | 175 | 3.62 | 15.50 | 0 | 1 | 5 | 6 |\n| Maserati Bora       | 15.0 | 8 | 301.0 | 335 | 3.54 | 14.60 | 0 | 1 | 5 | 8 |\n| Volvo 142E          | 21.4 | 4 | 121.0 | 109 | 4.11 | 18.60 | 1 | 1 | 4 | 2 |\n\n",
            "text/latex": "A data.frame: 32 × 11\n\\begin{tabular}{lllllllllll}\n model & mpg & cyl & disp & hp & drat & qsec & vs & am & gear & carb\\\\\n <chr> & <dbl> & <int> & <dbl> & <int> & <dbl> & <dbl> & <fct> & <fct> & <int> & <int>\\\\\n\\hline\n\t Mazda RX4           & 21.0 & 6 & 160.0 & 110 & 3.90 & 16.46 & 0 & 1 & 4 & 4\\\\\n\t Mazda RX4 Wag       & 21.0 & 6 & 160.0 & 110 & 3.90 & 17.02 & 0 & 1 & 4 & 4\\\\\n\t Datsun 710          & 22.8 & 4 & 108.0 &  93 & 3.85 & 18.61 & 1 & 1 & 4 & 1\\\\\n\t Hornet 4 Drive      & 21.4 & 6 & 258.0 & 110 & 3.08 & 19.44 & 1 & 0 & 3 & 1\\\\\n\t Hornet Sportabout   & 18.7 & 8 & 360.0 & 175 & 3.15 & 17.02 & 0 & 0 & 3 & 2\\\\\n\t Valiant             & 18.1 & 6 & 225.0 & 105 & 2.76 & 20.22 & 1 & 0 & 3 & 1\\\\\n\t Duster 360          & 14.3 & 8 & 360.0 & 245 & 3.21 & 15.84 & 0 & 0 & 3 & 4\\\\\n\t Merc 240D           & 24.4 & 4 & 146.7 &  62 & 3.69 & 20.00 & 1 & 0 & 4 & 2\\\\\n\t Merc 230            & 22.8 & 4 & 140.8 &  95 & 3.92 & 22.90 & 1 & 0 & 4 & 2\\\\\n\t Merc 280            & 19.2 & 6 & 167.6 & 123 & 3.92 & 18.30 & 1 & 0 & 4 & 4\\\\\n\t Merc 280C           & 17.8 & 6 & 167.6 & 123 & 3.92 & 18.90 & 1 & 0 & 4 & 4\\\\\n\t Merc 450SE          & 16.4 & 8 & 275.8 & 180 & 3.07 & 17.40 & 0 & 0 & 3 & 3\\\\\n\t Merc 450SL          & 17.3 & 8 & 275.8 & 180 & 3.07 & 17.60 & 0 & 0 & 3 & 3\\\\\n\t Merc 450SLC         & 15.2 & 8 & 275.8 & 180 & 3.07 & 18.00 & 0 & 0 & 3 & 3\\\\\n\t Cadillac Fleetwood  & 10.4 & 8 & 472.0 & 205 & 2.93 & 17.98 & 0 & 0 & 3 & 4\\\\\n\t Lincoln Continental & 10.4 & 8 & 460.0 & 215 & 3.00 & 17.82 & 0 & 0 & 3 & 4\\\\\n\t Chrysler Imperial   & 14.7 & 8 & 440.0 & 230 & 3.23 & 17.42 & 0 & 0 & 3 & 4\\\\\n\t Fiat 128            & 32.4 & 4 &  78.7 &  66 & 4.08 & 19.47 & 1 & 1 & 4 & 1\\\\\n\t Honda Civic         & 30.4 & 4 &  75.7 &  52 & 4.93 & 18.52 & 1 & 1 & 4 & 2\\\\\n\t Toyota Corolla      & 33.9 & 4 &  71.1 &  65 & 4.22 & 19.90 & 1 & 1 & 4 & 1\\\\\n\t Toyota Corona       & 21.5 & 4 & 120.1 &  97 & 3.70 & 20.01 & 1 & 0 & 3 & 1\\\\\n\t Dodge Challenger    & 15.5 & 8 & 318.0 & 150 & 2.76 & 16.87 & 0 & 0 & 3 & 2\\\\\n\t AMC Javelin         & 15.2 & 8 & 304.0 & 150 & 3.15 & 17.30 & 0 & 0 & 3 & 2\\\\\n\t Camaro Z28          & 13.3 & 8 & 350.0 & 245 & 3.73 & 15.41 & 0 & 0 & 3 & 4\\\\\n\t Pontiac Firebird    & 19.2 & 8 & 400.0 & 175 & 3.08 & 17.05 & 0 & 0 & 3 & 2\\\\\n\t Fiat X1-9           & 27.3 & 4 &  79.0 &  66 & 4.08 & 18.90 & 1 & 1 & 4 & 1\\\\\n\t Porsche 914-2       & 26.0 & 4 & 120.3 &  91 & 4.43 & 16.70 & 0 & 1 & 5 & 2\\\\\n\t Lotus Europa        & 30.4 & 4 &  95.1 & 113 & 3.77 & 16.90 & 1 & 1 & 5 & 2\\\\\n\t Ford Pantera L      & 15.8 & 8 & 351.0 & 264 & 4.22 & 14.50 & 0 & 1 & 5 & 4\\\\\n\t Ferrari Dino        & 19.7 & 6 & 145.0 & 175 & 3.62 & 15.50 & 0 & 1 & 5 & 6\\\\\n\t Maserati Bora       & 15.0 & 8 & 301.0 & 335 & 3.54 & 14.60 & 0 & 1 & 5 & 8\\\\\n\t Volvo 142E          & 21.4 & 4 & 121.0 & 109 & 4.11 & 18.60 & 1 & 1 & 4 & 2\\\\\n\\end{tabular}\n",
            "text/plain": [
              "   model               mpg  cyl disp  hp  drat qsec  vs am gear carb\n",
              "1  Mazda RX4           21.0 6   160.0 110 3.90 16.46 0  1  4    4   \n",
              "2  Mazda RX4 Wag       21.0 6   160.0 110 3.90 17.02 0  1  4    4   \n",
              "3  Datsun 710          22.8 4   108.0  93 3.85 18.61 1  1  4    1   \n",
              "4  Hornet 4 Drive      21.4 6   258.0 110 3.08 19.44 1  0  3    1   \n",
              "5  Hornet Sportabout   18.7 8   360.0 175 3.15 17.02 0  0  3    2   \n",
              "6  Valiant             18.1 6   225.0 105 2.76 20.22 1  0  3    1   \n",
              "7  Duster 360          14.3 8   360.0 245 3.21 15.84 0  0  3    4   \n",
              "8  Merc 240D           24.4 4   146.7  62 3.69 20.00 1  0  4    2   \n",
              "9  Merc 230            22.8 4   140.8  95 3.92 22.90 1  0  4    2   \n",
              "10 Merc 280            19.2 6   167.6 123 3.92 18.30 1  0  4    4   \n",
              "11 Merc 280C           17.8 6   167.6 123 3.92 18.90 1  0  4    4   \n",
              "12 Merc 450SE          16.4 8   275.8 180 3.07 17.40 0  0  3    3   \n",
              "13 Merc 450SL          17.3 8   275.8 180 3.07 17.60 0  0  3    3   \n",
              "14 Merc 450SLC         15.2 8   275.8 180 3.07 18.00 0  0  3    3   \n",
              "15 Cadillac Fleetwood  10.4 8   472.0 205 2.93 17.98 0  0  3    4   \n",
              "16 Lincoln Continental 10.4 8   460.0 215 3.00 17.82 0  0  3    4   \n",
              "17 Chrysler Imperial   14.7 8   440.0 230 3.23 17.42 0  0  3    4   \n",
              "18 Fiat 128            32.4 4    78.7  66 4.08 19.47 1  1  4    1   \n",
              "19 Honda Civic         30.4 4    75.7  52 4.93 18.52 1  1  4    2   \n",
              "20 Toyota Corolla      33.9 4    71.1  65 4.22 19.90 1  1  4    1   \n",
              "21 Toyota Corona       21.5 4   120.1  97 3.70 20.01 1  0  3    1   \n",
              "22 Dodge Challenger    15.5 8   318.0 150 2.76 16.87 0  0  3    2   \n",
              "23 AMC Javelin         15.2 8   304.0 150 3.15 17.30 0  0  3    2   \n",
              "24 Camaro Z28          13.3 8   350.0 245 3.73 15.41 0  0  3    4   \n",
              "25 Pontiac Firebird    19.2 8   400.0 175 3.08 17.05 0  0  3    2   \n",
              "26 Fiat X1-9           27.3 4    79.0  66 4.08 18.90 1  1  4    1   \n",
              "27 Porsche 914-2       26.0 4   120.3  91 4.43 16.70 0  1  5    2   \n",
              "28 Lotus Europa        30.4 4    95.1 113 3.77 16.90 1  1  5    2   \n",
              "29 Ford Pantera L      15.8 8   351.0 264 4.22 14.50 0  1  5    4   \n",
              "30 Ferrari Dino        19.7 6   145.0 175 3.62 15.50 0  1  5    6   \n",
              "31 Maserati Bora       15.0 8   301.0 335 3.54 14.60 0  1  5    8   \n",
              "32 Volvo 142E          21.4 4   121.0 109 4.11 18.60 1  1  4    2   "
            ]
          },
          "metadata": {}
        }
      ]
    },
    {
      "cell_type": "code",
      "source": [
        "# selecting only the features cyl and wt\n",
        "select(carData, c(cyl, wt))"
      ],
      "metadata": {
        "colab": {
          "base_uri": "https://localhost:8080/",
          "height": 1000
        },
        "id": "9ZQus5NijZiJ",
        "outputId": "a62a509e-bf5a-41a7-feb2-aa54e9a70b8d"
      },
      "execution_count": 19,
      "outputs": [
        {
          "output_type": "display_data",
          "data": {
            "text/html": [
              "<table class=\"dataframe\">\n",
              "<caption>A data.frame: 32 × 2</caption>\n",
              "<thead>\n",
              "\t<tr><th scope=col>cyl</th><th scope=col>wt</th></tr>\n",
              "\t<tr><th scope=col>&lt;int&gt;</th><th scope=col>&lt;dbl&gt;</th></tr>\n",
              "</thead>\n",
              "<tbody>\n",
              "\t<tr><td>6</td><td>2.620</td></tr>\n",
              "\t<tr><td>6</td><td>2.875</td></tr>\n",
              "\t<tr><td>4</td><td>2.320</td></tr>\n",
              "\t<tr><td>6</td><td>3.215</td></tr>\n",
              "\t<tr><td>8</td><td>3.440</td></tr>\n",
              "\t<tr><td>6</td><td>3.460</td></tr>\n",
              "\t<tr><td>8</td><td>3.570</td></tr>\n",
              "\t<tr><td>4</td><td>3.190</td></tr>\n",
              "\t<tr><td>4</td><td>3.150</td></tr>\n",
              "\t<tr><td>6</td><td>3.440</td></tr>\n",
              "\t<tr><td>6</td><td>3.440</td></tr>\n",
              "\t<tr><td>8</td><td>4.070</td></tr>\n",
              "\t<tr><td>8</td><td>3.730</td></tr>\n",
              "\t<tr><td>8</td><td>3.780</td></tr>\n",
              "\t<tr><td>8</td><td>5.250</td></tr>\n",
              "\t<tr><td>8</td><td>5.424</td></tr>\n",
              "\t<tr><td>8</td><td>5.345</td></tr>\n",
              "\t<tr><td>4</td><td>2.200</td></tr>\n",
              "\t<tr><td>4</td><td>1.615</td></tr>\n",
              "\t<tr><td>4</td><td>1.835</td></tr>\n",
              "\t<tr><td>4</td><td>2.465</td></tr>\n",
              "\t<tr><td>8</td><td>3.520</td></tr>\n",
              "\t<tr><td>8</td><td>3.435</td></tr>\n",
              "\t<tr><td>8</td><td>3.840</td></tr>\n",
              "\t<tr><td>8</td><td>3.845</td></tr>\n",
              "\t<tr><td>4</td><td>1.935</td></tr>\n",
              "\t<tr><td>4</td><td>2.140</td></tr>\n",
              "\t<tr><td>4</td><td>1.513</td></tr>\n",
              "\t<tr><td>8</td><td>3.170</td></tr>\n",
              "\t<tr><td>6</td><td>2.770</td></tr>\n",
              "\t<tr><td>8</td><td>3.570</td></tr>\n",
              "\t<tr><td>4</td><td>2.780</td></tr>\n",
              "</tbody>\n",
              "</table>\n"
            ],
            "text/markdown": "\nA data.frame: 32 × 2\n\n| cyl &lt;int&gt; | wt &lt;dbl&gt; |\n|---|---|\n| 6 | 2.620 |\n| 6 | 2.875 |\n| 4 | 2.320 |\n| 6 | 3.215 |\n| 8 | 3.440 |\n| 6 | 3.460 |\n| 8 | 3.570 |\n| 4 | 3.190 |\n| 4 | 3.150 |\n| 6 | 3.440 |\n| 6 | 3.440 |\n| 8 | 4.070 |\n| 8 | 3.730 |\n| 8 | 3.780 |\n| 8 | 5.250 |\n| 8 | 5.424 |\n| 8 | 5.345 |\n| 4 | 2.200 |\n| 4 | 1.615 |\n| 4 | 1.835 |\n| 4 | 2.465 |\n| 8 | 3.520 |\n| 8 | 3.435 |\n| 8 | 3.840 |\n| 8 | 3.845 |\n| 4 | 1.935 |\n| 4 | 2.140 |\n| 4 | 1.513 |\n| 8 | 3.170 |\n| 6 | 2.770 |\n| 8 | 3.570 |\n| 4 | 2.780 |\n\n",
            "text/latex": "A data.frame: 32 × 2\n\\begin{tabular}{ll}\n cyl & wt\\\\\n <int> & <dbl>\\\\\n\\hline\n\t 6 & 2.620\\\\\n\t 6 & 2.875\\\\\n\t 4 & 2.320\\\\\n\t 6 & 3.215\\\\\n\t 8 & 3.440\\\\\n\t 6 & 3.460\\\\\n\t 8 & 3.570\\\\\n\t 4 & 3.190\\\\\n\t 4 & 3.150\\\\\n\t 6 & 3.440\\\\\n\t 6 & 3.440\\\\\n\t 8 & 4.070\\\\\n\t 8 & 3.730\\\\\n\t 8 & 3.780\\\\\n\t 8 & 5.250\\\\\n\t 8 & 5.424\\\\\n\t 8 & 5.345\\\\\n\t 4 & 2.200\\\\\n\t 4 & 1.615\\\\\n\t 4 & 1.835\\\\\n\t 4 & 2.465\\\\\n\t 8 & 3.520\\\\\n\t 8 & 3.435\\\\\n\t 8 & 3.840\\\\\n\t 8 & 3.845\\\\\n\t 4 & 1.935\\\\\n\t 4 & 2.140\\\\\n\t 4 & 1.513\\\\\n\t 8 & 3.170\\\\\n\t 6 & 2.770\\\\\n\t 8 & 3.570\\\\\n\t 4 & 2.780\\\\\n\\end{tabular}\n",
            "text/plain": [
              "   cyl wt   \n",
              "1  6   2.620\n",
              "2  6   2.875\n",
              "3  4   2.320\n",
              "4  6   3.215\n",
              "5  8   3.440\n",
              "6  6   3.460\n",
              "7  8   3.570\n",
              "8  4   3.190\n",
              "9  4   3.150\n",
              "10 6   3.440\n",
              "11 6   3.440\n",
              "12 8   4.070\n",
              "13 8   3.730\n",
              "14 8   3.780\n",
              "15 8   5.250\n",
              "16 8   5.424\n",
              "17 8   5.345\n",
              "18 4   2.200\n",
              "19 4   1.615\n",
              "20 4   1.835\n",
              "21 4   2.465\n",
              "22 8   3.520\n",
              "23 8   3.435\n",
              "24 8   3.840\n",
              "25 8   3.845\n",
              "26 4   1.935\n",
              "27 4   2.140\n",
              "28 4   1.513\n",
              "29 8   3.170\n",
              "30 6   2.770\n",
              "31 8   3.570\n",
              "32 4   2.780"
            ]
          },
          "metadata": {}
        }
      ]
    },
    {
      "cell_type": "code",
      "source": [
        "# selecting everything except cyl and wt\n",
        "select(carData, -c(cyl, wt))"
      ],
      "metadata": {
        "colab": {
          "base_uri": "https://localhost:8080/",
          "height": 1000
        },
        "id": "NCciMSOJmw_l",
        "outputId": "ad8415ff-3886-4c4e-e677-2852a7ad4c76"
      },
      "execution_count": 20,
      "outputs": [
        {
          "output_type": "display_data",
          "data": {
            "text/html": [
              "<table class=\"dataframe\">\n",
              "<caption>A data.frame: 32 × 10</caption>\n",
              "<thead>\n",
              "\t<tr><th scope=col>model</th><th scope=col>mpg</th><th scope=col>disp</th><th scope=col>hp</th><th scope=col>drat</th><th scope=col>qsec</th><th scope=col>vs</th><th scope=col>am</th><th scope=col>gear</th><th scope=col>carb</th></tr>\n",
              "\t<tr><th scope=col>&lt;chr&gt;</th><th scope=col>&lt;dbl&gt;</th><th scope=col>&lt;dbl&gt;</th><th scope=col>&lt;int&gt;</th><th scope=col>&lt;dbl&gt;</th><th scope=col>&lt;dbl&gt;</th><th scope=col>&lt;fct&gt;</th><th scope=col>&lt;fct&gt;</th><th scope=col>&lt;int&gt;</th><th scope=col>&lt;int&gt;</th></tr>\n",
              "</thead>\n",
              "<tbody>\n",
              "\t<tr><td>Mazda RX4          </td><td>21.0</td><td>160.0</td><td>110</td><td>3.90</td><td>16.46</td><td>0</td><td>1</td><td>4</td><td>4</td></tr>\n",
              "\t<tr><td>Mazda RX4 Wag      </td><td>21.0</td><td>160.0</td><td>110</td><td>3.90</td><td>17.02</td><td>0</td><td>1</td><td>4</td><td>4</td></tr>\n",
              "\t<tr><td>Datsun 710         </td><td>22.8</td><td>108.0</td><td> 93</td><td>3.85</td><td>18.61</td><td>1</td><td>1</td><td>4</td><td>1</td></tr>\n",
              "\t<tr><td>Hornet 4 Drive     </td><td>21.4</td><td>258.0</td><td>110</td><td>3.08</td><td>19.44</td><td>1</td><td>0</td><td>3</td><td>1</td></tr>\n",
              "\t<tr><td>Hornet Sportabout  </td><td>18.7</td><td>360.0</td><td>175</td><td>3.15</td><td>17.02</td><td>0</td><td>0</td><td>3</td><td>2</td></tr>\n",
              "\t<tr><td>Valiant            </td><td>18.1</td><td>225.0</td><td>105</td><td>2.76</td><td>20.22</td><td>1</td><td>0</td><td>3</td><td>1</td></tr>\n",
              "\t<tr><td>Duster 360         </td><td>14.3</td><td>360.0</td><td>245</td><td>3.21</td><td>15.84</td><td>0</td><td>0</td><td>3</td><td>4</td></tr>\n",
              "\t<tr><td>Merc 240D          </td><td>24.4</td><td>146.7</td><td> 62</td><td>3.69</td><td>20.00</td><td>1</td><td>0</td><td>4</td><td>2</td></tr>\n",
              "\t<tr><td>Merc 230           </td><td>22.8</td><td>140.8</td><td> 95</td><td>3.92</td><td>22.90</td><td>1</td><td>0</td><td>4</td><td>2</td></tr>\n",
              "\t<tr><td>Merc 280           </td><td>19.2</td><td>167.6</td><td>123</td><td>3.92</td><td>18.30</td><td>1</td><td>0</td><td>4</td><td>4</td></tr>\n",
              "\t<tr><td>Merc 280C          </td><td>17.8</td><td>167.6</td><td>123</td><td>3.92</td><td>18.90</td><td>1</td><td>0</td><td>4</td><td>4</td></tr>\n",
              "\t<tr><td>Merc 450SE         </td><td>16.4</td><td>275.8</td><td>180</td><td>3.07</td><td>17.40</td><td>0</td><td>0</td><td>3</td><td>3</td></tr>\n",
              "\t<tr><td>Merc 450SL         </td><td>17.3</td><td>275.8</td><td>180</td><td>3.07</td><td>17.60</td><td>0</td><td>0</td><td>3</td><td>3</td></tr>\n",
              "\t<tr><td>Merc 450SLC        </td><td>15.2</td><td>275.8</td><td>180</td><td>3.07</td><td>18.00</td><td>0</td><td>0</td><td>3</td><td>3</td></tr>\n",
              "\t<tr><td>Cadillac Fleetwood </td><td>10.4</td><td>472.0</td><td>205</td><td>2.93</td><td>17.98</td><td>0</td><td>0</td><td>3</td><td>4</td></tr>\n",
              "\t<tr><td>Lincoln Continental</td><td>10.4</td><td>460.0</td><td>215</td><td>3.00</td><td>17.82</td><td>0</td><td>0</td><td>3</td><td>4</td></tr>\n",
              "\t<tr><td>Chrysler Imperial  </td><td>14.7</td><td>440.0</td><td>230</td><td>3.23</td><td>17.42</td><td>0</td><td>0</td><td>3</td><td>4</td></tr>\n",
              "\t<tr><td>Fiat 128           </td><td>32.4</td><td> 78.7</td><td> 66</td><td>4.08</td><td>19.47</td><td>1</td><td>1</td><td>4</td><td>1</td></tr>\n",
              "\t<tr><td>Honda Civic        </td><td>30.4</td><td> 75.7</td><td> 52</td><td>4.93</td><td>18.52</td><td>1</td><td>1</td><td>4</td><td>2</td></tr>\n",
              "\t<tr><td>Toyota Corolla     </td><td>33.9</td><td> 71.1</td><td> 65</td><td>4.22</td><td>19.90</td><td>1</td><td>1</td><td>4</td><td>1</td></tr>\n",
              "\t<tr><td>Toyota Corona      </td><td>21.5</td><td>120.1</td><td> 97</td><td>3.70</td><td>20.01</td><td>1</td><td>0</td><td>3</td><td>1</td></tr>\n",
              "\t<tr><td>Dodge Challenger   </td><td>15.5</td><td>318.0</td><td>150</td><td>2.76</td><td>16.87</td><td>0</td><td>0</td><td>3</td><td>2</td></tr>\n",
              "\t<tr><td>AMC Javelin        </td><td>15.2</td><td>304.0</td><td>150</td><td>3.15</td><td>17.30</td><td>0</td><td>0</td><td>3</td><td>2</td></tr>\n",
              "\t<tr><td>Camaro Z28         </td><td>13.3</td><td>350.0</td><td>245</td><td>3.73</td><td>15.41</td><td>0</td><td>0</td><td>3</td><td>4</td></tr>\n",
              "\t<tr><td>Pontiac Firebird   </td><td>19.2</td><td>400.0</td><td>175</td><td>3.08</td><td>17.05</td><td>0</td><td>0</td><td>3</td><td>2</td></tr>\n",
              "\t<tr><td>Fiat X1-9          </td><td>27.3</td><td> 79.0</td><td> 66</td><td>4.08</td><td>18.90</td><td>1</td><td>1</td><td>4</td><td>1</td></tr>\n",
              "\t<tr><td>Porsche 914-2      </td><td>26.0</td><td>120.3</td><td> 91</td><td>4.43</td><td>16.70</td><td>0</td><td>1</td><td>5</td><td>2</td></tr>\n",
              "\t<tr><td>Lotus Europa       </td><td>30.4</td><td> 95.1</td><td>113</td><td>3.77</td><td>16.90</td><td>1</td><td>1</td><td>5</td><td>2</td></tr>\n",
              "\t<tr><td>Ford Pantera L     </td><td>15.8</td><td>351.0</td><td>264</td><td>4.22</td><td>14.50</td><td>0</td><td>1</td><td>5</td><td>4</td></tr>\n",
              "\t<tr><td>Ferrari Dino       </td><td>19.7</td><td>145.0</td><td>175</td><td>3.62</td><td>15.50</td><td>0</td><td>1</td><td>5</td><td>6</td></tr>\n",
              "\t<tr><td>Maserati Bora      </td><td>15.0</td><td>301.0</td><td>335</td><td>3.54</td><td>14.60</td><td>0</td><td>1</td><td>5</td><td>8</td></tr>\n",
              "\t<tr><td>Volvo 142E         </td><td>21.4</td><td>121.0</td><td>109</td><td>4.11</td><td>18.60</td><td>1</td><td>1</td><td>4</td><td>2</td></tr>\n",
              "</tbody>\n",
              "</table>\n"
            ],
            "text/markdown": "\nA data.frame: 32 × 10\n\n| model &lt;chr&gt; | mpg &lt;dbl&gt; | disp &lt;dbl&gt; | hp &lt;int&gt; | drat &lt;dbl&gt; | qsec &lt;dbl&gt; | vs &lt;fct&gt; | am &lt;fct&gt; | gear &lt;int&gt; | carb &lt;int&gt; |\n|---|---|---|---|---|---|---|---|---|---|\n| Mazda RX4           | 21.0 | 160.0 | 110 | 3.90 | 16.46 | 0 | 1 | 4 | 4 |\n| Mazda RX4 Wag       | 21.0 | 160.0 | 110 | 3.90 | 17.02 | 0 | 1 | 4 | 4 |\n| Datsun 710          | 22.8 | 108.0 |  93 | 3.85 | 18.61 | 1 | 1 | 4 | 1 |\n| Hornet 4 Drive      | 21.4 | 258.0 | 110 | 3.08 | 19.44 | 1 | 0 | 3 | 1 |\n| Hornet Sportabout   | 18.7 | 360.0 | 175 | 3.15 | 17.02 | 0 | 0 | 3 | 2 |\n| Valiant             | 18.1 | 225.0 | 105 | 2.76 | 20.22 | 1 | 0 | 3 | 1 |\n| Duster 360          | 14.3 | 360.0 | 245 | 3.21 | 15.84 | 0 | 0 | 3 | 4 |\n| Merc 240D           | 24.4 | 146.7 |  62 | 3.69 | 20.00 | 1 | 0 | 4 | 2 |\n| Merc 230            | 22.8 | 140.8 |  95 | 3.92 | 22.90 | 1 | 0 | 4 | 2 |\n| Merc 280            | 19.2 | 167.6 | 123 | 3.92 | 18.30 | 1 | 0 | 4 | 4 |\n| Merc 280C           | 17.8 | 167.6 | 123 | 3.92 | 18.90 | 1 | 0 | 4 | 4 |\n| Merc 450SE          | 16.4 | 275.8 | 180 | 3.07 | 17.40 | 0 | 0 | 3 | 3 |\n| Merc 450SL          | 17.3 | 275.8 | 180 | 3.07 | 17.60 | 0 | 0 | 3 | 3 |\n| Merc 450SLC         | 15.2 | 275.8 | 180 | 3.07 | 18.00 | 0 | 0 | 3 | 3 |\n| Cadillac Fleetwood  | 10.4 | 472.0 | 205 | 2.93 | 17.98 | 0 | 0 | 3 | 4 |\n| Lincoln Continental | 10.4 | 460.0 | 215 | 3.00 | 17.82 | 0 | 0 | 3 | 4 |\n| Chrysler Imperial   | 14.7 | 440.0 | 230 | 3.23 | 17.42 | 0 | 0 | 3 | 4 |\n| Fiat 128            | 32.4 |  78.7 |  66 | 4.08 | 19.47 | 1 | 1 | 4 | 1 |\n| Honda Civic         | 30.4 |  75.7 |  52 | 4.93 | 18.52 | 1 | 1 | 4 | 2 |\n| Toyota Corolla      | 33.9 |  71.1 |  65 | 4.22 | 19.90 | 1 | 1 | 4 | 1 |\n| Toyota Corona       | 21.5 | 120.1 |  97 | 3.70 | 20.01 | 1 | 0 | 3 | 1 |\n| Dodge Challenger    | 15.5 | 318.0 | 150 | 2.76 | 16.87 | 0 | 0 | 3 | 2 |\n| AMC Javelin         | 15.2 | 304.0 | 150 | 3.15 | 17.30 | 0 | 0 | 3 | 2 |\n| Camaro Z28          | 13.3 | 350.0 | 245 | 3.73 | 15.41 | 0 | 0 | 3 | 4 |\n| Pontiac Firebird    | 19.2 | 400.0 | 175 | 3.08 | 17.05 | 0 | 0 | 3 | 2 |\n| Fiat X1-9           | 27.3 |  79.0 |  66 | 4.08 | 18.90 | 1 | 1 | 4 | 1 |\n| Porsche 914-2       | 26.0 | 120.3 |  91 | 4.43 | 16.70 | 0 | 1 | 5 | 2 |\n| Lotus Europa        | 30.4 |  95.1 | 113 | 3.77 | 16.90 | 1 | 1 | 5 | 2 |\n| Ford Pantera L      | 15.8 | 351.0 | 264 | 4.22 | 14.50 | 0 | 1 | 5 | 4 |\n| Ferrari Dino        | 19.7 | 145.0 | 175 | 3.62 | 15.50 | 0 | 1 | 5 | 6 |\n| Maserati Bora       | 15.0 | 301.0 | 335 | 3.54 | 14.60 | 0 | 1 | 5 | 8 |\n| Volvo 142E          | 21.4 | 121.0 | 109 | 4.11 | 18.60 | 1 | 1 | 4 | 2 |\n\n",
            "text/latex": "A data.frame: 32 × 10\n\\begin{tabular}{llllllllll}\n model & mpg & disp & hp & drat & qsec & vs & am & gear & carb\\\\\n <chr> & <dbl> & <dbl> & <int> & <dbl> & <dbl> & <fct> & <fct> & <int> & <int>\\\\\n\\hline\n\t Mazda RX4           & 21.0 & 160.0 & 110 & 3.90 & 16.46 & 0 & 1 & 4 & 4\\\\\n\t Mazda RX4 Wag       & 21.0 & 160.0 & 110 & 3.90 & 17.02 & 0 & 1 & 4 & 4\\\\\n\t Datsun 710          & 22.8 & 108.0 &  93 & 3.85 & 18.61 & 1 & 1 & 4 & 1\\\\\n\t Hornet 4 Drive      & 21.4 & 258.0 & 110 & 3.08 & 19.44 & 1 & 0 & 3 & 1\\\\\n\t Hornet Sportabout   & 18.7 & 360.0 & 175 & 3.15 & 17.02 & 0 & 0 & 3 & 2\\\\\n\t Valiant             & 18.1 & 225.0 & 105 & 2.76 & 20.22 & 1 & 0 & 3 & 1\\\\\n\t Duster 360          & 14.3 & 360.0 & 245 & 3.21 & 15.84 & 0 & 0 & 3 & 4\\\\\n\t Merc 240D           & 24.4 & 146.7 &  62 & 3.69 & 20.00 & 1 & 0 & 4 & 2\\\\\n\t Merc 230            & 22.8 & 140.8 &  95 & 3.92 & 22.90 & 1 & 0 & 4 & 2\\\\\n\t Merc 280            & 19.2 & 167.6 & 123 & 3.92 & 18.30 & 1 & 0 & 4 & 4\\\\\n\t Merc 280C           & 17.8 & 167.6 & 123 & 3.92 & 18.90 & 1 & 0 & 4 & 4\\\\\n\t Merc 450SE          & 16.4 & 275.8 & 180 & 3.07 & 17.40 & 0 & 0 & 3 & 3\\\\\n\t Merc 450SL          & 17.3 & 275.8 & 180 & 3.07 & 17.60 & 0 & 0 & 3 & 3\\\\\n\t Merc 450SLC         & 15.2 & 275.8 & 180 & 3.07 & 18.00 & 0 & 0 & 3 & 3\\\\\n\t Cadillac Fleetwood  & 10.4 & 472.0 & 205 & 2.93 & 17.98 & 0 & 0 & 3 & 4\\\\\n\t Lincoln Continental & 10.4 & 460.0 & 215 & 3.00 & 17.82 & 0 & 0 & 3 & 4\\\\\n\t Chrysler Imperial   & 14.7 & 440.0 & 230 & 3.23 & 17.42 & 0 & 0 & 3 & 4\\\\\n\t Fiat 128            & 32.4 &  78.7 &  66 & 4.08 & 19.47 & 1 & 1 & 4 & 1\\\\\n\t Honda Civic         & 30.4 &  75.7 &  52 & 4.93 & 18.52 & 1 & 1 & 4 & 2\\\\\n\t Toyota Corolla      & 33.9 &  71.1 &  65 & 4.22 & 19.90 & 1 & 1 & 4 & 1\\\\\n\t Toyota Corona       & 21.5 & 120.1 &  97 & 3.70 & 20.01 & 1 & 0 & 3 & 1\\\\\n\t Dodge Challenger    & 15.5 & 318.0 & 150 & 2.76 & 16.87 & 0 & 0 & 3 & 2\\\\\n\t AMC Javelin         & 15.2 & 304.0 & 150 & 3.15 & 17.30 & 0 & 0 & 3 & 2\\\\\n\t Camaro Z28          & 13.3 & 350.0 & 245 & 3.73 & 15.41 & 0 & 0 & 3 & 4\\\\\n\t Pontiac Firebird    & 19.2 & 400.0 & 175 & 3.08 & 17.05 & 0 & 0 & 3 & 2\\\\\n\t Fiat X1-9           & 27.3 &  79.0 &  66 & 4.08 & 18.90 & 1 & 1 & 4 & 1\\\\\n\t Porsche 914-2       & 26.0 & 120.3 &  91 & 4.43 & 16.70 & 0 & 1 & 5 & 2\\\\\n\t Lotus Europa        & 30.4 &  95.1 & 113 & 3.77 & 16.90 & 1 & 1 & 5 & 2\\\\\n\t Ford Pantera L      & 15.8 & 351.0 & 264 & 4.22 & 14.50 & 0 & 1 & 5 & 4\\\\\n\t Ferrari Dino        & 19.7 & 145.0 & 175 & 3.62 & 15.50 & 0 & 1 & 5 & 6\\\\\n\t Maserati Bora       & 15.0 & 301.0 & 335 & 3.54 & 14.60 & 0 & 1 & 5 & 8\\\\\n\t Volvo 142E          & 21.4 & 121.0 & 109 & 4.11 & 18.60 & 1 & 1 & 4 & 2\\\\\n\\end{tabular}\n",
            "text/plain": [
              "   model               mpg  disp  hp  drat qsec  vs am gear carb\n",
              "1  Mazda RX4           21.0 160.0 110 3.90 16.46 0  1  4    4   \n",
              "2  Mazda RX4 Wag       21.0 160.0 110 3.90 17.02 0  1  4    4   \n",
              "3  Datsun 710          22.8 108.0  93 3.85 18.61 1  1  4    1   \n",
              "4  Hornet 4 Drive      21.4 258.0 110 3.08 19.44 1  0  3    1   \n",
              "5  Hornet Sportabout   18.7 360.0 175 3.15 17.02 0  0  3    2   \n",
              "6  Valiant             18.1 225.0 105 2.76 20.22 1  0  3    1   \n",
              "7  Duster 360          14.3 360.0 245 3.21 15.84 0  0  3    4   \n",
              "8  Merc 240D           24.4 146.7  62 3.69 20.00 1  0  4    2   \n",
              "9  Merc 230            22.8 140.8  95 3.92 22.90 1  0  4    2   \n",
              "10 Merc 280            19.2 167.6 123 3.92 18.30 1  0  4    4   \n",
              "11 Merc 280C           17.8 167.6 123 3.92 18.90 1  0  4    4   \n",
              "12 Merc 450SE          16.4 275.8 180 3.07 17.40 0  0  3    3   \n",
              "13 Merc 450SL          17.3 275.8 180 3.07 17.60 0  0  3    3   \n",
              "14 Merc 450SLC         15.2 275.8 180 3.07 18.00 0  0  3    3   \n",
              "15 Cadillac Fleetwood  10.4 472.0 205 2.93 17.98 0  0  3    4   \n",
              "16 Lincoln Continental 10.4 460.0 215 3.00 17.82 0  0  3    4   \n",
              "17 Chrysler Imperial   14.7 440.0 230 3.23 17.42 0  0  3    4   \n",
              "18 Fiat 128            32.4  78.7  66 4.08 19.47 1  1  4    1   \n",
              "19 Honda Civic         30.4  75.7  52 4.93 18.52 1  1  4    2   \n",
              "20 Toyota Corolla      33.9  71.1  65 4.22 19.90 1  1  4    1   \n",
              "21 Toyota Corona       21.5 120.1  97 3.70 20.01 1  0  3    1   \n",
              "22 Dodge Challenger    15.5 318.0 150 2.76 16.87 0  0  3    2   \n",
              "23 AMC Javelin         15.2 304.0 150 3.15 17.30 0  0  3    2   \n",
              "24 Camaro Z28          13.3 350.0 245 3.73 15.41 0  0  3    4   \n",
              "25 Pontiac Firebird    19.2 400.0 175 3.08 17.05 0  0  3    2   \n",
              "26 Fiat X1-9           27.3  79.0  66 4.08 18.90 1  1  4    1   \n",
              "27 Porsche 914-2       26.0 120.3  91 4.43 16.70 0  1  5    2   \n",
              "28 Lotus Europa        30.4  95.1 113 3.77 16.90 1  1  5    2   \n",
              "29 Ford Pantera L      15.8 351.0 264 4.22 14.50 0  1  5    4   \n",
              "30 Ferrari Dino        19.7 145.0 175 3.62 15.50 0  1  5    6   \n",
              "31 Maserati Bora       15.0 301.0 335 3.54 14.60 0  1  5    8   \n",
              "32 Volvo 142E          21.4 121.0 109 4.11 18.60 1  1  4    2   "
            ]
          },
          "metadata": {}
        }
      ]
    },
    {
      "cell_type": "markdown",
      "source": [
        "filter()"
      ],
      "metadata": {
        "id": "FdqdxjA7nWAm"
      }
    },
    {
      "cell_type": "code",
      "source": [
        "# filter cars with v-shaped engine\n",
        "# select(carData, vs)\n",
        "filter(carData, vs == 0)"
      ],
      "metadata": {
        "colab": {
          "base_uri": "https://localhost:8080/",
          "height": 662
        },
        "id": "5ilPibjFmxAv",
        "outputId": "d11e77b5-ead4-4d0e-9d00-ec011a56a379"
      },
      "execution_count": 25,
      "outputs": [
        {
          "output_type": "display_data",
          "data": {
            "text/html": [
              "<table class=\"dataframe\">\n",
              "<caption>A data.frame: 18 × 12</caption>\n",
              "<thead>\n",
              "\t<tr><th scope=col>model</th><th scope=col>mpg</th><th scope=col>cyl</th><th scope=col>disp</th><th scope=col>hp</th><th scope=col>drat</th><th scope=col>wt</th><th scope=col>qsec</th><th scope=col>vs</th><th scope=col>am</th><th scope=col>gear</th><th scope=col>carb</th></tr>\n",
              "\t<tr><th scope=col>&lt;chr&gt;</th><th scope=col>&lt;dbl&gt;</th><th scope=col>&lt;int&gt;</th><th scope=col>&lt;dbl&gt;</th><th scope=col>&lt;int&gt;</th><th scope=col>&lt;dbl&gt;</th><th scope=col>&lt;dbl&gt;</th><th scope=col>&lt;dbl&gt;</th><th scope=col>&lt;fct&gt;</th><th scope=col>&lt;fct&gt;</th><th scope=col>&lt;int&gt;</th><th scope=col>&lt;int&gt;</th></tr>\n",
              "</thead>\n",
              "<tbody>\n",
              "\t<tr><td>Mazda RX4          </td><td>21.0</td><td>6</td><td>160.0</td><td>110</td><td>3.90</td><td>2.620</td><td>16.46</td><td>0</td><td>1</td><td>4</td><td>4</td></tr>\n",
              "\t<tr><td>Mazda RX4 Wag      </td><td>21.0</td><td>6</td><td>160.0</td><td>110</td><td>3.90</td><td>2.875</td><td>17.02</td><td>0</td><td>1</td><td>4</td><td>4</td></tr>\n",
              "\t<tr><td>Hornet Sportabout  </td><td>18.7</td><td>8</td><td>360.0</td><td>175</td><td>3.15</td><td>3.440</td><td>17.02</td><td>0</td><td>0</td><td>3</td><td>2</td></tr>\n",
              "\t<tr><td>Duster 360         </td><td>14.3</td><td>8</td><td>360.0</td><td>245</td><td>3.21</td><td>3.570</td><td>15.84</td><td>0</td><td>0</td><td>3</td><td>4</td></tr>\n",
              "\t<tr><td>Merc 450SE         </td><td>16.4</td><td>8</td><td>275.8</td><td>180</td><td>3.07</td><td>4.070</td><td>17.40</td><td>0</td><td>0</td><td>3</td><td>3</td></tr>\n",
              "\t<tr><td>Merc 450SL         </td><td>17.3</td><td>8</td><td>275.8</td><td>180</td><td>3.07</td><td>3.730</td><td>17.60</td><td>0</td><td>0</td><td>3</td><td>3</td></tr>\n",
              "\t<tr><td>Merc 450SLC        </td><td>15.2</td><td>8</td><td>275.8</td><td>180</td><td>3.07</td><td>3.780</td><td>18.00</td><td>0</td><td>0</td><td>3</td><td>3</td></tr>\n",
              "\t<tr><td>Cadillac Fleetwood </td><td>10.4</td><td>8</td><td>472.0</td><td>205</td><td>2.93</td><td>5.250</td><td>17.98</td><td>0</td><td>0</td><td>3</td><td>4</td></tr>\n",
              "\t<tr><td>Lincoln Continental</td><td>10.4</td><td>8</td><td>460.0</td><td>215</td><td>3.00</td><td>5.424</td><td>17.82</td><td>0</td><td>0</td><td>3</td><td>4</td></tr>\n",
              "\t<tr><td>Chrysler Imperial  </td><td>14.7</td><td>8</td><td>440.0</td><td>230</td><td>3.23</td><td>5.345</td><td>17.42</td><td>0</td><td>0</td><td>3</td><td>4</td></tr>\n",
              "\t<tr><td>Dodge Challenger   </td><td>15.5</td><td>8</td><td>318.0</td><td>150</td><td>2.76</td><td>3.520</td><td>16.87</td><td>0</td><td>0</td><td>3</td><td>2</td></tr>\n",
              "\t<tr><td>AMC Javelin        </td><td>15.2</td><td>8</td><td>304.0</td><td>150</td><td>3.15</td><td>3.435</td><td>17.30</td><td>0</td><td>0</td><td>3</td><td>2</td></tr>\n",
              "\t<tr><td>Camaro Z28         </td><td>13.3</td><td>8</td><td>350.0</td><td>245</td><td>3.73</td><td>3.840</td><td>15.41</td><td>0</td><td>0</td><td>3</td><td>4</td></tr>\n",
              "\t<tr><td>Pontiac Firebird   </td><td>19.2</td><td>8</td><td>400.0</td><td>175</td><td>3.08</td><td>3.845</td><td>17.05</td><td>0</td><td>0</td><td>3</td><td>2</td></tr>\n",
              "\t<tr><td>Porsche 914-2      </td><td>26.0</td><td>4</td><td>120.3</td><td> 91</td><td>4.43</td><td>2.140</td><td>16.70</td><td>0</td><td>1</td><td>5</td><td>2</td></tr>\n",
              "\t<tr><td>Ford Pantera L     </td><td>15.8</td><td>8</td><td>351.0</td><td>264</td><td>4.22</td><td>3.170</td><td>14.50</td><td>0</td><td>1</td><td>5</td><td>4</td></tr>\n",
              "\t<tr><td>Ferrari Dino       </td><td>19.7</td><td>6</td><td>145.0</td><td>175</td><td>3.62</td><td>2.770</td><td>15.50</td><td>0</td><td>1</td><td>5</td><td>6</td></tr>\n",
              "\t<tr><td>Maserati Bora      </td><td>15.0</td><td>8</td><td>301.0</td><td>335</td><td>3.54</td><td>3.570</td><td>14.60</td><td>0</td><td>1</td><td>5</td><td>8</td></tr>\n",
              "</tbody>\n",
              "</table>\n"
            ],
            "text/markdown": "\nA data.frame: 18 × 12\n\n| model &lt;chr&gt; | mpg &lt;dbl&gt; | cyl &lt;int&gt; | disp &lt;dbl&gt; | hp &lt;int&gt; | drat &lt;dbl&gt; | wt &lt;dbl&gt; | qsec &lt;dbl&gt; | vs &lt;fct&gt; | am &lt;fct&gt; | gear &lt;int&gt; | carb &lt;int&gt; |\n|---|---|---|---|---|---|---|---|---|---|---|---|\n| Mazda RX4           | 21.0 | 6 | 160.0 | 110 | 3.90 | 2.620 | 16.46 | 0 | 1 | 4 | 4 |\n| Mazda RX4 Wag       | 21.0 | 6 | 160.0 | 110 | 3.90 | 2.875 | 17.02 | 0 | 1 | 4 | 4 |\n| Hornet Sportabout   | 18.7 | 8 | 360.0 | 175 | 3.15 | 3.440 | 17.02 | 0 | 0 | 3 | 2 |\n| Duster 360          | 14.3 | 8 | 360.0 | 245 | 3.21 | 3.570 | 15.84 | 0 | 0 | 3 | 4 |\n| Merc 450SE          | 16.4 | 8 | 275.8 | 180 | 3.07 | 4.070 | 17.40 | 0 | 0 | 3 | 3 |\n| Merc 450SL          | 17.3 | 8 | 275.8 | 180 | 3.07 | 3.730 | 17.60 | 0 | 0 | 3 | 3 |\n| Merc 450SLC         | 15.2 | 8 | 275.8 | 180 | 3.07 | 3.780 | 18.00 | 0 | 0 | 3 | 3 |\n| Cadillac Fleetwood  | 10.4 | 8 | 472.0 | 205 | 2.93 | 5.250 | 17.98 | 0 | 0 | 3 | 4 |\n| Lincoln Continental | 10.4 | 8 | 460.0 | 215 | 3.00 | 5.424 | 17.82 | 0 | 0 | 3 | 4 |\n| Chrysler Imperial   | 14.7 | 8 | 440.0 | 230 | 3.23 | 5.345 | 17.42 | 0 | 0 | 3 | 4 |\n| Dodge Challenger    | 15.5 | 8 | 318.0 | 150 | 2.76 | 3.520 | 16.87 | 0 | 0 | 3 | 2 |\n| AMC Javelin         | 15.2 | 8 | 304.0 | 150 | 3.15 | 3.435 | 17.30 | 0 | 0 | 3 | 2 |\n| Camaro Z28          | 13.3 | 8 | 350.0 | 245 | 3.73 | 3.840 | 15.41 | 0 | 0 | 3 | 4 |\n| Pontiac Firebird    | 19.2 | 8 | 400.0 | 175 | 3.08 | 3.845 | 17.05 | 0 | 0 | 3 | 2 |\n| Porsche 914-2       | 26.0 | 4 | 120.3 |  91 | 4.43 | 2.140 | 16.70 | 0 | 1 | 5 | 2 |\n| Ford Pantera L      | 15.8 | 8 | 351.0 | 264 | 4.22 | 3.170 | 14.50 | 0 | 1 | 5 | 4 |\n| Ferrari Dino        | 19.7 | 6 | 145.0 | 175 | 3.62 | 2.770 | 15.50 | 0 | 1 | 5 | 6 |\n| Maserati Bora       | 15.0 | 8 | 301.0 | 335 | 3.54 | 3.570 | 14.60 | 0 | 1 | 5 | 8 |\n\n",
            "text/latex": "A data.frame: 18 × 12\n\\begin{tabular}{llllllllllll}\n model & mpg & cyl & disp & hp & drat & wt & qsec & vs & am & gear & carb\\\\\n <chr> & <dbl> & <int> & <dbl> & <int> & <dbl> & <dbl> & <dbl> & <fct> & <fct> & <int> & <int>\\\\\n\\hline\n\t Mazda RX4           & 21.0 & 6 & 160.0 & 110 & 3.90 & 2.620 & 16.46 & 0 & 1 & 4 & 4\\\\\n\t Mazda RX4 Wag       & 21.0 & 6 & 160.0 & 110 & 3.90 & 2.875 & 17.02 & 0 & 1 & 4 & 4\\\\\n\t Hornet Sportabout   & 18.7 & 8 & 360.0 & 175 & 3.15 & 3.440 & 17.02 & 0 & 0 & 3 & 2\\\\\n\t Duster 360          & 14.3 & 8 & 360.0 & 245 & 3.21 & 3.570 & 15.84 & 0 & 0 & 3 & 4\\\\\n\t Merc 450SE          & 16.4 & 8 & 275.8 & 180 & 3.07 & 4.070 & 17.40 & 0 & 0 & 3 & 3\\\\\n\t Merc 450SL          & 17.3 & 8 & 275.8 & 180 & 3.07 & 3.730 & 17.60 & 0 & 0 & 3 & 3\\\\\n\t Merc 450SLC         & 15.2 & 8 & 275.8 & 180 & 3.07 & 3.780 & 18.00 & 0 & 0 & 3 & 3\\\\\n\t Cadillac Fleetwood  & 10.4 & 8 & 472.0 & 205 & 2.93 & 5.250 & 17.98 & 0 & 0 & 3 & 4\\\\\n\t Lincoln Continental & 10.4 & 8 & 460.0 & 215 & 3.00 & 5.424 & 17.82 & 0 & 0 & 3 & 4\\\\\n\t Chrysler Imperial   & 14.7 & 8 & 440.0 & 230 & 3.23 & 5.345 & 17.42 & 0 & 0 & 3 & 4\\\\\n\t Dodge Challenger    & 15.5 & 8 & 318.0 & 150 & 2.76 & 3.520 & 16.87 & 0 & 0 & 3 & 2\\\\\n\t AMC Javelin         & 15.2 & 8 & 304.0 & 150 & 3.15 & 3.435 & 17.30 & 0 & 0 & 3 & 2\\\\\n\t Camaro Z28          & 13.3 & 8 & 350.0 & 245 & 3.73 & 3.840 & 15.41 & 0 & 0 & 3 & 4\\\\\n\t Pontiac Firebird    & 19.2 & 8 & 400.0 & 175 & 3.08 & 3.845 & 17.05 & 0 & 0 & 3 & 2\\\\\n\t Porsche 914-2       & 26.0 & 4 & 120.3 &  91 & 4.43 & 2.140 & 16.70 & 0 & 1 & 5 & 2\\\\\n\t Ford Pantera L      & 15.8 & 8 & 351.0 & 264 & 4.22 & 3.170 & 14.50 & 0 & 1 & 5 & 4\\\\\n\t Ferrari Dino        & 19.7 & 6 & 145.0 & 175 & 3.62 & 2.770 & 15.50 & 0 & 1 & 5 & 6\\\\\n\t Maserati Bora       & 15.0 & 8 & 301.0 & 335 & 3.54 & 3.570 & 14.60 & 0 & 1 & 5 & 8\\\\\n\\end{tabular}\n",
            "text/plain": [
              "   model               mpg  cyl disp  hp  drat wt    qsec  vs am gear carb\n",
              "1  Mazda RX4           21.0 6   160.0 110 3.90 2.620 16.46 0  1  4    4   \n",
              "2  Mazda RX4 Wag       21.0 6   160.0 110 3.90 2.875 17.02 0  1  4    4   \n",
              "3  Hornet Sportabout   18.7 8   360.0 175 3.15 3.440 17.02 0  0  3    2   \n",
              "4  Duster 360          14.3 8   360.0 245 3.21 3.570 15.84 0  0  3    4   \n",
              "5  Merc 450SE          16.4 8   275.8 180 3.07 4.070 17.40 0  0  3    3   \n",
              "6  Merc 450SL          17.3 8   275.8 180 3.07 3.730 17.60 0  0  3    3   \n",
              "7  Merc 450SLC         15.2 8   275.8 180 3.07 3.780 18.00 0  0  3    3   \n",
              "8  Cadillac Fleetwood  10.4 8   472.0 205 2.93 5.250 17.98 0  0  3    4   \n",
              "9  Lincoln Continental 10.4 8   460.0 215 3.00 5.424 17.82 0  0  3    4   \n",
              "10 Chrysler Imperial   14.7 8   440.0 230 3.23 5.345 17.42 0  0  3    4   \n",
              "11 Dodge Challenger    15.5 8   318.0 150 2.76 3.520 16.87 0  0  3    2   \n",
              "12 AMC Javelin         15.2 8   304.0 150 3.15 3.435 17.30 0  0  3    2   \n",
              "13 Camaro Z28          13.3 8   350.0 245 3.73 3.840 15.41 0  0  3    4   \n",
              "14 Pontiac Firebird    19.2 8   400.0 175 3.08 3.845 17.05 0  0  3    2   \n",
              "15 Porsche 914-2       26.0 4   120.3  91 4.43 2.140 16.70 0  1  5    2   \n",
              "16 Ford Pantera L      15.8 8   351.0 264 4.22 3.170 14.50 0  1  5    4   \n",
              "17 Ferrari Dino        19.7 6   145.0 175 3.62 2.770 15.50 0  1  5    6   \n",
              "18 Maserati Bora       15.0 8   301.0 335 3.54 3.570 14.60 0  1  5    8   "
            ]
          },
          "metadata": {}
        }
      ]
    },
    {
      "cell_type": "code",
      "source": [
        "# filter cars with v shaped engine and manual transmission\n",
        "filter(carData, vs == 0 & am == 1)"
      ],
      "metadata": {
        "colab": {
          "base_uri": "https://localhost:8080/",
          "height": 286
        },
        "id": "dUy-1rKsmxFQ",
        "outputId": "1135af6e-68ac-43fb-8998-d8097fbf857b"
      },
      "execution_count": 27,
      "outputs": [
        {
          "output_type": "display_data",
          "data": {
            "text/html": [
              "<table class=\"dataframe\">\n",
              "<caption>A data.frame: 6 × 12</caption>\n",
              "<thead>\n",
              "\t<tr><th scope=col>model</th><th scope=col>mpg</th><th scope=col>cyl</th><th scope=col>disp</th><th scope=col>hp</th><th scope=col>drat</th><th scope=col>wt</th><th scope=col>qsec</th><th scope=col>vs</th><th scope=col>am</th><th scope=col>gear</th><th scope=col>carb</th></tr>\n",
              "\t<tr><th scope=col>&lt;chr&gt;</th><th scope=col>&lt;dbl&gt;</th><th scope=col>&lt;int&gt;</th><th scope=col>&lt;dbl&gt;</th><th scope=col>&lt;int&gt;</th><th scope=col>&lt;dbl&gt;</th><th scope=col>&lt;dbl&gt;</th><th scope=col>&lt;dbl&gt;</th><th scope=col>&lt;fct&gt;</th><th scope=col>&lt;fct&gt;</th><th scope=col>&lt;int&gt;</th><th scope=col>&lt;int&gt;</th></tr>\n",
              "</thead>\n",
              "<tbody>\n",
              "\t<tr><td>Mazda RX4     </td><td>21.0</td><td>6</td><td>160.0</td><td>110</td><td>3.90</td><td>2.620</td><td>16.46</td><td>0</td><td>1</td><td>4</td><td>4</td></tr>\n",
              "\t<tr><td>Mazda RX4 Wag </td><td>21.0</td><td>6</td><td>160.0</td><td>110</td><td>3.90</td><td>2.875</td><td>17.02</td><td>0</td><td>1</td><td>4</td><td>4</td></tr>\n",
              "\t<tr><td>Porsche 914-2 </td><td>26.0</td><td>4</td><td>120.3</td><td> 91</td><td>4.43</td><td>2.140</td><td>16.70</td><td>0</td><td>1</td><td>5</td><td>2</td></tr>\n",
              "\t<tr><td>Ford Pantera L</td><td>15.8</td><td>8</td><td>351.0</td><td>264</td><td>4.22</td><td>3.170</td><td>14.50</td><td>0</td><td>1</td><td>5</td><td>4</td></tr>\n",
              "\t<tr><td>Ferrari Dino  </td><td>19.7</td><td>6</td><td>145.0</td><td>175</td><td>3.62</td><td>2.770</td><td>15.50</td><td>0</td><td>1</td><td>5</td><td>6</td></tr>\n",
              "\t<tr><td>Maserati Bora </td><td>15.0</td><td>8</td><td>301.0</td><td>335</td><td>3.54</td><td>3.570</td><td>14.60</td><td>0</td><td>1</td><td>5</td><td>8</td></tr>\n",
              "</tbody>\n",
              "</table>\n"
            ],
            "text/markdown": "\nA data.frame: 6 × 12\n\n| model &lt;chr&gt; | mpg &lt;dbl&gt; | cyl &lt;int&gt; | disp &lt;dbl&gt; | hp &lt;int&gt; | drat &lt;dbl&gt; | wt &lt;dbl&gt; | qsec &lt;dbl&gt; | vs &lt;fct&gt; | am &lt;fct&gt; | gear &lt;int&gt; | carb &lt;int&gt; |\n|---|---|---|---|---|---|---|---|---|---|---|---|\n| Mazda RX4      | 21.0 | 6 | 160.0 | 110 | 3.90 | 2.620 | 16.46 | 0 | 1 | 4 | 4 |\n| Mazda RX4 Wag  | 21.0 | 6 | 160.0 | 110 | 3.90 | 2.875 | 17.02 | 0 | 1 | 4 | 4 |\n| Porsche 914-2  | 26.0 | 4 | 120.3 |  91 | 4.43 | 2.140 | 16.70 | 0 | 1 | 5 | 2 |\n| Ford Pantera L | 15.8 | 8 | 351.0 | 264 | 4.22 | 3.170 | 14.50 | 0 | 1 | 5 | 4 |\n| Ferrari Dino   | 19.7 | 6 | 145.0 | 175 | 3.62 | 2.770 | 15.50 | 0 | 1 | 5 | 6 |\n| Maserati Bora  | 15.0 | 8 | 301.0 | 335 | 3.54 | 3.570 | 14.60 | 0 | 1 | 5 | 8 |\n\n",
            "text/latex": "A data.frame: 6 × 12\n\\begin{tabular}{llllllllllll}\n model & mpg & cyl & disp & hp & drat & wt & qsec & vs & am & gear & carb\\\\\n <chr> & <dbl> & <int> & <dbl> & <int> & <dbl> & <dbl> & <dbl> & <fct> & <fct> & <int> & <int>\\\\\n\\hline\n\t Mazda RX4      & 21.0 & 6 & 160.0 & 110 & 3.90 & 2.620 & 16.46 & 0 & 1 & 4 & 4\\\\\n\t Mazda RX4 Wag  & 21.0 & 6 & 160.0 & 110 & 3.90 & 2.875 & 17.02 & 0 & 1 & 4 & 4\\\\\n\t Porsche 914-2  & 26.0 & 4 & 120.3 &  91 & 4.43 & 2.140 & 16.70 & 0 & 1 & 5 & 2\\\\\n\t Ford Pantera L & 15.8 & 8 & 351.0 & 264 & 4.22 & 3.170 & 14.50 & 0 & 1 & 5 & 4\\\\\n\t Ferrari Dino   & 19.7 & 6 & 145.0 & 175 & 3.62 & 2.770 & 15.50 & 0 & 1 & 5 & 6\\\\\n\t Maserati Bora  & 15.0 & 8 & 301.0 & 335 & 3.54 & 3.570 & 14.60 & 0 & 1 & 5 & 8\\\\\n\\end{tabular}\n",
            "text/plain": [
              "  model          mpg  cyl disp  hp  drat wt    qsec  vs am gear carb\n",
              "1 Mazda RX4      21.0 6   160.0 110 3.90 2.620 16.46 0  1  4    4   \n",
              "2 Mazda RX4 Wag  21.0 6   160.0 110 3.90 2.875 17.02 0  1  4    4   \n",
              "3 Porsche 914-2  26.0 4   120.3  91 4.43 2.140 16.70 0  1  5    2   \n",
              "4 Ford Pantera L 15.8 8   351.0 264 4.22 3.170 14.50 0  1  5    4   \n",
              "5 Ferrari Dino   19.7 6   145.0 175 3.62 2.770 15.50 0  1  5    6   \n",
              "6 Maserati Bora  15.0 8   301.0 335 3.54 3.570 14.60 0  1  5    8   "
            ]
          },
          "metadata": {}
        }
      ]
    },
    {
      "cell_type": "code",
      "source": [
        "# filter cars with v-shaped engine and manual transmission\n",
        "# and hp greated than 150 or less than 100\n",
        "\n",
        "filter(carData, vs == 0 & am == 1 & (hp > 150 | hp < 100))"
      ],
      "metadata": {
        "colab": {
          "base_uri": "https://localhost:8080/",
          "height": 223
        },
        "id": "ADS7MQn4mxGt",
        "outputId": "3c762536-5fe1-46c6-cebc-b87c7ffe9a29"
      },
      "execution_count": 28,
      "outputs": [
        {
          "output_type": "display_data",
          "data": {
            "text/html": [
              "<table class=\"dataframe\">\n",
              "<caption>A data.frame: 4 × 12</caption>\n",
              "<thead>\n",
              "\t<tr><th scope=col>model</th><th scope=col>mpg</th><th scope=col>cyl</th><th scope=col>disp</th><th scope=col>hp</th><th scope=col>drat</th><th scope=col>wt</th><th scope=col>qsec</th><th scope=col>vs</th><th scope=col>am</th><th scope=col>gear</th><th scope=col>carb</th></tr>\n",
              "\t<tr><th scope=col>&lt;chr&gt;</th><th scope=col>&lt;dbl&gt;</th><th scope=col>&lt;int&gt;</th><th scope=col>&lt;dbl&gt;</th><th scope=col>&lt;int&gt;</th><th scope=col>&lt;dbl&gt;</th><th scope=col>&lt;dbl&gt;</th><th scope=col>&lt;dbl&gt;</th><th scope=col>&lt;fct&gt;</th><th scope=col>&lt;fct&gt;</th><th scope=col>&lt;int&gt;</th><th scope=col>&lt;int&gt;</th></tr>\n",
              "</thead>\n",
              "<tbody>\n",
              "\t<tr><td>Porsche 914-2 </td><td>26.0</td><td>4</td><td>120.3</td><td> 91</td><td>4.43</td><td>2.14</td><td>16.7</td><td>0</td><td>1</td><td>5</td><td>2</td></tr>\n",
              "\t<tr><td>Ford Pantera L</td><td>15.8</td><td>8</td><td>351.0</td><td>264</td><td>4.22</td><td>3.17</td><td>14.5</td><td>0</td><td>1</td><td>5</td><td>4</td></tr>\n",
              "\t<tr><td>Ferrari Dino  </td><td>19.7</td><td>6</td><td>145.0</td><td>175</td><td>3.62</td><td>2.77</td><td>15.5</td><td>0</td><td>1</td><td>5</td><td>6</td></tr>\n",
              "\t<tr><td>Maserati Bora </td><td>15.0</td><td>8</td><td>301.0</td><td>335</td><td>3.54</td><td>3.57</td><td>14.6</td><td>0</td><td>1</td><td>5</td><td>8</td></tr>\n",
              "</tbody>\n",
              "</table>\n"
            ],
            "text/markdown": "\nA data.frame: 4 × 12\n\n| model &lt;chr&gt; | mpg &lt;dbl&gt; | cyl &lt;int&gt; | disp &lt;dbl&gt; | hp &lt;int&gt; | drat &lt;dbl&gt; | wt &lt;dbl&gt; | qsec &lt;dbl&gt; | vs &lt;fct&gt; | am &lt;fct&gt; | gear &lt;int&gt; | carb &lt;int&gt; |\n|---|---|---|---|---|---|---|---|---|---|---|---|\n| Porsche 914-2  | 26.0 | 4 | 120.3 |  91 | 4.43 | 2.14 | 16.7 | 0 | 1 | 5 | 2 |\n| Ford Pantera L | 15.8 | 8 | 351.0 | 264 | 4.22 | 3.17 | 14.5 | 0 | 1 | 5 | 4 |\n| Ferrari Dino   | 19.7 | 6 | 145.0 | 175 | 3.62 | 2.77 | 15.5 | 0 | 1 | 5 | 6 |\n| Maserati Bora  | 15.0 | 8 | 301.0 | 335 | 3.54 | 3.57 | 14.6 | 0 | 1 | 5 | 8 |\n\n",
            "text/latex": "A data.frame: 4 × 12\n\\begin{tabular}{llllllllllll}\n model & mpg & cyl & disp & hp & drat & wt & qsec & vs & am & gear & carb\\\\\n <chr> & <dbl> & <int> & <dbl> & <int> & <dbl> & <dbl> & <dbl> & <fct> & <fct> & <int> & <int>\\\\\n\\hline\n\t Porsche 914-2  & 26.0 & 4 & 120.3 &  91 & 4.43 & 2.14 & 16.7 & 0 & 1 & 5 & 2\\\\\n\t Ford Pantera L & 15.8 & 8 & 351.0 & 264 & 4.22 & 3.17 & 14.5 & 0 & 1 & 5 & 4\\\\\n\t Ferrari Dino   & 19.7 & 6 & 145.0 & 175 & 3.62 & 2.77 & 15.5 & 0 & 1 & 5 & 6\\\\\n\t Maserati Bora  & 15.0 & 8 & 301.0 & 335 & 3.54 & 3.57 & 14.6 & 0 & 1 & 5 & 8\\\\\n\\end{tabular}\n",
            "text/plain": [
              "  model          mpg  cyl disp  hp  drat wt   qsec vs am gear carb\n",
              "1 Porsche 914-2  26.0 4   120.3  91 4.43 2.14 16.7 0  1  5    2   \n",
              "2 Ford Pantera L 15.8 8   351.0 264 4.22 3.17 14.5 0  1  5    4   \n",
              "3 Ferrari Dino   19.7 6   145.0 175 3.62 2.77 15.5 0  1  5    6   \n",
              "4 Maserati Bora  15.0 8   301.0 335 3.54 3.57 14.6 0  1  5    8   "
            ]
          },
          "metadata": {}
        }
      ]
    },
    {
      "cell_type": "markdown",
      "source": [
        "Chaining / piping the operation"
      ],
      "metadata": {
        "id": "-nVbCC7VuzXC"
      }
    },
    {
      "cell_type": "code",
      "source": [
        "# select only the feature cyl and wt for cars with v-shaped engine\n",
        "carData %>% filter(vs == 0) %>% select(cyl, wt)"
      ],
      "metadata": {
        "colab": {
          "base_uri": "https://localhost:8080/",
          "height": 679
        },
        "id": "okbSUFWEmxKi",
        "outputId": "3b1ae333-b933-4fe1-cd6b-192947a9897a"
      },
      "execution_count": 30,
      "outputs": [
        {
          "output_type": "display_data",
          "data": {
            "text/html": [
              "<table class=\"dataframe\">\n",
              "<caption>A data.frame: 18 × 2</caption>\n",
              "<thead>\n",
              "\t<tr><th scope=col>cyl</th><th scope=col>wt</th></tr>\n",
              "\t<tr><th scope=col>&lt;int&gt;</th><th scope=col>&lt;dbl&gt;</th></tr>\n",
              "</thead>\n",
              "<tbody>\n",
              "\t<tr><td>6</td><td>2.620</td></tr>\n",
              "\t<tr><td>6</td><td>2.875</td></tr>\n",
              "\t<tr><td>8</td><td>3.440</td></tr>\n",
              "\t<tr><td>8</td><td>3.570</td></tr>\n",
              "\t<tr><td>8</td><td>4.070</td></tr>\n",
              "\t<tr><td>8</td><td>3.730</td></tr>\n",
              "\t<tr><td>8</td><td>3.780</td></tr>\n",
              "\t<tr><td>8</td><td>5.250</td></tr>\n",
              "\t<tr><td>8</td><td>5.424</td></tr>\n",
              "\t<tr><td>8</td><td>5.345</td></tr>\n",
              "\t<tr><td>8</td><td>3.520</td></tr>\n",
              "\t<tr><td>8</td><td>3.435</td></tr>\n",
              "\t<tr><td>8</td><td>3.840</td></tr>\n",
              "\t<tr><td>8</td><td>3.845</td></tr>\n",
              "\t<tr><td>4</td><td>2.140</td></tr>\n",
              "\t<tr><td>8</td><td>3.170</td></tr>\n",
              "\t<tr><td>6</td><td>2.770</td></tr>\n",
              "\t<tr><td>8</td><td>3.570</td></tr>\n",
              "</tbody>\n",
              "</table>\n"
            ],
            "text/markdown": "\nA data.frame: 18 × 2\n\n| cyl &lt;int&gt; | wt &lt;dbl&gt; |\n|---|---|\n| 6 | 2.620 |\n| 6 | 2.875 |\n| 8 | 3.440 |\n| 8 | 3.570 |\n| 8 | 4.070 |\n| 8 | 3.730 |\n| 8 | 3.780 |\n| 8 | 5.250 |\n| 8 | 5.424 |\n| 8 | 5.345 |\n| 8 | 3.520 |\n| 8 | 3.435 |\n| 8 | 3.840 |\n| 8 | 3.845 |\n| 4 | 2.140 |\n| 8 | 3.170 |\n| 6 | 2.770 |\n| 8 | 3.570 |\n\n",
            "text/latex": "A data.frame: 18 × 2\n\\begin{tabular}{ll}\n cyl & wt\\\\\n <int> & <dbl>\\\\\n\\hline\n\t 6 & 2.620\\\\\n\t 6 & 2.875\\\\\n\t 8 & 3.440\\\\\n\t 8 & 3.570\\\\\n\t 8 & 4.070\\\\\n\t 8 & 3.730\\\\\n\t 8 & 3.780\\\\\n\t 8 & 5.250\\\\\n\t 8 & 5.424\\\\\n\t 8 & 5.345\\\\\n\t 8 & 3.520\\\\\n\t 8 & 3.435\\\\\n\t 8 & 3.840\\\\\n\t 8 & 3.845\\\\\n\t 4 & 2.140\\\\\n\t 8 & 3.170\\\\\n\t 6 & 2.770\\\\\n\t 8 & 3.570\\\\\n\\end{tabular}\n",
            "text/plain": [
              "   cyl wt   \n",
              "1  6   2.620\n",
              "2  6   2.875\n",
              "3  8   3.440\n",
              "4  8   3.570\n",
              "5  8   4.070\n",
              "6  8   3.730\n",
              "7  8   3.780\n",
              "8  8   5.250\n",
              "9  8   5.424\n",
              "10 8   5.345\n",
              "11 8   3.520\n",
              "12 8   3.435\n",
              "13 8   3.840\n",
              "14 8   3.845\n",
              "15 4   2.140\n",
              "16 8   3.170\n",
              "17 6   2.770\n",
              "18 8   3.570"
            ]
          },
          "metadata": {}
        }
      ]
    },
    {
      "cell_type": "code",
      "source": [
        "#  select only the features cyl and wt for cars with v-shaped engine\n",
        "# and hp greater than 150\n",
        "\n",
        "carData %>% filter(vs == 0 & hp > 150) %>% select(cyl, wt)"
      ],
      "metadata": {
        "colab": {
          "base_uri": "https://localhost:8080/",
          "height": 523
        },
        "id": "tto1eixsmxNE",
        "outputId": "0022af2e-1426-4785-f57a-1b6e6f9a9a0a"
      },
      "execution_count": 32,
      "outputs": [
        {
          "output_type": "display_data",
          "data": {
            "text/html": [
              "<table class=\"dataframe\">\n",
              "<caption>A data.frame: 13 × 2</caption>\n",
              "<thead>\n",
              "\t<tr><th scope=col>cyl</th><th scope=col>wt</th></tr>\n",
              "\t<tr><th scope=col>&lt;int&gt;</th><th scope=col>&lt;dbl&gt;</th></tr>\n",
              "</thead>\n",
              "<tbody>\n",
              "\t<tr><td>8</td><td>3.440</td></tr>\n",
              "\t<tr><td>8</td><td>3.570</td></tr>\n",
              "\t<tr><td>8</td><td>4.070</td></tr>\n",
              "\t<tr><td>8</td><td>3.730</td></tr>\n",
              "\t<tr><td>8</td><td>3.780</td></tr>\n",
              "\t<tr><td>8</td><td>5.250</td></tr>\n",
              "\t<tr><td>8</td><td>5.424</td></tr>\n",
              "\t<tr><td>8</td><td>5.345</td></tr>\n",
              "\t<tr><td>8</td><td>3.840</td></tr>\n",
              "\t<tr><td>8</td><td>3.845</td></tr>\n",
              "\t<tr><td>8</td><td>3.170</td></tr>\n",
              "\t<tr><td>6</td><td>2.770</td></tr>\n",
              "\t<tr><td>8</td><td>3.570</td></tr>\n",
              "</tbody>\n",
              "</table>\n"
            ],
            "text/markdown": "\nA data.frame: 13 × 2\n\n| cyl &lt;int&gt; | wt &lt;dbl&gt; |\n|---|---|\n| 8 | 3.440 |\n| 8 | 3.570 |\n| 8 | 4.070 |\n| 8 | 3.730 |\n| 8 | 3.780 |\n| 8 | 5.250 |\n| 8 | 5.424 |\n| 8 | 5.345 |\n| 8 | 3.840 |\n| 8 | 3.845 |\n| 8 | 3.170 |\n| 6 | 2.770 |\n| 8 | 3.570 |\n\n",
            "text/latex": "A data.frame: 13 × 2\n\\begin{tabular}{ll}\n cyl & wt\\\\\n <int> & <dbl>\\\\\n\\hline\n\t 8 & 3.440\\\\\n\t 8 & 3.570\\\\\n\t 8 & 4.070\\\\\n\t 8 & 3.730\\\\\n\t 8 & 3.780\\\\\n\t 8 & 5.250\\\\\n\t 8 & 5.424\\\\\n\t 8 & 5.345\\\\\n\t 8 & 3.840\\\\\n\t 8 & 3.845\\\\\n\t 8 & 3.170\\\\\n\t 6 & 2.770\\\\\n\t 8 & 3.570\\\\\n\\end{tabular}\n",
            "text/plain": [
              "   cyl wt   \n",
              "1  8   3.440\n",
              "2  8   3.570\n",
              "3  8   4.070\n",
              "4  8   3.730\n",
              "5  8   3.780\n",
              "6  8   5.250\n",
              "7  8   5.424\n",
              "8  8   5.345\n",
              "9  8   3.840\n",
              "10 8   3.845\n",
              "11 8   3.170\n",
              "12 6   2.770\n",
              "13 8   3.570"
            ]
          },
          "metadata": {}
        }
      ]
    },
    {
      "cell_type": "markdown",
      "source": [
        "mutate()"
      ],
      "metadata": {
        "id": "DV7tAGLdwFsW"
      }
    },
    {
      "cell_type": "code",
      "source": [
        "# creating a new column called wtton\n",
        "mutate(carData, wtton  = 0.45 * wt)"
      ],
      "metadata": {
        "colab": {
          "base_uri": "https://localhost:8080/",
          "height": 1000
        },
        "id": "2X2yvcjfmxQj",
        "outputId": "257ac396-3aaa-44e8-d077-ef71783548f7"
      },
      "execution_count": 33,
      "outputs": [
        {
          "output_type": "display_data",
          "data": {
            "text/html": [
              "<table class=\"dataframe\">\n",
              "<caption>A data.frame: 32 × 13</caption>\n",
              "<thead>\n",
              "\t<tr><th scope=col>model</th><th scope=col>mpg</th><th scope=col>cyl</th><th scope=col>disp</th><th scope=col>hp</th><th scope=col>drat</th><th scope=col>wt</th><th scope=col>qsec</th><th scope=col>vs</th><th scope=col>am</th><th scope=col>gear</th><th scope=col>carb</th><th scope=col>wtton</th></tr>\n",
              "\t<tr><th scope=col>&lt;chr&gt;</th><th scope=col>&lt;dbl&gt;</th><th scope=col>&lt;int&gt;</th><th scope=col>&lt;dbl&gt;</th><th scope=col>&lt;int&gt;</th><th scope=col>&lt;dbl&gt;</th><th scope=col>&lt;dbl&gt;</th><th scope=col>&lt;dbl&gt;</th><th scope=col>&lt;fct&gt;</th><th scope=col>&lt;fct&gt;</th><th scope=col>&lt;int&gt;</th><th scope=col>&lt;int&gt;</th><th scope=col>&lt;dbl&gt;</th></tr>\n",
              "</thead>\n",
              "<tbody>\n",
              "\t<tr><td>Mazda RX4          </td><td>21.0</td><td>6</td><td>160.0</td><td>110</td><td>3.90</td><td>2.620</td><td>16.46</td><td>0</td><td>1</td><td>4</td><td>4</td><td>1.17900</td></tr>\n",
              "\t<tr><td>Mazda RX4 Wag      </td><td>21.0</td><td>6</td><td>160.0</td><td>110</td><td>3.90</td><td>2.875</td><td>17.02</td><td>0</td><td>1</td><td>4</td><td>4</td><td>1.29375</td></tr>\n",
              "\t<tr><td>Datsun 710         </td><td>22.8</td><td>4</td><td>108.0</td><td> 93</td><td>3.85</td><td>2.320</td><td>18.61</td><td>1</td><td>1</td><td>4</td><td>1</td><td>1.04400</td></tr>\n",
              "\t<tr><td>Hornet 4 Drive     </td><td>21.4</td><td>6</td><td>258.0</td><td>110</td><td>3.08</td><td>3.215</td><td>19.44</td><td>1</td><td>0</td><td>3</td><td>1</td><td>1.44675</td></tr>\n",
              "\t<tr><td>Hornet Sportabout  </td><td>18.7</td><td>8</td><td>360.0</td><td>175</td><td>3.15</td><td>3.440</td><td>17.02</td><td>0</td><td>0</td><td>3</td><td>2</td><td>1.54800</td></tr>\n",
              "\t<tr><td>Valiant            </td><td>18.1</td><td>6</td><td>225.0</td><td>105</td><td>2.76</td><td>3.460</td><td>20.22</td><td>1</td><td>0</td><td>3</td><td>1</td><td>1.55700</td></tr>\n",
              "\t<tr><td>Duster 360         </td><td>14.3</td><td>8</td><td>360.0</td><td>245</td><td>3.21</td><td>3.570</td><td>15.84</td><td>0</td><td>0</td><td>3</td><td>4</td><td>1.60650</td></tr>\n",
              "\t<tr><td>Merc 240D          </td><td>24.4</td><td>4</td><td>146.7</td><td> 62</td><td>3.69</td><td>3.190</td><td>20.00</td><td>1</td><td>0</td><td>4</td><td>2</td><td>1.43550</td></tr>\n",
              "\t<tr><td>Merc 230           </td><td>22.8</td><td>4</td><td>140.8</td><td> 95</td><td>3.92</td><td>3.150</td><td>22.90</td><td>1</td><td>0</td><td>4</td><td>2</td><td>1.41750</td></tr>\n",
              "\t<tr><td>Merc 280           </td><td>19.2</td><td>6</td><td>167.6</td><td>123</td><td>3.92</td><td>3.440</td><td>18.30</td><td>1</td><td>0</td><td>4</td><td>4</td><td>1.54800</td></tr>\n",
              "\t<tr><td>Merc 280C          </td><td>17.8</td><td>6</td><td>167.6</td><td>123</td><td>3.92</td><td>3.440</td><td>18.90</td><td>1</td><td>0</td><td>4</td><td>4</td><td>1.54800</td></tr>\n",
              "\t<tr><td>Merc 450SE         </td><td>16.4</td><td>8</td><td>275.8</td><td>180</td><td>3.07</td><td>4.070</td><td>17.40</td><td>0</td><td>0</td><td>3</td><td>3</td><td>1.83150</td></tr>\n",
              "\t<tr><td>Merc 450SL         </td><td>17.3</td><td>8</td><td>275.8</td><td>180</td><td>3.07</td><td>3.730</td><td>17.60</td><td>0</td><td>0</td><td>3</td><td>3</td><td>1.67850</td></tr>\n",
              "\t<tr><td>Merc 450SLC        </td><td>15.2</td><td>8</td><td>275.8</td><td>180</td><td>3.07</td><td>3.780</td><td>18.00</td><td>0</td><td>0</td><td>3</td><td>3</td><td>1.70100</td></tr>\n",
              "\t<tr><td>Cadillac Fleetwood </td><td>10.4</td><td>8</td><td>472.0</td><td>205</td><td>2.93</td><td>5.250</td><td>17.98</td><td>0</td><td>0</td><td>3</td><td>4</td><td>2.36250</td></tr>\n",
              "\t<tr><td>Lincoln Continental</td><td>10.4</td><td>8</td><td>460.0</td><td>215</td><td>3.00</td><td>5.424</td><td>17.82</td><td>0</td><td>0</td><td>3</td><td>4</td><td>2.44080</td></tr>\n",
              "\t<tr><td>Chrysler Imperial  </td><td>14.7</td><td>8</td><td>440.0</td><td>230</td><td>3.23</td><td>5.345</td><td>17.42</td><td>0</td><td>0</td><td>3</td><td>4</td><td>2.40525</td></tr>\n",
              "\t<tr><td>Fiat 128           </td><td>32.4</td><td>4</td><td> 78.7</td><td> 66</td><td>4.08</td><td>2.200</td><td>19.47</td><td>1</td><td>1</td><td>4</td><td>1</td><td>0.99000</td></tr>\n",
              "\t<tr><td>Honda Civic        </td><td>30.4</td><td>4</td><td> 75.7</td><td> 52</td><td>4.93</td><td>1.615</td><td>18.52</td><td>1</td><td>1</td><td>4</td><td>2</td><td>0.72675</td></tr>\n",
              "\t<tr><td>Toyota Corolla     </td><td>33.9</td><td>4</td><td> 71.1</td><td> 65</td><td>4.22</td><td>1.835</td><td>19.90</td><td>1</td><td>1</td><td>4</td><td>1</td><td>0.82575</td></tr>\n",
              "\t<tr><td>Toyota Corona      </td><td>21.5</td><td>4</td><td>120.1</td><td> 97</td><td>3.70</td><td>2.465</td><td>20.01</td><td>1</td><td>0</td><td>3</td><td>1</td><td>1.10925</td></tr>\n",
              "\t<tr><td>Dodge Challenger   </td><td>15.5</td><td>8</td><td>318.0</td><td>150</td><td>2.76</td><td>3.520</td><td>16.87</td><td>0</td><td>0</td><td>3</td><td>2</td><td>1.58400</td></tr>\n",
              "\t<tr><td>AMC Javelin        </td><td>15.2</td><td>8</td><td>304.0</td><td>150</td><td>3.15</td><td>3.435</td><td>17.30</td><td>0</td><td>0</td><td>3</td><td>2</td><td>1.54575</td></tr>\n",
              "\t<tr><td>Camaro Z28         </td><td>13.3</td><td>8</td><td>350.0</td><td>245</td><td>3.73</td><td>3.840</td><td>15.41</td><td>0</td><td>0</td><td>3</td><td>4</td><td>1.72800</td></tr>\n",
              "\t<tr><td>Pontiac Firebird   </td><td>19.2</td><td>8</td><td>400.0</td><td>175</td><td>3.08</td><td>3.845</td><td>17.05</td><td>0</td><td>0</td><td>3</td><td>2</td><td>1.73025</td></tr>\n",
              "\t<tr><td>Fiat X1-9          </td><td>27.3</td><td>4</td><td> 79.0</td><td> 66</td><td>4.08</td><td>1.935</td><td>18.90</td><td>1</td><td>1</td><td>4</td><td>1</td><td>0.87075</td></tr>\n",
              "\t<tr><td>Porsche 914-2      </td><td>26.0</td><td>4</td><td>120.3</td><td> 91</td><td>4.43</td><td>2.140</td><td>16.70</td><td>0</td><td>1</td><td>5</td><td>2</td><td>0.96300</td></tr>\n",
              "\t<tr><td>Lotus Europa       </td><td>30.4</td><td>4</td><td> 95.1</td><td>113</td><td>3.77</td><td>1.513</td><td>16.90</td><td>1</td><td>1</td><td>5</td><td>2</td><td>0.68085</td></tr>\n",
              "\t<tr><td>Ford Pantera L     </td><td>15.8</td><td>8</td><td>351.0</td><td>264</td><td>4.22</td><td>3.170</td><td>14.50</td><td>0</td><td>1</td><td>5</td><td>4</td><td>1.42650</td></tr>\n",
              "\t<tr><td>Ferrari Dino       </td><td>19.7</td><td>6</td><td>145.0</td><td>175</td><td>3.62</td><td>2.770</td><td>15.50</td><td>0</td><td>1</td><td>5</td><td>6</td><td>1.24650</td></tr>\n",
              "\t<tr><td>Maserati Bora      </td><td>15.0</td><td>8</td><td>301.0</td><td>335</td><td>3.54</td><td>3.570</td><td>14.60</td><td>0</td><td>1</td><td>5</td><td>8</td><td>1.60650</td></tr>\n",
              "\t<tr><td>Volvo 142E         </td><td>21.4</td><td>4</td><td>121.0</td><td>109</td><td>4.11</td><td>2.780</td><td>18.60</td><td>1</td><td>1</td><td>4</td><td>2</td><td>1.25100</td></tr>\n",
              "</tbody>\n",
              "</table>\n"
            ],
            "text/markdown": "\nA data.frame: 32 × 13\n\n| model &lt;chr&gt; | mpg &lt;dbl&gt; | cyl &lt;int&gt; | disp &lt;dbl&gt; | hp &lt;int&gt; | drat &lt;dbl&gt; | wt &lt;dbl&gt; | qsec &lt;dbl&gt; | vs &lt;fct&gt; | am &lt;fct&gt; | gear &lt;int&gt; | carb &lt;int&gt; | wtton &lt;dbl&gt; |\n|---|---|---|---|---|---|---|---|---|---|---|---|---|\n| Mazda RX4           | 21.0 | 6 | 160.0 | 110 | 3.90 | 2.620 | 16.46 | 0 | 1 | 4 | 4 | 1.17900 |\n| Mazda RX4 Wag       | 21.0 | 6 | 160.0 | 110 | 3.90 | 2.875 | 17.02 | 0 | 1 | 4 | 4 | 1.29375 |\n| Datsun 710          | 22.8 | 4 | 108.0 |  93 | 3.85 | 2.320 | 18.61 | 1 | 1 | 4 | 1 | 1.04400 |\n| Hornet 4 Drive      | 21.4 | 6 | 258.0 | 110 | 3.08 | 3.215 | 19.44 | 1 | 0 | 3 | 1 | 1.44675 |\n| Hornet Sportabout   | 18.7 | 8 | 360.0 | 175 | 3.15 | 3.440 | 17.02 | 0 | 0 | 3 | 2 | 1.54800 |\n| Valiant             | 18.1 | 6 | 225.0 | 105 | 2.76 | 3.460 | 20.22 | 1 | 0 | 3 | 1 | 1.55700 |\n| Duster 360          | 14.3 | 8 | 360.0 | 245 | 3.21 | 3.570 | 15.84 | 0 | 0 | 3 | 4 | 1.60650 |\n| Merc 240D           | 24.4 | 4 | 146.7 |  62 | 3.69 | 3.190 | 20.00 | 1 | 0 | 4 | 2 | 1.43550 |\n| Merc 230            | 22.8 | 4 | 140.8 |  95 | 3.92 | 3.150 | 22.90 | 1 | 0 | 4 | 2 | 1.41750 |\n| Merc 280            | 19.2 | 6 | 167.6 | 123 | 3.92 | 3.440 | 18.30 | 1 | 0 | 4 | 4 | 1.54800 |\n| Merc 280C           | 17.8 | 6 | 167.6 | 123 | 3.92 | 3.440 | 18.90 | 1 | 0 | 4 | 4 | 1.54800 |\n| Merc 450SE          | 16.4 | 8 | 275.8 | 180 | 3.07 | 4.070 | 17.40 | 0 | 0 | 3 | 3 | 1.83150 |\n| Merc 450SL          | 17.3 | 8 | 275.8 | 180 | 3.07 | 3.730 | 17.60 | 0 | 0 | 3 | 3 | 1.67850 |\n| Merc 450SLC         | 15.2 | 8 | 275.8 | 180 | 3.07 | 3.780 | 18.00 | 0 | 0 | 3 | 3 | 1.70100 |\n| Cadillac Fleetwood  | 10.4 | 8 | 472.0 | 205 | 2.93 | 5.250 | 17.98 | 0 | 0 | 3 | 4 | 2.36250 |\n| Lincoln Continental | 10.4 | 8 | 460.0 | 215 | 3.00 | 5.424 | 17.82 | 0 | 0 | 3 | 4 | 2.44080 |\n| Chrysler Imperial   | 14.7 | 8 | 440.0 | 230 | 3.23 | 5.345 | 17.42 | 0 | 0 | 3 | 4 | 2.40525 |\n| Fiat 128            | 32.4 | 4 |  78.7 |  66 | 4.08 | 2.200 | 19.47 | 1 | 1 | 4 | 1 | 0.99000 |\n| Honda Civic         | 30.4 | 4 |  75.7 |  52 | 4.93 | 1.615 | 18.52 | 1 | 1 | 4 | 2 | 0.72675 |\n| Toyota Corolla      | 33.9 | 4 |  71.1 |  65 | 4.22 | 1.835 | 19.90 | 1 | 1 | 4 | 1 | 0.82575 |\n| Toyota Corona       | 21.5 | 4 | 120.1 |  97 | 3.70 | 2.465 | 20.01 | 1 | 0 | 3 | 1 | 1.10925 |\n| Dodge Challenger    | 15.5 | 8 | 318.0 | 150 | 2.76 | 3.520 | 16.87 | 0 | 0 | 3 | 2 | 1.58400 |\n| AMC Javelin         | 15.2 | 8 | 304.0 | 150 | 3.15 | 3.435 | 17.30 | 0 | 0 | 3 | 2 | 1.54575 |\n| Camaro Z28          | 13.3 | 8 | 350.0 | 245 | 3.73 | 3.840 | 15.41 | 0 | 0 | 3 | 4 | 1.72800 |\n| Pontiac Firebird    | 19.2 | 8 | 400.0 | 175 | 3.08 | 3.845 | 17.05 | 0 | 0 | 3 | 2 | 1.73025 |\n| Fiat X1-9           | 27.3 | 4 |  79.0 |  66 | 4.08 | 1.935 | 18.90 | 1 | 1 | 4 | 1 | 0.87075 |\n| Porsche 914-2       | 26.0 | 4 | 120.3 |  91 | 4.43 | 2.140 | 16.70 | 0 | 1 | 5 | 2 | 0.96300 |\n| Lotus Europa        | 30.4 | 4 |  95.1 | 113 | 3.77 | 1.513 | 16.90 | 1 | 1 | 5 | 2 | 0.68085 |\n| Ford Pantera L      | 15.8 | 8 | 351.0 | 264 | 4.22 | 3.170 | 14.50 | 0 | 1 | 5 | 4 | 1.42650 |\n| Ferrari Dino        | 19.7 | 6 | 145.0 | 175 | 3.62 | 2.770 | 15.50 | 0 | 1 | 5 | 6 | 1.24650 |\n| Maserati Bora       | 15.0 | 8 | 301.0 | 335 | 3.54 | 3.570 | 14.60 | 0 | 1 | 5 | 8 | 1.60650 |\n| Volvo 142E          | 21.4 | 4 | 121.0 | 109 | 4.11 | 2.780 | 18.60 | 1 | 1 | 4 | 2 | 1.25100 |\n\n",
            "text/latex": "A data.frame: 32 × 13\n\\begin{tabular}{lllllllllllll}\n model & mpg & cyl & disp & hp & drat & wt & qsec & vs & am & gear & carb & wtton\\\\\n <chr> & <dbl> & <int> & <dbl> & <int> & <dbl> & <dbl> & <dbl> & <fct> & <fct> & <int> & <int> & <dbl>\\\\\n\\hline\n\t Mazda RX4           & 21.0 & 6 & 160.0 & 110 & 3.90 & 2.620 & 16.46 & 0 & 1 & 4 & 4 & 1.17900\\\\\n\t Mazda RX4 Wag       & 21.0 & 6 & 160.0 & 110 & 3.90 & 2.875 & 17.02 & 0 & 1 & 4 & 4 & 1.29375\\\\\n\t Datsun 710          & 22.8 & 4 & 108.0 &  93 & 3.85 & 2.320 & 18.61 & 1 & 1 & 4 & 1 & 1.04400\\\\\n\t Hornet 4 Drive      & 21.4 & 6 & 258.0 & 110 & 3.08 & 3.215 & 19.44 & 1 & 0 & 3 & 1 & 1.44675\\\\\n\t Hornet Sportabout   & 18.7 & 8 & 360.0 & 175 & 3.15 & 3.440 & 17.02 & 0 & 0 & 3 & 2 & 1.54800\\\\\n\t Valiant             & 18.1 & 6 & 225.0 & 105 & 2.76 & 3.460 & 20.22 & 1 & 0 & 3 & 1 & 1.55700\\\\\n\t Duster 360          & 14.3 & 8 & 360.0 & 245 & 3.21 & 3.570 & 15.84 & 0 & 0 & 3 & 4 & 1.60650\\\\\n\t Merc 240D           & 24.4 & 4 & 146.7 &  62 & 3.69 & 3.190 & 20.00 & 1 & 0 & 4 & 2 & 1.43550\\\\\n\t Merc 230            & 22.8 & 4 & 140.8 &  95 & 3.92 & 3.150 & 22.90 & 1 & 0 & 4 & 2 & 1.41750\\\\\n\t Merc 280            & 19.2 & 6 & 167.6 & 123 & 3.92 & 3.440 & 18.30 & 1 & 0 & 4 & 4 & 1.54800\\\\\n\t Merc 280C           & 17.8 & 6 & 167.6 & 123 & 3.92 & 3.440 & 18.90 & 1 & 0 & 4 & 4 & 1.54800\\\\\n\t Merc 450SE          & 16.4 & 8 & 275.8 & 180 & 3.07 & 4.070 & 17.40 & 0 & 0 & 3 & 3 & 1.83150\\\\\n\t Merc 450SL          & 17.3 & 8 & 275.8 & 180 & 3.07 & 3.730 & 17.60 & 0 & 0 & 3 & 3 & 1.67850\\\\\n\t Merc 450SLC         & 15.2 & 8 & 275.8 & 180 & 3.07 & 3.780 & 18.00 & 0 & 0 & 3 & 3 & 1.70100\\\\\n\t Cadillac Fleetwood  & 10.4 & 8 & 472.0 & 205 & 2.93 & 5.250 & 17.98 & 0 & 0 & 3 & 4 & 2.36250\\\\\n\t Lincoln Continental & 10.4 & 8 & 460.0 & 215 & 3.00 & 5.424 & 17.82 & 0 & 0 & 3 & 4 & 2.44080\\\\\n\t Chrysler Imperial   & 14.7 & 8 & 440.0 & 230 & 3.23 & 5.345 & 17.42 & 0 & 0 & 3 & 4 & 2.40525\\\\\n\t Fiat 128            & 32.4 & 4 &  78.7 &  66 & 4.08 & 2.200 & 19.47 & 1 & 1 & 4 & 1 & 0.99000\\\\\n\t Honda Civic         & 30.4 & 4 &  75.7 &  52 & 4.93 & 1.615 & 18.52 & 1 & 1 & 4 & 2 & 0.72675\\\\\n\t Toyota Corolla      & 33.9 & 4 &  71.1 &  65 & 4.22 & 1.835 & 19.90 & 1 & 1 & 4 & 1 & 0.82575\\\\\n\t Toyota Corona       & 21.5 & 4 & 120.1 &  97 & 3.70 & 2.465 & 20.01 & 1 & 0 & 3 & 1 & 1.10925\\\\\n\t Dodge Challenger    & 15.5 & 8 & 318.0 & 150 & 2.76 & 3.520 & 16.87 & 0 & 0 & 3 & 2 & 1.58400\\\\\n\t AMC Javelin         & 15.2 & 8 & 304.0 & 150 & 3.15 & 3.435 & 17.30 & 0 & 0 & 3 & 2 & 1.54575\\\\\n\t Camaro Z28          & 13.3 & 8 & 350.0 & 245 & 3.73 & 3.840 & 15.41 & 0 & 0 & 3 & 4 & 1.72800\\\\\n\t Pontiac Firebird    & 19.2 & 8 & 400.0 & 175 & 3.08 & 3.845 & 17.05 & 0 & 0 & 3 & 2 & 1.73025\\\\\n\t Fiat X1-9           & 27.3 & 4 &  79.0 &  66 & 4.08 & 1.935 & 18.90 & 1 & 1 & 4 & 1 & 0.87075\\\\\n\t Porsche 914-2       & 26.0 & 4 & 120.3 &  91 & 4.43 & 2.140 & 16.70 & 0 & 1 & 5 & 2 & 0.96300\\\\\n\t Lotus Europa        & 30.4 & 4 &  95.1 & 113 & 3.77 & 1.513 & 16.90 & 1 & 1 & 5 & 2 & 0.68085\\\\\n\t Ford Pantera L      & 15.8 & 8 & 351.0 & 264 & 4.22 & 3.170 & 14.50 & 0 & 1 & 5 & 4 & 1.42650\\\\\n\t Ferrari Dino        & 19.7 & 6 & 145.0 & 175 & 3.62 & 2.770 & 15.50 & 0 & 1 & 5 & 6 & 1.24650\\\\\n\t Maserati Bora       & 15.0 & 8 & 301.0 & 335 & 3.54 & 3.570 & 14.60 & 0 & 1 & 5 & 8 & 1.60650\\\\\n\t Volvo 142E          & 21.4 & 4 & 121.0 & 109 & 4.11 & 2.780 & 18.60 & 1 & 1 & 4 & 2 & 1.25100\\\\\n\\end{tabular}\n",
            "text/plain": [
              "   model               mpg  cyl disp  hp  drat wt    qsec  vs am gear carb\n",
              "1  Mazda RX4           21.0 6   160.0 110 3.90 2.620 16.46 0  1  4    4   \n",
              "2  Mazda RX4 Wag       21.0 6   160.0 110 3.90 2.875 17.02 0  1  4    4   \n",
              "3  Datsun 710          22.8 4   108.0  93 3.85 2.320 18.61 1  1  4    1   \n",
              "4  Hornet 4 Drive      21.4 6   258.0 110 3.08 3.215 19.44 1  0  3    1   \n",
              "5  Hornet Sportabout   18.7 8   360.0 175 3.15 3.440 17.02 0  0  3    2   \n",
              "6  Valiant             18.1 6   225.0 105 2.76 3.460 20.22 1  0  3    1   \n",
              "7  Duster 360          14.3 8   360.0 245 3.21 3.570 15.84 0  0  3    4   \n",
              "8  Merc 240D           24.4 4   146.7  62 3.69 3.190 20.00 1  0  4    2   \n",
              "9  Merc 230            22.8 4   140.8  95 3.92 3.150 22.90 1  0  4    2   \n",
              "10 Merc 280            19.2 6   167.6 123 3.92 3.440 18.30 1  0  4    4   \n",
              "11 Merc 280C           17.8 6   167.6 123 3.92 3.440 18.90 1  0  4    4   \n",
              "12 Merc 450SE          16.4 8   275.8 180 3.07 4.070 17.40 0  0  3    3   \n",
              "13 Merc 450SL          17.3 8   275.8 180 3.07 3.730 17.60 0  0  3    3   \n",
              "14 Merc 450SLC         15.2 8   275.8 180 3.07 3.780 18.00 0  0  3    3   \n",
              "15 Cadillac Fleetwood  10.4 8   472.0 205 2.93 5.250 17.98 0  0  3    4   \n",
              "16 Lincoln Continental 10.4 8   460.0 215 3.00 5.424 17.82 0  0  3    4   \n",
              "17 Chrysler Imperial   14.7 8   440.0 230 3.23 5.345 17.42 0  0  3    4   \n",
              "18 Fiat 128            32.4 4    78.7  66 4.08 2.200 19.47 1  1  4    1   \n",
              "19 Honda Civic         30.4 4    75.7  52 4.93 1.615 18.52 1  1  4    2   \n",
              "20 Toyota Corolla      33.9 4    71.1  65 4.22 1.835 19.90 1  1  4    1   \n",
              "21 Toyota Corona       21.5 4   120.1  97 3.70 2.465 20.01 1  0  3    1   \n",
              "22 Dodge Challenger    15.5 8   318.0 150 2.76 3.520 16.87 0  0  3    2   \n",
              "23 AMC Javelin         15.2 8   304.0 150 3.15 3.435 17.30 0  0  3    2   \n",
              "24 Camaro Z28          13.3 8   350.0 245 3.73 3.840 15.41 0  0  3    4   \n",
              "25 Pontiac Firebird    19.2 8   400.0 175 3.08 3.845 17.05 0  0  3    2   \n",
              "26 Fiat X1-9           27.3 4    79.0  66 4.08 1.935 18.90 1  1  4    1   \n",
              "27 Porsche 914-2       26.0 4   120.3  91 4.43 2.140 16.70 0  1  5    2   \n",
              "28 Lotus Europa        30.4 4    95.1 113 3.77 1.513 16.90 1  1  5    2   \n",
              "29 Ford Pantera L      15.8 8   351.0 264 4.22 3.170 14.50 0  1  5    4   \n",
              "30 Ferrari Dino        19.7 6   145.0 175 3.62 2.770 15.50 0  1  5    6   \n",
              "31 Maserati Bora       15.0 8   301.0 335 3.54 3.570 14.60 0  1  5    8   \n",
              "32 Volvo 142E          21.4 4   121.0 109 4.11 2.780 18.60 1  1  4    2   \n",
              "   wtton  \n",
              "1  1.17900\n",
              "2  1.29375\n",
              "3  1.04400\n",
              "4  1.44675\n",
              "5  1.54800\n",
              "6  1.55700\n",
              "7  1.60650\n",
              "8  1.43550\n",
              "9  1.41750\n",
              "10 1.54800\n",
              "11 1.54800\n",
              "12 1.83150\n",
              "13 1.67850\n",
              "14 1.70100\n",
              "15 2.36250\n",
              "16 2.44080\n",
              "17 2.40525\n",
              "18 0.99000\n",
              "19 0.72675\n",
              "20 0.82575\n",
              "21 1.10925\n",
              "22 1.58400\n",
              "23 1.54575\n",
              "24 1.72800\n",
              "25 1.73025\n",
              "26 0.87075\n",
              "27 0.96300\n",
              "28 0.68085\n",
              "29 1.42650\n",
              "30 1.24650\n",
              "31 1.60650\n",
              "32 1.25100"
            ]
          },
          "metadata": {}
        }
      ]
    },
    {
      "cell_type": "code",
      "source": [
        "# create a new column called wtton by ensuring\n",
        "# cars with NA weight values are neglected\n",
        "carData %>% filter(!is.na(wt)) %>% mutate(wtton = 0.4*wt)"
      ],
      "metadata": {
        "colab": {
          "base_uri": "https://localhost:8080/",
          "height": 1000
        },
        "id": "tnEYveIwmxT8",
        "outputId": "fd293d95-c67f-420a-da6c-a832590d2816"
      },
      "execution_count": 36,
      "outputs": [
        {
          "output_type": "display_data",
          "data": {
            "text/html": [
              "<table class=\"dataframe\">\n",
              "<caption>A data.frame: 32 × 13</caption>\n",
              "<thead>\n",
              "\t<tr><th scope=col>model</th><th scope=col>mpg</th><th scope=col>cyl</th><th scope=col>disp</th><th scope=col>hp</th><th scope=col>drat</th><th scope=col>wt</th><th scope=col>qsec</th><th scope=col>vs</th><th scope=col>am</th><th scope=col>gear</th><th scope=col>carb</th><th scope=col>wtton</th></tr>\n",
              "\t<tr><th scope=col>&lt;chr&gt;</th><th scope=col>&lt;dbl&gt;</th><th scope=col>&lt;int&gt;</th><th scope=col>&lt;dbl&gt;</th><th scope=col>&lt;int&gt;</th><th scope=col>&lt;dbl&gt;</th><th scope=col>&lt;dbl&gt;</th><th scope=col>&lt;dbl&gt;</th><th scope=col>&lt;fct&gt;</th><th scope=col>&lt;fct&gt;</th><th scope=col>&lt;int&gt;</th><th scope=col>&lt;int&gt;</th><th scope=col>&lt;dbl&gt;</th></tr>\n",
              "</thead>\n",
              "<tbody>\n",
              "\t<tr><td>Mazda RX4          </td><td>21.0</td><td>6</td><td>160.0</td><td>110</td><td>3.90</td><td>2.620</td><td>16.46</td><td>0</td><td>1</td><td>4</td><td>4</td><td>1.0480</td></tr>\n",
              "\t<tr><td>Mazda RX4 Wag      </td><td>21.0</td><td>6</td><td>160.0</td><td>110</td><td>3.90</td><td>2.875</td><td>17.02</td><td>0</td><td>1</td><td>4</td><td>4</td><td>1.1500</td></tr>\n",
              "\t<tr><td>Datsun 710         </td><td>22.8</td><td>4</td><td>108.0</td><td> 93</td><td>3.85</td><td>2.320</td><td>18.61</td><td>1</td><td>1</td><td>4</td><td>1</td><td>0.9280</td></tr>\n",
              "\t<tr><td>Hornet 4 Drive     </td><td>21.4</td><td>6</td><td>258.0</td><td>110</td><td>3.08</td><td>3.215</td><td>19.44</td><td>1</td><td>0</td><td>3</td><td>1</td><td>1.2860</td></tr>\n",
              "\t<tr><td>Hornet Sportabout  </td><td>18.7</td><td>8</td><td>360.0</td><td>175</td><td>3.15</td><td>3.440</td><td>17.02</td><td>0</td><td>0</td><td>3</td><td>2</td><td>1.3760</td></tr>\n",
              "\t<tr><td>Valiant            </td><td>18.1</td><td>6</td><td>225.0</td><td>105</td><td>2.76</td><td>3.460</td><td>20.22</td><td>1</td><td>0</td><td>3</td><td>1</td><td>1.3840</td></tr>\n",
              "\t<tr><td>Duster 360         </td><td>14.3</td><td>8</td><td>360.0</td><td>245</td><td>3.21</td><td>3.570</td><td>15.84</td><td>0</td><td>0</td><td>3</td><td>4</td><td>1.4280</td></tr>\n",
              "\t<tr><td>Merc 240D          </td><td>24.4</td><td>4</td><td>146.7</td><td> 62</td><td>3.69</td><td>3.190</td><td>20.00</td><td>1</td><td>0</td><td>4</td><td>2</td><td>1.2760</td></tr>\n",
              "\t<tr><td>Merc 230           </td><td>22.8</td><td>4</td><td>140.8</td><td> 95</td><td>3.92</td><td>3.150</td><td>22.90</td><td>1</td><td>0</td><td>4</td><td>2</td><td>1.2600</td></tr>\n",
              "\t<tr><td>Merc 280           </td><td>19.2</td><td>6</td><td>167.6</td><td>123</td><td>3.92</td><td>3.440</td><td>18.30</td><td>1</td><td>0</td><td>4</td><td>4</td><td>1.3760</td></tr>\n",
              "\t<tr><td>Merc 280C          </td><td>17.8</td><td>6</td><td>167.6</td><td>123</td><td>3.92</td><td>3.440</td><td>18.90</td><td>1</td><td>0</td><td>4</td><td>4</td><td>1.3760</td></tr>\n",
              "\t<tr><td>Merc 450SE         </td><td>16.4</td><td>8</td><td>275.8</td><td>180</td><td>3.07</td><td>4.070</td><td>17.40</td><td>0</td><td>0</td><td>3</td><td>3</td><td>1.6280</td></tr>\n",
              "\t<tr><td>Merc 450SL         </td><td>17.3</td><td>8</td><td>275.8</td><td>180</td><td>3.07</td><td>3.730</td><td>17.60</td><td>0</td><td>0</td><td>3</td><td>3</td><td>1.4920</td></tr>\n",
              "\t<tr><td>Merc 450SLC        </td><td>15.2</td><td>8</td><td>275.8</td><td>180</td><td>3.07</td><td>3.780</td><td>18.00</td><td>0</td><td>0</td><td>3</td><td>3</td><td>1.5120</td></tr>\n",
              "\t<tr><td>Cadillac Fleetwood </td><td>10.4</td><td>8</td><td>472.0</td><td>205</td><td>2.93</td><td>5.250</td><td>17.98</td><td>0</td><td>0</td><td>3</td><td>4</td><td>2.1000</td></tr>\n",
              "\t<tr><td>Lincoln Continental</td><td>10.4</td><td>8</td><td>460.0</td><td>215</td><td>3.00</td><td>5.424</td><td>17.82</td><td>0</td><td>0</td><td>3</td><td>4</td><td>2.1696</td></tr>\n",
              "\t<tr><td>Chrysler Imperial  </td><td>14.7</td><td>8</td><td>440.0</td><td>230</td><td>3.23</td><td>5.345</td><td>17.42</td><td>0</td><td>0</td><td>3</td><td>4</td><td>2.1380</td></tr>\n",
              "\t<tr><td>Fiat 128           </td><td>32.4</td><td>4</td><td> 78.7</td><td> 66</td><td>4.08</td><td>2.200</td><td>19.47</td><td>1</td><td>1</td><td>4</td><td>1</td><td>0.8800</td></tr>\n",
              "\t<tr><td>Honda Civic        </td><td>30.4</td><td>4</td><td> 75.7</td><td> 52</td><td>4.93</td><td>1.615</td><td>18.52</td><td>1</td><td>1</td><td>4</td><td>2</td><td>0.6460</td></tr>\n",
              "\t<tr><td>Toyota Corolla     </td><td>33.9</td><td>4</td><td> 71.1</td><td> 65</td><td>4.22</td><td>1.835</td><td>19.90</td><td>1</td><td>1</td><td>4</td><td>1</td><td>0.7340</td></tr>\n",
              "\t<tr><td>Toyota Corona      </td><td>21.5</td><td>4</td><td>120.1</td><td> 97</td><td>3.70</td><td>2.465</td><td>20.01</td><td>1</td><td>0</td><td>3</td><td>1</td><td>0.9860</td></tr>\n",
              "\t<tr><td>Dodge Challenger   </td><td>15.5</td><td>8</td><td>318.0</td><td>150</td><td>2.76</td><td>3.520</td><td>16.87</td><td>0</td><td>0</td><td>3</td><td>2</td><td>1.4080</td></tr>\n",
              "\t<tr><td>AMC Javelin        </td><td>15.2</td><td>8</td><td>304.0</td><td>150</td><td>3.15</td><td>3.435</td><td>17.30</td><td>0</td><td>0</td><td>3</td><td>2</td><td>1.3740</td></tr>\n",
              "\t<tr><td>Camaro Z28         </td><td>13.3</td><td>8</td><td>350.0</td><td>245</td><td>3.73</td><td>3.840</td><td>15.41</td><td>0</td><td>0</td><td>3</td><td>4</td><td>1.5360</td></tr>\n",
              "\t<tr><td>Pontiac Firebird   </td><td>19.2</td><td>8</td><td>400.0</td><td>175</td><td>3.08</td><td>3.845</td><td>17.05</td><td>0</td><td>0</td><td>3</td><td>2</td><td>1.5380</td></tr>\n",
              "\t<tr><td>Fiat X1-9          </td><td>27.3</td><td>4</td><td> 79.0</td><td> 66</td><td>4.08</td><td>1.935</td><td>18.90</td><td>1</td><td>1</td><td>4</td><td>1</td><td>0.7740</td></tr>\n",
              "\t<tr><td>Porsche 914-2      </td><td>26.0</td><td>4</td><td>120.3</td><td> 91</td><td>4.43</td><td>2.140</td><td>16.70</td><td>0</td><td>1</td><td>5</td><td>2</td><td>0.8560</td></tr>\n",
              "\t<tr><td>Lotus Europa       </td><td>30.4</td><td>4</td><td> 95.1</td><td>113</td><td>3.77</td><td>1.513</td><td>16.90</td><td>1</td><td>1</td><td>5</td><td>2</td><td>0.6052</td></tr>\n",
              "\t<tr><td>Ford Pantera L     </td><td>15.8</td><td>8</td><td>351.0</td><td>264</td><td>4.22</td><td>3.170</td><td>14.50</td><td>0</td><td>1</td><td>5</td><td>4</td><td>1.2680</td></tr>\n",
              "\t<tr><td>Ferrari Dino       </td><td>19.7</td><td>6</td><td>145.0</td><td>175</td><td>3.62</td><td>2.770</td><td>15.50</td><td>0</td><td>1</td><td>5</td><td>6</td><td>1.1080</td></tr>\n",
              "\t<tr><td>Maserati Bora      </td><td>15.0</td><td>8</td><td>301.0</td><td>335</td><td>3.54</td><td>3.570</td><td>14.60</td><td>0</td><td>1</td><td>5</td><td>8</td><td>1.4280</td></tr>\n",
              "\t<tr><td>Volvo 142E         </td><td>21.4</td><td>4</td><td>121.0</td><td>109</td><td>4.11</td><td>2.780</td><td>18.60</td><td>1</td><td>1</td><td>4</td><td>2</td><td>1.1120</td></tr>\n",
              "</tbody>\n",
              "</table>\n"
            ],
            "text/markdown": "\nA data.frame: 32 × 13\n\n| model &lt;chr&gt; | mpg &lt;dbl&gt; | cyl &lt;int&gt; | disp &lt;dbl&gt; | hp &lt;int&gt; | drat &lt;dbl&gt; | wt &lt;dbl&gt; | qsec &lt;dbl&gt; | vs &lt;fct&gt; | am &lt;fct&gt; | gear &lt;int&gt; | carb &lt;int&gt; | wtton &lt;dbl&gt; |\n|---|---|---|---|---|---|---|---|---|---|---|---|---|\n| Mazda RX4           | 21.0 | 6 | 160.0 | 110 | 3.90 | 2.620 | 16.46 | 0 | 1 | 4 | 4 | 1.0480 |\n| Mazda RX4 Wag       | 21.0 | 6 | 160.0 | 110 | 3.90 | 2.875 | 17.02 | 0 | 1 | 4 | 4 | 1.1500 |\n| Datsun 710          | 22.8 | 4 | 108.0 |  93 | 3.85 | 2.320 | 18.61 | 1 | 1 | 4 | 1 | 0.9280 |\n| Hornet 4 Drive      | 21.4 | 6 | 258.0 | 110 | 3.08 | 3.215 | 19.44 | 1 | 0 | 3 | 1 | 1.2860 |\n| Hornet Sportabout   | 18.7 | 8 | 360.0 | 175 | 3.15 | 3.440 | 17.02 | 0 | 0 | 3 | 2 | 1.3760 |\n| Valiant             | 18.1 | 6 | 225.0 | 105 | 2.76 | 3.460 | 20.22 | 1 | 0 | 3 | 1 | 1.3840 |\n| Duster 360          | 14.3 | 8 | 360.0 | 245 | 3.21 | 3.570 | 15.84 | 0 | 0 | 3 | 4 | 1.4280 |\n| Merc 240D           | 24.4 | 4 | 146.7 |  62 | 3.69 | 3.190 | 20.00 | 1 | 0 | 4 | 2 | 1.2760 |\n| Merc 230            | 22.8 | 4 | 140.8 |  95 | 3.92 | 3.150 | 22.90 | 1 | 0 | 4 | 2 | 1.2600 |\n| Merc 280            | 19.2 | 6 | 167.6 | 123 | 3.92 | 3.440 | 18.30 | 1 | 0 | 4 | 4 | 1.3760 |\n| Merc 280C           | 17.8 | 6 | 167.6 | 123 | 3.92 | 3.440 | 18.90 | 1 | 0 | 4 | 4 | 1.3760 |\n| Merc 450SE          | 16.4 | 8 | 275.8 | 180 | 3.07 | 4.070 | 17.40 | 0 | 0 | 3 | 3 | 1.6280 |\n| Merc 450SL          | 17.3 | 8 | 275.8 | 180 | 3.07 | 3.730 | 17.60 | 0 | 0 | 3 | 3 | 1.4920 |\n| Merc 450SLC         | 15.2 | 8 | 275.8 | 180 | 3.07 | 3.780 | 18.00 | 0 | 0 | 3 | 3 | 1.5120 |\n| Cadillac Fleetwood  | 10.4 | 8 | 472.0 | 205 | 2.93 | 5.250 | 17.98 | 0 | 0 | 3 | 4 | 2.1000 |\n| Lincoln Continental | 10.4 | 8 | 460.0 | 215 | 3.00 | 5.424 | 17.82 | 0 | 0 | 3 | 4 | 2.1696 |\n| Chrysler Imperial   | 14.7 | 8 | 440.0 | 230 | 3.23 | 5.345 | 17.42 | 0 | 0 | 3 | 4 | 2.1380 |\n| Fiat 128            | 32.4 | 4 |  78.7 |  66 | 4.08 | 2.200 | 19.47 | 1 | 1 | 4 | 1 | 0.8800 |\n| Honda Civic         | 30.4 | 4 |  75.7 |  52 | 4.93 | 1.615 | 18.52 | 1 | 1 | 4 | 2 | 0.6460 |\n| Toyota Corolla      | 33.9 | 4 |  71.1 |  65 | 4.22 | 1.835 | 19.90 | 1 | 1 | 4 | 1 | 0.7340 |\n| Toyota Corona       | 21.5 | 4 | 120.1 |  97 | 3.70 | 2.465 | 20.01 | 1 | 0 | 3 | 1 | 0.9860 |\n| Dodge Challenger    | 15.5 | 8 | 318.0 | 150 | 2.76 | 3.520 | 16.87 | 0 | 0 | 3 | 2 | 1.4080 |\n| AMC Javelin         | 15.2 | 8 | 304.0 | 150 | 3.15 | 3.435 | 17.30 | 0 | 0 | 3 | 2 | 1.3740 |\n| Camaro Z28          | 13.3 | 8 | 350.0 | 245 | 3.73 | 3.840 | 15.41 | 0 | 0 | 3 | 4 | 1.5360 |\n| Pontiac Firebird    | 19.2 | 8 | 400.0 | 175 | 3.08 | 3.845 | 17.05 | 0 | 0 | 3 | 2 | 1.5380 |\n| Fiat X1-9           | 27.3 | 4 |  79.0 |  66 | 4.08 | 1.935 | 18.90 | 1 | 1 | 4 | 1 | 0.7740 |\n| Porsche 914-2       | 26.0 | 4 | 120.3 |  91 | 4.43 | 2.140 | 16.70 | 0 | 1 | 5 | 2 | 0.8560 |\n| Lotus Europa        | 30.4 | 4 |  95.1 | 113 | 3.77 | 1.513 | 16.90 | 1 | 1 | 5 | 2 | 0.6052 |\n| Ford Pantera L      | 15.8 | 8 | 351.0 | 264 | 4.22 | 3.170 | 14.50 | 0 | 1 | 5 | 4 | 1.2680 |\n| Ferrari Dino        | 19.7 | 6 | 145.0 | 175 | 3.62 | 2.770 | 15.50 | 0 | 1 | 5 | 6 | 1.1080 |\n| Maserati Bora       | 15.0 | 8 | 301.0 | 335 | 3.54 | 3.570 | 14.60 | 0 | 1 | 5 | 8 | 1.4280 |\n| Volvo 142E          | 21.4 | 4 | 121.0 | 109 | 4.11 | 2.780 | 18.60 | 1 | 1 | 4 | 2 | 1.1120 |\n\n",
            "text/latex": "A data.frame: 32 × 13\n\\begin{tabular}{lllllllllllll}\n model & mpg & cyl & disp & hp & drat & wt & qsec & vs & am & gear & carb & wtton\\\\\n <chr> & <dbl> & <int> & <dbl> & <int> & <dbl> & <dbl> & <dbl> & <fct> & <fct> & <int> & <int> & <dbl>\\\\\n\\hline\n\t Mazda RX4           & 21.0 & 6 & 160.0 & 110 & 3.90 & 2.620 & 16.46 & 0 & 1 & 4 & 4 & 1.0480\\\\\n\t Mazda RX4 Wag       & 21.0 & 6 & 160.0 & 110 & 3.90 & 2.875 & 17.02 & 0 & 1 & 4 & 4 & 1.1500\\\\\n\t Datsun 710          & 22.8 & 4 & 108.0 &  93 & 3.85 & 2.320 & 18.61 & 1 & 1 & 4 & 1 & 0.9280\\\\\n\t Hornet 4 Drive      & 21.4 & 6 & 258.0 & 110 & 3.08 & 3.215 & 19.44 & 1 & 0 & 3 & 1 & 1.2860\\\\\n\t Hornet Sportabout   & 18.7 & 8 & 360.0 & 175 & 3.15 & 3.440 & 17.02 & 0 & 0 & 3 & 2 & 1.3760\\\\\n\t Valiant             & 18.1 & 6 & 225.0 & 105 & 2.76 & 3.460 & 20.22 & 1 & 0 & 3 & 1 & 1.3840\\\\\n\t Duster 360          & 14.3 & 8 & 360.0 & 245 & 3.21 & 3.570 & 15.84 & 0 & 0 & 3 & 4 & 1.4280\\\\\n\t Merc 240D           & 24.4 & 4 & 146.7 &  62 & 3.69 & 3.190 & 20.00 & 1 & 0 & 4 & 2 & 1.2760\\\\\n\t Merc 230            & 22.8 & 4 & 140.8 &  95 & 3.92 & 3.150 & 22.90 & 1 & 0 & 4 & 2 & 1.2600\\\\\n\t Merc 280            & 19.2 & 6 & 167.6 & 123 & 3.92 & 3.440 & 18.30 & 1 & 0 & 4 & 4 & 1.3760\\\\\n\t Merc 280C           & 17.8 & 6 & 167.6 & 123 & 3.92 & 3.440 & 18.90 & 1 & 0 & 4 & 4 & 1.3760\\\\\n\t Merc 450SE          & 16.4 & 8 & 275.8 & 180 & 3.07 & 4.070 & 17.40 & 0 & 0 & 3 & 3 & 1.6280\\\\\n\t Merc 450SL          & 17.3 & 8 & 275.8 & 180 & 3.07 & 3.730 & 17.60 & 0 & 0 & 3 & 3 & 1.4920\\\\\n\t Merc 450SLC         & 15.2 & 8 & 275.8 & 180 & 3.07 & 3.780 & 18.00 & 0 & 0 & 3 & 3 & 1.5120\\\\\n\t Cadillac Fleetwood  & 10.4 & 8 & 472.0 & 205 & 2.93 & 5.250 & 17.98 & 0 & 0 & 3 & 4 & 2.1000\\\\\n\t Lincoln Continental & 10.4 & 8 & 460.0 & 215 & 3.00 & 5.424 & 17.82 & 0 & 0 & 3 & 4 & 2.1696\\\\\n\t Chrysler Imperial   & 14.7 & 8 & 440.0 & 230 & 3.23 & 5.345 & 17.42 & 0 & 0 & 3 & 4 & 2.1380\\\\\n\t Fiat 128            & 32.4 & 4 &  78.7 &  66 & 4.08 & 2.200 & 19.47 & 1 & 1 & 4 & 1 & 0.8800\\\\\n\t Honda Civic         & 30.4 & 4 &  75.7 &  52 & 4.93 & 1.615 & 18.52 & 1 & 1 & 4 & 2 & 0.6460\\\\\n\t Toyota Corolla      & 33.9 & 4 &  71.1 &  65 & 4.22 & 1.835 & 19.90 & 1 & 1 & 4 & 1 & 0.7340\\\\\n\t Toyota Corona       & 21.5 & 4 & 120.1 &  97 & 3.70 & 2.465 & 20.01 & 1 & 0 & 3 & 1 & 0.9860\\\\\n\t Dodge Challenger    & 15.5 & 8 & 318.0 & 150 & 2.76 & 3.520 & 16.87 & 0 & 0 & 3 & 2 & 1.4080\\\\\n\t AMC Javelin         & 15.2 & 8 & 304.0 & 150 & 3.15 & 3.435 & 17.30 & 0 & 0 & 3 & 2 & 1.3740\\\\\n\t Camaro Z28          & 13.3 & 8 & 350.0 & 245 & 3.73 & 3.840 & 15.41 & 0 & 0 & 3 & 4 & 1.5360\\\\\n\t Pontiac Firebird    & 19.2 & 8 & 400.0 & 175 & 3.08 & 3.845 & 17.05 & 0 & 0 & 3 & 2 & 1.5380\\\\\n\t Fiat X1-9           & 27.3 & 4 &  79.0 &  66 & 4.08 & 1.935 & 18.90 & 1 & 1 & 4 & 1 & 0.7740\\\\\n\t Porsche 914-2       & 26.0 & 4 & 120.3 &  91 & 4.43 & 2.140 & 16.70 & 0 & 1 & 5 & 2 & 0.8560\\\\\n\t Lotus Europa        & 30.4 & 4 &  95.1 & 113 & 3.77 & 1.513 & 16.90 & 1 & 1 & 5 & 2 & 0.6052\\\\\n\t Ford Pantera L      & 15.8 & 8 & 351.0 & 264 & 4.22 & 3.170 & 14.50 & 0 & 1 & 5 & 4 & 1.2680\\\\\n\t Ferrari Dino        & 19.7 & 6 & 145.0 & 175 & 3.62 & 2.770 & 15.50 & 0 & 1 & 5 & 6 & 1.1080\\\\\n\t Maserati Bora       & 15.0 & 8 & 301.0 & 335 & 3.54 & 3.570 & 14.60 & 0 & 1 & 5 & 8 & 1.4280\\\\\n\t Volvo 142E          & 21.4 & 4 & 121.0 & 109 & 4.11 & 2.780 & 18.60 & 1 & 1 & 4 & 2 & 1.1120\\\\\n\\end{tabular}\n",
            "text/plain": [
              "   model               mpg  cyl disp  hp  drat wt    qsec  vs am gear carb\n",
              "1  Mazda RX4           21.0 6   160.0 110 3.90 2.620 16.46 0  1  4    4   \n",
              "2  Mazda RX4 Wag       21.0 6   160.0 110 3.90 2.875 17.02 0  1  4    4   \n",
              "3  Datsun 710          22.8 4   108.0  93 3.85 2.320 18.61 1  1  4    1   \n",
              "4  Hornet 4 Drive      21.4 6   258.0 110 3.08 3.215 19.44 1  0  3    1   \n",
              "5  Hornet Sportabout   18.7 8   360.0 175 3.15 3.440 17.02 0  0  3    2   \n",
              "6  Valiant             18.1 6   225.0 105 2.76 3.460 20.22 1  0  3    1   \n",
              "7  Duster 360          14.3 8   360.0 245 3.21 3.570 15.84 0  0  3    4   \n",
              "8  Merc 240D           24.4 4   146.7  62 3.69 3.190 20.00 1  0  4    2   \n",
              "9  Merc 230            22.8 4   140.8  95 3.92 3.150 22.90 1  0  4    2   \n",
              "10 Merc 280            19.2 6   167.6 123 3.92 3.440 18.30 1  0  4    4   \n",
              "11 Merc 280C           17.8 6   167.6 123 3.92 3.440 18.90 1  0  4    4   \n",
              "12 Merc 450SE          16.4 8   275.8 180 3.07 4.070 17.40 0  0  3    3   \n",
              "13 Merc 450SL          17.3 8   275.8 180 3.07 3.730 17.60 0  0  3    3   \n",
              "14 Merc 450SLC         15.2 8   275.8 180 3.07 3.780 18.00 0  0  3    3   \n",
              "15 Cadillac Fleetwood  10.4 8   472.0 205 2.93 5.250 17.98 0  0  3    4   \n",
              "16 Lincoln Continental 10.4 8   460.0 215 3.00 5.424 17.82 0  0  3    4   \n",
              "17 Chrysler Imperial   14.7 8   440.0 230 3.23 5.345 17.42 0  0  3    4   \n",
              "18 Fiat 128            32.4 4    78.7  66 4.08 2.200 19.47 1  1  4    1   \n",
              "19 Honda Civic         30.4 4    75.7  52 4.93 1.615 18.52 1  1  4    2   \n",
              "20 Toyota Corolla      33.9 4    71.1  65 4.22 1.835 19.90 1  1  4    1   \n",
              "21 Toyota Corona       21.5 4   120.1  97 3.70 2.465 20.01 1  0  3    1   \n",
              "22 Dodge Challenger    15.5 8   318.0 150 2.76 3.520 16.87 0  0  3    2   \n",
              "23 AMC Javelin         15.2 8   304.0 150 3.15 3.435 17.30 0  0  3    2   \n",
              "24 Camaro Z28          13.3 8   350.0 245 3.73 3.840 15.41 0  0  3    4   \n",
              "25 Pontiac Firebird    19.2 8   400.0 175 3.08 3.845 17.05 0  0  3    2   \n",
              "26 Fiat X1-9           27.3 4    79.0  66 4.08 1.935 18.90 1  1  4    1   \n",
              "27 Porsche 914-2       26.0 4   120.3  91 4.43 2.140 16.70 0  1  5    2   \n",
              "28 Lotus Europa        30.4 4    95.1 113 3.77 1.513 16.90 1  1  5    2   \n",
              "29 Ford Pantera L      15.8 8   351.0 264 4.22 3.170 14.50 0  1  5    4   \n",
              "30 Ferrari Dino        19.7 6   145.0 175 3.62 2.770 15.50 0  1  5    6   \n",
              "31 Maserati Bora       15.0 8   301.0 335 3.54 3.570 14.60 0  1  5    8   \n",
              "32 Volvo 142E          21.4 4   121.0 109 4.11 2.780 18.60 1  1  4    2   \n",
              "   wtton \n",
              "1  1.0480\n",
              "2  1.1500\n",
              "3  0.9280\n",
              "4  1.2860\n",
              "5  1.3760\n",
              "6  1.3840\n",
              "7  1.4280\n",
              "8  1.2760\n",
              "9  1.2600\n",
              "10 1.3760\n",
              "11 1.3760\n",
              "12 1.6280\n",
              "13 1.4920\n",
              "14 1.5120\n",
              "15 2.1000\n",
              "16 2.1696\n",
              "17 2.1380\n",
              "18 0.8800\n",
              "19 0.6460\n",
              "20 0.7340\n",
              "21 0.9860\n",
              "22 1.4080\n",
              "23 1.3740\n",
              "24 1.5360\n",
              "25 1.5380\n",
              "26 0.7740\n",
              "27 0.8560\n",
              "28 0.6052\n",
              "29 1.2680\n",
              "30 1.1080\n",
              "31 1.4280\n",
              "32 1.1120"
            ]
          },
          "metadata": {}
        }
      ]
    },
    {
      "cell_type": "code",
      "source": [
        "# adding a new column called cyltype with value High\n",
        "# if cyl is greater than 4 and Low otherwise\n",
        "carData %>% mutate(cyltype = ifelse(cyl > 4, \"High\", \"Low\"))"
      ],
      "metadata": {
        "colab": {
          "base_uri": "https://localhost:8080/",
          "height": 1000
        },
        "id": "xfh1vdBimxXp",
        "outputId": "4721dfde-7a48-440c-efad-4c912079185d"
      },
      "execution_count": 37,
      "outputs": [
        {
          "output_type": "display_data",
          "data": {
            "text/html": [
              "<table class=\"dataframe\">\n",
              "<caption>A data.frame: 32 × 13</caption>\n",
              "<thead>\n",
              "\t<tr><th scope=col>model</th><th scope=col>mpg</th><th scope=col>cyl</th><th scope=col>disp</th><th scope=col>hp</th><th scope=col>drat</th><th scope=col>wt</th><th scope=col>qsec</th><th scope=col>vs</th><th scope=col>am</th><th scope=col>gear</th><th scope=col>carb</th><th scope=col>cyltype</th></tr>\n",
              "\t<tr><th scope=col>&lt;chr&gt;</th><th scope=col>&lt;dbl&gt;</th><th scope=col>&lt;int&gt;</th><th scope=col>&lt;dbl&gt;</th><th scope=col>&lt;int&gt;</th><th scope=col>&lt;dbl&gt;</th><th scope=col>&lt;dbl&gt;</th><th scope=col>&lt;dbl&gt;</th><th scope=col>&lt;fct&gt;</th><th scope=col>&lt;fct&gt;</th><th scope=col>&lt;int&gt;</th><th scope=col>&lt;int&gt;</th><th scope=col>&lt;chr&gt;</th></tr>\n",
              "</thead>\n",
              "<tbody>\n",
              "\t<tr><td>Mazda RX4          </td><td>21.0</td><td>6</td><td>160.0</td><td>110</td><td>3.90</td><td>2.620</td><td>16.46</td><td>0</td><td>1</td><td>4</td><td>4</td><td>High</td></tr>\n",
              "\t<tr><td>Mazda RX4 Wag      </td><td>21.0</td><td>6</td><td>160.0</td><td>110</td><td>3.90</td><td>2.875</td><td>17.02</td><td>0</td><td>1</td><td>4</td><td>4</td><td>High</td></tr>\n",
              "\t<tr><td>Datsun 710         </td><td>22.8</td><td>4</td><td>108.0</td><td> 93</td><td>3.85</td><td>2.320</td><td>18.61</td><td>1</td><td>1</td><td>4</td><td>1</td><td>Low </td></tr>\n",
              "\t<tr><td>Hornet 4 Drive     </td><td>21.4</td><td>6</td><td>258.0</td><td>110</td><td>3.08</td><td>3.215</td><td>19.44</td><td>1</td><td>0</td><td>3</td><td>1</td><td>High</td></tr>\n",
              "\t<tr><td>Hornet Sportabout  </td><td>18.7</td><td>8</td><td>360.0</td><td>175</td><td>3.15</td><td>3.440</td><td>17.02</td><td>0</td><td>0</td><td>3</td><td>2</td><td>High</td></tr>\n",
              "\t<tr><td>Valiant            </td><td>18.1</td><td>6</td><td>225.0</td><td>105</td><td>2.76</td><td>3.460</td><td>20.22</td><td>1</td><td>0</td><td>3</td><td>1</td><td>High</td></tr>\n",
              "\t<tr><td>Duster 360         </td><td>14.3</td><td>8</td><td>360.0</td><td>245</td><td>3.21</td><td>3.570</td><td>15.84</td><td>0</td><td>0</td><td>3</td><td>4</td><td>High</td></tr>\n",
              "\t<tr><td>Merc 240D          </td><td>24.4</td><td>4</td><td>146.7</td><td> 62</td><td>3.69</td><td>3.190</td><td>20.00</td><td>1</td><td>0</td><td>4</td><td>2</td><td>Low </td></tr>\n",
              "\t<tr><td>Merc 230           </td><td>22.8</td><td>4</td><td>140.8</td><td> 95</td><td>3.92</td><td>3.150</td><td>22.90</td><td>1</td><td>0</td><td>4</td><td>2</td><td>Low </td></tr>\n",
              "\t<tr><td>Merc 280           </td><td>19.2</td><td>6</td><td>167.6</td><td>123</td><td>3.92</td><td>3.440</td><td>18.30</td><td>1</td><td>0</td><td>4</td><td>4</td><td>High</td></tr>\n",
              "\t<tr><td>Merc 280C          </td><td>17.8</td><td>6</td><td>167.6</td><td>123</td><td>3.92</td><td>3.440</td><td>18.90</td><td>1</td><td>0</td><td>4</td><td>4</td><td>High</td></tr>\n",
              "\t<tr><td>Merc 450SE         </td><td>16.4</td><td>8</td><td>275.8</td><td>180</td><td>3.07</td><td>4.070</td><td>17.40</td><td>0</td><td>0</td><td>3</td><td>3</td><td>High</td></tr>\n",
              "\t<tr><td>Merc 450SL         </td><td>17.3</td><td>8</td><td>275.8</td><td>180</td><td>3.07</td><td>3.730</td><td>17.60</td><td>0</td><td>0</td><td>3</td><td>3</td><td>High</td></tr>\n",
              "\t<tr><td>Merc 450SLC        </td><td>15.2</td><td>8</td><td>275.8</td><td>180</td><td>3.07</td><td>3.780</td><td>18.00</td><td>0</td><td>0</td><td>3</td><td>3</td><td>High</td></tr>\n",
              "\t<tr><td>Cadillac Fleetwood </td><td>10.4</td><td>8</td><td>472.0</td><td>205</td><td>2.93</td><td>5.250</td><td>17.98</td><td>0</td><td>0</td><td>3</td><td>4</td><td>High</td></tr>\n",
              "\t<tr><td>Lincoln Continental</td><td>10.4</td><td>8</td><td>460.0</td><td>215</td><td>3.00</td><td>5.424</td><td>17.82</td><td>0</td><td>0</td><td>3</td><td>4</td><td>High</td></tr>\n",
              "\t<tr><td>Chrysler Imperial  </td><td>14.7</td><td>8</td><td>440.0</td><td>230</td><td>3.23</td><td>5.345</td><td>17.42</td><td>0</td><td>0</td><td>3</td><td>4</td><td>High</td></tr>\n",
              "\t<tr><td>Fiat 128           </td><td>32.4</td><td>4</td><td> 78.7</td><td> 66</td><td>4.08</td><td>2.200</td><td>19.47</td><td>1</td><td>1</td><td>4</td><td>1</td><td>Low </td></tr>\n",
              "\t<tr><td>Honda Civic        </td><td>30.4</td><td>4</td><td> 75.7</td><td> 52</td><td>4.93</td><td>1.615</td><td>18.52</td><td>1</td><td>1</td><td>4</td><td>2</td><td>Low </td></tr>\n",
              "\t<tr><td>Toyota Corolla     </td><td>33.9</td><td>4</td><td> 71.1</td><td> 65</td><td>4.22</td><td>1.835</td><td>19.90</td><td>1</td><td>1</td><td>4</td><td>1</td><td>Low </td></tr>\n",
              "\t<tr><td>Toyota Corona      </td><td>21.5</td><td>4</td><td>120.1</td><td> 97</td><td>3.70</td><td>2.465</td><td>20.01</td><td>1</td><td>0</td><td>3</td><td>1</td><td>Low </td></tr>\n",
              "\t<tr><td>Dodge Challenger   </td><td>15.5</td><td>8</td><td>318.0</td><td>150</td><td>2.76</td><td>3.520</td><td>16.87</td><td>0</td><td>0</td><td>3</td><td>2</td><td>High</td></tr>\n",
              "\t<tr><td>AMC Javelin        </td><td>15.2</td><td>8</td><td>304.0</td><td>150</td><td>3.15</td><td>3.435</td><td>17.30</td><td>0</td><td>0</td><td>3</td><td>2</td><td>High</td></tr>\n",
              "\t<tr><td>Camaro Z28         </td><td>13.3</td><td>8</td><td>350.0</td><td>245</td><td>3.73</td><td>3.840</td><td>15.41</td><td>0</td><td>0</td><td>3</td><td>4</td><td>High</td></tr>\n",
              "\t<tr><td>Pontiac Firebird   </td><td>19.2</td><td>8</td><td>400.0</td><td>175</td><td>3.08</td><td>3.845</td><td>17.05</td><td>0</td><td>0</td><td>3</td><td>2</td><td>High</td></tr>\n",
              "\t<tr><td>Fiat X1-9          </td><td>27.3</td><td>4</td><td> 79.0</td><td> 66</td><td>4.08</td><td>1.935</td><td>18.90</td><td>1</td><td>1</td><td>4</td><td>1</td><td>Low </td></tr>\n",
              "\t<tr><td>Porsche 914-2      </td><td>26.0</td><td>4</td><td>120.3</td><td> 91</td><td>4.43</td><td>2.140</td><td>16.70</td><td>0</td><td>1</td><td>5</td><td>2</td><td>Low </td></tr>\n",
              "\t<tr><td>Lotus Europa       </td><td>30.4</td><td>4</td><td> 95.1</td><td>113</td><td>3.77</td><td>1.513</td><td>16.90</td><td>1</td><td>1</td><td>5</td><td>2</td><td>Low </td></tr>\n",
              "\t<tr><td>Ford Pantera L     </td><td>15.8</td><td>8</td><td>351.0</td><td>264</td><td>4.22</td><td>3.170</td><td>14.50</td><td>0</td><td>1</td><td>5</td><td>4</td><td>High</td></tr>\n",
              "\t<tr><td>Ferrari Dino       </td><td>19.7</td><td>6</td><td>145.0</td><td>175</td><td>3.62</td><td>2.770</td><td>15.50</td><td>0</td><td>1</td><td>5</td><td>6</td><td>High</td></tr>\n",
              "\t<tr><td>Maserati Bora      </td><td>15.0</td><td>8</td><td>301.0</td><td>335</td><td>3.54</td><td>3.570</td><td>14.60</td><td>0</td><td>1</td><td>5</td><td>8</td><td>High</td></tr>\n",
              "\t<tr><td>Volvo 142E         </td><td>21.4</td><td>4</td><td>121.0</td><td>109</td><td>4.11</td><td>2.780</td><td>18.60</td><td>1</td><td>1</td><td>4</td><td>2</td><td>Low </td></tr>\n",
              "</tbody>\n",
              "</table>\n"
            ],
            "text/markdown": "\nA data.frame: 32 × 13\n\n| model &lt;chr&gt; | mpg &lt;dbl&gt; | cyl &lt;int&gt; | disp &lt;dbl&gt; | hp &lt;int&gt; | drat &lt;dbl&gt; | wt &lt;dbl&gt; | qsec &lt;dbl&gt; | vs &lt;fct&gt; | am &lt;fct&gt; | gear &lt;int&gt; | carb &lt;int&gt; | cyltype &lt;chr&gt; |\n|---|---|---|---|---|---|---|---|---|---|---|---|---|\n| Mazda RX4           | 21.0 | 6 | 160.0 | 110 | 3.90 | 2.620 | 16.46 | 0 | 1 | 4 | 4 | High |\n| Mazda RX4 Wag       | 21.0 | 6 | 160.0 | 110 | 3.90 | 2.875 | 17.02 | 0 | 1 | 4 | 4 | High |\n| Datsun 710          | 22.8 | 4 | 108.0 |  93 | 3.85 | 2.320 | 18.61 | 1 | 1 | 4 | 1 | Low  |\n| Hornet 4 Drive      | 21.4 | 6 | 258.0 | 110 | 3.08 | 3.215 | 19.44 | 1 | 0 | 3 | 1 | High |\n| Hornet Sportabout   | 18.7 | 8 | 360.0 | 175 | 3.15 | 3.440 | 17.02 | 0 | 0 | 3 | 2 | High |\n| Valiant             | 18.1 | 6 | 225.0 | 105 | 2.76 | 3.460 | 20.22 | 1 | 0 | 3 | 1 | High |\n| Duster 360          | 14.3 | 8 | 360.0 | 245 | 3.21 | 3.570 | 15.84 | 0 | 0 | 3 | 4 | High |\n| Merc 240D           | 24.4 | 4 | 146.7 |  62 | 3.69 | 3.190 | 20.00 | 1 | 0 | 4 | 2 | Low  |\n| Merc 230            | 22.8 | 4 | 140.8 |  95 | 3.92 | 3.150 | 22.90 | 1 | 0 | 4 | 2 | Low  |\n| Merc 280            | 19.2 | 6 | 167.6 | 123 | 3.92 | 3.440 | 18.30 | 1 | 0 | 4 | 4 | High |\n| Merc 280C           | 17.8 | 6 | 167.6 | 123 | 3.92 | 3.440 | 18.90 | 1 | 0 | 4 | 4 | High |\n| Merc 450SE          | 16.4 | 8 | 275.8 | 180 | 3.07 | 4.070 | 17.40 | 0 | 0 | 3 | 3 | High |\n| Merc 450SL          | 17.3 | 8 | 275.8 | 180 | 3.07 | 3.730 | 17.60 | 0 | 0 | 3 | 3 | High |\n| Merc 450SLC         | 15.2 | 8 | 275.8 | 180 | 3.07 | 3.780 | 18.00 | 0 | 0 | 3 | 3 | High |\n| Cadillac Fleetwood  | 10.4 | 8 | 472.0 | 205 | 2.93 | 5.250 | 17.98 | 0 | 0 | 3 | 4 | High |\n| Lincoln Continental | 10.4 | 8 | 460.0 | 215 | 3.00 | 5.424 | 17.82 | 0 | 0 | 3 | 4 | High |\n| Chrysler Imperial   | 14.7 | 8 | 440.0 | 230 | 3.23 | 5.345 | 17.42 | 0 | 0 | 3 | 4 | High |\n| Fiat 128            | 32.4 | 4 |  78.7 |  66 | 4.08 | 2.200 | 19.47 | 1 | 1 | 4 | 1 | Low  |\n| Honda Civic         | 30.4 | 4 |  75.7 |  52 | 4.93 | 1.615 | 18.52 | 1 | 1 | 4 | 2 | Low  |\n| Toyota Corolla      | 33.9 | 4 |  71.1 |  65 | 4.22 | 1.835 | 19.90 | 1 | 1 | 4 | 1 | Low  |\n| Toyota Corona       | 21.5 | 4 | 120.1 |  97 | 3.70 | 2.465 | 20.01 | 1 | 0 | 3 | 1 | Low  |\n| Dodge Challenger    | 15.5 | 8 | 318.0 | 150 | 2.76 | 3.520 | 16.87 | 0 | 0 | 3 | 2 | High |\n| AMC Javelin         | 15.2 | 8 | 304.0 | 150 | 3.15 | 3.435 | 17.30 | 0 | 0 | 3 | 2 | High |\n| Camaro Z28          | 13.3 | 8 | 350.0 | 245 | 3.73 | 3.840 | 15.41 | 0 | 0 | 3 | 4 | High |\n| Pontiac Firebird    | 19.2 | 8 | 400.0 | 175 | 3.08 | 3.845 | 17.05 | 0 | 0 | 3 | 2 | High |\n| Fiat X1-9           | 27.3 | 4 |  79.0 |  66 | 4.08 | 1.935 | 18.90 | 1 | 1 | 4 | 1 | Low  |\n| Porsche 914-2       | 26.0 | 4 | 120.3 |  91 | 4.43 | 2.140 | 16.70 | 0 | 1 | 5 | 2 | Low  |\n| Lotus Europa        | 30.4 | 4 |  95.1 | 113 | 3.77 | 1.513 | 16.90 | 1 | 1 | 5 | 2 | Low  |\n| Ford Pantera L      | 15.8 | 8 | 351.0 | 264 | 4.22 | 3.170 | 14.50 | 0 | 1 | 5 | 4 | High |\n| Ferrari Dino        | 19.7 | 6 | 145.0 | 175 | 3.62 | 2.770 | 15.50 | 0 | 1 | 5 | 6 | High |\n| Maserati Bora       | 15.0 | 8 | 301.0 | 335 | 3.54 | 3.570 | 14.60 | 0 | 1 | 5 | 8 | High |\n| Volvo 142E          | 21.4 | 4 | 121.0 | 109 | 4.11 | 2.780 | 18.60 | 1 | 1 | 4 | 2 | Low  |\n\n",
            "text/latex": "A data.frame: 32 × 13\n\\begin{tabular}{lllllllllllll}\n model & mpg & cyl & disp & hp & drat & wt & qsec & vs & am & gear & carb & cyltype\\\\\n <chr> & <dbl> & <int> & <dbl> & <int> & <dbl> & <dbl> & <dbl> & <fct> & <fct> & <int> & <int> & <chr>\\\\\n\\hline\n\t Mazda RX4           & 21.0 & 6 & 160.0 & 110 & 3.90 & 2.620 & 16.46 & 0 & 1 & 4 & 4 & High\\\\\n\t Mazda RX4 Wag       & 21.0 & 6 & 160.0 & 110 & 3.90 & 2.875 & 17.02 & 0 & 1 & 4 & 4 & High\\\\\n\t Datsun 710          & 22.8 & 4 & 108.0 &  93 & 3.85 & 2.320 & 18.61 & 1 & 1 & 4 & 1 & Low \\\\\n\t Hornet 4 Drive      & 21.4 & 6 & 258.0 & 110 & 3.08 & 3.215 & 19.44 & 1 & 0 & 3 & 1 & High\\\\\n\t Hornet Sportabout   & 18.7 & 8 & 360.0 & 175 & 3.15 & 3.440 & 17.02 & 0 & 0 & 3 & 2 & High\\\\\n\t Valiant             & 18.1 & 6 & 225.0 & 105 & 2.76 & 3.460 & 20.22 & 1 & 0 & 3 & 1 & High\\\\\n\t Duster 360          & 14.3 & 8 & 360.0 & 245 & 3.21 & 3.570 & 15.84 & 0 & 0 & 3 & 4 & High\\\\\n\t Merc 240D           & 24.4 & 4 & 146.7 &  62 & 3.69 & 3.190 & 20.00 & 1 & 0 & 4 & 2 & Low \\\\\n\t Merc 230            & 22.8 & 4 & 140.8 &  95 & 3.92 & 3.150 & 22.90 & 1 & 0 & 4 & 2 & Low \\\\\n\t Merc 280            & 19.2 & 6 & 167.6 & 123 & 3.92 & 3.440 & 18.30 & 1 & 0 & 4 & 4 & High\\\\\n\t Merc 280C           & 17.8 & 6 & 167.6 & 123 & 3.92 & 3.440 & 18.90 & 1 & 0 & 4 & 4 & High\\\\\n\t Merc 450SE          & 16.4 & 8 & 275.8 & 180 & 3.07 & 4.070 & 17.40 & 0 & 0 & 3 & 3 & High\\\\\n\t Merc 450SL          & 17.3 & 8 & 275.8 & 180 & 3.07 & 3.730 & 17.60 & 0 & 0 & 3 & 3 & High\\\\\n\t Merc 450SLC         & 15.2 & 8 & 275.8 & 180 & 3.07 & 3.780 & 18.00 & 0 & 0 & 3 & 3 & High\\\\\n\t Cadillac Fleetwood  & 10.4 & 8 & 472.0 & 205 & 2.93 & 5.250 & 17.98 & 0 & 0 & 3 & 4 & High\\\\\n\t Lincoln Continental & 10.4 & 8 & 460.0 & 215 & 3.00 & 5.424 & 17.82 & 0 & 0 & 3 & 4 & High\\\\\n\t Chrysler Imperial   & 14.7 & 8 & 440.0 & 230 & 3.23 & 5.345 & 17.42 & 0 & 0 & 3 & 4 & High\\\\\n\t Fiat 128            & 32.4 & 4 &  78.7 &  66 & 4.08 & 2.200 & 19.47 & 1 & 1 & 4 & 1 & Low \\\\\n\t Honda Civic         & 30.4 & 4 &  75.7 &  52 & 4.93 & 1.615 & 18.52 & 1 & 1 & 4 & 2 & Low \\\\\n\t Toyota Corolla      & 33.9 & 4 &  71.1 &  65 & 4.22 & 1.835 & 19.90 & 1 & 1 & 4 & 1 & Low \\\\\n\t Toyota Corona       & 21.5 & 4 & 120.1 &  97 & 3.70 & 2.465 & 20.01 & 1 & 0 & 3 & 1 & Low \\\\\n\t Dodge Challenger    & 15.5 & 8 & 318.0 & 150 & 2.76 & 3.520 & 16.87 & 0 & 0 & 3 & 2 & High\\\\\n\t AMC Javelin         & 15.2 & 8 & 304.0 & 150 & 3.15 & 3.435 & 17.30 & 0 & 0 & 3 & 2 & High\\\\\n\t Camaro Z28          & 13.3 & 8 & 350.0 & 245 & 3.73 & 3.840 & 15.41 & 0 & 0 & 3 & 4 & High\\\\\n\t Pontiac Firebird    & 19.2 & 8 & 400.0 & 175 & 3.08 & 3.845 & 17.05 & 0 & 0 & 3 & 2 & High\\\\\n\t Fiat X1-9           & 27.3 & 4 &  79.0 &  66 & 4.08 & 1.935 & 18.90 & 1 & 1 & 4 & 1 & Low \\\\\n\t Porsche 914-2       & 26.0 & 4 & 120.3 &  91 & 4.43 & 2.140 & 16.70 & 0 & 1 & 5 & 2 & Low \\\\\n\t Lotus Europa        & 30.4 & 4 &  95.1 & 113 & 3.77 & 1.513 & 16.90 & 1 & 1 & 5 & 2 & Low \\\\\n\t Ford Pantera L      & 15.8 & 8 & 351.0 & 264 & 4.22 & 3.170 & 14.50 & 0 & 1 & 5 & 4 & High\\\\\n\t Ferrari Dino        & 19.7 & 6 & 145.0 & 175 & 3.62 & 2.770 & 15.50 & 0 & 1 & 5 & 6 & High\\\\\n\t Maserati Bora       & 15.0 & 8 & 301.0 & 335 & 3.54 & 3.570 & 14.60 & 0 & 1 & 5 & 8 & High\\\\\n\t Volvo 142E          & 21.4 & 4 & 121.0 & 109 & 4.11 & 2.780 & 18.60 & 1 & 1 & 4 & 2 & Low \\\\\n\\end{tabular}\n",
            "text/plain": [
              "   model               mpg  cyl disp  hp  drat wt    qsec  vs am gear carb\n",
              "1  Mazda RX4           21.0 6   160.0 110 3.90 2.620 16.46 0  1  4    4   \n",
              "2  Mazda RX4 Wag       21.0 6   160.0 110 3.90 2.875 17.02 0  1  4    4   \n",
              "3  Datsun 710          22.8 4   108.0  93 3.85 2.320 18.61 1  1  4    1   \n",
              "4  Hornet 4 Drive      21.4 6   258.0 110 3.08 3.215 19.44 1  0  3    1   \n",
              "5  Hornet Sportabout   18.7 8   360.0 175 3.15 3.440 17.02 0  0  3    2   \n",
              "6  Valiant             18.1 6   225.0 105 2.76 3.460 20.22 1  0  3    1   \n",
              "7  Duster 360          14.3 8   360.0 245 3.21 3.570 15.84 0  0  3    4   \n",
              "8  Merc 240D           24.4 4   146.7  62 3.69 3.190 20.00 1  0  4    2   \n",
              "9  Merc 230            22.8 4   140.8  95 3.92 3.150 22.90 1  0  4    2   \n",
              "10 Merc 280            19.2 6   167.6 123 3.92 3.440 18.30 1  0  4    4   \n",
              "11 Merc 280C           17.8 6   167.6 123 3.92 3.440 18.90 1  0  4    4   \n",
              "12 Merc 450SE          16.4 8   275.8 180 3.07 4.070 17.40 0  0  3    3   \n",
              "13 Merc 450SL          17.3 8   275.8 180 3.07 3.730 17.60 0  0  3    3   \n",
              "14 Merc 450SLC         15.2 8   275.8 180 3.07 3.780 18.00 0  0  3    3   \n",
              "15 Cadillac Fleetwood  10.4 8   472.0 205 2.93 5.250 17.98 0  0  3    4   \n",
              "16 Lincoln Continental 10.4 8   460.0 215 3.00 5.424 17.82 0  0  3    4   \n",
              "17 Chrysler Imperial   14.7 8   440.0 230 3.23 5.345 17.42 0  0  3    4   \n",
              "18 Fiat 128            32.4 4    78.7  66 4.08 2.200 19.47 1  1  4    1   \n",
              "19 Honda Civic         30.4 4    75.7  52 4.93 1.615 18.52 1  1  4    2   \n",
              "20 Toyota Corolla      33.9 4    71.1  65 4.22 1.835 19.90 1  1  4    1   \n",
              "21 Toyota Corona       21.5 4   120.1  97 3.70 2.465 20.01 1  0  3    1   \n",
              "22 Dodge Challenger    15.5 8   318.0 150 2.76 3.520 16.87 0  0  3    2   \n",
              "23 AMC Javelin         15.2 8   304.0 150 3.15 3.435 17.30 0  0  3    2   \n",
              "24 Camaro Z28          13.3 8   350.0 245 3.73 3.840 15.41 0  0  3    4   \n",
              "25 Pontiac Firebird    19.2 8   400.0 175 3.08 3.845 17.05 0  0  3    2   \n",
              "26 Fiat X1-9           27.3 4    79.0  66 4.08 1.935 18.90 1  1  4    1   \n",
              "27 Porsche 914-2       26.0 4   120.3  91 4.43 2.140 16.70 0  1  5    2   \n",
              "28 Lotus Europa        30.4 4    95.1 113 3.77 1.513 16.90 1  1  5    2   \n",
              "29 Ford Pantera L      15.8 8   351.0 264 4.22 3.170 14.50 0  1  5    4   \n",
              "30 Ferrari Dino        19.7 6   145.0 175 3.62 2.770 15.50 0  1  5    6   \n",
              "31 Maserati Bora       15.0 8   301.0 335 3.54 3.570 14.60 0  1  5    8   \n",
              "32 Volvo 142E          21.4 4   121.0 109 4.11 2.780 18.60 1  1  4    2   \n",
              "   cyltype\n",
              "1  High   \n",
              "2  High   \n",
              "3  Low    \n",
              "4  High   \n",
              "5  High   \n",
              "6  High   \n",
              "7  High   \n",
              "8  Low    \n",
              "9  Low    \n",
              "10 High   \n",
              "11 High   \n",
              "12 High   \n",
              "13 High   \n",
              "14 High   \n",
              "15 High   \n",
              "16 High   \n",
              "17 High   \n",
              "18 Low    \n",
              "19 Low    \n",
              "20 Low    \n",
              "21 Low    \n",
              "22 High   \n",
              "23 High   \n",
              "24 High   \n",
              "25 High   \n",
              "26 Low    \n",
              "27 Low    \n",
              "28 Low    \n",
              "29 High   \n",
              "30 High   \n",
              "31 High   \n",
              "32 Low    "
            ]
          },
          "metadata": {}
        }
      ]
    },
    {
      "cell_type": "code",
      "source": [
        "# create a new dataframe with the cyltype and wtton\n",
        "carData_new = carData %>% mutate(cyltype = ifelse(cyl > 4, \"High\", \"Low\"), wtton = 0.4*wt)\n",
        "head(carData_new)"
      ],
      "metadata": {
        "colab": {
          "base_uri": "https://localhost:8080/",
          "height": 286
        },
        "id": "_eXCMcZhmxaY",
        "outputId": "3285a590-881f-4e36-c410-8929fa4d8c3d"
      },
      "execution_count": 38,
      "outputs": [
        {
          "output_type": "display_data",
          "data": {
            "text/html": [
              "<table class=\"dataframe\">\n",
              "<caption>A data.frame: 6 × 14</caption>\n",
              "<thead>\n",
              "\t<tr><th></th><th scope=col>model</th><th scope=col>mpg</th><th scope=col>cyl</th><th scope=col>disp</th><th scope=col>hp</th><th scope=col>drat</th><th scope=col>wt</th><th scope=col>qsec</th><th scope=col>vs</th><th scope=col>am</th><th scope=col>gear</th><th scope=col>carb</th><th scope=col>cyltype</th><th scope=col>wtton</th></tr>\n",
              "\t<tr><th></th><th scope=col>&lt;chr&gt;</th><th scope=col>&lt;dbl&gt;</th><th scope=col>&lt;int&gt;</th><th scope=col>&lt;dbl&gt;</th><th scope=col>&lt;int&gt;</th><th scope=col>&lt;dbl&gt;</th><th scope=col>&lt;dbl&gt;</th><th scope=col>&lt;dbl&gt;</th><th scope=col>&lt;fct&gt;</th><th scope=col>&lt;fct&gt;</th><th scope=col>&lt;int&gt;</th><th scope=col>&lt;int&gt;</th><th scope=col>&lt;chr&gt;</th><th scope=col>&lt;dbl&gt;</th></tr>\n",
              "</thead>\n",
              "<tbody>\n",
              "\t<tr><th scope=row>1</th><td>Mazda RX4        </td><td>21.0</td><td>6</td><td>160</td><td>110</td><td>3.90</td><td>2.620</td><td>16.46</td><td>0</td><td>1</td><td>4</td><td>4</td><td>High</td><td>1.048</td></tr>\n",
              "\t<tr><th scope=row>2</th><td>Mazda RX4 Wag    </td><td>21.0</td><td>6</td><td>160</td><td>110</td><td>3.90</td><td>2.875</td><td>17.02</td><td>0</td><td>1</td><td>4</td><td>4</td><td>High</td><td>1.150</td></tr>\n",
              "\t<tr><th scope=row>3</th><td>Datsun 710       </td><td>22.8</td><td>4</td><td>108</td><td> 93</td><td>3.85</td><td>2.320</td><td>18.61</td><td>1</td><td>1</td><td>4</td><td>1</td><td>Low </td><td>0.928</td></tr>\n",
              "\t<tr><th scope=row>4</th><td>Hornet 4 Drive   </td><td>21.4</td><td>6</td><td>258</td><td>110</td><td>3.08</td><td>3.215</td><td>19.44</td><td>1</td><td>0</td><td>3</td><td>1</td><td>High</td><td>1.286</td></tr>\n",
              "\t<tr><th scope=row>5</th><td>Hornet Sportabout</td><td>18.7</td><td>8</td><td>360</td><td>175</td><td>3.15</td><td>3.440</td><td>17.02</td><td>0</td><td>0</td><td>3</td><td>2</td><td>High</td><td>1.376</td></tr>\n",
              "\t<tr><th scope=row>6</th><td>Valiant          </td><td>18.1</td><td>6</td><td>225</td><td>105</td><td>2.76</td><td>3.460</td><td>20.22</td><td>1</td><td>0</td><td>3</td><td>1</td><td>High</td><td>1.384</td></tr>\n",
              "</tbody>\n",
              "</table>\n"
            ],
            "text/markdown": "\nA data.frame: 6 × 14\n\n| <!--/--> | model &lt;chr&gt; | mpg &lt;dbl&gt; | cyl &lt;int&gt; | disp &lt;dbl&gt; | hp &lt;int&gt; | drat &lt;dbl&gt; | wt &lt;dbl&gt; | qsec &lt;dbl&gt; | vs &lt;fct&gt; | am &lt;fct&gt; | gear &lt;int&gt; | carb &lt;int&gt; | cyltype &lt;chr&gt; | wtton &lt;dbl&gt; |\n|---|---|---|---|---|---|---|---|---|---|---|---|---|---|---|\n| 1 | Mazda RX4         | 21.0 | 6 | 160 | 110 | 3.90 | 2.620 | 16.46 | 0 | 1 | 4 | 4 | High | 1.048 |\n| 2 | Mazda RX4 Wag     | 21.0 | 6 | 160 | 110 | 3.90 | 2.875 | 17.02 | 0 | 1 | 4 | 4 | High | 1.150 |\n| 3 | Datsun 710        | 22.8 | 4 | 108 |  93 | 3.85 | 2.320 | 18.61 | 1 | 1 | 4 | 1 | Low  | 0.928 |\n| 4 | Hornet 4 Drive    | 21.4 | 6 | 258 | 110 | 3.08 | 3.215 | 19.44 | 1 | 0 | 3 | 1 | High | 1.286 |\n| 5 | Hornet Sportabout | 18.7 | 8 | 360 | 175 | 3.15 | 3.440 | 17.02 | 0 | 0 | 3 | 2 | High | 1.376 |\n| 6 | Valiant           | 18.1 | 6 | 225 | 105 | 2.76 | 3.460 | 20.22 | 1 | 0 | 3 | 1 | High | 1.384 |\n\n",
            "text/latex": "A data.frame: 6 × 14\n\\begin{tabular}{r|llllllllllllll}\n  & model & mpg & cyl & disp & hp & drat & wt & qsec & vs & am & gear & carb & cyltype & wtton\\\\\n  & <chr> & <dbl> & <int> & <dbl> & <int> & <dbl> & <dbl> & <dbl> & <fct> & <fct> & <int> & <int> & <chr> & <dbl>\\\\\n\\hline\n\t1 & Mazda RX4         & 21.0 & 6 & 160 & 110 & 3.90 & 2.620 & 16.46 & 0 & 1 & 4 & 4 & High & 1.048\\\\\n\t2 & Mazda RX4 Wag     & 21.0 & 6 & 160 & 110 & 3.90 & 2.875 & 17.02 & 0 & 1 & 4 & 4 & High & 1.150\\\\\n\t3 & Datsun 710        & 22.8 & 4 & 108 &  93 & 3.85 & 2.320 & 18.61 & 1 & 1 & 4 & 1 & Low  & 0.928\\\\\n\t4 & Hornet 4 Drive    & 21.4 & 6 & 258 & 110 & 3.08 & 3.215 & 19.44 & 1 & 0 & 3 & 1 & High & 1.286\\\\\n\t5 & Hornet Sportabout & 18.7 & 8 & 360 & 175 & 3.15 & 3.440 & 17.02 & 0 & 0 & 3 & 2 & High & 1.376\\\\\n\t6 & Valiant           & 18.1 & 6 & 225 & 105 & 2.76 & 3.460 & 20.22 & 1 & 0 & 3 & 1 & High & 1.384\\\\\n\\end{tabular}\n",
            "text/plain": [
              "  model             mpg  cyl disp hp  drat wt    qsec  vs am gear carb cyltype\n",
              "1 Mazda RX4         21.0 6   160  110 3.90 2.620 16.46 0  1  4    4    High   \n",
              "2 Mazda RX4 Wag     21.0 6   160  110 3.90 2.875 17.02 0  1  4    4    High   \n",
              "3 Datsun 710        22.8 4   108   93 3.85 2.320 18.61 1  1  4    1    Low    \n",
              "4 Hornet 4 Drive    21.4 6   258  110 3.08 3.215 19.44 1  0  3    1    High   \n",
              "5 Hornet Sportabout 18.7 8   360  175 3.15 3.440 17.02 0  0  3    2    High   \n",
              "6 Valiant           18.1 6   225  105 2.76 3.460 20.22 1  0  3    1    High   \n",
              "  wtton\n",
              "1 1.048\n",
              "2 1.150\n",
              "3 0.928\n",
              "4 1.286\n",
              "5 1.376\n",
              "6 1.384"
            ]
          },
          "metadata": {}
        }
      ]
    },
    {
      "cell_type": "markdown",
      "source": [
        "summarize()"
      ],
      "metadata": {
        "id": "z92siUWHy2Ak"
      }
    },
    {
      "cell_type": "code",
      "source": [
        "# returning the mean weight(in tons) of the cars\n",
        "carData_new %>% summarise(mean(wtton))"
      ],
      "metadata": {
        "colab": {
          "base_uri": "https://localhost:8080/",
          "height": 146
        },
        "id": "dOeJlnOby2Vp",
        "outputId": "5aba2328-2fe8-453c-a3aa-38af7d2ff8d5"
      },
      "execution_count": 39,
      "outputs": [
        {
          "output_type": "display_data",
          "data": {
            "text/html": [
              "<table class=\"dataframe\">\n",
              "<caption>A data.frame: 1 × 1</caption>\n",
              "<thead>\n",
              "\t<tr><th scope=col>mean(wtton)</th></tr>\n",
              "\t<tr><th scope=col>&lt;dbl&gt;</th></tr>\n",
              "</thead>\n",
              "<tbody>\n",
              "\t<tr><td>1.2869</td></tr>\n",
              "</tbody>\n",
              "</table>\n"
            ],
            "text/markdown": "\nA data.frame: 1 × 1\n\n| mean(wtton) &lt;dbl&gt; |\n|---|\n| 1.2869 |\n\n",
            "text/latex": "A data.frame: 1 × 1\n\\begin{tabular}{l}\n mean(wtton)\\\\\n <dbl>\\\\\n\\hline\n\t 1.2869\\\\\n\\end{tabular}\n",
            "text/plain": [
              "  mean(wtton)\n",
              "1 1.2869     "
            ]
          },
          "metadata": {}
        }
      ]
    },
    {
      "cell_type": "code",
      "source": [
        "# returning the mean weight(in tons) of the cars and mean displacement\n",
        "carData_new %>% summarise(mean(wtton), mean(disp))"
      ],
      "metadata": {
        "colab": {
          "base_uri": "https://localhost:8080/",
          "height": 129
        },
        "id": "FdGs8y-ey2Wx",
        "outputId": "ec598d66-8339-41cc-b80b-6e2d376c6c9e"
      },
      "execution_count": 44,
      "outputs": [
        {
          "output_type": "display_data",
          "data": {
            "text/html": [
              "<table class=\"dataframe\">\n",
              "<caption>A data.frame: 1 × 2</caption>\n",
              "<thead>\n",
              "\t<tr><th scope=col>mean(wtton)</th><th scope=col>mean(disp)</th></tr>\n",
              "\t<tr><th scope=col>&lt;dbl&gt;</th><th scope=col>&lt;dbl&gt;</th></tr>\n",
              "</thead>\n",
              "<tbody>\n",
              "\t<tr><td>1.2869</td><td>230.7219</td></tr>\n",
              "</tbody>\n",
              "</table>\n"
            ],
            "text/markdown": "\nA data.frame: 1 × 2\n\n| mean(wtton) &lt;dbl&gt; | mean(disp) &lt;dbl&gt; |\n|---|---|\n| 1.2869 | 230.7219 |\n\n",
            "text/latex": "A data.frame: 1 × 2\n\\begin{tabular}{ll}\n mean(wtton) & mean(disp)\\\\\n <dbl> & <dbl>\\\\\n\\hline\n\t 1.2869 & 230.7219\\\\\n\\end{tabular}\n",
            "text/plain": [
              "  mean(wtton) mean(disp)\n",
              "1 1.2869      230.7219  "
            ]
          },
          "metadata": {}
        }
      ]
    },
    {
      "cell_type": "code",
      "source": [
        "# returning the minimum displacement\n",
        "carData_new %>% summarise(min(disp))"
      ],
      "metadata": {
        "colab": {
          "base_uri": "https://localhost:8080/",
          "height": 146
        },
        "id": "YEAJWaB3y2br",
        "outputId": "315cc219-dc10-4fe4-a94a-f22537b4947a"
      },
      "execution_count": 47,
      "outputs": [
        {
          "output_type": "display_data",
          "data": {
            "text/html": [
              "<table class=\"dataframe\">\n",
              "<caption>A data.frame: 1 × 1</caption>\n",
              "<thead>\n",
              "\t<tr><th scope=col>min(disp)</th></tr>\n",
              "\t<tr><th scope=col>&lt;dbl&gt;</th></tr>\n",
              "</thead>\n",
              "<tbody>\n",
              "\t<tr><td>71.1</td></tr>\n",
              "</tbody>\n",
              "</table>\n"
            ],
            "text/markdown": "\nA data.frame: 1 × 1\n\n| min(disp) &lt;dbl&gt; |\n|---|\n| 71.1 |\n\n",
            "text/latex": "A data.frame: 1 × 1\n\\begin{tabular}{l}\n min(disp)\\\\\n <dbl>\\\\\n\\hline\n\t 71.1\\\\\n\\end{tabular}\n",
            "text/plain": [
              "  min(disp)\n",
              "1 71.1     "
            ]
          },
          "metadata": {}
        }
      ]
    },
    {
      "cell_type": "code",
      "source": [
        "# combining both\n",
        "carData_new %>% summarise(min(disp), mean(wtton))"
      ],
      "metadata": {
        "colab": {
          "base_uri": "https://localhost:8080/",
          "height": 129
        },
        "id": "HS6a4ekDy2dV",
        "outputId": "02d94c5d-389c-4f7e-fdb1-88a1f3ee04c6"
      },
      "execution_count": 48,
      "outputs": [
        {
          "output_type": "display_data",
          "data": {
            "text/html": [
              "<table class=\"dataframe\">\n",
              "<caption>A data.frame: 1 × 2</caption>\n",
              "<thead>\n",
              "\t<tr><th scope=col>min(disp)</th><th scope=col>mean(wtton)</th></tr>\n",
              "\t<tr><th scope=col>&lt;dbl&gt;</th><th scope=col>&lt;dbl&gt;</th></tr>\n",
              "</thead>\n",
              "<tbody>\n",
              "\t<tr><td>71.1</td><td>1.2869</td></tr>\n",
              "</tbody>\n",
              "</table>\n"
            ],
            "text/markdown": "\nA data.frame: 1 × 2\n\n| min(disp) &lt;dbl&gt; | mean(wtton) &lt;dbl&gt; |\n|---|---|\n| 71.1 | 1.2869 |\n\n",
            "text/latex": "A data.frame: 1 × 2\n\\begin{tabular}{ll}\n min(disp) & mean(wtton)\\\\\n <dbl> & <dbl>\\\\\n\\hline\n\t 71.1 & 1.2869\\\\\n\\end{tabular}\n",
            "text/plain": [
              "  min(disp) mean(wtton)\n",
              "1 71.1      1.2869     "
            ]
          },
          "metadata": {}
        }
      ]
    },
    {
      "cell_type": "markdown",
      "source": [
        "group_by()"
      ],
      "metadata": {
        "id": "pX1d-eUd0i9g"
      }
    },
    {
      "cell_type": "code",
      "source": [
        "# group cars according to cyltype and calcylate mean weight\n",
        "# and mean displacement\n",
        "carData_new %>% group_by(cyltype) %>% summarise(mean(wtton), mean(disp))"
      ],
      "metadata": {
        "colab": {
          "base_uri": "https://localhost:8080/",
          "height": 160
        },
        "id": "vik_lBmJy2hw",
        "outputId": "4d2e12a0-c6f4-4c4b-8aae-1793dca1a8d1"
      },
      "execution_count": 50,
      "outputs": [
        {
          "output_type": "display_data",
          "data": {
            "text/html": [
              "<table class=\"dataframe\">\n",
              "<caption>A tibble: 2 × 3</caption>\n",
              "<thead>\n",
              "\t<tr><th scope=col>cyltype</th><th scope=col>mean(wtton)</th><th scope=col>mean(disp)</th></tr>\n",
              "\t<tr><th scope=col>&lt;chr&gt;</th><th scope=col>&lt;dbl&gt;</th><th scope=col>&lt;dbl&gt;</th></tr>\n",
              "</thead>\n",
              "<tbody>\n",
              "\t<tr><td>High</td><td>1.4820762</td><td>296.5048</td></tr>\n",
              "\t<tr><td>Low </td><td>0.9142909</td><td>105.1364</td></tr>\n",
              "</tbody>\n",
              "</table>\n"
            ],
            "text/markdown": "\nA tibble: 2 × 3\n\n| cyltype &lt;chr&gt; | mean(wtton) &lt;dbl&gt; | mean(disp) &lt;dbl&gt; |\n|---|---|---|\n| High | 1.4820762 | 296.5048 |\n| Low  | 0.9142909 | 105.1364 |\n\n",
            "text/latex": "A tibble: 2 × 3\n\\begin{tabular}{lll}\n cyltype & mean(wtton) & mean(disp)\\\\\n <chr> & <dbl> & <dbl>\\\\\n\\hline\n\t High & 1.4820762 & 296.5048\\\\\n\t Low  & 0.9142909 & 105.1364\\\\\n\\end{tabular}\n",
            "text/plain": [
              "  cyltype mean(wtton) mean(disp)\n",
              "1 High    1.4820762   296.5048  \n",
              "2 Low     0.9142909   105.1364  "
            ]
          },
          "metadata": {}
        }
      ]
    },
    {
      "cell_type": "code",
      "source": [
        "# group cars according to cyltype and calculate mean weight and\n",
        "# minimum displacement\n",
        "carData_new %>% group_by(cyltype) %>% summarise(mean(wtton), min(disp))"
      ],
      "metadata": {
        "colab": {
          "base_uri": "https://localhost:8080/",
          "height": 160
        },
        "id": "qNGa0yR1y2lf",
        "outputId": "ea06c025-3f7b-4d90-8ffb-28c3ae35caf4"
      },
      "execution_count": 54,
      "outputs": [
        {
          "output_type": "display_data",
          "data": {
            "text/html": [
              "<table class=\"dataframe\">\n",
              "<caption>A tibble: 2 × 3</caption>\n",
              "<thead>\n",
              "\t<tr><th scope=col>cyltype</th><th scope=col>mean(wtton)</th><th scope=col>min(disp)</th></tr>\n",
              "\t<tr><th scope=col>&lt;chr&gt;</th><th scope=col>&lt;dbl&gt;</th><th scope=col>&lt;dbl&gt;</th></tr>\n",
              "</thead>\n",
              "<tbody>\n",
              "\t<tr><td>High</td><td>1.4820762</td><td>145.0</td></tr>\n",
              "\t<tr><td>Low </td><td>0.9142909</td><td> 71.1</td></tr>\n",
              "</tbody>\n",
              "</table>\n"
            ],
            "text/markdown": "\nA tibble: 2 × 3\n\n| cyltype &lt;chr&gt; | mean(wtton) &lt;dbl&gt; | min(disp) &lt;dbl&gt; |\n|---|---|---|\n| High | 1.4820762 | 145.0 |\n| Low  | 0.9142909 |  71.1 |\n\n",
            "text/latex": "A tibble: 2 × 3\n\\begin{tabular}{lll}\n cyltype & mean(wtton) & min(disp)\\\\\n <chr> & <dbl> & <dbl>\\\\\n\\hline\n\t High & 1.4820762 & 145.0\\\\\n\t Low  & 0.9142909 &  71.1\\\\\n\\end{tabular}\n",
            "text/plain": [
              "  cyltype mean(wtton) min(disp)\n",
              "1 High    1.4820762   145.0    \n",
              "2 Low     0.9142909    71.1    "
            ]
          },
          "metadata": {}
        }
      ]
    },
    {
      "cell_type": "markdown",
      "source": [
        "arrange()"
      ],
      "metadata": {
        "id": "JpnoEmmv2sXA"
      }
    },
    {
      "cell_type": "code",
      "source": [
        "# grouping cars according to cyltype and calculating mean weight and\n",
        "# minimum displacement followed by arranging in increasing order\n",
        "# of mean weight\n",
        "carData_new %>% group_by(cyltype) %>% summarise(mwt = mean(wtton),\n",
        "disp = mean(disp)) %>% arrange(mwt)"
      ],
      "metadata": {
        "colab": {
          "base_uri": "https://localhost:8080/",
          "height": 160
        },
        "id": "O_x-BXbyy2pF",
        "outputId": "3cf989b8-d3c4-4943-8657-03b56ad1f40d"
      },
      "execution_count": 56,
      "outputs": [
        {
          "output_type": "display_data",
          "data": {
            "text/html": [
              "<table class=\"dataframe\">\n",
              "<caption>A tibble: 2 × 3</caption>\n",
              "<thead>\n",
              "\t<tr><th scope=col>cyltype</th><th scope=col>mwt</th><th scope=col>disp</th></tr>\n",
              "\t<tr><th scope=col>&lt;chr&gt;</th><th scope=col>&lt;dbl&gt;</th><th scope=col>&lt;dbl&gt;</th></tr>\n",
              "</thead>\n",
              "<tbody>\n",
              "\t<tr><td>Low </td><td>0.9142909</td><td>105.1364</td></tr>\n",
              "\t<tr><td>High</td><td>1.4820762</td><td>296.5048</td></tr>\n",
              "</tbody>\n",
              "</table>\n"
            ],
            "text/markdown": "\nA tibble: 2 × 3\n\n| cyltype &lt;chr&gt; | mwt &lt;dbl&gt; | disp &lt;dbl&gt; |\n|---|---|---|\n| Low  | 0.9142909 | 105.1364 |\n| High | 1.4820762 | 296.5048 |\n\n",
            "text/latex": "A tibble: 2 × 3\n\\begin{tabular}{lll}\n cyltype & mwt & disp\\\\\n <chr> & <dbl> & <dbl>\\\\\n\\hline\n\t Low  & 0.9142909 & 105.1364\\\\\n\t High & 1.4820762 & 296.5048\\\\\n\\end{tabular}\n",
            "text/plain": [
              "  cyltype mwt       disp    \n",
              "1 Low     0.9142909 105.1364\n",
              "2 High    1.4820762 296.5048"
            ]
          },
          "metadata": {}
        }
      ]
    },
    {
      "cell_type": "code",
      "source": [
        "# grouping cars according to cyltype and calculating mean weight and\n",
        "# minimum displacement followed by arranging in decreasing order\n",
        "# of mean weight\n",
        "carData_new %>% group_by(cyltype) %>% summarise(mwt = mean(wtton),\n",
        "mdisp = mean(disp)) %>% arrange(desc(mwt))"
      ],
      "metadata": {
        "colab": {
          "base_uri": "https://localhost:8080/",
          "height": 160
        },
        "id": "AFr3QMVky2rK",
        "outputId": "2e6ad91e-419a-4544-a1c9-b6ce1904673e"
      },
      "execution_count": 57,
      "outputs": [
        {
          "output_type": "display_data",
          "data": {
            "text/html": [
              "<table class=\"dataframe\">\n",
              "<caption>A tibble: 2 × 3</caption>\n",
              "<thead>\n",
              "\t<tr><th scope=col>cyltype</th><th scope=col>mwt</th><th scope=col>mdisp</th></tr>\n",
              "\t<tr><th scope=col>&lt;chr&gt;</th><th scope=col>&lt;dbl&gt;</th><th scope=col>&lt;dbl&gt;</th></tr>\n",
              "</thead>\n",
              "<tbody>\n",
              "\t<tr><td>High</td><td>1.4820762</td><td>296.5048</td></tr>\n",
              "\t<tr><td>Low </td><td>0.9142909</td><td>105.1364</td></tr>\n",
              "</tbody>\n",
              "</table>\n"
            ],
            "text/markdown": "\nA tibble: 2 × 3\n\n| cyltype &lt;chr&gt; | mwt &lt;dbl&gt; | mdisp &lt;dbl&gt; |\n|---|---|---|\n| High | 1.4820762 | 296.5048 |\n| Low  | 0.9142909 | 105.1364 |\n\n",
            "text/latex": "A tibble: 2 × 3\n\\begin{tabular}{lll}\n cyltype & mwt & mdisp\\\\\n <chr> & <dbl> & <dbl>\\\\\n\\hline\n\t High & 1.4820762 & 296.5048\\\\\n\t Low  & 0.9142909 & 105.1364\\\\\n\\end{tabular}\n",
            "text/plain": [
              "  cyltype mwt       mdisp   \n",
              "1 High    1.4820762 296.5048\n",
              "2 Low     0.9142909 105.1364"
            ]
          },
          "metadata": {}
        }
      ]
    },
    {
      "cell_type": "markdown",
      "source": [
        "count()"
      ],
      "metadata": {
        "id": "aTXPprvA3brK"
      }
    },
    {
      "cell_type": "code",
      "source": [
        "# return number of samples for each cyltype\n",
        "carData_new %>%group_by(cyltype) %>% count()"
      ],
      "metadata": {
        "colab": {
          "base_uri": "https://localhost:8080/",
          "height": 178
        },
        "id": "p4-BpdcUy2uF",
        "outputId": "2edfd786-b349-4e5e-e514-395b96a5dc84"
      },
      "execution_count": 61,
      "outputs": [
        {
          "output_type": "display_data",
          "data": {
            "text/html": [
              "<table class=\"dataframe\">\n",
              "<caption>A grouped_df: 2 × 2</caption>\n",
              "<thead>\n",
              "\t<tr><th scope=col>cyltype</th><th scope=col>n</th></tr>\n",
              "\t<tr><th scope=col>&lt;chr&gt;</th><th scope=col>&lt;int&gt;</th></tr>\n",
              "</thead>\n",
              "<tbody>\n",
              "\t<tr><td>High</td><td>21</td></tr>\n",
              "\t<tr><td>Low </td><td>11</td></tr>\n",
              "</tbody>\n",
              "</table>\n"
            ],
            "text/markdown": "\nA grouped_df: 2 × 2\n\n| cyltype &lt;chr&gt; | n &lt;int&gt; |\n|---|---|\n| High | 21 |\n| Low  | 11 |\n\n",
            "text/latex": "A grouped\\_df: 2 × 2\n\\begin{tabular}{ll}\n cyltype & n\\\\\n <chr> & <int>\\\\\n\\hline\n\t High & 21\\\\\n\t Low  & 11\\\\\n\\end{tabular}\n",
            "text/plain": [
              "  cyltype n \n",
              "1 High    21\n",
              "2 Low     11"
            ]
          },
          "metadata": {}
        }
      ]
    },
    {
      "cell_type": "code",
      "source": [
        "# returning number of samples for each cyltype and vs"
      ],
      "metadata": {
        "id": "LMV5fL9b3ugK"
      },
      "execution_count": null,
      "outputs": []
    },
    {
      "cell_type": "code",
      "source": [
        "carData_new  %>% group_by(cyltype, vs) %>% count()"
      ],
      "metadata": {
        "colab": {
          "base_uri": "https://localhost:8080/",
          "height": 223
        },
        "id": "0W4pXt163uiJ",
        "outputId": "68b78a11-d93a-4f5b-c065-354d234786f9"
      },
      "execution_count": 64,
      "outputs": [
        {
          "output_type": "display_data",
          "data": {
            "text/html": [
              "<table class=\"dataframe\">\n",
              "<caption>A grouped_df: 4 × 3</caption>\n",
              "<thead>\n",
              "\t<tr><th scope=col>cyltype</th><th scope=col>vs</th><th scope=col>n</th></tr>\n",
              "\t<tr><th scope=col>&lt;chr&gt;</th><th scope=col>&lt;fct&gt;</th><th scope=col>&lt;int&gt;</th></tr>\n",
              "</thead>\n",
              "<tbody>\n",
              "\t<tr><td>High</td><td>0</td><td>17</td></tr>\n",
              "\t<tr><td>High</td><td>1</td><td> 4</td></tr>\n",
              "\t<tr><td>Low </td><td>0</td><td> 1</td></tr>\n",
              "\t<tr><td>Low </td><td>1</td><td>10</td></tr>\n",
              "</tbody>\n",
              "</table>\n"
            ],
            "text/markdown": "\nA grouped_df: 4 × 3\n\n| cyltype &lt;chr&gt; | vs &lt;fct&gt; | n &lt;int&gt; |\n|---|---|---|\n| High | 0 | 17 |\n| High | 1 |  4 |\n| Low  | 0 |  1 |\n| Low  | 1 | 10 |\n\n",
            "text/latex": "A grouped\\_df: 4 × 3\n\\begin{tabular}{lll}\n cyltype & vs & n\\\\\n <chr> & <fct> & <int>\\\\\n\\hline\n\t High & 0 & 17\\\\\n\t High & 1 &  4\\\\\n\t Low  & 0 &  1\\\\\n\t Low  & 1 & 10\\\\\n\\end{tabular}\n",
            "text/plain": [
              "  cyltype vs n \n",
              "1 High    0  17\n",
              "2 High    1   4\n",
              "3 Low     0   1\n",
              "4 Low     1  10"
            ]
          },
          "metadata": {}
        }
      ]
    },
    {
      "cell_type": "code",
      "source": [
        "carData_new %>% count(cyltype, vs) %>% arrange(desc(n))"
      ],
      "metadata": {
        "colab": {
          "base_uri": "https://localhost:8080/",
          "height": 223
        },
        "id": "wYxe26313umJ",
        "outputId": "81882264-e17d-43ea-a433-2140ca2d84ec"
      },
      "execution_count": 72,
      "outputs": [
        {
          "output_type": "display_data",
          "data": {
            "text/html": [
              "<table class=\"dataframe\">\n",
              "<caption>A data.frame: 4 × 3</caption>\n",
              "<thead>\n",
              "\t<tr><th scope=col>cyltype</th><th scope=col>vs</th><th scope=col>n</th></tr>\n",
              "\t<tr><th scope=col>&lt;chr&gt;</th><th scope=col>&lt;fct&gt;</th><th scope=col>&lt;int&gt;</th></tr>\n",
              "</thead>\n",
              "<tbody>\n",
              "\t<tr><td>High</td><td>0</td><td>17</td></tr>\n",
              "\t<tr><td>Low </td><td>1</td><td>10</td></tr>\n",
              "\t<tr><td>High</td><td>1</td><td> 4</td></tr>\n",
              "\t<tr><td>Low </td><td>0</td><td> 1</td></tr>\n",
              "</tbody>\n",
              "</table>\n"
            ],
            "text/markdown": "\nA data.frame: 4 × 3\n\n| cyltype &lt;chr&gt; | vs &lt;fct&gt; | n &lt;int&gt; |\n|---|---|---|\n| High | 0 | 17 |\n| Low  | 1 | 10 |\n| High | 1 |  4 |\n| Low  | 0 |  1 |\n\n",
            "text/latex": "A data.frame: 4 × 3\n\\begin{tabular}{lll}\n cyltype & vs & n\\\\\n <chr> & <fct> & <int>\\\\\n\\hline\n\t High & 0 & 17\\\\\n\t Low  & 1 & 10\\\\\n\t High & 1 &  4\\\\\n\t Low  & 0 &  1\\\\\n\\end{tabular}\n",
            "text/plain": [
              "  cyltype vs n \n",
              "1 High    0  17\n",
              "2 Low     1  10\n",
              "3 High    1   4\n",
              "4 Low     0   1"
            ]
          },
          "metadata": {}
        }
      ]
    },
    {
      "cell_type": "code",
      "source": [
        "# returning number of samples for each cyltype and sort by\n",
        "# increasing order of count\n",
        "carData_new %>% count(cyltype) %>% arrange(n)"
      ],
      "metadata": {
        "colab": {
          "base_uri": "https://localhost:8080/",
          "height": 160
        },
        "id": "SoLC2NUF3upm",
        "outputId": "dfe5f649-0d6a-44ed-ca7c-4f813f3205bb"
      },
      "execution_count": 69,
      "outputs": [
        {
          "output_type": "display_data",
          "data": {
            "text/html": [
              "<table class=\"dataframe\">\n",
              "<caption>A data.frame: 2 × 2</caption>\n",
              "<thead>\n",
              "\t<tr><th scope=col>cyltype</th><th scope=col>n</th></tr>\n",
              "\t<tr><th scope=col>&lt;chr&gt;</th><th scope=col>&lt;int&gt;</th></tr>\n",
              "</thead>\n",
              "<tbody>\n",
              "\t<tr><td>Low </td><td>11</td></tr>\n",
              "\t<tr><td>High</td><td>21</td></tr>\n",
              "</tbody>\n",
              "</table>\n"
            ],
            "text/markdown": "\nA data.frame: 2 × 2\n\n| cyltype &lt;chr&gt; | n &lt;int&gt; |\n|---|---|\n| Low  | 11 |\n| High | 21 |\n\n",
            "text/latex": "A data.frame: 2 × 2\n\\begin{tabular}{ll}\n cyltype & n\\\\\n <chr> & <int>\\\\\n\\hline\n\t Low  & 11\\\\\n\t High & 21\\\\\n\\end{tabular}\n",
            "text/plain": [
              "  cyltype n \n",
              "1 Low     11\n",
              "2 High    21"
            ]
          },
          "metadata": {}
        }
      ]
    }
  ]
}