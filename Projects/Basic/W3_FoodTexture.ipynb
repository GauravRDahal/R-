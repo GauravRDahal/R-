{
  "cells": [
    {
      "cell_type": "code",
      "execution_count": 2,
      "metadata": {
        "colab": {
          "base_uri": "https://localhost:8080/"
        },
        "id": "5Eb-iEDgsuy-",
        "outputId": "b254bd3d-1f75-4b4e-8bdd-4ffe0b917f87"
      },
      "outputs": [
        {
          "output_type": "stream",
          "name": "stderr",
          "text": [
            "Installing package into ‘/usr/local/lib/R/site-library’\n",
            "(as ‘lib’ is unspecified)\n",
            "\n"
          ]
        }
      ],
      "source": [
        "install.packages(\"tidyverse\")"
      ]
    },
    {
      "cell_type": "code",
      "execution_count": 3,
      "metadata": {
        "id": "DU3ALy8Fuyeg",
        "colab": {
          "base_uri": "https://localhost:8080/"
        },
        "outputId": "cddc2747-7230-4305-bcbf-3d4adab88650"
      },
      "outputs": [
        {
          "output_type": "stream",
          "name": "stderr",
          "text": [
            "── \u001b[1mAttaching core tidyverse packages\u001b[22m ──────────────────────── tidyverse 2.0.0 ──\n",
            "\u001b[32m✔\u001b[39m \u001b[34mdplyr    \u001b[39m 1.1.4     \u001b[32m✔\u001b[39m \u001b[34mreadr    \u001b[39m 2.1.5\n",
            "\u001b[32m✔\u001b[39m \u001b[34mforcats  \u001b[39m 1.0.0     \u001b[32m✔\u001b[39m \u001b[34mstringr  \u001b[39m 1.5.1\n",
            "\u001b[32m✔\u001b[39m \u001b[34mggplot2  \u001b[39m 3.4.4     \u001b[32m✔\u001b[39m \u001b[34mtibble   \u001b[39m 3.2.1\n",
            "\u001b[32m✔\u001b[39m \u001b[34mlubridate\u001b[39m 1.9.3     \u001b[32m✔\u001b[39m \u001b[34mtidyr    \u001b[39m 1.3.1\n",
            "\u001b[32m✔\u001b[39m \u001b[34mpurrr    \u001b[39m 1.0.2     \n",
            "── \u001b[1mConflicts\u001b[22m ────────────────────────────────────────── tidyverse_conflicts() ──\n",
            "\u001b[31m✖\u001b[39m \u001b[34mpurrr\u001b[39m::\u001b[32m%||%()\u001b[39m   masks \u001b[34mbase\u001b[39m::%||%()\n",
            "\u001b[31m✖\u001b[39m \u001b[34mdplyr\u001b[39m::\u001b[32mfilter()\u001b[39m masks \u001b[34mstats\u001b[39m::filter()\n",
            "\u001b[31m✖\u001b[39m \u001b[34mdplyr\u001b[39m::\u001b[32mlag()\u001b[39m    masks \u001b[34mstats\u001b[39m::lag()\n",
            "\u001b[36mℹ\u001b[39m Use the conflicted package (\u001b[3m\u001b[34m<http://conflicted.r-lib.org/>\u001b[39m\u001b[23m) to force all conflicts to become errors\n"
          ]
        }
      ],
      "source": [
        "#library(ggplot2)\n",
        "#library(dplyr)\n",
        "library(tidyverse)"
      ]
    },
    {
      "cell_type": "code",
      "execution_count": 4,
      "metadata": {
        "colab": {
          "base_uri": "https://localhost:8080/",
          "height": 255
        },
        "id": "66Hb0tGgs0FL",
        "outputId": "9536a6b1-ad12-4d8f-8b3d-3dc78e68d48c"
      },
      "outputs": [
        {
          "output_type": "display_data",
          "data": {
            "text/html": [
              "<table class=\"dataframe\">\n",
              "<caption>A data.frame: 5 × 5</caption>\n",
              "<thead>\n",
              "\t<tr><th></th><th scope=col>Oil</th><th scope=col>Density</th><th scope=col>Crispy</th><th scope=col>Fracture</th><th scope=col>Hardness</th></tr>\n",
              "\t<tr><th></th><th scope=col>&lt;dbl&gt;</th><th scope=col>&lt;int&gt;</th><th scope=col>&lt;int&gt;</th><th scope=col>&lt;int&gt;</th><th scope=col>&lt;int&gt;</th></tr>\n",
              "</thead>\n",
              "<tbody>\n",
              "\t<tr><th scope=row>B110</th><td>16.5</td><td>2955</td><td>10</td><td>23</td><td> 97</td></tr>\n",
              "\t<tr><th scope=row>B136</th><td>17.7</td><td>2660</td><td>14</td><td> 9</td><td>139</td></tr>\n",
              "\t<tr><th scope=row>B171</th><td>16.2</td><td>2870</td><td>12</td><td>17</td><td>143</td></tr>\n",
              "\t<tr><th scope=row>B192</th><td>16.7</td><td>2920</td><td>10</td><td>31</td><td> 95</td></tr>\n",
              "\t<tr><th scope=row>B225</th><td>16.3</td><td>2975</td><td>11</td><td>26</td><td>143</td></tr>\n",
              "</tbody>\n",
              "</table>\n"
            ],
            "text/markdown": "\nA data.frame: 5 × 5\n\n| <!--/--> | Oil &lt;dbl&gt; | Density &lt;int&gt; | Crispy &lt;int&gt; | Fracture &lt;int&gt; | Hardness &lt;int&gt; |\n|---|---|---|---|---|---|\n| B110 | 16.5 | 2955 | 10 | 23 |  97 |\n| B136 | 17.7 | 2660 | 14 |  9 | 139 |\n| B171 | 16.2 | 2870 | 12 | 17 | 143 |\n| B192 | 16.7 | 2920 | 10 | 31 |  95 |\n| B225 | 16.3 | 2975 | 11 | 26 | 143 |\n\n",
            "text/latex": "A data.frame: 5 × 5\n\\begin{tabular}{r|lllll}\n  & Oil & Density & Crispy & Fracture & Hardness\\\\\n  & <dbl> & <int> & <int> & <int> & <int>\\\\\n\\hline\n\tB110 & 16.5 & 2955 & 10 & 23 &  97\\\\\n\tB136 & 17.7 & 2660 & 14 &  9 & 139\\\\\n\tB171 & 16.2 & 2870 & 12 & 17 & 143\\\\\n\tB192 & 16.7 & 2920 & 10 & 31 &  95\\\\\n\tB225 & 16.3 & 2975 & 11 & 26 & 143\\\\\n\\end{tabular}\n",
            "text/plain": [
              "     Oil  Density Crispy Fracture Hardness\n",
              "B110 16.5 2955    10     23        97     \n",
              "B136 17.7 2660    14      9       139     \n",
              "B171 16.2 2870    12     17       143     \n",
              "B192 16.7 2920    10     31        95     \n",
              "B225 16.3 2975    11     26       143     "
            ]
          },
          "metadata": {}
        }
      ],
      "source": [
        "file =\"/content/food-texture.csv\"\n",
        "foodData = read.csv(file, header = TRUE, row.names = 1, stringsAsFactors =  FALSE)\n",
        "head(foodData, 5)"
      ]
    },
    {
      "cell_type": "code",
      "execution_count": 5,
      "metadata": {
        "colab": {
          "base_uri": "https://localhost:8080/"
        },
        "id": "qXgKeeJJs0GB",
        "outputId": "71477044-f80f-4bb2-bac3-23eda9c09bde"
      },
      "outputs": [
        {
          "output_type": "stream",
          "name": "stdout",
          "text": [
            "'data.frame':\t50 obs. of  5 variables:\n",
            " $ Oil     : num  16.5 17.7 16.2 16.7 16.3 19.1 18.4 17.5 15.7 16.4 ...\n",
            " $ Density : int  2955 2660 2870 2920 2975 2790 2750 2770 2955 2945 ...\n",
            " $ Crispy  : int  10 14 12 10 11 13 13 10 11 11 ...\n",
            " $ Fracture: int  23 9 17 31 26 16 17 26 23 24 ...\n",
            " $ Hardness: int  97 139 143 95 143 189 114 63 123 132 ...\n"
          ]
        }
      ],
      "source": [
        "# structure of the dataframe\n",
        "str(foodData)"
      ]
    },
    {
      "cell_type": "code",
      "execution_count": 6,
      "metadata": {
        "colab": {
          "base_uri": "https://localhost:8080/",
          "height": 34
        },
        "id": "OFAXiRRguqIm",
        "outputId": "658009f1-44fd-47fa-b6fe-292a6b67bcd6"
      },
      "outputs": [
        {
          "output_type": "display_data",
          "data": {
            "text/html": [
              "50"
            ],
            "text/markdown": "50",
            "text/latex": "50",
            "text/plain": [
              "[1] 50"
            ]
          },
          "metadata": {}
        }
      ],
      "source": [
        "nrow(foodData)"
      ]
    },
    {
      "cell_type": "code",
      "execution_count": 7,
      "metadata": {
        "colab": {
          "base_uri": "https://localhost:8080/",
          "height": 34
        },
        "id": "J3sisCJAuqJu",
        "outputId": "1b2f91a2-d928-4c83-a9ba-7d6278387795"
      },
      "outputs": [
        {
          "output_type": "display_data",
          "data": {
            "text/html": [
              "5"
            ],
            "text/markdown": "5",
            "text/latex": "5",
            "text/plain": [
              "[1] 5"
            ]
          },
          "metadata": {}
        }
      ],
      "source": [
        "ncol(foodData)"
      ]
    },
    {
      "cell_type": "code",
      "execution_count": 8,
      "metadata": {
        "colab": {
          "base_uri": "https://localhost:8080/",
          "height": 34
        },
        "id": "SCFCn2JTuqOw",
        "outputId": "1864a57d-c4ce-4215-8124-1607bc146faa"
      },
      "outputs": [
        {
          "output_type": "display_data",
          "data": {
            "text/html": [
              "<style>\n",
              ".list-inline {list-style: none; margin:0; padding: 0}\n",
              ".list-inline>li {display: inline-block}\n",
              ".list-inline>li:not(:last-child)::after {content: \"\\00b7\"; padding: 0 .5ex}\n",
              "</style>\n",
              "<ol class=list-inline><li>50</li><li>5</li></ol>\n"
            ],
            "text/markdown": "1. 50\n2. 5\n\n\n",
            "text/latex": "\\begin{enumerate*}\n\\item 50\n\\item 5\n\\end{enumerate*}\n",
            "text/plain": [
              "[1] 50  5"
            ]
          },
          "metadata": {}
        }
      ],
      "source": [
        "dim(foodData)"
      ]
    },
    {
      "cell_type": "code",
      "execution_count": 9,
      "metadata": {
        "colab": {
          "base_uri": "https://localhost:8080/",
          "height": 34
        },
        "id": "S3xXFc5-uqP3",
        "outputId": "6597a59c-bd03-43ac-d1e7-f907c035fb57"
      },
      "outputs": [
        {
          "output_type": "display_data",
          "data": {
            "text/html": [
              "<style>\n",
              ".list-inline {list-style: none; margin:0; padding: 0}\n",
              ".list-inline>li {display: inline-block}\n",
              ".list-inline>li:not(:last-child)::after {content: \"\\00b7\"; padding: 0 .5ex}\n",
              "</style>\n",
              "<ol class=list-inline><li>'Oil'</li><li>'Density'</li><li>'Crispy'</li><li>'Fracture'</li><li>'Hardness'</li></ol>\n"
            ],
            "text/markdown": "1. 'Oil'\n2. 'Density'\n3. 'Crispy'\n4. 'Fracture'\n5. 'Hardness'\n\n\n",
            "text/latex": "\\begin{enumerate*}\n\\item 'Oil'\n\\item 'Density'\n\\item 'Crispy'\n\\item 'Fracture'\n\\item 'Hardness'\n\\end{enumerate*}\n",
            "text/plain": [
              "[1] \"Oil\"      \"Density\"  \"Crispy\"   \"Fracture\" \"Hardness\""
            ]
          },
          "metadata": {}
        }
      ],
      "source": [
        "colnames(foodData)"
      ]
    },
    {
      "cell_type": "code",
      "execution_count": 10,
      "metadata": {
        "colab": {
          "base_uri": "https://localhost:8080/"
        },
        "id": "nIwFN2YluqVI",
        "outputId": "c45c11e6-f372-4ad8-cad0-af1f1c8a2ed7"
      },
      "outputs": [
        {
          "output_type": "stream",
          "name": "stdout",
          "text": [
            "'data.frame':\t50 obs. of  5 variables:\n",
            " $ OilPercentage: num  16.5 17.7 16.2 16.7 16.3 19.1 18.4 17.5 15.7 16.4 ...\n",
            " $ Density      : int  2955 2660 2870 2920 2975 2790 2750 2770 2955 2945 ...\n",
            " $ Crispy       : int  10 14 12 10 11 13 13 10 11 11 ...\n",
            " $ Fracture     : int  23 9 17 31 26 16 17 26 23 24 ...\n",
            " $ Hardness     : int  97 139 143 95 143 189 114 63 123 132 ...\n"
          ]
        }
      ],
      "source": [
        "# renaming oil column to OilPercentage\n",
        "foodData = foodData %>% rename(OilPercentage = Oil)\n",
        "str(foodData)"
      ]
    },
    {
      "cell_type": "code",
      "execution_count": 11,
      "metadata": {
        "colab": {
          "base_uri": "https://localhost:8080/",
          "height": 52
        },
        "id": "QQVdt9uls0LK",
        "outputId": "e156017a-006b-41a3-aef1-5aff46c134a1"
      },
      "outputs": [
        {
          "output_type": "display_data",
          "data": {
            "text/html": [
              "<style>\n",
              ".list-inline {list-style: none; margin:0; padding: 0}\n",
              ".list-inline>li {display: inline-block}\n",
              ".list-inline>li:not(:last-child)::after {content: \"\\00b7\"; padding: 0 .5ex}\n",
              "</style>\n",
              "<ol class=list-inline><li>16.5</li><li>17.7</li><li>16.2</li><li>16.7</li><li>16.3</li><li>19.1</li><li>18.4</li><li>17.5</li><li>15.7</li><li>16.4</li><li>18</li><li>17.4</li><li>18.4</li><li>13.9</li><li>15.8</li><li>16.4</li><li>18.9</li><li>17.3</li><li>16.7</li><li>19.1</li><li>13.7</li><li>14.7</li><li>18.1</li><li>17.2</li><li>18.7</li><li>18.1</li><li>16.6</li><li>17.1</li><li>17.4</li><li>19.4</li><li>15.9</li><li>17.1</li><li>15.5</li><li>17.7</li><li>15.9</li><li>21.2</li><li>19.5</li><li>20.5</li><li>17</li><li>16.7</li><li>16.8</li><li>16.8</li><li>16.3</li><li>16.2</li><li>18.1</li><li>16.6</li><li>16.4</li><li>15.1</li><li>21.1</li><li>16.3</li></ol>\n"
            ],
            "text/markdown": "1. 16.5\n2. 17.7\n3. 16.2\n4. 16.7\n5. 16.3\n6. 19.1\n7. 18.4\n8. 17.5\n9. 15.7\n10. 16.4\n11. 18\n12. 17.4\n13. 18.4\n14. 13.9\n15. 15.8\n16. 16.4\n17. 18.9\n18. 17.3\n19. 16.7\n20. 19.1\n21. 13.7\n22. 14.7\n23. 18.1\n24. 17.2\n25. 18.7\n26. 18.1\n27. 16.6\n28. 17.1\n29. 17.4\n30. 19.4\n31. 15.9\n32. 17.1\n33. 15.5\n34. 17.7\n35. 15.9\n36. 21.2\n37. 19.5\n38. 20.5\n39. 17\n40. 16.7\n41. 16.8\n42. 16.8\n43. 16.3\n44. 16.2\n45. 18.1\n46. 16.6\n47. 16.4\n48. 15.1\n49. 21.1\n50. 16.3\n\n\n",
            "text/latex": "\\begin{enumerate*}\n\\item 16.5\n\\item 17.7\n\\item 16.2\n\\item 16.7\n\\item 16.3\n\\item 19.1\n\\item 18.4\n\\item 17.5\n\\item 15.7\n\\item 16.4\n\\item 18\n\\item 17.4\n\\item 18.4\n\\item 13.9\n\\item 15.8\n\\item 16.4\n\\item 18.9\n\\item 17.3\n\\item 16.7\n\\item 19.1\n\\item 13.7\n\\item 14.7\n\\item 18.1\n\\item 17.2\n\\item 18.7\n\\item 18.1\n\\item 16.6\n\\item 17.1\n\\item 17.4\n\\item 19.4\n\\item 15.9\n\\item 17.1\n\\item 15.5\n\\item 17.7\n\\item 15.9\n\\item 21.2\n\\item 19.5\n\\item 20.5\n\\item 17\n\\item 16.7\n\\item 16.8\n\\item 16.8\n\\item 16.3\n\\item 16.2\n\\item 18.1\n\\item 16.6\n\\item 16.4\n\\item 15.1\n\\item 21.1\n\\item 16.3\n\\end{enumerate*}\n",
            "text/plain": [
              " [1] 16.5 17.7 16.2 16.7 16.3 19.1 18.4 17.5 15.7 16.4 18.0 17.4 18.4 13.9 15.8\n",
              "[16] 16.4 18.9 17.3 16.7 19.1 13.7 14.7 18.1 17.2 18.7 18.1 16.6 17.1 17.4 19.4\n",
              "[31] 15.9 17.1 15.5 17.7 15.9 21.2 19.5 20.5 17.0 16.7 16.8 16.8 16.3 16.2 18.1\n",
              "[46] 16.6 16.4 15.1 21.1 16.3"
            ]
          },
          "metadata": {}
        }
      ],
      "source": [
        "foodData$OilPercentage"
      ]
    },
    {
      "cell_type": "code",
      "execution_count": 12,
      "metadata": {
        "colab": {
          "base_uri": "https://localhost:8080/"
        },
        "id": "c4OlvNum0_4w",
        "outputId": "ed3b3f36-1ac1-42bb-8a29-17aa04b77265"
      },
      "outputs": [
        {
          "output_type": "stream",
          "name": "stdout",
          "text": [
            " num [1:50] 16.5 17.7 16.2 16.7 16.3 19.1 18.4 17.5 15.7 16.4 ...\n"
          ]
        }
      ],
      "source": [
        "str(foodData$OilPercentage)"
      ]
    },
    {
      "cell_type": "code",
      "execution_count": 13,
      "metadata": {
        "colab": {
          "base_uri": "https://localhost:8080/",
          "height": 52
        },
        "id": "UFTwQlL3s0MD",
        "outputId": "5c4d3e43-d6d4-43e7-e157-724f6d7c8f82"
      },
      "outputs": [
        {
          "output_type": "display_data",
          "data": {
            "text/html": [
              "<style>\n",
              ".list-inline {list-style: none; margin:0; padding: 0}\n",
              ".list-inline>li {display: inline-block}\n",
              ".list-inline>li:not(:last-child)::after {content: \"\\00b7\"; padding: 0 .5ex}\n",
              "</style>\n",
              "<ol class=list-inline><li>16.5</li><li>17.7</li><li>16.2</li><li>16.7</li><li>16.3</li><li>19.1</li><li>18.4</li><li>17.5</li><li>15.7</li><li>16.4</li><li>18</li><li>17.4</li><li>18.4</li><li>13.9</li><li>15.8</li><li>16.4</li><li>18.9</li><li>17.3</li><li>16.7</li><li>19.1</li><li>13.7</li><li>14.7</li><li>18.1</li><li>17.2</li><li>18.7</li><li>18.1</li><li>16.6</li><li>17.1</li><li>17.4</li><li>19.4</li><li>15.9</li><li>17.1</li><li>15.5</li><li>17.7</li><li>15.9</li><li>21.2</li><li>19.5</li><li>20.5</li><li>17</li><li>16.7</li><li>16.8</li><li>16.8</li><li>16.3</li><li>16.2</li><li>18.1</li><li>16.6</li><li>16.4</li><li>15.1</li><li>21.1</li><li>16.3</li></ol>\n"
            ],
            "text/markdown": "1. 16.5\n2. 17.7\n3. 16.2\n4. 16.7\n5. 16.3\n6. 19.1\n7. 18.4\n8. 17.5\n9. 15.7\n10. 16.4\n11. 18\n12. 17.4\n13. 18.4\n14. 13.9\n15. 15.8\n16. 16.4\n17. 18.9\n18. 17.3\n19. 16.7\n20. 19.1\n21. 13.7\n22. 14.7\n23. 18.1\n24. 17.2\n25. 18.7\n26. 18.1\n27. 16.6\n28. 17.1\n29. 17.4\n30. 19.4\n31. 15.9\n32. 17.1\n33. 15.5\n34. 17.7\n35. 15.9\n36. 21.2\n37. 19.5\n38. 20.5\n39. 17\n40. 16.7\n41. 16.8\n42. 16.8\n43. 16.3\n44. 16.2\n45. 18.1\n46. 16.6\n47. 16.4\n48. 15.1\n49. 21.1\n50. 16.3\n\n\n",
            "text/latex": "\\begin{enumerate*}\n\\item 16.5\n\\item 17.7\n\\item 16.2\n\\item 16.7\n\\item 16.3\n\\item 19.1\n\\item 18.4\n\\item 17.5\n\\item 15.7\n\\item 16.4\n\\item 18\n\\item 17.4\n\\item 18.4\n\\item 13.9\n\\item 15.8\n\\item 16.4\n\\item 18.9\n\\item 17.3\n\\item 16.7\n\\item 19.1\n\\item 13.7\n\\item 14.7\n\\item 18.1\n\\item 17.2\n\\item 18.7\n\\item 18.1\n\\item 16.6\n\\item 17.1\n\\item 17.4\n\\item 19.4\n\\item 15.9\n\\item 17.1\n\\item 15.5\n\\item 17.7\n\\item 15.9\n\\item 21.2\n\\item 19.5\n\\item 20.5\n\\item 17\n\\item 16.7\n\\item 16.8\n\\item 16.8\n\\item 16.3\n\\item 16.2\n\\item 18.1\n\\item 16.6\n\\item 16.4\n\\item 15.1\n\\item 21.1\n\\item 16.3\n\\end{enumerate*}\n",
            "text/plain": [
              " [1] 16.5 17.7 16.2 16.7 16.3 19.1 18.4 17.5 15.7 16.4 18.0 17.4 18.4 13.9 15.8\n",
              "[16] 16.4 18.9 17.3 16.7 19.1 13.7 14.7 18.1 17.2 18.7 18.1 16.6 17.1 17.4 19.4\n",
              "[31] 15.9 17.1 15.5 17.7 15.9 21.2 19.5 20.5 17.0 16.7 16.8 16.8 16.3 16.2 18.1\n",
              "[46] 16.6 16.4 15.1 21.1 16.3"
            ]
          },
          "metadata": {}
        }
      ],
      "source": [
        "foodData[['OilPercentage']]"
      ]
    },
    {
      "cell_type": "code",
      "execution_count": 14,
      "metadata": {
        "colab": {
          "base_uri": "https://localhost:8080/",
          "height": 52
        },
        "id": "nepa5uKt0u18",
        "outputId": "75676b89-05e8-4ba8-df5e-123b6f2eaa59"
      },
      "outputs": [
        {
          "output_type": "display_data",
          "data": {
            "text/html": [
              "<style>\n",
              ".list-inline {list-style: none; margin:0; padding: 0}\n",
              ".list-inline>li {display: inline-block}\n",
              ".list-inline>li:not(:last-child)::after {content: \"\\00b7\"; padding: 0 .5ex}\n",
              "</style>\n",
              "<ol class=list-inline><li>16.5</li><li>17.7</li><li>16.2</li><li>16.7</li><li>16.3</li><li>19.1</li><li>18.4</li><li>17.5</li><li>15.7</li><li>16.4</li><li>18</li><li>17.4</li><li>18.4</li><li>13.9</li><li>15.8</li><li>16.4</li><li>18.9</li><li>17.3</li><li>16.7</li><li>19.1</li><li>13.7</li><li>14.7</li><li>18.1</li><li>17.2</li><li>18.7</li><li>18.1</li><li>16.6</li><li>17.1</li><li>17.4</li><li>19.4</li><li>15.9</li><li>17.1</li><li>15.5</li><li>17.7</li><li>15.9</li><li>21.2</li><li>19.5</li><li>20.5</li><li>17</li><li>16.7</li><li>16.8</li><li>16.8</li><li>16.3</li><li>16.2</li><li>18.1</li><li>16.6</li><li>16.4</li><li>15.1</li><li>21.1</li><li>16.3</li></ol>\n"
            ],
            "text/markdown": "1. 16.5\n2. 17.7\n3. 16.2\n4. 16.7\n5. 16.3\n6. 19.1\n7. 18.4\n8. 17.5\n9. 15.7\n10. 16.4\n11. 18\n12. 17.4\n13. 18.4\n14. 13.9\n15. 15.8\n16. 16.4\n17. 18.9\n18. 17.3\n19. 16.7\n20. 19.1\n21. 13.7\n22. 14.7\n23. 18.1\n24. 17.2\n25. 18.7\n26. 18.1\n27. 16.6\n28. 17.1\n29. 17.4\n30. 19.4\n31. 15.9\n32. 17.1\n33. 15.5\n34. 17.7\n35. 15.9\n36. 21.2\n37. 19.5\n38. 20.5\n39. 17\n40. 16.7\n41. 16.8\n42. 16.8\n43. 16.3\n44. 16.2\n45. 18.1\n46. 16.6\n47. 16.4\n48. 15.1\n49. 21.1\n50. 16.3\n\n\n",
            "text/latex": "\\begin{enumerate*}\n\\item 16.5\n\\item 17.7\n\\item 16.2\n\\item 16.7\n\\item 16.3\n\\item 19.1\n\\item 18.4\n\\item 17.5\n\\item 15.7\n\\item 16.4\n\\item 18\n\\item 17.4\n\\item 18.4\n\\item 13.9\n\\item 15.8\n\\item 16.4\n\\item 18.9\n\\item 17.3\n\\item 16.7\n\\item 19.1\n\\item 13.7\n\\item 14.7\n\\item 18.1\n\\item 17.2\n\\item 18.7\n\\item 18.1\n\\item 16.6\n\\item 17.1\n\\item 17.4\n\\item 19.4\n\\item 15.9\n\\item 17.1\n\\item 15.5\n\\item 17.7\n\\item 15.9\n\\item 21.2\n\\item 19.5\n\\item 20.5\n\\item 17\n\\item 16.7\n\\item 16.8\n\\item 16.8\n\\item 16.3\n\\item 16.2\n\\item 18.1\n\\item 16.6\n\\item 16.4\n\\item 15.1\n\\item 21.1\n\\item 16.3\n\\end{enumerate*}\n",
            "text/plain": [
              " [1] 16.5 17.7 16.2 16.7 16.3 19.1 18.4 17.5 15.7 16.4 18.0 17.4 18.4 13.9 15.8\n",
              "[16] 16.4 18.9 17.3 16.7 19.1 13.7 14.7 18.1 17.2 18.7 18.1 16.6 17.1 17.4 19.4\n",
              "[31] 15.9 17.1 15.5 17.7 15.9 21.2 19.5 20.5 17.0 16.7 16.8 16.8 16.3 16.2 18.1\n",
              "[46] 16.6 16.4 15.1 21.1 16.3"
            ]
          },
          "metadata": {}
        }
      ],
      "source": [
        "foodData[,'OilPercentage']"
      ]
    },
    {
      "cell_type": "code",
      "execution_count": 15,
      "metadata": {
        "colab": {
          "base_uri": "https://localhost:8080/",
          "height": 1000
        },
        "id": "8-1xYLvz0vA2",
        "outputId": "4bae796c-8d2d-447e-918a-94da46328b2d"
      },
      "outputs": [
        {
          "output_type": "display_data",
          "data": {
            "text/html": [
              "<table class=\"dataframe\">\n",
              "<caption>A data.frame: 50 × 1</caption>\n",
              "<thead>\n",
              "\t<tr><th></th><th scope=col>OilPercentage</th></tr>\n",
              "\t<tr><th></th><th scope=col>&lt;dbl&gt;</th></tr>\n",
              "</thead>\n",
              "<tbody>\n",
              "\t<tr><th scope=row>B110</th><td>16.5</td></tr>\n",
              "\t<tr><th scope=row>B136</th><td>17.7</td></tr>\n",
              "\t<tr><th scope=row>B171</th><td>16.2</td></tr>\n",
              "\t<tr><th scope=row>B192</th><td>16.7</td></tr>\n",
              "\t<tr><th scope=row>B225</th><td>16.3</td></tr>\n",
              "\t<tr><th scope=row>B237</th><td>19.1</td></tr>\n",
              "\t<tr><th scope=row>B261</th><td>18.4</td></tr>\n",
              "\t<tr><th scope=row>B264</th><td>17.5</td></tr>\n",
              "\t<tr><th scope=row>B353</th><td>15.7</td></tr>\n",
              "\t<tr><th scope=row>B360</th><td>16.4</td></tr>\n",
              "\t<tr><th scope=row>B366</th><td>18.0</td></tr>\n",
              "\t<tr><th scope=row>B377</th><td>17.4</td></tr>\n",
              "\t<tr><th scope=row>B391</th><td>18.4</td></tr>\n",
              "\t<tr><th scope=row>B397</th><td>13.9</td></tr>\n",
              "\t<tr><th scope=row>B404</th><td>15.8</td></tr>\n",
              "\t<tr><th scope=row>B437</th><td>16.4</td></tr>\n",
              "\t<tr><th scope=row>B445</th><td>18.9</td></tr>\n",
              "\t<tr><th scope=row>B462</th><td>17.3</td></tr>\n",
              "\t<tr><th scope=row>B485</th><td>16.7</td></tr>\n",
              "\t<tr><th scope=row>B488</th><td>19.1</td></tr>\n",
              "\t<tr><th scope=row>B502</th><td>13.7</td></tr>\n",
              "\t<tr><th scope=row>B554</th><td>14.7</td></tr>\n",
              "\t<tr><th scope=row>B556</th><td>18.1</td></tr>\n",
              "\t<tr><th scope=row>B575</th><td>17.2</td></tr>\n",
              "\t<tr><th scope=row>B576</th><td>18.7</td></tr>\n",
              "\t<tr><th scope=row>B605</th><td>18.1</td></tr>\n",
              "\t<tr><th scope=row>B612</th><td>16.6</td></tr>\n",
              "\t<tr><th scope=row>B615</th><td>17.1</td></tr>\n",
              "\t<tr><th scope=row>B649</th><td>17.4</td></tr>\n",
              "\t<tr><th scope=row>B665</th><td>19.4</td></tr>\n",
              "\t<tr><th scope=row>B674</th><td>15.9</td></tr>\n",
              "\t<tr><th scope=row>B692</th><td>17.1</td></tr>\n",
              "\t<tr><th scope=row>B694</th><td>15.5</td></tr>\n",
              "\t<tr><th scope=row>B719</th><td>17.7</td></tr>\n",
              "\t<tr><th scope=row>B727</th><td>15.9</td></tr>\n",
              "\t<tr><th scope=row>B758</th><td>21.2</td></tr>\n",
              "\t<tr><th scope=row>B776</th><td>19.5</td></tr>\n",
              "\t<tr><th scope=row>B799</th><td>20.5</td></tr>\n",
              "\t<tr><th scope=row>B836</th><td>17.0</td></tr>\n",
              "\t<tr><th scope=row>B848</th><td>16.7</td></tr>\n",
              "\t<tr><th scope=row>B861</th><td>16.8</td></tr>\n",
              "\t<tr><th scope=row>B869</th><td>16.8</td></tr>\n",
              "\t<tr><th scope=row>B876</th><td>16.3</td></tr>\n",
              "\t<tr><th scope=row>B882</th><td>16.2</td></tr>\n",
              "\t<tr><th scope=row>B889</th><td>18.1</td></tr>\n",
              "\t<tr><th scope=row>B907</th><td>16.6</td></tr>\n",
              "\t<tr><th scope=row>B911</th><td>16.4</td></tr>\n",
              "\t<tr><th scope=row>B923</th><td>15.1</td></tr>\n",
              "\t<tr><th scope=row>B971</th><td>21.1</td></tr>\n",
              "\t<tr><th scope=row>B998</th><td>16.3</td></tr>\n",
              "</tbody>\n",
              "</table>\n"
            ],
            "text/markdown": "\nA data.frame: 50 × 1\n\n| <!--/--> | OilPercentage &lt;dbl&gt; |\n|---|---|\n| B110 | 16.5 |\n| B136 | 17.7 |\n| B171 | 16.2 |\n| B192 | 16.7 |\n| B225 | 16.3 |\n| B237 | 19.1 |\n| B261 | 18.4 |\n| B264 | 17.5 |\n| B353 | 15.7 |\n| B360 | 16.4 |\n| B366 | 18.0 |\n| B377 | 17.4 |\n| B391 | 18.4 |\n| B397 | 13.9 |\n| B404 | 15.8 |\n| B437 | 16.4 |\n| B445 | 18.9 |\n| B462 | 17.3 |\n| B485 | 16.7 |\n| B488 | 19.1 |\n| B502 | 13.7 |\n| B554 | 14.7 |\n| B556 | 18.1 |\n| B575 | 17.2 |\n| B576 | 18.7 |\n| B605 | 18.1 |\n| B612 | 16.6 |\n| B615 | 17.1 |\n| B649 | 17.4 |\n| B665 | 19.4 |\n| B674 | 15.9 |\n| B692 | 17.1 |\n| B694 | 15.5 |\n| B719 | 17.7 |\n| B727 | 15.9 |\n| B758 | 21.2 |\n| B776 | 19.5 |\n| B799 | 20.5 |\n| B836 | 17.0 |\n| B848 | 16.7 |\n| B861 | 16.8 |\n| B869 | 16.8 |\n| B876 | 16.3 |\n| B882 | 16.2 |\n| B889 | 18.1 |\n| B907 | 16.6 |\n| B911 | 16.4 |\n| B923 | 15.1 |\n| B971 | 21.1 |\n| B998 | 16.3 |\n\n",
            "text/latex": "A data.frame: 50 × 1\n\\begin{tabular}{r|l}\n  & OilPercentage\\\\\n  & <dbl>\\\\\n\\hline\n\tB110 & 16.5\\\\\n\tB136 & 17.7\\\\\n\tB171 & 16.2\\\\\n\tB192 & 16.7\\\\\n\tB225 & 16.3\\\\\n\tB237 & 19.1\\\\\n\tB261 & 18.4\\\\\n\tB264 & 17.5\\\\\n\tB353 & 15.7\\\\\n\tB360 & 16.4\\\\\n\tB366 & 18.0\\\\\n\tB377 & 17.4\\\\\n\tB391 & 18.4\\\\\n\tB397 & 13.9\\\\\n\tB404 & 15.8\\\\\n\tB437 & 16.4\\\\\n\tB445 & 18.9\\\\\n\tB462 & 17.3\\\\\n\tB485 & 16.7\\\\\n\tB488 & 19.1\\\\\n\tB502 & 13.7\\\\\n\tB554 & 14.7\\\\\n\tB556 & 18.1\\\\\n\tB575 & 17.2\\\\\n\tB576 & 18.7\\\\\n\tB605 & 18.1\\\\\n\tB612 & 16.6\\\\\n\tB615 & 17.1\\\\\n\tB649 & 17.4\\\\\n\tB665 & 19.4\\\\\n\tB674 & 15.9\\\\\n\tB692 & 17.1\\\\\n\tB694 & 15.5\\\\\n\tB719 & 17.7\\\\\n\tB727 & 15.9\\\\\n\tB758 & 21.2\\\\\n\tB776 & 19.5\\\\\n\tB799 & 20.5\\\\\n\tB836 & 17.0\\\\\n\tB848 & 16.7\\\\\n\tB861 & 16.8\\\\\n\tB869 & 16.8\\\\\n\tB876 & 16.3\\\\\n\tB882 & 16.2\\\\\n\tB889 & 18.1\\\\\n\tB907 & 16.6\\\\\n\tB911 & 16.4\\\\\n\tB923 & 15.1\\\\\n\tB971 & 21.1\\\\\n\tB998 & 16.3\\\\\n\\end{tabular}\n",
            "text/plain": [
              "     OilPercentage\n",
              "B110 16.5         \n",
              "B136 17.7         \n",
              "B171 16.2         \n",
              "B192 16.7         \n",
              "B225 16.3         \n",
              "B237 19.1         \n",
              "B261 18.4         \n",
              "B264 17.5         \n",
              "B353 15.7         \n",
              "B360 16.4         \n",
              "B366 18.0         \n",
              "B377 17.4         \n",
              "B391 18.4         \n",
              "B397 13.9         \n",
              "B404 15.8         \n",
              "B437 16.4         \n",
              "B445 18.9         \n",
              "B462 17.3         \n",
              "B485 16.7         \n",
              "B488 19.1         \n",
              "B502 13.7         \n",
              "B554 14.7         \n",
              "B556 18.1         \n",
              "B575 17.2         \n",
              "B576 18.7         \n",
              "B605 18.1         \n",
              "B612 16.6         \n",
              "B615 17.1         \n",
              "B649 17.4         \n",
              "B665 19.4         \n",
              "B674 15.9         \n",
              "B692 17.1         \n",
              "B694 15.5         \n",
              "B719 17.7         \n",
              "B727 15.9         \n",
              "B758 21.2         \n",
              "B776 19.5         \n",
              "B799 20.5         \n",
              "B836 17.0         \n",
              "B848 16.7         \n",
              "B861 16.8         \n",
              "B869 16.8         \n",
              "B876 16.3         \n",
              "B882 16.2         \n",
              "B889 18.1         \n",
              "B907 16.6         \n",
              "B911 16.4         \n",
              "B923 15.1         \n",
              "B971 21.1         \n",
              "B998 16.3         "
            ]
          },
          "metadata": {}
        }
      ],
      "source": [
        "foodData['OilPercentage']"
      ]
    },
    {
      "cell_type": "code",
      "execution_count": 16,
      "metadata": {
        "colab": {
          "base_uri": "https://localhost:8080/"
        },
        "id": "KMOML2Oh0vCI",
        "outputId": "e76c15df-2e27-4a80-fc51-449683a16bf2"
      },
      "outputs": [
        {
          "output_type": "stream",
          "name": "stdout",
          "text": [
            "'data.frame':\t50 obs. of  1 variable:\n",
            " $ OilPercentage: num  16.5 17.7 16.2 16.7 16.3 19.1 18.4 17.5 15.7 16.4 ...\n"
          ]
        }
      ],
      "source": [
        "str(foodData['OilPercentage'])"
      ]
    },
    {
      "cell_type": "code",
      "execution_count": 17,
      "metadata": {
        "colab": {
          "base_uri": "https://localhost:8080/",
          "height": 1000
        },
        "id": "q6AS17hh0vGr",
        "outputId": "18b4f396-8117-4de1-e95b-44a416ab7a9d"
      },
      "outputs": [
        {
          "output_type": "display_data",
          "data": {
            "text/html": [
              "<table class=\"dataframe\">\n",
              "<caption>A data.frame: 50 × 2</caption>\n",
              "<thead>\n",
              "\t<tr><th></th><th scope=col>OilPercentage</th><th scope=col>Density</th></tr>\n",
              "\t<tr><th></th><th scope=col>&lt;dbl&gt;</th><th scope=col>&lt;int&gt;</th></tr>\n",
              "</thead>\n",
              "<tbody>\n",
              "\t<tr><th scope=row>B110</th><td>16.5</td><td>2955</td></tr>\n",
              "\t<tr><th scope=row>B136</th><td>17.7</td><td>2660</td></tr>\n",
              "\t<tr><th scope=row>B171</th><td>16.2</td><td>2870</td></tr>\n",
              "\t<tr><th scope=row>B192</th><td>16.7</td><td>2920</td></tr>\n",
              "\t<tr><th scope=row>B225</th><td>16.3</td><td>2975</td></tr>\n",
              "\t<tr><th scope=row>B237</th><td>19.1</td><td>2790</td></tr>\n",
              "\t<tr><th scope=row>B261</th><td>18.4</td><td>2750</td></tr>\n",
              "\t<tr><th scope=row>B264</th><td>17.5</td><td>2770</td></tr>\n",
              "\t<tr><th scope=row>B353</th><td>15.7</td><td>2955</td></tr>\n",
              "\t<tr><th scope=row>B360</th><td>16.4</td><td>2945</td></tr>\n",
              "\t<tr><th scope=row>B366</th><td>18.0</td><td>2830</td></tr>\n",
              "\t<tr><th scope=row>B377</th><td>17.4</td><td>2835</td></tr>\n",
              "\t<tr><th scope=row>B391</th><td>18.4</td><td>2860</td></tr>\n",
              "\t<tr><th scope=row>B397</th><td>13.9</td><td>2965</td></tr>\n",
              "\t<tr><th scope=row>B404</th><td>15.8</td><td>2930</td></tr>\n",
              "\t<tr><th scope=row>B437</th><td>16.4</td><td>2770</td></tr>\n",
              "\t<tr><th scope=row>B445</th><td>18.9</td><td>2650</td></tr>\n",
              "\t<tr><th scope=row>B462</th><td>17.3</td><td>2890</td></tr>\n",
              "\t<tr><th scope=row>B485</th><td>16.7</td><td>2695</td></tr>\n",
              "\t<tr><th scope=row>B488</th><td>19.1</td><td>2755</td></tr>\n",
              "\t<tr><th scope=row>B502</th><td>13.7</td><td>3000</td></tr>\n",
              "\t<tr><th scope=row>B554</th><td>14.7</td><td>2980</td></tr>\n",
              "\t<tr><th scope=row>B556</th><td>18.1</td><td>2780</td></tr>\n",
              "\t<tr><th scope=row>B575</th><td>17.2</td><td>2705</td></tr>\n",
              "\t<tr><th scope=row>B576</th><td>18.7</td><td>2825</td></tr>\n",
              "\t<tr><th scope=row>B605</th><td>18.1</td><td>2875</td></tr>\n",
              "\t<tr><th scope=row>B612</th><td>16.6</td><td>2945</td></tr>\n",
              "\t<tr><th scope=row>B615</th><td>17.1</td><td>2920</td></tr>\n",
              "\t<tr><th scope=row>B649</th><td>17.4</td><td>2845</td></tr>\n",
              "\t<tr><th scope=row>B665</th><td>19.4</td><td>2645</td></tr>\n",
              "\t<tr><th scope=row>B674</th><td>15.9</td><td>3080</td></tr>\n",
              "\t<tr><th scope=row>B692</th><td>17.1</td><td>2825</td></tr>\n",
              "\t<tr><th scope=row>B694</th><td>15.5</td><td>3125</td></tr>\n",
              "\t<tr><th scope=row>B719</th><td>17.7</td><td>2780</td></tr>\n",
              "\t<tr><th scope=row>B727</th><td>15.9</td><td>2900</td></tr>\n",
              "\t<tr><th scope=row>B758</th><td>21.2</td><td>2570</td></tr>\n",
              "\t<tr><th scope=row>B776</th><td>19.5</td><td>2635</td></tr>\n",
              "\t<tr><th scope=row>B799</th><td>20.5</td><td>2725</td></tr>\n",
              "\t<tr><th scope=row>B836</th><td>17.0</td><td>2865</td></tr>\n",
              "\t<tr><th scope=row>B848</th><td>16.7</td><td>2975</td></tr>\n",
              "\t<tr><th scope=row>B861</th><td>16.8</td><td>2980</td></tr>\n",
              "\t<tr><th scope=row>B869</th><td>16.8</td><td>2870</td></tr>\n",
              "\t<tr><th scope=row>B876</th><td>16.3</td><td>2920</td></tr>\n",
              "\t<tr><th scope=row>B882</th><td>16.2</td><td>3100</td></tr>\n",
              "\t<tr><th scope=row>B889</th><td>18.1</td><td>2910</td></tr>\n",
              "\t<tr><th scope=row>B907</th><td>16.6</td><td>2865</td></tr>\n",
              "\t<tr><th scope=row>B911</th><td>16.4</td><td>2995</td></tr>\n",
              "\t<tr><th scope=row>B923</th><td>15.1</td><td>2925</td></tr>\n",
              "\t<tr><th scope=row>B971</th><td>21.1</td><td>2700</td></tr>\n",
              "\t<tr><th scope=row>B998</th><td>16.3</td><td>2845</td></tr>\n",
              "</tbody>\n",
              "</table>\n"
            ],
            "text/markdown": "\nA data.frame: 50 × 2\n\n| <!--/--> | OilPercentage &lt;dbl&gt; | Density &lt;int&gt; |\n|---|---|---|\n| B110 | 16.5 | 2955 |\n| B136 | 17.7 | 2660 |\n| B171 | 16.2 | 2870 |\n| B192 | 16.7 | 2920 |\n| B225 | 16.3 | 2975 |\n| B237 | 19.1 | 2790 |\n| B261 | 18.4 | 2750 |\n| B264 | 17.5 | 2770 |\n| B353 | 15.7 | 2955 |\n| B360 | 16.4 | 2945 |\n| B366 | 18.0 | 2830 |\n| B377 | 17.4 | 2835 |\n| B391 | 18.4 | 2860 |\n| B397 | 13.9 | 2965 |\n| B404 | 15.8 | 2930 |\n| B437 | 16.4 | 2770 |\n| B445 | 18.9 | 2650 |\n| B462 | 17.3 | 2890 |\n| B485 | 16.7 | 2695 |\n| B488 | 19.1 | 2755 |\n| B502 | 13.7 | 3000 |\n| B554 | 14.7 | 2980 |\n| B556 | 18.1 | 2780 |\n| B575 | 17.2 | 2705 |\n| B576 | 18.7 | 2825 |\n| B605 | 18.1 | 2875 |\n| B612 | 16.6 | 2945 |\n| B615 | 17.1 | 2920 |\n| B649 | 17.4 | 2845 |\n| B665 | 19.4 | 2645 |\n| B674 | 15.9 | 3080 |\n| B692 | 17.1 | 2825 |\n| B694 | 15.5 | 3125 |\n| B719 | 17.7 | 2780 |\n| B727 | 15.9 | 2900 |\n| B758 | 21.2 | 2570 |\n| B776 | 19.5 | 2635 |\n| B799 | 20.5 | 2725 |\n| B836 | 17.0 | 2865 |\n| B848 | 16.7 | 2975 |\n| B861 | 16.8 | 2980 |\n| B869 | 16.8 | 2870 |\n| B876 | 16.3 | 2920 |\n| B882 | 16.2 | 3100 |\n| B889 | 18.1 | 2910 |\n| B907 | 16.6 | 2865 |\n| B911 | 16.4 | 2995 |\n| B923 | 15.1 | 2925 |\n| B971 | 21.1 | 2700 |\n| B998 | 16.3 | 2845 |\n\n",
            "text/latex": "A data.frame: 50 × 2\n\\begin{tabular}{r|ll}\n  & OilPercentage & Density\\\\\n  & <dbl> & <int>\\\\\n\\hline\n\tB110 & 16.5 & 2955\\\\\n\tB136 & 17.7 & 2660\\\\\n\tB171 & 16.2 & 2870\\\\\n\tB192 & 16.7 & 2920\\\\\n\tB225 & 16.3 & 2975\\\\\n\tB237 & 19.1 & 2790\\\\\n\tB261 & 18.4 & 2750\\\\\n\tB264 & 17.5 & 2770\\\\\n\tB353 & 15.7 & 2955\\\\\n\tB360 & 16.4 & 2945\\\\\n\tB366 & 18.0 & 2830\\\\\n\tB377 & 17.4 & 2835\\\\\n\tB391 & 18.4 & 2860\\\\\n\tB397 & 13.9 & 2965\\\\\n\tB404 & 15.8 & 2930\\\\\n\tB437 & 16.4 & 2770\\\\\n\tB445 & 18.9 & 2650\\\\\n\tB462 & 17.3 & 2890\\\\\n\tB485 & 16.7 & 2695\\\\\n\tB488 & 19.1 & 2755\\\\\n\tB502 & 13.7 & 3000\\\\\n\tB554 & 14.7 & 2980\\\\\n\tB556 & 18.1 & 2780\\\\\n\tB575 & 17.2 & 2705\\\\\n\tB576 & 18.7 & 2825\\\\\n\tB605 & 18.1 & 2875\\\\\n\tB612 & 16.6 & 2945\\\\\n\tB615 & 17.1 & 2920\\\\\n\tB649 & 17.4 & 2845\\\\\n\tB665 & 19.4 & 2645\\\\\n\tB674 & 15.9 & 3080\\\\\n\tB692 & 17.1 & 2825\\\\\n\tB694 & 15.5 & 3125\\\\\n\tB719 & 17.7 & 2780\\\\\n\tB727 & 15.9 & 2900\\\\\n\tB758 & 21.2 & 2570\\\\\n\tB776 & 19.5 & 2635\\\\\n\tB799 & 20.5 & 2725\\\\\n\tB836 & 17.0 & 2865\\\\\n\tB848 & 16.7 & 2975\\\\\n\tB861 & 16.8 & 2980\\\\\n\tB869 & 16.8 & 2870\\\\\n\tB876 & 16.3 & 2920\\\\\n\tB882 & 16.2 & 3100\\\\\n\tB889 & 18.1 & 2910\\\\\n\tB907 & 16.6 & 2865\\\\\n\tB911 & 16.4 & 2995\\\\\n\tB923 & 15.1 & 2925\\\\\n\tB971 & 21.1 & 2700\\\\\n\tB998 & 16.3 & 2845\\\\\n\\end{tabular}\n",
            "text/plain": [
              "     OilPercentage Density\n",
              "B110 16.5          2955   \n",
              "B136 17.7          2660   \n",
              "B171 16.2          2870   \n",
              "B192 16.7          2920   \n",
              "B225 16.3          2975   \n",
              "B237 19.1          2790   \n",
              "B261 18.4          2750   \n",
              "B264 17.5          2770   \n",
              "B353 15.7          2955   \n",
              "B360 16.4          2945   \n",
              "B366 18.0          2830   \n",
              "B377 17.4          2835   \n",
              "B391 18.4          2860   \n",
              "B397 13.9          2965   \n",
              "B404 15.8          2930   \n",
              "B437 16.4          2770   \n",
              "B445 18.9          2650   \n",
              "B462 17.3          2890   \n",
              "B485 16.7          2695   \n",
              "B488 19.1          2755   \n",
              "B502 13.7          3000   \n",
              "B554 14.7          2980   \n",
              "B556 18.1          2780   \n",
              "B575 17.2          2705   \n",
              "B576 18.7          2825   \n",
              "B605 18.1          2875   \n",
              "B612 16.6          2945   \n",
              "B615 17.1          2920   \n",
              "B649 17.4          2845   \n",
              "B665 19.4          2645   \n",
              "B674 15.9          3080   \n",
              "B692 17.1          2825   \n",
              "B694 15.5          3125   \n",
              "B719 17.7          2780   \n",
              "B727 15.9          2900   \n",
              "B758 21.2          2570   \n",
              "B776 19.5          2635   \n",
              "B799 20.5          2725   \n",
              "B836 17.0          2865   \n",
              "B848 16.7          2975   \n",
              "B861 16.8          2980   \n",
              "B869 16.8          2870   \n",
              "B876 16.3          2920   \n",
              "B882 16.2          3100   \n",
              "B889 18.1          2910   \n",
              "B907 16.6          2865   \n",
              "B911 16.4          2995   \n",
              "B923 15.1          2925   \n",
              "B971 21.1          2700   \n",
              "B998 16.3          2845   "
            ]
          },
          "metadata": {}
        }
      ],
      "source": [
        "# Accessing elements or multiple columns of a dataframe\n",
        "# (using base R and dplyr)\n",
        "foodData[c(\"OilPercentage\", \"Density\")]"
      ]
    },
    {
      "cell_type": "code",
      "execution_count": 18,
      "metadata": {
        "colab": {
          "base_uri": "https://localhost:8080/",
          "height": 1000
        },
        "id": "hAXOl3B816TE",
        "outputId": "2de79526-4129-4754-a52e-c5e583e1ef83"
      },
      "outputs": [
        {
          "output_type": "display_data",
          "data": {
            "text/html": [
              "<table class=\"dataframe\">\n",
              "<caption>A data.frame: 50 × 2</caption>\n",
              "<thead>\n",
              "\t<tr><th></th><th scope=col>OilPercentage</th><th scope=col>Density</th></tr>\n",
              "\t<tr><th></th><th scope=col>&lt;dbl&gt;</th><th scope=col>&lt;int&gt;</th></tr>\n",
              "</thead>\n",
              "<tbody>\n",
              "\t<tr><th scope=row>B110</th><td>16.5</td><td>2955</td></tr>\n",
              "\t<tr><th scope=row>B136</th><td>17.7</td><td>2660</td></tr>\n",
              "\t<tr><th scope=row>B171</th><td>16.2</td><td>2870</td></tr>\n",
              "\t<tr><th scope=row>B192</th><td>16.7</td><td>2920</td></tr>\n",
              "\t<tr><th scope=row>B225</th><td>16.3</td><td>2975</td></tr>\n",
              "\t<tr><th scope=row>B237</th><td>19.1</td><td>2790</td></tr>\n",
              "\t<tr><th scope=row>B261</th><td>18.4</td><td>2750</td></tr>\n",
              "\t<tr><th scope=row>B264</th><td>17.5</td><td>2770</td></tr>\n",
              "\t<tr><th scope=row>B353</th><td>15.7</td><td>2955</td></tr>\n",
              "\t<tr><th scope=row>B360</th><td>16.4</td><td>2945</td></tr>\n",
              "\t<tr><th scope=row>B366</th><td>18.0</td><td>2830</td></tr>\n",
              "\t<tr><th scope=row>B377</th><td>17.4</td><td>2835</td></tr>\n",
              "\t<tr><th scope=row>B391</th><td>18.4</td><td>2860</td></tr>\n",
              "\t<tr><th scope=row>B397</th><td>13.9</td><td>2965</td></tr>\n",
              "\t<tr><th scope=row>B404</th><td>15.8</td><td>2930</td></tr>\n",
              "\t<tr><th scope=row>B437</th><td>16.4</td><td>2770</td></tr>\n",
              "\t<tr><th scope=row>B445</th><td>18.9</td><td>2650</td></tr>\n",
              "\t<tr><th scope=row>B462</th><td>17.3</td><td>2890</td></tr>\n",
              "\t<tr><th scope=row>B485</th><td>16.7</td><td>2695</td></tr>\n",
              "\t<tr><th scope=row>B488</th><td>19.1</td><td>2755</td></tr>\n",
              "\t<tr><th scope=row>B502</th><td>13.7</td><td>3000</td></tr>\n",
              "\t<tr><th scope=row>B554</th><td>14.7</td><td>2980</td></tr>\n",
              "\t<tr><th scope=row>B556</th><td>18.1</td><td>2780</td></tr>\n",
              "\t<tr><th scope=row>B575</th><td>17.2</td><td>2705</td></tr>\n",
              "\t<tr><th scope=row>B576</th><td>18.7</td><td>2825</td></tr>\n",
              "\t<tr><th scope=row>B605</th><td>18.1</td><td>2875</td></tr>\n",
              "\t<tr><th scope=row>B612</th><td>16.6</td><td>2945</td></tr>\n",
              "\t<tr><th scope=row>B615</th><td>17.1</td><td>2920</td></tr>\n",
              "\t<tr><th scope=row>B649</th><td>17.4</td><td>2845</td></tr>\n",
              "\t<tr><th scope=row>B665</th><td>19.4</td><td>2645</td></tr>\n",
              "\t<tr><th scope=row>B674</th><td>15.9</td><td>3080</td></tr>\n",
              "\t<tr><th scope=row>B692</th><td>17.1</td><td>2825</td></tr>\n",
              "\t<tr><th scope=row>B694</th><td>15.5</td><td>3125</td></tr>\n",
              "\t<tr><th scope=row>B719</th><td>17.7</td><td>2780</td></tr>\n",
              "\t<tr><th scope=row>B727</th><td>15.9</td><td>2900</td></tr>\n",
              "\t<tr><th scope=row>B758</th><td>21.2</td><td>2570</td></tr>\n",
              "\t<tr><th scope=row>B776</th><td>19.5</td><td>2635</td></tr>\n",
              "\t<tr><th scope=row>B799</th><td>20.5</td><td>2725</td></tr>\n",
              "\t<tr><th scope=row>B836</th><td>17.0</td><td>2865</td></tr>\n",
              "\t<tr><th scope=row>B848</th><td>16.7</td><td>2975</td></tr>\n",
              "\t<tr><th scope=row>B861</th><td>16.8</td><td>2980</td></tr>\n",
              "\t<tr><th scope=row>B869</th><td>16.8</td><td>2870</td></tr>\n",
              "\t<tr><th scope=row>B876</th><td>16.3</td><td>2920</td></tr>\n",
              "\t<tr><th scope=row>B882</th><td>16.2</td><td>3100</td></tr>\n",
              "\t<tr><th scope=row>B889</th><td>18.1</td><td>2910</td></tr>\n",
              "\t<tr><th scope=row>B907</th><td>16.6</td><td>2865</td></tr>\n",
              "\t<tr><th scope=row>B911</th><td>16.4</td><td>2995</td></tr>\n",
              "\t<tr><th scope=row>B923</th><td>15.1</td><td>2925</td></tr>\n",
              "\t<tr><th scope=row>B971</th><td>21.1</td><td>2700</td></tr>\n",
              "\t<tr><th scope=row>B998</th><td>16.3</td><td>2845</td></tr>\n",
              "</tbody>\n",
              "</table>\n"
            ],
            "text/markdown": "\nA data.frame: 50 × 2\n\n| <!--/--> | OilPercentage &lt;dbl&gt; | Density &lt;int&gt; |\n|---|---|---|\n| B110 | 16.5 | 2955 |\n| B136 | 17.7 | 2660 |\n| B171 | 16.2 | 2870 |\n| B192 | 16.7 | 2920 |\n| B225 | 16.3 | 2975 |\n| B237 | 19.1 | 2790 |\n| B261 | 18.4 | 2750 |\n| B264 | 17.5 | 2770 |\n| B353 | 15.7 | 2955 |\n| B360 | 16.4 | 2945 |\n| B366 | 18.0 | 2830 |\n| B377 | 17.4 | 2835 |\n| B391 | 18.4 | 2860 |\n| B397 | 13.9 | 2965 |\n| B404 | 15.8 | 2930 |\n| B437 | 16.4 | 2770 |\n| B445 | 18.9 | 2650 |\n| B462 | 17.3 | 2890 |\n| B485 | 16.7 | 2695 |\n| B488 | 19.1 | 2755 |\n| B502 | 13.7 | 3000 |\n| B554 | 14.7 | 2980 |\n| B556 | 18.1 | 2780 |\n| B575 | 17.2 | 2705 |\n| B576 | 18.7 | 2825 |\n| B605 | 18.1 | 2875 |\n| B612 | 16.6 | 2945 |\n| B615 | 17.1 | 2920 |\n| B649 | 17.4 | 2845 |\n| B665 | 19.4 | 2645 |\n| B674 | 15.9 | 3080 |\n| B692 | 17.1 | 2825 |\n| B694 | 15.5 | 3125 |\n| B719 | 17.7 | 2780 |\n| B727 | 15.9 | 2900 |\n| B758 | 21.2 | 2570 |\n| B776 | 19.5 | 2635 |\n| B799 | 20.5 | 2725 |\n| B836 | 17.0 | 2865 |\n| B848 | 16.7 | 2975 |\n| B861 | 16.8 | 2980 |\n| B869 | 16.8 | 2870 |\n| B876 | 16.3 | 2920 |\n| B882 | 16.2 | 3100 |\n| B889 | 18.1 | 2910 |\n| B907 | 16.6 | 2865 |\n| B911 | 16.4 | 2995 |\n| B923 | 15.1 | 2925 |\n| B971 | 21.1 | 2700 |\n| B998 | 16.3 | 2845 |\n\n",
            "text/latex": "A data.frame: 50 × 2\n\\begin{tabular}{r|ll}\n  & OilPercentage & Density\\\\\n  & <dbl> & <int>\\\\\n\\hline\n\tB110 & 16.5 & 2955\\\\\n\tB136 & 17.7 & 2660\\\\\n\tB171 & 16.2 & 2870\\\\\n\tB192 & 16.7 & 2920\\\\\n\tB225 & 16.3 & 2975\\\\\n\tB237 & 19.1 & 2790\\\\\n\tB261 & 18.4 & 2750\\\\\n\tB264 & 17.5 & 2770\\\\\n\tB353 & 15.7 & 2955\\\\\n\tB360 & 16.4 & 2945\\\\\n\tB366 & 18.0 & 2830\\\\\n\tB377 & 17.4 & 2835\\\\\n\tB391 & 18.4 & 2860\\\\\n\tB397 & 13.9 & 2965\\\\\n\tB404 & 15.8 & 2930\\\\\n\tB437 & 16.4 & 2770\\\\\n\tB445 & 18.9 & 2650\\\\\n\tB462 & 17.3 & 2890\\\\\n\tB485 & 16.7 & 2695\\\\\n\tB488 & 19.1 & 2755\\\\\n\tB502 & 13.7 & 3000\\\\\n\tB554 & 14.7 & 2980\\\\\n\tB556 & 18.1 & 2780\\\\\n\tB575 & 17.2 & 2705\\\\\n\tB576 & 18.7 & 2825\\\\\n\tB605 & 18.1 & 2875\\\\\n\tB612 & 16.6 & 2945\\\\\n\tB615 & 17.1 & 2920\\\\\n\tB649 & 17.4 & 2845\\\\\n\tB665 & 19.4 & 2645\\\\\n\tB674 & 15.9 & 3080\\\\\n\tB692 & 17.1 & 2825\\\\\n\tB694 & 15.5 & 3125\\\\\n\tB719 & 17.7 & 2780\\\\\n\tB727 & 15.9 & 2900\\\\\n\tB758 & 21.2 & 2570\\\\\n\tB776 & 19.5 & 2635\\\\\n\tB799 & 20.5 & 2725\\\\\n\tB836 & 17.0 & 2865\\\\\n\tB848 & 16.7 & 2975\\\\\n\tB861 & 16.8 & 2980\\\\\n\tB869 & 16.8 & 2870\\\\\n\tB876 & 16.3 & 2920\\\\\n\tB882 & 16.2 & 3100\\\\\n\tB889 & 18.1 & 2910\\\\\n\tB907 & 16.6 & 2865\\\\\n\tB911 & 16.4 & 2995\\\\\n\tB923 & 15.1 & 2925\\\\\n\tB971 & 21.1 & 2700\\\\\n\tB998 & 16.3 & 2845\\\\\n\\end{tabular}\n",
            "text/plain": [
              "     OilPercentage Density\n",
              "B110 16.5          2955   \n",
              "B136 17.7          2660   \n",
              "B171 16.2          2870   \n",
              "B192 16.7          2920   \n",
              "B225 16.3          2975   \n",
              "B237 19.1          2790   \n",
              "B261 18.4          2750   \n",
              "B264 17.5          2770   \n",
              "B353 15.7          2955   \n",
              "B360 16.4          2945   \n",
              "B366 18.0          2830   \n",
              "B377 17.4          2835   \n",
              "B391 18.4          2860   \n",
              "B397 13.9          2965   \n",
              "B404 15.8          2930   \n",
              "B437 16.4          2770   \n",
              "B445 18.9          2650   \n",
              "B462 17.3          2890   \n",
              "B485 16.7          2695   \n",
              "B488 19.1          2755   \n",
              "B502 13.7          3000   \n",
              "B554 14.7          2980   \n",
              "B556 18.1          2780   \n",
              "B575 17.2          2705   \n",
              "B576 18.7          2825   \n",
              "B605 18.1          2875   \n",
              "B612 16.6          2945   \n",
              "B615 17.1          2920   \n",
              "B649 17.4          2845   \n",
              "B665 19.4          2645   \n",
              "B674 15.9          3080   \n",
              "B692 17.1          2825   \n",
              "B694 15.5          3125   \n",
              "B719 17.7          2780   \n",
              "B727 15.9          2900   \n",
              "B758 21.2          2570   \n",
              "B776 19.5          2635   \n",
              "B799 20.5          2725   \n",
              "B836 17.0          2865   \n",
              "B848 16.7          2975   \n",
              "B861 16.8          2980   \n",
              "B869 16.8          2870   \n",
              "B876 16.3          2920   \n",
              "B882 16.2          3100   \n",
              "B889 18.1          2910   \n",
              "B907 16.6          2865   \n",
              "B911 16.4          2995   \n",
              "B923 15.1          2925   \n",
              "B971 21.1          2700   \n",
              "B998 16.3          2845   "
            ]
          },
          "metadata": {}
        }
      ],
      "source": [
        "# using dplyr\n",
        "foodData %>% select(c(OilPercentage, Density))"
      ]
    },
    {
      "cell_type": "code",
      "execution_count": 19,
      "metadata": {
        "colab": {
          "base_uri": "https://localhost:8080/",
          "height": 1000
        },
        "id": "0_ddkxcC16UR",
        "outputId": "cc54d1de-f468-49f5-dbeb-a8475481c4d6"
      },
      "outputs": [
        {
          "output_type": "display_data",
          "data": {
            "text/html": [
              "<table class=\"dataframe\">\n",
              "<caption>A data.frame: 50 × 3</caption>\n",
              "<thead>\n",
              "\t<tr><th></th><th scope=col>Crispy</th><th scope=col>Fracture</th><th scope=col>Hardness</th></tr>\n",
              "\t<tr><th></th><th scope=col>&lt;int&gt;</th><th scope=col>&lt;int&gt;</th><th scope=col>&lt;int&gt;</th></tr>\n",
              "</thead>\n",
              "<tbody>\n",
              "\t<tr><th scope=row>B110</th><td>10</td><td>23</td><td> 97</td></tr>\n",
              "\t<tr><th scope=row>B136</th><td>14</td><td> 9</td><td>139</td></tr>\n",
              "\t<tr><th scope=row>B171</th><td>12</td><td>17</td><td>143</td></tr>\n",
              "\t<tr><th scope=row>B192</th><td>10</td><td>31</td><td> 95</td></tr>\n",
              "\t<tr><th scope=row>B225</th><td>11</td><td>26</td><td>143</td></tr>\n",
              "\t<tr><th scope=row>B237</th><td>13</td><td>16</td><td>189</td></tr>\n",
              "\t<tr><th scope=row>B261</th><td>13</td><td>17</td><td>114</td></tr>\n",
              "\t<tr><th scope=row>B264</th><td>10</td><td>26</td><td> 63</td></tr>\n",
              "\t<tr><th scope=row>B353</th><td>11</td><td>23</td><td>123</td></tr>\n",
              "\t<tr><th scope=row>B360</th><td>11</td><td>24</td><td>132</td></tr>\n",
              "\t<tr><th scope=row>B366</th><td>12</td><td>15</td><td>121</td></tr>\n",
              "\t<tr><th scope=row>B377</th><td>12</td><td>18</td><td>172</td></tr>\n",
              "\t<tr><th scope=row>B391</th><td>14</td><td>11</td><td>170</td></tr>\n",
              "\t<tr><th scope=row>B397</th><td>12</td><td>19</td><td>169</td></tr>\n",
              "\t<tr><th scope=row>B404</th><td> 9</td><td>26</td><td> 65</td></tr>\n",
              "\t<tr><th scope=row>B437</th><td>15</td><td>16</td><td>183</td></tr>\n",
              "\t<tr><th scope=row>B445</th><td>14</td><td>20</td><td>114</td></tr>\n",
              "\t<tr><th scope=row>B462</th><td>12</td><td>17</td><td>142</td></tr>\n",
              "\t<tr><th scope=row>B485</th><td>13</td><td>13</td><td>111</td></tr>\n",
              "\t<tr><th scope=row>B488</th><td>14</td><td>10</td><td>140</td></tr>\n",
              "\t<tr><th scope=row>B502</th><td>10</td><td>27</td><td>177</td></tr>\n",
              "\t<tr><th scope=row>B554</th><td>10</td><td>20</td><td>133</td></tr>\n",
              "\t<tr><th scope=row>B556</th><td>13</td><td>14</td><td>150</td></tr>\n",
              "\t<tr><th scope=row>B575</th><td> 8</td><td>27</td><td>113</td></tr>\n",
              "\t<tr><th scope=row>B576</th><td>13</td><td>20</td><td>166</td></tr>\n",
              "\t<tr><th scope=row>B605</th><td>12</td><td>15</td><td>150</td></tr>\n",
              "\t<tr><th scope=row>B612</th><td>10</td><td>25</td><td>100</td></tr>\n",
              "\t<tr><th scope=row>B615</th><td>10</td><td>25</td><td>123</td></tr>\n",
              "\t<tr><th scope=row>B649</th><td>13</td><td>19</td><td>129</td></tr>\n",
              "\t<tr><th scope=row>B665</th><td>12</td><td>18</td><td> 68</td></tr>\n",
              "\t<tr><th scope=row>B674</th><td>10</td><td>23</td><td>106</td></tr>\n",
              "\t<tr><th scope=row>B692</th><td>10</td><td>28</td><td>131</td></tr>\n",
              "\t<tr><th scope=row>B694</th><td> 7</td><td>33</td><td> 92</td></tr>\n",
              "\t<tr><th scope=row>B719</th><td>13</td><td>22</td><td>141</td></tr>\n",
              "\t<tr><th scope=row>B727</th><td>12</td><td>21</td><td>192</td></tr>\n",
              "\t<tr><th scope=row>B758</th><td>14</td><td>13</td><td>105</td></tr>\n",
              "\t<tr><th scope=row>B776</th><td>13</td><td>22</td><td>101</td></tr>\n",
              "\t<tr><th scope=row>B799</th><td>14</td><td>16</td><td>145</td></tr>\n",
              "\t<tr><th scope=row>B836</th><td>11</td><td>22</td><td>100</td></tr>\n",
              "\t<tr><th scope=row>B848</th><td>10</td><td>26</td><td>105</td></tr>\n",
              "\t<tr><th scope=row>B861</th><td>10</td><td>24</td><td>144</td></tr>\n",
              "\t<tr><th scope=row>B869</th><td>12</td><td>20</td><td>123</td></tr>\n",
              "\t<tr><th scope=row>B876</th><td>11</td><td>22</td><td>136</td></tr>\n",
              "\t<tr><th scope=row>B882</th><td> 8</td><td>27</td><td>140</td></tr>\n",
              "\t<tr><th scope=row>B889</th><td>12</td><td>21</td><td>120</td></tr>\n",
              "\t<tr><th scope=row>B907</th><td>11</td><td>25</td><td>120</td></tr>\n",
              "\t<tr><th scope=row>B911</th><td>12</td><td>20</td><td>165</td></tr>\n",
              "\t<tr><th scope=row>B923</th><td>10</td><td>29</td><td>118</td></tr>\n",
              "\t<tr><th scope=row>B971</th><td>13</td><td>16</td><td>116</td></tr>\n",
              "\t<tr><th scope=row>B998</th><td>10</td><td>26</td><td> 75</td></tr>\n",
              "</tbody>\n",
              "</table>\n"
            ],
            "text/markdown": "\nA data.frame: 50 × 3\n\n| <!--/--> | Crispy &lt;int&gt; | Fracture &lt;int&gt; | Hardness &lt;int&gt; |\n|---|---|---|---|\n| B110 | 10 | 23 |  97 |\n| B136 | 14 |  9 | 139 |\n| B171 | 12 | 17 | 143 |\n| B192 | 10 | 31 |  95 |\n| B225 | 11 | 26 | 143 |\n| B237 | 13 | 16 | 189 |\n| B261 | 13 | 17 | 114 |\n| B264 | 10 | 26 |  63 |\n| B353 | 11 | 23 | 123 |\n| B360 | 11 | 24 | 132 |\n| B366 | 12 | 15 | 121 |\n| B377 | 12 | 18 | 172 |\n| B391 | 14 | 11 | 170 |\n| B397 | 12 | 19 | 169 |\n| B404 |  9 | 26 |  65 |\n| B437 | 15 | 16 | 183 |\n| B445 | 14 | 20 | 114 |\n| B462 | 12 | 17 | 142 |\n| B485 | 13 | 13 | 111 |\n| B488 | 14 | 10 | 140 |\n| B502 | 10 | 27 | 177 |\n| B554 | 10 | 20 | 133 |\n| B556 | 13 | 14 | 150 |\n| B575 |  8 | 27 | 113 |\n| B576 | 13 | 20 | 166 |\n| B605 | 12 | 15 | 150 |\n| B612 | 10 | 25 | 100 |\n| B615 | 10 | 25 | 123 |\n| B649 | 13 | 19 | 129 |\n| B665 | 12 | 18 |  68 |\n| B674 | 10 | 23 | 106 |\n| B692 | 10 | 28 | 131 |\n| B694 |  7 | 33 |  92 |\n| B719 | 13 | 22 | 141 |\n| B727 | 12 | 21 | 192 |\n| B758 | 14 | 13 | 105 |\n| B776 | 13 | 22 | 101 |\n| B799 | 14 | 16 | 145 |\n| B836 | 11 | 22 | 100 |\n| B848 | 10 | 26 | 105 |\n| B861 | 10 | 24 | 144 |\n| B869 | 12 | 20 | 123 |\n| B876 | 11 | 22 | 136 |\n| B882 |  8 | 27 | 140 |\n| B889 | 12 | 21 | 120 |\n| B907 | 11 | 25 | 120 |\n| B911 | 12 | 20 | 165 |\n| B923 | 10 | 29 | 118 |\n| B971 | 13 | 16 | 116 |\n| B998 | 10 | 26 |  75 |\n\n",
            "text/latex": "A data.frame: 50 × 3\n\\begin{tabular}{r|lll}\n  & Crispy & Fracture & Hardness\\\\\n  & <int> & <int> & <int>\\\\\n\\hline\n\tB110 & 10 & 23 &  97\\\\\n\tB136 & 14 &  9 & 139\\\\\n\tB171 & 12 & 17 & 143\\\\\n\tB192 & 10 & 31 &  95\\\\\n\tB225 & 11 & 26 & 143\\\\\n\tB237 & 13 & 16 & 189\\\\\n\tB261 & 13 & 17 & 114\\\\\n\tB264 & 10 & 26 &  63\\\\\n\tB353 & 11 & 23 & 123\\\\\n\tB360 & 11 & 24 & 132\\\\\n\tB366 & 12 & 15 & 121\\\\\n\tB377 & 12 & 18 & 172\\\\\n\tB391 & 14 & 11 & 170\\\\\n\tB397 & 12 & 19 & 169\\\\\n\tB404 &  9 & 26 &  65\\\\\n\tB437 & 15 & 16 & 183\\\\\n\tB445 & 14 & 20 & 114\\\\\n\tB462 & 12 & 17 & 142\\\\\n\tB485 & 13 & 13 & 111\\\\\n\tB488 & 14 & 10 & 140\\\\\n\tB502 & 10 & 27 & 177\\\\\n\tB554 & 10 & 20 & 133\\\\\n\tB556 & 13 & 14 & 150\\\\\n\tB575 &  8 & 27 & 113\\\\\n\tB576 & 13 & 20 & 166\\\\\n\tB605 & 12 & 15 & 150\\\\\n\tB612 & 10 & 25 & 100\\\\\n\tB615 & 10 & 25 & 123\\\\\n\tB649 & 13 & 19 & 129\\\\\n\tB665 & 12 & 18 &  68\\\\\n\tB674 & 10 & 23 & 106\\\\\n\tB692 & 10 & 28 & 131\\\\\n\tB694 &  7 & 33 &  92\\\\\n\tB719 & 13 & 22 & 141\\\\\n\tB727 & 12 & 21 & 192\\\\\n\tB758 & 14 & 13 & 105\\\\\n\tB776 & 13 & 22 & 101\\\\\n\tB799 & 14 & 16 & 145\\\\\n\tB836 & 11 & 22 & 100\\\\\n\tB848 & 10 & 26 & 105\\\\\n\tB861 & 10 & 24 & 144\\\\\n\tB869 & 12 & 20 & 123\\\\\n\tB876 & 11 & 22 & 136\\\\\n\tB882 &  8 & 27 & 140\\\\\n\tB889 & 12 & 21 & 120\\\\\n\tB907 & 11 & 25 & 120\\\\\n\tB911 & 12 & 20 & 165\\\\\n\tB923 & 10 & 29 & 118\\\\\n\tB971 & 13 & 16 & 116\\\\\n\tB998 & 10 & 26 &  75\\\\\n\\end{tabular}\n",
            "text/plain": [
              "     Crispy Fracture Hardness\n",
              "B110 10     23        97     \n",
              "B136 14      9       139     \n",
              "B171 12     17       143     \n",
              "B192 10     31        95     \n",
              "B225 11     26       143     \n",
              "B237 13     16       189     \n",
              "B261 13     17       114     \n",
              "B264 10     26        63     \n",
              "B353 11     23       123     \n",
              "B360 11     24       132     \n",
              "B366 12     15       121     \n",
              "B377 12     18       172     \n",
              "B391 14     11       170     \n",
              "B397 12     19       169     \n",
              "B404  9     26        65     \n",
              "B437 15     16       183     \n",
              "B445 14     20       114     \n",
              "B462 12     17       142     \n",
              "B485 13     13       111     \n",
              "B488 14     10       140     \n",
              "B502 10     27       177     \n",
              "B554 10     20       133     \n",
              "B556 13     14       150     \n",
              "B575  8     27       113     \n",
              "B576 13     20       166     \n",
              "B605 12     15       150     \n",
              "B612 10     25       100     \n",
              "B615 10     25       123     \n",
              "B649 13     19       129     \n",
              "B665 12     18        68     \n",
              "B674 10     23       106     \n",
              "B692 10     28       131     \n",
              "B694  7     33        92     \n",
              "B719 13     22       141     \n",
              "B727 12     21       192     \n",
              "B758 14     13       105     \n",
              "B776 13     22       101     \n",
              "B799 14     16       145     \n",
              "B836 11     22       100     \n",
              "B848 10     26       105     \n",
              "B861 10     24       144     \n",
              "B869 12     20       123     \n",
              "B876 11     22       136     \n",
              "B882  8     27       140     \n",
              "B889 12     21       120     \n",
              "B907 11     25       120     \n",
              "B911 12     20       165     \n",
              "B923 10     29       118     \n",
              "B971 13     16       116     \n",
              "B998 10     26        75     "
            ]
          },
          "metadata": {}
        }
      ],
      "source": [
        "foodData %>% select(-c(OilPercentage, Density))"
      ]
    },
    {
      "cell_type": "code",
      "execution_count": 20,
      "metadata": {
        "colab": {
          "base_uri": "https://localhost:8080/",
          "height": 69
        },
        "id": "0qx9u9mG16Za",
        "outputId": "f2ac673f-df81-4b6a-a481-c88fc365746b"
      },
      "outputs": [
        {
          "output_type": "display_data",
          "data": {
            "text/html": [
              "<style>\n",
              ".list-inline {list-style: none; margin:0; padding: 0}\n",
              ".list-inline>li {display: inline-block}\n",
              ".list-inline>li:not(:last-child)::after {content: \"\\00b7\"; padding: 0 .5ex}\n",
              "</style>\n",
              "<ol class=list-inline><li>TRUE</li><li>TRUE</li><li>FALSE</li><li>TRUE</li><li>FALSE</li><li>TRUE</li><li>TRUE</li><li>TRUE</li><li>FALSE</li><li>FALSE</li><li>TRUE</li><li>TRUE</li><li>TRUE</li><li>FALSE</li><li>FALSE</li><li>FALSE</li><li>TRUE</li><li>TRUE</li><li>TRUE</li><li>TRUE</li><li>FALSE</li><li>FALSE</li><li>TRUE</li><li>TRUE</li><li>TRUE</li><li>TRUE</li><li>TRUE</li><li>TRUE</li><li>TRUE</li><li>TRUE</li><li>FALSE</li><li>TRUE</li><li>FALSE</li><li>TRUE</li><li>FALSE</li><li>TRUE</li><li>TRUE</li><li>TRUE</li><li>TRUE</li><li>TRUE</li><li>TRUE</li><li>TRUE</li><li>FALSE</li><li>FALSE</li><li>TRUE</li><li>TRUE</li><li>FALSE</li><li>FALSE</li><li>TRUE</li><li>FALSE</li></ol>\n"
            ],
            "text/markdown": "1. TRUE\n2. TRUE\n3. FALSE\n4. TRUE\n5. FALSE\n6. TRUE\n7. TRUE\n8. TRUE\n9. FALSE\n10. FALSE\n11. TRUE\n12. TRUE\n13. TRUE\n14. FALSE\n15. FALSE\n16. FALSE\n17. TRUE\n18. TRUE\n19. TRUE\n20. TRUE\n21. FALSE\n22. FALSE\n23. TRUE\n24. TRUE\n25. TRUE\n26. TRUE\n27. TRUE\n28. TRUE\n29. TRUE\n30. TRUE\n31. FALSE\n32. TRUE\n33. FALSE\n34. TRUE\n35. FALSE\n36. TRUE\n37. TRUE\n38. TRUE\n39. TRUE\n40. TRUE\n41. TRUE\n42. TRUE\n43. FALSE\n44. FALSE\n45. TRUE\n46. TRUE\n47. FALSE\n48. FALSE\n49. TRUE\n50. FALSE\n\n\n",
            "text/latex": "\\begin{enumerate*}\n\\item TRUE\n\\item TRUE\n\\item FALSE\n\\item TRUE\n\\item FALSE\n\\item TRUE\n\\item TRUE\n\\item TRUE\n\\item FALSE\n\\item FALSE\n\\item TRUE\n\\item TRUE\n\\item TRUE\n\\item FALSE\n\\item FALSE\n\\item FALSE\n\\item TRUE\n\\item TRUE\n\\item TRUE\n\\item TRUE\n\\item FALSE\n\\item FALSE\n\\item TRUE\n\\item TRUE\n\\item TRUE\n\\item TRUE\n\\item TRUE\n\\item TRUE\n\\item TRUE\n\\item TRUE\n\\item FALSE\n\\item TRUE\n\\item FALSE\n\\item TRUE\n\\item FALSE\n\\item TRUE\n\\item TRUE\n\\item TRUE\n\\item TRUE\n\\item TRUE\n\\item TRUE\n\\item TRUE\n\\item FALSE\n\\item FALSE\n\\item TRUE\n\\item TRUE\n\\item FALSE\n\\item FALSE\n\\item TRUE\n\\item FALSE\n\\end{enumerate*}\n",
            "text/plain": [
              " [1]  TRUE  TRUE FALSE  TRUE FALSE  TRUE  TRUE  TRUE FALSE FALSE  TRUE  TRUE\n",
              "[13]  TRUE FALSE FALSE FALSE  TRUE  TRUE  TRUE  TRUE FALSE FALSE  TRUE  TRUE\n",
              "[25]  TRUE  TRUE  TRUE  TRUE  TRUE  TRUE FALSE  TRUE FALSE  TRUE FALSE  TRUE\n",
              "[37]  TRUE  TRUE  TRUE  TRUE  TRUE  TRUE FALSE FALSE  TRUE  TRUE FALSE FALSE\n",
              "[49]  TRUE FALSE"
            ]
          },
          "metadata": {}
        }
      ],
      "source": [
        "# accessing rows of a dataframe satidfying certain conditions\n",
        "# atleast 16.5 oil percentage\n",
        "foodData$OilPercentage >= 16.5"
      ]
    },
    {
      "cell_type": "code",
      "execution_count": 21,
      "metadata": {
        "colab": {
          "base_uri": "https://localhost:8080/",
          "height": 34
        },
        "id": "j0pLB1Wd16ay",
        "outputId": "93c46189-c1a3-4646-ce87-ce2cc52c8e47"
      },
      "outputs": [
        {
          "output_type": "display_data",
          "data": {
            "text/html": [
              "<style>\n",
              ".list-inline {list-style: none; margin:0; padding: 0}\n",
              ".list-inline>li {display: inline-block}\n",
              ".list-inline>li:not(:last-child)::after {content: \"\\00b7\"; padding: 0 .5ex}\n",
              "</style>\n",
              "<ol class=list-inline><li>10</li><li>14</li><li>10</li><li>13</li><li>13</li><li>10</li><li>12</li><li>12</li><li>14</li><li>14</li><li>12</li><li>13</li><li>14</li><li>13</li><li>8</li><li>13</li><li>12</li><li>10</li><li>10</li><li>13</li><li>12</li><li>10</li><li>13</li><li>14</li><li>13</li><li>14</li><li>11</li><li>10</li><li>10</li><li>12</li><li>12</li><li>11</li><li>13</li></ol>\n"
            ],
            "text/markdown": "1. 10\n2. 14\n3. 10\n4. 13\n5. 13\n6. 10\n7. 12\n8. 12\n9. 14\n10. 14\n11. 12\n12. 13\n13. 14\n14. 13\n15. 8\n16. 13\n17. 12\n18. 10\n19. 10\n20. 13\n21. 12\n22. 10\n23. 13\n24. 14\n25. 13\n26. 14\n27. 11\n28. 10\n29. 10\n30. 12\n31. 12\n32. 11\n33. 13\n\n\n",
            "text/latex": "\\begin{enumerate*}\n\\item 10\n\\item 14\n\\item 10\n\\item 13\n\\item 13\n\\item 10\n\\item 12\n\\item 12\n\\item 14\n\\item 14\n\\item 12\n\\item 13\n\\item 14\n\\item 13\n\\item 8\n\\item 13\n\\item 12\n\\item 10\n\\item 10\n\\item 13\n\\item 12\n\\item 10\n\\item 13\n\\item 14\n\\item 13\n\\item 14\n\\item 11\n\\item 10\n\\item 10\n\\item 12\n\\item 12\n\\item 11\n\\item 13\n\\end{enumerate*}\n",
            "text/plain": [
              " [1] 10 14 10 13 13 10 12 12 14 14 12 13 14 13  8 13 12 10 10 13 12 10 13 14 13\n",
              "[26] 14 11 10 10 12 12 11 13"
            ]
          },
          "metadata": {}
        }
      ],
      "source": [
        "foodData[foodData$OilPercentage >= 16.5 ,'Crispy']"
      ]
    },
    {
      "cell_type": "code",
      "execution_count": 22,
      "metadata": {
        "colab": {
          "base_uri": "https://localhost:8080/",
          "height": 69
        },
        "id": "eEhnNmVu16hl",
        "outputId": "5132f1dc-d285-41ed-aa4c-6bda6f9fcbf7"
      },
      "outputs": [
        {
          "output_type": "display_data",
          "data": {
            "text/html": [
              "<style>\n",
              ".list-inline {list-style: none; margin:0; padding: 0}\n",
              ".list-inline>li {display: inline-block}\n",
              ".list-inline>li:not(:last-child)::after {content: \"\\00b7\"; padding: 0 .5ex}\n",
              "</style>\n",
              "<ol class=list-inline><li>FALSE</li><li>TRUE</li><li>FALSE</li><li>FALSE</li><li>FALSE</li><li>TRUE</li><li>TRUE</li><li>TRUE</li><li>FALSE</li><li>FALSE</li><li>TRUE</li><li>TRUE</li><li>TRUE</li><li>FALSE</li><li>FALSE</li><li>FALSE</li><li>TRUE</li><li>TRUE</li><li>TRUE</li><li>TRUE</li><li>FALSE</li><li>FALSE</li><li>TRUE</li><li>TRUE</li><li>TRUE</li><li>TRUE</li><li>FALSE</li><li>FALSE</li><li>TRUE</li><li>TRUE</li><li>FALSE</li><li>TRUE</li><li>FALSE</li><li>TRUE</li><li>FALSE</li><li>TRUE</li><li>TRUE</li><li>TRUE</li><li>TRUE</li><li>FALSE</li><li>FALSE</li><li>TRUE</li><li>FALSE</li><li>FALSE</li><li>FALSE</li><li>TRUE</li><li>FALSE</li><li>FALSE</li><li>TRUE</li><li>FALSE</li></ol>\n"
            ],
            "text/markdown": "1. FALSE\n2. TRUE\n3. FALSE\n4. FALSE\n5. FALSE\n6. TRUE\n7. TRUE\n8. TRUE\n9. FALSE\n10. FALSE\n11. TRUE\n12. TRUE\n13. TRUE\n14. FALSE\n15. FALSE\n16. FALSE\n17. TRUE\n18. TRUE\n19. TRUE\n20. TRUE\n21. FALSE\n22. FALSE\n23. TRUE\n24. TRUE\n25. TRUE\n26. TRUE\n27. FALSE\n28. FALSE\n29. TRUE\n30. TRUE\n31. FALSE\n32. TRUE\n33. FALSE\n34. TRUE\n35. FALSE\n36. TRUE\n37. TRUE\n38. TRUE\n39. TRUE\n40. FALSE\n41. FALSE\n42. TRUE\n43. FALSE\n44. FALSE\n45. FALSE\n46. TRUE\n47. FALSE\n48. FALSE\n49. TRUE\n50. FALSE\n\n\n",
            "text/latex": "\\begin{enumerate*}\n\\item FALSE\n\\item TRUE\n\\item FALSE\n\\item FALSE\n\\item FALSE\n\\item TRUE\n\\item TRUE\n\\item TRUE\n\\item FALSE\n\\item FALSE\n\\item TRUE\n\\item TRUE\n\\item TRUE\n\\item FALSE\n\\item FALSE\n\\item FALSE\n\\item TRUE\n\\item TRUE\n\\item TRUE\n\\item TRUE\n\\item FALSE\n\\item FALSE\n\\item TRUE\n\\item TRUE\n\\item TRUE\n\\item TRUE\n\\item FALSE\n\\item FALSE\n\\item TRUE\n\\item TRUE\n\\item FALSE\n\\item TRUE\n\\item FALSE\n\\item TRUE\n\\item FALSE\n\\item TRUE\n\\item TRUE\n\\item TRUE\n\\item TRUE\n\\item FALSE\n\\item FALSE\n\\item TRUE\n\\item FALSE\n\\item FALSE\n\\item FALSE\n\\item TRUE\n\\item FALSE\n\\item FALSE\n\\item TRUE\n\\item FALSE\n\\end{enumerate*}\n",
            "text/plain": [
              " [1] FALSE  TRUE FALSE FALSE FALSE  TRUE  TRUE  TRUE FALSE FALSE  TRUE  TRUE\n",
              "[13]  TRUE FALSE FALSE FALSE  TRUE  TRUE  TRUE  TRUE FALSE FALSE  TRUE  TRUE\n",
              "[25]  TRUE  TRUE FALSE FALSE  TRUE  TRUE FALSE  TRUE FALSE  TRUE FALSE  TRUE\n",
              "[37]  TRUE  TRUE  TRUE FALSE FALSE  TRUE FALSE FALSE FALSE  TRUE FALSE FALSE\n",
              "[49]  TRUE FALSE"
            ]
          },
          "metadata": {}
        }
      ],
      "source": [
        "foodData$Density <= 2900 & foodData$OilPercentage >= 16.5"
      ]
    },
    {
      "cell_type": "code",
      "execution_count": 23,
      "metadata": {
        "colab": {
          "base_uri": "https://localhost:8080/",
          "height": 69
        },
        "id": "cjmXYyXS16fI",
        "outputId": "a959900d-1bc4-4065-be30-4abf3ff7a5e0"
      },
      "outputs": [
        {
          "output_type": "display_data",
          "data": {
            "text/html": [
              "<style>\n",
              ".list-inline {list-style: none; margin:0; padding: 0}\n",
              ".list-inline>li {display: inline-block}\n",
              ".list-inline>li:not(:last-child)::after {content: \"\\00b7\"; padding: 0 .5ex}\n",
              "</style>\n",
              "<ol class=list-inline><li>FALSE</li><li>TRUE</li><li>TRUE</li><li>FALSE</li><li>FALSE</li><li>TRUE</li><li>TRUE</li><li>TRUE</li><li>FALSE</li><li>FALSE</li><li>TRUE</li><li>TRUE</li><li>TRUE</li><li>FALSE</li><li>FALSE</li><li>TRUE</li><li>TRUE</li><li>TRUE</li><li>TRUE</li><li>TRUE</li><li>FALSE</li><li>FALSE</li><li>TRUE</li><li>TRUE</li><li>TRUE</li><li>TRUE</li><li>FALSE</li><li>FALSE</li><li>TRUE</li><li>TRUE</li><li>FALSE</li><li>TRUE</li><li>FALSE</li><li>TRUE</li><li>TRUE</li><li>TRUE</li><li>TRUE</li><li>TRUE</li><li>TRUE</li><li>FALSE</li><li>FALSE</li><li>TRUE</li><li>FALSE</li><li>FALSE</li><li>FALSE</li><li>TRUE</li><li>FALSE</li><li>FALSE</li><li>TRUE</li><li>TRUE</li></ol>\n"
            ],
            "text/markdown": "1. FALSE\n2. TRUE\n3. TRUE\n4. FALSE\n5. FALSE\n6. TRUE\n7. TRUE\n8. TRUE\n9. FALSE\n10. FALSE\n11. TRUE\n12. TRUE\n13. TRUE\n14. FALSE\n15. FALSE\n16. TRUE\n17. TRUE\n18. TRUE\n19. TRUE\n20. TRUE\n21. FALSE\n22. FALSE\n23. TRUE\n24. TRUE\n25. TRUE\n26. TRUE\n27. FALSE\n28. FALSE\n29. TRUE\n30. TRUE\n31. FALSE\n32. TRUE\n33. FALSE\n34. TRUE\n35. TRUE\n36. TRUE\n37. TRUE\n38. TRUE\n39. TRUE\n40. FALSE\n41. FALSE\n42. TRUE\n43. FALSE\n44. FALSE\n45. FALSE\n46. TRUE\n47. FALSE\n48. FALSE\n49. TRUE\n50. TRUE\n\n\n",
            "text/latex": "\\begin{enumerate*}\n\\item FALSE\n\\item TRUE\n\\item TRUE\n\\item FALSE\n\\item FALSE\n\\item TRUE\n\\item TRUE\n\\item TRUE\n\\item FALSE\n\\item FALSE\n\\item TRUE\n\\item TRUE\n\\item TRUE\n\\item FALSE\n\\item FALSE\n\\item TRUE\n\\item TRUE\n\\item TRUE\n\\item TRUE\n\\item TRUE\n\\item FALSE\n\\item FALSE\n\\item TRUE\n\\item TRUE\n\\item TRUE\n\\item TRUE\n\\item FALSE\n\\item FALSE\n\\item TRUE\n\\item TRUE\n\\item FALSE\n\\item TRUE\n\\item FALSE\n\\item TRUE\n\\item TRUE\n\\item TRUE\n\\item TRUE\n\\item TRUE\n\\item TRUE\n\\item FALSE\n\\item FALSE\n\\item TRUE\n\\item FALSE\n\\item FALSE\n\\item FALSE\n\\item TRUE\n\\item FALSE\n\\item FALSE\n\\item TRUE\n\\item TRUE\n\\end{enumerate*}\n",
            "text/plain": [
              " [1] FALSE  TRUE  TRUE FALSE FALSE  TRUE  TRUE  TRUE FALSE FALSE  TRUE  TRUE\n",
              "[13]  TRUE FALSE FALSE  TRUE  TRUE  TRUE  TRUE  TRUE FALSE FALSE  TRUE  TRUE\n",
              "[25]  TRUE  TRUE FALSE FALSE  TRUE  TRUE FALSE  TRUE FALSE  TRUE  TRUE  TRUE\n",
              "[37]  TRUE  TRUE  TRUE FALSE FALSE  TRUE FALSE FALSE FALSE  TRUE FALSE FALSE\n",
              "[49]  TRUE  TRUE"
            ]
          },
          "metadata": {}
        }
      ],
      "source": [
        "foodData$Density <= 2900"
      ]
    },
    {
      "cell_type": "code",
      "execution_count": 24,
      "metadata": {
        "colab": {
          "base_uri": "https://localhost:8080/",
          "height": 34
        },
        "id": "G4k-XORQ16l3",
        "outputId": "63f2d48d-a62b-44e1-8ed9-a6c21be8de63"
      },
      "outputs": [
        {
          "output_type": "display_data",
          "data": {
            "text/html": [
              "<style>\n",
              ".list-inline {list-style: none; margin:0; padding: 0}\n",
              ".list-inline>li {display: inline-block}\n",
              ".list-inline>li:not(:last-child)::after {content: \"\\00b7\"; padding: 0 .5ex}\n",
              "</style>\n",
              "<ol class=list-inline><li>14</li><li>13</li><li>13</li><li>10</li><li>12</li><li>12</li><li>14</li><li>14</li><li>12</li><li>13</li><li>14</li><li>13</li><li>8</li><li>13</li><li>12</li><li>13</li><li>12</li><li>10</li><li>13</li><li>14</li><li>13</li><li>14</li><li>11</li><li>12</li><li>11</li><li>13</li></ol>\n"
            ],
            "text/markdown": "1. 14\n2. 13\n3. 13\n4. 10\n5. 12\n6. 12\n7. 14\n8. 14\n9. 12\n10. 13\n11. 14\n12. 13\n13. 8\n14. 13\n15. 12\n16. 13\n17. 12\n18. 10\n19. 13\n20. 14\n21. 13\n22. 14\n23. 11\n24. 12\n25. 11\n26. 13\n\n\n",
            "text/latex": "\\begin{enumerate*}\n\\item 14\n\\item 13\n\\item 13\n\\item 10\n\\item 12\n\\item 12\n\\item 14\n\\item 14\n\\item 12\n\\item 13\n\\item 14\n\\item 13\n\\item 8\n\\item 13\n\\item 12\n\\item 13\n\\item 12\n\\item 10\n\\item 13\n\\item 14\n\\item 13\n\\item 14\n\\item 11\n\\item 12\n\\item 11\n\\item 13\n\\end{enumerate*}\n",
            "text/plain": [
              " [1] 14 13 13 10 12 12 14 14 12 13 14 13  8 13 12 13 12 10 13 14 13 14 11 12 11\n",
              "[26] 13"
            ]
          },
          "metadata": {}
        }
      ],
      "source": [
        "foodData[foodData$Density <= 2900 & foodData$OilPercentage >= 16.5,'Crispy']"
      ]
    },
    {
      "cell_type": "code",
      "execution_count": 25,
      "metadata": {
        "id": "FuRowZ1916pQ"
      },
      "outputs": [],
      "source": [
        "# using dplyr\n",
        "#foodData %>% filter(OilPercentage >= 16.5 & Density <= 2900)"
      ]
    },
    {
      "cell_type": "code",
      "execution_count": 26,
      "metadata": {
        "colab": {
          "base_uri": "https://localhost:8080/",
          "height": 913
        },
        "id": "nfonUanF16sK",
        "outputId": "9760b17d-a069-4871-9b35-51b644698b63"
      },
      "outputs": [
        {
          "output_type": "display_data",
          "data": {
            "text/html": [
              "<table class=\"dataframe\">\n",
              "<caption>A data.frame: 26 × 2</caption>\n",
              "<thead>\n",
              "\t<tr><th></th><th scope=col>Fracture</th><th scope=col>Hardness</th></tr>\n",
              "\t<tr><th></th><th scope=col>&lt;int&gt;</th><th scope=col>&lt;int&gt;</th></tr>\n",
              "</thead>\n",
              "<tbody>\n",
              "\t<tr><th scope=row>B136</th><td> 9</td><td>139</td></tr>\n",
              "\t<tr><th scope=row>B237</th><td>16</td><td>189</td></tr>\n",
              "\t<tr><th scope=row>B261</th><td>17</td><td>114</td></tr>\n",
              "\t<tr><th scope=row>B264</th><td>26</td><td> 63</td></tr>\n",
              "\t<tr><th scope=row>B366</th><td>15</td><td>121</td></tr>\n",
              "\t<tr><th scope=row>B377</th><td>18</td><td>172</td></tr>\n",
              "\t<tr><th scope=row>B391</th><td>11</td><td>170</td></tr>\n",
              "\t<tr><th scope=row>B445</th><td>20</td><td>114</td></tr>\n",
              "\t<tr><th scope=row>B462</th><td>17</td><td>142</td></tr>\n",
              "\t<tr><th scope=row>B485</th><td>13</td><td>111</td></tr>\n",
              "\t<tr><th scope=row>B488</th><td>10</td><td>140</td></tr>\n",
              "\t<tr><th scope=row>B556</th><td>14</td><td>150</td></tr>\n",
              "\t<tr><th scope=row>B575</th><td>27</td><td>113</td></tr>\n",
              "\t<tr><th scope=row>B576</th><td>20</td><td>166</td></tr>\n",
              "\t<tr><th scope=row>B605</th><td>15</td><td>150</td></tr>\n",
              "\t<tr><th scope=row>B649</th><td>19</td><td>129</td></tr>\n",
              "\t<tr><th scope=row>B665</th><td>18</td><td> 68</td></tr>\n",
              "\t<tr><th scope=row>B692</th><td>28</td><td>131</td></tr>\n",
              "\t<tr><th scope=row>B719</th><td>22</td><td>141</td></tr>\n",
              "\t<tr><th scope=row>B758</th><td>13</td><td>105</td></tr>\n",
              "\t<tr><th scope=row>B776</th><td>22</td><td>101</td></tr>\n",
              "\t<tr><th scope=row>B799</th><td>16</td><td>145</td></tr>\n",
              "\t<tr><th scope=row>B836</th><td>22</td><td>100</td></tr>\n",
              "\t<tr><th scope=row>B869</th><td>20</td><td>123</td></tr>\n",
              "\t<tr><th scope=row>B907</th><td>25</td><td>120</td></tr>\n",
              "\t<tr><th scope=row>B971</th><td>16</td><td>116</td></tr>\n",
              "</tbody>\n",
              "</table>\n"
            ],
            "text/markdown": "\nA data.frame: 26 × 2\n\n| <!--/--> | Fracture &lt;int&gt; | Hardness &lt;int&gt; |\n|---|---|---|\n| B136 |  9 | 139 |\n| B237 | 16 | 189 |\n| B261 | 17 | 114 |\n| B264 | 26 |  63 |\n| B366 | 15 | 121 |\n| B377 | 18 | 172 |\n| B391 | 11 | 170 |\n| B445 | 20 | 114 |\n| B462 | 17 | 142 |\n| B485 | 13 | 111 |\n| B488 | 10 | 140 |\n| B556 | 14 | 150 |\n| B575 | 27 | 113 |\n| B576 | 20 | 166 |\n| B605 | 15 | 150 |\n| B649 | 19 | 129 |\n| B665 | 18 |  68 |\n| B692 | 28 | 131 |\n| B719 | 22 | 141 |\n| B758 | 13 | 105 |\n| B776 | 22 | 101 |\n| B799 | 16 | 145 |\n| B836 | 22 | 100 |\n| B869 | 20 | 123 |\n| B907 | 25 | 120 |\n| B971 | 16 | 116 |\n\n",
            "text/latex": "A data.frame: 26 × 2\n\\begin{tabular}{r|ll}\n  & Fracture & Hardness\\\\\n  & <int> & <int>\\\\\n\\hline\n\tB136 &  9 & 139\\\\\n\tB237 & 16 & 189\\\\\n\tB261 & 17 & 114\\\\\n\tB264 & 26 &  63\\\\\n\tB366 & 15 & 121\\\\\n\tB377 & 18 & 172\\\\\n\tB391 & 11 & 170\\\\\n\tB445 & 20 & 114\\\\\n\tB462 & 17 & 142\\\\\n\tB485 & 13 & 111\\\\\n\tB488 & 10 & 140\\\\\n\tB556 & 14 & 150\\\\\n\tB575 & 27 & 113\\\\\n\tB576 & 20 & 166\\\\\n\tB605 & 15 & 150\\\\\n\tB649 & 19 & 129\\\\\n\tB665 & 18 &  68\\\\\n\tB692 & 28 & 131\\\\\n\tB719 & 22 & 141\\\\\n\tB758 & 13 & 105\\\\\n\tB776 & 22 & 101\\\\\n\tB799 & 16 & 145\\\\\n\tB836 & 22 & 100\\\\\n\tB869 & 20 & 123\\\\\n\tB907 & 25 & 120\\\\\n\tB971 & 16 & 116\\\\\n\\end{tabular}\n",
            "text/plain": [
              "     Fracture Hardness\n",
              "B136  9       139     \n",
              "B237 16       189     \n",
              "B261 17       114     \n",
              "B264 26        63     \n",
              "B366 15       121     \n",
              "B377 18       172     \n",
              "B391 11       170     \n",
              "B445 20       114     \n",
              "B462 17       142     \n",
              "B485 13       111     \n",
              "B488 10       140     \n",
              "B556 14       150     \n",
              "B575 27       113     \n",
              "B576 20       166     \n",
              "B605 15       150     \n",
              "B649 19       129     \n",
              "B665 18        68     \n",
              "B692 28       131     \n",
              "B719 22       141     \n",
              "B758 13       105     \n",
              "B776 22       101     \n",
              "B799 16       145     \n",
              "B836 22       100     \n",
              "B869 20       123     \n",
              "B907 25       120     \n",
              "B971 16       116     "
            ]
          },
          "metadata": {}
        }
      ],
      "source": [
        "# Accessing Fracture and Hardness columns satisfying given conditions\n",
        "foodData %>% filter(OilPercentage >= 16.5 & Density <= 2900) %>% select(c(Fracture,Hardness))"
      ]
    },
    {
      "cell_type": "code",
      "execution_count": 27,
      "metadata": {
        "colab": {
          "base_uri": "https://localhost:8080/",
          "height": 178
        },
        "id": "h2tiBwyKs0RS",
        "outputId": "d895fb49-15f0-40c8-d80c-725f25c823c8"
      },
      "outputs": [
        {
          "output_type": "display_data",
          "data": {
            "text/html": [
              "<table class=\"dataframe\">\n",
              "<caption>A data.frame: 2 × 1</caption>\n",
              "<thead>\n",
              "\t<tr><th></th><th scope=col>Density</th></tr>\n",
              "\t<tr><th></th><th scope=col>&lt;int&gt;</th></tr>\n",
              "</thead>\n",
              "<tbody>\n",
              "\t<tr><th scope=row>B404</th><td>2930</td></tr>\n",
              "\t<tr><th scope=row>B437</th><td>2770</td></tr>\n",
              "</tbody>\n",
              "</table>\n"
            ],
            "text/markdown": "\nA data.frame: 2 × 1\n\n| <!--/--> | Density &lt;int&gt; |\n|---|---|\n| B404 | 2930 |\n| B437 | 2770 |\n\n",
            "text/latex": "A data.frame: 2 × 1\n\\begin{tabular}{r|l}\n  & Density\\\\\n  & <int>\\\\\n\\hline\n\tB404 & 2930\\\\\n\tB437 & 2770\\\\\n\\end{tabular}\n",
            "text/plain": [
              "     Density\n",
              "B404 2930   \n",
              "B437 2770   "
            ]
          },
          "metadata": {}
        }
      ],
      "source": [
        "# filtering samples with crispy indes 9 or 15 (which are very rare)\n",
        "foodData %>% filter(Crispy == 9 | Crispy == 15) %>% select(c(Density))"
      ]
    },
    {
      "cell_type": "code",
      "execution_count": 28,
      "metadata": {
        "colab": {
          "base_uri": "https://localhost:8080/",
          "height": 178
        },
        "id": "sTrP_XawPkyq",
        "outputId": "079b53e8-43b8-4cbf-e816-3486631bb0b7"
      },
      "outputs": [
        {
          "output_type": "display_data",
          "data": {
            "text/html": [
              "<table class=\"dataframe\">\n",
              "<caption>A data.frame: 2 × 1</caption>\n",
              "<thead>\n",
              "\t<tr><th></th><th scope=col>Density</th></tr>\n",
              "\t<tr><th></th><th scope=col>&lt;int&gt;</th></tr>\n",
              "</thead>\n",
              "<tbody>\n",
              "\t<tr><th scope=row>B404</th><td>2930</td></tr>\n",
              "\t<tr><th scope=row>B437</th><td>2770</td></tr>\n",
              "</tbody>\n",
              "</table>\n"
            ],
            "text/markdown": "\nA data.frame: 2 × 1\n\n| <!--/--> | Density &lt;int&gt; |\n|---|---|\n| B404 | 2930 |\n| B437 | 2770 |\n\n",
            "text/latex": "A data.frame: 2 × 1\n\\begin{tabular}{r|l}\n  & Density\\\\\n  & <int>\\\\\n\\hline\n\tB404 & 2930\\\\\n\tB437 & 2770\\\\\n\\end{tabular}\n",
            "text/plain": [
              "     Density\n",
              "B404 2930   \n",
              "B437 2770   "
            ]
          },
          "metadata": {}
        }
      ],
      "source": [
        "foodData %>% filter(Crispy %in% c(9, 15)) %>% select(Density)"
      ]
    },
    {
      "cell_type": "code",
      "execution_count": 29,
      "metadata": {
        "colab": {
          "base_uri": "https://localhost:8080/",
          "height": 1000
        },
        "id": "P34837cyPk0L",
        "outputId": "9d09ebe8-9173-4f43-d65c-019d585a4ab4"
      },
      "outputs": [
        {
          "output_type": "display_data",
          "data": {
            "text/html": [
              "<table class=\"dataframe\">\n",
              "<caption>A data.frame: 48 × 5</caption>\n",
              "<thead>\n",
              "\t<tr><th></th><th scope=col>OilPercentage</th><th scope=col>Density</th><th scope=col>Crispy</th><th scope=col>Fracture</th><th scope=col>Hardness</th></tr>\n",
              "\t<tr><th></th><th scope=col>&lt;dbl&gt;</th><th scope=col>&lt;int&gt;</th><th scope=col>&lt;int&gt;</th><th scope=col>&lt;int&gt;</th><th scope=col>&lt;int&gt;</th></tr>\n",
              "</thead>\n",
              "<tbody>\n",
              "\t<tr><th scope=row>B110</th><td>16.5</td><td>2955</td><td>10</td><td>23</td><td> 97</td></tr>\n",
              "\t<tr><th scope=row>B136</th><td>17.7</td><td>2660</td><td>14</td><td> 9</td><td>139</td></tr>\n",
              "\t<tr><th scope=row>B171</th><td>16.2</td><td>2870</td><td>12</td><td>17</td><td>143</td></tr>\n",
              "\t<tr><th scope=row>B192</th><td>16.7</td><td>2920</td><td>10</td><td>31</td><td> 95</td></tr>\n",
              "\t<tr><th scope=row>B225</th><td>16.3</td><td>2975</td><td>11</td><td>26</td><td>143</td></tr>\n",
              "\t<tr><th scope=row>B237</th><td>19.1</td><td>2790</td><td>13</td><td>16</td><td>189</td></tr>\n",
              "\t<tr><th scope=row>B261</th><td>18.4</td><td>2750</td><td>13</td><td>17</td><td>114</td></tr>\n",
              "\t<tr><th scope=row>B264</th><td>17.5</td><td>2770</td><td>10</td><td>26</td><td> 63</td></tr>\n",
              "\t<tr><th scope=row>B353</th><td>15.7</td><td>2955</td><td>11</td><td>23</td><td>123</td></tr>\n",
              "\t<tr><th scope=row>B360</th><td>16.4</td><td>2945</td><td>11</td><td>24</td><td>132</td></tr>\n",
              "\t<tr><th scope=row>B366</th><td>18.0</td><td>2830</td><td>12</td><td>15</td><td>121</td></tr>\n",
              "\t<tr><th scope=row>B377</th><td>17.4</td><td>2835</td><td>12</td><td>18</td><td>172</td></tr>\n",
              "\t<tr><th scope=row>B391</th><td>18.4</td><td>2860</td><td>14</td><td>11</td><td>170</td></tr>\n",
              "\t<tr><th scope=row>B397</th><td>13.9</td><td>2965</td><td>12</td><td>19</td><td>169</td></tr>\n",
              "\t<tr><th scope=row>B445</th><td>18.9</td><td>2650</td><td>14</td><td>20</td><td>114</td></tr>\n",
              "\t<tr><th scope=row>B462</th><td>17.3</td><td>2890</td><td>12</td><td>17</td><td>142</td></tr>\n",
              "\t<tr><th scope=row>B485</th><td>16.7</td><td>2695</td><td>13</td><td>13</td><td>111</td></tr>\n",
              "\t<tr><th scope=row>B488</th><td>19.1</td><td>2755</td><td>14</td><td>10</td><td>140</td></tr>\n",
              "\t<tr><th scope=row>B502</th><td>13.7</td><td>3000</td><td>10</td><td>27</td><td>177</td></tr>\n",
              "\t<tr><th scope=row>B554</th><td>14.7</td><td>2980</td><td>10</td><td>20</td><td>133</td></tr>\n",
              "\t<tr><th scope=row>B556</th><td>18.1</td><td>2780</td><td>13</td><td>14</td><td>150</td></tr>\n",
              "\t<tr><th scope=row>B575</th><td>17.2</td><td>2705</td><td> 8</td><td>27</td><td>113</td></tr>\n",
              "\t<tr><th scope=row>B576</th><td>18.7</td><td>2825</td><td>13</td><td>20</td><td>166</td></tr>\n",
              "\t<tr><th scope=row>B605</th><td>18.1</td><td>2875</td><td>12</td><td>15</td><td>150</td></tr>\n",
              "\t<tr><th scope=row>B612</th><td>16.6</td><td>2945</td><td>10</td><td>25</td><td>100</td></tr>\n",
              "\t<tr><th scope=row>B615</th><td>17.1</td><td>2920</td><td>10</td><td>25</td><td>123</td></tr>\n",
              "\t<tr><th scope=row>B649</th><td>17.4</td><td>2845</td><td>13</td><td>19</td><td>129</td></tr>\n",
              "\t<tr><th scope=row>B665</th><td>19.4</td><td>2645</td><td>12</td><td>18</td><td> 68</td></tr>\n",
              "\t<tr><th scope=row>B674</th><td>15.9</td><td>3080</td><td>10</td><td>23</td><td>106</td></tr>\n",
              "\t<tr><th scope=row>B692</th><td>17.1</td><td>2825</td><td>10</td><td>28</td><td>131</td></tr>\n",
              "\t<tr><th scope=row>B694</th><td>15.5</td><td>3125</td><td> 7</td><td>33</td><td> 92</td></tr>\n",
              "\t<tr><th scope=row>B719</th><td>17.7</td><td>2780</td><td>13</td><td>22</td><td>141</td></tr>\n",
              "\t<tr><th scope=row>B727</th><td>15.9</td><td>2900</td><td>12</td><td>21</td><td>192</td></tr>\n",
              "\t<tr><th scope=row>B758</th><td>21.2</td><td>2570</td><td>14</td><td>13</td><td>105</td></tr>\n",
              "\t<tr><th scope=row>B776</th><td>19.5</td><td>2635</td><td>13</td><td>22</td><td>101</td></tr>\n",
              "\t<tr><th scope=row>B799</th><td>20.5</td><td>2725</td><td>14</td><td>16</td><td>145</td></tr>\n",
              "\t<tr><th scope=row>B836</th><td>17.0</td><td>2865</td><td>11</td><td>22</td><td>100</td></tr>\n",
              "\t<tr><th scope=row>B848</th><td>16.7</td><td>2975</td><td>10</td><td>26</td><td>105</td></tr>\n",
              "\t<tr><th scope=row>B861</th><td>16.8</td><td>2980</td><td>10</td><td>24</td><td>144</td></tr>\n",
              "\t<tr><th scope=row>B869</th><td>16.8</td><td>2870</td><td>12</td><td>20</td><td>123</td></tr>\n",
              "\t<tr><th scope=row>B876</th><td>16.3</td><td>2920</td><td>11</td><td>22</td><td>136</td></tr>\n",
              "\t<tr><th scope=row>B882</th><td>16.2</td><td>3100</td><td> 8</td><td>27</td><td>140</td></tr>\n",
              "\t<tr><th scope=row>B889</th><td>18.1</td><td>2910</td><td>12</td><td>21</td><td>120</td></tr>\n",
              "\t<tr><th scope=row>B907</th><td>16.6</td><td>2865</td><td>11</td><td>25</td><td>120</td></tr>\n",
              "\t<tr><th scope=row>B911</th><td>16.4</td><td>2995</td><td>12</td><td>20</td><td>165</td></tr>\n",
              "\t<tr><th scope=row>B923</th><td>15.1</td><td>2925</td><td>10</td><td>29</td><td>118</td></tr>\n",
              "\t<tr><th scope=row>B971</th><td>21.1</td><td>2700</td><td>13</td><td>16</td><td>116</td></tr>\n",
              "\t<tr><th scope=row>B998</th><td>16.3</td><td>2845</td><td>10</td><td>26</td><td> 75</td></tr>\n",
              "</tbody>\n",
              "</table>\n"
            ],
            "text/markdown": "\nA data.frame: 48 × 5\n\n| <!--/--> | OilPercentage &lt;dbl&gt; | Density &lt;int&gt; | Crispy &lt;int&gt; | Fracture &lt;int&gt; | Hardness &lt;int&gt; |\n|---|---|---|---|---|---|\n| B110 | 16.5 | 2955 | 10 | 23 |  97 |\n| B136 | 17.7 | 2660 | 14 |  9 | 139 |\n| B171 | 16.2 | 2870 | 12 | 17 | 143 |\n| B192 | 16.7 | 2920 | 10 | 31 |  95 |\n| B225 | 16.3 | 2975 | 11 | 26 | 143 |\n| B237 | 19.1 | 2790 | 13 | 16 | 189 |\n| B261 | 18.4 | 2750 | 13 | 17 | 114 |\n| B264 | 17.5 | 2770 | 10 | 26 |  63 |\n| B353 | 15.7 | 2955 | 11 | 23 | 123 |\n| B360 | 16.4 | 2945 | 11 | 24 | 132 |\n| B366 | 18.0 | 2830 | 12 | 15 | 121 |\n| B377 | 17.4 | 2835 | 12 | 18 | 172 |\n| B391 | 18.4 | 2860 | 14 | 11 | 170 |\n| B397 | 13.9 | 2965 | 12 | 19 | 169 |\n| B445 | 18.9 | 2650 | 14 | 20 | 114 |\n| B462 | 17.3 | 2890 | 12 | 17 | 142 |\n| B485 | 16.7 | 2695 | 13 | 13 | 111 |\n| B488 | 19.1 | 2755 | 14 | 10 | 140 |\n| B502 | 13.7 | 3000 | 10 | 27 | 177 |\n| B554 | 14.7 | 2980 | 10 | 20 | 133 |\n| B556 | 18.1 | 2780 | 13 | 14 | 150 |\n| B575 | 17.2 | 2705 |  8 | 27 | 113 |\n| B576 | 18.7 | 2825 | 13 | 20 | 166 |\n| B605 | 18.1 | 2875 | 12 | 15 | 150 |\n| B612 | 16.6 | 2945 | 10 | 25 | 100 |\n| B615 | 17.1 | 2920 | 10 | 25 | 123 |\n| B649 | 17.4 | 2845 | 13 | 19 | 129 |\n| B665 | 19.4 | 2645 | 12 | 18 |  68 |\n| B674 | 15.9 | 3080 | 10 | 23 | 106 |\n| B692 | 17.1 | 2825 | 10 | 28 | 131 |\n| B694 | 15.5 | 3125 |  7 | 33 |  92 |\n| B719 | 17.7 | 2780 | 13 | 22 | 141 |\n| B727 | 15.9 | 2900 | 12 | 21 | 192 |\n| B758 | 21.2 | 2570 | 14 | 13 | 105 |\n| B776 | 19.5 | 2635 | 13 | 22 | 101 |\n| B799 | 20.5 | 2725 | 14 | 16 | 145 |\n| B836 | 17.0 | 2865 | 11 | 22 | 100 |\n| B848 | 16.7 | 2975 | 10 | 26 | 105 |\n| B861 | 16.8 | 2980 | 10 | 24 | 144 |\n| B869 | 16.8 | 2870 | 12 | 20 | 123 |\n| B876 | 16.3 | 2920 | 11 | 22 | 136 |\n| B882 | 16.2 | 3100 |  8 | 27 | 140 |\n| B889 | 18.1 | 2910 | 12 | 21 | 120 |\n| B907 | 16.6 | 2865 | 11 | 25 | 120 |\n| B911 | 16.4 | 2995 | 12 | 20 | 165 |\n| B923 | 15.1 | 2925 | 10 | 29 | 118 |\n| B971 | 21.1 | 2700 | 13 | 16 | 116 |\n| B998 | 16.3 | 2845 | 10 | 26 |  75 |\n\n",
            "text/latex": "A data.frame: 48 × 5\n\\begin{tabular}{r|lllll}\n  & OilPercentage & Density & Crispy & Fracture & Hardness\\\\\n  & <dbl> & <int> & <int> & <int> & <int>\\\\\n\\hline\n\tB110 & 16.5 & 2955 & 10 & 23 &  97\\\\\n\tB136 & 17.7 & 2660 & 14 &  9 & 139\\\\\n\tB171 & 16.2 & 2870 & 12 & 17 & 143\\\\\n\tB192 & 16.7 & 2920 & 10 & 31 &  95\\\\\n\tB225 & 16.3 & 2975 & 11 & 26 & 143\\\\\n\tB237 & 19.1 & 2790 & 13 & 16 & 189\\\\\n\tB261 & 18.4 & 2750 & 13 & 17 & 114\\\\\n\tB264 & 17.5 & 2770 & 10 & 26 &  63\\\\\n\tB353 & 15.7 & 2955 & 11 & 23 & 123\\\\\n\tB360 & 16.4 & 2945 & 11 & 24 & 132\\\\\n\tB366 & 18.0 & 2830 & 12 & 15 & 121\\\\\n\tB377 & 17.4 & 2835 & 12 & 18 & 172\\\\\n\tB391 & 18.4 & 2860 & 14 & 11 & 170\\\\\n\tB397 & 13.9 & 2965 & 12 & 19 & 169\\\\\n\tB445 & 18.9 & 2650 & 14 & 20 & 114\\\\\n\tB462 & 17.3 & 2890 & 12 & 17 & 142\\\\\n\tB485 & 16.7 & 2695 & 13 & 13 & 111\\\\\n\tB488 & 19.1 & 2755 & 14 & 10 & 140\\\\\n\tB502 & 13.7 & 3000 & 10 & 27 & 177\\\\\n\tB554 & 14.7 & 2980 & 10 & 20 & 133\\\\\n\tB556 & 18.1 & 2780 & 13 & 14 & 150\\\\\n\tB575 & 17.2 & 2705 &  8 & 27 & 113\\\\\n\tB576 & 18.7 & 2825 & 13 & 20 & 166\\\\\n\tB605 & 18.1 & 2875 & 12 & 15 & 150\\\\\n\tB612 & 16.6 & 2945 & 10 & 25 & 100\\\\\n\tB615 & 17.1 & 2920 & 10 & 25 & 123\\\\\n\tB649 & 17.4 & 2845 & 13 & 19 & 129\\\\\n\tB665 & 19.4 & 2645 & 12 & 18 &  68\\\\\n\tB674 & 15.9 & 3080 & 10 & 23 & 106\\\\\n\tB692 & 17.1 & 2825 & 10 & 28 & 131\\\\\n\tB694 & 15.5 & 3125 &  7 & 33 &  92\\\\\n\tB719 & 17.7 & 2780 & 13 & 22 & 141\\\\\n\tB727 & 15.9 & 2900 & 12 & 21 & 192\\\\\n\tB758 & 21.2 & 2570 & 14 & 13 & 105\\\\\n\tB776 & 19.5 & 2635 & 13 & 22 & 101\\\\\n\tB799 & 20.5 & 2725 & 14 & 16 & 145\\\\\n\tB836 & 17.0 & 2865 & 11 & 22 & 100\\\\\n\tB848 & 16.7 & 2975 & 10 & 26 & 105\\\\\n\tB861 & 16.8 & 2980 & 10 & 24 & 144\\\\\n\tB869 & 16.8 & 2870 & 12 & 20 & 123\\\\\n\tB876 & 16.3 & 2920 & 11 & 22 & 136\\\\\n\tB882 & 16.2 & 3100 &  8 & 27 & 140\\\\\n\tB889 & 18.1 & 2910 & 12 & 21 & 120\\\\\n\tB907 & 16.6 & 2865 & 11 & 25 & 120\\\\\n\tB911 & 16.4 & 2995 & 12 & 20 & 165\\\\\n\tB923 & 15.1 & 2925 & 10 & 29 & 118\\\\\n\tB971 & 21.1 & 2700 & 13 & 16 & 116\\\\\n\tB998 & 16.3 & 2845 & 10 & 26 &  75\\\\\n\\end{tabular}\n",
            "text/plain": [
              "     OilPercentage Density Crispy Fracture Hardness\n",
              "B110 16.5          2955    10     23        97     \n",
              "B136 17.7          2660    14      9       139     \n",
              "B171 16.2          2870    12     17       143     \n",
              "B192 16.7          2920    10     31        95     \n",
              "B225 16.3          2975    11     26       143     \n",
              "B237 19.1          2790    13     16       189     \n",
              "B261 18.4          2750    13     17       114     \n",
              "B264 17.5          2770    10     26        63     \n",
              "B353 15.7          2955    11     23       123     \n",
              "B360 16.4          2945    11     24       132     \n",
              "B366 18.0          2830    12     15       121     \n",
              "B377 17.4          2835    12     18       172     \n",
              "B391 18.4          2860    14     11       170     \n",
              "B397 13.9          2965    12     19       169     \n",
              "B445 18.9          2650    14     20       114     \n",
              "B462 17.3          2890    12     17       142     \n",
              "B485 16.7          2695    13     13       111     \n",
              "B488 19.1          2755    14     10       140     \n",
              "B502 13.7          3000    10     27       177     \n",
              "B554 14.7          2980    10     20       133     \n",
              "B556 18.1          2780    13     14       150     \n",
              "B575 17.2          2705     8     27       113     \n",
              "B576 18.7          2825    13     20       166     \n",
              "B605 18.1          2875    12     15       150     \n",
              "B612 16.6          2945    10     25       100     \n",
              "B615 17.1          2920    10     25       123     \n",
              "B649 17.4          2845    13     19       129     \n",
              "B665 19.4          2645    12     18        68     \n",
              "B674 15.9          3080    10     23       106     \n",
              "B692 17.1          2825    10     28       131     \n",
              "B694 15.5          3125     7     33        92     \n",
              "B719 17.7          2780    13     22       141     \n",
              "B727 15.9          2900    12     21       192     \n",
              "B758 21.2          2570    14     13       105     \n",
              "B776 19.5          2635    13     22       101     \n",
              "B799 20.5          2725    14     16       145     \n",
              "B836 17.0          2865    11     22       100     \n",
              "B848 16.7          2975    10     26       105     \n",
              "B861 16.8          2980    10     24       144     \n",
              "B869 16.8          2870    12     20       123     \n",
              "B876 16.3          2920    11     22       136     \n",
              "B882 16.2          3100     8     27       140     \n",
              "B889 18.1          2910    12     21       120     \n",
              "B907 16.6          2865    11     25       120     \n",
              "B911 16.4          2995    12     20       165     \n",
              "B923 15.1          2925    10     29       118     \n",
              "B971 21.1          2700    13     16       116     \n",
              "B998 16.3          2845    10     26        75     "
            ]
          },
          "metadata": {}
        }
      ],
      "source": [
        "foodData %>% filter(!(Crispy %in% c(9,15)))"
      ]
    },
    {
      "cell_type": "markdown",
      "metadata": {
        "id": "CBXusZ9LxBx5"
      },
      "source": [
        "Modifying a column of a dataframe"
      ]
    },
    {
      "cell_type": "code",
      "execution_count": 30,
      "metadata": {
        "colab": {
          "base_uri": "https://localhost:8080/",
          "height": 1000
        },
        "id": "6kSmiSldPk4N",
        "outputId": "bc247f58-ea09-4be6-ef02-00cd71dc2b1d"
      },
      "outputs": [
        {
          "output_type": "display_data",
          "data": {
            "text/html": [
              "<table class=\"dataframe\">\n",
              "<caption>A data.frame: 50 × 5</caption>\n",
              "<thead>\n",
              "\t<tr><th></th><th scope=col>OilPercentage</th><th scope=col>Density</th><th scope=col>Crispy</th><th scope=col>Fracture</th><th scope=col>Hardness</th></tr>\n",
              "\t<tr><th></th><th scope=col>&lt;dbl&gt;</th><th scope=col>&lt;dbl&gt;</th><th scope=col>&lt;int&gt;</th><th scope=col>&lt;int&gt;</th><th scope=col>&lt;int&gt;</th></tr>\n",
              "</thead>\n",
              "<tbody>\n",
              "\t<tr><th scope=row>B110</th><td>16.5</td><td>2.955e-06</td><td>10</td><td>23</td><td> 97</td></tr>\n",
              "\t<tr><th scope=row>B136</th><td>17.7</td><td>2.660e-06</td><td>14</td><td> 9</td><td>139</td></tr>\n",
              "\t<tr><th scope=row>B171</th><td>16.2</td><td>2.870e-06</td><td>12</td><td>17</td><td>143</td></tr>\n",
              "\t<tr><th scope=row>B192</th><td>16.7</td><td>2.920e-06</td><td>10</td><td>31</td><td> 95</td></tr>\n",
              "\t<tr><th scope=row>B225</th><td>16.3</td><td>2.975e-06</td><td>11</td><td>26</td><td>143</td></tr>\n",
              "\t<tr><th scope=row>B237</th><td>19.1</td><td>2.790e-06</td><td>13</td><td>16</td><td>189</td></tr>\n",
              "\t<tr><th scope=row>B261</th><td>18.4</td><td>2.750e-06</td><td>13</td><td>17</td><td>114</td></tr>\n",
              "\t<tr><th scope=row>B264</th><td>17.5</td><td>2.770e-06</td><td>10</td><td>26</td><td> 63</td></tr>\n",
              "\t<tr><th scope=row>B353</th><td>15.7</td><td>2.955e-06</td><td>11</td><td>23</td><td>123</td></tr>\n",
              "\t<tr><th scope=row>B360</th><td>16.4</td><td>2.945e-06</td><td>11</td><td>24</td><td>132</td></tr>\n",
              "\t<tr><th scope=row>B366</th><td>18.0</td><td>2.830e-06</td><td>12</td><td>15</td><td>121</td></tr>\n",
              "\t<tr><th scope=row>B377</th><td>17.4</td><td>2.835e-06</td><td>12</td><td>18</td><td>172</td></tr>\n",
              "\t<tr><th scope=row>B391</th><td>18.4</td><td>2.860e-06</td><td>14</td><td>11</td><td>170</td></tr>\n",
              "\t<tr><th scope=row>B397</th><td>13.9</td><td>2.965e-06</td><td>12</td><td>19</td><td>169</td></tr>\n",
              "\t<tr><th scope=row>B404</th><td>15.8</td><td>2.930e-06</td><td> 9</td><td>26</td><td> 65</td></tr>\n",
              "\t<tr><th scope=row>B437</th><td>16.4</td><td>2.770e-06</td><td>15</td><td>16</td><td>183</td></tr>\n",
              "\t<tr><th scope=row>B445</th><td>18.9</td><td>2.650e-06</td><td>14</td><td>20</td><td>114</td></tr>\n",
              "\t<tr><th scope=row>B462</th><td>17.3</td><td>2.890e-06</td><td>12</td><td>17</td><td>142</td></tr>\n",
              "\t<tr><th scope=row>B485</th><td>16.7</td><td>2.695e-06</td><td>13</td><td>13</td><td>111</td></tr>\n",
              "\t<tr><th scope=row>B488</th><td>19.1</td><td>2.755e-06</td><td>14</td><td>10</td><td>140</td></tr>\n",
              "\t<tr><th scope=row>B502</th><td>13.7</td><td>3.000e-06</td><td>10</td><td>27</td><td>177</td></tr>\n",
              "\t<tr><th scope=row>B554</th><td>14.7</td><td>2.980e-06</td><td>10</td><td>20</td><td>133</td></tr>\n",
              "\t<tr><th scope=row>B556</th><td>18.1</td><td>2.780e-06</td><td>13</td><td>14</td><td>150</td></tr>\n",
              "\t<tr><th scope=row>B575</th><td>17.2</td><td>2.705e-06</td><td> 8</td><td>27</td><td>113</td></tr>\n",
              "\t<tr><th scope=row>B576</th><td>18.7</td><td>2.825e-06</td><td>13</td><td>20</td><td>166</td></tr>\n",
              "\t<tr><th scope=row>B605</th><td>18.1</td><td>2.875e-06</td><td>12</td><td>15</td><td>150</td></tr>\n",
              "\t<tr><th scope=row>B612</th><td>16.6</td><td>2.945e-06</td><td>10</td><td>25</td><td>100</td></tr>\n",
              "\t<tr><th scope=row>B615</th><td>17.1</td><td>2.920e-06</td><td>10</td><td>25</td><td>123</td></tr>\n",
              "\t<tr><th scope=row>B649</th><td>17.4</td><td>2.845e-06</td><td>13</td><td>19</td><td>129</td></tr>\n",
              "\t<tr><th scope=row>B665</th><td>19.4</td><td>2.645e-06</td><td>12</td><td>18</td><td> 68</td></tr>\n",
              "\t<tr><th scope=row>B674</th><td>15.9</td><td>3.080e-06</td><td>10</td><td>23</td><td>106</td></tr>\n",
              "\t<tr><th scope=row>B692</th><td>17.1</td><td>2.825e-06</td><td>10</td><td>28</td><td>131</td></tr>\n",
              "\t<tr><th scope=row>B694</th><td>15.5</td><td>3.125e-06</td><td> 7</td><td>33</td><td> 92</td></tr>\n",
              "\t<tr><th scope=row>B719</th><td>17.7</td><td>2.780e-06</td><td>13</td><td>22</td><td>141</td></tr>\n",
              "\t<tr><th scope=row>B727</th><td>15.9</td><td>2.900e-06</td><td>12</td><td>21</td><td>192</td></tr>\n",
              "\t<tr><th scope=row>B758</th><td>21.2</td><td>2.570e-06</td><td>14</td><td>13</td><td>105</td></tr>\n",
              "\t<tr><th scope=row>B776</th><td>19.5</td><td>2.635e-06</td><td>13</td><td>22</td><td>101</td></tr>\n",
              "\t<tr><th scope=row>B799</th><td>20.5</td><td>2.725e-06</td><td>14</td><td>16</td><td>145</td></tr>\n",
              "\t<tr><th scope=row>B836</th><td>17.0</td><td>2.865e-06</td><td>11</td><td>22</td><td>100</td></tr>\n",
              "\t<tr><th scope=row>B848</th><td>16.7</td><td>2.975e-06</td><td>10</td><td>26</td><td>105</td></tr>\n",
              "\t<tr><th scope=row>B861</th><td>16.8</td><td>2.980e-06</td><td>10</td><td>24</td><td>144</td></tr>\n",
              "\t<tr><th scope=row>B869</th><td>16.8</td><td>2.870e-06</td><td>12</td><td>20</td><td>123</td></tr>\n",
              "\t<tr><th scope=row>B876</th><td>16.3</td><td>2.920e-06</td><td>11</td><td>22</td><td>136</td></tr>\n",
              "\t<tr><th scope=row>B882</th><td>16.2</td><td>3.100e-06</td><td> 8</td><td>27</td><td>140</td></tr>\n",
              "\t<tr><th scope=row>B889</th><td>18.1</td><td>2.910e-06</td><td>12</td><td>21</td><td>120</td></tr>\n",
              "\t<tr><th scope=row>B907</th><td>16.6</td><td>2.865e-06</td><td>11</td><td>25</td><td>120</td></tr>\n",
              "\t<tr><th scope=row>B911</th><td>16.4</td><td>2.995e-06</td><td>12</td><td>20</td><td>165</td></tr>\n",
              "\t<tr><th scope=row>B923</th><td>15.1</td><td>2.925e-06</td><td>10</td><td>29</td><td>118</td></tr>\n",
              "\t<tr><th scope=row>B971</th><td>21.1</td><td>2.700e-06</td><td>13</td><td>16</td><td>116</td></tr>\n",
              "\t<tr><th scope=row>B998</th><td>16.3</td><td>2.845e-06</td><td>10</td><td>26</td><td> 75</td></tr>\n",
              "</tbody>\n",
              "</table>\n"
            ],
            "text/markdown": "\nA data.frame: 50 × 5\n\n| <!--/--> | OilPercentage &lt;dbl&gt; | Density &lt;dbl&gt; | Crispy &lt;int&gt; | Fracture &lt;int&gt; | Hardness &lt;int&gt; |\n|---|---|---|---|---|---|\n| B110 | 16.5 | 2.955e-06 | 10 | 23 |  97 |\n| B136 | 17.7 | 2.660e-06 | 14 |  9 | 139 |\n| B171 | 16.2 | 2.870e-06 | 12 | 17 | 143 |\n| B192 | 16.7 | 2.920e-06 | 10 | 31 |  95 |\n| B225 | 16.3 | 2.975e-06 | 11 | 26 | 143 |\n| B237 | 19.1 | 2.790e-06 | 13 | 16 | 189 |\n| B261 | 18.4 | 2.750e-06 | 13 | 17 | 114 |\n| B264 | 17.5 | 2.770e-06 | 10 | 26 |  63 |\n| B353 | 15.7 | 2.955e-06 | 11 | 23 | 123 |\n| B360 | 16.4 | 2.945e-06 | 11 | 24 | 132 |\n| B366 | 18.0 | 2.830e-06 | 12 | 15 | 121 |\n| B377 | 17.4 | 2.835e-06 | 12 | 18 | 172 |\n| B391 | 18.4 | 2.860e-06 | 14 | 11 | 170 |\n| B397 | 13.9 | 2.965e-06 | 12 | 19 | 169 |\n| B404 | 15.8 | 2.930e-06 |  9 | 26 |  65 |\n| B437 | 16.4 | 2.770e-06 | 15 | 16 | 183 |\n| B445 | 18.9 | 2.650e-06 | 14 | 20 | 114 |\n| B462 | 17.3 | 2.890e-06 | 12 | 17 | 142 |\n| B485 | 16.7 | 2.695e-06 | 13 | 13 | 111 |\n| B488 | 19.1 | 2.755e-06 | 14 | 10 | 140 |\n| B502 | 13.7 | 3.000e-06 | 10 | 27 | 177 |\n| B554 | 14.7 | 2.980e-06 | 10 | 20 | 133 |\n| B556 | 18.1 | 2.780e-06 | 13 | 14 | 150 |\n| B575 | 17.2 | 2.705e-06 |  8 | 27 | 113 |\n| B576 | 18.7 | 2.825e-06 | 13 | 20 | 166 |\n| B605 | 18.1 | 2.875e-06 | 12 | 15 | 150 |\n| B612 | 16.6 | 2.945e-06 | 10 | 25 | 100 |\n| B615 | 17.1 | 2.920e-06 | 10 | 25 | 123 |\n| B649 | 17.4 | 2.845e-06 | 13 | 19 | 129 |\n| B665 | 19.4 | 2.645e-06 | 12 | 18 |  68 |\n| B674 | 15.9 | 3.080e-06 | 10 | 23 | 106 |\n| B692 | 17.1 | 2.825e-06 | 10 | 28 | 131 |\n| B694 | 15.5 | 3.125e-06 |  7 | 33 |  92 |\n| B719 | 17.7 | 2.780e-06 | 13 | 22 | 141 |\n| B727 | 15.9 | 2.900e-06 | 12 | 21 | 192 |\n| B758 | 21.2 | 2.570e-06 | 14 | 13 | 105 |\n| B776 | 19.5 | 2.635e-06 | 13 | 22 | 101 |\n| B799 | 20.5 | 2.725e-06 | 14 | 16 | 145 |\n| B836 | 17.0 | 2.865e-06 | 11 | 22 | 100 |\n| B848 | 16.7 | 2.975e-06 | 10 | 26 | 105 |\n| B861 | 16.8 | 2.980e-06 | 10 | 24 | 144 |\n| B869 | 16.8 | 2.870e-06 | 12 | 20 | 123 |\n| B876 | 16.3 | 2.920e-06 | 11 | 22 | 136 |\n| B882 | 16.2 | 3.100e-06 |  8 | 27 | 140 |\n| B889 | 18.1 | 2.910e-06 | 12 | 21 | 120 |\n| B907 | 16.6 | 2.865e-06 | 11 | 25 | 120 |\n| B911 | 16.4 | 2.995e-06 | 12 | 20 | 165 |\n| B923 | 15.1 | 2.925e-06 | 10 | 29 | 118 |\n| B971 | 21.1 | 2.700e-06 | 13 | 16 | 116 |\n| B998 | 16.3 | 2.845e-06 | 10 | 26 |  75 |\n\n",
            "text/latex": "A data.frame: 50 × 5\n\\begin{tabular}{r|lllll}\n  & OilPercentage & Density & Crispy & Fracture & Hardness\\\\\n  & <dbl> & <dbl> & <int> & <int> & <int>\\\\\n\\hline\n\tB110 & 16.5 & 2.955e-06 & 10 & 23 &  97\\\\\n\tB136 & 17.7 & 2.660e-06 & 14 &  9 & 139\\\\\n\tB171 & 16.2 & 2.870e-06 & 12 & 17 & 143\\\\\n\tB192 & 16.7 & 2.920e-06 & 10 & 31 &  95\\\\\n\tB225 & 16.3 & 2.975e-06 & 11 & 26 & 143\\\\\n\tB237 & 19.1 & 2.790e-06 & 13 & 16 & 189\\\\\n\tB261 & 18.4 & 2.750e-06 & 13 & 17 & 114\\\\\n\tB264 & 17.5 & 2.770e-06 & 10 & 26 &  63\\\\\n\tB353 & 15.7 & 2.955e-06 & 11 & 23 & 123\\\\\n\tB360 & 16.4 & 2.945e-06 & 11 & 24 & 132\\\\\n\tB366 & 18.0 & 2.830e-06 & 12 & 15 & 121\\\\\n\tB377 & 17.4 & 2.835e-06 & 12 & 18 & 172\\\\\n\tB391 & 18.4 & 2.860e-06 & 14 & 11 & 170\\\\\n\tB397 & 13.9 & 2.965e-06 & 12 & 19 & 169\\\\\n\tB404 & 15.8 & 2.930e-06 &  9 & 26 &  65\\\\\n\tB437 & 16.4 & 2.770e-06 & 15 & 16 & 183\\\\\n\tB445 & 18.9 & 2.650e-06 & 14 & 20 & 114\\\\\n\tB462 & 17.3 & 2.890e-06 & 12 & 17 & 142\\\\\n\tB485 & 16.7 & 2.695e-06 & 13 & 13 & 111\\\\\n\tB488 & 19.1 & 2.755e-06 & 14 & 10 & 140\\\\\n\tB502 & 13.7 & 3.000e-06 & 10 & 27 & 177\\\\\n\tB554 & 14.7 & 2.980e-06 & 10 & 20 & 133\\\\\n\tB556 & 18.1 & 2.780e-06 & 13 & 14 & 150\\\\\n\tB575 & 17.2 & 2.705e-06 &  8 & 27 & 113\\\\\n\tB576 & 18.7 & 2.825e-06 & 13 & 20 & 166\\\\\n\tB605 & 18.1 & 2.875e-06 & 12 & 15 & 150\\\\\n\tB612 & 16.6 & 2.945e-06 & 10 & 25 & 100\\\\\n\tB615 & 17.1 & 2.920e-06 & 10 & 25 & 123\\\\\n\tB649 & 17.4 & 2.845e-06 & 13 & 19 & 129\\\\\n\tB665 & 19.4 & 2.645e-06 & 12 & 18 &  68\\\\\n\tB674 & 15.9 & 3.080e-06 & 10 & 23 & 106\\\\\n\tB692 & 17.1 & 2.825e-06 & 10 & 28 & 131\\\\\n\tB694 & 15.5 & 3.125e-06 &  7 & 33 &  92\\\\\n\tB719 & 17.7 & 2.780e-06 & 13 & 22 & 141\\\\\n\tB727 & 15.9 & 2.900e-06 & 12 & 21 & 192\\\\\n\tB758 & 21.2 & 2.570e-06 & 14 & 13 & 105\\\\\n\tB776 & 19.5 & 2.635e-06 & 13 & 22 & 101\\\\\n\tB799 & 20.5 & 2.725e-06 & 14 & 16 & 145\\\\\n\tB836 & 17.0 & 2.865e-06 & 11 & 22 & 100\\\\\n\tB848 & 16.7 & 2.975e-06 & 10 & 26 & 105\\\\\n\tB861 & 16.8 & 2.980e-06 & 10 & 24 & 144\\\\\n\tB869 & 16.8 & 2.870e-06 & 12 & 20 & 123\\\\\n\tB876 & 16.3 & 2.920e-06 & 11 & 22 & 136\\\\\n\tB882 & 16.2 & 3.100e-06 &  8 & 27 & 140\\\\\n\tB889 & 18.1 & 2.910e-06 & 12 & 21 & 120\\\\\n\tB907 & 16.6 & 2.865e-06 & 11 & 25 & 120\\\\\n\tB911 & 16.4 & 2.995e-06 & 12 & 20 & 165\\\\\n\tB923 & 15.1 & 2.925e-06 & 10 & 29 & 118\\\\\n\tB971 & 21.1 & 2.700e-06 & 13 & 16 & 116\\\\\n\tB998 & 16.3 & 2.845e-06 & 10 & 26 &  75\\\\\n\\end{tabular}\n",
            "text/plain": [
              "     OilPercentage Density   Crispy Fracture Hardness\n",
              "B110 16.5          2.955e-06 10     23        97     \n",
              "B136 17.7          2.660e-06 14      9       139     \n",
              "B171 16.2          2.870e-06 12     17       143     \n",
              "B192 16.7          2.920e-06 10     31        95     \n",
              "B225 16.3          2.975e-06 11     26       143     \n",
              "B237 19.1          2.790e-06 13     16       189     \n",
              "B261 18.4          2.750e-06 13     17       114     \n",
              "B264 17.5          2.770e-06 10     26        63     \n",
              "B353 15.7          2.955e-06 11     23       123     \n",
              "B360 16.4          2.945e-06 11     24       132     \n",
              "B366 18.0          2.830e-06 12     15       121     \n",
              "B377 17.4          2.835e-06 12     18       172     \n",
              "B391 18.4          2.860e-06 14     11       170     \n",
              "B397 13.9          2.965e-06 12     19       169     \n",
              "B404 15.8          2.930e-06  9     26        65     \n",
              "B437 16.4          2.770e-06 15     16       183     \n",
              "B445 18.9          2.650e-06 14     20       114     \n",
              "B462 17.3          2.890e-06 12     17       142     \n",
              "B485 16.7          2.695e-06 13     13       111     \n",
              "B488 19.1          2.755e-06 14     10       140     \n",
              "B502 13.7          3.000e-06 10     27       177     \n",
              "B554 14.7          2.980e-06 10     20       133     \n",
              "B556 18.1          2.780e-06 13     14       150     \n",
              "B575 17.2          2.705e-06  8     27       113     \n",
              "B576 18.7          2.825e-06 13     20       166     \n",
              "B605 18.1          2.875e-06 12     15       150     \n",
              "B612 16.6          2.945e-06 10     25       100     \n",
              "B615 17.1          2.920e-06 10     25       123     \n",
              "B649 17.4          2.845e-06 13     19       129     \n",
              "B665 19.4          2.645e-06 12     18        68     \n",
              "B674 15.9          3.080e-06 10     23       106     \n",
              "B692 17.1          2.825e-06 10     28       131     \n",
              "B694 15.5          3.125e-06  7     33        92     \n",
              "B719 17.7          2.780e-06 13     22       141     \n",
              "B727 15.9          2.900e-06 12     21       192     \n",
              "B758 21.2          2.570e-06 14     13       105     \n",
              "B776 19.5          2.635e-06 13     22       101     \n",
              "B799 20.5          2.725e-06 14     16       145     \n",
              "B836 17.0          2.865e-06 11     22       100     \n",
              "B848 16.7          2.975e-06 10     26       105     \n",
              "B861 16.8          2.980e-06 10     24       144     \n",
              "B869 16.8          2.870e-06 12     20       123     \n",
              "B876 16.3          2.920e-06 11     22       136     \n",
              "B882 16.2          3.100e-06  8     27       140     \n",
              "B889 18.1          2.910e-06 12     21       120     \n",
              "B907 16.6          2.865e-06 11     25       120     \n",
              "B911 16.4          2.995e-06 12     20       165     \n",
              "B923 15.1          2.925e-06 10     29       118     \n",
              "B971 21.1          2.700e-06 13     16       116     \n",
              "B998 16.3          2.845e-06 10     26        75     "
            ]
          },
          "metadata": {}
        }
      ],
      "source": [
        "# converting kgs/m to kg/cm in the Density column\n",
        "foodData %>% mutate(Density = Density * 1e-9)"
      ]
    },
    {
      "cell_type": "code",
      "execution_count": 31,
      "metadata": {
        "colab": {
          "base_uri": "https://localhost:8080/",
          "height": 1000
        },
        "id": "s3gbptSDPk50",
        "outputId": "919d082c-37f3-44ec-c987-5d9c52e8d8cb"
      },
      "outputs": [
        {
          "output_type": "display_data",
          "data": {
            "text/html": [
              "<table class=\"dataframe\">\n",
              "<caption>A data.frame: 50 × 6</caption>\n",
              "<thead>\n",
              "\t<tr><th></th><th scope=col>OilPercentage</th><th scope=col>Density</th><th scope=col>Crispy</th><th scope=col>Fracture</th><th scope=col>Hardness</th><th scope=col>Densitylevel</th></tr>\n",
              "\t<tr><th></th><th scope=col>&lt;dbl&gt;</th><th scope=col>&lt;int&gt;</th><th scope=col>&lt;int&gt;</th><th scope=col>&lt;int&gt;</th><th scope=col>&lt;int&gt;</th><th scope=col>&lt;chr&gt;</th></tr>\n",
              "</thead>\n",
              "<tbody>\n",
              "\t<tr><th scope=row>B110</th><td>16.5</td><td>2955</td><td>10</td><td>23</td><td> 97</td><td>High</td></tr>\n",
              "\t<tr><th scope=row>B136</th><td>17.7</td><td>2660</td><td>14</td><td> 9</td><td>139</td><td>Low </td></tr>\n",
              "\t<tr><th scope=row>B171</th><td>16.2</td><td>2870</td><td>12</td><td>17</td><td>143</td><td>High</td></tr>\n",
              "\t<tr><th scope=row>B192</th><td>16.7</td><td>2920</td><td>10</td><td>31</td><td> 95</td><td>High</td></tr>\n",
              "\t<tr><th scope=row>B225</th><td>16.3</td><td>2975</td><td>11</td><td>26</td><td>143</td><td>High</td></tr>\n",
              "\t<tr><th scope=row>B237</th><td>19.1</td><td>2790</td><td>13</td><td>16</td><td>189</td><td>Low </td></tr>\n",
              "\t<tr><th scope=row>B261</th><td>18.4</td><td>2750</td><td>13</td><td>17</td><td>114</td><td>Low </td></tr>\n",
              "\t<tr><th scope=row>B264</th><td>17.5</td><td>2770</td><td>10</td><td>26</td><td> 63</td><td>Low </td></tr>\n",
              "\t<tr><th scope=row>B353</th><td>15.7</td><td>2955</td><td>11</td><td>23</td><td>123</td><td>High</td></tr>\n",
              "\t<tr><th scope=row>B360</th><td>16.4</td><td>2945</td><td>11</td><td>24</td><td>132</td><td>High</td></tr>\n",
              "\t<tr><th scope=row>B366</th><td>18.0</td><td>2830</td><td>12</td><td>15</td><td>121</td><td>Low </td></tr>\n",
              "\t<tr><th scope=row>B377</th><td>17.4</td><td>2835</td><td>12</td><td>18</td><td>172</td><td>Low </td></tr>\n",
              "\t<tr><th scope=row>B391</th><td>18.4</td><td>2860</td><td>14</td><td>11</td><td>170</td><td>High</td></tr>\n",
              "\t<tr><th scope=row>B397</th><td>13.9</td><td>2965</td><td>12</td><td>19</td><td>169</td><td>High</td></tr>\n",
              "\t<tr><th scope=row>B404</th><td>15.8</td><td>2930</td><td> 9</td><td>26</td><td> 65</td><td>High</td></tr>\n",
              "\t<tr><th scope=row>B437</th><td>16.4</td><td>2770</td><td>15</td><td>16</td><td>183</td><td>Low </td></tr>\n",
              "\t<tr><th scope=row>B445</th><td>18.9</td><td>2650</td><td>14</td><td>20</td><td>114</td><td>Low </td></tr>\n",
              "\t<tr><th scope=row>B462</th><td>17.3</td><td>2890</td><td>12</td><td>17</td><td>142</td><td>High</td></tr>\n",
              "\t<tr><th scope=row>B485</th><td>16.7</td><td>2695</td><td>13</td><td>13</td><td>111</td><td>Low </td></tr>\n",
              "\t<tr><th scope=row>B488</th><td>19.1</td><td>2755</td><td>14</td><td>10</td><td>140</td><td>Low </td></tr>\n",
              "\t<tr><th scope=row>B502</th><td>13.7</td><td>3000</td><td>10</td><td>27</td><td>177</td><td>High</td></tr>\n",
              "\t<tr><th scope=row>B554</th><td>14.7</td><td>2980</td><td>10</td><td>20</td><td>133</td><td>High</td></tr>\n",
              "\t<tr><th scope=row>B556</th><td>18.1</td><td>2780</td><td>13</td><td>14</td><td>150</td><td>Low </td></tr>\n",
              "\t<tr><th scope=row>B575</th><td>17.2</td><td>2705</td><td> 8</td><td>27</td><td>113</td><td>Low </td></tr>\n",
              "\t<tr><th scope=row>B576</th><td>18.7</td><td>2825</td><td>13</td><td>20</td><td>166</td><td>Low </td></tr>\n",
              "\t<tr><th scope=row>B605</th><td>18.1</td><td>2875</td><td>12</td><td>15</td><td>150</td><td>High</td></tr>\n",
              "\t<tr><th scope=row>B612</th><td>16.6</td><td>2945</td><td>10</td><td>25</td><td>100</td><td>High</td></tr>\n",
              "\t<tr><th scope=row>B615</th><td>17.1</td><td>2920</td><td>10</td><td>25</td><td>123</td><td>High</td></tr>\n",
              "\t<tr><th scope=row>B649</th><td>17.4</td><td>2845</td><td>13</td><td>19</td><td>129</td><td>Low </td></tr>\n",
              "\t<tr><th scope=row>B665</th><td>19.4</td><td>2645</td><td>12</td><td>18</td><td> 68</td><td>Low </td></tr>\n",
              "\t<tr><th scope=row>B674</th><td>15.9</td><td>3080</td><td>10</td><td>23</td><td>106</td><td>High</td></tr>\n",
              "\t<tr><th scope=row>B692</th><td>17.1</td><td>2825</td><td>10</td><td>28</td><td>131</td><td>Low </td></tr>\n",
              "\t<tr><th scope=row>B694</th><td>15.5</td><td>3125</td><td> 7</td><td>33</td><td> 92</td><td>High</td></tr>\n",
              "\t<tr><th scope=row>B719</th><td>17.7</td><td>2780</td><td>13</td><td>22</td><td>141</td><td>Low </td></tr>\n",
              "\t<tr><th scope=row>B727</th><td>15.9</td><td>2900</td><td>12</td><td>21</td><td>192</td><td>High</td></tr>\n",
              "\t<tr><th scope=row>B758</th><td>21.2</td><td>2570</td><td>14</td><td>13</td><td>105</td><td>Low </td></tr>\n",
              "\t<tr><th scope=row>B776</th><td>19.5</td><td>2635</td><td>13</td><td>22</td><td>101</td><td>Low </td></tr>\n",
              "\t<tr><th scope=row>B799</th><td>20.5</td><td>2725</td><td>14</td><td>16</td><td>145</td><td>Low </td></tr>\n",
              "\t<tr><th scope=row>B836</th><td>17.0</td><td>2865</td><td>11</td><td>22</td><td>100</td><td>High</td></tr>\n",
              "\t<tr><th scope=row>B848</th><td>16.7</td><td>2975</td><td>10</td><td>26</td><td>105</td><td>High</td></tr>\n",
              "\t<tr><th scope=row>B861</th><td>16.8</td><td>2980</td><td>10</td><td>24</td><td>144</td><td>High</td></tr>\n",
              "\t<tr><th scope=row>B869</th><td>16.8</td><td>2870</td><td>12</td><td>20</td><td>123</td><td>High</td></tr>\n",
              "\t<tr><th scope=row>B876</th><td>16.3</td><td>2920</td><td>11</td><td>22</td><td>136</td><td>High</td></tr>\n",
              "\t<tr><th scope=row>B882</th><td>16.2</td><td>3100</td><td> 8</td><td>27</td><td>140</td><td>High</td></tr>\n",
              "\t<tr><th scope=row>B889</th><td>18.1</td><td>2910</td><td>12</td><td>21</td><td>120</td><td>High</td></tr>\n",
              "\t<tr><th scope=row>B907</th><td>16.6</td><td>2865</td><td>11</td><td>25</td><td>120</td><td>High</td></tr>\n",
              "\t<tr><th scope=row>B911</th><td>16.4</td><td>2995</td><td>12</td><td>20</td><td>165</td><td>High</td></tr>\n",
              "\t<tr><th scope=row>B923</th><td>15.1</td><td>2925</td><td>10</td><td>29</td><td>118</td><td>High</td></tr>\n",
              "\t<tr><th scope=row>B971</th><td>21.1</td><td>2700</td><td>13</td><td>16</td><td>116</td><td>Low </td></tr>\n",
              "\t<tr><th scope=row>B998</th><td>16.3</td><td>2845</td><td>10</td><td>26</td><td> 75</td><td>Low </td></tr>\n",
              "</tbody>\n",
              "</table>\n"
            ],
            "text/markdown": "\nA data.frame: 50 × 6\n\n| <!--/--> | OilPercentage &lt;dbl&gt; | Density &lt;int&gt; | Crispy &lt;int&gt; | Fracture &lt;int&gt; | Hardness &lt;int&gt; | Densitylevel &lt;chr&gt; |\n|---|---|---|---|---|---|---|\n| B110 | 16.5 | 2955 | 10 | 23 |  97 | High |\n| B136 | 17.7 | 2660 | 14 |  9 | 139 | Low  |\n| B171 | 16.2 | 2870 | 12 | 17 | 143 | High |\n| B192 | 16.7 | 2920 | 10 | 31 |  95 | High |\n| B225 | 16.3 | 2975 | 11 | 26 | 143 | High |\n| B237 | 19.1 | 2790 | 13 | 16 | 189 | Low  |\n| B261 | 18.4 | 2750 | 13 | 17 | 114 | Low  |\n| B264 | 17.5 | 2770 | 10 | 26 |  63 | Low  |\n| B353 | 15.7 | 2955 | 11 | 23 | 123 | High |\n| B360 | 16.4 | 2945 | 11 | 24 | 132 | High |\n| B366 | 18.0 | 2830 | 12 | 15 | 121 | Low  |\n| B377 | 17.4 | 2835 | 12 | 18 | 172 | Low  |\n| B391 | 18.4 | 2860 | 14 | 11 | 170 | High |\n| B397 | 13.9 | 2965 | 12 | 19 | 169 | High |\n| B404 | 15.8 | 2930 |  9 | 26 |  65 | High |\n| B437 | 16.4 | 2770 | 15 | 16 | 183 | Low  |\n| B445 | 18.9 | 2650 | 14 | 20 | 114 | Low  |\n| B462 | 17.3 | 2890 | 12 | 17 | 142 | High |\n| B485 | 16.7 | 2695 | 13 | 13 | 111 | Low  |\n| B488 | 19.1 | 2755 | 14 | 10 | 140 | Low  |\n| B502 | 13.7 | 3000 | 10 | 27 | 177 | High |\n| B554 | 14.7 | 2980 | 10 | 20 | 133 | High |\n| B556 | 18.1 | 2780 | 13 | 14 | 150 | Low  |\n| B575 | 17.2 | 2705 |  8 | 27 | 113 | Low  |\n| B576 | 18.7 | 2825 | 13 | 20 | 166 | Low  |\n| B605 | 18.1 | 2875 | 12 | 15 | 150 | High |\n| B612 | 16.6 | 2945 | 10 | 25 | 100 | High |\n| B615 | 17.1 | 2920 | 10 | 25 | 123 | High |\n| B649 | 17.4 | 2845 | 13 | 19 | 129 | Low  |\n| B665 | 19.4 | 2645 | 12 | 18 |  68 | Low  |\n| B674 | 15.9 | 3080 | 10 | 23 | 106 | High |\n| B692 | 17.1 | 2825 | 10 | 28 | 131 | Low  |\n| B694 | 15.5 | 3125 |  7 | 33 |  92 | High |\n| B719 | 17.7 | 2780 | 13 | 22 | 141 | Low  |\n| B727 | 15.9 | 2900 | 12 | 21 | 192 | High |\n| B758 | 21.2 | 2570 | 14 | 13 | 105 | Low  |\n| B776 | 19.5 | 2635 | 13 | 22 | 101 | Low  |\n| B799 | 20.5 | 2725 | 14 | 16 | 145 | Low  |\n| B836 | 17.0 | 2865 | 11 | 22 | 100 | High |\n| B848 | 16.7 | 2975 | 10 | 26 | 105 | High |\n| B861 | 16.8 | 2980 | 10 | 24 | 144 | High |\n| B869 | 16.8 | 2870 | 12 | 20 | 123 | High |\n| B876 | 16.3 | 2920 | 11 | 22 | 136 | High |\n| B882 | 16.2 | 3100 |  8 | 27 | 140 | High |\n| B889 | 18.1 | 2910 | 12 | 21 | 120 | High |\n| B907 | 16.6 | 2865 | 11 | 25 | 120 | High |\n| B911 | 16.4 | 2995 | 12 | 20 | 165 | High |\n| B923 | 15.1 | 2925 | 10 | 29 | 118 | High |\n| B971 | 21.1 | 2700 | 13 | 16 | 116 | Low  |\n| B998 | 16.3 | 2845 | 10 | 26 |  75 | Low  |\n\n",
            "text/latex": "A data.frame: 50 × 6\n\\begin{tabular}{r|llllll}\n  & OilPercentage & Density & Crispy & Fracture & Hardness & Densitylevel\\\\\n  & <dbl> & <int> & <int> & <int> & <int> & <chr>\\\\\n\\hline\n\tB110 & 16.5 & 2955 & 10 & 23 &  97 & High\\\\\n\tB136 & 17.7 & 2660 & 14 &  9 & 139 & Low \\\\\n\tB171 & 16.2 & 2870 & 12 & 17 & 143 & High\\\\\n\tB192 & 16.7 & 2920 & 10 & 31 &  95 & High\\\\\n\tB225 & 16.3 & 2975 & 11 & 26 & 143 & High\\\\\n\tB237 & 19.1 & 2790 & 13 & 16 & 189 & Low \\\\\n\tB261 & 18.4 & 2750 & 13 & 17 & 114 & Low \\\\\n\tB264 & 17.5 & 2770 & 10 & 26 &  63 & Low \\\\\n\tB353 & 15.7 & 2955 & 11 & 23 & 123 & High\\\\\n\tB360 & 16.4 & 2945 & 11 & 24 & 132 & High\\\\\n\tB366 & 18.0 & 2830 & 12 & 15 & 121 & Low \\\\\n\tB377 & 17.4 & 2835 & 12 & 18 & 172 & Low \\\\\n\tB391 & 18.4 & 2860 & 14 & 11 & 170 & High\\\\\n\tB397 & 13.9 & 2965 & 12 & 19 & 169 & High\\\\\n\tB404 & 15.8 & 2930 &  9 & 26 &  65 & High\\\\\n\tB437 & 16.4 & 2770 & 15 & 16 & 183 & Low \\\\\n\tB445 & 18.9 & 2650 & 14 & 20 & 114 & Low \\\\\n\tB462 & 17.3 & 2890 & 12 & 17 & 142 & High\\\\\n\tB485 & 16.7 & 2695 & 13 & 13 & 111 & Low \\\\\n\tB488 & 19.1 & 2755 & 14 & 10 & 140 & Low \\\\\n\tB502 & 13.7 & 3000 & 10 & 27 & 177 & High\\\\\n\tB554 & 14.7 & 2980 & 10 & 20 & 133 & High\\\\\n\tB556 & 18.1 & 2780 & 13 & 14 & 150 & Low \\\\\n\tB575 & 17.2 & 2705 &  8 & 27 & 113 & Low \\\\\n\tB576 & 18.7 & 2825 & 13 & 20 & 166 & Low \\\\\n\tB605 & 18.1 & 2875 & 12 & 15 & 150 & High\\\\\n\tB612 & 16.6 & 2945 & 10 & 25 & 100 & High\\\\\n\tB615 & 17.1 & 2920 & 10 & 25 & 123 & High\\\\\n\tB649 & 17.4 & 2845 & 13 & 19 & 129 & Low \\\\\n\tB665 & 19.4 & 2645 & 12 & 18 &  68 & Low \\\\\n\tB674 & 15.9 & 3080 & 10 & 23 & 106 & High\\\\\n\tB692 & 17.1 & 2825 & 10 & 28 & 131 & Low \\\\\n\tB694 & 15.5 & 3125 &  7 & 33 &  92 & High\\\\\n\tB719 & 17.7 & 2780 & 13 & 22 & 141 & Low \\\\\n\tB727 & 15.9 & 2900 & 12 & 21 & 192 & High\\\\\n\tB758 & 21.2 & 2570 & 14 & 13 & 105 & Low \\\\\n\tB776 & 19.5 & 2635 & 13 & 22 & 101 & Low \\\\\n\tB799 & 20.5 & 2725 & 14 & 16 & 145 & Low \\\\\n\tB836 & 17.0 & 2865 & 11 & 22 & 100 & High\\\\\n\tB848 & 16.7 & 2975 & 10 & 26 & 105 & High\\\\\n\tB861 & 16.8 & 2980 & 10 & 24 & 144 & High\\\\\n\tB869 & 16.8 & 2870 & 12 & 20 & 123 & High\\\\\n\tB876 & 16.3 & 2920 & 11 & 22 & 136 & High\\\\\n\tB882 & 16.2 & 3100 &  8 & 27 & 140 & High\\\\\n\tB889 & 18.1 & 2910 & 12 & 21 & 120 & High\\\\\n\tB907 & 16.6 & 2865 & 11 & 25 & 120 & High\\\\\n\tB911 & 16.4 & 2995 & 12 & 20 & 165 & High\\\\\n\tB923 & 15.1 & 2925 & 10 & 29 & 118 & High\\\\\n\tB971 & 21.1 & 2700 & 13 & 16 & 116 & Low \\\\\n\tB998 & 16.3 & 2845 & 10 & 26 &  75 & Low \\\\\n\\end{tabular}\n",
            "text/plain": [
              "     OilPercentage Density Crispy Fracture Hardness Densitylevel\n",
              "B110 16.5          2955    10     23        97      High        \n",
              "B136 17.7          2660    14      9       139      Low         \n",
              "B171 16.2          2870    12     17       143      High        \n",
              "B192 16.7          2920    10     31        95      High        \n",
              "B225 16.3          2975    11     26       143      High        \n",
              "B237 19.1          2790    13     16       189      Low         \n",
              "B261 18.4          2750    13     17       114      Low         \n",
              "B264 17.5          2770    10     26        63      Low         \n",
              "B353 15.7          2955    11     23       123      High        \n",
              "B360 16.4          2945    11     24       132      High        \n",
              "B366 18.0          2830    12     15       121      Low         \n",
              "B377 17.4          2835    12     18       172      Low         \n",
              "B391 18.4          2860    14     11       170      High        \n",
              "B397 13.9          2965    12     19       169      High        \n",
              "B404 15.8          2930     9     26        65      High        \n",
              "B437 16.4          2770    15     16       183      Low         \n",
              "B445 18.9          2650    14     20       114      Low         \n",
              "B462 17.3          2890    12     17       142      High        \n",
              "B485 16.7          2695    13     13       111      Low         \n",
              "B488 19.1          2755    14     10       140      Low         \n",
              "B502 13.7          3000    10     27       177      High        \n",
              "B554 14.7          2980    10     20       133      High        \n",
              "B556 18.1          2780    13     14       150      Low         \n",
              "B575 17.2          2705     8     27       113      Low         \n",
              "B576 18.7          2825    13     20       166      Low         \n",
              "B605 18.1          2875    12     15       150      High        \n",
              "B612 16.6          2945    10     25       100      High        \n",
              "B615 17.1          2920    10     25       123      High        \n",
              "B649 17.4          2845    13     19       129      Low         \n",
              "B665 19.4          2645    12     18        68      Low         \n",
              "B674 15.9          3080    10     23       106      High        \n",
              "B692 17.1          2825    10     28       131      Low         \n",
              "B694 15.5          3125     7     33        92      High        \n",
              "B719 17.7          2780    13     22       141      Low         \n",
              "B727 15.9          2900    12     21       192      High        \n",
              "B758 21.2          2570    14     13       105      Low         \n",
              "B776 19.5          2635    13     22       101      Low         \n",
              "B799 20.5          2725    14     16       145      Low         \n",
              "B836 17.0          2865    11     22       100      High        \n",
              "B848 16.7          2975    10     26       105      High        \n",
              "B861 16.8          2980    10     24       144      High        \n",
              "B869 16.8          2870    12     20       123      High        \n",
              "B876 16.3          2920    11     22       136      High        \n",
              "B882 16.2          3100     8     27       140      High        \n",
              "B889 18.1          2910    12     21       120      High        \n",
              "B907 16.6          2865    11     25       120      High        \n",
              "B911 16.4          2995    12     20       165      High        \n",
              "B923 15.1          2925    10     29       118      High        \n",
              "B971 21.1          2700    13     16       116      Low         \n",
              "B998 16.3          2845    10     26        75      Low         "
            ]
          },
          "metadata": {}
        }
      ],
      "source": [
        "# creating a new column\n",
        "foodData %>% mutate(Densitylevel = ifelse(Density > 2850, \"High\", \"Low\"))"
      ]
    },
    {
      "cell_type": "code",
      "execution_count": 32,
      "metadata": {
        "id": "CYbKjyFKPk9W"
      },
      "outputs": [],
      "source": [
        "foodData = foodData %>% mutate(Densitylevel = ifelse(Density < 2850, \"High\", \"Low\"))"
      ]
    },
    {
      "cell_type": "code",
      "execution_count": 33,
      "metadata": {
        "colab": {
          "base_uri": "https://localhost:8080/",
          "height": 255
        },
        "id": "obF6vJT8Pk_q",
        "outputId": "267867b0-58f5-4d35-b428-3382bb8b69d3"
      },
      "outputs": [
        {
          "output_type": "display_data",
          "data": {
            "text/html": [
              "<table class=\"dataframe\">\n",
              "<caption>A data.frame: 5 × 6</caption>\n",
              "<thead>\n",
              "\t<tr><th></th><th scope=col>OilPercentage</th><th scope=col>Density</th><th scope=col>Crispy</th><th scope=col>Fracture</th><th scope=col>Hardness</th><th scope=col>Densitylevel</th></tr>\n",
              "\t<tr><th></th><th scope=col>&lt;dbl&gt;</th><th scope=col>&lt;int&gt;</th><th scope=col>&lt;int&gt;</th><th scope=col>&lt;int&gt;</th><th scope=col>&lt;int&gt;</th><th scope=col>&lt;chr&gt;</th></tr>\n",
              "</thead>\n",
              "<tbody>\n",
              "\t<tr><th scope=row>B110</th><td>16.5</td><td>2955</td><td>10</td><td>23</td><td> 97</td><td>Low </td></tr>\n",
              "\t<tr><th scope=row>B136</th><td>17.7</td><td>2660</td><td>14</td><td> 9</td><td>139</td><td>High</td></tr>\n",
              "\t<tr><th scope=row>B171</th><td>16.2</td><td>2870</td><td>12</td><td>17</td><td>143</td><td>Low </td></tr>\n",
              "\t<tr><th scope=row>B192</th><td>16.7</td><td>2920</td><td>10</td><td>31</td><td> 95</td><td>Low </td></tr>\n",
              "\t<tr><th scope=row>B225</th><td>16.3</td><td>2975</td><td>11</td><td>26</td><td>143</td><td>Low </td></tr>\n",
              "</tbody>\n",
              "</table>\n"
            ],
            "text/markdown": "\nA data.frame: 5 × 6\n\n| <!--/--> | OilPercentage &lt;dbl&gt; | Density &lt;int&gt; | Crispy &lt;int&gt; | Fracture &lt;int&gt; | Hardness &lt;int&gt; | Densitylevel &lt;chr&gt; |\n|---|---|---|---|---|---|---|\n| B110 | 16.5 | 2955 | 10 | 23 |  97 | Low  |\n| B136 | 17.7 | 2660 | 14 |  9 | 139 | High |\n| B171 | 16.2 | 2870 | 12 | 17 | 143 | Low  |\n| B192 | 16.7 | 2920 | 10 | 31 |  95 | Low  |\n| B225 | 16.3 | 2975 | 11 | 26 | 143 | Low  |\n\n",
            "text/latex": "A data.frame: 5 × 6\n\\begin{tabular}{r|llllll}\n  & OilPercentage & Density & Crispy & Fracture & Hardness & Densitylevel\\\\\n  & <dbl> & <int> & <int> & <int> & <int> & <chr>\\\\\n\\hline\n\tB110 & 16.5 & 2955 & 10 & 23 &  97 & Low \\\\\n\tB136 & 17.7 & 2660 & 14 &  9 & 139 & High\\\\\n\tB171 & 16.2 & 2870 & 12 & 17 & 143 & Low \\\\\n\tB192 & 16.7 & 2920 & 10 & 31 &  95 & Low \\\\\n\tB225 & 16.3 & 2975 & 11 & 26 & 143 & Low \\\\\n\\end{tabular}\n",
            "text/plain": [
              "     OilPercentage Density Crispy Fracture Hardness Densitylevel\n",
              "B110 16.5          2955    10     23        97      Low         \n",
              "B136 17.7          2660    14      9       139      High        \n",
              "B171 16.2          2870    12     17       143      Low         \n",
              "B192 16.7          2920    10     31        95      Low         \n",
              "B225 16.3          2975    11     26       143      Low         "
            ]
          },
          "metadata": {}
        }
      ],
      "source": [
        "head(foodData, 5)"
      ]
    },
    {
      "cell_type": "code",
      "source": [
        "# modifying \"Crispy\" column to reflect high and low based on crispiness\n",
        "foodData = foodData %>% mutate(Crispylevel = ifelse(Crispy > 11 , \"High\", \"Low\"))"
      ],
      "metadata": {
        "id": "XjYPTZOYRjiO"
      },
      "execution_count": 34,
      "outputs": []
    },
    {
      "cell_type": "code",
      "execution_count": 35,
      "metadata": {
        "colab": {
          "base_uri": "https://localhost:8080/"
        },
        "id": "v26GUpTzPlDA",
        "outputId": "5d6bb693-a7f9-4e96-bb8d-343da3a71389"
      },
      "outputs": [
        {
          "output_type": "stream",
          "name": "stdout",
          "text": [
            "'data.frame':\t50 obs. of  7 variables:\n",
            " $ OilPercentage: num  16.5 17.7 16.2 16.7 16.3 19.1 18.4 17.5 15.7 16.4 ...\n",
            " $ Density      : int  2955 2660 2870 2920 2975 2790 2750 2770 2955 2945 ...\n",
            " $ Crispy       : int  10 14 12 10 11 13 13 10 11 11 ...\n",
            " $ Fracture     : int  23 9 17 31 26 16 17 26 23 24 ...\n",
            " $ Hardness     : int  97 139 143 95 143 189 114 63 123 132 ...\n",
            " $ Densitylevel : chr  \"Low\" \"High\" \"Low\" \"Low\" ...\n",
            " $ Crispylevel  : chr  \"Low\" \"High\" \"High\" \"Low\" ...\n"
          ]
        }
      ],
      "source": [
        "str(foodData)"
      ]
    },
    {
      "cell_type": "code",
      "execution_count": 36,
      "metadata": {
        "id": "rF_tOhr7yU64"
      },
      "outputs": [],
      "source": [
        "# We want to change the data-type of \"Crispy\" and \"Densitylevel\" into categorical / factor type from integers\n",
        "cat_cols = c(\"Crispy\", \"Densitylevel\")\n",
        "continuous_cols = c(\"OilPercentage\", \"Density\", \"Fracture\", \"Hardness\")\n",
        "foodData[cat_cols]  = lapply(foodData[cat_cols], factor)"
      ]
    },
    {
      "cell_type": "code",
      "execution_count": 37,
      "metadata": {
        "colab": {
          "base_uri": "https://localhost:8080/"
        },
        "id": "WPKqHl3ryU9E",
        "outputId": "e8cb9c5d-a22e-4411-9b68-1df29320f618"
      },
      "outputs": [
        {
          "output_type": "stream",
          "name": "stdout",
          "text": [
            "'data.frame':\t50 obs. of  7 variables:\n",
            " $ OilPercentage: num  16.5 17.7 16.2 16.7 16.3 19.1 18.4 17.5 15.7 16.4 ...\n",
            " $ Density      : int  2955 2660 2870 2920 2975 2790 2750 2770 2955 2945 ...\n",
            " $ Crispy       : Factor w/ 9 levels \"7\",\"8\",\"9\",\"10\",..: 4 8 6 4 5 7 7 4 5 5 ...\n",
            " $ Fracture     : int  23 9 17 31 26 16 17 26 23 24 ...\n",
            " $ Hardness     : int  97 139 143 95 143 189 114 63 123 132 ...\n",
            " $ Densitylevel : Factor w/ 2 levels \"High\",\"Low\": 2 1 2 2 2 1 1 1 2 2 ...\n",
            " $ Crispylevel  : chr  \"Low\" \"High\" \"High\" \"Low\" ...\n"
          ]
        }
      ],
      "source": [
        "str(foodData)"
      ]
    },
    {
      "cell_type": "code",
      "source": [
        "cat_cols = c(\"Densitylevel\", \"Crispylevel\", \"Crispy\")\n",
        "foodData[cat_cols] = lapply(foodData[cat_cols], as.factor)"
      ],
      "metadata": {
        "id": "tCnbSDm1THzu"
      },
      "execution_count": 38,
      "outputs": []
    },
    {
      "cell_type": "code",
      "source": [
        "str(foodData)"
      ],
      "metadata": {
        "colab": {
          "base_uri": "https://localhost:8080/"
        },
        "id": "JqoHImdqTcsJ",
        "outputId": "67b83fe1-2f5e-47c9-a1e6-9422c34ed59c"
      },
      "execution_count": 39,
      "outputs": [
        {
          "output_type": "stream",
          "name": "stdout",
          "text": [
            "'data.frame':\t50 obs. of  7 variables:\n",
            " $ OilPercentage: num  16.5 17.7 16.2 16.7 16.3 19.1 18.4 17.5 15.7 16.4 ...\n",
            " $ Density      : int  2955 2660 2870 2920 2975 2790 2750 2770 2955 2945 ...\n",
            " $ Crispy       : Factor w/ 9 levels \"7\",\"8\",\"9\",\"10\",..: 4 8 6 4 5 7 7 4 5 5 ...\n",
            " $ Fracture     : int  23 9 17 31 26 16 17 26 23 24 ...\n",
            " $ Hardness     : int  97 139 143 95 143 189 114 63 123 132 ...\n",
            " $ Densitylevel : Factor w/ 2 levels \"High\",\"Low\": 2 1 2 2 2 1 1 1 2 2 ...\n",
            " $ Crispylevel  : Factor w/ 2 levels \"High\",\"Low\": 2 1 1 2 2 1 1 2 2 2 ...\n"
          ]
        }
      ]
    },
    {
      "cell_type": "code",
      "execution_count": 40,
      "metadata": {
        "id": "G1EdcH_UyVBK",
        "colab": {
          "base_uri": "https://localhost:8080/",
          "height": 34
        },
        "outputId": "3989a87a-857e-480e-ba9f-26c77e96e8aa"
      },
      "outputs": [
        {
          "output_type": "display_data",
          "data": {
            "text/html": [
              "<style>\n",
              ".list-inline {list-style: none; margin:0; padding: 0}\n",
              ".list-inline>li {display: inline-block}\n",
              ".list-inline>li:not(:last-child)::after {content: \"\\00b7\"; padding: 0 .5ex}\n",
              "</style>\n",
              "<ol class=list-inline><li>'OilPercentage'</li><li>'Density'</li><li>'Fracture'</li><li>'Hardness'</li></ol>\n"
            ],
            "text/markdown": "1. 'OilPercentage'\n2. 'Density'\n3. 'Fracture'\n4. 'Hardness'\n\n\n",
            "text/latex": "\\begin{enumerate*}\n\\item 'OilPercentage'\n\\item 'Density'\n\\item 'Fracture'\n\\item 'Hardness'\n\\end{enumerate*}\n",
            "text/plain": [
              "[1] \"OilPercentage\" \"Density\"       \"Fracture\"      \"Hardness\"     "
            ]
          },
          "metadata": {}
        }
      ],
      "source": [
        "### extra ####\n",
        "setdiff(colnames(foodData), cat_cols)"
      ]
    },
    {
      "cell_type": "code",
      "execution_count": 41,
      "metadata": {
        "id": "8huqT2tMyVEc",
        "colab": {
          "base_uri": "https://localhost:8080/",
          "height": 146
        },
        "outputId": "2ae384bd-2d1c-463d-c649-a8304b6ea14d"
      },
      "outputs": [
        {
          "output_type": "display_data",
          "data": {
            "text/html": [
              "<table class=\"dataframe\">\n",
              "<caption>A matrix: 2 × 1 of type dbl</caption>\n",
              "<thead>\n",
              "\t<tr><th></th><th scope=col>Low</th></tr>\n",
              "</thead>\n",
              "<tbody>\n",
              "\t<tr><th scope=row>High</th><td>0</td></tr>\n",
              "\t<tr><th scope=row>Low</th><td>1</td></tr>\n",
              "</tbody>\n",
              "</table>\n"
            ],
            "text/markdown": "\nA matrix: 2 × 1 of type dbl\n\n| <!--/--> | Low |\n|---|---|\n| High | 0 |\n| Low | 1 |\n\n",
            "text/latex": "A matrix: 2 × 1 of type dbl\n\\begin{tabular}{r|l}\n  & Low\\\\\n\\hline\n\tHigh & 0\\\\\n\tLow & 1\\\\\n\\end{tabular}\n",
            "text/plain": [
              "     Low\n",
              "High 0  \n",
              "Low  1  "
            ]
          },
          "metadata": {}
        }
      ],
      "source": [
        "contrasts(foodData$Densitylevel)"
      ]
    },
    {
      "cell_type": "markdown",
      "source": [
        "# ggplot"
      ],
      "metadata": {
        "id": "7OqKR4RQUhwL"
      }
    },
    {
      "cell_type": "code",
      "source": [
        "foodData$OilPercentage"
      ],
      "metadata": {
        "colab": {
          "base_uri": "https://localhost:8080/",
          "height": 52
        },
        "id": "iQxAhajnOfgu",
        "outputId": "ed874540-cd33-4db2-f013-63a402dd334b"
      },
      "execution_count": 42,
      "outputs": [
        {
          "output_type": "display_data",
          "data": {
            "text/html": [
              "<style>\n",
              ".list-inline {list-style: none; margin:0; padding: 0}\n",
              ".list-inline>li {display: inline-block}\n",
              ".list-inline>li:not(:last-child)::after {content: \"\\00b7\"; padding: 0 .5ex}\n",
              "</style>\n",
              "<ol class=list-inline><li>16.5</li><li>17.7</li><li>16.2</li><li>16.7</li><li>16.3</li><li>19.1</li><li>18.4</li><li>17.5</li><li>15.7</li><li>16.4</li><li>18</li><li>17.4</li><li>18.4</li><li>13.9</li><li>15.8</li><li>16.4</li><li>18.9</li><li>17.3</li><li>16.7</li><li>19.1</li><li>13.7</li><li>14.7</li><li>18.1</li><li>17.2</li><li>18.7</li><li>18.1</li><li>16.6</li><li>17.1</li><li>17.4</li><li>19.4</li><li>15.9</li><li>17.1</li><li>15.5</li><li>17.7</li><li>15.9</li><li>21.2</li><li>19.5</li><li>20.5</li><li>17</li><li>16.7</li><li>16.8</li><li>16.8</li><li>16.3</li><li>16.2</li><li>18.1</li><li>16.6</li><li>16.4</li><li>15.1</li><li>21.1</li><li>16.3</li></ol>\n"
            ],
            "text/markdown": "1. 16.5\n2. 17.7\n3. 16.2\n4. 16.7\n5. 16.3\n6. 19.1\n7. 18.4\n8. 17.5\n9. 15.7\n10. 16.4\n11. 18\n12. 17.4\n13. 18.4\n14. 13.9\n15. 15.8\n16. 16.4\n17. 18.9\n18. 17.3\n19. 16.7\n20. 19.1\n21. 13.7\n22. 14.7\n23. 18.1\n24. 17.2\n25. 18.7\n26. 18.1\n27. 16.6\n28. 17.1\n29. 17.4\n30. 19.4\n31. 15.9\n32. 17.1\n33. 15.5\n34. 17.7\n35. 15.9\n36. 21.2\n37. 19.5\n38. 20.5\n39. 17\n40. 16.7\n41. 16.8\n42. 16.8\n43. 16.3\n44. 16.2\n45. 18.1\n46. 16.6\n47. 16.4\n48. 15.1\n49. 21.1\n50. 16.3\n\n\n",
            "text/latex": "\\begin{enumerate*}\n\\item 16.5\n\\item 17.7\n\\item 16.2\n\\item 16.7\n\\item 16.3\n\\item 19.1\n\\item 18.4\n\\item 17.5\n\\item 15.7\n\\item 16.4\n\\item 18\n\\item 17.4\n\\item 18.4\n\\item 13.9\n\\item 15.8\n\\item 16.4\n\\item 18.9\n\\item 17.3\n\\item 16.7\n\\item 19.1\n\\item 13.7\n\\item 14.7\n\\item 18.1\n\\item 17.2\n\\item 18.7\n\\item 18.1\n\\item 16.6\n\\item 17.1\n\\item 17.4\n\\item 19.4\n\\item 15.9\n\\item 17.1\n\\item 15.5\n\\item 17.7\n\\item 15.9\n\\item 21.2\n\\item 19.5\n\\item 20.5\n\\item 17\n\\item 16.7\n\\item 16.8\n\\item 16.8\n\\item 16.3\n\\item 16.2\n\\item 18.1\n\\item 16.6\n\\item 16.4\n\\item 15.1\n\\item 21.1\n\\item 16.3\n\\end{enumerate*}\n",
            "text/plain": [
              " [1] 16.5 17.7 16.2 16.7 16.3 19.1 18.4 17.5 15.7 16.4 18.0 17.4 18.4 13.9 15.8\n",
              "[16] 16.4 18.9 17.3 16.7 19.1 13.7 14.7 18.1 17.2 18.7 18.1 16.6 17.1 17.4 19.4\n",
              "[31] 15.9 17.1 15.5 17.7 15.9 21.2 19.5 20.5 17.0 16.7 16.8 16.8 16.3 16.2 18.1\n",
              "[46] 16.6 16.4 15.1 21.1 16.3"
            ]
          },
          "metadata": {}
        }
      ]
    },
    {
      "cell_type": "code",
      "source": [
        "mean(foodData$OilPercentage)"
      ],
      "metadata": {
        "colab": {
          "base_uri": "https://localhost:8080/",
          "height": 34
        },
        "id": "sB4XsBcvVSOR",
        "outputId": "64e27a72-cea8-4444-8a30-96ab2fb96d71"
      },
      "execution_count": 43,
      "outputs": [
        {
          "output_type": "display_data",
          "data": {
            "text/html": [
              "17.202"
            ],
            "text/markdown": "17.202",
            "text/latex": "17.202",
            "text/plain": [
              "[1] 17.202"
            ]
          },
          "metadata": {}
        }
      ]
    },
    {
      "cell_type": "code",
      "source": [
        "# broadcasting mean value element to element\n",
        "# to get \"mean centered oil percentage values\"\n",
        "round(foodData$OilPercentage - mean(foodData$OilPercentage),3)"
      ],
      "metadata": {
        "colab": {
          "base_uri": "https://localhost:8080/",
          "height": 69
        },
        "id": "vz-tlIlFVtxo",
        "outputId": "babc7168-279d-4aab-92f7-2e41fbe1d8f6"
      },
      "execution_count": 44,
      "outputs": [
        {
          "output_type": "display_data",
          "data": {
            "text/html": [
              "<style>\n",
              ".list-inline {list-style: none; margin:0; padding: 0}\n",
              ".list-inline>li {display: inline-block}\n",
              ".list-inline>li:not(:last-child)::after {content: \"\\00b7\"; padding: 0 .5ex}\n",
              "</style>\n",
              "<ol class=list-inline><li>-0.702</li><li>0.498</li><li>-1.002</li><li>-0.502</li><li>-0.902</li><li>1.898</li><li>1.198</li><li>0.298</li><li>-1.502</li><li>-0.802</li><li>0.798</li><li>0.198</li><li>1.198</li><li>-3.302</li><li>-1.402</li><li>-0.802</li><li>1.698</li><li>0.098</li><li>-0.502</li><li>1.898</li><li>-3.502</li><li>-2.502</li><li>0.898</li><li>-0.002</li><li>1.498</li><li>0.898</li><li>-0.602</li><li>-0.102</li><li>0.198</li><li>2.198</li><li>-1.302</li><li>-0.102</li><li>-1.702</li><li>0.498</li><li>-1.302</li><li>3.998</li><li>2.298</li><li>3.298</li><li>-0.202</li><li>-0.502</li><li>-0.402</li><li>-0.402</li><li>-0.902</li><li>-1.002</li><li>0.898</li><li>-0.602</li><li>-0.802</li><li>-2.102</li><li>3.898</li><li>-0.902</li></ol>\n"
            ],
            "text/markdown": "1. -0.702\n2. 0.498\n3. -1.002\n4. -0.502\n5. -0.902\n6. 1.898\n7. 1.198\n8. 0.298\n9. -1.502\n10. -0.802\n11. 0.798\n12. 0.198\n13. 1.198\n14. -3.302\n15. -1.402\n16. -0.802\n17. 1.698\n18. 0.098\n19. -0.502\n20. 1.898\n21. -3.502\n22. -2.502\n23. 0.898\n24. -0.002\n25. 1.498\n26. 0.898\n27. -0.602\n28. -0.102\n29. 0.198\n30. 2.198\n31. -1.302\n32. -0.102\n33. -1.702\n34. 0.498\n35. -1.302\n36. 3.998\n37. 2.298\n38. 3.298\n39. -0.202\n40. -0.502\n41. -0.402\n42. -0.402\n43. -0.902\n44. -1.002\n45. 0.898\n46. -0.602\n47. -0.802\n48. -2.102\n49. 3.898\n50. -0.902\n\n\n",
            "text/latex": "\\begin{enumerate*}\n\\item -0.702\n\\item 0.498\n\\item -1.002\n\\item -0.502\n\\item -0.902\n\\item 1.898\n\\item 1.198\n\\item 0.298\n\\item -1.502\n\\item -0.802\n\\item 0.798\n\\item 0.198\n\\item 1.198\n\\item -3.302\n\\item -1.402\n\\item -0.802\n\\item 1.698\n\\item 0.098\n\\item -0.502\n\\item 1.898\n\\item -3.502\n\\item -2.502\n\\item 0.898\n\\item -0.002\n\\item 1.498\n\\item 0.898\n\\item -0.602\n\\item -0.102\n\\item 0.198\n\\item 2.198\n\\item -1.302\n\\item -0.102\n\\item -1.702\n\\item 0.498\n\\item -1.302\n\\item 3.998\n\\item 2.298\n\\item 3.298\n\\item -0.202\n\\item -0.502\n\\item -0.402\n\\item -0.402\n\\item -0.902\n\\item -1.002\n\\item 0.898\n\\item -0.602\n\\item -0.802\n\\item -2.102\n\\item 3.898\n\\item -0.902\n\\end{enumerate*}\n",
            "text/plain": [
              " [1] -0.702  0.498 -1.002 -0.502 -0.902  1.898  1.198  0.298 -1.502 -0.802\n",
              "[11]  0.798  0.198  1.198 -3.302 -1.402 -0.802  1.698  0.098 -0.502  1.898\n",
              "[21] -3.502 -2.502  0.898 -0.002  1.498  0.898 -0.602 -0.102  0.198  2.198\n",
              "[31] -1.302 -0.102 -1.702  0.498 -1.302  3.998  2.298  3.298 -0.202 -0.502\n",
              "[41] -0.402 -0.402 -0.902 -1.002  0.898 -0.602 -0.802 -2.102  3.898 -0.902"
            ]
          },
          "metadata": {}
        }
      ]
    },
    {
      "cell_type": "code",
      "source": [
        "plot(foodData$OilPercentage)"
      ],
      "metadata": {
        "colab": {
          "base_uri": "https://localhost:8080/",
          "height": 437
        },
        "id": "bXtNWwN3W3E2",
        "outputId": "a0e9f15b-5040-4771-f849-c0664ac7c16c"
      },
      "execution_count": 45,
      "outputs": [
        {
          "output_type": "display_data",
          "data": {
            "text/plain": [
              "plot without title"
            ],
            "image/png": "[encoded data removed]"
          },
          "metadata": {
            "image/png": {
              "width": 420,
              "height": 420
            }
          }
        }
      ]
    },
    {
      "cell_type": "code",
      "source": [
        "plot(foodData$OilPercentage - mean(foodData$OilPercentage))"
      ],
      "metadata": {
        "colab": {
          "base_uri": "https://localhost:8080/",
          "height": 437
        },
        "id": "ea5XnKu3XCSP",
        "outputId": "c001aef2-596a-4ab2-b60a-512adbf4b98e"
      },
      "execution_count": 46,
      "outputs": [
        {
          "output_type": "display_data",
          "data": {
            "text/plain": [
              "plot without title"
            ],
            "image/png": "[encoded data removed]"
          },
          "metadata": {
            "image/png": {
              "width": 420,
              "height": 420
            }
          }
        }
      ]
    },
    {
      "cell_type": "markdown",
      "source": [
        "Here, from the positive and negative numbers we can see that which samples in oil percentage are above and below the mean (deviation around the mean)."
      ],
      "metadata": {
        "id": "eP8ENe_mXQib"
      }
    },
    {
      "cell_type": "code",
      "source": [
        "# for squared deviation value\n",
        "(foodData$OilPercentage - mean(foodData$OilPercentage))^2"
      ],
      "metadata": {
        "colab": {
          "base_uri": "https://localhost:8080/",
          "height": 121
        },
        "id": "uOHzElgavcJD",
        "outputId": "b3a97b66-26d5-467a-8a65-cb5ad2bf6c7c"
      },
      "execution_count": 47,
      "outputs": [
        {
          "output_type": "display_data",
          "data": {
            "text/html": [
              "<style>\n",
              ".list-inline {list-style: none; margin:0; padding: 0}\n",
              ".list-inline>li {display: inline-block}\n",
              ".list-inline>li:not(:last-child)::after {content: \"\\00b7\"; padding: 0 .5ex}\n",
              "</style>\n",
              "<ol class=list-inline><li>0.492803999999997</li><li>0.248004000000001</li><li>1.004004</li><li>0.252003999999999</li><li>0.813603999999995</li><li>3.60240400000001</li><li>1.435204</li><li>0.0888040000000011</li><li>2.256004</li><li>0.643203999999999</li><li>0.636804000000003</li><li>0.0392040000000002</li><li>1.435204</li><li>10.903204</li><li>1.96560399999999</li><li>0.643203999999999</li><li>2.883204</li><li>0.0096040000000005</li><li>0.252003999999999</li><li>3.60240400000001</li><li>12.264004</li><li>6.26000399999999</li><li>0.806404000000006</li><li>3.99999999999557e-06</li><li>2.244004</li><li>0.806404000000006</li><li>0.362403999999996</li><li>0.0104039999999993</li><li>0.0392040000000002</li><li>4.831204</li><li>1.69520399999999</li><li>0.0104039999999993</li><li>2.89680399999999</li><li>0.248004000000001</li><li>1.69520399999999</li><li>15.984004</li><li>5.28080400000001</li><li>10.876804</li><li>0.0408039999999993</li><li>0.252003999999999</li><li>0.161603999999998</li><li>0.161603999999998</li><li>0.813603999999995</li><li>1.004004</li><li>0.806404000000006</li><li>0.362403999999996</li><li>0.643203999999999</li><li>4.41840399999999</li><li>15.194404</li><li>0.813603999999995</li></ol>\n"
            ],
            "text/markdown": "1. 0.492803999999997\n2. 0.248004000000001\n3. 1.004004\n4. 0.252003999999999\n5. 0.813603999999995\n6. 3.60240400000001\n7. 1.435204\n8. 0.0888040000000011\n9. 2.256004\n10. 0.643203999999999\n11. 0.636804000000003\n12. 0.0392040000000002\n13. 1.435204\n14. 10.903204\n15. 1.96560399999999\n16. 0.643203999999999\n17. 2.883204\n18. 0.0096040000000005\n19. 0.252003999999999\n20. 3.60240400000001\n21. 12.264004\n22. 6.26000399999999\n23. 0.806404000000006\n24. 3.99999999999557e-06\n25. 2.244004\n26. 0.806404000000006\n27. 0.362403999999996\n28. 0.0104039999999993\n29. 0.0392040000000002\n30. 4.831204\n31. 1.69520399999999\n32. 0.0104039999999993\n33. 2.89680399999999\n34. 0.248004000000001\n35. 1.69520399999999\n36. 15.984004\n37. 5.28080400000001\n38. 10.876804\n39. 0.0408039999999993\n40. 0.252003999999999\n41. 0.161603999999998\n42. 0.161603999999998\n43. 0.813603999999995\n44. 1.004004\n45. 0.806404000000006\n46. 0.362403999999996\n47. 0.643203999999999\n48. 4.41840399999999\n49. 15.194404\n50. 0.813603999999995\n\n\n",
            "text/latex": "\\begin{enumerate*}\n\\item 0.492803999999997\n\\item 0.248004000000001\n\\item 1.004004\n\\item 0.252003999999999\n\\item 0.813603999999995\n\\item 3.60240400000001\n\\item 1.435204\n\\item 0.0888040000000011\n\\item 2.256004\n\\item 0.643203999999999\n\\item 0.636804000000003\n\\item 0.0392040000000002\n\\item 1.435204\n\\item 10.903204\n\\item 1.96560399999999\n\\item 0.643203999999999\n\\item 2.883204\n\\item 0.0096040000000005\n\\item 0.252003999999999\n\\item 3.60240400000001\n\\item 12.264004\n\\item 6.26000399999999\n\\item 0.806404000000006\n\\item 3.99999999999557e-06\n\\item 2.244004\n\\item 0.806404000000006\n\\item 0.362403999999996\n\\item 0.0104039999999993\n\\item 0.0392040000000002\n\\item 4.831204\n\\item 1.69520399999999\n\\item 0.0104039999999993\n\\item 2.89680399999999\n\\item 0.248004000000001\n\\item 1.69520399999999\n\\item 15.984004\n\\item 5.28080400000001\n\\item 10.876804\n\\item 0.0408039999999993\n\\item 0.252003999999999\n\\item 0.161603999999998\n\\item 0.161603999999998\n\\item 0.813603999999995\n\\item 1.004004\n\\item 0.806404000000006\n\\item 0.362403999999996\n\\item 0.643203999999999\n\\item 4.41840399999999\n\\item 15.194404\n\\item 0.813603999999995\n\\end{enumerate*}\n",
            "text/plain": [
              " [1]  0.492804  0.248004  1.004004  0.252004  0.813604  3.602404  1.435204\n",
              " [8]  0.088804  2.256004  0.643204  0.636804  0.039204  1.435204 10.903204\n",
              "[15]  1.965604  0.643204  2.883204  0.009604  0.252004  3.602404 12.264004\n",
              "[22]  6.260004  0.806404  0.000004  2.244004  0.806404  0.362404  0.010404\n",
              "[29]  0.039204  4.831204  1.695204  0.010404  2.896804  0.248004  1.695204\n",
              "[36] 15.984004  5.280804 10.876804  0.040804  0.252004  0.161604  0.161604\n",
              "[43]  0.813604  1.004004  0.806404  0.362404  0.643204  4.418404 15.194404\n",
              "[50]  0.813604"
            ]
          },
          "metadata": {}
        }
      ]
    },
    {
      "cell_type": "code",
      "source": [
        "# calcuating the average of the squared deviation (variance)\n",
        "mean((foodData$OilPercentage - mean(foodData$OilPercentage))^2)"
      ],
      "metadata": {
        "colab": {
          "base_uri": "https://localhost:8080/",
          "height": 34
        },
        "id": "dXImON6YvyAO",
        "outputId": "614b8faa-8bc5-4dc6-d09c-6bca847f26de"
      },
      "execution_count": 48,
      "outputs": [
        {
          "output_type": "display_data",
          "data": {
            "text/html": [
              "2.483796"
            ],
            "text/markdown": "2.483796",
            "text/latex": "2.483796",
            "text/plain": [
              "[1] 2.483796"
            ]
          },
          "metadata": {}
        }
      ]
    },
    {
      "cell_type": "markdown",
      "source": [
        "If the squared is too large than it states that we have data that are way above and below the average. Similarly, if this is low, then it states that the samples are closer to the mean."
      ],
      "metadata": {
        "id": "KiwJuEv-wdvF"
      }
    },
    {
      "cell_type": "code",
      "source": [
        "var(foodData$OilPercentage)"
      ],
      "metadata": {
        "colab": {
          "base_uri": "https://localhost:8080/",
          "height": 34
        },
        "id": "jl3Y5GMG2NZh",
        "outputId": "de8ea2e1-e36d-4dcb-d8a0-5b269d7139a1"
      },
      "execution_count": 49,
      "outputs": [
        {
          "output_type": "display_data",
          "data": {
            "text/html": [
              "2.53448571428571"
            ],
            "text/markdown": "2.53448571428571",
            "text/latex": "2.53448571428571",
            "text/plain": [
              "[1] 2.534486"
            ]
          },
          "metadata": {}
        }
      ]
    },
    {
      "cell_type": "code",
      "source": [
        "# we can further take the squared deviation around the mean (standard deviation)\n",
        "sqrt(mean((foodData$OilPercentage - mean(foodData$OilPercentage))^2))"
      ],
      "metadata": {
        "colab": {
          "base_uri": "https://localhost:8080/",
          "height": 34
        },
        "id": "ozjU_ntO2G8c",
        "outputId": "408acad1-c1d6-461b-94a3-edb1b977810b"
      },
      "execution_count": 50,
      "outputs": [
        {
          "output_type": "display_data",
          "data": {
            "text/html": [
              "1.57600634516489"
            ],
            "text/markdown": "1.57600634516489",
            "text/latex": "1.57600634516489",
            "text/plain": [
              "[1] 1.576006"
            ]
          },
          "metadata": {}
        }
      ]
    },
    {
      "cell_type": "code",
      "source": [
        "sd(foodData$OilPercentage)"
      ],
      "metadata": {
        "colab": {
          "base_uri": "https://localhost:8080/",
          "height": 34
        },
        "id": "hlwMORT22i0S",
        "outputId": "b4134665-95f5-42d2-a230-f735e46bd6f7"
      },
      "execution_count": 51,
      "outputs": [
        {
          "output_type": "display_data",
          "data": {
            "text/html": [
              "1.59200681979875"
            ],
            "text/markdown": "1.59200681979875",
            "text/latex": "1.59200681979875",
            "text/plain": [
              "[1] 1.592007"
            ]
          },
          "metadata": {}
        }
      ]
    },
    {
      "cell_type": "markdown",
      "source": [
        "Standard deviation tells us about the typical deviation from the average."
      ],
      "metadata": {
        "id": "IcM_1-fc2pa5"
      }
    },
    {
      "cell_type": "markdown",
      "source": [
        "### Visualizing the oil percentage (which is a continuous feature)"
      ],
      "metadata": {
        "id": "TrEIOkY84cem"
      }
    },
    {
      "cell_type": "code",
      "source": [
        "# here, we are creating a sequence\n",
        "# starting from 3 sd to the left of the mean to 3 sd right of the mean\n",
        "# seperating them by 1 units\n",
        "bins = seq(mean(foodData$OilPercentage)-3*sd(foodData$OilPercentage), mean(foodData$OilPercentage)+ 3*sd(foodData$OilPercentage), by = 1.0)"
      ],
      "metadata": {
        "id": "U0-GpF4VOfiQ"
      },
      "execution_count": 52,
      "outputs": []
    },
    {
      "cell_type": "code",
      "source": [
        "p1 = ggplot(data = foodData) +\n",
        "  geom_histogram(aes(x = OilPercentage, y = ..count..),\n",
        "breaks = bins, color = 'black',fill = 'steelblue') +\n",
        "  labs(x = 'OilPercentage', y = 'Frequency') +\n",
        "    ggtitle('Histogram of Oil Percentage Values')\n",
        "\n",
        "p1"
      ],
      "metadata": {
        "colab": {
          "base_uri": "https://localhost:8080/",
          "height": 489
        },
        "id": "QviXx_vrOfmp",
        "outputId": "c7beb007-cc2e-470b-e0c4-736dfabb93ac"
      },
      "execution_count": 53,
      "outputs": [
        {
          "output_type": "stream",
          "name": "stderr",
          "text": [
            "Warning message:\n",
            "“\u001b[1m\u001b[22mThe dot-dot notation (`..count..`) was deprecated in ggplot2 3.4.0.\n",
            "\u001b[36mℹ\u001b[39m Please use `after_stat(count)` instead.”\n"
          ]
        },
        {
          "output_type": "display_data",
          "data": {
            "text/plain": [
              "plot without title"
            ],
            "image/png": "[encoded data removed]"
          },
          "metadata": {
            "image/png": {
              "width": 420,
              "height": 420
            }
          }
        }
      ]
    },
    {
      "cell_type": "code",
      "source": [
        "# to visualize the relationship between two continuous features\n",
        "# scatter plot between OilPercentage and Density\n",
        "# color-coded with \"Crispylevel\"\n",
        "p2 = ggplot(data = foodData) +\n",
        "  geom_point(aes(x = Density, y = OilPercentage,\n",
        "  color = Crispylevel), size = 1)\n",
        "\n",
        "p2"
      ],
      "metadata": {
        "colab": {
          "base_uri": "https://localhost:8080/",
          "height": 437
        },
        "id": "jopEgLEMOfsX",
        "outputId": "025a08a3-9b43-4c9f-e64c-982758ef1856"
      },
      "execution_count": 54,
      "outputs": [
        {
          "output_type": "display_data",
          "data": {
            "text/plain": [
              "plot without title"
            ],
            "image/png": "[encoded data removed]"
          },
          "metadata": {
            "image/png": {
              "width": 420,
              "height": 420
            }
          }
        }
      ]
    },
    {
      "cell_type": "markdown",
      "source": [
        "Here, most of the food items are more crispy if they have high oilpercenatage and low density and vice-versa."
      ],
      "metadata": {
        "id": "4vyLcoZBACnN"
      }
    },
    {
      "cell_type": "code",
      "source": [
        "cat_cols"
      ],
      "metadata": {
        "colab": {
          "base_uri": "https://localhost:8080/",
          "height": 34
        },
        "id": "i1rfGDLCOfuC",
        "outputId": "fd675bc6-78b8-4810-fe7f-76ac7c44e3d9"
      },
      "execution_count": 55,
      "outputs": [
        {
          "output_type": "display_data",
          "data": {
            "text/html": [
              "<style>\n",
              ".list-inline {list-style: none; margin:0; padding: 0}\n",
              ".list-inline>li {display: inline-block}\n",
              ".list-inline>li:not(:last-child)::after {content: \"\\00b7\"; padding: 0 .5ex}\n",
              "</style>\n",
              "<ol class=list-inline><li>'Densitylevel'</li><li>'Crispylevel'</li><li>'Crispy'</li></ol>\n"
            ],
            "text/markdown": "1. 'Densitylevel'\n2. 'Crispylevel'\n3. 'Crispy'\n\n\n",
            "text/latex": "\\begin{enumerate*}\n\\item 'Densitylevel'\n\\item 'Crispylevel'\n\\item 'Crispy'\n\\end{enumerate*}\n",
            "text/plain": [
              "[1] \"Densitylevel\" \"Crispylevel\"  \"Crispy\"      "
            ]
          },
          "metadata": {}
        }
      ]
    },
    {
      "cell_type": "code",
      "source": [
        "colnames(foodData)"
      ],
      "metadata": {
        "colab": {
          "base_uri": "https://localhost:8080/",
          "height": 34
        },
        "id": "YPPD5g1lOfyJ",
        "outputId": "e8519627-1e66-4f82-8e48-a733edfacfdb"
      },
      "execution_count": 56,
      "outputs": [
        {
          "output_type": "display_data",
          "data": {
            "text/html": [
              "<style>\n",
              ".list-inline {list-style: none; margin:0; padding: 0}\n",
              ".list-inline>li {display: inline-block}\n",
              ".list-inline>li:not(:last-child)::after {content: \"\\00b7\"; padding: 0 .5ex}\n",
              "</style>\n",
              "<ol class=list-inline><li>'OilPercentage'</li><li>'Density'</li><li>'Crispy'</li><li>'Fracture'</li><li>'Hardness'</li><li>'Densitylevel'</li><li>'Crispylevel'</li></ol>\n"
            ],
            "text/markdown": "1. 'OilPercentage'\n2. 'Density'\n3. 'Crispy'\n4. 'Fracture'\n5. 'Hardness'\n6. 'Densitylevel'\n7. 'Crispylevel'\n\n\n",
            "text/latex": "\\begin{enumerate*}\n\\item 'OilPercentage'\n\\item 'Density'\n\\item 'Crispy'\n\\item 'Fracture'\n\\item 'Hardness'\n\\item 'Densitylevel'\n\\item 'Crispylevel'\n\\end{enumerate*}\n",
            "text/plain": [
              "[1] \"OilPercentage\" \"Density\"       \"Crispy\"        \"Fracture\"     \n",
              "[5] \"Hardness\"      \"Densitylevel\"  \"Crispylevel\"  "
            ]
          },
          "metadata": {}
        }
      ]
    },
    {
      "cell_type": "code",
      "source": [
        "setdiff(colnames(foodData), cat_cols)"
      ],
      "metadata": {
        "colab": {
          "base_uri": "https://localhost:8080/",
          "height": 34
        },
        "id": "fcG9_xmGOf0P",
        "outputId": "86c64800-4edf-4570-a461-fdbee721906e"
      },
      "execution_count": 57,
      "outputs": [
        {
          "output_type": "display_data",
          "data": {
            "text/html": [
              "<style>\n",
              ".list-inline {list-style: none; margin:0; padding: 0}\n",
              ".list-inline>li {display: inline-block}\n",
              ".list-inline>li:not(:last-child)::after {content: \"\\00b7\"; padding: 0 .5ex}\n",
              "</style>\n",
              "<ol class=list-inline><li>'OilPercentage'</li><li>'Density'</li><li>'Fracture'</li><li>'Hardness'</li></ol>\n"
            ],
            "text/markdown": "1. 'OilPercentage'\n2. 'Density'\n3. 'Fracture'\n4. 'Hardness'\n\n\n",
            "text/latex": "\\begin{enumerate*}\n\\item 'OilPercentage'\n\\item 'Density'\n\\item 'Fracture'\n\\item 'Hardness'\n\\end{enumerate*}\n",
            "text/plain": [
              "[1] \"OilPercentage\" \"Density\"       \"Fracture\"      \"Hardness\"     "
            ]
          },
          "metadata": {}
        }
      ]
    },
    {
      "cell_type": "markdown",
      "source": [
        "Scaling the values"
      ],
      "metadata": {
        "id": "4yqcLon_Bl7b"
      }
    },
    {
      "cell_type": "code",
      "source": [
        "#scaling the density value\n",
        "(foodData$Density - mean(foodData$Density)) / sd(foodData$Density)"
      ],
      "metadata": {
        "colab": {
          "base_uri": "https://localhost:8080/",
          "height": 138
        },
        "id": "AO97q-8aOf4c",
        "outputId": "c441490e-a75a-469c-98b2-99212dee944d"
      },
      "execution_count": 58,
      "outputs": [
        {
          "output_type": "display_data",
          "data": {
            "text/html": [
              "<style>\n",
              ".list-inline {list-style: none; margin:0; padding: 0}\n",
              ".list-inline>li {display: inline-block}\n",
              ".list-inline>li:not(:last-child)::after {content: \"\\00b7\"; padding: 0 .5ex}\n",
              "</style>\n",
              "<ol class=list-inline><li>0.782329446024326</li><li>-1.58714885558939</li><li>0.0995984099661366</li><li>0.501204901765071</li><li>0.9429720427439</li><li>-0.542971976912159</li><li>-0.864257170351307</li><li>-0.703614573631733</li><li>0.782329446024326</li><li>0.702008147664539</li><li>-0.221686783473011</li><li>-0.181526134293118</li><li>0.0192771116063496</li><li>0.862650744384113</li><li>0.581526200124858</li><li>-0.703614573631733</li><li>-1.66747015394918</li><li>0.260241006685711</li><li>-1.30602431133014</li><li>-0.824096521171414</li><li>1.14377528864337</li><li>0.983132691923793</li><li>-0.623293275271946</li><li>-1.22570301297035</li><li>-0.261847432652905</li><li>0.13975905914603</li><li>0.702008147664539</li><li>0.501204901765071</li><li>-0.101204835933331</li><li>-1.70763080312907</li><li>1.78634567552166</li><li>-0.261847432652905</li><li>2.1477915181407</li><li>-0.623293275271946</li><li>0.340562305045498</li><li>-2.31004054082747</li><li>-1.78795210148886</li><li>-1.06506041625077</li><li>0.0594377607862431</li><li>0.9429720427439</li><li>0.983132691923793</li><li>0.0995984099661366</li><li>0.501204901765071</li><li>1.94698827224124</li><li>0.420883603405284</li><li>0.0594377607862431</li><li>1.10361463946347</li><li>0.541365550944965</li><li>-1.26586366215024</li><li>-0.101204835933331</li></ol>\n"
            ],
            "text/markdown": "1. 0.782329446024326\n2. -1.58714885558939\n3. 0.0995984099661366\n4. 0.501204901765071\n5. 0.9429720427439\n6. -0.542971976912159\n7. -0.864257170351307\n8. -0.703614573631733\n9. 0.782329446024326\n10. 0.702008147664539\n11. -0.221686783473011\n12. -0.181526134293118\n13. 0.0192771116063496\n14. 0.862650744384113\n15. 0.581526200124858\n16. -0.703614573631733\n17. -1.66747015394918\n18. 0.260241006685711\n19. -1.30602431133014\n20. -0.824096521171414\n21. 1.14377528864337\n22. 0.983132691923793\n23. -0.623293275271946\n24. -1.22570301297035\n25. -0.261847432652905\n26. 0.13975905914603\n27. 0.702008147664539\n28. 0.501204901765071\n29. -0.101204835933331\n30. -1.70763080312907\n31. 1.78634567552166\n32. -0.261847432652905\n33. 2.1477915181407\n34. -0.623293275271946\n35. 0.340562305045498\n36. -2.31004054082747\n37. -1.78795210148886\n38. -1.06506041625077\n39. 0.0594377607862431\n40. 0.9429720427439\n41. 0.983132691923793\n42. 0.0995984099661366\n43. 0.501204901765071\n44. 1.94698827224124\n45. 0.420883603405284\n46. 0.0594377607862431\n47. 1.10361463946347\n48. 0.541365550944965\n49. -1.26586366215024\n50. -0.101204835933331\n\n\n",
            "text/latex": "\\begin{enumerate*}\n\\item 0.782329446024326\n\\item -1.58714885558939\n\\item 0.0995984099661366\n\\item 0.501204901765071\n\\item 0.9429720427439\n\\item -0.542971976912159\n\\item -0.864257170351307\n\\item -0.703614573631733\n\\item 0.782329446024326\n\\item 0.702008147664539\n\\item -0.221686783473011\n\\item -0.181526134293118\n\\item 0.0192771116063496\n\\item 0.862650744384113\n\\item 0.581526200124858\n\\item -0.703614573631733\n\\item -1.66747015394918\n\\item 0.260241006685711\n\\item -1.30602431133014\n\\item -0.824096521171414\n\\item 1.14377528864337\n\\item 0.983132691923793\n\\item -0.623293275271946\n\\item -1.22570301297035\n\\item -0.261847432652905\n\\item 0.13975905914603\n\\item 0.702008147664539\n\\item 0.501204901765071\n\\item -0.101204835933331\n\\item -1.70763080312907\n\\item 1.78634567552166\n\\item -0.261847432652905\n\\item 2.1477915181407\n\\item -0.623293275271946\n\\item 0.340562305045498\n\\item -2.31004054082747\n\\item -1.78795210148886\n\\item -1.06506041625077\n\\item 0.0594377607862431\n\\item 0.9429720427439\n\\item 0.983132691923793\n\\item 0.0995984099661366\n\\item 0.501204901765071\n\\item 1.94698827224124\n\\item 0.420883603405284\n\\item 0.0594377607862431\n\\item 1.10361463946347\n\\item 0.541365550944965\n\\item -1.26586366215024\n\\item -0.101204835933331\n\\end{enumerate*}\n",
            "text/plain": [
              " [1]  0.78232945 -1.58714886  0.09959841  0.50120490  0.94297204 -0.54297198\n",
              " [7] -0.86425717 -0.70361457  0.78232945  0.70200815 -0.22168678 -0.18152613\n",
              "[13]  0.01927711  0.86265074  0.58152620 -0.70361457 -1.66747015  0.26024101\n",
              "[19] -1.30602431 -0.82409652  1.14377529  0.98313269 -0.62329328 -1.22570301\n",
              "[25] -0.26184743  0.13975906  0.70200815  0.50120490 -0.10120484 -1.70763080\n",
              "[31]  1.78634568 -0.26184743  2.14779152 -0.62329328  0.34056231 -2.31004054\n",
              "[37] -1.78795210 -1.06506042  0.05943776  0.94297204  0.98313269  0.09959841\n",
              "[43]  0.50120490  1.94698827  0.42088360  0.05943776  1.10361464  0.54136555\n",
              "[49] -1.26586366 -0.10120484"
            ]
          },
          "metadata": {}
        }
      ]
    },
    {
      "cell_type": "code",
      "source": [
        "(foodData$OilPercentage - mean(foodData$OilPercentage)) / sd(foodData$OilPercentage)"
      ],
      "metadata": {
        "colab": {
          "base_uri": "https://localhost:8080/",
          "height": 138
        },
        "id": "fL7w12-aBxpE",
        "outputId": "594b09f4-b4d0-40f7-87ae-804c434b6f1f"
      },
      "execution_count": 59,
      "outputs": [
        {
          "output_type": "display_data",
          "data": {
            "text/html": [
              "<style>\n",
              ".list-inline {list-style: none; margin:0; padding: 0}\n",
              ".list-inline>li {display: inline-block}\n",
              ".list-inline>li:not(:last-child)::after {content: \"\\00b7\"; padding: 0 .5ex}\n",
              "</style>\n",
              "<ol class=list-inline><li>-0.440952884918384</li><li>0.312812730326718</li><li>-0.62939428872966</li><li>-0.315325282377534</li><li>-0.566580487459234</li><li>1.19220594811267</li><li>0.752509339219694</li><li>0.187185127785868</li><li>-0.943463295081786</li><li>-0.50376668618881</li><li>0.501254134137994</li><li>0.124371326515442</li><li>0.752509339219694</li><li>-2.07411171794944</li><li>-0.88064949381136</li><li>-0.50376668618881</li><li>1.06657834557182</li><li>0.0615575252450183</li><li>-0.315325282377534</li><li>1.19220594811267</li><li>-2.19973932049029</li><li>-1.57160130778604</li><li>0.56406793540842</li><li>-0.00125627602540781</li><li>0.94095074303097</li><li>0.56406793540842</li><li>-0.378139083647958</li><li>-0.0640700772958317</li><li>0.124371326515442</li><li>1.38064735192395</li><li>-0.817835692540935</li><li>-0.0640700772958317</li><li>-1.06909089762264</li><li>0.312812730326718</li><li>-0.817835692540935</li><li>2.5112957747916</li><li>1.44346115319437</li><li>2.07159916589862</li><li>-0.126883878566258</li><li>-0.315325282377534</li><li>-0.252511481107108</li><li>-0.252511481107108</li><li>-0.566580487459234</li><li>-0.62939428872966</li><li>0.56406793540842</li><li>-0.378139083647958</li><li>-0.50376668618881</li><li>-1.32034610270434</li><li>2.44848197352118</li><li>-0.566580487459234</li></ol>\n"
            ],
            "text/markdown": "1. -0.440952884918384\n2. 0.312812730326718\n3. -0.62939428872966\n4. -0.315325282377534\n5. -0.566580487459234\n6. 1.19220594811267\n7. 0.752509339219694\n8. 0.187185127785868\n9. -0.943463295081786\n10. -0.50376668618881\n11. 0.501254134137994\n12. 0.124371326515442\n13. 0.752509339219694\n14. -2.07411171794944\n15. -0.88064949381136\n16. -0.50376668618881\n17. 1.06657834557182\n18. 0.0615575252450183\n19. -0.315325282377534\n20. 1.19220594811267\n21. -2.19973932049029\n22. -1.57160130778604\n23. 0.56406793540842\n24. -0.00125627602540781\n25. 0.94095074303097\n26. 0.56406793540842\n27. -0.378139083647958\n28. -0.0640700772958317\n29. 0.124371326515442\n30. 1.38064735192395\n31. -0.817835692540935\n32. -0.0640700772958317\n33. -1.06909089762264\n34. 0.312812730326718\n35. -0.817835692540935\n36. 2.5112957747916\n37. 1.44346115319437\n38. 2.07159916589862\n39. -0.126883878566258\n40. -0.315325282377534\n41. -0.252511481107108\n42. -0.252511481107108\n43. -0.566580487459234\n44. -0.62939428872966\n45. 0.56406793540842\n46. -0.378139083647958\n47. -0.50376668618881\n48. -1.32034610270434\n49. 2.44848197352118\n50. -0.566580487459234\n\n\n",
            "text/latex": "\\begin{enumerate*}\n\\item -0.440952884918384\n\\item 0.312812730326718\n\\item -0.62939428872966\n\\item -0.315325282377534\n\\item -0.566580487459234\n\\item 1.19220594811267\n\\item 0.752509339219694\n\\item 0.187185127785868\n\\item -0.943463295081786\n\\item -0.50376668618881\n\\item 0.501254134137994\n\\item 0.124371326515442\n\\item 0.752509339219694\n\\item -2.07411171794944\n\\item -0.88064949381136\n\\item -0.50376668618881\n\\item 1.06657834557182\n\\item 0.0615575252450183\n\\item -0.315325282377534\n\\item 1.19220594811267\n\\item -2.19973932049029\n\\item -1.57160130778604\n\\item 0.56406793540842\n\\item -0.00125627602540781\n\\item 0.94095074303097\n\\item 0.56406793540842\n\\item -0.378139083647958\n\\item -0.0640700772958317\n\\item 0.124371326515442\n\\item 1.38064735192395\n\\item -0.817835692540935\n\\item -0.0640700772958317\n\\item -1.06909089762264\n\\item 0.312812730326718\n\\item -0.817835692540935\n\\item 2.5112957747916\n\\item 1.44346115319437\n\\item 2.07159916589862\n\\item -0.126883878566258\n\\item -0.315325282377534\n\\item -0.252511481107108\n\\item -0.252511481107108\n\\item -0.566580487459234\n\\item -0.62939428872966\n\\item 0.56406793540842\n\\item -0.378139083647958\n\\item -0.50376668618881\n\\item -1.32034610270434\n\\item 2.44848197352118\n\\item -0.566580487459234\n\\end{enumerate*}\n",
            "text/plain": [
              " [1] -0.440952885  0.312812730 -0.629394289 -0.315325282 -0.566580487\n",
              " [6]  1.192205948  0.752509339  0.187185128 -0.943463295 -0.503766686\n",
              "[11]  0.501254134  0.124371327  0.752509339 -2.074111718 -0.880649494\n",
              "[16] -0.503766686  1.066578346  0.061557525 -0.315325282  1.192205948\n",
              "[21] -2.199739320 -1.571601308  0.564067935 -0.001256276  0.940950743\n",
              "[26]  0.564067935 -0.378139084 -0.064070077  0.124371327  1.380647352\n",
              "[31] -0.817835693 -0.064070077 -1.069090898  0.312812730 -0.817835693\n",
              "[36]  2.511295775  1.443461153  2.071599166 -0.126883879 -0.315325282\n",
              "[41] -0.252511481 -0.252511481 -0.566580487 -0.629394289  0.564067935\n",
              "[46] -0.378139084 -0.503766686 -1.320346103  2.448481974 -0.566580487"
            ]
          },
          "metadata": {}
        }
      ]
    },
    {
      "cell_type": "code",
      "execution_count": 60,
      "metadata": {
        "id": "7eXMmf9byVHJ",
        "colab": {
          "base_uri": "https://localhost:8080/",
          "height": 1000
        },
        "outputId": "850368e2-a08e-43a6-f179-4d7c9ede7356"
      },
      "outputs": [
        {
          "output_type": "display_data",
          "data": {
            "text/html": [
              "<table class=\"dataframe\">\n",
              "<caption>A matrix: 50 × 1 of type dbl</caption>\n",
              "<tbody>\n",
              "\t<tr><td> 0.78232945</td></tr>\n",
              "\t<tr><td>-1.58714886</td></tr>\n",
              "\t<tr><td> 0.09959841</td></tr>\n",
              "\t<tr><td> 0.50120490</td></tr>\n",
              "\t<tr><td> 0.94297204</td></tr>\n",
              "\t<tr><td>-0.54297198</td></tr>\n",
              "\t<tr><td>-0.86425717</td></tr>\n",
              "\t<tr><td>-0.70361457</td></tr>\n",
              "\t<tr><td> 0.78232945</td></tr>\n",
              "\t<tr><td> 0.70200815</td></tr>\n",
              "\t<tr><td>-0.22168678</td></tr>\n",
              "\t<tr><td>-0.18152613</td></tr>\n",
              "\t<tr><td> 0.01927711</td></tr>\n",
              "\t<tr><td> 0.86265074</td></tr>\n",
              "\t<tr><td> 0.58152620</td></tr>\n",
              "\t<tr><td>-0.70361457</td></tr>\n",
              "\t<tr><td>-1.66747015</td></tr>\n",
              "\t<tr><td> 0.26024101</td></tr>\n",
              "\t<tr><td>-1.30602431</td></tr>\n",
              "\t<tr><td>-0.82409652</td></tr>\n",
              "\t<tr><td> 1.14377529</td></tr>\n",
              "\t<tr><td> 0.98313269</td></tr>\n",
              "\t<tr><td>-0.62329328</td></tr>\n",
              "\t<tr><td>-1.22570301</td></tr>\n",
              "\t<tr><td>-0.26184743</td></tr>\n",
              "\t<tr><td> 0.13975906</td></tr>\n",
              "\t<tr><td> 0.70200815</td></tr>\n",
              "\t<tr><td> 0.50120490</td></tr>\n",
              "\t<tr><td>-0.10120484</td></tr>\n",
              "\t<tr><td>-1.70763080</td></tr>\n",
              "\t<tr><td> 1.78634568</td></tr>\n",
              "\t<tr><td>-0.26184743</td></tr>\n",
              "\t<tr><td> 2.14779152</td></tr>\n",
              "\t<tr><td>-0.62329328</td></tr>\n",
              "\t<tr><td> 0.34056231</td></tr>\n",
              "\t<tr><td>-2.31004054</td></tr>\n",
              "\t<tr><td>-1.78795210</td></tr>\n",
              "\t<tr><td>-1.06506042</td></tr>\n",
              "\t<tr><td> 0.05943776</td></tr>\n",
              "\t<tr><td> 0.94297204</td></tr>\n",
              "\t<tr><td> 0.98313269</td></tr>\n",
              "\t<tr><td> 0.09959841</td></tr>\n",
              "\t<tr><td> 0.50120490</td></tr>\n",
              "\t<tr><td> 1.94698827</td></tr>\n",
              "\t<tr><td> 0.42088360</td></tr>\n",
              "\t<tr><td> 0.05943776</td></tr>\n",
              "\t<tr><td> 1.10361464</td></tr>\n",
              "\t<tr><td> 0.54136555</td></tr>\n",
              "\t<tr><td>-1.26586366</td></tr>\n",
              "\t<tr><td>-0.10120484</td></tr>\n",
              "</tbody>\n",
              "</table>\n"
            ],
            "text/markdown": "\nA matrix: 50 × 1 of type dbl\n\n|  0.78232945 |\n| -1.58714886 |\n|  0.09959841 |\n|  0.50120490 |\n|  0.94297204 |\n| -0.54297198 |\n| -0.86425717 |\n| -0.70361457 |\n|  0.78232945 |\n|  0.70200815 |\n| -0.22168678 |\n| -0.18152613 |\n|  0.01927711 |\n|  0.86265074 |\n|  0.58152620 |\n| -0.70361457 |\n| -1.66747015 |\n|  0.26024101 |\n| -1.30602431 |\n| -0.82409652 |\n|  1.14377529 |\n|  0.98313269 |\n| -0.62329328 |\n| -1.22570301 |\n| -0.26184743 |\n|  0.13975906 |\n|  0.70200815 |\n|  0.50120490 |\n| -0.10120484 |\n| -1.70763080 |\n|  1.78634568 |\n| -0.26184743 |\n|  2.14779152 |\n| -0.62329328 |\n|  0.34056231 |\n| -2.31004054 |\n| -1.78795210 |\n| -1.06506042 |\n|  0.05943776 |\n|  0.94297204 |\n|  0.98313269 |\n|  0.09959841 |\n|  0.50120490 |\n|  1.94698827 |\n|  0.42088360 |\n|  0.05943776 |\n|  1.10361464 |\n|  0.54136555 |\n| -1.26586366 |\n| -0.10120484 |\n\n",
            "text/latex": "A matrix: 50 × 1 of type dbl\n\\begin{tabular}{l}\n\t  0.78232945\\\\\n\t -1.58714886\\\\\n\t  0.09959841\\\\\n\t  0.50120490\\\\\n\t  0.94297204\\\\\n\t -0.54297198\\\\\n\t -0.86425717\\\\\n\t -0.70361457\\\\\n\t  0.78232945\\\\\n\t  0.70200815\\\\\n\t -0.22168678\\\\\n\t -0.18152613\\\\\n\t  0.01927711\\\\\n\t  0.86265074\\\\\n\t  0.58152620\\\\\n\t -0.70361457\\\\\n\t -1.66747015\\\\\n\t  0.26024101\\\\\n\t -1.30602431\\\\\n\t -0.82409652\\\\\n\t  1.14377529\\\\\n\t  0.98313269\\\\\n\t -0.62329328\\\\\n\t -1.22570301\\\\\n\t -0.26184743\\\\\n\t  0.13975906\\\\\n\t  0.70200815\\\\\n\t  0.50120490\\\\\n\t -0.10120484\\\\\n\t -1.70763080\\\\\n\t  1.78634568\\\\\n\t -0.26184743\\\\\n\t  2.14779152\\\\\n\t -0.62329328\\\\\n\t  0.34056231\\\\\n\t -2.31004054\\\\\n\t -1.78795210\\\\\n\t -1.06506042\\\\\n\t  0.05943776\\\\\n\t  0.94297204\\\\\n\t  0.98313269\\\\\n\t  0.09959841\\\\\n\t  0.50120490\\\\\n\t  1.94698827\\\\\n\t  0.42088360\\\\\n\t  0.05943776\\\\\n\t  1.10361464\\\\\n\t  0.54136555\\\\\n\t -1.26586366\\\\\n\t -0.10120484\\\\\n\\end{tabular}\n",
            "text/plain": [
              "      [,1]       \n",
              " [1,]  0.78232945\n",
              " [2,] -1.58714886\n",
              " [3,]  0.09959841\n",
              " [4,]  0.50120490\n",
              " [5,]  0.94297204\n",
              " [6,] -0.54297198\n",
              " [7,] -0.86425717\n",
              " [8,] -0.70361457\n",
              " [9,]  0.78232945\n",
              "[10,]  0.70200815\n",
              "[11,] -0.22168678\n",
              "[12,] -0.18152613\n",
              "[13,]  0.01927711\n",
              "[14,]  0.86265074\n",
              "[15,]  0.58152620\n",
              "[16,] -0.70361457\n",
              "[17,] -1.66747015\n",
              "[18,]  0.26024101\n",
              "[19,] -1.30602431\n",
              "[20,] -0.82409652\n",
              "[21,]  1.14377529\n",
              "[22,]  0.98313269\n",
              "[23,] -0.62329328\n",
              "[24,] -1.22570301\n",
              "[25,] -0.26184743\n",
              "[26,]  0.13975906\n",
              "[27,]  0.70200815\n",
              "[28,]  0.50120490\n",
              "[29,] -0.10120484\n",
              "[30,] -1.70763080\n",
              "[31,]  1.78634568\n",
              "[32,] -0.26184743\n",
              "[33,]  2.14779152\n",
              "[34,] -0.62329328\n",
              "[35,]  0.34056231\n",
              "[36,] -2.31004054\n",
              "[37,] -1.78795210\n",
              "[38,] -1.06506042\n",
              "[39,]  0.05943776\n",
              "[40,]  0.94297204\n",
              "[41,]  0.98313269\n",
              "[42,]  0.09959841\n",
              "[43,]  0.50120490\n",
              "[44,]  1.94698827\n",
              "[45,]  0.42088360\n",
              "[46,]  0.05943776\n",
              "[47,]  1.10361464\n",
              "[48,]  0.54136555\n",
              "[49,] -1.26586366\n",
              "[50,] -0.10120484"
            ]
          },
          "metadata": {}
        }
      ],
      "source": [
        "scale(foodData$Density)"
      ]
    },
    {
      "cell_type": "markdown",
      "source": [
        "Scaling continuous columns of the dataframe"
      ],
      "metadata": {
        "id": "Bid0PXUH0vXT"
      }
    },
    {
      "cell_type": "code",
      "execution_count": 68,
      "metadata": {
        "id": "aght3IybPlFR",
        "colab": {
          "base_uri": "https://localhost:8080/",
          "height": 255
        },
        "outputId": "5ea70902-da5d-43bb-eaf5-4f5545fa6a3f"
      },
      "outputs": [
        {
          "output_type": "display_data",
          "data": {
            "text/html": [
              "<table class=\"dataframe\">\n",
              "<caption>A data.frame: 5 × 7</caption>\n",
              "<thead>\n",
              "\t<tr><th></th><th scope=col>OilPercentage</th><th scope=col>Density</th><th scope=col>Crispy</th><th scope=col>Fracture</th><th scope=col>Hardness</th><th scope=col>Densitylevel</th><th scope=col>Crispylevel</th></tr>\n",
              "\t<tr><th></th><th scope=col>&lt;dbl[,1]&gt;</th><th scope=col>&lt;dbl[,1]&gt;</th><th scope=col>&lt;fct&gt;</th><th scope=col>&lt;dbl[,1]&gt;</th><th scope=col>&lt;dbl[,1]&gt;</th><th scope=col>&lt;fct&gt;</th><th scope=col>&lt;fct&gt;</th></tr>\n",
              "</thead>\n",
              "<tbody>\n",
              "\t<tr><th scope=row>B110</th><td>-0.4409529</td><td> 0.78232945</td><td>10</td><td> 0.3915059</td><td>-1.0016841</td><td>Low </td><td>Low </td></tr>\n",
              "\t<tr><th scope=row>B136</th><td> 0.3128127</td><td>-1.58714886</td><td>14</td><td>-2.1697476</td><td> 0.3476017</td><td>High</td><td>High</td></tr>\n",
              "\t<tr><th scope=row>B171</th><td>-0.6293943</td><td> 0.09959841</td><td>12</td><td>-0.7061742</td><td> 0.4761051</td><td>Low </td><td>High</td></tr>\n",
              "\t<tr><th scope=row>B192</th><td>-0.3153253</td><td> 0.50120490</td><td>10</td><td> 1.8550793</td><td>-1.0659358</td><td>Low </td><td>Low </td></tr>\n",
              "\t<tr><th scope=row>B225</th><td>-0.5665805</td><td> 0.94297204</td><td>11</td><td> 0.9403459</td><td> 0.4761051</td><td>Low </td><td>Low </td></tr>\n",
              "</tbody>\n",
              "</table>\n"
            ],
            "text/markdown": "\nA data.frame: 5 × 7\n\n| <!--/--> | OilPercentage &lt;dbl[,1]&gt; | Density &lt;dbl[,1]&gt; | Crispy &lt;fct&gt; | Fracture &lt;dbl[,1]&gt; | Hardness &lt;dbl[,1]&gt; | Densitylevel &lt;fct&gt; | Crispylevel &lt;fct&gt; |\n|---|---|---|---|---|---|---|---|\n| B110 | -0.4409529 |  0.78232945 | 10 |  0.3915059 | -1.0016841 | Low  | Low  |\n| B136 |  0.3128127 | -1.58714886 | 14 | -2.1697476 |  0.3476017 | High | High |\n| B171 | -0.6293943 |  0.09959841 | 12 | -0.7061742 |  0.4761051 | Low  | High |\n| B192 | -0.3153253 |  0.50120490 | 10 |  1.8550793 | -1.0659358 | Low  | Low  |\n| B225 | -0.5665805 |  0.94297204 | 11 |  0.9403459 |  0.4761051 | Low  | Low  |\n\n",
            "text/latex": "A data.frame: 5 × 7\n\\begin{tabular}{r|lllllll}\n  & OilPercentage & Density & Crispy & Fracture & Hardness & Densitylevel & Crispylevel\\\\\n  & <dbl{[},1{]}> & <dbl{[},1{]}> & <fct> & <dbl{[},1{]}> & <dbl{[},1{]}> & <fct> & <fct>\\\\\n\\hline\n\tB110 & -0.4409529 &  0.78232945 & 10 &  0.3915059 & -1.0016841 & Low  & Low \\\\\n\tB136 &  0.3128127 & -1.58714886 & 14 & -2.1697476 &  0.3476017 & High & High\\\\\n\tB171 & -0.6293943 &  0.09959841 & 12 & -0.7061742 &  0.4761051 & Low  & High\\\\\n\tB192 & -0.3153253 &  0.50120490 & 10 &  1.8550793 & -1.0659358 & Low  & Low \\\\\n\tB225 & -0.5665805 &  0.94297204 & 11 &  0.9403459 &  0.4761051 & Low  & Low \\\\\n\\end{tabular}\n",
            "text/plain": [
              "     OilPercentage Density     Crispy Fracture   Hardness   Densitylevel\n",
              "B110 -0.4409529     0.78232945 10      0.3915059 -1.0016841 Low         \n",
              "B136  0.3128127    -1.58714886 14     -2.1697476  0.3476017 High        \n",
              "B171 -0.6293943     0.09959841 12     -0.7061742  0.4761051 Low         \n",
              "B192 -0.3153253     0.50120490 10      1.8550793 -1.0659358 Low         \n",
              "B225 -0.5665805     0.94297204 11      0.9403459  0.4761051 Low         \n",
              "     Crispylevel\n",
              "B110 Low        \n",
              "B136 High       \n",
              "B171 High       \n",
              "B192 Low        \n",
              "B225 Low        "
            ]
          },
          "metadata": {}
        }
      ],
      "source": [
        "continuous_cols = setdiff(colnames(foodData), cat_cols)\n",
        "foodData[continuous_cols] = lapply(foodData[continuous_cols], scale)\n",
        "head(foodData, 5)"
      ]
    },
    {
      "cell_type": "code",
      "source": [
        "# calculating the correlation matrix for the continuous features\n",
        "cor(foodData[continuous_cols])"
      ],
      "metadata": {
        "colab": {
          "base_uri": "https://localhost:8080/",
          "height": 192
        },
        "id": "-KvQrjWwyHlz",
        "outputId": "bbcff851-4738-47dc-aaa4-0247e6d14b7a"
      },
      "execution_count": 69,
      "outputs": [
        {
          "output_type": "display_data",
          "data": {
            "text/html": [
              "<table class=\"dataframe\">\n",
              "<caption>A matrix: 4 × 4 of type dbl</caption>\n",
              "<thead>\n",
              "\t<tr><th></th><th scope=col>OilPercentage</th><th scope=col>Density</th><th scope=col>Fracture</th><th scope=col>Hardness</th></tr>\n",
              "</thead>\n",
              "<tbody>\n",
              "\t<tr><th scope=row>OilPercentage</th><td> 1.00000000</td><td>-0.7500240</td><td>-0.5337392</td><td>-0.09604521</td></tr>\n",
              "\t<tr><th scope=row>Density</th><td>-0.75002399</td><td> 1.0000000</td><td> 0.5721324</td><td> 0.10793720</td></tr>\n",
              "\t<tr><th scope=row>Fracture</th><td>-0.53373917</td><td> 0.5721324</td><td> 1.0000000</td><td>-0.37335844</td></tr>\n",
              "\t<tr><th scope=row>Hardness</th><td>-0.09604521</td><td> 0.1079372</td><td>-0.3733584</td><td> 1.00000000</td></tr>\n",
              "</tbody>\n",
              "</table>\n"
            ],
            "text/markdown": "\nA matrix: 4 × 4 of type dbl\n\n| <!--/--> | OilPercentage | Density | Fracture | Hardness |\n|---|---|---|---|---|\n| OilPercentage |  1.00000000 | -0.7500240 | -0.5337392 | -0.09604521 |\n| Density | -0.75002399 |  1.0000000 |  0.5721324 |  0.10793720 |\n| Fracture | -0.53373917 |  0.5721324 |  1.0000000 | -0.37335844 |\n| Hardness | -0.09604521 |  0.1079372 | -0.3733584 |  1.00000000 |\n\n",
            "text/latex": "A matrix: 4 × 4 of type dbl\n\\begin{tabular}{r|llll}\n  & OilPercentage & Density & Fracture & Hardness\\\\\n\\hline\n\tOilPercentage &  1.00000000 & -0.7500240 & -0.5337392 & -0.09604521\\\\\n\tDensity & -0.75002399 &  1.0000000 &  0.5721324 &  0.10793720\\\\\n\tFracture & -0.53373917 &  0.5721324 &  1.0000000 & -0.37335844\\\\\n\tHardness & -0.09604521 &  0.1079372 & -0.3733584 &  1.00000000\\\\\n\\end{tabular}\n",
            "text/plain": [
              "              OilPercentage Density    Fracture   Hardness   \n",
              "OilPercentage  1.00000000   -0.7500240 -0.5337392 -0.09604521\n",
              "Density       -0.75002399    1.0000000  0.5721324  0.10793720\n",
              "Fracture      -0.53373917    0.5721324  1.0000000 -0.37335844\n",
              "Hardness      -0.09604521    0.1079372 -0.3733584  1.00000000"
            ]
          },
          "metadata": {}
        }
      ]
    },
    {
      "cell_type": "code",
      "source": [
        "# scatter-plot between density and hardness\n",
        "p3 = ggplot(data = foodData) + geom_point(aes(x = Hardness,\n",
        "y = Density), size = 1)\n",
        "p3"
      ],
      "metadata": {
        "colab": {
          "base_uri": "https://localhost:8080/",
          "height": 437
        },
        "id": "9sqbAvVnyHng",
        "outputId": "1f50861b-4a4d-4c1c-df05-d03d8bc9641f"
      },
      "execution_count": 71,
      "outputs": [
        {
          "output_type": "display_data",
          "data": {
            "text/plain": [
              "plot without title"
            ],
            "image/png": "[encoded data removed]"
          },
          "metadata": {
            "image/png": {
              "width": 420,
              "height": 420
            }
          }
        }
      ]
    },
    {
      "cell_type": "code",
      "source": [
        "# scatter-plot between density and fracture\n",
        "p4 = ggplot(data = foodData) + geom_point(aes(\n",
        "  x = Fracture, y= Density\n",
        "), size = 1)\n",
        "p4"
      ],
      "metadata": {
        "colab": {
          "base_uri": "https://localhost:8080/",
          "height": 437
        },
        "id": "pIL-zTNVyHrs",
        "outputId": "4fe61cad-ec4f-4a22-d44e-93fa34d13306"
      },
      "execution_count": 73,
      "outputs": [
        {
          "output_type": "display_data",
          "data": {
            "text/plain": [
              "plot without title"
            ],
            "image/png": "[encoded data removed]"
          },
          "metadata": {
            "image/png": {
              "width": 420,
              "height": 420
            }
          }
        }
      ]
    }
  ],
  "metadata": {
    "colab": {
      "provenance": []
    },
    "kernelspec": {
      "display_name": "R",
      "name": "ir"
    },
    "language_info": {
      "name": "R"
    }
  },
  "nbformat": 4,
  "nbformat_minor": 0
}