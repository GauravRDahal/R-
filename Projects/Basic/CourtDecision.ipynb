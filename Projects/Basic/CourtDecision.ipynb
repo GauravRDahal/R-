{
  "nbformat": 4,
  "nbformat_minor": 0,
  "metadata": {
    "colab": {
      "provenance": []
    },
    "kernelspec": {
      "name": "ir",
      "display_name": "R"
    },
    "language_info": {
      "name": "R"
    }
  },
  "cells": [
    {
      "cell_type": "markdown",
      "source": [
        "# Court Decision\n",
        "Using simulation to calculate probabilites based on past data to see what a court does as a unit."
      ],
      "metadata": {
        "id": "XFcRQXZa-qX8"
      }
    },
    {
      "cell_type": "code",
      "source": [
        "jcp = c(0.95, 0.95, 0.9, 0.9, 0.8) #judge's correct probability (jcp)\n",
        "jicp = 1 - jcp #broadcasting\n",
        "jicp #judge incorrect probabilities (jicp)"
      ],
      "metadata": {
        "id": "-z2MN6kt-ppZ"
      },
      "execution_count": null,
      "outputs": []
    },
    {
      "cell_type": "code",
      "source": [
        "#Lets calculate how the judical system is working\n",
        "#Calculating the likelihood that the court would make an incorrect decision\n",
        "#Creatibng a matrix from judges correct and incorrect probabilities\n",
        "p = matrix(c(jcp[1], jicp[1],\n",
        "jcp[2], jicp[2],\n",
        "jcp[3], jicp[3],\n",
        "jcp[4], jicp[4],\n",
        "jcp[5], jicp[5]), nrow = 2, ncol = 5)\n",
        "print(p)"
      ],
      "metadata": {
        "colab": {
          "base_uri": "https://localhost:8080/"
        },
        "id": "m4Efo7L2-A-n",
        "outputId": "ce26f7e4-1dff-4ddd-b987-9c9acdccd8e3"
      },
      "execution_count": 2,
      "outputs": [
        {
          "output_type": "stream",
          "name": "stdout",
          "text": [
            "     [,1] [,2] [,3] [,4] [,5]\n",
            "[1,] 0.95 0.95  0.9  0.9  0.8\n",
            "[2,] 0.05 0.05  0.1  0.1  0.2\n"
          ]
        }
      ]
    },
    {
      "cell_type": "markdown",
      "source": [
        "Here, we can see the probability for correct decision and in the secoind row we can see the probability for incorrect decisions."
      ],
      "metadata": {
        "id": "VbtKidjH-Gan"
      }
    },
    {
      "cell_type": "code",
      "source": [
        "decision = c(1, 0) # where, 1 = released and 0 = not released"
      ],
      "metadata": {
        "id": "hULnY24Q-A_t"
      },
      "execution_count": 3,
      "outputs": []
    },
    {
      "cell_type": "code",
      "source": [
        "cdecision = vector('integer', ncol(p))  # court decision\n",
        "cdecision\n",
        "# if it changes to 1 the judge has made a correct decision and vice versa."
      ],
      "metadata": {
        "colab": {
          "base_uri": "https://localhost:8080/",
          "height": 34
        },
        "id": "xVwlFEcV-BE4",
        "outputId": "a8e930dd-bc5f-4c4d-c0e1-67ad6b75525a"
      },
      "execution_count": 4,
      "outputs": [
        {
          "output_type": "display_data",
          "data": {
            "text/html": [
              "<style>\n",
              ".list-inline {list-style: none; margin:0; padding: 0}\n",
              ".list-inline>li {display: inline-block}\n",
              ".list-inline>li:not(:last-child)::after {content: \"\\00b7\"; padding: 0 .5ex}\n",
              "</style>\n",
              "<ol class=list-inline><li>0</li><li>0</li><li>0</li><li>0</li><li>0</li></ol>\n"
            ],
            "text/markdown": "1. 0\n2. 0\n3. 0\n4. 0\n5. 0\n\n\n",
            "text/latex": "\\begin{enumerate*}\n\\item 0\n\\item 0\n\\item 0\n\\item 0\n\\item 0\n\\end{enumerate*}\n",
            "text/plain": [
              "[1] 0 0 0 0 0"
            ]
          },
          "metadata": {}
        }
      ]
    },
    {
      "cell_type": "code",
      "source": [
        "for(j in 1:ncol(p)){\n",
        "  cdecision[j] = sample(decision, 1, replace = TRUE, prob = p[,j])\n",
        "}\n",
        "print(cdecision)\n",
        "\n",
        "if (sum(cdecision) >= 3) {\n",
        "  print(\"Release the prisioner\")\n",
        "} else{\n",
        "  print(\"Do not release the prisioner.\")\n",
        "}"
      ],
      "metadata": {
        "colab": {
          "base_uri": "https://localhost:8080/"
        },
        "id": "oAke9eyS-NXu",
        "outputId": "9796c685-559e-4c17-def6-80158ef082bc"
      },
      "execution_count": 48,
      "outputs": [
        {
          "output_type": "stream",
          "name": "stdout",
          "text": [
            "[1] 1 1 1 0 0\n",
            "[1] \"Release the prisioner\"\n"
          ]
        }
      ]
    },
    {
      "cell_type": "code",
      "source": [
        "# val is what is returned\n",
        "courtdecision = function(){\n",
        "  p = matrix(c(jcp[1], jicp[1],\n",
        "  jcp[2], jicp[2],\n",
        "  jcp[3], jicp[3],\n",
        "  jcp[4], jicp[4],\n",
        "  jcp[5], jicp[5]), nrow = 2, ncol = 5)\n",
        "\n",
        "decision = c(1, 0) # where, 1 = released and 0 = not released\n",
        "cdecision = vector('integer', ncol(p))  # court decision\n",
        "\n",
        "for(j in 1:ncol(p)){\n",
        "  cdecision[j] = sample(decision, 1, replace = TRUE, prob = p[,j])\n",
        "  }\n",
        "  #print(cdecision)\n",
        "\n",
        "if (sum(cdecision) >= 3) {\n",
        "  return(1)\n",
        "  } else{\n",
        "    return(0)\n",
        "    }\n",
        "}"
      ],
      "metadata": {
        "id": "ebvllVFJ_kVW"
      },
      "execution_count": 51,
      "outputs": []
    },
    {
      "cell_type": "code",
      "source": [
        "courtdecision()\n",
        "# where, 1 = released and 0 = not released"
      ],
      "metadata": {
        "colab": {
          "base_uri": "https://localhost:8080/",
          "height": 34
        },
        "id": "E93pCnYDBYpO",
        "outputId": "a1d2e584-af0a-4865-b933-2ffd0aa4b7b0"
      },
      "execution_count": 76,
      "outputs": [
        {
          "output_type": "display_data",
          "data": {
            "text/html": [
              "1"
            ],
            "text/markdown": "1",
            "text/latex": "1",
            "text/plain": [
              "[1] 1"
            ]
          },
          "metadata": {}
        }
      ]
    },
    {
      "cell_type": "code",
      "source": [
        "# simulating/replicating the function number of times\n",
        "results = replicate(10000, courtdecision())"
      ],
      "metadata": {
        "id": "TlFLcYMXB4uK"
      },
      "execution_count": 110,
      "outputs": []
    },
    {
      "cell_type": "markdown",
      "source": [
        "Court's correct probability"
      ],
      "metadata": {
        "id": "bu2FbQ3XD4A9"
      }
    },
    {
      "cell_type": "code",
      "source": [
        "mean(results)*100"
      ],
      "metadata": {
        "colab": {
          "base_uri": "https://localhost:8080/",
          "height": 34
        },
        "id": "DVXKjPmWDPZm",
        "outputId": "73c47c47-68ee-49e0-85ae-de05cfa7ab46"
      },
      "execution_count": 111,
      "outputs": [
        {
          "output_type": "display_data",
          "data": {
            "text/html": [
              "99.51"
            ],
            "text/markdown": "99.51",
            "text/latex": "99.51",
            "text/plain": [
              "[1] 99.51"
            ]
          },
          "metadata": {}
        }
      ]
    },
    {
      "cell_type": "markdown",
      "source": [
        "Court's incorrect probability"
      ],
      "metadata": {
        "id": "RMRE6v4uD1DD"
      }
    },
    {
      "cell_type": "code",
      "source": [
        "round(100 - mean(results) * 100, 2)"
      ],
      "metadata": {
        "colab": {
          "base_uri": "https://localhost:8080/",
          "height": 34
        },
        "id": "rriSWCvbDkgv",
        "outputId": "ab63bc5f-f0c5-4f04-a676-549206758540"
      },
      "execution_count": 112,
      "outputs": [
        {
          "output_type": "display_data",
          "data": {
            "text/html": [
              "0.49"
            ],
            "text/markdown": "0.49",
            "text/latex": "0.49",
            "text/plain": [
              "[1] 0.49"
            ]
          },
          "metadata": {}
        }
      ]
    },
    {
      "cell_type": "markdown",
      "source": [
        "## Case 2\n",
        "Condition: What happens if Judge number 5 just repeats what Judge number 1 does."
      ],
      "metadata": {
        "id": "uCEnQ5T6Ec_c"
      }
    },
    {
      "cell_type": "code",
      "source": [
        "# val is what is returned\n",
        "courtdecision2 = function(){\n",
        "  p = matrix(c(jcp[1], jicp[1],\n",
        "  jcp[2], jicp[2],\n",
        "  jcp[3], jicp[3],\n",
        "  jcp[4], jicp[4],\n",
        "  jcp[5], jicp[5]), nrow = 2, ncol = 5)\n",
        "\n",
        "decision = c(1, 0) # where, 1 = released and 0 = not released\n",
        "cdecision = vector('integer', ncol(p))  # court decision\n",
        "\n",
        "for(j in 1:ncol(p)){\n",
        "  cdecision[j] = sample(decision, 1, replace = TRUE, prob = p[,j])\n",
        "  }\n",
        "  # Here, judge E is parroting judge A\n",
        "  cdecision[5] = cdecision[1]\n",
        "  #print(cdecision)\n",
        "\n",
        "if (sum(cdecision) >= 3) {\n",
        "  return(1)\n",
        "  } else{\n",
        "    return(0)\n",
        "    }\n",
        "}"
      ],
      "metadata": {
        "id": "nPjb1V2MEoSP"
      },
      "execution_count": 113,
      "outputs": []
    },
    {
      "cell_type": "code",
      "source": [
        "# simulating/replicating the function number of times\n",
        "results = replicate(10000, courtdecision2())"
      ],
      "metadata": {
        "id": "6LDnvZbxEoTa"
      },
      "execution_count": 114,
      "outputs": []
    },
    {
      "cell_type": "code",
      "source": [
        "# Court's incorrect probability\n",
        "round(100 - mean(results) * 100, 2)"
      ],
      "metadata": {
        "colab": {
          "base_uri": "https://localhost:8080/",
          "height": 34
        },
        "id": "Kx59L-R8EoYR",
        "outputId": "f1055151-fe0d-4c29-aa6e-700f30c02926"
      },
      "execution_count": 115,
      "outputs": [
        {
          "output_type": "display_data",
          "data": {
            "text/html": [
              "1.2"
            ],
            "text/markdown": "1.2",
            "text/latex": "1.2",
            "text/plain": [
              "[1] 1.2"
            ]
          },
          "metadata": {}
        }
      ]
    },
    {
      "cell_type": "markdown",
      "source": [
        "It's actually not improving the performace of the court."
      ],
      "metadata": {
        "id": "FbZsuiQIF1Rk"
      }
    }
  ]
}