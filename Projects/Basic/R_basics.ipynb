{
  "nbformat": 4,
  "nbformat_minor": 0,
  "metadata": {
    "colab": {
      "provenance": []
    },
    "kernelspec": {
      "name": "ir",
      "display_name": "R"
    },
    "language_info": {
      "name": "R"
    }
  },
  "cells": [
    {
      "cell_type": "code",
      "source": [
        "num1 = 12.7"
      ],
      "metadata": {
        "id": "w164XE9EQA-M"
      },
      "execution_count": 2,
      "outputs": []
    },
    {
      "cell_type": "code",
      "source": [
        "# to round a number downwards to its nearest integer\n",
        "floor(num1)"
      ],
      "metadata": {
        "colab": {
          "base_uri": "https://localhost:8080/",
          "height": 34
        },
        "id": "JyugQLWySUQQ",
        "outputId": "6c7c9622-cd81-4dff-9080-8d5e9986c2d8"
      },
      "execution_count": 3,
      "outputs": [
        {
          "output_type": "display_data",
          "data": {
            "text/html": [
              "12"
            ],
            "text/markdown": "12",
            "text/latex": "12",
            "text/plain": [
              "[1] 12"
            ]
          },
          "metadata": {}
        }
      ]
    },
    {
      "cell_type": "code",
      "source": [
        "# to round a number upwards to its nearest inetger\n",
        "ceiling(num1)"
      ],
      "metadata": {
        "colab": {
          "base_uri": "https://localhost:8080/",
          "height": 34
        },
        "id": "dPeFJgb0R336",
        "outputId": "7385ac6f-c938-400a-df6a-2e47bf8249da"
      },
      "execution_count": 4,
      "outputs": [
        {
          "output_type": "display_data",
          "data": {
            "text/html": [
              "13"
            ],
            "text/markdown": "13",
            "text/latex": "13",
            "text/plain": [
              "[1] 13"
            ]
          },
          "metadata": {}
        }
      ]
    },
    {
      "cell_type": "code",
      "source": [
        "# abs() to get the absolute value of a number\n",
        "abs(-14.890)"
      ],
      "metadata": {
        "colab": {
          "base_uri": "https://localhost:8080/",
          "height": 34
        },
        "id": "gvmbBg1WR6rn",
        "outputId": "019da455-88ef-4f37-ed7f-260a55af0b5b"
      },
      "execution_count": 5,
      "outputs": [
        {
          "output_type": "display_data",
          "data": {
            "text/html": [
              "14.89"
            ],
            "text/markdown": "14.89",
            "text/latex": "14.89",
            "text/plain": [
              "[1] 14.89"
            ]
          },
          "metadata": {}
        }
      ]
    },
    {
      "cell_type": "code",
      "source": [
        "# sqrt(positive) to get the square root of a number\n",
        "sqrt(36)"
      ],
      "metadata": {
        "colab": {
          "base_uri": "https://localhost:8080/",
          "height": 34
        },
        "id": "AmdQWQxYR6s0",
        "outputId": "62375e89-d865-4309-a86d-ee81448971ea"
      },
      "execution_count": 6,
      "outputs": [
        {
          "output_type": "display_data",
          "data": {
            "text/html": [
              "6"
            ],
            "text/markdown": "6",
            "text/latex": "6",
            "text/plain": [
              "[1] 6"
            ]
          },
          "metadata": {}
        }
      ]
    },
    {
      "cell_type": "markdown",
      "source": [
        "## Characters"
      ],
      "metadata": {
        "id": "Iu3FjUMBT95R"
      }
    },
    {
      "cell_type": "code",
      "source": [
        "my_str = \"Hello, R!\"\n",
        "mulstr = \"Its a\n",
        "multi-line string\n",
        "in R.\"\n",
        "my_str\n",
        "mulstr"
      ],
      "metadata": {
        "colab": {
          "base_uri": "https://localhost:8080/",
          "height": 52
        },
        "id": "noljG6fqU5i6",
        "outputId": "634e09d0-a13b-424d-8805-2e2958c8eb91"
      },
      "execution_count": 7,
      "outputs": [
        {
          "output_type": "display_data",
          "data": {
            "text/html": [
              "'Hello, R!'"
            ],
            "text/markdown": "'Hello, R!'",
            "text/latex": "'Hello, R!'",
            "text/plain": [
              "[1] \"Hello, R!\""
            ]
          },
          "metadata": {}
        },
        {
          "output_type": "display_data",
          "data": {
            "text/html": [
              "'Its a\\nmulti-line string\\nin R.'"
            ],
            "text/markdown": "'Its a\\nmulti-line string\\nin R.'",
            "text/latex": "'Its a\\textbackslash{}nmulti-line string\\textbackslash{}nin R.'",
            "text/plain": [
              "[1] \"Its a\\nmulti-line string\\nin R.\""
            ]
          },
          "metadata": {}
        }
      ]
    },
    {
      "cell_type": "code",
      "source": [
        "# cat() to get the same input string shape\n",
        "cat(mulstr)"
      ],
      "metadata": {
        "colab": {
          "base_uri": "https://localhost:8080/"
        },
        "id": "QfHfJaqIR6xW",
        "outputId": "6771f431-ee0b-4028-d2f0-c5e5225179ad"
      },
      "execution_count": 8,
      "outputs": [
        {
          "output_type": "stream",
          "name": "stdout",
          "text": [
            "Its a\n",
            "multi-line string\n",
            "in R."
          ]
        }
      ]
    },
    {
      "cell_type": "code",
      "source": [
        "# nchar() to find the numbers of the characters\n",
        "nchar(mulstr)\n",
        "nchar(my_str)"
      ],
      "metadata": {
        "colab": {
          "base_uri": "https://localhost:8080/",
          "height": 52
        },
        "id": "IT_Qm3VqR6yu",
        "outputId": "aaf1ff3f-52d7-4d34-d1f5-78de2a164589"
      },
      "execution_count": 9,
      "outputs": [
        {
          "output_type": "display_data",
          "data": {
            "text/html": [
              "29"
            ],
            "text/markdown": "29",
            "text/latex": "29",
            "text/plain": [
              "[1] 29"
            ]
          },
          "metadata": {}
        },
        {
          "output_type": "display_data",
          "data": {
            "text/html": [
              "9"
            ],
            "text/markdown": "9",
            "text/latex": "9",
            "text/plain": [
              "[1] 9"
            ]
          },
          "metadata": {}
        }
      ]
    },
    {
      "cell_type": "code",
      "source": [
        "# grepl() to check if characters are present in a string\n",
        "grepl(\"R\", my_str)\n",
        "grepl(\"r\", my_str)\n",
        "grepl(\"!\", my_str)\n",
        "grepl(\"i\", mulstr)\n",
        "grepl(\"multi\", mulstr)\n",
        "grepl(\"Multi\", mulstr)"
      ],
      "metadata": {
        "colab": {
          "base_uri": "https://localhost:8080/",
          "height": 121
        },
        "id": "0ie_0RYjR62N",
        "outputId": "e5b4c544-9822-4daa-93dc-23536af74029"
      },
      "execution_count": 10,
      "outputs": [
        {
          "output_type": "display_data",
          "data": {
            "text/html": [
              "TRUE"
            ],
            "text/markdown": "TRUE",
            "text/latex": "TRUE",
            "text/plain": [
              "[1] TRUE"
            ]
          },
          "metadata": {}
        },
        {
          "output_type": "display_data",
          "data": {
            "text/html": [
              "FALSE"
            ],
            "text/markdown": "FALSE",
            "text/latex": "FALSE",
            "text/plain": [
              "[1] FALSE"
            ]
          },
          "metadata": {}
        },
        {
          "output_type": "display_data",
          "data": {
            "text/html": [
              "TRUE"
            ],
            "text/markdown": "TRUE",
            "text/latex": "TRUE",
            "text/plain": [
              "[1] TRUE"
            ]
          },
          "metadata": {}
        },
        {
          "output_type": "display_data",
          "data": {
            "text/html": [
              "TRUE"
            ],
            "text/markdown": "TRUE",
            "text/latex": "TRUE",
            "text/plain": [
              "[1] TRUE"
            ]
          },
          "metadata": {}
        },
        {
          "output_type": "display_data",
          "data": {
            "text/html": [
              "TRUE"
            ],
            "text/markdown": "TRUE",
            "text/latex": "TRUE",
            "text/plain": [
              "[1] TRUE"
            ]
          },
          "metadata": {}
        },
        {
          "output_type": "display_data",
          "data": {
            "text/html": [
              "FALSE"
            ],
            "text/markdown": "FALSE",
            "text/latex": "FALSE",
            "text/plain": [
              "[1] FALSE"
            ]
          },
          "metadata": {}
        }
      ]
    },
    {
      "cell_type": "code",
      "source": [
        "# paste() to concatenate(merge) strings\n",
        "paste(my_str, mulstr)"
      ],
      "metadata": {
        "colab": {
          "base_uri": "https://localhost:8080/",
          "height": 34
        },
        "id": "IFr6qI82R63c",
        "outputId": "28f57bbe-8889-4b05-a522-4132928d2159"
      },
      "execution_count": 11,
      "outputs": [
        {
          "output_type": "display_data",
          "data": {
            "text/html": [
              "'Hello, R! Its a\\nmulti-line string\\nin R.'"
            ],
            "text/markdown": "'Hello, R! Its a\\nmulti-line string\\nin R.'",
            "text/latex": "'Hello, R! Its a\\textbackslash{}nmulti-line string\\textbackslash{}nin R.'",
            "text/plain": [
              "[1] \"Hello, R! Its a\\nmulti-line string\\nin R.\""
            ]
          },
          "metadata": {}
        }
      ]
    },
    {
      "cell_type": "code",
      "source": [
        "# Escaping characters\n",
        "str1 = \"R is a \\\" Programming \\\" language.\"\n",
        "str1"
      ],
      "metadata": {
        "colab": {
          "base_uri": "https://localhost:8080/",
          "height": 34
        },
        "id": "jhlQXwYrR67Q",
        "outputId": "fc9454ee-5e38-4628-fef6-0d94a4cca391"
      },
      "execution_count": 12,
      "outputs": [
        {
          "output_type": "display_data",
          "data": {
            "text/html": [
              "'R is a \" Programming \" language.'"
            ],
            "text/markdown": "'R is a \" Programming \" language.'",
            "text/latex": "'R is a \" Programming \" language.'",
            "text/plain": [
              "[1] \"R is a \\\" Programming \\\" language.\""
            ]
          },
          "metadata": {}
        }
      ]
    },
    {
      "cell_type": "code",
      "source": [
        "cat(str1)"
      ],
      "metadata": {
        "colab": {
          "base_uri": "https://localhost:8080/"
        },
        "id": "agOzdKiXR68W",
        "outputId": "b3a33cff-3789-44ec-9481-c12e0d0468fd"
      },
      "execution_count": 13,
      "outputs": [
        {
          "output_type": "stream",
          "name": "stdout",
          "text": [
            "R is a \" Programming \" language."
          ]
        }
      ]
    },
    {
      "cell_type": "markdown",
      "source": [
        "## Operators"
      ],
      "metadata": {
        "id": "rzZK95BPySVj"
      }
    },
    {
      "cell_type": "code",
      "source": [
        "x = 12\n",
        "# reminder operator\n",
        "x %% 2\n",
        "x %% 5"
      ],
      "metadata": {
        "id": "8aZUIzu4R7AM",
        "colab": {
          "base_uri": "https://localhost:8080/",
          "height": 52
        },
        "outputId": "b4c88559-baa2-4b30-8877-27500255c8cd"
      },
      "execution_count": 14,
      "outputs": [
        {
          "output_type": "display_data",
          "data": {
            "text/html": [
              "0"
            ],
            "text/markdown": "0",
            "text/latex": "0",
            "text/plain": [
              "[1] 0"
            ]
          },
          "metadata": {}
        },
        {
          "output_type": "display_data",
          "data": {
            "text/html": [
              "2"
            ],
            "text/markdown": "2",
            "text/latex": "2",
            "text/plain": [
              "[1] 2"
            ]
          },
          "metadata": {}
        }
      ]
    },
    {
      "cell_type": "code",
      "source": [
        "# getting the integer number\n",
        "x %/% 2\n",
        "x %/% 5"
      ],
      "metadata": {
        "id": "pRjoGZbkR7CY",
        "colab": {
          "base_uri": "https://localhost:8080/",
          "height": 52
        },
        "outputId": "f29cea95-e980-47e1-a3ae-b225e2d50a6c"
      },
      "execution_count": 15,
      "outputs": [
        {
          "output_type": "display_data",
          "data": {
            "text/html": [
              "6"
            ],
            "text/markdown": "6",
            "text/latex": "6",
            "text/plain": [
              "[1] 6"
            ]
          },
          "metadata": {}
        },
        {
          "output_type": "display_data",
          "data": {
            "text/html": [
              "2"
            ],
            "text/markdown": "2",
            "text/latex": "2",
            "text/plain": [
              "[1] 2"
            ]
          },
          "metadata": {}
        }
      ]
    },
    {
      "cell_type": "code",
      "source": [
        "# logical operators\n",
        "TRUE & TRUE\n",
        "TRUE & FALSE"
      ],
      "metadata": {
        "id": "F5ZF20feR7FF",
        "colab": {
          "base_uri": "https://localhost:8080/",
          "height": 52
        },
        "outputId": "38adbf46-bdab-4e8e-b2f7-70ca6afde285"
      },
      "execution_count": 16,
      "outputs": [
        {
          "output_type": "display_data",
          "data": {
            "text/html": [
              "TRUE"
            ],
            "text/markdown": "TRUE",
            "text/latex": "TRUE",
            "text/plain": [
              "[1] TRUE"
            ]
          },
          "metadata": {}
        },
        {
          "output_type": "display_data",
          "data": {
            "text/html": [
              "FALSE"
            ],
            "text/markdown": "FALSE",
            "text/latex": "FALSE",
            "text/plain": [
              "[1] FALSE"
            ]
          },
          "metadata": {}
        }
      ]
    },
    {
      "cell_type": "code",
      "source": [
        "TRUE | TRUE\n",
        "TRUE | FALSE"
      ],
      "metadata": {
        "id": "tqGRxR06R7Ga",
        "colab": {
          "base_uri": "https://localhost:8080/",
          "height": 52
        },
        "outputId": "1269c565-5bce-4cda-8bee-2bfbe50598d3"
      },
      "execution_count": 17,
      "outputs": [
        {
          "output_type": "display_data",
          "data": {
            "text/html": [
              "TRUE"
            ],
            "text/markdown": "TRUE",
            "text/latex": "TRUE",
            "text/plain": [
              "[1] TRUE"
            ]
          },
          "metadata": {}
        },
        {
          "output_type": "display_data",
          "data": {
            "text/html": [
              "TRUE"
            ],
            "text/markdown": "TRUE",
            "text/latex": "TRUE",
            "text/plain": [
              "[1] TRUE"
            ]
          },
          "metadata": {}
        }
      ]
    },
    {
      "cell_type": "code",
      "source": [
        "TRUE == !FALSE"
      ],
      "metadata": {
        "id": "G2XEJmFcR7KN",
        "colab": {
          "base_uri": "https://localhost:8080/",
          "height": 34
        },
        "outputId": "f4ff3cc2-bd68-42df-b0aa-07fb8129b8a2"
      },
      "execution_count": 18,
      "outputs": [
        {
          "output_type": "display_data",
          "data": {
            "text/html": [
              "TRUE"
            ],
            "text/markdown": "TRUE",
            "text/latex": "TRUE",
            "text/plain": [
              "[1] TRUE"
            ]
          },
          "metadata": {}
        }
      ]
    },
    {
      "cell_type": "markdown",
      "source": [
        "## Vectors"
      ],
      "metadata": {
        "id": "OUDFfeWg73V_"
      }
    },
    {
      "cell_type": "code",
      "source": [
        "# vectors\n",
        "seq1 = seq(23,37)\n",
        "seq1"
      ],
      "metadata": {
        "id": "iLURfx2lR7LV",
        "colab": {
          "base_uri": "https://localhost:8080/",
          "height": 34
        },
        "outputId": "637a4c0b-e270-46db-d8ca-98ce16cddb59"
      },
      "execution_count": 19,
      "outputs": [
        {
          "output_type": "display_data",
          "data": {
            "text/html": [
              "<style>\n",
              ".list-inline {list-style: none; margin:0; padding: 0}\n",
              ".list-inline>li {display: inline-block}\n",
              ".list-inline>li:not(:last-child)::after {content: \"\\00b7\"; padding: 0 .5ex}\n",
              "</style>\n",
              "<ol class=list-inline><li>23</li><li>24</li><li>25</li><li>26</li><li>27</li><li>28</li><li>29</li><li>30</li><li>31</li><li>32</li><li>33</li><li>34</li><li>35</li><li>36</li><li>37</li></ol>\n"
            ],
            "text/markdown": "1. 23\n2. 24\n3. 25\n4. 26\n5. 27\n6. 28\n7. 29\n8. 30\n9. 31\n10. 32\n11. 33\n12. 34\n13. 35\n14. 36\n15. 37\n\n\n",
            "text/latex": "\\begin{enumerate*}\n\\item 23\n\\item 24\n\\item 25\n\\item 26\n\\item 27\n\\item 28\n\\item 29\n\\item 30\n\\item 31\n\\item 32\n\\item 33\n\\item 34\n\\item 35\n\\item 36\n\\item 37\n\\end{enumerate*}\n",
            "text/plain": [
              " [1] 23 24 25 26 27 28 29 30 31 32 33 34 35 36 37"
            ]
          },
          "metadata": {}
        }
      ]
    },
    {
      "cell_type": "code",
      "source": [
        "length(seq1)"
      ],
      "metadata": {
        "colab": {
          "base_uri": "https://localhost:8080/",
          "height": 34
        },
        "id": "z5BADz0N46MK",
        "outputId": "930095ec-2d09-4664-f7fb-49e6169c0552"
      },
      "execution_count": 20,
      "outputs": [
        {
          "output_type": "display_data",
          "data": {
            "text/html": [
              "15"
            ],
            "text/markdown": "15",
            "text/latex": "15",
            "text/plain": [
              "[1] 15"
            ]
          },
          "metadata": {}
        }
      ]
    },
    {
      "cell_type": "code",
      "source": [
        "seq2 = seq(from = 1, to = 51, by = 5)\n",
        "seq2"
      ],
      "metadata": {
        "colab": {
          "base_uri": "https://localhost:8080/",
          "height": 34
        },
        "id": "KcNx_aW_8F-3",
        "outputId": "e99827eb-c4b8-41e9-faa2-0a6fe16e8d7f"
      },
      "execution_count": 21,
      "outputs": [
        {
          "output_type": "display_data",
          "data": {
            "text/html": [
              "<style>\n",
              ".list-inline {list-style: none; margin:0; padding: 0}\n",
              ".list-inline>li {display: inline-block}\n",
              ".list-inline>li:not(:last-child)::after {content: \"\\00b7\"; padding: 0 .5ex}\n",
              "</style>\n",
              "<ol class=list-inline><li>1</li><li>6</li><li>11</li><li>16</li><li>21</li><li>26</li><li>31</li><li>36</li><li>41</li><li>46</li><li>51</li></ol>\n"
            ],
            "text/markdown": "1. 1\n2. 6\n3. 11\n4. 16\n5. 21\n6. 26\n7. 31\n8. 36\n9. 41\n10. 46\n11. 51\n\n\n",
            "text/latex": "\\begin{enumerate*}\n\\item 1\n\\item 6\n\\item 11\n\\item 16\n\\item 21\n\\item 26\n\\item 31\n\\item 36\n\\item 41\n\\item 46\n\\item 51\n\\end{enumerate*}\n",
            "text/plain": [
              " [1]  1  6 11 16 21 26 31 36 41 46 51"
            ]
          },
          "metadata": {}
        }
      ]
    },
    {
      "cell_type": "code",
      "source": [
        "# sorting vectors\n",
        "country = c(\"Japan\", \"China\", \"Russia\", \"India\", \"Germany\")\n",
        "country\n",
        "sort(country)"
      ],
      "metadata": {
        "colab": {
          "base_uri": "https://localhost:8080/",
          "height": 52
        },
        "id": "oERwjXkg5EQr",
        "outputId": "8a55cb0e-b358-44cf-ee4b-eb74318276fd"
      },
      "execution_count": 22,
      "outputs": [
        {
          "output_type": "display_data",
          "data": {
            "text/html": [
              "<style>\n",
              ".list-inline {list-style: none; margin:0; padding: 0}\n",
              ".list-inline>li {display: inline-block}\n",
              ".list-inline>li:not(:last-child)::after {content: \"\\00b7\"; padding: 0 .5ex}\n",
              "</style>\n",
              "<ol class=list-inline><li>'Japan'</li><li>'China'</li><li>'Russia'</li><li>'India'</li><li>'Germany'</li></ol>\n"
            ],
            "text/markdown": "1. 'Japan'\n2. 'China'\n3. 'Russia'\n4. 'India'\n5. 'Germany'\n\n\n",
            "text/latex": "\\begin{enumerate*}\n\\item 'Japan'\n\\item 'China'\n\\item 'Russia'\n\\item 'India'\n\\item 'Germany'\n\\end{enumerate*}\n",
            "text/plain": [
              "[1] \"Japan\"   \"China\"   \"Russia\"  \"India\"   \"Germany\""
            ]
          },
          "metadata": {}
        },
        {
          "output_type": "display_data",
          "data": {
            "text/html": [
              "<style>\n",
              ".list-inline {list-style: none; margin:0; padding: 0}\n",
              ".list-inline>li {display: inline-block}\n",
              ".list-inline>li:not(:last-child)::after {content: \"\\00b7\"; padding: 0 .5ex}\n",
              "</style>\n",
              "<ol class=list-inline><li>'China'</li><li>'Germany'</li><li>'India'</li><li>'Japan'</li><li>'Russia'</li></ol>\n"
            ],
            "text/markdown": "1. 'China'\n2. 'Germany'\n3. 'India'\n4. 'Japan'\n5. 'Russia'\n\n\n",
            "text/latex": "\\begin{enumerate*}\n\\item 'China'\n\\item 'Germany'\n\\item 'India'\n\\item 'Japan'\n\\item 'Russia'\n\\end{enumerate*}\n",
            "text/plain": [
              "[1] \"China\"   \"Germany\" \"India\"   \"Japan\"   \"Russia\" "
            ]
          },
          "metadata": {}
        }
      ]
    },
    {
      "cell_type": "code",
      "source": [
        "new_num = c (3,6,4,5,3,4,4,5,6,3,2,5)\n",
        "sort(new_num)"
      ],
      "metadata": {
        "colab": {
          "base_uri": "https://localhost:8080/",
          "height": 34
        },
        "id": "YAxNFaLR5ER7",
        "outputId": "d85a1f7d-2bdf-4429-b9c3-97650c53a9d1"
      },
      "execution_count": 23,
      "outputs": [
        {
          "output_type": "display_data",
          "data": {
            "text/html": [
              "<style>\n",
              ".list-inline {list-style: none; margin:0; padding: 0}\n",
              ".list-inline>li {display: inline-block}\n",
              ".list-inline>li:not(:last-child)::after {content: \"\\00b7\"; padding: 0 .5ex}\n",
              "</style>\n",
              "<ol class=list-inline><li>2</li><li>3</li><li>3</li><li>3</li><li>4</li><li>4</li><li>4</li><li>5</li><li>5</li><li>5</li><li>6</li><li>6</li></ol>\n"
            ],
            "text/markdown": "1. 2\n2. 3\n3. 3\n4. 3\n5. 4\n6. 4\n7. 4\n8. 5\n9. 5\n10. 5\n11. 6\n12. 6\n\n\n",
            "text/latex": "\\begin{enumerate*}\n\\item 2\n\\item 3\n\\item 3\n\\item 3\n\\item 4\n\\item 4\n\\item 4\n\\item 5\n\\item 5\n\\item 5\n\\item 6\n\\item 6\n\\end{enumerate*}\n",
            "text/plain": [
              " [1] 2 3 3 3 4 4 4 5 5 5 6 6"
            ]
          },
          "metadata": {}
        }
      ]
    },
    {
      "cell_type": "code",
      "source": [
        "# Accessing items in vectors\n",
        "country\n",
        "country[4]\n",
        "country[2]\n",
        "country[c(1,2)]\n",
        "country[-c(1,2)]\n",
        "country[3] = \"USA\"\n",
        "country"
      ],
      "metadata": {
        "colab": {
          "base_uri": "https://localhost:8080/",
          "height": 121
        },
        "id": "GtIrBpoz5EWa",
        "outputId": "976b564a-9a6f-4a49-f660-d6ccccfdbc3e"
      },
      "execution_count": 24,
      "outputs": [
        {
          "output_type": "display_data",
          "data": {
            "text/html": [
              "<style>\n",
              ".list-inline {list-style: none; margin:0; padding: 0}\n",
              ".list-inline>li {display: inline-block}\n",
              ".list-inline>li:not(:last-child)::after {content: \"\\00b7\"; padding: 0 .5ex}\n",
              "</style>\n",
              "<ol class=list-inline><li>'Japan'</li><li>'China'</li><li>'Russia'</li><li>'India'</li><li>'Germany'</li></ol>\n"
            ],
            "text/markdown": "1. 'Japan'\n2. 'China'\n3. 'Russia'\n4. 'India'\n5. 'Germany'\n\n\n",
            "text/latex": "\\begin{enumerate*}\n\\item 'Japan'\n\\item 'China'\n\\item 'Russia'\n\\item 'India'\n\\item 'Germany'\n\\end{enumerate*}\n",
            "text/plain": [
              "[1] \"Japan\"   \"China\"   \"Russia\"  \"India\"   \"Germany\""
            ]
          },
          "metadata": {}
        },
        {
          "output_type": "display_data",
          "data": {
            "text/html": [
              "'India'"
            ],
            "text/markdown": "'India'",
            "text/latex": "'India'",
            "text/plain": [
              "[1] \"India\""
            ]
          },
          "metadata": {}
        },
        {
          "output_type": "display_data",
          "data": {
            "text/html": [
              "'China'"
            ],
            "text/markdown": "'China'",
            "text/latex": "'China'",
            "text/plain": [
              "[1] \"China\""
            ]
          },
          "metadata": {}
        },
        {
          "output_type": "display_data",
          "data": {
            "text/html": [
              "<style>\n",
              ".list-inline {list-style: none; margin:0; padding: 0}\n",
              ".list-inline>li {display: inline-block}\n",
              ".list-inline>li:not(:last-child)::after {content: \"\\00b7\"; padding: 0 .5ex}\n",
              "</style>\n",
              "<ol class=list-inline><li>'Japan'</li><li>'China'</li></ol>\n"
            ],
            "text/markdown": "1. 'Japan'\n2. 'China'\n\n\n",
            "text/latex": "\\begin{enumerate*}\n\\item 'Japan'\n\\item 'China'\n\\end{enumerate*}\n",
            "text/plain": [
              "[1] \"Japan\" \"China\""
            ]
          },
          "metadata": {}
        },
        {
          "output_type": "display_data",
          "data": {
            "text/html": [
              "<style>\n",
              ".list-inline {list-style: none; margin:0; padding: 0}\n",
              ".list-inline>li {display: inline-block}\n",
              ".list-inline>li:not(:last-child)::after {content: \"\\00b7\"; padding: 0 .5ex}\n",
              "</style>\n",
              "<ol class=list-inline><li>'Russia'</li><li>'India'</li><li>'Germany'</li></ol>\n"
            ],
            "text/markdown": "1. 'Russia'\n2. 'India'\n3. 'Germany'\n\n\n",
            "text/latex": "\\begin{enumerate*}\n\\item 'Russia'\n\\item 'India'\n\\item 'Germany'\n\\end{enumerate*}\n",
            "text/plain": [
              "[1] \"Russia\"  \"India\"   \"Germany\""
            ]
          },
          "metadata": {}
        },
        {
          "output_type": "display_data",
          "data": {
            "text/html": [
              "<style>\n",
              ".list-inline {list-style: none; margin:0; padding: 0}\n",
              ".list-inline>li {display: inline-block}\n",
              ".list-inline>li:not(:last-child)::after {content: \"\\00b7\"; padding: 0 .5ex}\n",
              "</style>\n",
              "<ol class=list-inline><li>'Japan'</li><li>'China'</li><li>'USA'</li><li>'India'</li><li>'Germany'</li></ol>\n"
            ],
            "text/markdown": "1. 'Japan'\n2. 'China'\n3. 'USA'\n4. 'India'\n5. 'Germany'\n\n\n",
            "text/latex": "\\begin{enumerate*}\n\\item 'Japan'\n\\item 'China'\n\\item 'USA'\n\\item 'India'\n\\item 'Germany'\n\\end{enumerate*}\n",
            "text/plain": [
              "[1] \"Japan\"   \"China\"   \"USA\"     \"India\"   \"Germany\""
            ]
          },
          "metadata": {}
        }
      ]
    },
    {
      "cell_type": "code",
      "source": [
        "new_num\n",
        "new_num[4]"
      ],
      "metadata": {
        "colab": {
          "base_uri": "https://localhost:8080/",
          "height": 52
        },
        "id": "FmcOsTQD5EYJ",
        "outputId": "60e6abe5-b59b-4a01-e048-e45ede2aa7db"
      },
      "execution_count": 25,
      "outputs": [
        {
          "output_type": "display_data",
          "data": {
            "text/html": [
              "<style>\n",
              ".list-inline {list-style: none; margin:0; padding: 0}\n",
              ".list-inline>li {display: inline-block}\n",
              ".list-inline>li:not(:last-child)::after {content: \"\\00b7\"; padding: 0 .5ex}\n",
              "</style>\n",
              "<ol class=list-inline><li>3</li><li>6</li><li>4</li><li>5</li><li>3</li><li>4</li><li>4</li><li>5</li><li>6</li><li>3</li><li>2</li><li>5</li></ol>\n"
            ],
            "text/markdown": "1. 3\n2. 6\n3. 4\n4. 5\n5. 3\n6. 4\n7. 4\n8. 5\n9. 6\n10. 3\n11. 2\n12. 5\n\n\n",
            "text/latex": "\\begin{enumerate*}\n\\item 3\n\\item 6\n\\item 4\n\\item 5\n\\item 3\n\\item 4\n\\item 4\n\\item 5\n\\item 6\n\\item 3\n\\item 2\n\\item 5\n\\end{enumerate*}\n",
            "text/plain": [
              " [1] 3 6 4 5 3 4 4 5 6 3 2 5"
            ]
          },
          "metadata": {}
        },
        {
          "output_type": "display_data",
          "data": {
            "text/html": [
              "5"
            ],
            "text/markdown": "5",
            "text/latex": "5",
            "text/plain": [
              "[1] 5"
            ]
          },
          "metadata": {}
        }
      ]
    },
    {
      "cell_type": "code",
      "source": [
        "# repeating vectors\n",
        "rep_vec = rep(c(3,4,5,6), each = 3)\n",
        "rep_vec"
      ],
      "metadata": {
        "colab": {
          "base_uri": "https://localhost:8080/",
          "height": 34
        },
        "id": "fB6OCUEq5Eby",
        "outputId": "8afad7ad-0403-4e16-91d1-a079eee943f7"
      },
      "execution_count": 26,
      "outputs": [
        {
          "output_type": "display_data",
          "data": {
            "text/html": [
              "<style>\n",
              ".list-inline {list-style: none; margin:0; padding: 0}\n",
              ".list-inline>li {display: inline-block}\n",
              ".list-inline>li:not(:last-child)::after {content: \"\\00b7\"; padding: 0 .5ex}\n",
              "</style>\n",
              "<ol class=list-inline><li>3</li><li>3</li><li>3</li><li>4</li><li>4</li><li>4</li><li>5</li><li>5</li><li>5</li><li>6</li><li>6</li><li>6</li></ol>\n"
            ],
            "text/markdown": "1. 3\n2. 3\n3. 3\n4. 4\n5. 4\n6. 4\n7. 5\n8. 5\n9. 5\n10. 6\n11. 6\n12. 6\n\n\n",
            "text/latex": "\\begin{enumerate*}\n\\item 3\n\\item 3\n\\item 3\n\\item 4\n\\item 4\n\\item 4\n\\item 5\n\\item 5\n\\item 5\n\\item 6\n\\item 6\n\\item 6\n\\end{enumerate*}\n",
            "text/plain": [
              " [1] 3 3 3 4 4 4 5 5 5 6 6 6"
            ]
          },
          "metadata": {}
        }
      ]
    },
    {
      "cell_type": "code",
      "source": [
        "rep_vec1 = rep(c(3,4,5,6), times = c(2,3,4,5))\n",
        "rep_vec1"
      ],
      "metadata": {
        "colab": {
          "base_uri": "https://localhost:8080/",
          "height": 34
        },
        "id": "URSrAA7S5Edm",
        "outputId": "bd928485-b46f-4431-931a-54e49b83f6a4"
      },
      "execution_count": 27,
      "outputs": [
        {
          "output_type": "display_data",
          "data": {
            "text/html": [
              "<style>\n",
              ".list-inline {list-style: none; margin:0; padding: 0}\n",
              ".list-inline>li {display: inline-block}\n",
              ".list-inline>li:not(:last-child)::after {content: \"\\00b7\"; padding: 0 .5ex}\n",
              "</style>\n",
              "<ol class=list-inline><li>3</li><li>3</li><li>4</li><li>4</li><li>4</li><li>5</li><li>5</li><li>5</li><li>5</li><li>6</li><li>6</li><li>6</li><li>6</li><li>6</li></ol>\n"
            ],
            "text/markdown": "1. 3\n2. 3\n3. 4\n4. 4\n5. 4\n6. 5\n7. 5\n8. 5\n9. 5\n10. 6\n11. 6\n12. 6\n13. 6\n14. 6\n\n\n",
            "text/latex": "\\begin{enumerate*}\n\\item 3\n\\item 3\n\\item 4\n\\item 4\n\\item 4\n\\item 5\n\\item 5\n\\item 5\n\\item 5\n\\item 6\n\\item 6\n\\item 6\n\\item 6\n\\item 6\n\\end{enumerate*}\n",
            "text/plain": [
              " [1] 3 3 4 4 4 5 5 5 5 6 6 6 6 6"
            ]
          },
          "metadata": {}
        }
      ]
    },
    {
      "cell_type": "markdown",
      "source": [
        "## Lists"
      ],
      "metadata": {
        "id": "hVxEiVaR8spL"
      }
    },
    {
      "cell_type": "code",
      "source": [
        "fruits = list(\"apple\", \"cherry\", \"fig\", \"banana\")\n",
        "fruits"
      ],
      "metadata": {
        "colab": {
          "base_uri": "https://localhost:8080/",
          "height": 114
        },
        "id": "7qf1-H9z5Ehc",
        "outputId": "57b964fc-123c-453c-be07-0859f5027e21"
      },
      "execution_count": 28,
      "outputs": [
        {
          "output_type": "display_data",
          "data": {
            "text/html": [
              "<ol>\n",
              "\t<li>'apple'</li>\n",
              "\t<li>'cherry'</li>\n",
              "\t<li>'fig'</li>\n",
              "\t<li>'banana'</li>\n",
              "</ol>\n"
            ],
            "text/markdown": "1. 'apple'\n2. 'cherry'\n3. 'fig'\n4. 'banana'\n\n\n",
            "text/latex": "\\begin{enumerate}\n\\item 'apple'\n\\item 'cherry'\n\\item 'fig'\n\\item 'banana'\n\\end{enumerate}\n",
            "text/plain": [
              "[[1]]\n",
              "[1] \"apple\"\n",
              "\n",
              "[[2]]\n",
              "[1] \"cherry\"\n",
              "\n",
              "[[3]]\n",
              "[1] \"fig\"\n",
              "\n",
              "[[4]]\n",
              "[1] \"banana\"\n"
            ]
          },
          "metadata": {}
        }
      ]
    },
    {
      "cell_type": "code",
      "source": [
        "# accessing elements from the list\n",
        "fruits[2]\n",
        "fruits[2:3]"
      ],
      "metadata": {
        "colab": {
          "base_uri": "https://localhost:8080/",
          "height": 111
        },
        "id": "9sOUVwDE5Eke",
        "outputId": "575c4dd4-a1e7-4af6-bec2-3e614ffe872f"
      },
      "execution_count": 29,
      "outputs": [
        {
          "output_type": "display_data",
          "data": {
            "text/html": [
              "<ol>\n",
              "\t<li>'cherry'</li>\n",
              "</ol>\n"
            ],
            "text/markdown": "1. 'cherry'\n\n\n",
            "text/latex": "\\begin{enumerate}\n\\item 'cherry'\n\\end{enumerate}\n",
            "text/plain": [
              "[[1]]\n",
              "[1] \"cherry\"\n"
            ]
          },
          "metadata": {}
        },
        {
          "output_type": "display_data",
          "data": {
            "text/html": [
              "<ol>\n",
              "\t<li>'cherry'</li>\n",
              "\t<li>'fig'</li>\n",
              "</ol>\n"
            ],
            "text/markdown": "1. 'cherry'\n2. 'fig'\n\n\n",
            "text/latex": "\\begin{enumerate}\n\\item 'cherry'\n\\item 'fig'\n\\end{enumerate}\n",
            "text/plain": [
              "[[1]]\n",
              "[1] \"cherry\"\n",
              "\n",
              "[[2]]\n",
              "[1] \"fig\"\n"
            ]
          },
          "metadata": {}
        }
      ]
    },
    {
      "cell_type": "code",
      "source": [
        "fruits[5] = \"Watermelon\"\n",
        "fruits"
      ],
      "metadata": {
        "colab": {
          "base_uri": "https://localhost:8080/",
          "height": 132
        },
        "id": "m0c72Cy35Em-",
        "outputId": "d41d9282-cbe4-48ee-96fa-fbe16bbeba79"
      },
      "execution_count": 30,
      "outputs": [
        {
          "output_type": "display_data",
          "data": {
            "text/html": [
              "<ol>\n",
              "\t<li>'apple'</li>\n",
              "\t<li>'cherry'</li>\n",
              "\t<li>'fig'</li>\n",
              "\t<li>'banana'</li>\n",
              "\t<li>'Watermelon'</li>\n",
              "</ol>\n"
            ],
            "text/markdown": "1. 'apple'\n2. 'cherry'\n3. 'fig'\n4. 'banana'\n5. 'Watermelon'\n\n\n",
            "text/latex": "\\begin{enumerate}\n\\item 'apple'\n\\item 'cherry'\n\\item 'fig'\n\\item 'banana'\n\\item 'Watermelon'\n\\end{enumerate}\n",
            "text/plain": [
              "[[1]]\n",
              "[1] \"apple\"\n",
              "\n",
              "[[2]]\n",
              "[1] \"cherry\"\n",
              "\n",
              "[[3]]\n",
              "[1] \"fig\"\n",
              "\n",
              "[[4]]\n",
              "[1] \"banana\"\n",
              "\n",
              "[[5]]\n",
              "[1] \"Watermelon\"\n"
            ]
          },
          "metadata": {}
        }
      ]
    },
    {
      "cell_type": "code",
      "source": [
        "length(fruits)"
      ],
      "metadata": {
        "colab": {
          "base_uri": "https://localhost:8080/",
          "height": 34
        },
        "id": "5X45t2vG5Eow",
        "outputId": "b97387f3-b394-49da-eed2-6128a12f23a2"
      },
      "execution_count": 31,
      "outputs": [
        {
          "output_type": "display_data",
          "data": {
            "text/html": [
              "5"
            ],
            "text/markdown": "5",
            "text/latex": "5",
            "text/plain": [
              "[1] 5"
            ]
          },
          "metadata": {}
        }
      ]
    },
    {
      "cell_type": "code",
      "source": [
        "# checking if an item is present\n",
        "\"mango\" %in% fruits\n",
        "\"fig\" %in% fruits"
      ],
      "metadata": {
        "colab": {
          "base_uri": "https://localhost:8080/",
          "height": 52
        },
        "id": "yL_5JydL-CES",
        "outputId": "8eebdd81-0d40-4dbe-c951-70b9965f68d2"
      },
      "execution_count": 32,
      "outputs": [
        {
          "output_type": "display_data",
          "data": {
            "text/html": [
              "FALSE"
            ],
            "text/markdown": "FALSE",
            "text/latex": "FALSE",
            "text/plain": [
              "[1] FALSE"
            ]
          },
          "metadata": {}
        },
        {
          "output_type": "display_data",
          "data": {
            "text/html": [
              "TRUE"
            ],
            "text/markdown": "TRUE",
            "text/latex": "TRUE",
            "text/plain": [
              "[1] TRUE"
            ]
          },
          "metadata": {}
        }
      ]
    },
    {
      "cell_type": "code",
      "source": [
        "# appending an item\n",
        "append(fruits, \"mango\")\n",
        "new_fruits =append(fruits, c(\"plum\", \"guava\"))\n",
        "new_fruits"
      ],
      "metadata": {
        "colab": {
          "base_uri": "https://localhost:8080/",
          "height": 285
        },
        "id": "WbgNPYsK-CF7",
        "outputId": "7e1def13-ddc6-4b7d-bbe8-eaa50a99779b"
      },
      "execution_count": 33,
      "outputs": [
        {
          "output_type": "display_data",
          "data": {
            "text/html": [
              "<ol>\n",
              "\t<li>'apple'</li>\n",
              "\t<li>'cherry'</li>\n",
              "\t<li>'fig'</li>\n",
              "\t<li>'banana'</li>\n",
              "\t<li>'Watermelon'</li>\n",
              "\t<li>'mango'</li>\n",
              "</ol>\n"
            ],
            "text/markdown": "1. 'apple'\n2. 'cherry'\n3. 'fig'\n4. 'banana'\n5. 'Watermelon'\n6. 'mango'\n\n\n",
            "text/latex": "\\begin{enumerate}\n\\item 'apple'\n\\item 'cherry'\n\\item 'fig'\n\\item 'banana'\n\\item 'Watermelon'\n\\item 'mango'\n\\end{enumerate}\n",
            "text/plain": [
              "[[1]]\n",
              "[1] \"apple\"\n",
              "\n",
              "[[2]]\n",
              "[1] \"cherry\"\n",
              "\n",
              "[[3]]\n",
              "[1] \"fig\"\n",
              "\n",
              "[[4]]\n",
              "[1] \"banana\"\n",
              "\n",
              "[[5]]\n",
              "[1] \"Watermelon\"\n",
              "\n",
              "[[6]]\n",
              "[1] \"mango\"\n"
            ]
          },
          "metadata": {}
        },
        {
          "output_type": "display_data",
          "data": {
            "text/html": [
              "<ol>\n",
              "\t<li>'apple'</li>\n",
              "\t<li>'cherry'</li>\n",
              "\t<li>'fig'</li>\n",
              "\t<li>'banana'</li>\n",
              "\t<li>'Watermelon'</li>\n",
              "\t<li>'plum'</li>\n",
              "\t<li>'guava'</li>\n",
              "</ol>\n"
            ],
            "text/markdown": "1. 'apple'\n2. 'cherry'\n3. 'fig'\n4. 'banana'\n5. 'Watermelon'\n6. 'plum'\n7. 'guava'\n\n\n",
            "text/latex": "\\begin{enumerate}\n\\item 'apple'\n\\item 'cherry'\n\\item 'fig'\n\\item 'banana'\n\\item 'Watermelon'\n\\item 'plum'\n\\item 'guava'\n\\end{enumerate}\n",
            "text/plain": [
              "[[1]]\n",
              "[1] \"apple\"\n",
              "\n",
              "[[2]]\n",
              "[1] \"cherry\"\n",
              "\n",
              "[[3]]\n",
              "[1] \"fig\"\n",
              "\n",
              "[[4]]\n",
              "[1] \"banana\"\n",
              "\n",
              "[[5]]\n",
              "[1] \"Watermelon\"\n",
              "\n",
              "[[6]]\n",
              "[1] \"plum\"\n",
              "\n",
              "[[7]]\n",
              "[1] \"guava\"\n"
            ]
          },
          "metadata": {}
        }
      ]
    },
    {
      "cell_type": "code",
      "source": [
        "append(fruits, \"kiwi\", after = 3)"
      ],
      "metadata": {
        "colab": {
          "base_uri": "https://localhost:8080/",
          "height": 149
        },
        "id": "BZXxd6y9_iLc",
        "outputId": "10cac097-88b6-4980-a077-febc22a5fc6e"
      },
      "execution_count": 34,
      "outputs": [
        {
          "output_type": "display_data",
          "data": {
            "text/html": [
              "<ol>\n",
              "\t<li>'apple'</li>\n",
              "\t<li>'cherry'</li>\n",
              "\t<li>'fig'</li>\n",
              "\t<li>'kiwi'</li>\n",
              "\t<li>'banana'</li>\n",
              "\t<li>'Watermelon'</li>\n",
              "</ol>\n"
            ],
            "text/markdown": "1. 'apple'\n2. 'cherry'\n3. 'fig'\n4. 'kiwi'\n5. 'banana'\n6. 'Watermelon'\n\n\n",
            "text/latex": "\\begin{enumerate}\n\\item 'apple'\n\\item 'cherry'\n\\item 'fig'\n\\item 'kiwi'\n\\item 'banana'\n\\item 'Watermelon'\n\\end{enumerate}\n",
            "text/plain": [
              "[[1]]\n",
              "[1] \"apple\"\n",
              "\n",
              "[[2]]\n",
              "[1] \"cherry\"\n",
              "\n",
              "[[3]]\n",
              "[1] \"fig\"\n",
              "\n",
              "[[4]]\n",
              "[1] \"kiwi\"\n",
              "\n",
              "[[5]]\n",
              "[1] \"banana\"\n",
              "\n",
              "[[6]]\n",
              "[1] \"Watermelon\"\n"
            ]
          },
          "metadata": {}
        }
      ]
    },
    {
      "cell_type": "code",
      "source": [
        "fruits"
      ],
      "metadata": {
        "colab": {
          "base_uri": "https://localhost:8080/",
          "height": 132
        },
        "id": "msBDttnm-CLD",
        "outputId": "26877e3d-7fb2-4a7e-f0de-c7d8484b5b0e"
      },
      "execution_count": 35,
      "outputs": [
        {
          "output_type": "display_data",
          "data": {
            "text/html": [
              "<ol>\n",
              "\t<li>'apple'</li>\n",
              "\t<li>'cherry'</li>\n",
              "\t<li>'fig'</li>\n",
              "\t<li>'banana'</li>\n",
              "\t<li>'Watermelon'</li>\n",
              "</ol>\n"
            ],
            "text/markdown": "1. 'apple'\n2. 'cherry'\n3. 'fig'\n4. 'banana'\n5. 'Watermelon'\n\n\n",
            "text/latex": "\\begin{enumerate}\n\\item 'apple'\n\\item 'cherry'\n\\item 'fig'\n\\item 'banana'\n\\item 'Watermelon'\n\\end{enumerate}\n",
            "text/plain": [
              "[[1]]\n",
              "[1] \"apple\"\n",
              "\n",
              "[[2]]\n",
              "[1] \"cherry\"\n",
              "\n",
              "[[3]]\n",
              "[1] \"fig\"\n",
              "\n",
              "[[4]]\n",
              "[1] \"banana\"\n",
              "\n",
              "[[5]]\n",
              "[1] \"Watermelon\"\n"
            ]
          },
          "metadata": {}
        }
      ]
    },
    {
      "cell_type": "code",
      "source": [
        "new_fruits\n",
        "new_fruits[-5]"
      ],
      "metadata": {
        "colab": {
          "base_uri": "https://localhost:8080/",
          "height": 285
        },
        "id": "vB3XmqYD-CM4",
        "outputId": "be325635-8b01-497a-d393-fe31e8fcba2d"
      },
      "execution_count": 36,
      "outputs": [
        {
          "output_type": "display_data",
          "data": {
            "text/html": [
              "<ol>\n",
              "\t<li>'apple'</li>\n",
              "\t<li>'cherry'</li>\n",
              "\t<li>'fig'</li>\n",
              "\t<li>'banana'</li>\n",
              "\t<li>'Watermelon'</li>\n",
              "\t<li>'plum'</li>\n",
              "\t<li>'guava'</li>\n",
              "</ol>\n"
            ],
            "text/markdown": "1. 'apple'\n2. 'cherry'\n3. 'fig'\n4. 'banana'\n5. 'Watermelon'\n6. 'plum'\n7. 'guava'\n\n\n",
            "text/latex": "\\begin{enumerate}\n\\item 'apple'\n\\item 'cherry'\n\\item 'fig'\n\\item 'banana'\n\\item 'Watermelon'\n\\item 'plum'\n\\item 'guava'\n\\end{enumerate}\n",
            "text/plain": [
              "[[1]]\n",
              "[1] \"apple\"\n",
              "\n",
              "[[2]]\n",
              "[1] \"cherry\"\n",
              "\n",
              "[[3]]\n",
              "[1] \"fig\"\n",
              "\n",
              "[[4]]\n",
              "[1] \"banana\"\n",
              "\n",
              "[[5]]\n",
              "[1] \"Watermelon\"\n",
              "\n",
              "[[6]]\n",
              "[1] \"plum\"\n",
              "\n",
              "[[7]]\n",
              "[1] \"guava\"\n"
            ]
          },
          "metadata": {}
        },
        {
          "output_type": "display_data",
          "data": {
            "text/html": [
              "<ol>\n",
              "\t<li>'apple'</li>\n",
              "\t<li>'cherry'</li>\n",
              "\t<li>'fig'</li>\n",
              "\t<li>'banana'</li>\n",
              "\t<li>'plum'</li>\n",
              "\t<li>'guava'</li>\n",
              "</ol>\n"
            ],
            "text/markdown": "1. 'apple'\n2. 'cherry'\n3. 'fig'\n4. 'banana'\n5. 'plum'\n6. 'guava'\n\n\n",
            "text/latex": "\\begin{enumerate}\n\\item 'apple'\n\\item 'cherry'\n\\item 'fig'\n\\item 'banana'\n\\item 'plum'\n\\item 'guava'\n\\end{enumerate}\n",
            "text/plain": [
              "[[1]]\n",
              "[1] \"apple\"\n",
              "\n",
              "[[2]]\n",
              "[1] \"cherry\"\n",
              "\n",
              "[[3]]\n",
              "[1] \"fig\"\n",
              "\n",
              "[[4]]\n",
              "[1] \"banana\"\n",
              "\n",
              "[[5]]\n",
              "[1] \"plum\"\n",
              "\n",
              "[[6]]\n",
              "[1] \"guava\"\n"
            ]
          },
          "metadata": {}
        }
      ]
    },
    {
      "cell_type": "markdown",
      "source": [
        "# Matrices"
      ],
      "metadata": {
        "id": "wO6yK6lhA8eI"
      }
    },
    {
      "cell_type": "code",
      "source": [
        "matrix1 = matrix(c(10,20,30,40,50,60), nrow = 2, ncol = 3)\n",
        "matrix1"
      ],
      "metadata": {
        "colab": {
          "base_uri": "https://localhost:8080/",
          "height": 114
        },
        "id": "zuzDoBI2-CP9",
        "outputId": "344c9925-5c0f-40b8-99aa-427732814705"
      },
      "execution_count": 37,
      "outputs": [
        {
          "output_type": "display_data",
          "data": {
            "text/html": [
              "<table class=\"dataframe\">\n",
              "<caption>A matrix: 2 × 3 of type dbl</caption>\n",
              "<tbody>\n",
              "\t<tr><td>10</td><td>30</td><td>50</td></tr>\n",
              "\t<tr><td>20</td><td>40</td><td>60</td></tr>\n",
              "</tbody>\n",
              "</table>\n"
            ],
            "text/markdown": "\nA matrix: 2 × 3 of type dbl\n\n| 10 | 30 | 50 |\n| 20 | 40 | 60 |\n\n",
            "text/latex": "A matrix: 2 × 3 of type dbl\n\\begin{tabular}{lll}\n\t 10 & 30 & 50\\\\\n\t 20 & 40 & 60\\\\\n\\end{tabular}\n",
            "text/plain": [
              "     [,1] [,2] [,3]\n",
              "[1,] 10   30   50  \n",
              "[2,] 20   40   60  "
            ]
          },
          "metadata": {}
        }
      ]
    },
    {
      "cell_type": "code",
      "source": [
        "matrix2 = matrix(c(10,20,30,40,50,60), nrow = 2, ncol = 3, byrow = TRUE)\n",
        "matrix2"
      ],
      "metadata": {
        "colab": {
          "base_uri": "https://localhost:8080/",
          "height": 114
        },
        "id": "ygglfg9O-CSR",
        "outputId": "e7a51f78-ddb2-488d-bd7e-0baa7a82fffe"
      },
      "execution_count": 38,
      "outputs": [
        {
          "output_type": "display_data",
          "data": {
            "text/html": [
              "<table class=\"dataframe\">\n",
              "<caption>A matrix: 2 × 3 of type dbl</caption>\n",
              "<tbody>\n",
              "\t<tr><td>10</td><td>20</td><td>30</td></tr>\n",
              "\t<tr><td>40</td><td>50</td><td>60</td></tr>\n",
              "</tbody>\n",
              "</table>\n"
            ],
            "text/markdown": "\nA matrix: 2 × 3 of type dbl\n\n| 10 | 20 | 30 |\n| 40 | 50 | 60 |\n\n",
            "text/latex": "A matrix: 2 × 3 of type dbl\n\\begin{tabular}{lll}\n\t 10 & 20 & 30\\\\\n\t 40 & 50 & 60\\\\\n\\end{tabular}\n",
            "text/plain": [
              "     [,1] [,2] [,3]\n",
              "[1,] 10   20   30  \n",
              "[2,] 40   50   60  "
            ]
          },
          "metadata": {}
        }
      ]
    },
    {
      "cell_type": "code",
      "source": [
        "# matrix of characters\n",
        "matrics2 = matrix(c(\"Cairo\", \"London\", \"Austin\", \"Paris\"), nrow = 2,\n",
        "ncol = 2)\n",
        "matrics2"
      ],
      "metadata": {
        "colab": {
          "base_uri": "https://localhost:8080/",
          "height": 114
        },
        "id": "u1nsgB2g-CVi",
        "outputId": "1defb1bf-fc45-47e3-e285-a6192d4ef20d"
      },
      "execution_count": 39,
      "outputs": [
        {
          "output_type": "display_data",
          "data": {
            "text/html": [
              "<table class=\"dataframe\">\n",
              "<caption>A matrix: 2 × 2 of type chr</caption>\n",
              "<tbody>\n",
              "\t<tr><td>Cairo </td><td>Austin</td></tr>\n",
              "\t<tr><td>London</td><td>Paris </td></tr>\n",
              "</tbody>\n",
              "</table>\n"
            ],
            "text/markdown": "\nA matrix: 2 × 2 of type chr\n\n| Cairo  | Austin |\n| London | Paris  |\n\n",
            "text/latex": "A matrix: 2 × 2 of type chr\n\\begin{tabular}{ll}\n\t Cairo  & Austin\\\\\n\t London & Paris \\\\\n\\end{tabular}\n",
            "text/plain": [
              "     [,1]   [,2]  \n",
              "[1,] Cairo  Austin\n",
              "[2,] London Paris "
            ]
          },
          "metadata": {}
        }
      ]
    },
    {
      "cell_type": "code",
      "source": [
        "# accessing items\n",
        "matrics2[1,2]"
      ],
      "metadata": {
        "colab": {
          "base_uri": "https://localhost:8080/",
          "height": 34
        },
        "id": "dSSBd8cu-CXV",
        "outputId": "2f95b7bf-2892-49b6-dcdf-790bcf09587e"
      },
      "execution_count": 40,
      "outputs": [
        {
          "output_type": "display_data",
          "data": {
            "text/html": [
              "'Austin'"
            ],
            "text/markdown": "'Austin'",
            "text/latex": "'Austin'",
            "text/plain": [
              "[1] \"Austin\""
            ]
          },
          "metadata": {}
        }
      ]
    },
    {
      "cell_type": "code",
      "source": [
        "#rows\n",
        "matrics2[2,]\n",
        "#column\n",
        "matrics2[,2]"
      ],
      "metadata": {
        "colab": {
          "base_uri": "https://localhost:8080/",
          "height": 52
        },
        "id": "3nl_ZsAP-Ca1",
        "outputId": "eb7d626d-68d8-4702-aa9e-50e7d032bfed"
      },
      "execution_count": 41,
      "outputs": [
        {
          "output_type": "display_data",
          "data": {
            "text/html": [
              "<style>\n",
              ".list-inline {list-style: none; margin:0; padding: 0}\n",
              ".list-inline>li {display: inline-block}\n",
              ".list-inline>li:not(:last-child)::after {content: \"\\00b7\"; padding: 0 .5ex}\n",
              "</style>\n",
              "<ol class=list-inline><li>'London'</li><li>'Paris'</li></ol>\n"
            ],
            "text/markdown": "1. 'London'\n2. 'Paris'\n\n\n",
            "text/latex": "\\begin{enumerate*}\n\\item 'London'\n\\item 'Paris'\n\\end{enumerate*}\n",
            "text/plain": [
              "[1] \"London\" \"Paris\" "
            ]
          },
          "metadata": {}
        },
        {
          "output_type": "display_data",
          "data": {
            "text/html": [
              "<style>\n",
              ".list-inline {list-style: none; margin:0; padding: 0}\n",
              ".list-inline>li {display: inline-block}\n",
              ".list-inline>li:not(:last-child)::after {content: \"\\00b7\"; padding: 0 .5ex}\n",
              "</style>\n",
              "<ol class=list-inline><li>'Austin'</li><li>'Paris'</li></ol>\n"
            ],
            "text/markdown": "1. 'Austin'\n2. 'Paris'\n\n\n",
            "text/latex": "\\begin{enumerate*}\n\\item 'Austin'\n\\item 'Paris'\n\\end{enumerate*}\n",
            "text/plain": [
              "[1] \"Austin\" \"Paris\" "
            ]
          },
          "metadata": {}
        }
      ]
    },
    {
      "cell_type": "code",
      "source": [
        "# adding new columns\n",
        "matrics3 = cbind(matrics2, c(\"Delhi\", \"Sydney\"))\n",
        "matrics3"
      ],
      "metadata": {
        "colab": {
          "base_uri": "https://localhost:8080/",
          "height": 97
        },
        "id": "Th3RAr1o-CdU",
        "outputId": "bffa55b3-cc8a-48c0-cf40-01194ab96ab0"
      },
      "execution_count": 42,
      "outputs": [
        {
          "output_type": "display_data",
          "data": {
            "text/html": [
              "<table class=\"dataframe\">\n",
              "<caption>A matrix: 2 × 3 of type chr</caption>\n",
              "<tbody>\n",
              "\t<tr><td>Cairo </td><td>Austin</td><td>Delhi </td></tr>\n",
              "\t<tr><td>London</td><td>Paris </td><td>Sydney</td></tr>\n",
              "</tbody>\n",
              "</table>\n"
            ],
            "text/markdown": "\nA matrix: 2 × 3 of type chr\n\n| Cairo  | Austin | Delhi  |\n| London | Paris  | Sydney |\n\n",
            "text/latex": "A matrix: 2 × 3 of type chr\n\\begin{tabular}{lll}\n\t Cairo  & Austin & Delhi \\\\\n\t London & Paris  & Sydney\\\\\n\\end{tabular}\n",
            "text/plain": [
              "     [,1]   [,2]   [,3]  \n",
              "[1,] Cairo  Austin Delhi \n",
              "[2,] London Paris  Sydney"
            ]
          },
          "metadata": {}
        }
      ]
    },
    {
      "cell_type": "code",
      "source": [
        "# adding new rows\n",
        "matrics4 = rbind(matrics3, c(\"Tokyo\", \"Kyoto\", \"Glasgow\"))\n",
        "matrics4"
      ],
      "metadata": {
        "colab": {
          "base_uri": "https://localhost:8080/",
          "height": 128
        },
        "id": "iEQQcd98-CgL",
        "outputId": "ca550543-7ba7-4d9a-ddd4-3b6c60e97dae"
      },
      "execution_count": 43,
      "outputs": [
        {
          "output_type": "display_data",
          "data": {
            "text/html": [
              "<table class=\"dataframe\">\n",
              "<caption>A matrix: 3 × 3 of type chr</caption>\n",
              "<tbody>\n",
              "\t<tr><td>Cairo </td><td>Austin</td><td>Delhi  </td></tr>\n",
              "\t<tr><td>London</td><td>Paris </td><td>Sydney </td></tr>\n",
              "\t<tr><td>Tokyo </td><td>Kyoto </td><td>Glasgow</td></tr>\n",
              "</tbody>\n",
              "</table>\n"
            ],
            "text/markdown": "\nA matrix: 3 × 3 of type chr\n\n| Cairo  | Austin | Delhi   |\n| London | Paris  | Sydney  |\n| Tokyo  | Kyoto  | Glasgow |\n\n",
            "text/latex": "A matrix: 3 × 3 of type chr\n\\begin{tabular}{lll}\n\t Cairo  & Austin & Delhi  \\\\\n\t London & Paris  & Sydney \\\\\n\t Tokyo  & Kyoto  & Glasgow\\\\\n\\end{tabular}\n",
            "text/plain": [
              "     [,1]   [,2]   [,3]   \n",
              "[1,] Cairo  Austin Delhi  \n",
              "[2,] London Paris  Sydney \n",
              "[3,] Tokyo  Kyoto  Glasgow"
            ]
          },
          "metadata": {}
        }
      ]
    },
    {
      "cell_type": "code",
      "source": [
        "# removing columns and rows from matrics\n",
        "new_matrix = matrics4[c(-1), c(-2)]\n",
        "new_matrix"
      ],
      "metadata": {
        "colab": {
          "base_uri": "https://localhost:8080/",
          "height": 114
        },
        "id": "YCj2LxEj-CiC",
        "outputId": "4a3bc699-7725-4dd7-c121-21224e32554e"
      },
      "execution_count": 44,
      "outputs": [
        {
          "output_type": "display_data",
          "data": {
            "text/html": [
              "<table class=\"dataframe\">\n",
              "<caption>A matrix: 2 × 2 of type chr</caption>\n",
              "<tbody>\n",
              "\t<tr><td>London</td><td>Sydney </td></tr>\n",
              "\t<tr><td>Tokyo </td><td>Glasgow</td></tr>\n",
              "</tbody>\n",
              "</table>\n"
            ],
            "text/markdown": "\nA matrix: 2 × 2 of type chr\n\n| London | Sydney  |\n| Tokyo  | Glasgow |\n\n",
            "text/latex": "A matrix: 2 × 2 of type chr\n\\begin{tabular}{ll}\n\t London & Sydney \\\\\n\t Tokyo  & Glasgow\\\\\n\\end{tabular}\n",
            "text/plain": [
              "     [,1]   [,2]   \n",
              "[1,] London Sydney \n",
              "[2,] Tokyo  Glasgow"
            ]
          },
          "metadata": {}
        }
      ]
    },
    {
      "cell_type": "code",
      "source": [
        "# checking items\n",
        "\"Cairo\" %in% matrics4"
      ],
      "metadata": {
        "colab": {
          "base_uri": "https://localhost:8080/",
          "height": 34
        },
        "id": "JSa_rBiy-ClE",
        "outputId": "2f81e80b-f2b1-4641-e0f6-c9e83bffc863"
      },
      "execution_count": 45,
      "outputs": [
        {
          "output_type": "display_data",
          "data": {
            "text/html": [
              "TRUE"
            ],
            "text/markdown": "TRUE",
            "text/latex": "TRUE",
            "text/plain": [
              "[1] TRUE"
            ]
          },
          "metadata": {}
        }
      ]
    },
    {
      "cell_type": "code",
      "source": [
        "# get the number of row and column\n",
        "dim(new_matrix)"
      ],
      "metadata": {
        "colab": {
          "base_uri": "https://localhost:8080/",
          "height": 34
        },
        "id": "SEVHkVSy-Cm6",
        "outputId": "00fa880c-31ad-4bb6-b6cd-5007a6e9cb3f"
      },
      "execution_count": 46,
      "outputs": [
        {
          "output_type": "display_data",
          "data": {
            "text/html": [
              "<style>\n",
              ".list-inline {list-style: none; margin:0; padding: 0}\n",
              ".list-inline>li {display: inline-block}\n",
              ".list-inline>li:not(:last-child)::after {content: \"\\00b7\"; padding: 0 .5ex}\n",
              "</style>\n",
              "<ol class=list-inline><li>2</li><li>2</li></ol>\n"
            ],
            "text/markdown": "1. 2\n2. 2\n\n\n",
            "text/latex": "\\begin{enumerate*}\n\\item 2\n\\item 2\n\\end{enumerate*}\n",
            "text/plain": [
              "[1] 2 2"
            ]
          },
          "metadata": {}
        }
      ]
    },
    {
      "cell_type": "code",
      "source": [
        "dim(matrics4)\n",
        "length(matrics4)"
      ],
      "metadata": {
        "colab": {
          "base_uri": "https://localhost:8080/",
          "height": 52
        },
        "id": "FWpf-NM9-CqX",
        "outputId": "3b23aa21-2936-4b91-e35d-9ee2854d7b38"
      },
      "execution_count": 47,
      "outputs": [
        {
          "output_type": "display_data",
          "data": {
            "text/html": [
              "<style>\n",
              ".list-inline {list-style: none; margin:0; padding: 0}\n",
              ".list-inline>li {display: inline-block}\n",
              ".list-inline>li:not(:last-child)::after {content: \"\\00b7\"; padding: 0 .5ex}\n",
              "</style>\n",
              "<ol class=list-inline><li>3</li><li>3</li></ol>\n"
            ],
            "text/markdown": "1. 3\n2. 3\n\n\n",
            "text/latex": "\\begin{enumerate*}\n\\item 3\n\\item 3\n\\end{enumerate*}\n",
            "text/plain": [
              "[1] 3 3"
            ]
          },
          "metadata": {}
        },
        {
          "output_type": "display_data",
          "data": {
            "text/html": [
              "9"
            ],
            "text/markdown": "9",
            "text/latex": "9",
            "text/plain": [
              "[1] 9"
            ]
          },
          "metadata": {}
        }
      ]
    },
    {
      "cell_type": "markdown",
      "source": [
        "## Array"
      ],
      "metadata": {
        "id": "0VxTrhrJh0ez"
      }
    },
    {
      "cell_type": "code",
      "source": [
        "my_arr = c(1,2,3,4,5)\n",
        "my_arr"
      ],
      "metadata": {
        "colab": {
          "base_uri": "https://localhost:8080/",
          "height": 34
        },
        "id": "4phyEc6i-CsP",
        "outputId": "ea6246d9-e7ce-4500-92f6-c08640ecca74"
      },
      "execution_count": 48,
      "outputs": [
        {
          "output_type": "display_data",
          "data": {
            "text/html": [
              "<style>\n",
              ".list-inline {list-style: none; margin:0; padding: 0}\n",
              ".list-inline>li {display: inline-block}\n",
              ".list-inline>li:not(:last-child)::after {content: \"\\00b7\"; padding: 0 .5ex}\n",
              "</style>\n",
              "<ol class=list-inline><li>1</li><li>2</li><li>3</li><li>4</li><li>5</li></ol>\n"
            ],
            "text/markdown": "1. 1\n2. 2\n3. 3\n4. 4\n5. 5\n\n\n",
            "text/latex": "\\begin{enumerate*}\n\\item 1\n\\item 2\n\\item 3\n\\item 4\n\\item 5\n\\end{enumerate*}\n",
            "text/plain": [
              "[1] 1 2 3 4 5"
            ]
          },
          "metadata": {}
        }
      ]
    },
    {
      "cell_type": "code",
      "source": [
        "mult_dim = c(1:35)\n",
        "mult_dim = array(mult_dim, dim = c(5,3,3))\n",
        "mult_dim"
      ],
      "metadata": {
        "colab": {
          "base_uri": "https://localhost:8080/",
          "height": 52
        },
        "id": "Pig99WRy-CvX",
        "outputId": "3ad4243f-133c-4628-ce55-7a6ee5861d5f"
      },
      "execution_count": 49,
      "outputs": [
        {
          "output_type": "display_data",
          "data": {
            "text/html": [
              "<style>\n",
              ".list-inline {list-style: none; margin:0; padding: 0}\n",
              ".list-inline>li {display: inline-block}\n",
              ".list-inline>li:not(:last-child)::after {content: \"\\00b7\"; padding: 0 .5ex}\n",
              "</style>\n",
              "<ol class=list-inline><li>1</li><li>2</li><li>3</li><li>4</li><li>5</li><li>6</li><li>7</li><li>8</li><li>9</li><li>10</li><li>11</li><li>12</li><li>13</li><li>14</li><li>15</li><li>16</li><li>17</li><li>18</li><li>19</li><li>20</li><li>21</li><li>22</li><li>23</li><li>24</li><li>25</li><li>26</li><li>27</li><li>28</li><li>29</li><li>30</li><li>31</li><li>32</li><li>33</li><li>34</li><li>35</li><li>1</li><li>2</li><li>3</li><li>4</li><li>5</li><li>6</li><li>7</li><li>8</li><li>9</li><li>10</li></ol>\n"
            ],
            "text/markdown": "1. 1\n2. 2\n3. 3\n4. 4\n5. 5\n6. 6\n7. 7\n8. 8\n9. 9\n10. 10\n11. 11\n12. 12\n13. 13\n14. 14\n15. 15\n16. 16\n17. 17\n18. 18\n19. 19\n20. 20\n21. 21\n22. 22\n23. 23\n24. 24\n25. 25\n26. 26\n27. 27\n28. 28\n29. 29\n30. 30\n31. 31\n32. 32\n33. 33\n34. 34\n35. 35\n36. 1\n37. 2\n38. 3\n39. 4\n40. 5\n41. 6\n42. 7\n43. 8\n44. 9\n45. 10\n\n\n",
            "text/latex": "\\begin{enumerate*}\n\\item 1\n\\item 2\n\\item 3\n\\item 4\n\\item 5\n\\item 6\n\\item 7\n\\item 8\n\\item 9\n\\item 10\n\\item 11\n\\item 12\n\\item 13\n\\item 14\n\\item 15\n\\item 16\n\\item 17\n\\item 18\n\\item 19\n\\item 20\n\\item 21\n\\item 22\n\\item 23\n\\item 24\n\\item 25\n\\item 26\n\\item 27\n\\item 28\n\\item 29\n\\item 30\n\\item 31\n\\item 32\n\\item 33\n\\item 34\n\\item 35\n\\item 1\n\\item 2\n\\item 3\n\\item 4\n\\item 5\n\\item 6\n\\item 7\n\\item 8\n\\item 9\n\\item 10\n\\end{enumerate*}\n",
            "text/plain": [
              ", , 1\n",
              "\n",
              "     [,1] [,2] [,3]\n",
              "[1,]    1    6   11\n",
              "[2,]    2    7   12\n",
              "[3,]    3    8   13\n",
              "[4,]    4    9   14\n",
              "[5,]    5   10   15\n",
              "\n",
              ", , 2\n",
              "\n",
              "     [,1] [,2] [,3]\n",
              "[1,]   16   21   26\n",
              "[2,]   17   22   27\n",
              "[3,]   18   23   28\n",
              "[4,]   19   24   29\n",
              "[5,]   20   25   30\n",
              "\n",
              ", , 3\n",
              "\n",
              "     [,1] [,2] [,3]\n",
              "[1,]   31    1    6\n",
              "[2,]   32    2    7\n",
              "[3,]   33    3    8\n",
              "[4,]   34    4    9\n",
              "[5,]   35    5   10\n"
            ]
          },
          "metadata": {}
        }
      ]
    },
    {
      "cell_type": "code",
      "source": [
        "mult_dim[3,3,2]"
      ],
      "metadata": {
        "colab": {
          "base_uri": "https://localhost:8080/",
          "height": 34
        },
        "id": "UOcFypQ5-Cxm",
        "outputId": "4559545c-06db-4053-c861-318bb5febd4b"
      },
      "execution_count": 50,
      "outputs": [
        {
          "output_type": "display_data",
          "data": {
            "text/html": [
              "28"
            ],
            "text/markdown": "28",
            "text/latex": "28",
            "text/plain": [
              "[1] 28"
            ]
          },
          "metadata": {}
        }
      ]
    },
    {
      "cell_type": "code",
      "source": [
        "27 %in% mult_dim"
      ],
      "metadata": {
        "id": "-ZKg6GBq-C00",
        "colab": {
          "base_uri": "https://localhost:8080/",
          "height": 34
        },
        "outputId": "43fd3c09-25f4-48f1-fdfb-c8d23765a65a"
      },
      "execution_count": 53,
      "outputs": [
        {
          "output_type": "display_data",
          "data": {
            "text/html": [
              "TRUE"
            ],
            "text/markdown": "TRUE",
            "text/latex": "TRUE",
            "text/plain": [
              "[1] TRUE"
            ]
          },
          "metadata": {}
        }
      ]
    },
    {
      "cell_type": "code",
      "source": [
        "length(mult_dim)"
      ],
      "metadata": {
        "colab": {
          "base_uri": "https://localhost:8080/",
          "height": 34
        },
        "id": "g2La1taHDRt2",
        "outputId": "3fa5fd22-1bcf-4200-d78b-72cbdbe61593"
      },
      "execution_count": 54,
      "outputs": [
        {
          "output_type": "display_data",
          "data": {
            "text/html": [
              "45"
            ],
            "text/markdown": "45",
            "text/latex": "45",
            "text/plain": [
              "[1] 45"
            ]
          },
          "metadata": {}
        }
      ]
    },
    {
      "cell_type": "code",
      "source": [
        "str(mult_dim)"
      ],
      "metadata": {
        "colab": {
          "base_uri": "https://localhost:8080/"
        },
        "id": "0Fj2PkXHDRzi",
        "outputId": "8835e31c-2352-4ff4-fc2a-82eaa680ada0"
      },
      "execution_count": 55,
      "outputs": [
        {
          "output_type": "stream",
          "name": "stdout",
          "text": [
            " int [1:5, 1:3, 1:3] 1 2 3 4 5 6 7 8 9 10 ...\n"
          ]
        }
      ]
    },
    {
      "cell_type": "code",
      "source": [
        "dim(mult_dim)"
      ],
      "metadata": {
        "colab": {
          "base_uri": "https://localhost:8080/",
          "height": 34
        },
        "id": "kZOfIly1DR13",
        "outputId": "42071ce3-3f66-4cc7-8dd6-ebad78f45384"
      },
      "execution_count": 56,
      "outputs": [
        {
          "output_type": "display_data",
          "data": {
            "text/html": [
              "<style>\n",
              ".list-inline {list-style: none; margin:0; padding: 0}\n",
              ".list-inline>li {display: inline-block}\n",
              ".list-inline>li:not(:last-child)::after {content: \"\\00b7\"; padding: 0 .5ex}\n",
              "</style>\n",
              "<ol class=list-inline><li>5</li><li>3</li><li>3</li></ol>\n"
            ],
            "text/markdown": "1. 5\n2. 3\n3. 3\n\n\n",
            "text/latex": "\\begin{enumerate*}\n\\item 5\n\\item 3\n\\item 3\n\\end{enumerate*}\n",
            "text/plain": [
              "[1] 5 3 3"
            ]
          },
          "metadata": {}
        }
      ]
    },
    {
      "cell_type": "markdown",
      "source": [
        "## DataFrame\n",
        "- a list of equal length vectors\n",
        "- displayed ina format as a table\n",
        "- can have different types"
      ],
      "metadata": {
        "id": "JwnFZWNTEKL0"
      }
    },
    {
      "cell_type": "code",
      "source": [
        "new_df = data.frame(\n",
        "  player = c(\"Messi\", \"Ronaldo\", \"Bale\"),\n",
        "  number = c(24, 7, 18),\n",
        "  height = c(168, 173, 180)\n",
        ")\n",
        "\n",
        "new_df"
      ],
      "metadata": {
        "colab": {
          "base_uri": "https://localhost:8080/",
          "height": 192
        },
        "id": "w2ian77GDR6D",
        "outputId": "f20a5e5f-85e3-4826-9160-6d66b604cdb3"
      },
      "execution_count": 58,
      "outputs": [
        {
          "output_type": "display_data",
          "data": {
            "text/html": [
              "<table class=\"dataframe\">\n",
              "<caption>A data.frame: 3 × 3</caption>\n",
              "<thead>\n",
              "\t<tr><th scope=col>player</th><th scope=col>number</th><th scope=col>height</th></tr>\n",
              "\t<tr><th scope=col>&lt;chr&gt;</th><th scope=col>&lt;dbl&gt;</th><th scope=col>&lt;dbl&gt;</th></tr>\n",
              "</thead>\n",
              "<tbody>\n",
              "\t<tr><td>Messi  </td><td>24</td><td>168</td></tr>\n",
              "\t<tr><td>Ronaldo</td><td> 7</td><td>173</td></tr>\n",
              "\t<tr><td>Bale   </td><td>18</td><td>180</td></tr>\n",
              "</tbody>\n",
              "</table>\n"
            ],
            "text/markdown": "\nA data.frame: 3 × 3\n\n| player &lt;chr&gt; | number &lt;dbl&gt; | height &lt;dbl&gt; |\n|---|---|---|\n| Messi   | 24 | 168 |\n| Ronaldo |  7 | 173 |\n| Bale    | 18 | 180 |\n\n",
            "text/latex": "A data.frame: 3 × 3\n\\begin{tabular}{lll}\n player & number & height\\\\\n <chr> & <dbl> & <dbl>\\\\\n\\hline\n\t Messi   & 24 & 168\\\\\n\t Ronaldo &  7 & 173\\\\\n\t Bale    & 18 & 180\\\\\n\\end{tabular}\n",
            "text/plain": [
              "  player  number height\n",
              "1 Messi   24     168   \n",
              "2 Ronaldo  7     173   \n",
              "3 Bale    18     180   "
            ]
          },
          "metadata": {}
        }
      ]
    },
    {
      "cell_type": "code",
      "source": [
        "# summarizing the data from the data frame\n",
        "summary(new_df)"
      ],
      "metadata": {
        "colab": {
          "base_uri": "https://localhost:8080/",
          "height": 138
        },
        "id": "C2UbBRgnENn7",
        "outputId": "f6043855-8a7f-4e40-fde0-19b3e892a629"
      },
      "execution_count": 59,
      "outputs": [
        {
          "output_type": "display_data",
          "data": {
            "text/plain": [
              "    player              number          height     \n",
              " Length:3           Min.   : 7.00   Min.   :168.0  \n",
              " Class :character   1st Qu.:12.50   1st Qu.:170.5  \n",
              " Mode  :character   Median :18.00   Median :173.0  \n",
              "                    Mean   :16.33   Mean   :173.7  \n",
              "                    3rd Qu.:21.00   3rd Qu.:176.5  \n",
              "                    Max.   :24.00   Max.   :180.0  "
            ]
          },
          "metadata": {}
        }
      ]
    },
    {
      "cell_type": "code",
      "source": [
        "summary(new_df$height)"
      ],
      "metadata": {
        "colab": {
          "base_uri": "https://localhost:8080/",
          "height": 52
        },
        "id": "PDvv-V0pFdgy",
        "outputId": "109ee76b-3b97-4cf7-8d7e-aeb8cc3c4119"
      },
      "execution_count": 60,
      "outputs": [
        {
          "output_type": "display_data",
          "data": {
            "text/plain": [
              "   Min. 1st Qu.  Median    Mean 3rd Qu.    Max. \n",
              "  168.0   170.5   173.0   173.7   176.5   180.0 "
            ]
          },
          "metadata": {}
        }
      ]
    },
    {
      "cell_type": "code",
      "source": [
        "new_df"
      ],
      "metadata": {
        "colab": {
          "base_uri": "https://localhost:8080/",
          "height": 192
        },
        "id": "T1pIXUzTFq0W",
        "outputId": "6e8ae0d4-2d6a-4679-d06c-34929931bead"
      },
      "execution_count": 77,
      "outputs": [
        {
          "output_type": "display_data",
          "data": {
            "text/html": [
              "<table class=\"dataframe\">\n",
              "<caption>A data.frame: 3 × 3</caption>\n",
              "<thead>\n",
              "\t<tr><th scope=col>player</th><th scope=col>number</th><th scope=col>height</th></tr>\n",
              "\t<tr><th scope=col>&lt;chr&gt;</th><th scope=col>&lt;dbl&gt;</th><th scope=col>&lt;dbl&gt;</th></tr>\n",
              "</thead>\n",
              "<tbody>\n",
              "\t<tr><td>Messi  </td><td>24</td><td>168</td></tr>\n",
              "\t<tr><td>Ronaldo</td><td> 7</td><td>173</td></tr>\n",
              "\t<tr><td>Bale   </td><td>18</td><td>180</td></tr>\n",
              "</tbody>\n",
              "</table>\n"
            ],
            "text/markdown": "\nA data.frame: 3 × 3\n\n| player &lt;chr&gt; | number &lt;dbl&gt; | height &lt;dbl&gt; |\n|---|---|---|\n| Messi   | 24 | 168 |\n| Ronaldo |  7 | 173 |\n| Bale    | 18 | 180 |\n\n",
            "text/latex": "A data.frame: 3 × 3\n\\begin{tabular}{lll}\n player & number & height\\\\\n <chr> & <dbl> & <dbl>\\\\\n\\hline\n\t Messi   & 24 & 168\\\\\n\t Ronaldo &  7 & 173\\\\\n\t Bale    & 18 & 180\\\\\n\\end{tabular}\n",
            "text/plain": [
              "  player  number height\n",
              "1 Messi   24     168   \n",
              "2 Ronaldo  7     173   \n",
              "3 Bale    18     180   "
            ]
          },
          "metadata": {}
        }
      ]
    },
    {
      "cell_type": "code",
      "source": [
        "# accessing the dtaframe items\n",
        "new_df[2]"
      ],
      "metadata": {
        "colab": {
          "base_uri": "https://localhost:8080/",
          "height": 227
        },
        "id": "Q3OCyufHENpq",
        "outputId": "f6521d46-7056-4d21-ab1b-0d2623c4f330"
      },
      "execution_count": 62,
      "outputs": [
        {
          "output_type": "display_data",
          "data": {
            "text/html": [
              "<table class=\"dataframe\">\n",
              "<caption>A data.frame: 3 × 1</caption>\n",
              "<thead>\n",
              "\t<tr><th scope=col>number</th></tr>\n",
              "\t<tr><th scope=col>&lt;dbl&gt;</th></tr>\n",
              "</thead>\n",
              "<tbody>\n",
              "\t<tr><td>24</td></tr>\n",
              "\t<tr><td> 7</td></tr>\n",
              "\t<tr><td>18</td></tr>\n",
              "</tbody>\n",
              "</table>\n"
            ],
            "text/markdown": "\nA data.frame: 3 × 1\n\n| number &lt;dbl&gt; |\n|---|\n| 24 |\n|  7 |\n| 18 |\n\n",
            "text/latex": "A data.frame: 3 × 1\n\\begin{tabular}{l}\n number\\\\\n <dbl>\\\\\n\\hline\n\t 24\\\\\n\t  7\\\\\n\t 18\\\\\n\\end{tabular}\n",
            "text/plain": [
              "  number\n",
              "1 24    \n",
              "2  7    \n",
              "3 18    "
            ]
          },
          "metadata": {}
        }
      ]
    },
    {
      "cell_type": "code",
      "source": [
        "new_df[2,1]"
      ],
      "metadata": {
        "colab": {
          "base_uri": "https://localhost:8080/",
          "height": 34
        },
        "id": "zQ-WQATwENtn",
        "outputId": "b3415584-ad2c-486f-f6e5-16298ea8f862"
      },
      "execution_count": 65,
      "outputs": [
        {
          "output_type": "display_data",
          "data": {
            "text/html": [
              "'Ronaldo'"
            ],
            "text/markdown": "'Ronaldo'",
            "text/latex": "'Ronaldo'",
            "text/plain": [
              "[1] \"Ronaldo\""
            ]
          },
          "metadata": {}
        }
      ]
    },
    {
      "cell_type": "code",
      "source": [
        "new_df[['player']]"
      ],
      "metadata": {
        "colab": {
          "base_uri": "https://localhost:8080/",
          "height": 34
        },
        "id": "4FpwnA_4ENvu",
        "outputId": "7fe912b9-1c4c-4445-829f-2de624bea7b2"
      },
      "execution_count": 72,
      "outputs": [
        {
          "output_type": "display_data",
          "data": {
            "text/html": [
              "<style>\n",
              ".list-inline {list-style: none; margin:0; padding: 0}\n",
              ".list-inline>li {display: inline-block}\n",
              ".list-inline>li:not(:last-child)::after {content: \"\\00b7\"; padding: 0 .5ex}\n",
              "</style>\n",
              "<ol class=list-inline><li>'Messi'</li><li>'Ronaldo'</li><li>'Bale'</li></ol>\n"
            ],
            "text/markdown": "1. 'Messi'\n2. 'Ronaldo'\n3. 'Bale'\n\n\n",
            "text/latex": "\\begin{enumerate*}\n\\item 'Messi'\n\\item 'Ronaldo'\n\\item 'Bale'\n\\end{enumerate*}\n",
            "text/plain": [
              "[1] \"Messi\"   \"Ronaldo\" \"Bale\"   "
            ]
          },
          "metadata": {}
        }
      ]
    },
    {
      "cell_type": "code",
      "source": [
        "new_df['player']"
      ],
      "metadata": {
        "id": "947BH7vw-C2k",
        "colab": {
          "base_uri": "https://localhost:8080/",
          "height": 227
        },
        "outputId": "493c937c-1dcf-45b8-96d9-f05e35bf5b82"
      },
      "execution_count": 68,
      "outputs": [
        {
          "output_type": "display_data",
          "data": {
            "text/html": [
              "<table class=\"dataframe\">\n",
              "<caption>A data.frame: 3 × 1</caption>\n",
              "<thead>\n",
              "\t<tr><th scope=col>player</th></tr>\n",
              "\t<tr><th scope=col>&lt;chr&gt;</th></tr>\n",
              "</thead>\n",
              "<tbody>\n",
              "\t<tr><td>Messi  </td></tr>\n",
              "\t<tr><td>Ronaldo</td></tr>\n",
              "\t<tr><td>Bale   </td></tr>\n",
              "</tbody>\n",
              "</table>\n"
            ],
            "text/markdown": "\nA data.frame: 3 × 1\n\n| player &lt;chr&gt; |\n|---|\n| Messi   |\n| Ronaldo |\n| Bale    |\n\n",
            "text/latex": "A data.frame: 3 × 1\n\\begin{tabular}{l}\n player\\\\\n <chr>\\\\\n\\hline\n\t Messi  \\\\\n\t Ronaldo\\\\\n\t Bale   \\\\\n\\end{tabular}\n",
            "text/plain": [
              "  player \n",
              "1 Messi  \n",
              "2 Ronaldo\n",
              "3 Bale   "
            ]
          },
          "metadata": {}
        }
      ]
    },
    {
      "cell_type": "code",
      "source": [
        "typeof(new_df)"
      ],
      "metadata": {
        "colab": {
          "base_uri": "https://localhost:8080/",
          "height": 34
        },
        "id": "cBbj5NiEGUn2",
        "outputId": "17bff515-14ae-4848-f0c2-74ef7e78ac6a"
      },
      "execution_count": 70,
      "outputs": [
        {
          "output_type": "display_data",
          "data": {
            "text/html": [
              "'list'"
            ],
            "text/markdown": "'list'",
            "text/latex": "'list'",
            "text/plain": [
              "[1] \"list\""
            ]
          },
          "metadata": {}
        }
      ]
    },
    {
      "cell_type": "code",
      "source": [
        "# adding rows in a dataframe\n",
        "new_rowdf = rbind(new_df, c(\"Pogba\", 10, 179))\n",
        "new_rowdf"
      ],
      "metadata": {
        "colab": {
          "base_uri": "https://localhost:8080/",
          "height": 223
        },
        "id": "nY-1ZMesGUp1",
        "outputId": "37d88117-edd9-439b-911a-82c5cd58eed8"
      },
      "execution_count": 73,
      "outputs": [
        {
          "output_type": "display_data",
          "data": {
            "text/html": [
              "<table class=\"dataframe\">\n",
              "<caption>A data.frame: 4 × 3</caption>\n",
              "<thead>\n",
              "\t<tr><th scope=col>player</th><th scope=col>number</th><th scope=col>height</th></tr>\n",
              "\t<tr><th scope=col>&lt;chr&gt;</th><th scope=col>&lt;chr&gt;</th><th scope=col>&lt;chr&gt;</th></tr>\n",
              "</thead>\n",
              "<tbody>\n",
              "\t<tr><td>Messi  </td><td>24</td><td>168</td></tr>\n",
              "\t<tr><td>Ronaldo</td><td>7 </td><td>173</td></tr>\n",
              "\t<tr><td>Bale   </td><td>18</td><td>180</td></tr>\n",
              "\t<tr><td>Pogba  </td><td>10</td><td>179</td></tr>\n",
              "</tbody>\n",
              "</table>\n"
            ],
            "text/markdown": "\nA data.frame: 4 × 3\n\n| player &lt;chr&gt; | number &lt;chr&gt; | height &lt;chr&gt; |\n|---|---|---|\n| Messi   | 24 | 168 |\n| Ronaldo | 7  | 173 |\n| Bale    | 18 | 180 |\n| Pogba   | 10 | 179 |\n\n",
            "text/latex": "A data.frame: 4 × 3\n\\begin{tabular}{lll}\n player & number & height\\\\\n <chr> & <chr> & <chr>\\\\\n\\hline\n\t Messi   & 24 & 168\\\\\n\t Ronaldo & 7  & 173\\\\\n\t Bale    & 18 & 180\\\\\n\t Pogba   & 10 & 179\\\\\n\\end{tabular}\n",
            "text/plain": [
              "  player  number height\n",
              "1 Messi   24     168   \n",
              "2 Ronaldo 7      173   \n",
              "3 Bale    18     180   \n",
              "4 Pogba   10     179   "
            ]
          },
          "metadata": {}
        }
      ]
    },
    {
      "cell_type": "code",
      "source": [
        "#addinga new column in dataframe\n",
        "new_col = cbind(new_df, speed = c(80, 95, 80))\n",
        "new_col"
      ],
      "metadata": {
        "colab": {
          "base_uri": "https://localhost:8080/",
          "height": 192
        },
        "id": "6ua8rg2-GUtK",
        "outputId": "bf2dfffb-d840-458f-e6fa-c73ad0f6c2fa"
      },
      "execution_count": 79,
      "outputs": [
        {
          "output_type": "display_data",
          "data": {
            "text/html": [
              "<table class=\"dataframe\">\n",
              "<caption>A data.frame: 3 × 4</caption>\n",
              "<thead>\n",
              "\t<tr><th scope=col>player</th><th scope=col>number</th><th scope=col>height</th><th scope=col>speed</th></tr>\n",
              "\t<tr><th scope=col>&lt;chr&gt;</th><th scope=col>&lt;dbl&gt;</th><th scope=col>&lt;dbl&gt;</th><th scope=col>&lt;dbl&gt;</th></tr>\n",
              "</thead>\n",
              "<tbody>\n",
              "\t<tr><td>Messi  </td><td>24</td><td>168</td><td>80</td></tr>\n",
              "\t<tr><td>Ronaldo</td><td> 7</td><td>173</td><td>95</td></tr>\n",
              "\t<tr><td>Bale   </td><td>18</td><td>180</td><td>80</td></tr>\n",
              "</tbody>\n",
              "</table>\n"
            ],
            "text/markdown": "\nA data.frame: 3 × 4\n\n| player &lt;chr&gt; | number &lt;dbl&gt; | height &lt;dbl&gt; | speed &lt;dbl&gt; |\n|---|---|---|---|\n| Messi   | 24 | 168 | 80 |\n| Ronaldo |  7 | 173 | 95 |\n| Bale    | 18 | 180 | 80 |\n\n",
            "text/latex": "A data.frame: 3 × 4\n\\begin{tabular}{llll}\n player & number & height & speed\\\\\n <chr> & <dbl> & <dbl> & <dbl>\\\\\n\\hline\n\t Messi   & 24 & 168 & 80\\\\\n\t Ronaldo &  7 & 173 & 95\\\\\n\t Bale    & 18 & 180 & 80\\\\\n\\end{tabular}\n",
            "text/plain": [
              "  player  number height speed\n",
              "1 Messi   24     168    80   \n",
              "2 Ronaldo  7     173    95   \n",
              "3 Bale    18     180    80   "
            ]
          },
          "metadata": {}
        }
      ]
    },
    {
      "cell_type": "code",
      "source": [
        "# removing rows and column from the dataframe\n",
        "new_rowdf"
      ],
      "metadata": {
        "colab": {
          "base_uri": "https://localhost:8080/",
          "height": 223
        },
        "id": "5CAHmn4gGUvI",
        "outputId": "9ebbe5d0-1173-47a4-e49a-0878a3992f83"
      },
      "execution_count": 82,
      "outputs": [
        {
          "output_type": "display_data",
          "data": {
            "text/html": [
              "<table class=\"dataframe\">\n",
              "<caption>A data.frame: 4 × 3</caption>\n",
              "<thead>\n",
              "\t<tr><th scope=col>player</th><th scope=col>number</th><th scope=col>height</th></tr>\n",
              "\t<tr><th scope=col>&lt;chr&gt;</th><th scope=col>&lt;chr&gt;</th><th scope=col>&lt;chr&gt;</th></tr>\n",
              "</thead>\n",
              "<tbody>\n",
              "\t<tr><td>Messi  </td><td>24</td><td>168</td></tr>\n",
              "\t<tr><td>Ronaldo</td><td>7 </td><td>173</td></tr>\n",
              "\t<tr><td>Bale   </td><td>18</td><td>180</td></tr>\n",
              "\t<tr><td>Pogba  </td><td>10</td><td>179</td></tr>\n",
              "</tbody>\n",
              "</table>\n"
            ],
            "text/markdown": "\nA data.frame: 4 × 3\n\n| player &lt;chr&gt; | number &lt;chr&gt; | height &lt;chr&gt; |\n|---|---|---|\n| Messi   | 24 | 168 |\n| Ronaldo | 7  | 173 |\n| Bale    | 18 | 180 |\n| Pogba   | 10 | 179 |\n\n",
            "text/latex": "A data.frame: 4 × 3\n\\begin{tabular}{lll}\n player & number & height\\\\\n <chr> & <chr> & <chr>\\\\\n\\hline\n\t Messi   & 24 & 168\\\\\n\t Ronaldo & 7  & 173\\\\\n\t Bale    & 18 & 180\\\\\n\t Pogba   & 10 & 179\\\\\n\\end{tabular}\n",
            "text/plain": [
              "  player  number height\n",
              "1 Messi   24     168   \n",
              "2 Ronaldo 7      173   \n",
              "3 Bale    18     180   \n",
              "4 Pogba   10     179   "
            ]
          },
          "metadata": {}
        }
      ]
    },
    {
      "cell_type": "code",
      "source": [
        "new_rowdf[-4,]"
      ],
      "metadata": {
        "colab": {
          "base_uri": "https://localhost:8080/",
          "height": 192
        },
        "id": "sPiFnHQlGUyU",
        "outputId": "3980b30b-b2d4-4ffd-a398-69501f7de115"
      },
      "execution_count": 88,
      "outputs": [
        {
          "output_type": "display_data",
          "data": {
            "text/html": [
              "<table class=\"dataframe\">\n",
              "<caption>A data.frame: 3 × 3</caption>\n",
              "<thead>\n",
              "\t<tr><th></th><th scope=col>player</th><th scope=col>number</th><th scope=col>height</th></tr>\n",
              "\t<tr><th></th><th scope=col>&lt;chr&gt;</th><th scope=col>&lt;chr&gt;</th><th scope=col>&lt;chr&gt;</th></tr>\n",
              "</thead>\n",
              "<tbody>\n",
              "\t<tr><th scope=row>1</th><td>Messi  </td><td>24</td><td>168</td></tr>\n",
              "\t<tr><th scope=row>2</th><td>Ronaldo</td><td>7 </td><td>173</td></tr>\n",
              "\t<tr><th scope=row>3</th><td>Bale   </td><td>18</td><td>180</td></tr>\n",
              "</tbody>\n",
              "</table>\n"
            ],
            "text/markdown": "\nA data.frame: 3 × 3\n\n| <!--/--> | player &lt;chr&gt; | number &lt;chr&gt; | height &lt;chr&gt; |\n|---|---|---|---|\n| 1 | Messi   | 24 | 168 |\n| 2 | Ronaldo | 7  | 173 |\n| 3 | Bale    | 18 | 180 |\n\n",
            "text/latex": "A data.frame: 3 × 3\n\\begin{tabular}{r|lll}\n  & player & number & height\\\\\n  & <chr> & <chr> & <chr>\\\\\n\\hline\n\t1 & Messi   & 24 & 168\\\\\n\t2 & Ronaldo & 7  & 173\\\\\n\t3 & Bale    & 18 & 180\\\\\n\\end{tabular}\n",
            "text/plain": [
              "  player  number height\n",
              "1 Messi   24     168   \n",
              "2 Ronaldo 7      173   \n",
              "3 Bale    18     180   "
            ]
          },
          "metadata": {}
        }
      ]
    },
    {
      "cell_type": "code",
      "source": [
        "new_col"
      ],
      "metadata": {
        "colab": {
          "base_uri": "https://localhost:8080/",
          "height": 192
        },
        "id": "u2eJgFgTGU2M",
        "outputId": "e0c669e7-f08e-4423-d602-4c5bdb3a38a3"
      },
      "execution_count": 89,
      "outputs": [
        {
          "output_type": "display_data",
          "data": {
            "text/html": [
              "<table class=\"dataframe\">\n",
              "<caption>A data.frame: 3 × 4</caption>\n",
              "<thead>\n",
              "\t<tr><th scope=col>player</th><th scope=col>number</th><th scope=col>height</th><th scope=col>speed</th></tr>\n",
              "\t<tr><th scope=col>&lt;chr&gt;</th><th scope=col>&lt;dbl&gt;</th><th scope=col>&lt;dbl&gt;</th><th scope=col>&lt;dbl&gt;</th></tr>\n",
              "</thead>\n",
              "<tbody>\n",
              "\t<tr><td>Messi  </td><td>24</td><td>168</td><td>80</td></tr>\n",
              "\t<tr><td>Ronaldo</td><td> 7</td><td>173</td><td>95</td></tr>\n",
              "\t<tr><td>Bale   </td><td>18</td><td>180</td><td>80</td></tr>\n",
              "</tbody>\n",
              "</table>\n"
            ],
            "text/markdown": "\nA data.frame: 3 × 4\n\n| player &lt;chr&gt; | number &lt;dbl&gt; | height &lt;dbl&gt; | speed &lt;dbl&gt; |\n|---|---|---|---|\n| Messi   | 24 | 168 | 80 |\n| Ronaldo |  7 | 173 | 95 |\n| Bale    | 18 | 180 | 80 |\n\n",
            "text/latex": "A data.frame: 3 × 4\n\\begin{tabular}{llll}\n player & number & height & speed\\\\\n <chr> & <dbl> & <dbl> & <dbl>\\\\\n\\hline\n\t Messi   & 24 & 168 & 80\\\\\n\t Ronaldo &  7 & 173 & 95\\\\\n\t Bale    & 18 & 180 & 80\\\\\n\\end{tabular}\n",
            "text/plain": [
              "  player  number height speed\n",
              "1 Messi   24     168    80   \n",
              "2 Ronaldo  7     173    95   \n",
              "3 Bale    18     180    80   "
            ]
          },
          "metadata": {}
        }
      ]
    },
    {
      "cell_type": "code",
      "source": [
        "new_col[-c(4)]"
      ],
      "metadata": {
        "colab": {
          "base_uri": "https://localhost:8080/",
          "height": 192
        },
        "id": "qG9lnQGEGU4T",
        "outputId": "c53942f0-3aa1-453f-c07a-1022dcd2e28e"
      },
      "execution_count": 94,
      "outputs": [
        {
          "output_type": "display_data",
          "data": {
            "text/html": [
              "<table class=\"dataframe\">\n",
              "<caption>A data.frame: 3 × 3</caption>\n",
              "<thead>\n",
              "\t<tr><th scope=col>player</th><th scope=col>number</th><th scope=col>height</th></tr>\n",
              "\t<tr><th scope=col>&lt;chr&gt;</th><th scope=col>&lt;dbl&gt;</th><th scope=col>&lt;dbl&gt;</th></tr>\n",
              "</thead>\n",
              "<tbody>\n",
              "\t<tr><td>Messi  </td><td>24</td><td>168</td></tr>\n",
              "\t<tr><td>Ronaldo</td><td> 7</td><td>173</td></tr>\n",
              "\t<tr><td>Bale   </td><td>18</td><td>180</td></tr>\n",
              "</tbody>\n",
              "</table>\n"
            ],
            "text/markdown": "\nA data.frame: 3 × 3\n\n| player &lt;chr&gt; | number &lt;dbl&gt; | height &lt;dbl&gt; |\n|---|---|---|\n| Messi   | 24 | 168 |\n| Ronaldo |  7 | 173 |\n| Bale    | 18 | 180 |\n\n",
            "text/latex": "A data.frame: 3 × 3\n\\begin{tabular}{lll}\n player & number & height\\\\\n <chr> & <dbl> & <dbl>\\\\\n\\hline\n\t Messi   & 24 & 168\\\\\n\t Ronaldo &  7 & 173\\\\\n\t Bale    & 18 & 180\\\\\n\\end{tabular}\n",
            "text/plain": [
              "  player  number height\n",
              "1 Messi   24     168   \n",
              "2 Ronaldo  7     173   \n",
              "3 Bale    18     180   "
            ]
          },
          "metadata": {}
        }
      ]
    },
    {
      "cell_type": "code",
      "source": [
        "# getting the dim\n",
        "dim(new_df)"
      ],
      "metadata": {
        "colab": {
          "base_uri": "https://localhost:8080/",
          "height": 34
        },
        "id": "_T0lgQCnJDoT",
        "outputId": "809ab46b-2f9f-454d-e7bc-43cec5cfd60d"
      },
      "execution_count": 95,
      "outputs": [
        {
          "output_type": "display_data",
          "data": {
            "text/html": [
              "<style>\n",
              ".list-inline {list-style: none; margin:0; padding: 0}\n",
              ".list-inline>li {display: inline-block}\n",
              ".list-inline>li:not(:last-child)::after {content: \"\\00b7\"; padding: 0 .5ex}\n",
              "</style>\n",
              "<ol class=list-inline><li>3</li><li>3</li></ol>\n"
            ],
            "text/markdown": "1. 3\n2. 3\n\n\n",
            "text/latex": "\\begin{enumerate*}\n\\item 3\n\\item 3\n\\end{enumerate*}\n",
            "text/plain": [
              "[1] 3 3"
            ]
          },
          "metadata": {}
        }
      ]
    },
    {
      "cell_type": "code",
      "source": [
        "ncol(new_df)\n",
        "nrow(new_df)"
      ],
      "metadata": {
        "colab": {
          "base_uri": "https://localhost:8080/",
          "height": 52
        },
        "id": "NapYONg6JDqz",
        "outputId": "168a9835-46bd-49ac-e257-a26ad86c0902"
      },
      "execution_count": 96,
      "outputs": [
        {
          "output_type": "display_data",
          "data": {
            "text/html": [
              "3"
            ],
            "text/markdown": "3",
            "text/latex": "3",
            "text/plain": [
              "[1] 3"
            ]
          },
          "metadata": {}
        },
        {
          "output_type": "display_data",
          "data": {
            "text/html": [
              "3"
            ],
            "text/markdown": "3",
            "text/latex": "3",
            "text/plain": [
              "[1] 3"
            ]
          },
          "metadata": {}
        }
      ]
    },
    {
      "cell_type": "code",
      "source": [
        "length(new_df)"
      ],
      "metadata": {
        "colab": {
          "base_uri": "https://localhost:8080/",
          "height": 34
        },
        "id": "asQrEHU0JDuf",
        "outputId": "626c30c9-8c25-4432-84fe-70789f8f02ee"
      },
      "execution_count": 97,
      "outputs": [
        {
          "output_type": "display_data",
          "data": {
            "text/html": [
              "3"
            ],
            "text/markdown": "3",
            "text/latex": "3",
            "text/plain": [
              "[1] 3"
            ]
          },
          "metadata": {}
        }
      ]
    },
    {
      "cell_type": "code",
      "source": [
        "# dataframe concatenation row-wise / vertically\n",
        "new_df = data.frame(\n",
        "  player = c(\"Messi\", \"Ronaldo\", \"Bale\"),\n",
        "  number = c(24, 7, 18),\n",
        "  height = c(168, 173, 180)\n",
        ")\n",
        "new_df2 = data.frame(\n",
        "  player = c(\"Messi\", \"Ronaldo\", \"Bale\"),\n",
        "  number = c(24, 7, 18),\n",
        "  height = c(168, 173, 180)\n",
        ")"
      ],
      "metadata": {
        "id": "DOzmOl2pJDw6"
      },
      "execution_count": 98,
      "outputs": []
    },
    {
      "cell_type": "code",
      "source": [
        "new_concate = rbind(new_df, new_df2)\n",
        "new_concate"
      ],
      "metadata": {
        "colab": {
          "base_uri": "https://localhost:8080/",
          "height": 286
        },
        "id": "WWWgml42JD1Z",
        "outputId": "a17f5be1-41a5-40e8-858d-61b5bae0b743"
      },
      "execution_count": 99,
      "outputs": [
        {
          "output_type": "display_data",
          "data": {
            "text/html": [
              "<table class=\"dataframe\">\n",
              "<caption>A data.frame: 6 × 3</caption>\n",
              "<thead>\n",
              "\t<tr><th scope=col>player</th><th scope=col>number</th><th scope=col>height</th></tr>\n",
              "\t<tr><th scope=col>&lt;chr&gt;</th><th scope=col>&lt;dbl&gt;</th><th scope=col>&lt;dbl&gt;</th></tr>\n",
              "</thead>\n",
              "<tbody>\n",
              "\t<tr><td>Messi  </td><td>24</td><td>168</td></tr>\n",
              "\t<tr><td>Ronaldo</td><td> 7</td><td>173</td></tr>\n",
              "\t<tr><td>Bale   </td><td>18</td><td>180</td></tr>\n",
              "\t<tr><td>Messi  </td><td>24</td><td>168</td></tr>\n",
              "\t<tr><td>Ronaldo</td><td> 7</td><td>173</td></tr>\n",
              "\t<tr><td>Bale   </td><td>18</td><td>180</td></tr>\n",
              "</tbody>\n",
              "</table>\n"
            ],
            "text/markdown": "\nA data.frame: 6 × 3\n\n| player &lt;chr&gt; | number &lt;dbl&gt; | height &lt;dbl&gt; |\n|---|---|---|\n| Messi   | 24 | 168 |\n| Ronaldo |  7 | 173 |\n| Bale    | 18 | 180 |\n| Messi   | 24 | 168 |\n| Ronaldo |  7 | 173 |\n| Bale    | 18 | 180 |\n\n",
            "text/latex": "A data.frame: 6 × 3\n\\begin{tabular}{lll}\n player & number & height\\\\\n <chr> & <dbl> & <dbl>\\\\\n\\hline\n\t Messi   & 24 & 168\\\\\n\t Ronaldo &  7 & 173\\\\\n\t Bale    & 18 & 180\\\\\n\t Messi   & 24 & 168\\\\\n\t Ronaldo &  7 & 173\\\\\n\t Bale    & 18 & 180\\\\\n\\end{tabular}\n",
            "text/plain": [
              "  player  number height\n",
              "1 Messi   24     168   \n",
              "2 Ronaldo  7     173   \n",
              "3 Bale    18     180   \n",
              "4 Messi   24     168   \n",
              "5 Ronaldo  7     173   \n",
              "6 Bale    18     180   "
            ]
          },
          "metadata": {}
        }
      ]
    },
    {
      "cell_type": "code",
      "source": [
        "# dataframe concatenation column wise / horizontolly\n",
        "df_concate2 = cbind(new_df, new_df2)\n",
        "df_concate2"
      ],
      "metadata": {
        "colab": {
          "base_uri": "https://localhost:8080/",
          "height": 192
        },
        "id": "QrwHvpKJJD3n",
        "outputId": "e706220a-640f-46c6-ad28-cf846fb3b241"
      },
      "execution_count": 100,
      "outputs": [
        {
          "output_type": "display_data",
          "data": {
            "text/html": [
              "<table class=\"dataframe\">\n",
              "<caption>A data.frame: 3 × 6</caption>\n",
              "<thead>\n",
              "\t<tr><th scope=col>player</th><th scope=col>number</th><th scope=col>height</th><th scope=col>player</th><th scope=col>number</th><th scope=col>height</th></tr>\n",
              "\t<tr><th scope=col>&lt;chr&gt;</th><th scope=col>&lt;dbl&gt;</th><th scope=col>&lt;dbl&gt;</th><th scope=col>&lt;chr&gt;</th><th scope=col>&lt;dbl&gt;</th><th scope=col>&lt;dbl&gt;</th></tr>\n",
              "</thead>\n",
              "<tbody>\n",
              "\t<tr><td>Messi  </td><td>24</td><td>168</td><td>Messi  </td><td>24</td><td>168</td></tr>\n",
              "\t<tr><td>Ronaldo</td><td> 7</td><td>173</td><td>Ronaldo</td><td> 7</td><td>173</td></tr>\n",
              "\t<tr><td>Bale   </td><td>18</td><td>180</td><td>Bale   </td><td>18</td><td>180</td></tr>\n",
              "</tbody>\n",
              "</table>\n"
            ],
            "text/markdown": "\nA data.frame: 3 × 6\n\n| player &lt;chr&gt; | number &lt;dbl&gt; | height &lt;dbl&gt; | player &lt;chr&gt; | number &lt;dbl&gt; | height &lt;dbl&gt; |\n|---|---|---|---|---|---|\n| Messi   | 24 | 168 | Messi   | 24 | 168 |\n| Ronaldo |  7 | 173 | Ronaldo |  7 | 173 |\n| Bale    | 18 | 180 | Bale    | 18 | 180 |\n\n",
            "text/latex": "A data.frame: 3 × 6\n\\begin{tabular}{llllll}\n player & number & height & player & number & height\\\\\n <chr> & <dbl> & <dbl> & <chr> & <dbl> & <dbl>\\\\\n\\hline\n\t Messi   & 24 & 168 & Messi   & 24 & 168\\\\\n\t Ronaldo &  7 & 173 & Ronaldo &  7 & 173\\\\\n\t Bale    & 18 & 180 & Bale    & 18 & 180\\\\\n\\end{tabular}\n",
            "text/plain": [
              "  player  number height player  number height\n",
              "1 Messi   24     168    Messi   24     168   \n",
              "2 Ronaldo  7     173    Ronaldo  7     173   \n",
              "3 Bale    18     180    Bale    18     180   "
            ]
          },
          "metadata": {}
        }
      ]
    },
    {
      "cell_type": "markdown",
      "source": [
        "## Factors\n",
        "- work with categorical variables"
      ],
      "metadata": {
        "id": "Jj-p4dOuLjuH"
      }
    },
    {
      "cell_type": "code",
      "source": [
        "# built-in function 'factor(c())'\n",
        "new_fruits = factor(c(\"banana\", \"apple\", \"fig\", \"banana\", \"banana\", \"fig\"))\n",
        "new_fruits"
      ],
      "metadata": {
        "colab": {
          "base_uri": "https://localhost:8080/",
          "height": 52
        },
        "id": "nOxRd3O_JD7o",
        "outputId": "7223e53c-be5b-4816-8929-4a93228ed1b5"
      },
      "execution_count": 104,
      "outputs": [
        {
          "output_type": "display_data",
          "data": {
            "text/html": [
              "<style>\n",
              ".list-inline {list-style: none; margin:0; padding: 0}\n",
              ".list-inline>li {display: inline-block}\n",
              ".list-inline>li:not(:last-child)::after {content: \"\\00b7\"; padding: 0 .5ex}\n",
              "</style>\n",
              "<ol class=list-inline><li>banana</li><li>apple</li><li>fig</li><li>banana</li><li>banana</li><li>fig</li></ol>\n",
              "\n",
              "<details>\n",
              "\t<summary style=display:list-item;cursor:pointer>\n",
              "\t\t<strong>Levels</strong>:\n",
              "\t</summary>\n",
              "\t<style>\n",
              "\t.list-inline {list-style: none; margin:0; padding: 0}\n",
              "\t.list-inline>li {display: inline-block}\n",
              "\t.list-inline>li:not(:last-child)::after {content: \"\\00b7\"; padding: 0 .5ex}\n",
              "\t</style>\n",
              "\t<ol class=list-inline><li>'apple'</li><li>'banana'</li><li>'fig'</li></ol>\n",
              "</details>"
            ],
            "text/markdown": "1. banana\n2. apple\n3. fig\n4. banana\n5. banana\n6. fig\n\n\n\n**Levels**: 1. 'apple'\n2. 'banana'\n3. 'fig'\n\n\n",
            "text/latex": "\\begin{enumerate*}\n\\item banana\n\\item apple\n\\item fig\n\\item banana\n\\item banana\n\\item fig\n\\end{enumerate*}\n\n\\emph{Levels}: \\begin{enumerate*}\n\\item 'apple'\n\\item 'banana'\n\\item 'fig'\n\\end{enumerate*}\n",
            "text/plain": [
              "[1] banana apple  fig    banana banana fig   \n",
              "Levels: apple banana fig"
            ]
          },
          "metadata": {}
        }
      ]
    },
    {
      "cell_type": "code",
      "source": [
        "str(new_fruits)"
      ],
      "metadata": {
        "colab": {
          "base_uri": "https://localhost:8080/"
        },
        "id": "DcmX4vlFJD-N",
        "outputId": "d0e6c6d2-cace-4066-dc5b-b2b85e26547a"
      },
      "execution_count": 105,
      "outputs": [
        {
          "output_type": "stream",
          "name": "stdout",
          "text": [
            " Factor w/ 3 levels \"apple\",\"banana\",..: 2 1 3 2 2 3\n"
          ]
        }
      ]
    },
    {
      "cell_type": "code",
      "source": [
        "length(new_fruits)"
      ],
      "metadata": {
        "colab": {
          "base_uri": "https://localhost:8080/",
          "height": 34
        },
        "id": "gtECCUJKJECK",
        "outputId": "829766f3-2b23-4b96-caee-b3f9327d71dc"
      },
      "execution_count": 106,
      "outputs": [
        {
          "output_type": "display_data",
          "data": {
            "text/html": [
              "6"
            ],
            "text/markdown": "6",
            "text/latex": "6",
            "text/plain": [
              "[1] 6"
            ]
          },
          "metadata": {}
        }
      ]
    },
    {
      "cell_type": "code",
      "source": [
        "# setting levels\n",
        "my_fruit = factor(c(\"banana\", \"fig\", \"apple\", \"banana\"), levels = c(\"apple\", \"fig\", \"banana\"))\n",
        "my_fruit"
      ],
      "metadata": {
        "colab": {
          "base_uri": "https://localhost:8080/",
          "height": 52
        },
        "id": "kgGuBqMhMWPc",
        "outputId": "204d2c17-a60e-4f53-c04d-6725fb2a2b62"
      },
      "execution_count": 109,
      "outputs": [
        {
          "output_type": "display_data",
          "data": {
            "text/html": [
              "<style>\n",
              ".list-inline {list-style: none; margin:0; padding: 0}\n",
              ".list-inline>li {display: inline-block}\n",
              ".list-inline>li:not(:last-child)::after {content: \"\\00b7\"; padding: 0 .5ex}\n",
              "</style>\n",
              "<ol class=list-inline><li>banana</li><li>fig</li><li>apple</li><li>banana</li></ol>\n",
              "\n",
              "<details>\n",
              "\t<summary style=display:list-item;cursor:pointer>\n",
              "\t\t<strong>Levels</strong>:\n",
              "\t</summary>\n",
              "\t<style>\n",
              "\t.list-inline {list-style: none; margin:0; padding: 0}\n",
              "\t.list-inline>li {display: inline-block}\n",
              "\t.list-inline>li:not(:last-child)::after {content: \"\\00b7\"; padding: 0 .5ex}\n",
              "\t</style>\n",
              "\t<ol class=list-inline><li>'apple'</li><li>'fig'</li><li>'banana'</li></ol>\n",
              "</details>"
            ],
            "text/markdown": "1. banana\n2. fig\n3. apple\n4. banana\n\n\n\n**Levels**: 1. 'apple'\n2. 'fig'\n3. 'banana'\n\n\n",
            "text/latex": "\\begin{enumerate*}\n\\item banana\n\\item fig\n\\item apple\n\\item banana\n\\end{enumerate*}\n\n\\emph{Levels}: \\begin{enumerate*}\n\\item 'apple'\n\\item 'fig'\n\\item 'banana'\n\\end{enumerate*}\n",
            "text/plain": [
              "[1] banana fig    apple  banana\n",
              "Levels: apple fig banana"
            ]
          },
          "metadata": {}
        }
      ]
    },
    {
      "cell_type": "code",
      "source": [
        "# accessing factor items\n",
        "my_fruit[2]"
      ],
      "metadata": {
        "colab": {
          "base_uri": "https://localhost:8080/",
          "height": 52
        },
        "id": "V5Z531oAMWR_",
        "outputId": "5f6d35d1-e000-48a9-8e2d-bce96e3a6ddc"
      },
      "execution_count": 110,
      "outputs": [
        {
          "output_type": "display_data",
          "data": {
            "text/html": [
              "fig\n",
              "<details>\n",
              "\t<summary style=display:list-item;cursor:pointer>\n",
              "\t\t<strong>Levels</strong>:\n",
              "\t</summary>\n",
              "\t<style>\n",
              "\t.list-inline {list-style: none; margin:0; padding: 0}\n",
              "\t.list-inline>li {display: inline-block}\n",
              "\t.list-inline>li:not(:last-child)::after {content: \"\\00b7\"; padding: 0 .5ex}\n",
              "\t</style>\n",
              "\t<ol class=list-inline><li>'apple'</li><li>'fig'</li><li>'banana'</li></ol>\n",
              "</details>"
            ],
            "text/markdown": "fig\n**Levels**: 1. 'apple'\n2. 'fig'\n3. 'banana'\n\n\n",
            "text/latex": "fig\n\\emph{Levels}: \\begin{enumerate*}\n\\item 'apple'\n\\item 'fig'\n\\item 'banana'\n\\end{enumerate*}\n",
            "text/plain": [
              "[1] fig\n",
              "Levels: apple fig banana"
            ]
          },
          "metadata": {}
        }
      ]
    },
    {
      "cell_type": "code",
      "source": [
        "# changing value\n",
        "my_fruit[3] = \"banana\""
      ],
      "metadata": {
        "id": "lK0zVwDvMWVc"
      },
      "execution_count": 115,
      "outputs": []
    },
    {
      "cell_type": "code",
      "source": [
        "my_fruit"
      ],
      "metadata": {
        "colab": {
          "base_uri": "https://localhost:8080/",
          "height": 52
        },
        "id": "7V1aat3iMWYB",
        "outputId": "1e33edec-2642-461c-d001-a3dd82128919"
      },
      "execution_count": 116,
      "outputs": [
        {
          "output_type": "display_data",
          "data": {
            "text/html": [
              "<style>\n",
              ".list-inline {list-style: none; margin:0; padding: 0}\n",
              ".list-inline>li {display: inline-block}\n",
              ".list-inline>li:not(:last-child)::after {content: \"\\00b7\"; padding: 0 .5ex}\n",
              "</style>\n",
              "<ol class=list-inline><li>banana</li><li>fig</li><li>banana</li><li>banana</li></ol>\n",
              "\n",
              "<details>\n",
              "\t<summary style=display:list-item;cursor:pointer>\n",
              "\t\t<strong>Levels</strong>:\n",
              "\t</summary>\n",
              "\t<style>\n",
              "\t.list-inline {list-style: none; margin:0; padding: 0}\n",
              "\t.list-inline>li {display: inline-block}\n",
              "\t.list-inline>li:not(:last-child)::after {content: \"\\00b7\"; padding: 0 .5ex}\n",
              "\t</style>\n",
              "\t<ol class=list-inline><li>'apple'</li><li>'fig'</li><li>'banana'</li></ol>\n",
              "</details>"
            ],
            "text/markdown": "1. banana\n2. fig\n3. banana\n4. banana\n\n\n\n**Levels**: 1. 'apple'\n2. 'fig'\n3. 'banana'\n\n\n",
            "text/latex": "\\begin{enumerate*}\n\\item banana\n\\item fig\n\\item banana\n\\item banana\n\\end{enumerate*}\n\n\\emph{Levels}: \\begin{enumerate*}\n\\item 'apple'\n\\item 'fig'\n\\item 'banana'\n\\end{enumerate*}\n",
            "text/plain": [
              "[1] banana fig    banana banana\n",
              "Levels: apple fig banana"
            ]
          },
          "metadata": {}
        }
      ]
    },
    {
      "cell_type": "code",
      "source": [
        "# you cannot change the value of specified item if not specified\n",
        "my_fruit[3] = \"melon\"\n",
        "my_fruit"
      ],
      "metadata": {
        "colab": {
          "base_uri": "https://localhost:8080/",
          "height": 86
        },
        "id": "etl3glbuMWby",
        "outputId": "3130fc4a-60f6-4166-9488-9774eed0e3c1"
      },
      "execution_count": 117,
      "outputs": [
        {
          "output_type": "stream",
          "name": "stderr",
          "text": [
            "Warning message in `[<-.factor`(`*tmp*`, 3, value = \"melon\"):\n",
            "“invalid factor level, NA generated”\n"
          ]
        },
        {
          "output_type": "display_data",
          "data": {
            "text/html": [
              "<style>\n",
              ".list-inline {list-style: none; margin:0; padding: 0}\n",
              ".list-inline>li {display: inline-block}\n",
              ".list-inline>li:not(:last-child)::after {content: \"\\00b7\"; padding: 0 .5ex}\n",
              "</style>\n",
              "<ol class=list-inline><li>banana</li><li>fig</li><li>&lt;NA&gt;</li><li>banana</li></ol>\n",
              "\n",
              "<details>\n",
              "\t<summary style=display:list-item;cursor:pointer>\n",
              "\t\t<strong>Levels</strong>:\n",
              "\t</summary>\n",
              "\t<style>\n",
              "\t.list-inline {list-style: none; margin:0; padding: 0}\n",
              "\t.list-inline>li {display: inline-block}\n",
              "\t.list-inline>li:not(:last-child)::after {content: \"\\00b7\"; padding: 0 .5ex}\n",
              "\t</style>\n",
              "\t<ol class=list-inline><li>'apple'</li><li>'fig'</li><li>'banana'</li></ol>\n",
              "</details>"
            ],
            "text/markdown": "1. banana\n2. fig\n3. &lt;NA&gt;\n4. banana\n\n\n\n**Levels**: 1. 'apple'\n2. 'fig'\n3. 'banana'\n\n\n",
            "text/latex": "\\begin{enumerate*}\n\\item banana\n\\item fig\n\\item <NA>\n\\item banana\n\\end{enumerate*}\n\n\\emph{Levels}: \\begin{enumerate*}\n\\item 'apple'\n\\item 'fig'\n\\item 'banana'\n\\end{enumerate*}\n",
            "text/plain": [
              "[1] banana fig    <NA>   banana\n",
              "Levels: apple fig banana"
            ]
          },
          "metadata": {}
        }
      ]
    },
    {
      "cell_type": "markdown",
      "source": [
        "## Conditional statement\n",
        "-----\n",
        "if (condition) {\n",
        "  #code\n",
        "} else if (condition) {\n",
        "  #code\n",
        "} else {\n",
        "  #code\n",
        "}"
      ],
      "metadata": {
        "id": "PV1S_gR1O2Kt"
      }
    },
    {
      "cell_type": "code",
      "source": [
        "# conditional if\n",
        "x = 25\n",
        "y = 100\n",
        "\n",
        "if(x<y) {\n",
        "  print(\"The value of y is greater than x.\")\n",
        "} else {\n",
        "  print(\"X is greater.\")\n",
        "}"
      ],
      "metadata": {
        "colab": {
          "base_uri": "https://localhost:8080/"
        },
        "id": "ecxQLlcGMWfO",
        "outputId": "0fb4329f-cb30-4c6b-9284-bc9d7c21bde3"
      },
      "execution_count": 126,
      "outputs": [
        {
          "output_type": "stream",
          "name": "stdout",
          "text": [
            "[1] \"The value of y is greater than x.\"\n"
          ]
        }
      ]
    },
    {
      "cell_type": "code",
      "source": [
        "x = 20\n",
        "y = 10*2\n",
        "\n",
        "if(x > y) {\n",
        "  print(\"x is greater than y.\")\n",
        "} else if(x == y) {\n",
        "  print(\"x is equal to y.\")\n",
        "} else {\n",
        "  print(\"y is greater.\")\n",
        "}"
      ],
      "metadata": {
        "colab": {
          "base_uri": "https://localhost:8080/"
        },
        "id": "B0cmkQC9MWiN",
        "outputId": "49aa1ec4-673c-4c22-f40b-e43c068cb489"
      },
      "execution_count": 139,
      "outputs": [
        {
          "output_type": "stream",
          "name": "stdout",
          "text": [
            "[1] \"x is equal to y.\"\n"
          ]
        }
      ]
    },
    {
      "cell_type": "markdown",
      "source": [
        "# **Repetition / Loops**\n",
        "\n",
        "## While loop\n",
        "while (condition) { }"
      ],
      "metadata": {
        "id": "NumggwyBcPv_"
      }
    },
    {
      "cell_type": "code",
      "source": [
        "x = 1\n",
        "\n",
        "while (x < 10) {\n",
        "  print(x)\n",
        "  x = x + 1\n",
        "}"
      ],
      "metadata": {
        "colab": {
          "base_uri": "https://localhost:8080/"
        },
        "id": "gUoinHJ2MXN3",
        "outputId": "23f6ca03-511e-455c-b59e-0ff6eb21deda"
      },
      "execution_count": 140,
      "outputs": [
        {
          "output_type": "stream",
          "name": "stdout",
          "text": [
            "[1] 1\n",
            "[1] 2\n",
            "[1] 3\n",
            "[1] 4\n",
            "[1] 5\n",
            "[1] 6\n",
            "[1] 7\n",
            "[1] 8\n",
            "[1] 9\n"
          ]
        }
      ]
    },
    {
      "cell_type": "code",
      "source": [
        "x = 1\n",
        "while (x <= 10) {\n",
        "  print(x)\n",
        "  x = x + 1\n",
        "}"
      ],
      "metadata": {
        "colab": {
          "base_uri": "https://localhost:8080/"
        },
        "id": "wkFVK0s9MXQw",
        "outputId": "a4aa0e6f-b3aa-4550-db9d-4b28df604a23"
      },
      "execution_count": 143,
      "outputs": [
        {
          "output_type": "stream",
          "name": "stdout",
          "text": [
            "[1] 1\n",
            "[1] 2\n",
            "[1] 3\n",
            "[1] 4\n",
            "[1] 5\n",
            "[1] 6\n",
            "[1] 7\n",
            "[1] 8\n",
            "[1] 9\n",
            "[1] 10\n"
          ]
        }
      ]
    },
    {
      "cell_type": "code",
      "source": [
        "# break statement to stop the loop\n",
        "x = 1\n",
        "\n",
        "while (x <= 10) {\n",
        "  print(x)\n",
        "  x = x + 1\n",
        "\n",
        "  # using break statement\n",
        "  if (x == 5) {\n",
        "    break\n",
        "  }\n",
        "}"
      ],
      "metadata": {
        "colab": {
          "base_uri": "https://localhost:8080/"
        },
        "id": "_gqmWAiIMXTs",
        "outputId": "0f5c28a6-e592-4cde-c40f-85390fafca36"
      },
      "execution_count": 145,
      "outputs": [
        {
          "output_type": "stream",
          "name": "stdout",
          "text": [
            "[1] 1\n",
            "[1] 2\n",
            "[1] 3\n",
            "[1] 4\n"
          ]
        }
      ]
    },
    {
      "cell_type": "markdown",
      "source": [
        "## For loop\n",
        "for (var in sequence) { }"
      ],
      "metadata": {
        "id": "0ptGz0NyeT1d"
      }
    },
    {
      "cell_type": "code",
      "source": [
        "seq = 1:15\n",
        "for (i in seq) {\n",
        "  print(i)\n",
        "if (i == 10) {\n",
        "  break\n",
        "}\n",
        "}"
      ],
      "metadata": {
        "colab": {
          "base_uri": "https://localhost:8080/"
        },
        "id": "xZzNVTWtMXWU",
        "outputId": "66ba9d60-dcd7-4aa1-8387-5d56027d0407"
      },
      "execution_count": 149,
      "outputs": [
        {
          "output_type": "stream",
          "name": "stdout",
          "text": [
            "[1] 1\n",
            "[1] 2\n",
            "[1] 3\n",
            "[1] 4\n",
            "[1] 5\n",
            "[1] 6\n",
            "[1] 7\n",
            "[1] 8\n",
            "[1] 9\n",
            "[1] 10\n"
          ]
        }
      ]
    },
    {
      "cell_type": "code",
      "source": [
        "name = c(\"Gaurav\", \"Xandar\", \"Daniel\", \"Peter\")\n",
        "\n",
        "for (i in name) {\n",
        "  print(i)\n",
        "}"
      ],
      "metadata": {
        "colab": {
          "base_uri": "https://localhost:8080/"
        },
        "id": "K3tTb_P4e86G",
        "outputId": "7cbe20af-4ae4-4261-e24a-c54da3e5b1f3"
      },
      "execution_count": 151,
      "outputs": [
        {
          "output_type": "stream",
          "name": "stdout",
          "text": [
            "[1] \"Gaurav\"\n",
            "[1] \"Xandar\"\n",
            "[1] \"Daniel\"\n",
            "[1] \"Peter\"\n"
          ]
        }
      ]
    },
    {
      "cell_type": "code",
      "source": [
        "number = c(10,20,30,40,50)\n",
        "\n",
        "for (i in number) {\n",
        "  print(i)\n",
        "}"
      ],
      "metadata": {
        "colab": {
          "base_uri": "https://localhost:8080/"
        },
        "id": "A1ntNKlDe8_O",
        "outputId": "5ff5ffa2-6ff0-4ff8-bb24-3819a46000ec"
      },
      "execution_count": 152,
      "outputs": [
        {
          "output_type": "stream",
          "name": "stdout",
          "text": [
            "[1] 10\n",
            "[1] 20\n",
            "[1] 30\n",
            "[1] 40\n",
            "[1] 50\n"
          ]
        }
      ]
    },
    {
      "cell_type": "code",
      "source": [
        "# next to escape the value\n",
        " for (i in number) {\n",
        "  if (i == 30) {\n",
        "    next\n",
        "  }\n",
        "  print(i)\n",
        "\n",
        " }"
      ],
      "metadata": {
        "colab": {
          "base_uri": "https://localhost:8080/"
        },
        "id": "y5Jmtapbe9Ep",
        "outputId": "45298a18-8b28-46be-af3c-99a37d0ffa02"
      },
      "execution_count": 160,
      "outputs": [
        {
          "output_type": "stream",
          "name": "stdout",
          "text": [
            "[1] 10\n",
            "[1] 20\n",
            "[1] 40\n",
            "[1] 50\n"
          ]
        }
      ]
    },
    {
      "cell_type": "code",
      "source": [
        "for (i in number) {\n",
        "  if (i %in% c(30, 40)) {\n",
        "    next\n",
        "  }\n",
        "  print(i)\n",
        "}"
      ],
      "metadata": {
        "colab": {
          "base_uri": "https://localhost:8080/"
        },
        "id": "cQegOtWEe9Hu",
        "outputId": "98d017c5-7ecd-4f63-8302-ca3c0e087c80"
      },
      "execution_count": 162,
      "outputs": [
        {
          "output_type": "stream",
          "name": "stdout",
          "text": [
            "[1] 10\n",
            "[1] 20\n",
            "[1] 50\n"
          ]
        }
      ]
    },
    {
      "cell_type": "markdown",
      "source": [
        "## **Functions**\n",
        "\n",
        "- repeating blocks of code in a program\n",
        "- function( )"
      ],
      "metadata": {
        "id": "T8B459ZfhhlO"
      }
    },
    {
      "cell_type": "code",
      "source": [
        "# user defined function\n",
        "greeting  = function() {\n",
        "  print(\"Hello, everyone!\")\n",
        "}\n",
        "\n",
        "greeting()"
      ],
      "metadata": {
        "colab": {
          "base_uri": "https://localhost:8080/"
        },
        "id": "_BcmyolJe9Ku",
        "outputId": "56551b5f-117f-410b-f11b-8c07100b2353"
      },
      "execution_count": 166,
      "outputs": [
        {
          "output_type": "stream",
          "name": "stdout",
          "text": [
            "[1] \"Hello, everyone!\"\n"
          ]
        }
      ]
    },
    {
      "cell_type": "code",
      "source": [
        "bye = function() {\n",
        "  print(\"Goodbye\")\n",
        "}\n",
        "\n",
        "bye()"
      ],
      "metadata": {
        "colab": {
          "base_uri": "https://localhost:8080/"
        },
        "id": "tpe4KboAe9Ol",
        "outputId": "114b001f-fc41-4b40-bee7-07722ad1e133"
      },
      "execution_count": 171,
      "outputs": [
        {
          "output_type": "stream",
          "name": "stdout",
          "text": [
            "[1] \"Goodbye\"\n"
          ]
        }
      ]
    },
    {
      "cell_type": "code",
      "source": [
        "# function with params\n",
        "full_name = function(fname) {\n",
        "  paste(fname, \"Dahal\")\n",
        "}\n",
        "\n",
        "full_name(\"Gaurav\")"
      ],
      "metadata": {
        "colab": {
          "base_uri": "https://localhost:8080/",
          "height": 34
        },
        "id": "knGaRo9Ue9Qj",
        "outputId": "4e2af76e-5cb3-4a26-8722-ce6d303dae5f"
      },
      "execution_count": 179,
      "outputs": [
        {
          "output_type": "display_data",
          "data": {
            "text/html": [
              "'Gaurav Dahal'"
            ],
            "text/markdown": "'Gaurav Dahal'",
            "text/latex": "'Gaurav Dahal'",
            "text/plain": [
              "[1] \"Gaurav Dahal\""
            ]
          },
          "metadata": {}
        }
      ]
    },
    {
      "cell_type": "code",
      "source": [
        "fullname2 = function(fname, job) {\n",
        "  paste(fname , \"is a \", job)\n",
        "}\n",
        "\n",
        "fullname2(\"Gaurav\", \"teacher!\")"
      ],
      "metadata": {
        "colab": {
          "base_uri": "https://localhost:8080/",
          "height": 34
        },
        "id": "ENxYwBh-e9Tb",
        "outputId": "bddce55c-ab49-45e3-c112-bdc41b4045b3"
      },
      "execution_count": 182,
      "outputs": [
        {
          "output_type": "display_data",
          "data": {
            "text/html": [
              "<span style=white-space:pre-wrap>'Gaurav is a  teacher!'</span>"
            ],
            "text/markdown": "<span style=white-space:pre-wrap>'Gaurav is a  teacher!'</span>",
            "text/latex": "'Gaurav is a  teacher!'",
            "text/plain": [
              "[1] \"Gaurav is a  teacher!\""
            ]
          },
          "metadata": {}
        }
      ]
    },
    {
      "cell_type": "code",
      "source": [
        "fullname2(\"Gaurav\", \"Data Scientist\")"
      ],
      "metadata": {
        "colab": {
          "base_uri": "https://localhost:8080/",
          "height": 34
        },
        "id": "Qtrn82wgmVx4",
        "outputId": "1d7f6ffa-b311-4bc3-8c86-d0094928d208"
      },
      "execution_count": 183,
      "outputs": [
        {
          "output_type": "display_data",
          "data": {
            "text/html": [
              "<span style=white-space:pre-wrap>'Gaurav is a  Data Scientist'</span>"
            ],
            "text/markdown": "<span style=white-space:pre-wrap>'Gaurav is a  Data Scientist'</span>",
            "text/latex": "'Gaurav is a  Data Scientist'",
            "text/plain": [
              "[1] \"Gaurav is a  Data Scientist\""
            ]
          },
          "metadata": {}
        }
      ]
    },
    {
      "cell_type": "code",
      "source": [
        "# return statement\n",
        "mult = function(n) {\n",
        "  return(10 * n)\n",
        "}\n",
        "\n",
        "mult(5)\n",
        "mult(15)\n",
        "print(mult(5))\n",
        "print(mult(15))"
      ],
      "metadata": {
        "colab": {
          "base_uri": "https://localhost:8080/",
          "height": 86
        },
        "id": "C1_AWI8cmV0I",
        "outputId": "023d5ba2-1706-4712-fdcf-fcaba3133a2b"
      },
      "execution_count": 187,
      "outputs": [
        {
          "output_type": "display_data",
          "data": {
            "text/html": [
              "50"
            ],
            "text/markdown": "50",
            "text/latex": "50",
            "text/plain": [
              "[1] 50"
            ]
          },
          "metadata": {}
        },
        {
          "output_type": "display_data",
          "data": {
            "text/html": [
              "150"
            ],
            "text/markdown": "150",
            "text/latex": "150",
            "text/plain": [
              "[1] 150"
            ]
          },
          "metadata": {}
        },
        {
          "output_type": "stream",
          "name": "stdout",
          "text": [
            "[1] 50\n",
            "[1] 150\n"
          ]
        }
      ]
    },
    {
      "cell_type": "code",
      "source": [
        "# Global variable\n",
        "new_str = \"fun\"\n",
        "\n",
        "new_func = function() {\n",
        "  paste(\"R programming is\", new_str)\n",
        "}\n",
        "\n",
        "new_func()"
      ],
      "metadata": {
        "colab": {
          "base_uri": "https://localhost:8080/",
          "height": 34
        },
        "id": "KV9JOxPemV3i",
        "outputId": "f3114fcb-6070-4018-c402-f927244ae6be"
      },
      "execution_count": 188,
      "outputs": [
        {
          "output_type": "display_data",
          "data": {
            "text/html": [
              "'R programming is fun'"
            ],
            "text/markdown": "'R programming is fun'",
            "text/latex": "'R programming is fun'",
            "text/plain": [
              "[1] \"R programming is fun\""
            ]
          },
          "metadata": {}
        }
      ]
    },
    {
      "cell_type": "code",
      "source": [
        "new_str = \"fun\"\n",
        "\n",
        "new_func2 = function() {\n",
        "  new_str = \"powerful!\" # local variable\n",
        "  paste(\"R programming is\", new_str)\n",
        "}\n",
        "\n",
        "new_func2()\n",
        "new_str"
      ],
      "metadata": {
        "colab": {
          "base_uri": "https://localhost:8080/",
          "height": 52
        },
        "id": "gXTVvaxlmV6D",
        "outputId": "0c3dc8bb-d427-482e-82c2-0c26f3d958d1"
      },
      "execution_count": 190,
      "outputs": [
        {
          "output_type": "display_data",
          "data": {
            "text/html": [
              "'R programming is powerful!'"
            ],
            "text/markdown": "'R programming is powerful!'",
            "text/latex": "'R programming is powerful!'",
            "text/plain": [
              "[1] \"R programming is powerful!\""
            ]
          },
          "metadata": {}
        },
        {
          "output_type": "display_data",
          "data": {
            "text/html": [
              "'fun'"
            ],
            "text/markdown": "'fun'",
            "text/latex": "'fun'",
            "text/plain": [
              "[1] \"fun\""
            ]
          },
          "metadata": {}
        }
      ]
    }
  ]
}