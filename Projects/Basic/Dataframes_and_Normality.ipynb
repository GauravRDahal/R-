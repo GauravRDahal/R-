{
  "nbformat": 4,
  "nbformat_minor": 0,
  "metadata": {
    "colab": {
      "provenance": []
    },
    "kernelspec": {
      "name": "ir",
      "display_name": "R"
    },
    "language_info": {
      "name": "R"
    }
  },
  "cells": [
    {
      "cell_type": "code",
      "source": [
        "airmiles"
      ],
      "metadata": {
        "colab": {
          "base_uri": "https://localhost:8080/",
          "height": 69
        },
        "id": "CbybVByHqawf",
        "outputId": "52051957-8700-4cc5-8be5-6069e1b0cd86"
      },
      "execution_count": null,
      "outputs": [
        {
          "output_type": "display_data",
          "data": {
            "text/html": [
              "A Time Series:<br><style>\n",
              ".list-inline {list-style: none; margin:0; padding: 0}\n",
              ".list-inline>li {display: inline-block}\n",
              ".list-inline>li:not(:last-child)::after {content: \"\\00b7\"; padding: 0 .5ex}\n",
              "</style>\n",
              "<ol class=list-inline><li>412</li><li>480</li><li>683</li><li>1052</li><li>1385</li><li>1418</li><li>1634</li><li>2178</li><li>3362</li><li>5948</li><li>6109</li><li>5981</li><li>6753</li><li>8003</li><li>10566</li><li>12528</li><li>14760</li><li>16769</li><li>19819</li><li>22362</li><li>25340</li><li>25343</li><li>29269</li><li>30514</li></ol>\n"
            ],
            "text/markdown": "A Time Series:  \n1. 412\n2. 480\n3. 683\n4. 1052\n5. 1385\n6. 1418\n7. 1634\n8. 2178\n9. 3362\n10. 5948\n11. 6109\n12. 5981\n13. 6753\n14. 8003\n15. 10566\n16. 12528\n17. 14760\n18. 16769\n19. 19819\n20. 22362\n21. 25340\n22. 25343\n23. 29269\n24. 30514\n\n\n",
            "text/latex": "A Time Series:\\\\\\begin{enumerate*}\n\\item 412\n\\item 480\n\\item 683\n\\item 1052\n\\item 1385\n\\item 1418\n\\item 1634\n\\item 2178\n\\item 3362\n\\item 5948\n\\item 6109\n\\item 5981\n\\item 6753\n\\item 8003\n\\item 10566\n\\item 12528\n\\item 14760\n\\item 16769\n\\item 19819\n\\item 22362\n\\item 25340\n\\item 25343\n\\item 29269\n\\item 30514\n\\end{enumerate*}\n",
            "text/plain": [
              "A Time Series:\n",
              " [1]   412   480   683  1052  1385  1418  1634  2178  3362  5948  6109  5981\n",
              "[13]  6753  8003 10566 12528 14760 16769 19819 22362 25340 25343 29269 30514"
            ]
          },
          "metadata": {}
        }
      ]
    },
    {
      "cell_type": "code",
      "source": [
        "head(airmiles)"
      ],
      "metadata": {
        "colab": {
          "base_uri": "https://localhost:8080/",
          "height": 34
        },
        "id": "IMpHTZl1qayS",
        "outputId": "fae2f19a-81f0-475d-8785-e68f525426a0"
      },
      "execution_count": null,
      "outputs": [
        {
          "output_type": "display_data",
          "data": {
            "text/html": [
              "<style>\n",
              ".list-inline {list-style: none; margin:0; padding: 0}\n",
              ".list-inline>li {display: inline-block}\n",
              ".list-inline>li:not(:last-child)::after {content: \"\\00b7\"; padding: 0 .5ex}\n",
              "</style>\n",
              "<ol class=list-inline><li>412</li><li>480</li><li>683</li><li>1052</li><li>1385</li><li>1418</li></ol>\n"
            ],
            "text/markdown": "1. 412\n2. 480\n3. 683\n4. 1052\n5. 1385\n6. 1418\n\n\n",
            "text/latex": "\\begin{enumerate*}\n\\item 412\n\\item 480\n\\item 683\n\\item 1052\n\\item 1385\n\\item 1418\n\\end{enumerate*}\n",
            "text/plain": [
              "[1]  412  480  683 1052 1385 1418"
            ]
          },
          "metadata": {}
        }
      ]
    },
    {
      "cell_type": "code",
      "source": [
        "summary(airmiles)"
      ],
      "metadata": {
        "colab": {
          "base_uri": "https://localhost:8080/",
          "height": 52
        },
        "id": "OCH_QMpgqa2C",
        "outputId": "222d482f-513e-4f8a-abf3-d3b54b9aa8a4"
      },
      "execution_count": null,
      "outputs": [
        {
          "output_type": "display_data",
          "data": {
            "text/plain": [
              "   Min. 1st Qu.  Median    Mean 3rd Qu.    Max. \n",
              "    412    1580    6431   10528   17532   30514 "
            ]
          },
          "metadata": {}
        }
      ]
    },
    {
      "cell_type": "code",
      "source": [
        "hist(airmiles)"
      ],
      "metadata": {
        "colab": {
          "base_uri": "https://localhost:8080/",
          "height": 437
        },
        "id": "JGApikYtqa4p",
        "outputId": "47038ca9-a10a-4002-b10f-3460eec1ec11"
      },
      "execution_count": null,
      "outputs": [
        {
          "output_type": "display_data",
          "data": {
            "text/plain": [
              "Plot with title “Histogram of airmiles”"
            ],
            "image/png": "[encoded data removed]"
          },
          "metadata": {
            "image/png": {
              "width": 420,
              "height": 420
            }
          }
        }
      ]
    },
    {
      "cell_type": "code",
      "source": [
        "# https://clinicaltrials.gov/search?cond=Hepatitis\n",
        "file = \"/content/ctg-studies.csv\"\n",
        "df = read.csv(file, header = 1, stringsAsFactors = FALSE)"
      ],
      "metadata": {
        "id": "HzGL0F7wqa7K"
      },
      "execution_count": null,
      "outputs": []
    },
    {
      "cell_type": "code",
      "source": [
        "dim(df)"
      ],
      "metadata": {
        "colab": {
          "base_uri": "https://localhost:8080/",
          "height": 34
        },
        "id": "D8k7hj5K0VFP",
        "outputId": "83c90584-a925-4dd4-870d-bb2746bfbfdd"
      },
      "execution_count": null,
      "outputs": [
        {
          "output_type": "display_data",
          "data": {
            "text/html": [
              "<style>\n",
              ".list-inline {list-style: none; margin:0; padding: 0}\n",
              ".list-inline>li {display: inline-block}\n",
              ".list-inline>li:not(:last-child)::after {content: \"\\00b7\"; padding: 0 .5ex}\n",
              "</style>\n",
              "<ol class=list-inline><li>10</li><li>22</li></ol>\n"
            ],
            "text/markdown": "1. 10\n2. 22\n\n\n",
            "text/latex": "\\begin{enumerate*}\n\\item 10\n\\item 22\n\\end{enumerate*}\n",
            "text/plain": [
              "[1] 10 22"
            ]
          },
          "metadata": {}
        }
      ]
    },
    {
      "cell_type": "code",
      "source": [
        "summary(df)"
      ],
      "metadata": {
        "colab": {
          "base_uri": "https://localhost:8080/",
          "height": 746
        },
        "id": "52F2M93a0VGS",
        "outputId": "424beec2-9487-42c3-cc98-02fa108a2c89"
      },
      "execution_count": null,
      "outputs": [
        {
          "output_type": "display_data",
          "data": {
            "text/plain": [
              "  NCT.Number        Study.Title         Study.URL           Acronym         \n",
              " Length:10          Length:10          Length:10          Length:10         \n",
              " Class :character   Class :character   Class :character   Class :character  \n",
              " Mode  :character   Mode  :character   Mode  :character   Mode  :character  \n",
              "                                                                            \n",
              "                                                                            \n",
              "                                                                            \n",
              " Study.Status       Brief.Summary      Study.Results       Conditions       \n",
              " Length:10          Length:10          Length:10          Length:10         \n",
              " Class :character   Class :character   Class :character   Class :character  \n",
              " Mode  :character   Mode  :character   Mode  :character   Mode  :character  \n",
              "                                                                            \n",
              "                                                                            \n",
              "                                                                            \n",
              " Interventions      Primary.Outcome.Measures Secondary.Outcome.Measures\n",
              " Length:10          Length:10                Length:10                 \n",
              " Class :character   Class :character         Class :character          \n",
              " Mode  :character   Mode  :character         Mode  :character          \n",
              "                                                                       \n",
              "                                                                       \n",
              "                                                                       \n",
              " Other.Outcome.Measures   Sponsor          Collaborators     \n",
              " Mode:logical           Length:10          Length:10         \n",
              " NA's:10                Class :character   Class :character  \n",
              "                        Mode  :character   Mode  :character  \n",
              "                                                             \n",
              "                                                             \n",
              "                                                             \n",
              "     Sex                Age               Phases            Enrollment    \n",
              " Length:10          Length:10          Length:10          Min.   :   0.0  \n",
              " Class :character   Class :character   Class :character   1st Qu.:  50.0  \n",
              " Mode  :character   Mode  :character   Mode  :character   Median :  83.0  \n",
              "                                                          Mean   : 248.9  \n",
              "                                                          3rd Qu.: 296.2  \n",
              "                                                          Max.   :1092.0  \n",
              " Funder.Type         Study.Type        Study.Design        Other.IDs        \n",
              " Length:10          Length:10          Length:10          Length:10         \n",
              " Class :character   Class :character   Class :character   Class :character  \n",
              " Mode  :character   Mode  :character   Mode  :character   Mode  :character  \n",
              "                                                                            \n",
              "                                                                            \n",
              "                                                                            "
            ]
          },
          "metadata": {}
        }
      ]
    },
    {
      "cell_type": "markdown",
      "source": [
        "# Diamonds\n",
        "## Test for normality"
      ],
      "metadata": {
        "id": "ChqNsKGy8bLH"
      }
    },
    {
      "cell_type": "code",
      "source": [
        "# Test for normality"
      ],
      "metadata": {
        "id": "17_kq4Oj0VKg"
      },
      "execution_count": null,
      "outputs": []
    },
    {
      "cell_type": "code",
      "source": [
        "install.packages(\"ggplot2\")"
      ],
      "metadata": {
        "colab": {
          "base_uri": "https://localhost:8080/"
        },
        "id": "Hahb2Hxt7lAB",
        "outputId": "2581ea3b-ca04-4b56-b1c4-0347f61276ce"
      },
      "execution_count": null,
      "outputs": [
        {
          "output_type": "stream",
          "name": "stderr",
          "text": [
            "Installing package into ‘/usr/local/lib/R/site-library’\n",
            "(as ‘lib’ is unspecified)\n",
            "\n"
          ]
        }
      ]
    },
    {
      "cell_type": "code",
      "source": [
        "library(ggplot2)"
      ],
      "metadata": {
        "id": "2j_pc5Rm0VLz"
      },
      "execution_count": null,
      "outputs": []
    },
    {
      "cell_type": "code",
      "source": [
        "head(diamonds,5)"
      ],
      "metadata": {
        "colab": {
          "base_uri": "https://localhost:8080/",
          "height": 255
        },
        "id": "y6Iy1WTRqa9m",
        "outputId": "2e573e9e-b525-4189-8a23-16d15db3e51b"
      },
      "execution_count": null,
      "outputs": [
        {
          "output_type": "display_data",
          "data": {
            "text/html": [
              "<table class=\"dataframe\">\n",
              "<caption>A tibble: 5 × 10</caption>\n",
              "<thead>\n",
              "\t<tr><th scope=col>carat</th><th scope=col>cut</th><th scope=col>color</th><th scope=col>clarity</th><th scope=col>depth</th><th scope=col>table</th><th scope=col>price</th><th scope=col>x</th><th scope=col>y</th><th scope=col>z</th></tr>\n",
              "\t<tr><th scope=col>&lt;dbl&gt;</th><th scope=col>&lt;ord&gt;</th><th scope=col>&lt;ord&gt;</th><th scope=col>&lt;ord&gt;</th><th scope=col>&lt;dbl&gt;</th><th scope=col>&lt;dbl&gt;</th><th scope=col>&lt;int&gt;</th><th scope=col>&lt;dbl&gt;</th><th scope=col>&lt;dbl&gt;</th><th scope=col>&lt;dbl&gt;</th></tr>\n",
              "</thead>\n",
              "<tbody>\n",
              "\t<tr><td>0.23</td><td>Ideal  </td><td>E</td><td>SI2</td><td>61.5</td><td>55</td><td>326</td><td>3.95</td><td>3.98</td><td>2.43</td></tr>\n",
              "\t<tr><td>0.21</td><td>Premium</td><td>E</td><td>SI1</td><td>59.8</td><td>61</td><td>326</td><td>3.89</td><td>3.84</td><td>2.31</td></tr>\n",
              "\t<tr><td>0.23</td><td>Good   </td><td>E</td><td>VS1</td><td>56.9</td><td>65</td><td>327</td><td>4.05</td><td>4.07</td><td>2.31</td></tr>\n",
              "\t<tr><td>0.29</td><td>Premium</td><td>I</td><td>VS2</td><td>62.4</td><td>58</td><td>334</td><td>4.20</td><td>4.23</td><td>2.63</td></tr>\n",
              "\t<tr><td>0.31</td><td>Good   </td><td>J</td><td>SI2</td><td>63.3</td><td>58</td><td>335</td><td>4.34</td><td>4.35</td><td>2.75</td></tr>\n",
              "</tbody>\n",
              "</table>\n"
            ],
            "text/markdown": "\nA tibble: 5 × 10\n\n| carat &lt;dbl&gt; | cut &lt;ord&gt; | color &lt;ord&gt; | clarity &lt;ord&gt; | depth &lt;dbl&gt; | table &lt;dbl&gt; | price &lt;int&gt; | x &lt;dbl&gt; | y &lt;dbl&gt; | z &lt;dbl&gt; |\n|---|---|---|---|---|---|---|---|---|---|\n| 0.23 | Ideal   | E | SI2 | 61.5 | 55 | 326 | 3.95 | 3.98 | 2.43 |\n| 0.21 | Premium | E | SI1 | 59.8 | 61 | 326 | 3.89 | 3.84 | 2.31 |\n| 0.23 | Good    | E | VS1 | 56.9 | 65 | 327 | 4.05 | 4.07 | 2.31 |\n| 0.29 | Premium | I | VS2 | 62.4 | 58 | 334 | 4.20 | 4.23 | 2.63 |\n| 0.31 | Good    | J | SI2 | 63.3 | 58 | 335 | 4.34 | 4.35 | 2.75 |\n\n",
            "text/latex": "A tibble: 5 × 10\n\\begin{tabular}{llllllllll}\n carat & cut & color & clarity & depth & table & price & x & y & z\\\\\n <dbl> & <ord> & <ord> & <ord> & <dbl> & <dbl> & <int> & <dbl> & <dbl> & <dbl>\\\\\n\\hline\n\t 0.23 & Ideal   & E & SI2 & 61.5 & 55 & 326 & 3.95 & 3.98 & 2.43\\\\\n\t 0.21 & Premium & E & SI1 & 59.8 & 61 & 326 & 3.89 & 3.84 & 2.31\\\\\n\t 0.23 & Good    & E & VS1 & 56.9 & 65 & 327 & 4.05 & 4.07 & 2.31\\\\\n\t 0.29 & Premium & I & VS2 & 62.4 & 58 & 334 & 4.20 & 4.23 & 2.63\\\\\n\t 0.31 & Good    & J & SI2 & 63.3 & 58 & 335 & 4.34 & 4.35 & 2.75\\\\\n\\end{tabular}\n",
            "text/plain": [
              "  carat cut     color clarity depth table price x    y    z   \n",
              "1 0.23  Ideal   E     SI2     61.5  55    326   3.95 3.98 2.43\n",
              "2 0.21  Premium E     SI1     59.8  61    326   3.89 3.84 2.31\n",
              "3 0.23  Good    E     VS1     56.9  65    327   4.05 4.07 2.31\n",
              "4 0.29  Premium I     VS2     62.4  58    334   4.20 4.23 2.63\n",
              "5 0.31  Good    J     SI2     63.3  58    335   4.34 4.35 2.75"
            ]
          },
          "metadata": {}
        }
      ]
    },
    {
      "cell_type": "code",
      "source": [
        "dim(diamonds)"
      ],
      "metadata": {
        "colab": {
          "base_uri": "https://localhost:8080/",
          "height": 34
        },
        "id": "JnqyuLkM8oox",
        "outputId": "0e8fc494-3d2b-4a52-d06a-1f6eeb6759bb"
      },
      "execution_count": null,
      "outputs": [
        {
          "output_type": "display_data",
          "data": {
            "text/html": [
              "<style>\n",
              ".list-inline {list-style: none; margin:0; padding: 0}\n",
              ".list-inline>li {display: inline-block}\n",
              ".list-inline>li:not(:last-child)::after {content: \"\\00b7\"; padding: 0 .5ex}\n",
              "</style>\n",
              "<ol class=list-inline><li>53940</li><li>10</li></ol>\n"
            ],
            "text/markdown": "1. 53940\n2. 10\n\n\n",
            "text/latex": "\\begin{enumerate*}\n\\item 53940\n\\item 10\n\\end{enumerate*}\n",
            "text/plain": [
              "[1] 53940    10"
            ]
          },
          "metadata": {}
        }
      ]
    },
    {
      "cell_type": "code",
      "source": [
        "qqnorm(depth)\n",
        "# Looks too curvy for a normal dataset"
      ],
      "metadata": {
        "colab": {
          "base_uri": "https://localhost:8080/",
          "height": 437
        },
        "id": "61H7_4hYqbFs",
        "outputId": "cc69ae9b-c04b-4acd-b90e-198201c0c275"
      },
      "execution_count": null,
      "outputs": [
        {
          "output_type": "display_data",
          "data": {
            "text/plain": [
              "Plot with title “Normal Q-Q Plot”"
            ],
            "image/png": "[encoded data removed]"
          },
          "metadata": {
            "image/png": {
              "width": 420,
              "height": 420
            }
          }
        }
      ]
    },
    {
      "cell_type": "code",
      "source": [
        "hist(depth)"
      ],
      "metadata": {
        "colab": {
          "base_uri": "https://localhost:8080/",
          "height": 437
        },
        "id": "dpjw-AUfqbHc",
        "outputId": "2cee0e51-6b9e-4c92-8fc2-e50842d0dec8"
      },
      "execution_count": null,
      "outputs": [
        {
          "output_type": "display_data",
          "data": {
            "text/plain": [
              "Plot with title “Histogram of depth”"
            ],
            "image/png": "[encoded data removed]"
          },
          "metadata": {
            "image/png": {
              "width": 420,
              "height": 420
            }
          }
        }
      ]
    },
    {
      "cell_type": "code",
      "source": [
        "# sampling to get a vector fitted for shapiro\n",
        "depthsmall = sample(depth, 5000)"
      ],
      "metadata": {
        "id": "B82Brvwh8hIR"
      },
      "execution_count": null,
      "outputs": []
    },
    {
      "cell_type": "code",
      "source": [
        "shapiro.test(depthsmall)"
      ],
      "metadata": {
        "colab": {
          "base_uri": "https://localhost:8080/",
          "height": 104
        },
        "id": "AkbEosJX8hJT",
        "outputId": "81626dcd-7e5b-4636-9e2b-208cf0c3d077"
      },
      "execution_count": null,
      "outputs": [
        {
          "output_type": "display_data",
          "data": {
            "text/plain": [
              "\n",
              "\tShapiro-Wilk normality test\n",
              "\n",
              "data:  depthsmall\n",
              "W = 0.95889, p-value < 2.2e-16\n"
            ]
          },
          "metadata": {}
        }
      ]
    },
    {
      "cell_type": "markdown",
      "source": [
        "We have significat p-value which suggest that the dataset is not normally distributed."
      ],
      "metadata": {
        "id": "sGHfMsrJ9E9m"
      }
    },
    {
      "cell_type": "markdown",
      "source": [
        "## Cramer Von Mises Test"
      ],
      "metadata": {
        "id": "pNTwa1Rx9ZER"
      }
    },
    {
      "cell_type": "code",
      "source": [
        "install.packages(\"nortest\")"
      ],
      "metadata": {
        "colab": {
          "base_uri": "https://localhost:8080/"
        },
        "id": "FRtmwJ76954x",
        "outputId": "b562a63b-3940-4724-a9ea-8e3438d8e1fc"
      },
      "execution_count": null,
      "outputs": [
        {
          "output_type": "stream",
          "name": "stderr",
          "text": [
            "Installing package into ‘/usr/local/lib/R/site-library’\n",
            "(as ‘lib’ is unspecified)\n",
            "\n"
          ]
        }
      ]
    },
    {
      "cell_type": "code",
      "source": [
        "library(nortest)"
      ],
      "metadata": {
        "id": "XO_eHXPf-Hjd"
      },
      "execution_count": null,
      "outputs": []
    },
    {
      "cell_type": "code",
      "source": [
        "cvm.test(depth, mean(depth), sd(depth))"
      ],
      "metadata": {
        "colab": {
          "base_uri": "https://localhost:8080/",
          "height": 138
        },
        "id": "ERVHawjS8hOV",
        "outputId": "98efcd21-a055-4c29-b0bf-ff4cfad93cbd"
      },
      "execution_count": null,
      "outputs": [
        {
          "output_type": "stream",
          "name": "stderr",
          "text": [
            "Warning message in cvm.test(depth):\n",
            "“p-value is smaller than 7.37e-10, cannot be computed more accurately”\n"
          ]
        },
        {
          "output_type": "display_data",
          "data": {
            "text/plain": [
              "\n",
              "\tCramer-von Mises normality test\n",
              "\n",
              "data:  depth\n",
              "W = 88.147, p-value = 7.37e-10\n"
            ]
          },
          "metadata": {}
        }
      ]
    },
    {
      "cell_type": "markdown",
      "source": [
        "We again have significat p-value which suggest that the dataset is not normally distributed."
      ],
      "metadata": {
        "id": "t9hNdWod-Srt"
      }
    },
    {
      "cell_type": "code",
      "source": [
        "#  kolmogorov Smirnov\n",
        "lillie.test(depth)"
      ],
      "metadata": {
        "colab": {
          "base_uri": "https://localhost:8080/",
          "height": 104
        },
        "id": "ia8f74rg8hPy",
        "outputId": "0e02d72f-5bdc-417d-f810-972bde40f9ef"
      },
      "execution_count": null,
      "outputs": [
        {
          "output_type": "display_data",
          "data": {
            "text/plain": [
              "\n",
              "\tLilliefors (Kolmogorov-Smirnov) normality test\n",
              "\n",
              "data:  depth\n",
              "D = 0.075871, p-value < 2.2e-16\n"
            ]
          },
          "metadata": {}
        }
      ]
    },
    {
      "cell_type": "markdown",
      "source": [
        "We again have significat p-value which suggest that the dataset is not normally distributed."
      ],
      "metadata": {
        "id": "Eciyr-uY-oah"
      }
    },
    {
      "cell_type": "code",
      "source": [
        "# Shapiro-Francia test\n",
        "sf.test(depthsmall)"
      ],
      "metadata": {
        "colab": {
          "base_uri": "https://localhost:8080/",
          "height": 104
        },
        "id": "PwfUMmsm8hUC",
        "outputId": "6bf2587b-970c-4ca9-a813-c82fe4f54100"
      },
      "execution_count": null,
      "outputs": [
        {
          "output_type": "display_data",
          "data": {
            "text/plain": [
              "\n",
              "\tShapiro-Francia normality test\n",
              "\n",
              "data:  depthsmall\n",
              "W = 0.95838, p-value < 2.2e-16\n"
            ]
          },
          "metadata": {}
        }
      ]
    },
    {
      "cell_type": "code",
      "source": [
        "# Pearson Normality test\n",
        "pearson.test(depth)"
      ],
      "metadata": {
        "colab": {
          "base_uri": "https://localhost:8080/",
          "height": 104
        },
        "id": "iUtVzOwR8hVS",
        "outputId": "13f03e7e-4df1-4f1a-db31-78f670be1836"
      },
      "execution_count": null,
      "outputs": [
        {
          "output_type": "display_data",
          "data": {
            "text/plain": [
              "\n",
              "\tPearson chi-square normality test\n",
              "\n",
              "data:  depth\n",
              "P = 153226, p-value < 2.2e-16\n"
            ]
          },
          "metadata": {}
        }
      ]
    },
    {
      "cell_type": "markdown",
      "source": [
        "As all of our p-value came out as significant, we can reject the null-hypothesis that this dataset is normally distributed."
      ],
      "metadata": {
        "id": "OpI39W46--XB"
      }
    }
  ]
}