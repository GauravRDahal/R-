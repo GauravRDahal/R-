{
  "nbformat": 4,
  "nbformat_minor": 0,
  "metadata": {
    "colab": {
      "provenance": []
    },
    "kernelspec": {
      "name": "ir",
      "display_name": "R"
    },
    "language_info": {
      "name": "R"
    }
  },
  "cells": [
    {
      "cell_type": "markdown",
      "source": [
        "One way ANOVA"
      ],
      "metadata": {
        "id": "Tn9gDtOlFQLe"
      }
    },
    {
      "cell_type": "code",
      "source": [
        "# creating a dataset with 3 groups\n",
        "mpg = c(34,35,34.3,35.5,35.8,35.3,36.5,36.4,37,37.6,33.3,34,34.7,33,34,33.9)\n",
        "brand = factor(c(\"A\",\"A\",\"A\",\"A\",\"A\",\"B\",\"B\",\"B\",\"B\",\"B\",\"C\",\"C\",\"C\",\"C\",\"C\",\"C\"))"
      ],
      "metadata": {
        "id": "D17yAj0zFKUZ"
      },
      "execution_count": null,
      "outputs": []
    },
    {
      "cell_type": "markdown",
      "source": [
        "Lets see if there is any difference between average miles pre gallons across brands."
      ],
      "metadata": {
        "id": "mdNOZqg3MsWz"
      }
    },
    {
      "cell_type": "code",
      "source": [
        "mileage = data.frame(mpg = mpg, brand = brand)\n",
        "mileage"
      ],
      "metadata": {
        "id": "sc-zlr11FKVY",
        "colab": {
          "base_uri": "https://localhost:8080/",
          "height": 617
        },
        "outputId": "efe896ba-e669-45de-fc56-355aa3daa8e2"
      },
      "execution_count": null,
      "outputs": [
        {
          "output_type": "display_data",
          "data": {
            "text/html": [
              "<table class=\"dataframe\">\n",
              "<caption>A data.frame: 16 × 2</caption>\n",
              "<thead>\n",
              "\t<tr><th scope=col>mpg</th><th scope=col>brand</th></tr>\n",
              "\t<tr><th scope=col>&lt;dbl&gt;</th><th scope=col>&lt;fct&gt;</th></tr>\n",
              "</thead>\n",
              "<tbody>\n",
              "\t<tr><td>34.0</td><td>A</td></tr>\n",
              "\t<tr><td>35.0</td><td>A</td></tr>\n",
              "\t<tr><td>34.3</td><td>A</td></tr>\n",
              "\t<tr><td>35.5</td><td>A</td></tr>\n",
              "\t<tr><td>35.8</td><td>A</td></tr>\n",
              "\t<tr><td>35.3</td><td>B</td></tr>\n",
              "\t<tr><td>36.5</td><td>B</td></tr>\n",
              "\t<tr><td>36.4</td><td>B</td></tr>\n",
              "\t<tr><td>37.0</td><td>B</td></tr>\n",
              "\t<tr><td>37.6</td><td>B</td></tr>\n",
              "\t<tr><td>33.3</td><td>C</td></tr>\n",
              "\t<tr><td>34.0</td><td>C</td></tr>\n",
              "\t<tr><td>34.7</td><td>C</td></tr>\n",
              "\t<tr><td>33.0</td><td>C</td></tr>\n",
              "\t<tr><td>34.0</td><td>C</td></tr>\n",
              "\t<tr><td>33.9</td><td>C</td></tr>\n",
              "</tbody>\n",
              "</table>\n"
            ],
            "text/markdown": "\nA data.frame: 16 × 2\n\n| mpg &lt;dbl&gt; | brand &lt;fct&gt; |\n|---|---|\n| 34.0 | A |\n| 35.0 | A |\n| 34.3 | A |\n| 35.5 | A |\n| 35.8 | A |\n| 35.3 | B |\n| 36.5 | B |\n| 36.4 | B |\n| 37.0 | B |\n| 37.6 | B |\n| 33.3 | C |\n| 34.0 | C |\n| 34.7 | C |\n| 33.0 | C |\n| 34.0 | C |\n| 33.9 | C |\n\n",
            "text/latex": "A data.frame: 16 × 2\n\\begin{tabular}{ll}\n mpg & brand\\\\\n <dbl> & <fct>\\\\\n\\hline\n\t 34.0 & A\\\\\n\t 35.0 & A\\\\\n\t 34.3 & A\\\\\n\t 35.5 & A\\\\\n\t 35.8 & A\\\\\n\t 35.3 & B\\\\\n\t 36.5 & B\\\\\n\t 36.4 & B\\\\\n\t 37.0 & B\\\\\n\t 37.6 & B\\\\\n\t 33.3 & C\\\\\n\t 34.0 & C\\\\\n\t 34.7 & C\\\\\n\t 33.0 & C\\\\\n\t 34.0 & C\\\\\n\t 33.9 & C\\\\\n\\end{tabular}\n",
            "text/plain": [
              "   mpg  brand\n",
              "1  34.0 A    \n",
              "2  35.0 A    \n",
              "3  34.3 A    \n",
              "4  35.5 A    \n",
              "5  35.8 A    \n",
              "6  35.3 B    \n",
              "7  36.5 B    \n",
              "8  36.4 B    \n",
              "9  37.0 B    \n",
              "10 37.6 B    \n",
              "11 33.3 C    \n",
              "12 34.0 C    \n",
              "13 34.7 C    \n",
              "14 33.0 C    \n",
              "15 34.0 C    \n",
              "16 33.9 C    "
            ]
          },
          "metadata": {}
        }
      ]
    },
    {
      "cell_type": "markdown",
      "source": [
        "Here:\n",
        "- mpg is our dependent variable\n",
        "- brand is our independent variable"
      ],
      "metadata": {
        "id": "7Iqxc-TFM-KN"
      }
    },
    {
      "cell_type": "code",
      "source": [
        "anova = aov(mpg~brand, data = mileage)\n",
        "summary(anova)"
      ],
      "metadata": {
        "id": "7hyzX_UAFKaF",
        "colab": {
          "base_uri": "https://localhost:8080/",
          "height": 104
        },
        "outputId": "b57bff46-9836-4b93-c0d7-c15e71dca277"
      },
      "execution_count": null,
      "outputs": [
        {
          "output_type": "display_data",
          "data": {
            "text/plain": [
              "            Df Sum Sq Mean Sq F value   Pr(>F)    \n",
              "brand        2 20.596  10.298   19.05 0.000137 ***\n",
              "Residuals   13  7.028   0.541                     \n",
              "---\n",
              "Signif. codes:  0 ‘***’ 0.001 ‘**’ 0.01 ‘*’ 0.05 ‘.’ 0.1 ‘ ’ 1"
            ]
          },
          "metadata": {}
        }
      ]
    },
    {
      "cell_type": "markdown",
      "source": [
        "As we can see that our p-value is very low. We can say that our Anova result is significant implying that mean mpg differs accross all these brands."
      ],
      "metadata": {
        "id": "5jlpOVyjNOyi"
      }
    },
    {
      "cell_type": "markdown",
      "source": [
        "# Two way ANOVA"
      ],
      "metadata": {
        "id": "jpbgbmjA56Th"
      }
    },
    {
      "cell_type": "code",
      "source": [
        "data = read.csv(\"/content/tw.txt\")\n",
        "head(data, 5)"
      ],
      "metadata": {
        "id": "yDTSztXsFKbF",
        "colab": {
          "base_uri": "https://localhost:8080/",
          "height": 255
        },
        "outputId": "680e172f-2825-43bd-97a3-83474a60bb4f"
      },
      "execution_count": 3,
      "outputs": [
        {
          "output_type": "display_data",
          "data": {
            "text/html": [
              "<table class=\"dataframe\">\n",
              "<caption>A data.frame: 5 × 3</caption>\n",
              "<thead>\n",
              "\t<tr><th></th><th scope=col>Format</th><th scope=col>Subject</th><th scope=col>Satisfaction</th></tr>\n",
              "\t<tr><th></th><th scope=col>&lt;chr&gt;</th><th scope=col>&lt;chr&gt;</th><th scope=col>&lt;int&gt;</th></tr>\n",
              "</thead>\n",
              "<tbody>\n",
              "\t<tr><th scope=row>1</th><td>Online  </td><td>English   </td><td>5</td></tr>\n",
              "\t<tr><th scope=row>2</th><td>Hybrid  </td><td>Statistics</td><td>8</td></tr>\n",
              "\t<tr><th scope=row>3</th><td>In-Class</td><td>Science   </td><td>7</td></tr>\n",
              "\t<tr><th scope=row>4</th><td>Online  </td><td>Math      </td><td>4</td></tr>\n",
              "\t<tr><th scope=row>5</th><td>Hybrid  </td><td>English   </td><td>6</td></tr>\n",
              "</tbody>\n",
              "</table>\n"
            ],
            "text/markdown": "\nA data.frame: 5 × 3\n\n| <!--/--> | Format &lt;chr&gt; | Subject &lt;chr&gt; | Satisfaction &lt;int&gt; |\n|---|---|---|---|\n| 1 | Online   | English    | 5 |\n| 2 | Hybrid   | Statistics | 8 |\n| 3 | In-Class | Science    | 7 |\n| 4 | Online   | Math       | 4 |\n| 5 | Hybrid   | English    | 6 |\n\n",
            "text/latex": "A data.frame: 5 × 3\n\\begin{tabular}{r|lll}\n  & Format & Subject & Satisfaction\\\\\n  & <chr> & <chr> & <int>\\\\\n\\hline\n\t1 & Online   & English    & 5\\\\\n\t2 & Hybrid   & Statistics & 8\\\\\n\t3 & In-Class & Science    & 7\\\\\n\t4 & Online   & Math       & 4\\\\\n\t5 & Hybrid   & English    & 6\\\\\n\\end{tabular}\n",
            "text/plain": [
              "  Format   Subject    Satisfaction\n",
              "1 Online   English    5           \n",
              "2 Hybrid   Statistics 8           \n",
              "3 In-Class Science    7           \n",
              "4 Online   Math       4           \n",
              "5 Hybrid   English    6           "
            ]
          },
          "metadata": {}
        }
      ]
    },
    {
      "cell_type": "markdown",
      "source": [
        "Here, satisfaction is the dependent variable.\n",
        "\n",
        "'Format:Subject' means the interaction between two independent variables."
      ],
      "metadata": {
        "id": "3mH4Dq2o45zG"
      }
    },
    {
      "cell_type": "code",
      "source": [
        "res = aov(Satisfaction ~ Format + Subject + Format:Subject, data = data)\n",
        "summary(res)"
      ],
      "metadata": {
        "id": "F6ni-h2AFKfp",
        "colab": {
          "base_uri": "https://localhost:8080/",
          "height": 138
        },
        "outputId": "132ecb13-d11e-4af5-e4b5-2fe8768ece8d"
      },
      "execution_count": 6,
      "outputs": [
        {
          "output_type": "display_data",
          "data": {
            "text/plain": [
              "               Df Sum Sq Mean Sq F value   Pr(>F)    \n",
              "Format          2 173.69   86.85  453.12  < 2e-16 ***\n",
              "Subject         3  27.60    9.20   47.99 6.03e-16 ***\n",
              "Format:Subject  6  12.86    2.14   11.18 2.43e-08 ***\n",
              "Residuals      60  11.50    0.19                     \n",
              "---\n",
              "Signif. codes:  0 ‘***’ 0.001 ‘**’ 0.01 ‘*’ 0.05 ‘.’ 0.1 ‘ ’ 1"
            ]
          },
          "metadata": {}
        }
      ]
    },
    {
      "cell_type": "markdown",
      "source": [
        "# Chi-Square test of goodness of fit"
      ],
      "metadata": {
        "id": "50-YuDXS6gxJ"
      }
    },
    {
      "cell_type": "code",
      "source": [
        "# creating a dataset with observations and expectations\n",
        "obs = c(195, 165, 47, 15, 30, 35, 8, 5)\n",
        "pct = c(0.374, 0.357, 0.085, 0.034, 0.066, 0.063, 0.015, 0.006)"
      ],
      "metadata": {
        "id": "I0Aat9WgFKhC"
      },
      "execution_count": 9,
      "outputs": []
    },
    {
      "cell_type": "markdown",
      "source": [
        "This dataset contains bloodtype, population prevalance rate, count of the bloodtype and the expected bloodtype based on populatiuon prevalance"
      ],
      "metadata": {
        "id": "M2_L292d9nPs"
      }
    },
    {
      "cell_type": "code",
      "source": [
        "my_data = data.frame(Blood_type = c(\"O+\", \"A+\", \"B+\", \"AB+\", \"O-\", \"A-\",\n",
        "\"B-\", \"AB-\"), pct, obs, Exp = sum(obs)*pct)"
      ],
      "metadata": {
        "id": "8Ben2FxTFKlK"
      },
      "execution_count": 10,
      "outputs": []
    },
    {
      "cell_type": "code",
      "source": [
        "head(my_data, 5)"
      ],
      "metadata": {
        "id": "VHrrh7UNFKmp",
        "colab": {
          "base_uri": "https://localhost:8080/",
          "height": 255
        },
        "outputId": "79fa9e3c-5895-4b43-bcce-7c2da4c54117"
      },
      "execution_count": 11,
      "outputs": [
        {
          "output_type": "display_data",
          "data": {
            "text/html": [
              "<table class=\"dataframe\">\n",
              "<caption>A data.frame: 5 × 4</caption>\n",
              "<thead>\n",
              "\t<tr><th></th><th scope=col>Blood_type</th><th scope=col>pct</th><th scope=col>obs</th><th scope=col>Exp</th></tr>\n",
              "\t<tr><th></th><th scope=col>&lt;chr&gt;</th><th scope=col>&lt;dbl&gt;</th><th scope=col>&lt;dbl&gt;</th><th scope=col>&lt;dbl&gt;</th></tr>\n",
              "</thead>\n",
              "<tbody>\n",
              "\t<tr><th scope=row>1</th><td>O+ </td><td>0.374</td><td>195</td><td>187.0</td></tr>\n",
              "\t<tr><th scope=row>2</th><td>A+ </td><td>0.357</td><td>165</td><td>178.5</td></tr>\n",
              "\t<tr><th scope=row>3</th><td>B+ </td><td>0.085</td><td> 47</td><td> 42.5</td></tr>\n",
              "\t<tr><th scope=row>4</th><td>AB+</td><td>0.034</td><td> 15</td><td> 17.0</td></tr>\n",
              "\t<tr><th scope=row>5</th><td>O- </td><td>0.066</td><td> 30</td><td> 33.0</td></tr>\n",
              "</tbody>\n",
              "</table>\n"
            ],
            "text/markdown": "\nA data.frame: 5 × 4\n\n| <!--/--> | Blood_type &lt;chr&gt; | pct &lt;dbl&gt; | obs &lt;dbl&gt; | Exp &lt;dbl&gt; |\n|---|---|---|---|---|\n| 1 | O+  | 0.374 | 195 | 187.0 |\n| 2 | A+  | 0.357 | 165 | 178.5 |\n| 3 | B+  | 0.085 |  47 |  42.5 |\n| 4 | AB+ | 0.034 |  15 |  17.0 |\n| 5 | O-  | 0.066 |  30 |  33.0 |\n\n",
            "text/latex": "A data.frame: 5 × 4\n\\begin{tabular}{r|llll}\n  & Blood\\_type & pct & obs & Exp\\\\\n  & <chr> & <dbl> & <dbl> & <dbl>\\\\\n\\hline\n\t1 & O+  & 0.374 & 195 & 187.0\\\\\n\t2 & A+  & 0.357 & 165 & 178.5\\\\\n\t3 & B+  & 0.085 &  47 &  42.5\\\\\n\t4 & AB+ & 0.034 &  15 &  17.0\\\\\n\t5 & O-  & 0.066 &  30 &  33.0\\\\\n\\end{tabular}\n",
            "text/plain": [
              "  Blood_type pct   obs Exp  \n",
              "1 O+         0.374 195 187.0\n",
              "2 A+         0.357 165 178.5\n",
              "3 B+         0.085  47  42.5\n",
              "4 AB+        0.034  15  17.0\n",
              "5 O-         0.066  30  33.0"
            ]
          },
          "metadata": {}
        }
      ]
    },
    {
      "cell_type": "code",
      "source": [
        "# x stands for observed value\n",
        "# p stands for expected probabilities\n",
        "chisq.test(x = my_data$obs , p = my_data$pct)"
      ],
      "metadata": {
        "id": "jz9Vj8KEFKq2",
        "colab": {
          "base_uri": "https://localhost:8080/",
          "height": 138
        },
        "outputId": "a8f2b662-e4b3-4339-fe04-303d23c8d612"
      },
      "execution_count": 13,
      "outputs": [
        {
          "output_type": "stream",
          "name": "stderr",
          "text": [
            "Warning message in chisq.test(x = my_data$obs, p = my_data$pct):\n",
            "“Chi-squared approximation may be incorrect”\n"
          ]
        },
        {
          "output_type": "display_data",
          "data": {
            "text/plain": [
              "\n",
              "\tChi-squared test for given probabilities\n",
              "\n",
              "data:  my_data$obs\n",
              "X-squared = 4.1033, df = 7, p-value = 0.7678\n"
            ]
          },
          "metadata": {}
        }
      ]
    },
    {
      "cell_type": "markdown",
      "source": [
        "As our p-value is very high i.e., 0.7678, we *cannot* reject our null hypothesis."
      ],
      "metadata": {
        "id": "CTFq1K-J_0D2"
      }
    },
    {
      "cell_type": "markdown",
      "source": [
        "# Chi-Square test of factor independece"
      ],
      "metadata": {
        "id": "o6ewrxQ--25G"
      }
    },
    {
      "cell_type": "code",
      "source": [
        "monthly = c(91, 150, 109)\n",
        "occasionally = c(90, 200, 198)\n",
        "never = c(51, 155,172)"
      ],
      "metadata": {
        "id": "CSr_yp8m-3T_"
      },
      "execution_count": 14,
      "outputs": []
    },
    {
      "cell_type": "code",
      "source": [
        "df = data.frame(monthly, occasionally, never)"
      ],
      "metadata": {
        "id": "VQG6jv9V-3mx"
      },
      "execution_count": 15,
      "outputs": []
    },
    {
      "cell_type": "code",
      "source": [
        "row.names(df) = c(\"under 45\", \"45-59\", \"60 and over\")"
      ],
      "metadata": {
        "id": "OxP5K0iR-3oJ"
      },
      "execution_count": 17,
      "outputs": []
    },
    {
      "cell_type": "code",
      "source": [
        "df"
      ],
      "metadata": {
        "colab": {
          "base_uri": "https://localhost:8080/",
          "height": 192
        },
        "id": "c7orG962-3yu",
        "outputId": "04b6f3a6-aa11-49b2-da45-709379cebb61"
      },
      "execution_count": 18,
      "outputs": [
        {
          "output_type": "display_data",
          "data": {
            "text/html": [
              "<table class=\"dataframe\">\n",
              "<caption>A data.frame: 3 × 3</caption>\n",
              "<thead>\n",
              "\t<tr><th></th><th scope=col>monthly</th><th scope=col>occasionally</th><th scope=col>never</th></tr>\n",
              "\t<tr><th></th><th scope=col>&lt;dbl&gt;</th><th scope=col>&lt;dbl&gt;</th><th scope=col>&lt;dbl&gt;</th></tr>\n",
              "</thead>\n",
              "<tbody>\n",
              "\t<tr><th scope=row>under 45</th><td> 91</td><td> 90</td><td> 51</td></tr>\n",
              "\t<tr><th scope=row>45-59</th><td>150</td><td>200</td><td>155</td></tr>\n",
              "\t<tr><th scope=row>60 and over</th><td>109</td><td>198</td><td>172</td></tr>\n",
              "</tbody>\n",
              "</table>\n"
            ],
            "text/markdown": "\nA data.frame: 3 × 3\n\n| <!--/--> | monthly &lt;dbl&gt; | occasionally &lt;dbl&gt; | never &lt;dbl&gt; |\n|---|---|---|---|\n| under 45 |  91 |  90 |  51 |\n| 45-59 | 150 | 200 | 155 |\n| 60 and over | 109 | 198 | 172 |\n\n",
            "text/latex": "A data.frame: 3 × 3\n\\begin{tabular}{r|lll}\n  & monthly & occasionally & never\\\\\n  & <dbl> & <dbl> & <dbl>\\\\\n\\hline\n\tunder 45 &  91 &  90 &  51\\\\\n\t45-59 & 150 & 200 & 155\\\\\n\t60 and over & 109 & 198 & 172\\\\\n\\end{tabular}\n",
            "text/plain": [
              "            monthly occasionally never\n",
              "under 45     91      90           51  \n",
              "45-59       150     200          155  \n",
              "60 and over 109     198          172  "
            ]
          },
          "metadata": {}
        }
      ]
    },
    {
      "cell_type": "markdown",
      "source": [
        "This dataset shows distribution of people based on age and how frequently they consume alcohol.\n",
        "\n",
        "The age and the frequency at which someone drinks are related or not?"
      ],
      "metadata": {
        "id": "TmPfsmi-A_Lo"
      }
    },
    {
      "cell_type": "code",
      "source": [
        "chisq.test(df)"
      ],
      "metadata": {
        "colab": {
          "base_uri": "https://localhost:8080/",
          "height": 104
        },
        "id": "Cyqz6fSr-30f",
        "outputId": "ea260242-ab9e-4480-c044-24466d956bcd"
      },
      "execution_count": 19,
      "outputs": [
        {
          "output_type": "display_data",
          "data": {
            "text/plain": [
              "\n",
              "\tPearson's Chi-squared test\n",
              "\n",
              "data:  df\n",
              "X-squared = 25.086, df = 4, p-value = 4.835e-05\n"
            ]
          },
          "metadata": {}
        }
      ]
    },
    {
      "cell_type": "markdown",
      "source": [
        "As p-value is very low, we can say that there is dependence between factor age and the frequency of which someone drinks.\n",
        "\n"
      ],
      "metadata": {
        "id": "oQW2AqRC-mGZ"
      }
    }
  ]
}