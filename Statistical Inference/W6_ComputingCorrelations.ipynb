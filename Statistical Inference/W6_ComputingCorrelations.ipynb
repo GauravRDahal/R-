{
  "nbformat": 4,
  "nbformat_minor": 0,
  "metadata": {
    "colab": {
      "provenance": []
    },
    "kernelspec": {
      "name": "ir",
      "display_name": "R"
    },
    "language_info": {
      "name": "R"
    }
  },
  "cells": [
    {
      "cell_type": "markdown",
      "source": [
        "## **Computing correlation in R**\n",
        "\n",
        "` for Parametric and Non-Parametric tests`"
      ],
      "metadata": {
        "id": "VEfUhQ9rAjpk"
      }
    },
    {
      "cell_type": "code",
      "source": [
        "install.packages(\"ggpubr\")"
      ],
      "metadata": {
        "colab": {
          "base_uri": "https://localhost:8080/"
        },
        "id": "Q2nSwiBPAiie",
        "outputId": "2e2a5aa9-c8fb-4c1d-bfbe-07966cf078f7"
      },
      "execution_count": 17,
      "outputs": [
        {
          "output_type": "stream",
          "name": "stderr",
          "text": [
            "Installing package into ‘/usr/local/lib/R/site-library’\n",
            "(as ‘lib’ is unspecified)\n",
            "\n",
            "also installing the dependencies ‘pbkrtest’, ‘lme4’, ‘car’, ‘rstatix’\n",
            "\n",
            "\n"
          ]
        }
      ]
    },
    {
      "cell_type": "code",
      "source": [
        "library(ggpubr)"
      ],
      "metadata": {
        "id": "fgdRQ62uJGug"
      },
      "execution_count": 18,
      "outputs": []
    },
    {
      "cell_type": "code",
      "source": [
        "my_data = read.csv(\"/content/mtcars.csv\")"
      ],
      "metadata": {
        "id": "VPHCdWX7EG5X"
      },
      "execution_count": 5,
      "outputs": []
    },
    {
      "cell_type": "code",
      "source": [
        "head(my_data, 6)"
      ],
      "metadata": {
        "colab": {
          "base_uri": "https://localhost:8080/",
          "height": 393
        },
        "id": "XyUK7bjJEHAF",
        "outputId": "9b71cfcc-1a2e-4819-f8ae-0dbae6964892"
      },
      "execution_count": 6,
      "outputs": [
        {
          "output_type": "display_data",
          "data": {
            "text/html": [
              "<table class=\"dataframe\">\n",
              "<caption>A data.frame: 6 × 12</caption>\n",
              "<thead>\n",
              "\t<tr><th></th><th scope=col>model</th><th scope=col>mpg</th><th scope=col>cyl</th><th scope=col>disp</th><th scope=col>hp</th><th scope=col>drat</th><th scope=col>wt</th><th scope=col>qsec</th><th scope=col>vs</th><th scope=col>am</th><th scope=col>gear</th><th scope=col>carb</th></tr>\n",
              "\t<tr><th></th><th scope=col>&lt;chr&gt;</th><th scope=col>&lt;dbl&gt;</th><th scope=col>&lt;int&gt;</th><th scope=col>&lt;dbl&gt;</th><th scope=col>&lt;int&gt;</th><th scope=col>&lt;dbl&gt;</th><th scope=col>&lt;dbl&gt;</th><th scope=col>&lt;dbl&gt;</th><th scope=col>&lt;int&gt;</th><th scope=col>&lt;int&gt;</th><th scope=col>&lt;int&gt;</th><th scope=col>&lt;int&gt;</th></tr>\n",
              "</thead>\n",
              "<tbody>\n",
              "\t<tr><th scope=row>1</th><td>Mazda RX4        </td><td>21.0</td><td>6</td><td>160</td><td>110</td><td>3.90</td><td>2.620</td><td>16.46</td><td>0</td><td>1</td><td>4</td><td>4</td></tr>\n",
              "\t<tr><th scope=row>2</th><td>Mazda RX4 Wag    </td><td>21.0</td><td>6</td><td>160</td><td>110</td><td>3.90</td><td>2.875</td><td>17.02</td><td>0</td><td>1</td><td>4</td><td>4</td></tr>\n",
              "\t<tr><th scope=row>3</th><td>Datsun 710       </td><td>22.8</td><td>4</td><td>108</td><td> 93</td><td>3.85</td><td>2.320</td><td>18.61</td><td>1</td><td>1</td><td>4</td><td>1</td></tr>\n",
              "\t<tr><th scope=row>4</th><td>Hornet 4 Drive   </td><td>21.4</td><td>6</td><td>258</td><td>110</td><td>3.08</td><td>3.215</td><td>19.44</td><td>1</td><td>0</td><td>3</td><td>1</td></tr>\n",
              "\t<tr><th scope=row>5</th><td>Hornet Sportabout</td><td>18.7</td><td>8</td><td>360</td><td>175</td><td>3.15</td><td>3.440</td><td>17.02</td><td>0</td><td>0</td><td>3</td><td>2</td></tr>\n",
              "\t<tr><th scope=row>6</th><td>Valiant          </td><td>18.1</td><td>6</td><td>225</td><td>105</td><td>2.76</td><td>3.460</td><td>20.22</td><td>1</td><td>0</td><td>3</td><td>1</td></tr>\n",
              "</tbody>\n",
              "</table>\n"
            ],
            "text/markdown": "\nA data.frame: 6 × 12\n\n| <!--/--> | model &lt;chr&gt; | mpg &lt;dbl&gt; | cyl &lt;int&gt; | disp &lt;dbl&gt; | hp &lt;int&gt; | drat &lt;dbl&gt; | wt &lt;dbl&gt; | qsec &lt;dbl&gt; | vs &lt;int&gt; | am &lt;int&gt; | gear &lt;int&gt; | carb &lt;int&gt; |\n|---|---|---|---|---|---|---|---|---|---|---|---|---|\n| 1 | Mazda RX4         | 21.0 | 6 | 160 | 110 | 3.90 | 2.620 | 16.46 | 0 | 1 | 4 | 4 |\n| 2 | Mazda RX4 Wag     | 21.0 | 6 | 160 | 110 | 3.90 | 2.875 | 17.02 | 0 | 1 | 4 | 4 |\n| 3 | Datsun 710        | 22.8 | 4 | 108 |  93 | 3.85 | 2.320 | 18.61 | 1 | 1 | 4 | 1 |\n| 4 | Hornet 4 Drive    | 21.4 | 6 | 258 | 110 | 3.08 | 3.215 | 19.44 | 1 | 0 | 3 | 1 |\n| 5 | Hornet Sportabout | 18.7 | 8 | 360 | 175 | 3.15 | 3.440 | 17.02 | 0 | 0 | 3 | 2 |\n| 6 | Valiant           | 18.1 | 6 | 225 | 105 | 2.76 | 3.460 | 20.22 | 1 | 0 | 3 | 1 |\n\n",
            "text/latex": "A data.frame: 6 × 12\n\\begin{tabular}{r|llllllllllll}\n  & model & mpg & cyl & disp & hp & drat & wt & qsec & vs & am & gear & carb\\\\\n  & <chr> & <dbl> & <int> & <dbl> & <int> & <dbl> & <dbl> & <dbl> & <int> & <int> & <int> & <int>\\\\\n\\hline\n\t1 & Mazda RX4         & 21.0 & 6 & 160 & 110 & 3.90 & 2.620 & 16.46 & 0 & 1 & 4 & 4\\\\\n\t2 & Mazda RX4 Wag     & 21.0 & 6 & 160 & 110 & 3.90 & 2.875 & 17.02 & 0 & 1 & 4 & 4\\\\\n\t3 & Datsun 710        & 22.8 & 4 & 108 &  93 & 3.85 & 2.320 & 18.61 & 1 & 1 & 4 & 1\\\\\n\t4 & Hornet 4 Drive    & 21.4 & 6 & 258 & 110 & 3.08 & 3.215 & 19.44 & 1 & 0 & 3 & 1\\\\\n\t5 & Hornet Sportabout & 18.7 & 8 & 360 & 175 & 3.15 & 3.440 & 17.02 & 0 & 0 & 3 & 2\\\\\n\t6 & Valiant           & 18.1 & 6 & 225 & 105 & 2.76 & 3.460 & 20.22 & 1 & 0 & 3 & 1\\\\\n\\end{tabular}\n",
            "text/plain": [
              "  model             mpg  cyl disp hp  drat wt    qsec  vs am gear carb\n",
              "1 Mazda RX4         21.0 6   160  110 3.90 2.620 16.46 0  1  4    4   \n",
              "2 Mazda RX4 Wag     21.0 6   160  110 3.90 2.875 17.02 0  1  4    4   \n",
              "3 Datsun 710        22.8 4   108   93 3.85 2.320 18.61 1  1  4    1   \n",
              "4 Hornet 4 Drive    21.4 6   258  110 3.08 3.215 19.44 1  0  3    1   \n",
              "5 Hornet Sportabout 18.7 8   360  175 3.15 3.440 17.02 0  0  3    2   \n",
              "6 Valiant           18.1 6   225  105 2.76 3.460 20.22 1  0  3    1   "
            ]
          },
          "metadata": {}
        }
      ]
    },
    {
      "cell_type": "code",
      "source": [
        "str(my_data)"
      ],
      "metadata": {
        "colab": {
          "base_uri": "https://localhost:8080/"
        },
        "id": "i1-ch1UmEHBn",
        "outputId": "c55d4456-8666-4600-c5a5-a8053929dca7"
      },
      "execution_count": 7,
      "outputs": [
        {
          "output_type": "stream",
          "name": "stdout",
          "text": [
            "'data.frame':\t32 obs. of  12 variables:\n",
            " $ model: chr  \"Mazda RX4\" \"Mazda RX4 Wag\" \"Datsun 710\" \"Hornet 4 Drive\" ...\n",
            " $ mpg  : num  21 21 22.8 21.4 18.7 18.1 14.3 24.4 22.8 19.2 ...\n",
            " $ cyl  : int  6 6 4 6 8 6 8 4 4 6 ...\n",
            " $ disp : num  160 160 108 258 360 ...\n",
            " $ hp   : int  110 110 93 110 175 105 245 62 95 123 ...\n",
            " $ drat : num  3.9 3.9 3.85 3.08 3.15 2.76 3.21 3.69 3.92 3.92 ...\n",
            " $ wt   : num  2.62 2.88 2.32 3.21 3.44 ...\n",
            " $ qsec : num  16.5 17 18.6 19.4 17 ...\n",
            " $ vs   : int  0 0 1 1 0 1 0 1 1 1 ...\n",
            " $ am   : int  1 1 1 0 0 0 0 0 0 0 ...\n",
            " $ gear : int  4 4 4 3 3 3 3 4 4 4 ...\n",
            " $ carb : int  4 4 1 1 2 1 4 2 2 4 ...\n"
          ]
        }
      ]
    },
    {
      "cell_type": "markdown",
      "source": [
        "Computing correlations between mpg and wt variables\n",
        "1. We will start by vizualizing datapoints using the scatter plot."
      ],
      "metadata": {
        "id": "x7MlKqj2GfA7"
      }
    },
    {
      "cell_type": "code",
      "source": [
        "install.packages(\"ggplot2\")"
      ],
      "metadata": {
        "colab": {
          "base_uri": "https://localhost:8080/"
        },
        "id": "Od2dusWXEHFn",
        "outputId": "6f678f40-6b8e-432b-cc64-0ca89a90f8c5"
      },
      "execution_count": 8,
      "outputs": [
        {
          "output_type": "stream",
          "name": "stderr",
          "text": [
            "Installing package into ‘/usr/local/lib/R/site-library’\n",
            "(as ‘lib’ is unspecified)\n",
            "\n"
          ]
        }
      ]
    },
    {
      "cell_type": "code",
      "source": [
        "library(ggplot2)"
      ],
      "metadata": {
        "id": "sVftO_kSEHHB"
      },
      "execution_count": 15,
      "outputs": []
    },
    {
      "cell_type": "code",
      "source": [
        "ggscatter(my_data, x = \"mpg\", y = \"wt\",\n",
        "          add = \"reg.line\", conf.int = TRUE,\n",
        "          cor.coef = TRUE, cor.method = \"pearson\",\n",
        "          xlab = \"Miles/(US) gallon\",\n",
        "          ylab = \"Weight (1000 lbs)\")"
      ],
      "metadata": {
        "colab": {
          "base_uri": "https://localhost:8080/",
          "height": 437
        },
        "id": "zmeI2cyIAiuP",
        "outputId": "64479b9e-1268-4fcd-87b0-d6d90ac4e59b"
      },
      "execution_count": 19,
      "outputs": [
        {
          "output_type": "display_data",
          "data": {
            "text/plain": [
              "plot without title"
            ],
            "image/png": "[encoded data removed]"
          },
          "metadata": {
            "image/png": {
              "width": 420,
              "height": 420
            }
          }
        }
      ]
    },
    {
      "cell_type": "markdown",
      "source": [
        "As we can see the \"mpg\" and \"wt\" are negatively correlated.\n",
        "\n",
        "# Checking Normality\n",
        "Let's now check the `normality` of the data to see if we can use the parametric test or non-parametric test.\n",
        "- For this, we will be using `Shapiro-Wilk normality test` for 'mpg' and 'wt'\n",
        "\n",
        "***The null hypothesis under Shapiro-Wilk Test:***\n",
        "\n",
        "`H0 `: The data is normally distributed"
      ],
      "metadata": {
        "id": "i-IKp0f6H6cR"
      }
    },
    {
      "cell_type": "code",
      "source": [
        "shapiro.test(my_data$mpg)"
      ],
      "metadata": {
        "colab": {
          "base_uri": "https://localhost:8080/",
          "height": 104
        },
        "id": "fY6adCaDAivv",
        "outputId": "234c0cb3-e541-415d-d735-e4f2c19de48a"
      },
      "execution_count": 20,
      "outputs": [
        {
          "output_type": "display_data",
          "data": {
            "text/plain": [
              "\n",
              "\tShapiro-Wilk normality test\n",
              "\n",
              "data:  my_data$mpg\n",
              "W = 0.94756, p-value = 0.1229\n"
            ]
          },
          "metadata": {}
        }
      ]
    },
    {
      "cell_type": "markdown",
      "source": [
        "Here, as we can see that the p-value is greater, we accept the H0 i.e., `the data is normally distributed`.\n"
      ],
      "metadata": {
        "id": "ItBTClC1J3ce"
      }
    },
    {
      "cell_type": "code",
      "source": [
        "shapiro.test(my_data$wt)"
      ],
      "metadata": {
        "colab": {
          "base_uri": "https://localhost:8080/",
          "height": 104
        },
        "id": "jwOoCx08JxB3",
        "outputId": "0c49817e-b6bc-48d5-b8b2-d5ca37d4a3a5"
      },
      "execution_count": 21,
      "outputs": [
        {
          "output_type": "display_data",
          "data": {
            "text/plain": [
              "\n",
              "\tShapiro-Wilk normality test\n",
              "\n",
              "data:  my_data$wt\n",
              "W = 0.94326, p-value = 0.09265\n"
            ]
          },
          "metadata": {}
        }
      ]
    },
    {
      "cell_type": "markdown",
      "source": [
        "Here, as we can see that the p-value is greater, we accept the H0 i.e., `the data is normally distributed`."
      ],
      "metadata": {
        "id": "KjrsdQsIKbxE"
      }
    },
    {
      "cell_type": "markdown",
      "source": [
        "### Now, as we saw that our data is normally distributed, we can use `Karl pearson correlation test`."
      ],
      "metadata": {
        "id": "Yhr2FZIIMMyw"
      }
    },
    {
      "cell_type": "code",
      "source": [
        "# karl-Pearson Correlation Test\n",
        "result = cor.test(my_data$wt, my_data$mpg,\n",
        "method = \"pearson\") # by default the method will be pearson\n",
        "result"
      ],
      "metadata": {
        "colab": {
          "base_uri": "https://localhost:8080/",
          "height": 208
        },
        "id": "YxXKPcdDJxDR",
        "outputId": "603a59e9-39bd-40ea-f63b-14272caf1f15"
      },
      "execution_count": 22,
      "outputs": [
        {
          "output_type": "display_data",
          "data": {
            "text/plain": [
              "\n",
              "\tPearson's product-moment correlation\n",
              "\n",
              "data:  my_data$wt and my_data$mpg\n",
              "t = -9.559, df = 30, p-value = 1.294e-10\n",
              "alternative hypothesis: true correlation is not equal to 0\n",
              "95 percent confidence interval:\n",
              " -0.9338264 -0.7440872\n",
              "sample estimates:\n",
              "       cor \n",
              "-0.8676594 \n"
            ]
          },
          "metadata": {}
        }
      ]
    },
    {
      "cell_type": "markdown",
      "source": [
        "# **For non-normal data**\n",
        "\n",
        "### Non-parametric Tests for Correlation\n",
        "\n",
        "\n",
        "When data are in the form of ranks, we generally use `'Spearman rank correlation'`"
      ],
      "metadata": {
        "id": "qZZDdEtrNNp4"
      }
    },
    {
      "cell_type": "code",
      "source": [
        "# Spearman Rho\n",
        "res2 = cor.test(my_data$wt, my_data$mpg, method = \"spearman\")\n",
        "res2"
      ],
      "metadata": {
        "colab": {
          "base_uri": "https://localhost:8080/",
          "height": 228
        },
        "id": "mN8xRoJoOgzK",
        "outputId": "fbc65c27-bebe-4ef5-9a09-d8e67f4cea17"
      },
      "execution_count": 25,
      "outputs": [
        {
          "output_type": "stream",
          "name": "stderr",
          "text": [
            "Warning message in cor.test.default(my_data$wt, my_data$mpg, method = \"spearman\"):\n",
            "“Cannot compute exact p-value with ties”\n"
          ]
        },
        {
          "output_type": "display_data",
          "data": {
            "text/plain": [
              "\n",
              "\tSpearman's rank correlation rho\n",
              "\n",
              "data:  my_data$wt and my_data$mpg\n",
              "S = 10292, p-value = 1.488e-11\n",
              "alternative hypothesis: true rho is not equal to 0\n",
              "sample estimates:\n",
              "      rho \n",
              "-0.886422 \n"
            ]
          },
          "metadata": {}
        }
      ]
    },
    {
      "cell_type": "code",
      "source": [
        "# Kendall's Tau\n",
        "res3 = cor.test(my_data$wt, my_data$mpg, method = \"kendall\")\n",
        "res3"
      ],
      "metadata": {
        "colab": {
          "base_uri": "https://localhost:8080/",
          "height": 208
        },
        "id": "4rtVGfhRJxHF",
        "outputId": "114ed662-93fd-448a-bd9d-245fb2526783"
      },
      "execution_count": 26,
      "outputs": [
        {
          "output_type": "stream",
          "name": "stderr",
          "text": [
            "Warning message in cor.test.default(my_data$wt, my_data$mpg, method = \"kendall\"):\n",
            "“Cannot compute exact p-value with ties”\n"
          ]
        },
        {
          "output_type": "display_data",
          "data": {
            "text/plain": [
              "\n",
              "\tKendall's rank correlation tau\n",
              "\n",
              "data:  my_data$wt and my_data$mpg\n",
              "z = -5.7981, p-value = 6.706e-09\n",
              "alternative hypothesis: true tau is not equal to 0\n",
              "sample estimates:\n",
              "       tau \n",
              "-0.7278321 \n"
            ]
          },
          "metadata": {}
        }
      ]
    },
    {
      "cell_type": "markdown",
      "source": [
        "Here, we can see the `'warning message'` because the data is normal.\n",
        "\n",
        "Therefore, we should be mindful of which correlation to use depending on the data.\n",
        "\n",
        "---------"
      ],
      "metadata": {
        "id": "3VfnYHVzPNpS"
      }
    },
    {
      "cell_type": "markdown",
      "source": [
        "# **TASK 2**\n",
        "\n",
        "### Testing mean\n",
        "\n",
        "- Suppose that we want to know if the average weight of the mice differs from 25g\n",
        "\n",
        "`H0: mu = 25`\n",
        "\n",
        "`H1: mu != 25`"
      ],
      "metadata": {
        "id": "AZK2qvnHRCT0"
      }
    },
    {
      "cell_type": "code",
      "source": [
        "# Generating a random weight for the mice\n",
        "set.seed(1234)\n",
        "\n",
        "my_data = data.frame(\n",
        "  name = paste0(rep(\"M_\", 10), 1:10),\n",
        "  weight = round(rnorm(10,20,2), 1)\n",
        ")\n",
        "# printing the data\n",
        "my_data"
      ],
      "metadata": {
        "colab": {
          "base_uri": "https://localhost:8080/",
          "height": 429
        },
        "id": "dNM5Ia6zNijp",
        "outputId": "c1caf781-424a-4b3c-d1bd-8f4f5e517f2b"
      },
      "execution_count": 28,
      "outputs": [
        {
          "output_type": "display_data",
          "data": {
            "text/html": [
              "<table class=\"dataframe\">\n",
              "<caption>A data.frame: 10 × 2</caption>\n",
              "<thead>\n",
              "\t<tr><th scope=col>name</th><th scope=col>weight</th></tr>\n",
              "\t<tr><th scope=col>&lt;chr&gt;</th><th scope=col>&lt;dbl&gt;</th></tr>\n",
              "</thead>\n",
              "<tbody>\n",
              "\t<tr><td>M_1 </td><td>17.6</td></tr>\n",
              "\t<tr><td>M_2 </td><td>20.6</td></tr>\n",
              "\t<tr><td>M_3 </td><td>22.2</td></tr>\n",
              "\t<tr><td>M_4 </td><td>15.3</td></tr>\n",
              "\t<tr><td>M_5 </td><td>20.9</td></tr>\n",
              "\t<tr><td>M_6 </td><td>21.0</td></tr>\n",
              "\t<tr><td>M_7 </td><td>18.9</td></tr>\n",
              "\t<tr><td>M_8 </td><td>18.9</td></tr>\n",
              "\t<tr><td>M_9 </td><td>18.9</td></tr>\n",
              "\t<tr><td>M_10</td><td>18.2</td></tr>\n",
              "</tbody>\n",
              "</table>\n"
            ],
            "text/markdown": "\nA data.frame: 10 × 2\n\n| name &lt;chr&gt; | weight &lt;dbl&gt; |\n|---|---|\n| M_1  | 17.6 |\n| M_2  | 20.6 |\n| M_3  | 22.2 |\n| M_4  | 15.3 |\n| M_5  | 20.9 |\n| M_6  | 21.0 |\n| M_7  | 18.9 |\n| M_8  | 18.9 |\n| M_9  | 18.9 |\n| M_10 | 18.2 |\n\n",
            "text/latex": "A data.frame: 10 × 2\n\\begin{tabular}{ll}\n name & weight\\\\\n <chr> & <dbl>\\\\\n\\hline\n\t M\\_1  & 17.6\\\\\n\t M\\_2  & 20.6\\\\\n\t M\\_3  & 22.2\\\\\n\t M\\_4  & 15.3\\\\\n\t M\\_5  & 20.9\\\\\n\t M\\_6  & 21.0\\\\\n\t M\\_7  & 18.9\\\\\n\t M\\_8  & 18.9\\\\\n\t M\\_9  & 18.9\\\\\n\t M\\_10 & 18.2\\\\\n\\end{tabular}\n",
            "text/plain": [
              "   name weight\n",
              "1  M_1  17.6  \n",
              "2  M_2  20.6  \n",
              "3  M_3  22.2  \n",
              "4  M_4  15.3  \n",
              "5  M_5  20.9  \n",
              "6  M_6  21.0  \n",
              "7  M_7  18.9  \n",
              "8  M_8  18.9  \n",
              "9  M_9  18.9  \n",
              "10 M_10 18.2  "
            ]
          },
          "metadata": {}
        }
      ]
    },
    {
      "cell_type": "code",
      "source": [
        "#summary(my_data)"
      ],
      "metadata": {
        "id": "62kP1nB2Nik3"
      },
      "execution_count": 31,
      "outputs": []
    },
    {
      "cell_type": "code",
      "source": [
        "summary(my_data$weight)"
      ],
      "metadata": {
        "colab": {
          "base_uri": "https://localhost:8080/",
          "height": 52
        },
        "id": "wYwnoxIgNipk",
        "outputId": "ca139d55-1b1e-4625-af2d-7581526bee05"
      },
      "execution_count": 30,
      "outputs": [
        {
          "output_type": "display_data",
          "data": {
            "text/plain": [
              "   Min. 1st Qu.  Median    Mean 3rd Qu.    Max. \n",
              "  15.30   18.38   18.90   19.25   20.82   22.20 "
            ]
          },
          "metadata": {}
        }
      ]
    },
    {
      "cell_type": "code",
      "source": [
        "# library(ggpubr)\n",
        "ggboxplot(my_data$weight,\n",
        "ylab = \"Weight(gm)\",\n",
        "xlab = FALSE,\n",
        "ggtheme = theme_minimal())"
      ],
      "metadata": {
        "colab": {
          "base_uri": "https://localhost:8080/",
          "height": 437
        },
        "id": "uBqLi_jNNirK",
        "outputId": "4f9ee504-83e3-4d05-c520-f5cbf6d7b2ad"
      },
      "execution_count": 32,
      "outputs": [
        {
          "output_type": "display_data",
          "data": {
            "text/plain": [
              "plot without title"
            ],
            "image/png": "[encoded data removed]"
          },
          "metadata": {
            "image/png": {
              "width": 420,
              "height": 420
            }
          }
        }
      ]
    },
    {
      "cell_type": "markdown",
      "source": [
        "Let's perform preliminary test to check on-sample t-test assumptions of `'Normality'`"
      ],
      "metadata": {
        "id": "ahK0_STsTqLq"
      }
    },
    {
      "cell_type": "code",
      "source": [
        "# Shapiro-Wilk test\n",
        "shapiro.test(my_data$weight)"
      ],
      "metadata": {
        "colab": {
          "base_uri": "https://localhost:8080/",
          "height": 104
        },
        "id": "dZZhNFo6T4wv",
        "outputId": "782d59c3-7425-4663-f2d1-e10c41a97f70"
      },
      "execution_count": 33,
      "outputs": [
        {
          "output_type": "display_data",
          "data": {
            "text/plain": [
              "\n",
              "\tShapiro-Wilk normality test\n",
              "\n",
              "data:  my_data$weight\n",
              "W = 0.9526, p-value = 0.6993\n"
            ]
          },
          "metadata": {}
        }
      ]
    },
    {
      "cell_type": "markdown",
      "source": [
        "Here, as the p-value is greater we accept the H0 i.e., the data follows normal distribution.\n",
        "\n",
        "Therefore, as the data is normal, we are going to use t- test."
      ],
      "metadata": {
        "id": "LhZ7fdJOUCih"
      }
    },
    {
      "cell_type": "code",
      "source": [
        "# two-sided t-test\n",
        "res = t.test(my_data$weight, mu = 25)\n",
        "res"
      ],
      "metadata": {
        "colab": {
          "base_uri": "https://localhost:8080/",
          "height": 208
        },
        "id": "cYA_TeB0T4yk",
        "outputId": "cdd1a8c8-020c-46f3-efb5-28fb67786393"
      },
      "execution_count": 34,
      "outputs": [
        {
          "output_type": "display_data",
          "data": {
            "text/plain": [
              "\n",
              "\tOne Sample t-test\n",
              "\n",
              "data:  my_data$weight\n",
              "t = -9.0783, df = 9, p-value = 7.953e-06\n",
              "alternative hypothesis: true mean is not equal to 25\n",
              "95 percent confidence interval:\n",
              " 17.8172 20.6828\n",
              "sample estimates:\n",
              "mean of x \n",
              "    19.25 \n"
            ]
          },
          "metadata": {}
        }
      ]
    },
    {
      "cell_type": "markdown",
      "source": [
        "Here, as the p-value is less, we reject the H0 and accept H1 i.e., `mu != 25`."
      ],
      "metadata": {
        "id": "LjXrHgvkUx8q"
      }
    },
    {
      "cell_type": "markdown",
      "source": [
        "### Now, for one-sided(tail) test\n",
        "\n",
        "`H0 : mu >= 25`\n",
        "\n",
        "`H1 : mu < 25`"
      ],
      "metadata": {
        "id": "jnyc3uCaVZNX"
      }
    },
    {
      "cell_type": "code",
      "source": [
        "t.test(my_data$weight, mu = 25, alternative = 'less') # specifying the alternative hypothesis"
      ],
      "metadata": {
        "colab": {
          "base_uri": "https://localhost:8080/",
          "height": 208
        },
        "id": "qs4y56fQT41z",
        "outputId": "5af0e2ca-9902-4a53-de22-910a48ed7485"
      },
      "execution_count": 35,
      "outputs": [
        {
          "output_type": "display_data",
          "data": {
            "text/plain": [
              "\n",
              "\tOne Sample t-test\n",
              "\n",
              "data:  my_data$weight\n",
              "t = -9.0783, df = 9, p-value = 3.977e-06\n",
              "alternative hypothesis: true mean is less than 25\n",
              "95 percent confidence interval:\n",
              "     -Inf 20.41105\n",
              "sample estimates:\n",
              "mean of x \n",
              "    19.25 \n"
            ]
          },
          "metadata": {}
        }
      ]
    },
    {
      "cell_type": "markdown",
      "source": [
        "Here, as the p-value is less, we reject the H0 and accept H1 i.e., `mu < 25`.\n",
        "\n",
        "--------"
      ],
      "metadata": {
        "id": "mrk1LOzFWYnJ"
      }
    },
    {
      "cell_type": "markdown",
      "source": [
        "Similarly, for greater:\n",
        "\n",
        "`H0 : mu <= 25`\n",
        "\n",
        "`H1 : mu > 25`"
      ],
      "metadata": {
        "id": "yCxL-GPaWrSR"
      }
    },
    {
      "cell_type": "code",
      "source": [
        "t.test(my_data$weight, mu = 25, alternative = \"greater\")"
      ],
      "metadata": {
        "colab": {
          "base_uri": "https://localhost:8080/",
          "height": 208
        },
        "id": "g93MR7osVuVu",
        "outputId": "f488d12c-3a30-4e43-9f82-7286242ae5f5"
      },
      "execution_count": 37,
      "outputs": [
        {
          "output_type": "display_data",
          "data": {
            "text/plain": [
              "\n",
              "\tOne Sample t-test\n",
              "\n",
              "data:  my_data$weight\n",
              "t = -9.0783, df = 9, p-value = 1\n",
              "alternative hypothesis: true mean is greater than 25\n",
              "95 percent confidence interval:\n",
              " 18.08895      Inf\n",
              "sample estimates:\n",
              "mean of x \n",
              "    19.25 \n"
            ]
          },
          "metadata": {}
        }
      ]
    },
    {
      "cell_type": "markdown",
      "source": [
        "Here, as the p-value is greater, we accept the H0 i.e., `mu <= 25`."
      ],
      "metadata": {
        "id": "D75hI3hKXIDd"
      }
    },
    {
      "cell_type": "markdown",
      "source": [
        "# Alternative of the **`t-test`** in non-parametric is **Wilcoxon Signed Rank Test**\n",
        "\n",
        "------\n",
        "Here, are assuming that our data was not normal."
      ],
      "metadata": {
        "id": "hSAQSKuVXjOn"
      }
    },
    {
      "cell_type": "code",
      "source": [
        "# one-sample Wilcoxon Signed Rank Test\n",
        "res = wilcox.test(my_data$weight, mu = 25)\n",
        "res"
      ],
      "metadata": {
        "colab": {
          "base_uri": "https://localhost:8080/",
          "height": 156
        },
        "id": "5awkh2XOVuXS",
        "outputId": "32e43e90-cfac-44dd-de78-d250ff05c15c"
      },
      "execution_count": 38,
      "outputs": [
        {
          "output_type": "stream",
          "name": "stderr",
          "text": [
            "Warning message in wilcox.test.default(my_data$weight, mu = 25):\n",
            "“cannot compute exact p-value with ties”\n"
          ]
        },
        {
          "output_type": "display_data",
          "data": {
            "text/plain": [
              "\n",
              "\tWilcoxon signed rank test with continuity correction\n",
              "\n",
              "data:  my_data$weight\n",
              "V = 0, p-value = 0.005793\n",
              "alternative hypothesis: true location is not equal to 25\n"
            ]
          },
          "metadata": {}
        }
      ]
    },
    {
      "cell_type": "markdown",
      "source": [
        "Comparing the mean of two-independent groups:\n",
        "\n",
        "`H0 : mean of two groups are equal`\n",
        "\n",
        "`H1 : mean of two groups are not equal`"
      ],
      "metadata": {
        "id": "S-qNHyIDYnS3"
      }
    },
    {
      "cell_type": "code",
      "source": [
        "# data in two numeric vectors\n",
        "women_weight = c(38.9, 61.2, 73.3, 21.8, 63.4, 64.6, 48.4, 48.5, 60.3)\n",
        "men_weight = c(67.8, 60, 63.4, 76, 89.4, 73.3, 67.3, 61.3, 62.4)"
      ],
      "metadata": {
        "id": "tx_baqk_Vuav"
      },
      "execution_count": 42,
      "outputs": []
    },
    {
      "cell_type": "code",
      "source": [
        "my_data = data.frame(\n",
        "  group = rep(c(\"Woman\",\"Man\"), each = 9),\n",
        "  weight = c(women_weight, men_weight)\n",
        ")\n",
        "my_data"
      ],
      "metadata": {
        "colab": {
          "base_uri": "https://localhost:8080/",
          "height": 679
        },
        "id": "Pzec3luVVudq",
        "outputId": "713b7632-8484-4e39-f966-b25fe6bdfe74"
      },
      "execution_count": 43,
      "outputs": [
        {
          "output_type": "display_data",
          "data": {
            "text/html": [
              "<table class=\"dataframe\">\n",
              "<caption>A data.frame: 18 × 2</caption>\n",
              "<thead>\n",
              "\t<tr><th scope=col>group</th><th scope=col>weight</th></tr>\n",
              "\t<tr><th scope=col>&lt;chr&gt;</th><th scope=col>&lt;dbl&gt;</th></tr>\n",
              "</thead>\n",
              "<tbody>\n",
              "\t<tr><td>Woman</td><td>38.9</td></tr>\n",
              "\t<tr><td>Woman</td><td>61.2</td></tr>\n",
              "\t<tr><td>Woman</td><td>73.3</td></tr>\n",
              "\t<tr><td>Woman</td><td>21.8</td></tr>\n",
              "\t<tr><td>Woman</td><td>63.4</td></tr>\n",
              "\t<tr><td>Woman</td><td>64.6</td></tr>\n",
              "\t<tr><td>Woman</td><td>48.4</td></tr>\n",
              "\t<tr><td>Woman</td><td>48.5</td></tr>\n",
              "\t<tr><td>Woman</td><td>60.3</td></tr>\n",
              "\t<tr><td>Man  </td><td>67.8</td></tr>\n",
              "\t<tr><td>Man  </td><td>60.0</td></tr>\n",
              "\t<tr><td>Man  </td><td>63.4</td></tr>\n",
              "\t<tr><td>Man  </td><td>76.0</td></tr>\n",
              "\t<tr><td>Man  </td><td>89.4</td></tr>\n",
              "\t<tr><td>Man  </td><td>73.3</td></tr>\n",
              "\t<tr><td>Man  </td><td>67.3</td></tr>\n",
              "\t<tr><td>Man  </td><td>61.3</td></tr>\n",
              "\t<tr><td>Man  </td><td>62.4</td></tr>\n",
              "</tbody>\n",
              "</table>\n"
            ],
            "text/markdown": "\nA data.frame: 18 × 2\n\n| group &lt;chr&gt; | weight &lt;dbl&gt; |\n|---|---|\n| Woman | 38.9 |\n| Woman | 61.2 |\n| Woman | 73.3 |\n| Woman | 21.8 |\n| Woman | 63.4 |\n| Woman | 64.6 |\n| Woman | 48.4 |\n| Woman | 48.5 |\n| Woman | 60.3 |\n| Man   | 67.8 |\n| Man   | 60.0 |\n| Man   | 63.4 |\n| Man   | 76.0 |\n| Man   | 89.4 |\n| Man   | 73.3 |\n| Man   | 67.3 |\n| Man   | 61.3 |\n| Man   | 62.4 |\n\n",
            "text/latex": "A data.frame: 18 × 2\n\\begin{tabular}{ll}\n group & weight\\\\\n <chr> & <dbl>\\\\\n\\hline\n\t Woman & 38.9\\\\\n\t Woman & 61.2\\\\\n\t Woman & 73.3\\\\\n\t Woman & 21.8\\\\\n\t Woman & 63.4\\\\\n\t Woman & 64.6\\\\\n\t Woman & 48.4\\\\\n\t Woman & 48.5\\\\\n\t Woman & 60.3\\\\\n\t Man   & 67.8\\\\\n\t Man   & 60.0\\\\\n\t Man   & 63.4\\\\\n\t Man   & 76.0\\\\\n\t Man   & 89.4\\\\\n\t Man   & 73.3\\\\\n\t Man   & 67.3\\\\\n\t Man   & 61.3\\\\\n\t Man   & 62.4\\\\\n\\end{tabular}\n",
            "text/plain": [
              "   group weight\n",
              "1  Woman 38.9  \n",
              "2  Woman 61.2  \n",
              "3  Woman 73.3  \n",
              "4  Woman 21.8  \n",
              "5  Woman 63.4  \n",
              "6  Woman 64.6  \n",
              "7  Woman 48.4  \n",
              "8  Woman 48.5  \n",
              "9  Woman 60.3  \n",
              "10 Man   67.8  \n",
              "11 Man   60.0  \n",
              "12 Man   63.4  \n",
              "13 Man   76.0  \n",
              "14 Man   89.4  \n",
              "15 Man   73.3  \n",
              "16 Man   67.3  \n",
              "17 Man   61.3  \n",
              "18 Man   62.4  "
            ]
          },
          "metadata": {}
        }
      ]
    },
    {
      "cell_type": "markdown",
      "source": [
        "`Assumption1:` Are the two samples independent?\n",
        "- Yes, since the samples are from men and women, they are not related. (If, it was related, we have to use `paired t-test`.)\n",
        "\n",
        "`Assumption2:` Checking `Normality`?\n",
        "- Shapiro-Wilk Normality test for Men's weights and Women's weights"
      ],
      "metadata": {
        "id": "lThuypWofSGM"
      }
    },
    {
      "cell_type": "code",
      "source": [
        "# Shapiro-Wilk Normality test for Men's weights\n",
        "with(my_data, shapiro.test(weight[group == \"Man\"]))"
      ],
      "metadata": {
        "colab": {
          "base_uri": "https://localhost:8080/",
          "height": 104
        },
        "id": "Ib1dhbOsVugp",
        "outputId": "80e5ea4a-95a2-41c2-a09e-d871656ab6cb"
      },
      "execution_count": 47,
      "outputs": [
        {
          "output_type": "display_data",
          "data": {
            "text/plain": [
              "\n",
              "\tShapiro-Wilk normality test\n",
              "\n",
              "data:  weight[group == \"Man\"]\n",
              "W = 0.86425, p-value = 0.1066\n"
            ]
          },
          "metadata": {}
        }
      ]
    },
    {
      "cell_type": "code",
      "source": [
        "# Shapiro-Wilk Normality test for Women's weights\n",
        "with(my_data, shapiro.test(weight[group == \"Woman\"]))"
      ],
      "metadata": {
        "colab": {
          "base_uri": "https://localhost:8080/",
          "height": 104
        },
        "id": "zcyE9mwBg4vT",
        "outputId": "913002d2-61e4-46ff-b796-1d0f58cf65d8"
      },
      "execution_count": 50,
      "outputs": [
        {
          "output_type": "display_data",
          "data": {
            "text/plain": [
              "\n",
              "\tShapiro-Wilk normality test\n",
              "\n",
              "data:  weight[group == \"Woman\"]\n",
              "W = 0.9229, p-value = 0.4168\n"
            ]
          },
          "metadata": {}
        }
      ]
    },
    {
      "cell_type": "markdown",
      "source": [
        "Again, since our p-values are greater than 0.05 in both groups we accept the H0 i.e., The data in both the groups follow normal distribution.\n",
        "\n",
        "\n",
        "------\n",
        "------\n",
        "\n",
        "\n",
        "`Assumption3 `: Do the two population have the same variences?\n",
        "\n",
        "- We'll use F-test to test for homogeneity in variances.\n",
        "\n",
        "`H0 : Ratio of variance is equal to 1`\n",
        "\n",
        "`H1 : Ratio of variance not equal to 1`"
      ],
      "metadata": {
        "id": "CmUuDLWjgrrP"
      }
    },
    {
      "cell_type": "code",
      "source": [
        "res_ftest = var.test(weight ~ group, data = my_data)\n",
        "res_ftest"
      ],
      "metadata": {
        "colab": {
          "base_uri": "https://localhost:8080/",
          "height": 208
        },
        "id": "1WnOrjNPT43P",
        "outputId": "416e8750-f0e7-4a3c-88ab-55c13a81ca04"
      },
      "execution_count": 51,
      "outputs": [
        {
          "output_type": "display_data",
          "data": {
            "text/plain": [
              "\n",
              "\tF test to compare two variances\n",
              "\n",
              "data:  weight by group\n",
              "F = 0.35377, num df = 8, denom df = 8, p-value = 0.163\n",
              "alternative hypothesis: true ratio of variances is not equal to 1\n",
              "95 percent confidence interval:\n",
              " 0.07979847 1.56834266\n",
              "sample estimates:\n",
              "ratio of variances \n",
              "         0.3537674 \n"
            ]
          },
          "metadata": {}
        }
      ]
    },
    {
      "cell_type": "markdown",
      "source": [
        "Again, we are accepting the null hypothesis of equality i.e., ratio of variance is equal to 1."
      ],
      "metadata": {
        "id": "ChO3fKQ4jPQP"
      }
    },
    {
      "cell_type": "markdown",
      "source": [
        "### Finally, as all our `3 assumptions` are clear. We can calculate our `t-test`."
      ],
      "metadata": {
        "id": "vMTIlylMjmT5"
      }
    },
    {
      "cell_type": "code",
      "source": [
        "# computing t-test\n",
        "res = t.test(women_weight, men_weight, var.equal = TRUE)\n",
        "res"
      ],
      "metadata": {
        "colab": {
          "base_uri": "https://localhost:8080/",
          "height": 208
        },
        "id": "Jh65FhLhJxIi",
        "outputId": "54326380-b616-40d0-ba51-2588283f39ad"
      },
      "execution_count": 52,
      "outputs": [
        {
          "output_type": "display_data",
          "data": {
            "text/plain": [
              "\n",
              "\tTwo Sample t-test\n",
              "\n",
              "data:  women_weight and men_weight\n",
              "t = -2.5536, df = 16, p-value = 0.02125\n",
              "alternative hypothesis: true difference in means is not equal to 0\n",
              "95 percent confidence interval:\n",
              " -28.57094  -2.65128\n",
              "sample estimates:\n",
              "mean of x mean of y \n",
              " 53.37778  68.98889 \n"
            ]
          },
          "metadata": {}
        }
      ]
    },
    {
      "cell_type": "markdown",
      "source": [
        "Here, the p-value < 0.05, so, we will reject the hypothesis of equality (H0) and conculde that there is significance difference in the weights of men and women."
      ],
      "metadata": {
        "id": "Psx5gC-dkbOG"
      }
    },
    {
      "cell_type": "markdown",
      "source": [
        "### To test whether the average men's weight is less than the average women's weight"
      ],
      "metadata": {
        "id": "8bq2dmA3k3lz"
      }
    },
    {
      "cell_type": "code",
      "source": [
        "# left-hand tailed test\n",
        "t.test(women_weight, men_weight, var.equal = TRUE,\n",
        "alternative = \"less\")"
      ],
      "metadata": {
        "colab": {
          "base_uri": "https://localhost:8080/",
          "height": 208
        },
        "id": "5bDRiX4KkSyX",
        "outputId": "76ed38ad-ca3c-441d-f606-ff194d09df86"
      },
      "execution_count": 54,
      "outputs": [
        {
          "output_type": "display_data",
          "data": {
            "text/plain": [
              "\n",
              "\tTwo Sample t-test\n",
              "\n",
              "data:  women_weight and men_weight\n",
              "t = -2.5536, df = 16, p-value = 0.01062\n",
              "alternative hypothesis: true difference in means is less than 0\n",
              "95 percent confidence interval:\n",
              "      -Inf -4.937824\n",
              "sample estimates:\n",
              "mean of x mean of y \n",
              " 53.37778  68.98889 \n"
            ]
          },
          "metadata": {}
        }
      ]
    },
    {
      "cell_type": "markdown",
      "source": [
        "# **Now:**\n",
        "**Unpaired `Two-Samples Wilcoxon Test`**\n",
        "- We want to know, if the median women's weight differs from the median men's weight."
      ],
      "metadata": {
        "id": "be_VZ6Uil3S_"
      }
    },
    {
      "cell_type": "code",
      "source": [
        "res = wilcox.test(women_weight, men_weight)\n",
        "res"
      ],
      "metadata": {
        "colab": {
          "base_uri": "https://localhost:8080/",
          "height": 156
        },
        "id": "kRNAxI4-l3vH",
        "outputId": "a457af41-6fb5-43ad-bfc4-88c6ae08b169"
      },
      "execution_count": 55,
      "outputs": [
        {
          "output_type": "stream",
          "name": "stderr",
          "text": [
            "Warning message in wilcox.test.default(women_weight, men_weight):\n",
            "“cannot compute exact p-value with ties”\n"
          ]
        },
        {
          "output_type": "display_data",
          "data": {
            "text/plain": [
              "\n",
              "\tWilcoxon rank sum test with continuity correction\n",
              "\n",
              "data:  women_weight and men_weight\n",
              "W = 16, p-value = 0.03388\n",
              "alternative hypothesis: true location shift is not equal to 0\n"
            ]
          },
          "metadata": {}
        }
      ]
    },
    {
      "cell_type": "markdown",
      "source": [
        "## In the practical applications, we generally use the mean so Wilcoxon test is used mostly even though there are many other non-parametric tests."
      ],
      "metadata": {
        "id": "8QpoBDuCmnjN"
      }
    }
  ]
}