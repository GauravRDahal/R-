{
  "nbformat": 4,
  "nbformat_minor": 0,
  "metadata": {
    "colab": {
      "provenance": []
    },
    "kernelspec": {
      "name": "ir",
      "display_name": "R"
    },
    "language_info": {
      "name": "R"
    }
  },
  "cells": [
    {
      "cell_type": "markdown",
      "source": [
        "### pt() computes the cumulative probability for data which has t-distribution."
      ],
      "metadata": {
        "id": "xx2Y5Gge8Co9"
      }
    },
    {
      "cell_type": "code",
      "source": [
        "pt(q = 1.65, df = 29) # to see t-value upto 1.65 with 29 degrees of freedom"
      ],
      "metadata": {
        "colab": {
          "base_uri": "https://localhost:8080/",
          "height": 34
        },
        "id": "qZVj4kVz8BNH",
        "outputId": "f7c97e7e-aa96-45cc-c1e5-71fc5a91583e"
      },
      "execution_count": 7,
      "outputs": [
        {
          "output_type": "display_data",
          "data": {
            "text/html": [
              "0.945132871562445"
            ],
            "text/markdown": "0.945132871562445",
            "text/latex": "0.945132871562445",
            "text/plain": [
              "[1] 0.9451329"
            ]
          },
          "metadata": {}
        }
      ]
    },
    {
      "cell_type": "markdown",
      "source": [
        "Therefore, 0.94 is the probability of observing the t-value."
      ],
      "metadata": {
        "id": "z26umKyR7zxQ"
      }
    },
    {
      "cell_type": "markdown",
      "source": [
        "### Example:  We take a sample of 28 items with sample mean = 30 and sample sd = 5. The sample comes from a population whose mean is 35. What are the chances we'll observe a sample mean of atmost 30?"
      ],
      "metadata": {
        "id": "oT9Qrek181Qn"
      }
    },
    {
      "cell_type": "code",
      "source": [
        "# here, p(x <= 30)\n",
        "# finding the t-value corresponding to the data value of 30.\n",
        "t_value = (30-35) / (5/sqrt(28))\n",
        "t_value"
      ],
      "metadata": {
        "colab": {
          "base_uri": "https://localhost:8080/",
          "height": 34
        },
        "id": "GEWkBl3h6m3K",
        "outputId": "38e41a90-9b73-4d67-8a27-253ea3a1f429"
      },
      "execution_count": 9,
      "outputs": [
        {
          "output_type": "display_data",
          "data": {
            "text/html": [
              "-5.29150262212918"
            ],
            "text/markdown": "-5.29150262212918",
            "text/latex": "-5.29150262212918",
            "text/plain": [
              "[1] -5.291503"
            ]
          },
          "metadata": {}
        }
      ]
    },
    {
      "cell_type": "code",
      "source": [
        "#P(X<=30) == P(t <= 5.2915) ecause this t-value corresponds to the data value of 30\n",
        "pt(q = -5.2915, df = 28 - 1)"
      ],
      "metadata": {
        "colab": {
          "base_uri": "https://localhost:8080/",
          "height": 34
        },
        "id": "gNt5dWju6m4V",
        "outputId": "16daf7a1-1b83-4b25-b941-ad7ee04d0276"
      },
      "execution_count": 13,
      "outputs": [
        {
          "output_type": "display_data",
          "data": {
            "text/html": [
              "6.96405076596059e-06"
            ],
            "text/markdown": "6.96405076596059e-06",
            "text/latex": "6.96405076596059e-06",
            "text/plain": [
              "[1] 6.964051e-06"
            ]
          },
          "metadata": {}
        }
      ]
    },
    {
      "cell_type": "markdown",
      "source": [
        "# Hypothesis test of a single sample mean using t-distribution"
      ],
      "metadata": {
        "id": "7mpH8stl-tEJ"
      }
    },
    {
      "cell_type": "code",
      "source": [
        "set.seed(100)\n",
        "x = rnorm(16, 2, 1) #data series of 16 points with mean 2 and sd 1\n",
        "mean(x)"
      ],
      "metadata": {
        "colab": {
          "base_uri": "https://localhost:8080/",
          "height": 34
        },
        "id": "fAhhccRA6m9K",
        "outputId": "5516bdb5-3377-4edc-9c4f-b6691484efcf"
      },
      "execution_count": 14,
      "outputs": [
        {
          "output_type": "display_data",
          "data": {
            "text/html": [
              "2.03992864406609"
            ],
            "text/markdown": "2.03992864406609",
            "text/latex": "2.03992864406609",
            "text/plain": [
              "[1] 2.039929"
            ]
          },
          "metadata": {}
        }
      ]
    },
    {
      "cell_type": "markdown",
      "source": [
        "For one tailed test:\n",
        "\n",
        "H0: Mean = 2\n",
        "\n",
        "\n",
        "H1: Mean > 2"
      ],
      "metadata": {
        "id": "8xIaWoxq_MSJ"
      }
    },
    {
      "cell_type": "code",
      "source": [
        "t.test(x, alternative = \"greater\", mu = 2)"
      ],
      "metadata": {
        "colab": {
          "base_uri": "https://localhost:8080/",
          "height": 208
        },
        "id": "d6dIvmZr6m-Q",
        "outputId": "57d5ae4c-239f-4a64-f60c-5caf5b5cca4e"
      },
      "execution_count": 16,
      "outputs": [
        {
          "output_type": "display_data",
          "data": {
            "text/plain": [
              "\n",
              "\tOne Sample t-test\n",
              "\n",
              "data:  x\n",
              "t = 0.33386, df = 15, p-value = 0.3716\n",
              "alternative hypothesis: true mean is greater than 2\n",
              "95 percent confidence interval:\n",
              " 1.830268      Inf\n",
              "sample estimates:\n",
              "mean of x \n",
              " 2.039929 \n"
            ]
          },
          "metadata": {}
        }
      ]
    },
    {
      "cell_type": "markdown",
      "source": [
        "Two tailed test\n",
        "\n",
        "H0: Mean =  2\n",
        "\n",
        "H1: Mean != 2\n",
        "\n",
        "\n",
        "\n"
      ],
      "metadata": {
        "id": "OIazIef3AFGo"
      }
    },
    {
      "cell_type": "code",
      "source": [
        "t.test(x, alternative = \"two.sided\", mu = 2)"
      ],
      "metadata": {
        "colab": {
          "base_uri": "https://localhost:8080/",
          "height": 208
        },
        "id": "lHOqFj_a6nC8",
        "outputId": "55d9bd01-851c-443a-bac1-577d6461793a"
      },
      "execution_count": 17,
      "outputs": [
        {
          "output_type": "display_data",
          "data": {
            "text/plain": [
              "\n",
              "\tOne Sample t-test\n",
              "\n",
              "data:  x\n",
              "t = 0.33386, df = 15, p-value = 0.7431\n",
              "alternative hypothesis: true mean is not equal to 2\n",
              "95 percent confidence interval:\n",
              " 1.785013 2.294845\n",
              "sample estimates:\n",
              "mean of x \n",
              " 2.039929 \n"
            ]
          },
          "metadata": {}
        }
      ]
    },
    {
      "cell_type": "markdown",
      "source": [
        "Here, we cannot reject the null hypothesis."
      ],
      "metadata": {
        "id": "2PwfCYUOA22E"
      }
    },
    {
      "cell_type": "markdown",
      "source": [
        "# Two sample t-test\n",
        "\n",
        "For two independent samples:"
      ],
      "metadata": {
        "id": "DPygr7k-BNz9"
      }
    },
    {
      "cell_type": "code",
      "source": [
        "x1 = rnorm(20, 2, 1)\n",
        "x2 = rnorm(20, 3, 1.5)"
      ],
      "metadata": {
        "id": "4GvsYNsO6nD4"
      },
      "execution_count": 18,
      "outputs": []
    },
    {
      "cell_type": "code",
      "source": [
        "mean(x1)\n",
        "mean(x2)"
      ],
      "metadata": {
        "colab": {
          "base_uri": "https://localhost:8080/",
          "height": 52
        },
        "id": "kW2wgh6m6nI4",
        "outputId": "227092ae-4613-49eb-d911-e6c5ba1ecdaa"
      },
      "execution_count": 19,
      "outputs": [
        {
          "output_type": "display_data",
          "data": {
            "text/html": [
              "2.03661956963494"
            ],
            "text/markdown": "2.03661956963494",
            "text/latex": "2.03661956963494",
            "text/plain": [
              "[1] 2.03662"
            ]
          },
          "metadata": {}
        },
        {
          "output_type": "display_data",
          "data": {
            "text/html": [
              "3.09775549507737"
            ],
            "text/markdown": "3.09775549507737",
            "text/latex": "3.09775549507737",
            "text/plain": [
              "[1] 3.097755"
            ]
          },
          "metadata": {}
        }
      ]
    },
    {
      "cell_type": "markdown",
      "source": [
        "Two sample hypothesis test:\n",
        "\n",
        "-----\n",
        "H0: Mean1 = Mean2 (Mean difference is zero)\n",
        "\n",
        "H1: Mean1 and Mean2 are different"
      ],
      "metadata": {
        "id": "UzaBnE1sBpqx"
      }
    },
    {
      "cell_type": "code",
      "source": [
        "t.test(x1,x2, alternative = \"two.sided\", mu = 0)"
      ],
      "metadata": {
        "colab": {
          "base_uri": "https://localhost:8080/",
          "height": 208
        },
        "id": "IHRODIs96nKP",
        "outputId": "9256b0e0-ba52-4fa4-a14d-6f6f82325868"
      },
      "execution_count": 20,
      "outputs": [
        {
          "output_type": "display_data",
          "data": {
            "text/plain": [
              "\n",
              "\tWelch Two Sample t-test\n",
              "\n",
              "data:  x1 and x2\n",
              "t = -2.3457, df = 27.264, p-value = 0.02651\n",
              "alternative hypothesis: true difference in means is not equal to 0\n",
              "95 percent confidence interval:\n",
              " -1.9889168 -0.1333551\n",
              "sample estimates:\n",
              "mean of x mean of y \n",
              " 2.036620  3.097755 \n"
            ]
          },
          "metadata": {}
        }
      ]
    },
    {
      "cell_type": "markdown",
      "source": [
        " Paired Sample t-test:\n",
        "\n",
        " --------\n",
        "\n",
        " H0: Mean1 = Mean2 (Mean difference is zero)\n",
        "\n",
        "H1: Mean1 and Mean2 are different"
      ],
      "metadata": {
        "id": "aZBlPWudDE9u"
      }
    },
    {
      "cell_type": "code",
      "source": [
        "t.test(x1, x2, alternative = \"two.sided\", mu = 2, paired = TRUE)"
      ],
      "metadata": {
        "colab": {
          "base_uri": "https://localhost:8080/",
          "height": 208
        },
        "id": "gzPIK9Mm6nOe",
        "outputId": "d9000dda-5b25-4344-8a34-b43a20c20f56"
      },
      "execution_count": 21,
      "outputs": [
        {
          "output_type": "display_data",
          "data": {
            "text/plain": [
              "\n",
              "\tPaired t-test\n",
              "\n",
              "data:  x1 and x2\n",
              "t = -6.832, df = 19, p-value = 1.606e-06\n",
              "alternative hypothesis: true mean difference is not equal to 2\n",
              "95 percent confidence interval:\n",
              " -1.9989396 -0.1233323\n",
              "sample estimates:\n",
              "mean difference \n",
              "      -1.061136 \n"
            ]
          },
          "metadata": {}
        }
      ]
    },
    {
      "cell_type": "markdown",
      "source": [
        "We can see that our p-value is very low (p-value<0.05). Therefore, we reject H0."
      ],
      "metadata": {
        "id": "2pRwIgAeDeEi"
      }
    }
  ]
}